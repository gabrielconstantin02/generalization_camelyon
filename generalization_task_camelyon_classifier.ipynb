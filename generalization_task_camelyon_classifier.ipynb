{
  "cells": [
    {
      "cell_type": "code",
      "source": [
        "# !pip install wilds"
      ],
      "metadata": {
        "id": "jbSfV818kVDW"
      },
      "execution_count": 4,
      "outputs": []
    },
    {
      "cell_type": "code",
      "execution_count": 5,
      "metadata": {
        "collapsed": true,
        "id": "2v8Jq3hYhofR"
      },
      "outputs": [],
      "source": [
        "from wilds import get_dataset\n",
        "from wilds.common.data_loaders import get_train_loader\n",
        "import torchvision.transforms as transforms\n",
        "import torchvision.models as models\n",
        "from wilds.common.data_loaders import get_eval_loader\n",
        "import torch\n",
        "from torch import nn\n",
        "from tqdm import tqdm"
      ]
    },
    {
      "cell_type": "code",
      "execution_count": 6,
      "outputs": [
        {
          "output_type": "stream",
          "name": "stdout",
          "text": [
            "Downloading dataset to data/camelyon17_v1.0...\n",
            "You can also download the dataset manually at https://wilds.stanford.edu/downloads.\n",
            "Downloading https://worksheets.codalab.org/rest/bundles/0xe45e15f39fb54e9d9e919556af67aabe/contents/blob/ to data/camelyon17_v1.0/archive.tar.gz\n"
          ]
        },
        {
          "output_type": "display_data",
          "data": {
            "text/plain": [
              "  0%|          | 0/10658709504 [00:00<?, ?Byte/s]"
            ],
            "application/vnd.jupyter.widget-view+json": {
              "version_major": 2,
              "version_minor": 0,
              "model_id": "5271f28188f846ca95aa7c4ce29511bc"
            }
          },
          "metadata": {}
        },
        {
          "output_type": "stream",
          "name": "stdout",
          "text": [
            "Extracting data/camelyon17_v1.0/archive.tar.gz to data/camelyon17_v1.0\n",
            "\n",
            "It took 43.46 minutes to download and uncompress the dataset.\n",
            "\n"
          ]
        }
      ],
      "source": [
        "# Load the full dataset, and download it if necessary\n",
        "dataset = get_dataset(dataset=\"camelyon17\", download=True)\n"
      ],
      "metadata": {
        "pycharm": {
          "name": "#%%\n"
        },
        "colab": {
          "base_uri": "https://localhost:8080/",
          "height": 196,
          "referenced_widgets": [
            "5271f28188f846ca95aa7c4ce29511bc",
            "55606c02d0b44d9da3961bdccdc65c5f",
            "bf50eda725cb44df89068dff40da334f",
            "a53713e1011247e0bbb83cd9fe5d2065",
            "b243b10762d04281b6eb017830c339c6",
            "14ecc7c9378f447286bbfb4f3da8eb5d",
            "408018bfd1ea43e5b4c7fa9b228dfe9a",
            "cc7593ca242c4e1c879a60549852f049",
            "be3e5ed121144fd483e667cfa80da1e1",
            "212af09010d54845b82ef34dcfb0e47f",
            "a18e9794b74946d88e51785fad3d496f"
          ]
        },
        "id": "9ovJ8k49hofV",
        "outputId": "5563e248-43d4-4b63-d6a3-7550e793d57c"
      }
    },
    {
      "cell_type": "code",
      "execution_count": 7,
      "outputs": [
        {
          "output_type": "stream",
          "name": "stdout",
          "text": [
            "60487\n"
          ]
        },
        {
          "output_type": "execute_result",
          "data": {
            "text/plain": [
              "'\\n# Train loop\\nfor labeled_batch, unlabeled_batch in zip(train_loader, unlabeled_loader):\\n    x, y, metadata = labeled_batch\\n    unlabeled_x, unlabeled_metadata = unlabeled_batch\\n    ...\\n'"
            ],
            "application/vnd.google.colaboratory.intrinsic+json": {
              "type": "string"
            }
          },
          "metadata": {},
          "execution_count": 7
        }
      ],
      "source": [
        "BATCH_SIZE = 32\n",
        "FRACTION = 0.2\n",
        "\n",
        "# Get the training set\n",
        "train_data = dataset.get_subset(\n",
        "    \"train\",\n",
        "    frac = FRACTION,\n",
        "    transform=transforms.Compose(\n",
        "        [\n",
        "         transforms.ToTensor(),\n",
        "         transforms.Normalize(mean=[0.485, 0.456, 0.406],\n",
        "                        std=[0.229, 0.224, 0.225])]\n",
        "    ),\n",
        ")\n",
        "\n",
        "print(len(train_data)) #302436 initially\n",
        "# Prepare the standard data loader\n",
        "train_loader = get_train_loader(\"standard\", train_data, batch_size=BATCH_SIZE)\n",
        "\n",
        "\"\"\"\n",
        "# (Optional) Load unlabeled data\n",
        "dataset = get_dataset(dataset=\"camelyon17\", download=True, unlabeled=True)\n",
        "unlabeled_data = dataset.get_subset(\n",
        "    \"test_unlabeled\",\n",
        "    transform=transforms.Compose(\n",
        "        [transforms.Resize((448, 448)), transforms.ToTensor()]\n",
        "    ),\n",
        ")\n",
        "unlabeled_loader = get_train_loader(\"standard\", unlabeled_data, batch_size=16)\n",
        "\"\"\"\n",
        "\"\"\"\n",
        "# Train loop\n",
        "for labeled_batch, unlabeled_batch in zip(train_loader, unlabeled_loader):\n",
        "    x, y, metadata = labeled_batch\n",
        "    unlabeled_x, unlabeled_metadata = unlabeled_batch\n",
        "    ...\n",
        "\"\"\""
      ],
      "metadata": {
        "pycharm": {
          "name": "#%%\n"
        },
        "colab": {
          "base_uri": "https://localhost:8080/",
          "height": 72
        },
        "id": "idPjNiuQhofV",
        "outputId": "8fb33e2b-39ac-4bac-f6ed-fcd2101730e5"
      }
    },
    {
      "cell_type": "code",
      "execution_count": 8,
      "outputs": [
        {
          "output_type": "stream",
          "name": "stdout",
          "text": [
            "6712\n"
          ]
        }
      ],
      "source": [
        "# Get the test set\n",
        "id_val_data = dataset.get_subset(\n",
        "    \"id_val\",\n",
        "    frac = FRACTION,\n",
        "    transform=transforms.Compose(\n",
        "        [\n",
        "         transforms.ToTensor(),\n",
        "         transforms.Normalize(mean=[0.485, 0.456, 0.406],\n",
        "                        std=[0.229, 0.224, 0.225])]\n",
        "    ),\n",
        ")\n",
        "\n",
        "print(len(id_val_data))\n",
        "\n",
        "# Prepare the evaluation data loader\n",
        "id_val_loader = get_eval_loader(\"standard\", id_val_data, batch_size=BATCH_SIZE)\n"
      ],
      "metadata": {
        "pycharm": {
          "name": "#%%\n"
        },
        "colab": {
          "base_uri": "https://localhost:8080/"
        },
        "id": "-KXocT0mhofX",
        "outputId": "11446511-84b4-4ff5-b773-f5dab1c510da"
      }
    },
    {
      "cell_type": "code",
      "execution_count": 9,
      "outputs": [
        {
          "output_type": "stream",
          "name": "stdout",
          "text": [
            "6981\n"
          ]
        }
      ],
      "source": [
        "# Get the test set\n",
        "val_data = dataset.get_subset(\n",
        "    \"val\",\n",
        "    frac = FRACTION,\n",
        "    transform=transforms.Compose(\n",
        "        [\n",
        "         transforms.ToTensor(),\n",
        "         transforms.Normalize(mean=[0.485, 0.456, 0.406],\n",
        "                        std=[0.229, 0.224, 0.225])]\n",
        "    ),\n",
        ")\n",
        "\n",
        "print(len(val_data))\n",
        "\n",
        "# Prepare the evaluation data loader\n",
        "val_loader = get_eval_loader(\"standard\", val_data, batch_size=BATCH_SIZE)"
      ],
      "metadata": {
        "pycharm": {
          "name": "#%%\n"
        },
        "colab": {
          "base_uri": "https://localhost:8080/"
        },
        "id": "7825GiE2hofX",
        "outputId": "487f8429-7223-40c2-be97-bdb24c50669c"
      }
    },
    {
      "cell_type": "code",
      "source": [
        "# Get the test set\n",
        "test_data = dataset.get_subset(\n",
        "    \"test\",\n",
        "    frac = FRACTION,\n",
        "    transform=transforms.Compose(\n",
        "        [\n",
        "         transforms.ToTensor(),\n",
        "         transforms.Normalize(mean=[0.485, 0.456, 0.406],\n",
        "                        std=[0.229, 0.224, 0.225])]\n",
        "    ),\n",
        ")\n",
        "\n",
        "print(len(test_data))\n",
        "\n",
        "# Prepare the evaluation data loader\n",
        "test_loader = get_eval_loader(\"standard\", test_data, batch_size=BATCH_SIZE)"
      ],
      "metadata": {
        "colab": {
          "base_uri": "https://localhost:8080/"
        },
        "id": "NXa_rPBB1mfI",
        "outputId": "eb9260b2-3ef5-480d-d77e-a0e147afd31e"
      },
      "execution_count": 27,
      "outputs": [
        {
          "output_type": "stream",
          "name": "stdout",
          "text": [
            "17011\n"
          ]
        }
      ]
    },
    {
      "cell_type": "code",
      "execution_count": 11,
      "outputs": [
        {
          "output_type": "stream",
          "name": "stderr",
          "text": [
            "Downloading: \"https://download.pytorch.org/models/resnet18-f37072fd.pth\" to /root/.cache/torch/hub/checkpoints/resnet18-f37072fd.pth\n"
          ]
        },
        {
          "output_type": "display_data",
          "data": {
            "text/plain": [
              "  0%|          | 0.00/44.7M [00:00<?, ?B/s]"
            ],
            "application/vnd.jupyter.widget-view+json": {
              "version_major": 2,
              "version_minor": 0,
              "model_id": "eedd1afdab5e47fd94d7cf9175eb5709"
            }
          },
          "metadata": {}
        },
        {
          "output_type": "stream",
          "name": "stdout",
          "text": [
            "Model's parameters: \n",
            "\t conv1.weight :  torch.Size([64, 3, 7, 7])\n",
            "\t bn1.weight :  torch.Size([64])\n",
            "\t bn1.bias :  torch.Size([64])\n",
            "\t layer1.0.conv1.weight :  torch.Size([64, 64, 3, 3])\n",
            "\t layer1.0.bn1.weight :  torch.Size([64])\n",
            "\t layer1.0.bn1.bias :  torch.Size([64])\n",
            "\t layer1.0.conv2.weight :  torch.Size([64, 64, 3, 3])\n",
            "\t layer1.0.bn2.weight :  torch.Size([64])\n",
            "\t layer1.0.bn2.bias :  torch.Size([64])\n",
            "\t layer1.1.conv1.weight :  torch.Size([64, 64, 3, 3])\n",
            "\t layer1.1.bn1.weight :  torch.Size([64])\n",
            "\t layer1.1.bn1.bias :  torch.Size([64])\n",
            "\t layer1.1.conv2.weight :  torch.Size([64, 64, 3, 3])\n",
            "\t layer1.1.bn2.weight :  torch.Size([64])\n",
            "\t layer1.1.bn2.bias :  torch.Size([64])\n",
            "\t layer2.0.conv1.weight :  torch.Size([128, 64, 3, 3])\n",
            "\t layer2.0.bn1.weight :  torch.Size([128])\n",
            "\t layer2.0.bn1.bias :  torch.Size([128])\n",
            "\t layer2.0.conv2.weight :  torch.Size([128, 128, 3, 3])\n",
            "\t layer2.0.bn2.weight :  torch.Size([128])\n",
            "\t layer2.0.bn2.bias :  torch.Size([128])\n",
            "\t layer2.0.downsample.0.weight :  torch.Size([128, 64, 1, 1])\n",
            "\t layer2.0.downsample.1.weight :  torch.Size([128])\n",
            "\t layer2.0.downsample.1.bias :  torch.Size([128])\n",
            "\t layer2.1.conv1.weight :  torch.Size([128, 128, 3, 3])\n",
            "\t layer2.1.bn1.weight :  torch.Size([128])\n",
            "\t layer2.1.bn1.bias :  torch.Size([128])\n",
            "\t layer2.1.conv2.weight :  torch.Size([128, 128, 3, 3])\n",
            "\t layer2.1.bn2.weight :  torch.Size([128])\n",
            "\t layer2.1.bn2.bias :  torch.Size([128])\n",
            "\t layer3.0.conv1.weight :  torch.Size([256, 128, 3, 3])\n",
            "\t layer3.0.bn1.weight :  torch.Size([256])\n",
            "\t layer3.0.bn1.bias :  torch.Size([256])\n",
            "\t layer3.0.conv2.weight :  torch.Size([256, 256, 3, 3])\n",
            "\t layer3.0.bn2.weight :  torch.Size([256])\n",
            "\t layer3.0.bn2.bias :  torch.Size([256])\n",
            "\t layer3.0.downsample.0.weight :  torch.Size([256, 128, 1, 1])\n",
            "\t layer3.0.downsample.1.weight :  torch.Size([256])\n",
            "\t layer3.0.downsample.1.bias :  torch.Size([256])\n",
            "\t layer3.1.conv1.weight :  torch.Size([256, 256, 3, 3])\n",
            "\t layer3.1.bn1.weight :  torch.Size([256])\n",
            "\t layer3.1.bn1.bias :  torch.Size([256])\n",
            "\t layer3.1.conv2.weight :  torch.Size([256, 256, 3, 3])\n",
            "\t layer3.1.bn2.weight :  torch.Size([256])\n",
            "\t layer3.1.bn2.bias :  torch.Size([256])\n",
            "\t layer4.0.conv1.weight :  torch.Size([512, 256, 3, 3])\n",
            "\t layer4.0.bn1.weight :  torch.Size([512])\n",
            "\t layer4.0.bn1.bias :  torch.Size([512])\n",
            "\t layer4.0.conv2.weight :  torch.Size([512, 512, 3, 3])\n",
            "\t layer4.0.bn2.weight :  torch.Size([512])\n",
            "\t layer4.0.bn2.bias :  torch.Size([512])\n",
            "\t layer4.0.downsample.0.weight :  torch.Size([512, 256, 1, 1])\n",
            "\t layer4.0.downsample.1.weight :  torch.Size([512])\n",
            "\t layer4.0.downsample.1.bias :  torch.Size([512])\n",
            "\t layer4.1.conv1.weight :  torch.Size([512, 512, 3, 3])\n",
            "\t layer4.1.bn1.weight :  torch.Size([512])\n",
            "\t layer4.1.bn1.bias :  torch.Size([512])\n",
            "\t layer4.1.conv2.weight :  torch.Size([512, 512, 3, 3])\n",
            "\t layer4.1.bn2.weight :  torch.Size([512])\n",
            "\t layer4.1.bn2.bias :  torch.Size([512])\n",
            "\t fc.weight :  torch.Size([1000, 512])\n",
            "\t fc.bias :  torch.Size([1000])\n",
            "Number of model parameters:  11689512\n"
          ]
        },
        {
          "output_type": "execute_result",
          "data": {
            "text/plain": [
              "'\\nformula [(W−K+2P)/S]+1.\\n\\nW is the input volume\\nK is the Kernel size\\nP is the padding\\nS is the stride\\n\\n'"
            ],
            "application/vnd.google.colaboratory.intrinsic+json": {
              "type": "string"
            }
          },
          "metadata": {},
          "execution_count": 11
        }
      ],
      "source": [
        "\n",
        "# load the ResNet-18 model, with weights pretrained on ImageNet\n",
        "resnet18_pretrained = models.resnet18(pretrained=True)\n",
        "\n",
        "num_params = 0\n",
        "print(\"Model's parameters: \")\n",
        "for n, p in resnet18_pretrained.named_parameters():\n",
        "    print('\\t', n, ': ', p.size())\n",
        "    num_params += p.numel()\n",
        "print(\"Number of model parameters: \", num_params)\n",
        "\n",
        "\"\"\"\n",
        "formula [(W−K+2P)/S]+1.\n",
        "\n",
        "W is the input volume\n",
        "K is the Kernel size\n",
        "P is the padding\n",
        "S is the stride\n",
        "\n",
        "\"\"\""
      ],
      "metadata": {
        "pycharm": {
          "name": "#%%\n"
        },
        "colab": {
          "base_uri": "https://localhost:8080/",
          "height": 1000,
          "referenced_widgets": [
            "eedd1afdab5e47fd94d7cf9175eb5709",
            "7eb733cfbe4846c8ad0e49bc0f6d4d80",
            "54db1c37394747c1919d57d04da6400c",
            "07f55c6d676e47658e591c6b1ce6fdfb",
            "e514d4600bee4d5a8bfc453b00d25c26",
            "977929688602461daa320938ec84f6a2",
            "e43b0362cef340898ae557df2c919aed",
            "d6a2dba0ad6842619d44cb446e27a4dc",
            "8f1b7c93ef4b4f1d94a863011c3301cc",
            "de10d6420ad44bb79d8c0c15e6036937",
            "e6f5fe0ea24f4bcd8eab98ff2cd8e2bb"
          ]
        },
        "id": "RaNKmMPUhofY",
        "outputId": "a1114355-1262-427f-ad68-a50d52a25ac5"
      }
    },
    {
      "cell_type": "code",
      "execution_count": 12,
      "outputs": [],
      "source": [
        "# function counting the number of parameters and the number of trainable parameters of a model\n",
        "# optionally, it will also display the layers\n",
        "def check_model_parameters(model, display_layers=False):\n",
        "  num_params = 0\n",
        "  num_trainable_params = 0\n",
        "  if display_layers==True:\n",
        "    print(\"Model's parameters: \")\n",
        "  for n, p in model.named_parameters():\n",
        "      if display_layers == True:\n",
        "        print('\\t', n, ': ', p.size())\n",
        "      num_params += p.numel()\n",
        "      if p.requires_grad:\n",
        "        num_trainable_params += p.numel()\n",
        "  print(\"Number of model parameters: \", num_params)\n",
        "  print(\"Number of trainable parameters: \", num_trainable_params)"
      ],
      "metadata": {
        "pycharm": {
          "name": "#%%\n"
        },
        "id": "X-SlJVZkhofZ"
      }
    },
    {
      "cell_type": "code",
      "execution_count": 13,
      "outputs": [
        {
          "output_type": "stream",
          "name": "stdout",
          "text": [
            "Number of model parameters:  11689512\n",
            "Number of trainable parameters:  11689512\n",
            "Number of model parameters:  11689512\n",
            "Number of trainable parameters:  0\n"
          ]
        }
      ],
      "source": [
        "# freeze the model parameters\n",
        "\n",
        "# check the number of parameters and the number of trainable parameters\n",
        "check_model_parameters(resnet18_pretrained, display_layers=False)\n",
        "\n",
        "# freeze all the layers\n",
        "for param in resnet18_pretrained.parameters():\n",
        "  param.requires_grad = False\n",
        "\n",
        "# check the number of parameters and the number of trainable parameters\n",
        "check_model_parameters(resnet18_pretrained, display_layers=False)"
      ],
      "metadata": {
        "pycharm": {
          "name": "#%%\n"
        },
        "colab": {
          "base_uri": "https://localhost:8080/"
        },
        "id": "sPIE8Xd3hofa",
        "outputId": "4f526198-9eef-4a43-a3cf-5a2cdd266e3a"
      }
    },
    {
      "cell_type": "code",
      "execution_count": 14,
      "outputs": [],
      "source": [
        "device = torch.device('cuda' if torch.cuda.is_available() else 'cpu')\n",
        "num_epochs = 5"
      ],
      "metadata": {
        "pycharm": {
          "name": "#%%\n"
        },
        "id": "S8TUohu7hofa"
      }
    },
    {
      "cell_type": "code",
      "execution_count": 15,
      "outputs": [
        {
          "output_type": "stream",
          "name": "stdout",
          "text": [
            "Model's parameters: \n",
            "\t conv1.weight :  torch.Size([64, 3, 7, 7])\n",
            "\t bn1.weight :  torch.Size([64])\n",
            "\t bn1.bias :  torch.Size([64])\n",
            "\t layer1.0.conv1.weight :  torch.Size([64, 64, 3, 3])\n",
            "\t layer1.0.bn1.weight :  torch.Size([64])\n",
            "\t layer1.0.bn1.bias :  torch.Size([64])\n",
            "\t layer1.0.conv2.weight :  torch.Size([64, 64, 3, 3])\n",
            "\t layer1.0.bn2.weight :  torch.Size([64])\n",
            "\t layer1.0.bn2.bias :  torch.Size([64])\n",
            "\t layer1.1.conv1.weight :  torch.Size([64, 64, 3, 3])\n",
            "\t layer1.1.bn1.weight :  torch.Size([64])\n",
            "\t layer1.1.bn1.bias :  torch.Size([64])\n",
            "\t layer1.1.conv2.weight :  torch.Size([64, 64, 3, 3])\n",
            "\t layer1.1.bn2.weight :  torch.Size([64])\n",
            "\t layer1.1.bn2.bias :  torch.Size([64])\n",
            "\t layer2.0.conv1.weight :  torch.Size([128, 64, 3, 3])\n",
            "\t layer2.0.bn1.weight :  torch.Size([128])\n",
            "\t layer2.0.bn1.bias :  torch.Size([128])\n",
            "\t layer2.0.conv2.weight :  torch.Size([128, 128, 3, 3])\n",
            "\t layer2.0.bn2.weight :  torch.Size([128])\n",
            "\t layer2.0.bn2.bias :  torch.Size([128])\n",
            "\t layer2.0.downsample.0.weight :  torch.Size([128, 64, 1, 1])\n",
            "\t layer2.0.downsample.1.weight :  torch.Size([128])\n",
            "\t layer2.0.downsample.1.bias :  torch.Size([128])\n",
            "\t layer2.1.conv1.weight :  torch.Size([128, 128, 3, 3])\n",
            "\t layer2.1.bn1.weight :  torch.Size([128])\n",
            "\t layer2.1.bn1.bias :  torch.Size([128])\n",
            "\t layer2.1.conv2.weight :  torch.Size([128, 128, 3, 3])\n",
            "\t layer2.1.bn2.weight :  torch.Size([128])\n",
            "\t layer2.1.bn2.bias :  torch.Size([128])\n",
            "\t layer3.0.conv1.weight :  torch.Size([256, 128, 3, 3])\n",
            "\t layer3.0.bn1.weight :  torch.Size([256])\n",
            "\t layer3.0.bn1.bias :  torch.Size([256])\n",
            "\t layer3.0.conv2.weight :  torch.Size([256, 256, 3, 3])\n",
            "\t layer3.0.bn2.weight :  torch.Size([256])\n",
            "\t layer3.0.bn2.bias :  torch.Size([256])\n",
            "\t layer3.0.downsample.0.weight :  torch.Size([256, 128, 1, 1])\n",
            "\t layer3.0.downsample.1.weight :  torch.Size([256])\n",
            "\t layer3.0.downsample.1.bias :  torch.Size([256])\n",
            "\t layer3.1.conv1.weight :  torch.Size([256, 256, 3, 3])\n",
            "\t layer3.1.bn1.weight :  torch.Size([256])\n",
            "\t layer3.1.bn1.bias :  torch.Size([256])\n",
            "\t layer3.1.conv2.weight :  torch.Size([256, 256, 3, 3])\n",
            "\t layer3.1.bn2.weight :  torch.Size([256])\n",
            "\t layer3.1.bn2.bias :  torch.Size([256])\n",
            "\t layer4.0.conv1.weight :  torch.Size([512, 256, 3, 3])\n",
            "\t layer4.0.bn1.weight :  torch.Size([512])\n",
            "\t layer4.0.bn1.bias :  torch.Size([512])\n",
            "\t layer4.0.conv2.weight :  torch.Size([512, 512, 3, 3])\n",
            "\t layer4.0.bn2.weight :  torch.Size([512])\n",
            "\t layer4.0.bn2.bias :  torch.Size([512])\n",
            "\t layer4.0.downsample.0.weight :  torch.Size([512, 256, 1, 1])\n",
            "\t layer4.0.downsample.1.weight :  torch.Size([512])\n",
            "\t layer4.0.downsample.1.bias :  torch.Size([512])\n",
            "\t layer4.1.conv1.weight :  torch.Size([512, 512, 3, 3])\n",
            "\t layer4.1.bn1.weight :  torch.Size([512])\n",
            "\t layer4.1.bn1.bias :  torch.Size([512])\n",
            "\t layer4.1.conv2.weight :  torch.Size([512, 512, 3, 3])\n",
            "\t layer4.1.bn2.weight :  torch.Size([512])\n",
            "\t layer4.1.bn2.bias :  torch.Size([512])\n",
            "\t fc.weight :  torch.Size([2, 512])\n",
            "\t fc.bias :  torch.Size([2])\n",
            "Number of model parameters:  11177538\n",
            "Number of trainable parameters:  1026\n"
          ]
        }
      ],
      "source": [
        "\n",
        "resnet18_pretrained.fc = nn.Linear(in_features=512, out_features=2, bias=True)\n",
        "\n",
        "check_model_parameters(resnet18_pretrained, display_layers=True)"
      ],
      "metadata": {
        "pycharm": {
          "name": "#%%\n"
        },
        "colab": {
          "base_uri": "https://localhost:8080/"
        },
        "id": "k1muosu4hofb",
        "outputId": "06141e09-5dba-45d0-806d-c2c768d4522c"
      }
    },
    {
      "cell_type": "code",
      "execution_count": 16,
      "outputs": [],
      "source": [
        "def train_epoch(model, train_dataloader, loss_crt, optimizer, device):\n",
        "    \"\"\"\n",
        "    model: Model object\n",
        "    train_dataloader: DataLoader over the training dataset\n",
        "    loss_crt: loss function object\n",
        "    optimizer: Optimizer object\n",
        "    device: torch.device('cpu) or torch.device('cuda')\n",
        "\n",
        "    The function returns:\n",
        "     - the epoch training loss, which is an average over the individual batch\n",
        "       losses\n",
        "    \"\"\"\n",
        "    model.train()\n",
        "    epoch_loss = 0.0\n",
        "    epoch_accuracy = 0.0\n",
        "    num_batches = len(train_dataloader)\n",
        "    for batch_idx, batch in tqdm(enumerate(train_dataloader)):\n",
        "        # shape: batch_size x 1 x 28 x 28, batch_size x 1\n",
        "        # print(\"Train\")\n",
        "        # print(batch)\n",
        "        batch_img, batch_labels, _ = batch\n",
        "        # move data to GPU\n",
        "        batch_img = batch_img.to(device)\n",
        "        batch_labels = batch_labels.to(device)\n",
        "\n",
        "        # initialize as zeros all the gradients of the model\n",
        "        model.zero_grad()\n",
        "\n",
        "        # get predictions from the FORWARD pass\n",
        "        # shape: batch_size x 10\n",
        "        output = model(batch_img)\n",
        "\n",
        "        loss = loss_crt(output, batch_labels.squeeze())\n",
        "        loss_scalar = loss.item()\n",
        "\n",
        "        # BACKPROPAGATE the gradients\n",
        "        loss.backward()\n",
        "        # use the gradients to OPTIMISE the model\n",
        "        optimizer.step()\n",
        "\n",
        "        epoch_loss += loss_scalar\n",
        "\n",
        "        pred = output.argmax(dim=1, keepdim=True)\n",
        "        epoch_accuracy += pred.eq(batch_labels.view_as(pred)).float().mean().item()\n",
        "\n",
        "    epoch_loss = epoch_loss/num_batches\n",
        "    epoch_accuracy = 100. * epoch_accuracy/num_batches\n",
        "    return epoch_loss, epoch_accuracy\n",
        "\n",
        "def eval_epoch(model, val_dataloader, loss_crt, device):\n",
        "    \"\"\"\n",
        "    model: Model object\n",
        "    val_dataloader: DataLoader over the validation dataset\n",
        "    loss_crt: loss function object\n",
        "    device: torch.device('cpu) or torch.device('cuda')\n",
        "\n",
        "    The function returns:\n",
        "     - the epoch validation loss, which is an average over the individual batch\n",
        "       losses\n",
        "    \"\"\"\n",
        "    model.eval()\n",
        "    epoch_loss = 0.0\n",
        "    epoch_accuracy = 0.0\n",
        "    num_batches = len(val_dataloader)\n",
        "    with torch.no_grad():\n",
        "        for batch_idx, batch in tqdm(enumerate(val_dataloader)):\n",
        "            # print(\"Eval\")\n",
        "            # print(batch)\n",
        "            # shape: batch_size x 3 x 28 x 28, batch_size x 1\n",
        "            batch_img, batch_labels, _ = batch\n",
        "            current_batch_size = batch_img.size(0)\n",
        "\n",
        "            # move data to GPU\n",
        "            batch_img = batch_img.to(device)\n",
        "            batch_labels = batch_labels.to(device)\n",
        "\n",
        "            # batch_size x 10\n",
        "            output = model(batch_img)\n",
        "\n",
        "            loss = loss_crt(output, batch_labels.squeeze())\n",
        "            loss_scalar = loss.item()\n",
        "\n",
        "            epoch_loss += loss_scalar\n",
        "\n",
        "            pred = output.argmax(dim=1, keepdim=True)\n",
        "            epoch_accuracy += pred.eq(batch_labels.view_as(pred)).float().mean().item()\n",
        "\n",
        "    epoch_loss = epoch_loss/num_batches\n",
        "    epoch_accuracy = 100. * epoch_accuracy/num_batches\n",
        "    return epoch_loss, epoch_accuracy"
      ],
      "metadata": {
        "pycharm": {
          "name": "#%%\n"
        },
        "id": "FgkgJVFXhofb"
      }
    },
    {
      "cell_type": "code",
      "execution_count": 17,
      "outputs": [
        {
          "output_type": "stream",
          "name": "stderr",
          "text": [
            "1891it [02:49, 11.18it/s]\n",
            "210it [00:16, 12.36it/s]\n"
          ]
        },
        {
          "output_type": "stream",
          "name": "stdout",
          "text": [
            "\n",
            "Epoch 1\n",
            "train loss: 0.53807365, accuracy: 86.91333950\n",
            "id_val loss: 0.40365150, accuracy: 91.33928571\n"
          ]
        },
        {
          "output_type": "stream",
          "name": "stderr",
          "text": [
            "1891it [01:48, 17.38it/s]\n",
            "210it [00:10, 20.39it/s]\n"
          ]
        },
        {
          "output_type": "stream",
          "name": "stdout",
          "text": [
            "\n",
            "Epoch 2\n",
            "train loss: 0.57412050, accuracy: 87.37511332\n",
            "id_val loss: 0.54578753, accuracy: 89.42956351\n"
          ]
        },
        {
          "output_type": "stream",
          "name": "stderr",
          "text": [
            "1891it [01:35, 19.85it/s]\n",
            "210it [00:10, 20.26it/s]\n"
          ]
        },
        {
          "output_type": "stream",
          "name": "stdout",
          "text": [
            "\n",
            "Epoch 3\n",
            "train loss: 0.55083623, accuracy: 87.34300635\n",
            "id_val loss: 0.47509170, accuracy: 90.91765875\n"
          ]
        },
        {
          "output_type": "stream",
          "name": "stderr",
          "text": [
            "1891it [01:36, 19.69it/s]\n",
            "210it [00:11, 18.65it/s]\n"
          ]
        },
        {
          "output_type": "stream",
          "name": "stdout",
          "text": [
            "\n",
            "Epoch 4\n",
            "train loss: 0.52754328, accuracy: 87.52809360\n",
            "id_val loss: 0.84469664, accuracy: 81.07142857\n"
          ]
        },
        {
          "output_type": "stream",
          "name": "stderr",
          "text": [
            "1891it [01:35, 19.71it/s]\n",
            "210it [00:10, 20.48it/s]"
          ]
        },
        {
          "output_type": "stream",
          "name": "stdout",
          "text": [
            "\n",
            "Epoch 5\n",
            "train loss: 0.53344837, accuracy: 87.37251643\n",
            "id_val loss: 0.57009999, accuracy: 89.49404762\n"
          ]
        },
        {
          "output_type": "stream",
          "name": "stderr",
          "text": [
            "\n"
          ]
        }
      ],
      "source": [
        "resnet18_pretrained.to(device)\n",
        "\n",
        "# create a SGD optimizer\n",
        "optimizer = torch.optim.SGD(resnet18_pretrained.parameters(), lr=0.01, momentum=0.9)\n",
        "\n",
        "# set up loss function\n",
        "loss_criterion = nn.CrossEntropyLoss()\n",
        "\n",
        "# evaluate the initial model\n",
        "# val_loss, al_accuracy = eval_epoch(resnet18_pretrained, id_val_loader, loss_criterion, device)\n",
        "# print('Validation performance before finetuning -- loss: %10.8f, accuracy: %10.8f'%(val_loss, val_accuracy))\n",
        "\n",
        "# finetune the model\n",
        "train_losses = []\n",
        "train_accuracies = []\n",
        "id_val_losses = []\n",
        "id_val_accuracies = []\n",
        "for epoch in range(1, num_epochs+1):\n",
        "  train_loss, train_accuracy = train_epoch(resnet18_pretrained, train_loader, loss_criterion, optimizer, device)\n",
        "  val_loss, val_accuracy = eval_epoch(resnet18_pretrained, id_val_loader, loss_criterion, device)\n",
        "  train_losses.append(train_loss)\n",
        "  id_val_losses.append(val_loss)\n",
        "  train_accuracies.append(train_accuracy)\n",
        "  id_val_accuracies.append(val_accuracy)\n",
        "  print('\\nEpoch %d'%(epoch))\n",
        "  print('train loss: %10.8f, accuracy: %10.8f'%(train_loss, train_accuracy))\n",
        "  print('id_val loss: %10.8f, accuracy: %10.8f'%(val_loss, val_accuracy))"
      ],
      "metadata": {
        "pycharm": {
          "name": "#%%\n"
        },
        "colab": {
          "base_uri": "https://localhost:8080/"
        },
        "id": "daJBzTCNhofc",
        "outputId": "5f589e21-8d12-42b4-f8d0-bf84dae65a3f"
      }
    },
    {
      "cell_type": "code",
      "source": [
        "def run_eval_ood(model, loader, loss_criterion, device, eval_type):\n",
        "  losses = []\n",
        "  accuracies = []\n",
        "\n",
        "  loss, accuracy = eval_epoch(model, loader, loss_criterion, device)\n",
        "  losses.append(loss)\n",
        "  accuracies.append(accuracy)\n",
        "  print(eval_type + ' loss: %10.8f, accuracy: %10.8f'%(loss, accuracy))"
      ],
      "metadata": {
        "id": "ZoukrP_12g4y"
      },
      "execution_count": 33,
      "outputs": []
    },
    {
      "cell_type": "code",
      "execution_count": 34,
      "outputs": [
        {
          "output_type": "stream",
          "name": "stderr",
          "text": [
            "219it [00:12, 17.01it/s]"
          ]
        },
        {
          "output_type": "stream",
          "name": "stdout",
          "text": [
            "val loss: 1.25034301, accuracy: 80.29394977\n"
          ]
        },
        {
          "output_type": "stream",
          "name": "stderr",
          "text": [
            "\n"
          ]
        }
      ],
      "source": [
        "run_eval_ood(resnet18_pretrained, val_loader, loss_criterion, device, \"val\")"
      ],
      "metadata": {
        "pycharm": {
          "name": "#%%\n"
        },
        "colab": {
          "base_uri": "https://localhost:8080/"
        },
        "id": "QMkwTCH6hofc",
        "outputId": "614daaa9-f15a-4df1-8ecc-bb296848a802"
      }
    },
    {
      "cell_type": "code",
      "source": [
        "run_eval_ood(resnet18_pretrained, test_loader, loss_criterion, device, \"test\")"
      ],
      "metadata": {
        "colab": {
          "base_uri": "https://localhost:8080/"
        },
        "id": "o9hGjljH11je",
        "outputId": "e11ff365-7306-4dd0-fd5a-346ef9818b3a"
      },
      "execution_count": 35,
      "outputs": [
        {
          "output_type": "stream",
          "name": "stderr",
          "text": [
            "532it [00:28, 18.81it/s]"
          ]
        },
        {
          "output_type": "stream",
          "name": "stdout",
          "text": [
            "test loss: 2.02949556, accuracy: 69.68984962\n"
          ]
        },
        {
          "output_type": "stream",
          "name": "stderr",
          "text": [
            "\n"
          ]
        }
      ]
    },
    {
      "cell_type": "code",
      "execution_count": 19,
      "outputs": [
        {
          "output_type": "stream",
          "name": "stderr",
          "text": [
            "Downloading: \"https://download.pytorch.org/models/densenet121-a639ec97.pth\" to /root/.cache/torch/hub/checkpoints/densenet121-a639ec97.pth\n"
          ]
        },
        {
          "output_type": "display_data",
          "data": {
            "text/plain": [
              "  0%|          | 0.00/30.8M [00:00<?, ?B/s]"
            ],
            "application/vnd.jupyter.widget-view+json": {
              "version_major": 2,
              "version_minor": 0,
              "model_id": "e71d04dbba734d9e818d017122ba33f0"
            }
          },
          "metadata": {}
        },
        {
          "output_type": "stream",
          "name": "stdout",
          "text": [
            "Number of model parameters:  7978856\n",
            "Number of trainable parameters:  0\n"
          ]
        }
      ],
      "source": [
        "densenet121_pretrained = models.densenet121(pretrained=True)\n",
        "\n",
        "for param in densenet121_pretrained.parameters():\n",
        "  param.requires_grad = False\n",
        "\n",
        "check_model_parameters(densenet121_pretrained, display_layers=False)\n"
      ],
      "metadata": {
        "pycharm": {
          "name": "#%%\n"
        },
        "colab": {
          "base_uri": "https://localhost:8080/",
          "height": 123,
          "referenced_widgets": [
            "e71d04dbba734d9e818d017122ba33f0",
            "0a412969d9d140daa476727857798b05",
            "e3eddbe7da7749c5a0cf03adcd3533cd",
            "9c693d4619f04b36ac54f8e3d12163d7",
            "de02d5a9880b4c16a99558bb2feb0bab",
            "e41a45862f27472d92c1272d1441e0c3",
            "22d592f895ed4789a39f7bcca5b4ff77",
            "46830ff7ca3046359a95ecf4d82d3e20",
            "cc490512c0f7410f860c0efd0ee49536",
            "3f8f6f13eb6a4c9b84dac22cb49db52d",
            "27337e1eecd44ad692ba579745b7bebb"
          ]
        },
        "id": "TNz_hqLIhofc",
        "outputId": "451ca357-50a1-4c50-e921-6934a7d427ee"
      }
    },
    {
      "cell_type": "code",
      "execution_count": 20,
      "outputs": [
        {
          "output_type": "stream",
          "name": "stdout",
          "text": [
            "Number of model parameters:  6955906\n",
            "Number of trainable parameters:  2050\n"
          ]
        }
      ],
      "source": [
        "\n",
        "densenet121_pretrained.classifier = nn.Linear(in_features=1024, out_features=2, bias=True)\n",
        "check_model_parameters(densenet121_pretrained, display_layers=False)"
      ],
      "metadata": {
        "pycharm": {
          "name": "#%%\n"
        },
        "colab": {
          "base_uri": "https://localhost:8080/"
        },
        "id": "igxeBmx2hofd",
        "outputId": "a41a5c57-6eb1-4fa3-e7d0-09f6f8799a96"
      }
    },
    {
      "cell_type": "code",
      "execution_count": 21,
      "outputs": [
        {
          "output_type": "stream",
          "name": "stderr",
          "text": [
            "1891it [02:20, 13.41it/s]\n",
            "210it [00:13, 15.01it/s]\n"
          ]
        },
        {
          "output_type": "stream",
          "name": "stdout",
          "text": [
            "\n",
            "Epoch 1\n",
            "train loss: 0.48657711, accuracy: 88.96818577\n",
            "id_val loss: 0.29367816, accuracy: 92.55456351\n"
          ]
        },
        {
          "output_type": "stream",
          "name": "stderr",
          "text": [
            "1891it [02:20, 13.42it/s]\n",
            "210it [00:14, 14.93it/s]\n"
          ]
        },
        {
          "output_type": "stream",
          "name": "stdout",
          "text": [
            "\n",
            "Epoch 2\n",
            "train loss: 0.45201103, accuracy: 89.74087784\n",
            "id_val loss: 0.41586063, accuracy: 90.24305557\n"
          ]
        },
        {
          "output_type": "stream",
          "name": "stderr",
          "text": [
            "1891it [02:20, 13.51it/s]\n",
            "210it [00:14, 14.99it/s]\n"
          ]
        },
        {
          "output_type": "stream",
          "name": "stdout",
          "text": [
            "\n",
            "Epoch 3\n",
            "train loss: 0.42659008, accuracy: 90.30345811\n",
            "id_val loss: 0.33243015, accuracy: 93.09523810\n"
          ]
        },
        {
          "output_type": "stream",
          "name": "stderr",
          "text": [
            "1891it [02:20, 13.47it/s]\n",
            "210it [00:13, 15.14it/s]\n"
          ]
        },
        {
          "output_type": "stream",
          "name": "stdout",
          "text": [
            "\n",
            "Epoch 4\n",
            "train loss: 0.46719336, accuracy: 89.95240613\n",
            "id_val loss: 0.36094481, accuracy: 91.12599208\n"
          ]
        },
        {
          "output_type": "stream",
          "name": "stderr",
          "text": [
            "1891it [02:19, 13.51it/s]\n",
            "210it [00:13, 15.17it/s]"
          ]
        },
        {
          "output_type": "stream",
          "name": "stdout",
          "text": [
            "\n",
            "Epoch 5\n",
            "train loss: 0.46445901, accuracy: 90.06808567\n",
            "id_val loss: 0.30863111, accuracy: 92.72321429\n"
          ]
        },
        {
          "output_type": "stream",
          "name": "stderr",
          "text": [
            "\n"
          ]
        }
      ],
      "source": [
        "densenet121_pretrained.to(device)\n",
        "\n",
        "# create a SGD optimizer\n",
        "optimizer = torch.optim.SGD(densenet121_pretrained.parameters(), lr=0.01, momentum=0.9)\n",
        "\n",
        "# set up loss function\n",
        "loss_criterion = nn.CrossEntropyLoss()\n",
        "\n",
        "# evaluate the initial model\n",
        "# val_loss, al_accuracy = eval_epoch(resnet18_pretrained, id_val_loader, loss_criterion, device)\n",
        "# print('Validation performance before finetuning -- loss: %10.8f, accuracy: %10.8f'%(val_loss, val_accuracy))\n",
        "\n",
        "# finetune the model\n",
        "train_losses = []\n",
        "train_accuracies = []\n",
        "val_losses = []\n",
        "val_accuracies = []\n",
        "id_val_losses = []\n",
        "id_val_accuracies = []\n",
        "\n",
        "for epoch in range(1, num_epochs+1):\n",
        "  train_loss, train_accuracy = train_epoch(densenet121_pretrained, train_loader, loss_criterion, optimizer, device)\n",
        "  val_loss, val_accuracy = eval_epoch(densenet121_pretrained, id_val_loader, loss_criterion, device)\n",
        "  train_losses.append(train_loss)\n",
        "  id_val_losses.append(val_loss)\n",
        "  train_accuracies.append(train_accuracy)\n",
        "  id_val_accuracies.append(val_accuracy)\n",
        "  print('\\nEpoch %d'%(epoch))\n",
        "  print('train loss: %10.8f, accuracy: %10.8f'%(train_loss, train_accuracy))\n",
        "  print('id_val loss: %10.8f, accuracy: %10.8f'%(val_loss, val_accuracy))\n"
      ],
      "metadata": {
        "pycharm": {
          "name": "#%%\n"
        },
        "colab": {
          "base_uri": "https://localhost:8080/"
        },
        "id": "nU5aLksBhofd",
        "outputId": "75fbb8e6-1016-4ccb-8643-029178f8a382"
      }
    },
    {
      "cell_type": "code",
      "execution_count": 36,
      "outputs": [
        {
          "output_type": "stream",
          "name": "stderr",
          "text": [
            "219it [00:14, 15.05it/s]"
          ]
        },
        {
          "output_type": "stream",
          "name": "stdout",
          "text": [
            "val loss: 0.76147554, accuracy: 84.17522831\n"
          ]
        },
        {
          "output_type": "stream",
          "name": "stderr",
          "text": [
            "\n"
          ]
        }
      ],
      "source": [
        "run_eval_ood(densenet121_pretrained, val_loader, loss_criterion, device, \"val\")"
      ],
      "metadata": {
        "pycharm": {
          "name": "#%%\n"
        },
        "colab": {
          "base_uri": "https://localhost:8080/"
        },
        "id": "fKONpbBWhofe",
        "outputId": "a5b7db24-fb8c-40ba-b705-5b658e4ed5ac"
      }
    },
    {
      "cell_type": "code",
      "source": [
        "run_eval_ood(densenet121_pretrained, test_loader, loss_criterion, device, \"test\")"
      ],
      "metadata": {
        "colab": {
          "base_uri": "https://localhost:8080/"
        },
        "id": "BR2vwURB3FRI",
        "outputId": "a028e4d7-27c7-44a1-d547-e1c565ec2e6b"
      },
      "execution_count": 37,
      "outputs": [
        {
          "output_type": "stream",
          "name": "stderr",
          "text": [
            "532it [00:36, 14.74it/s]"
          ]
        },
        {
          "output_type": "stream",
          "name": "stdout",
          "text": [
            "test loss: 1.23863125, accuracy: 75.68139098\n"
          ]
        },
        {
          "output_type": "stream",
          "name": "stderr",
          "text": [
            "\n"
          ]
        }
      ]
    },
    {
      "cell_type": "code",
      "execution_count": 38,
      "outputs": [],
      "source": [
        "torch.save(resnet18_pretrained.state_dict(), \"resnet18_pretrained.pt\")"
      ],
      "metadata": {
        "pycharm": {
          "name": "#%%\n"
        },
        "id": "LH3Ra_hnhofe"
      }
    },
    {
      "cell_type": "code",
      "execution_count": 39,
      "outputs": [],
      "source": [
        "torch.save(densenet121_pretrained.state_dict(), \"densenet121_pretrained.pt\")"
      ],
      "metadata": {
        "pycharm": {
          "name": "#%%\n"
        },
        "id": "Kfu2kIaZhofe"
      }
    },
    {
      "cell_type": "code",
      "execution_count": 42,
      "outputs": [
        {
          "output_type": "stream",
          "name": "stderr",
          "text": [
            "1891it [02:17, 13.75it/s]\n",
            "210it [00:13, 15.86it/s]\n"
          ]
        },
        {
          "output_type": "stream",
          "name": "stdout",
          "text": [
            "\n",
            "Epoch 1\n",
            "train loss: 0.47027896, accuracy: 87.19569200\n",
            "id_val loss: 0.30470829, accuracy: 91.84523810\n"
          ]
        },
        {
          "output_type": "stream",
          "name": "stderr",
          "text": [
            "1891it [02:06, 14.97it/s]\n",
            "210it [00:13, 15.64it/s]\n"
          ]
        },
        {
          "output_type": "stream",
          "name": "stdout",
          "text": [
            "\n",
            "Epoch 2\n",
            "train loss: 0.46927865, accuracy: 87.99978281\n",
            "id_val loss: 0.34837296, accuracy: 91.84027780\n"
          ]
        },
        {
          "output_type": "stream",
          "name": "stderr",
          "text": [
            "1891it [02:08, 14.75it/s]\n",
            "210it [00:13, 16.06it/s]\n"
          ]
        },
        {
          "output_type": "stream",
          "name": "stdout",
          "text": [
            "\n",
            "Epoch 3\n",
            "train loss: 0.48041085, accuracy: 88.37090164\n",
            "id_val loss: 0.31739704, accuracy: 92.04861113\n"
          ]
        },
        {
          "output_type": "stream",
          "name": "stderr",
          "text": [
            "1891it [02:05, 15.05it/s]\n",
            "210it [00:13, 15.85it/s]\n"
          ]
        },
        {
          "output_type": "stream",
          "name": "stdout",
          "text": [
            "\n",
            "Epoch 4\n",
            "train loss: 0.43898939, accuracy: 89.03995430\n",
            "id_val loss: 0.68546015, accuracy: 84.14682542\n"
          ]
        },
        {
          "output_type": "stream",
          "name": "stderr",
          "text": [
            "1891it [02:05, 15.11it/s]\n",
            "210it [00:13, 15.74it/s]"
          ]
        },
        {
          "output_type": "stream",
          "name": "stdout",
          "text": [
            "\n",
            "Epoch 5\n",
            "train loss: 0.41872957, accuracy: 89.25998149\n",
            "id_val loss: 0.37399658, accuracy: 91.43353176\n"
          ]
        },
        {
          "output_type": "stream",
          "name": "stderr",
          "text": [
            "\n"
          ]
        }
      ],
      "source": [
        "resnetxt50_pretrained = models.resnext50_32x4d(pretrained=True)\n",
        "\n",
        "# freeze all the layers\n",
        "for param in resnetxt50_pretrained.parameters():\n",
        "  param.requires_grad = False\n",
        "\n",
        "resnetxt50_pretrained.fc = nn.Linear(in_features=2048, out_features=2, bias=True)\n",
        "\n",
        "resnetxt50_pretrained.to(device)\n",
        "\n",
        "# create a SGD optimizer\n",
        "optimizer = torch.optim.SGD(resnetxt50_pretrained.parameters(), lr=0.01, momentum=0.9)\n",
        "\n",
        "# set up loss function\n",
        "loss_criterion = nn.CrossEntropyLoss()\n",
        "\n",
        "\n",
        "# finetune the model\n",
        "train_losses = []\n",
        "train_accuracies = []\n",
        "id_val_losses = []\n",
        "id_val_accuracies = []\n",
        "for epoch in range(1, num_epochs+1):\n",
        "  train_loss, train_accuracy = train_epoch(resnetxt50_pretrained, train_loader, loss_criterion, optimizer, device)\n",
        "  val_loss, val_accuracy = eval_epoch(resnetxt50_pretrained, id_val_loader, loss_criterion, device)\n",
        "  train_losses.append(train_loss)\n",
        "  id_val_losses.append(val_loss)\n",
        "  train_accuracies.append(train_accuracy)\n",
        "  id_val_accuracies.append(val_accuracy)\n",
        "  print('\\nEpoch %d'%(epoch))\n",
        "  print('train loss: %10.8f, accuracy: %10.8f'%(train_loss, train_accuracy))\n",
        "  print('id_val loss: %10.8f, accuracy: %10.8f'%(val_loss, val_accuracy))\n"
      ],
      "metadata": {
        "pycharm": {
          "name": "#%%\n"
        },
        "colab": {
          "base_uri": "https://localhost:8080/"
        },
        "id": "N-spuoIyhofe",
        "outputId": "8301a58a-ae2e-4255-e8a9-fc934b3fa0a9"
      }
    },
    {
      "cell_type": "code",
      "source": [
        "run_eval_ood(resnetxt50_pretrained, val_loader, loss_criterion, device, \"val\")"
      ],
      "metadata": {
        "colab": {
          "base_uri": "https://localhost:8080/"
        },
        "id": "WqrwywFa_AbA",
        "outputId": "28062e5d-0d52-4db7-836b-06dc3bdaeb8a"
      },
      "execution_count": 43,
      "outputs": [
        {
          "output_type": "stream",
          "name": "stderr",
          "text": [
            "219it [00:13, 15.79it/s]"
          ]
        },
        {
          "output_type": "stream",
          "name": "stdout",
          "text": [
            "val loss: 0.96758571, accuracy: 79.36643836\n"
          ]
        },
        {
          "output_type": "stream",
          "name": "stderr",
          "text": [
            "\n"
          ]
        }
      ]
    },
    {
      "cell_type": "code",
      "source": [
        "run_eval_ood(resnetxt50_pretrained, test_loader, loss_criterion, device, \"test\")"
      ],
      "metadata": {
        "colab": {
          "base_uri": "https://localhost:8080/"
        },
        "id": "c9GAxnmI_BMv",
        "outputId": "12ab51cc-c796-4c6a-c193-1d9ea2daa619"
      },
      "execution_count": 44,
      "outputs": [
        {
          "output_type": "stream",
          "name": "stderr",
          "text": [
            "532it [00:34, 15.59it/s]"
          ]
        },
        {
          "output_type": "stream",
          "name": "stdout",
          "text": [
            "test loss: 1.92752245, accuracy: 63.33411654\n"
          ]
        },
        {
          "output_type": "stream",
          "name": "stderr",
          "text": [
            "\n"
          ]
        }
      ]
    },
    {
      "cell_type": "code",
      "source": [
        "torch.save(densenet121_pretrained.state_dict(), \"resnetxt50_pretrained.pt\")"
      ],
      "metadata": {
        "id": "5zmE54z4_GfQ"
      },
      "execution_count": 45,
      "outputs": []
    }
  ],
  "metadata": {
    "kernelspec": {
      "display_name": "Python 3",
      "language": "python",
      "name": "python3"
    },
    "language_info": {
      "codemirror_mode": {
        "name": "ipython",
        "version": 2
      },
      "file_extension": ".py",
      "mimetype": "text/x-python",
      "name": "python",
      "nbconvert_exporter": "python",
      "pygments_lexer": "ipython2",
      "version": "2.7.6"
    },
    "colab": {
      "name": "generalization_task_camelyon.ipynb",
      "provenance": []
    },
    "accelerator": "GPU",
    "widgets": {
      "application/vnd.jupyter.widget-state+json": {
        "5271f28188f846ca95aa7c4ce29511bc": {
          "model_module": "@jupyter-widgets/controls",
          "model_name": "HBoxModel",
          "model_module_version": "1.5.0",
          "state": {
            "_dom_classes": [],
            "_model_module": "@jupyter-widgets/controls",
            "_model_module_version": "1.5.0",
            "_model_name": "HBoxModel",
            "_view_count": null,
            "_view_module": "@jupyter-widgets/controls",
            "_view_module_version": "1.5.0",
            "_view_name": "HBoxView",
            "box_style": "",
            "children": [
              "IPY_MODEL_55606c02d0b44d9da3961bdccdc65c5f",
              "IPY_MODEL_bf50eda725cb44df89068dff40da334f",
              "IPY_MODEL_a53713e1011247e0bbb83cd9fe5d2065"
            ],
            "layout": "IPY_MODEL_b243b10762d04281b6eb017830c339c6"
          }
        },
        "55606c02d0b44d9da3961bdccdc65c5f": {
          "model_module": "@jupyter-widgets/controls",
          "model_name": "HTMLModel",
          "model_module_version": "1.5.0",
          "state": {
            "_dom_classes": [],
            "_model_module": "@jupyter-widgets/controls",
            "_model_module_version": "1.5.0",
            "_model_name": "HTMLModel",
            "_view_count": null,
            "_view_module": "@jupyter-widgets/controls",
            "_view_module_version": "1.5.0",
            "_view_name": "HTMLView",
            "description": "",
            "description_tooltip": null,
            "layout": "IPY_MODEL_14ecc7c9378f447286bbfb4f3da8eb5d",
            "placeholder": "​",
            "style": "IPY_MODEL_408018bfd1ea43e5b4c7fa9b228dfe9a",
            "value": ""
          }
        },
        "bf50eda725cb44df89068dff40da334f": {
          "model_module": "@jupyter-widgets/controls",
          "model_name": "FloatProgressModel",
          "model_module_version": "1.5.0",
          "state": {
            "_dom_classes": [],
            "_model_module": "@jupyter-widgets/controls",
            "_model_module_version": "1.5.0",
            "_model_name": "FloatProgressModel",
            "_view_count": null,
            "_view_module": "@jupyter-widgets/controls",
            "_view_module_version": "1.5.0",
            "_view_name": "ProgressView",
            "bar_style": "success",
            "description": "",
            "description_tooltip": null,
            "layout": "IPY_MODEL_cc7593ca242c4e1c879a60549852f049",
            "max": 10658709504,
            "min": 0,
            "orientation": "horizontal",
            "style": "IPY_MODEL_be3e5ed121144fd483e667cfa80da1e1",
            "value": 10658709504
          }
        },
        "a53713e1011247e0bbb83cd9fe5d2065": {
          "model_module": "@jupyter-widgets/controls",
          "model_name": "HTMLModel",
          "model_module_version": "1.5.0",
          "state": {
            "_dom_classes": [],
            "_model_module": "@jupyter-widgets/controls",
            "_model_module_version": "1.5.0",
            "_model_name": "HTMLModel",
            "_view_count": null,
            "_view_module": "@jupyter-widgets/controls",
            "_view_module_version": "1.5.0",
            "_view_name": "HTMLView",
            "description": "",
            "description_tooltip": null,
            "layout": "IPY_MODEL_212af09010d54845b82ef34dcfb0e47f",
            "placeholder": "​",
            "style": "IPY_MODEL_a18e9794b74946d88e51785fad3d496f",
            "value": " 10658897920/? [39:45&lt;00:00, 3687786.67Byte/s]"
          }
        },
        "b243b10762d04281b6eb017830c339c6": {
          "model_module": "@jupyter-widgets/base",
          "model_name": "LayoutModel",
          "model_module_version": "1.2.0",
          "state": {
            "_model_module": "@jupyter-widgets/base",
            "_model_module_version": "1.2.0",
            "_model_name": "LayoutModel",
            "_view_count": null,
            "_view_module": "@jupyter-widgets/base",
            "_view_module_version": "1.2.0",
            "_view_name": "LayoutView",
            "align_content": null,
            "align_items": null,
            "align_self": null,
            "border": null,
            "bottom": null,
            "display": null,
            "flex": null,
            "flex_flow": null,
            "grid_area": null,
            "grid_auto_columns": null,
            "grid_auto_flow": null,
            "grid_auto_rows": null,
            "grid_column": null,
            "grid_gap": null,
            "grid_row": null,
            "grid_template_areas": null,
            "grid_template_columns": null,
            "grid_template_rows": null,
            "height": null,
            "justify_content": null,
            "justify_items": null,
            "left": null,
            "margin": null,
            "max_height": null,
            "max_width": null,
            "min_height": null,
            "min_width": null,
            "object_fit": null,
            "object_position": null,
            "order": null,
            "overflow": null,
            "overflow_x": null,
            "overflow_y": null,
            "padding": null,
            "right": null,
            "top": null,
            "visibility": null,
            "width": null
          }
        },
        "14ecc7c9378f447286bbfb4f3da8eb5d": {
          "model_module": "@jupyter-widgets/base",
          "model_name": "LayoutModel",
          "model_module_version": "1.2.0",
          "state": {
            "_model_module": "@jupyter-widgets/base",
            "_model_module_version": "1.2.0",
            "_model_name": "LayoutModel",
            "_view_count": null,
            "_view_module": "@jupyter-widgets/base",
            "_view_module_version": "1.2.0",
            "_view_name": "LayoutView",
            "align_content": null,
            "align_items": null,
            "align_self": null,
            "border": null,
            "bottom": null,
            "display": null,
            "flex": null,
            "flex_flow": null,
            "grid_area": null,
            "grid_auto_columns": null,
            "grid_auto_flow": null,
            "grid_auto_rows": null,
            "grid_column": null,
            "grid_gap": null,
            "grid_row": null,
            "grid_template_areas": null,
            "grid_template_columns": null,
            "grid_template_rows": null,
            "height": null,
            "justify_content": null,
            "justify_items": null,
            "left": null,
            "margin": null,
            "max_height": null,
            "max_width": null,
            "min_height": null,
            "min_width": null,
            "object_fit": null,
            "object_position": null,
            "order": null,
            "overflow": null,
            "overflow_x": null,
            "overflow_y": null,
            "padding": null,
            "right": null,
            "top": null,
            "visibility": null,
            "width": null
          }
        },
        "408018bfd1ea43e5b4c7fa9b228dfe9a": {
          "model_module": "@jupyter-widgets/controls",
          "model_name": "DescriptionStyleModel",
          "model_module_version": "1.5.0",
          "state": {
            "_model_module": "@jupyter-widgets/controls",
            "_model_module_version": "1.5.0",
            "_model_name": "DescriptionStyleModel",
            "_view_count": null,
            "_view_module": "@jupyter-widgets/base",
            "_view_module_version": "1.2.0",
            "_view_name": "StyleView",
            "description_width": ""
          }
        },
        "cc7593ca242c4e1c879a60549852f049": {
          "model_module": "@jupyter-widgets/base",
          "model_name": "LayoutModel",
          "model_module_version": "1.2.0",
          "state": {
            "_model_module": "@jupyter-widgets/base",
            "_model_module_version": "1.2.0",
            "_model_name": "LayoutModel",
            "_view_count": null,
            "_view_module": "@jupyter-widgets/base",
            "_view_module_version": "1.2.0",
            "_view_name": "LayoutView",
            "align_content": null,
            "align_items": null,
            "align_self": null,
            "border": null,
            "bottom": null,
            "display": null,
            "flex": null,
            "flex_flow": null,
            "grid_area": null,
            "grid_auto_columns": null,
            "grid_auto_flow": null,
            "grid_auto_rows": null,
            "grid_column": null,
            "grid_gap": null,
            "grid_row": null,
            "grid_template_areas": null,
            "grid_template_columns": null,
            "grid_template_rows": null,
            "height": null,
            "justify_content": null,
            "justify_items": null,
            "left": null,
            "margin": null,
            "max_height": null,
            "max_width": null,
            "min_height": null,
            "min_width": null,
            "object_fit": null,
            "object_position": null,
            "order": null,
            "overflow": null,
            "overflow_x": null,
            "overflow_y": null,
            "padding": null,
            "right": null,
            "top": null,
            "visibility": null,
            "width": null
          }
        },
        "be3e5ed121144fd483e667cfa80da1e1": {
          "model_module": "@jupyter-widgets/controls",
          "model_name": "ProgressStyleModel",
          "model_module_version": "1.5.0",
          "state": {
            "_model_module": "@jupyter-widgets/controls",
            "_model_module_version": "1.5.0",
            "_model_name": "ProgressStyleModel",
            "_view_count": null,
            "_view_module": "@jupyter-widgets/base",
            "_view_module_version": "1.2.0",
            "_view_name": "StyleView",
            "bar_color": null,
            "description_width": ""
          }
        },
        "212af09010d54845b82ef34dcfb0e47f": {
          "model_module": "@jupyter-widgets/base",
          "model_name": "LayoutModel",
          "model_module_version": "1.2.0",
          "state": {
            "_model_module": "@jupyter-widgets/base",
            "_model_module_version": "1.2.0",
            "_model_name": "LayoutModel",
            "_view_count": null,
            "_view_module": "@jupyter-widgets/base",
            "_view_module_version": "1.2.0",
            "_view_name": "LayoutView",
            "align_content": null,
            "align_items": null,
            "align_self": null,
            "border": null,
            "bottom": null,
            "display": null,
            "flex": null,
            "flex_flow": null,
            "grid_area": null,
            "grid_auto_columns": null,
            "grid_auto_flow": null,
            "grid_auto_rows": null,
            "grid_column": null,
            "grid_gap": null,
            "grid_row": null,
            "grid_template_areas": null,
            "grid_template_columns": null,
            "grid_template_rows": null,
            "height": null,
            "justify_content": null,
            "justify_items": null,
            "left": null,
            "margin": null,
            "max_height": null,
            "max_width": null,
            "min_height": null,
            "min_width": null,
            "object_fit": null,
            "object_position": null,
            "order": null,
            "overflow": null,
            "overflow_x": null,
            "overflow_y": null,
            "padding": null,
            "right": null,
            "top": null,
            "visibility": null,
            "width": null
          }
        },
        "a18e9794b74946d88e51785fad3d496f": {
          "model_module": "@jupyter-widgets/controls",
          "model_name": "DescriptionStyleModel",
          "model_module_version": "1.5.0",
          "state": {
            "_model_module": "@jupyter-widgets/controls",
            "_model_module_version": "1.5.0",
            "_model_name": "DescriptionStyleModel",
            "_view_count": null,
            "_view_module": "@jupyter-widgets/base",
            "_view_module_version": "1.2.0",
            "_view_name": "StyleView",
            "description_width": ""
          }
        },
        "eedd1afdab5e47fd94d7cf9175eb5709": {
          "model_module": "@jupyter-widgets/controls",
          "model_name": "HBoxModel",
          "model_module_version": "1.5.0",
          "state": {
            "_dom_classes": [],
            "_model_module": "@jupyter-widgets/controls",
            "_model_module_version": "1.5.0",
            "_model_name": "HBoxModel",
            "_view_count": null,
            "_view_module": "@jupyter-widgets/controls",
            "_view_module_version": "1.5.0",
            "_view_name": "HBoxView",
            "box_style": "",
            "children": [
              "IPY_MODEL_7eb733cfbe4846c8ad0e49bc0f6d4d80",
              "IPY_MODEL_54db1c37394747c1919d57d04da6400c",
              "IPY_MODEL_07f55c6d676e47658e591c6b1ce6fdfb"
            ],
            "layout": "IPY_MODEL_e514d4600bee4d5a8bfc453b00d25c26"
          }
        },
        "7eb733cfbe4846c8ad0e49bc0f6d4d80": {
          "model_module": "@jupyter-widgets/controls",
          "model_name": "HTMLModel",
          "model_module_version": "1.5.0",
          "state": {
            "_dom_classes": [],
            "_model_module": "@jupyter-widgets/controls",
            "_model_module_version": "1.5.0",
            "_model_name": "HTMLModel",
            "_view_count": null,
            "_view_module": "@jupyter-widgets/controls",
            "_view_module_version": "1.5.0",
            "_view_name": "HTMLView",
            "description": "",
            "description_tooltip": null,
            "layout": "IPY_MODEL_977929688602461daa320938ec84f6a2",
            "placeholder": "​",
            "style": "IPY_MODEL_e43b0362cef340898ae557df2c919aed",
            "value": "100%"
          }
        },
        "54db1c37394747c1919d57d04da6400c": {
          "model_module": "@jupyter-widgets/controls",
          "model_name": "FloatProgressModel",
          "model_module_version": "1.5.0",
          "state": {
            "_dom_classes": [],
            "_model_module": "@jupyter-widgets/controls",
            "_model_module_version": "1.5.0",
            "_model_name": "FloatProgressModel",
            "_view_count": null,
            "_view_module": "@jupyter-widgets/controls",
            "_view_module_version": "1.5.0",
            "_view_name": "ProgressView",
            "bar_style": "success",
            "description": "",
            "description_tooltip": null,
            "layout": "IPY_MODEL_d6a2dba0ad6842619d44cb446e27a4dc",
            "max": 46830571,
            "min": 0,
            "orientation": "horizontal",
            "style": "IPY_MODEL_8f1b7c93ef4b4f1d94a863011c3301cc",
            "value": 46830571
          }
        },
        "07f55c6d676e47658e591c6b1ce6fdfb": {
          "model_module": "@jupyter-widgets/controls",
          "model_name": "HTMLModel",
          "model_module_version": "1.5.0",
          "state": {
            "_dom_classes": [],
            "_model_module": "@jupyter-widgets/controls",
            "_model_module_version": "1.5.0",
            "_model_name": "HTMLModel",
            "_view_count": null,
            "_view_module": "@jupyter-widgets/controls",
            "_view_module_version": "1.5.0",
            "_view_name": "HTMLView",
            "description": "",
            "description_tooltip": null,
            "layout": "IPY_MODEL_de10d6420ad44bb79d8c0c15e6036937",
            "placeholder": "​",
            "style": "IPY_MODEL_e6f5fe0ea24f4bcd8eab98ff2cd8e2bb",
            "value": " 44.7M/44.7M [00:00&lt;00:00, 154MB/s]"
          }
        },
        "e514d4600bee4d5a8bfc453b00d25c26": {
          "model_module": "@jupyter-widgets/base",
          "model_name": "LayoutModel",
          "model_module_version": "1.2.0",
          "state": {
            "_model_module": "@jupyter-widgets/base",
            "_model_module_version": "1.2.0",
            "_model_name": "LayoutModel",
            "_view_count": null,
            "_view_module": "@jupyter-widgets/base",
            "_view_module_version": "1.2.0",
            "_view_name": "LayoutView",
            "align_content": null,
            "align_items": null,
            "align_self": null,
            "border": null,
            "bottom": null,
            "display": null,
            "flex": null,
            "flex_flow": null,
            "grid_area": null,
            "grid_auto_columns": null,
            "grid_auto_flow": null,
            "grid_auto_rows": null,
            "grid_column": null,
            "grid_gap": null,
            "grid_row": null,
            "grid_template_areas": null,
            "grid_template_columns": null,
            "grid_template_rows": null,
            "height": null,
            "justify_content": null,
            "justify_items": null,
            "left": null,
            "margin": null,
            "max_height": null,
            "max_width": null,
            "min_height": null,
            "min_width": null,
            "object_fit": null,
            "object_position": null,
            "order": null,
            "overflow": null,
            "overflow_x": null,
            "overflow_y": null,
            "padding": null,
            "right": null,
            "top": null,
            "visibility": null,
            "width": null
          }
        },
        "977929688602461daa320938ec84f6a2": {
          "model_module": "@jupyter-widgets/base",
          "model_name": "LayoutModel",
          "model_module_version": "1.2.0",
          "state": {
            "_model_module": "@jupyter-widgets/base",
            "_model_module_version": "1.2.0",
            "_model_name": "LayoutModel",
            "_view_count": null,
            "_view_module": "@jupyter-widgets/base",
            "_view_module_version": "1.2.0",
            "_view_name": "LayoutView",
            "align_content": null,
            "align_items": null,
            "align_self": null,
            "border": null,
            "bottom": null,
            "display": null,
            "flex": null,
            "flex_flow": null,
            "grid_area": null,
            "grid_auto_columns": null,
            "grid_auto_flow": null,
            "grid_auto_rows": null,
            "grid_column": null,
            "grid_gap": null,
            "grid_row": null,
            "grid_template_areas": null,
            "grid_template_columns": null,
            "grid_template_rows": null,
            "height": null,
            "justify_content": null,
            "justify_items": null,
            "left": null,
            "margin": null,
            "max_height": null,
            "max_width": null,
            "min_height": null,
            "min_width": null,
            "object_fit": null,
            "object_position": null,
            "order": null,
            "overflow": null,
            "overflow_x": null,
            "overflow_y": null,
            "padding": null,
            "right": null,
            "top": null,
            "visibility": null,
            "width": null
          }
        },
        "e43b0362cef340898ae557df2c919aed": {
          "model_module": "@jupyter-widgets/controls",
          "model_name": "DescriptionStyleModel",
          "model_module_version": "1.5.0",
          "state": {
            "_model_module": "@jupyter-widgets/controls",
            "_model_module_version": "1.5.0",
            "_model_name": "DescriptionStyleModel",
            "_view_count": null,
            "_view_module": "@jupyter-widgets/base",
            "_view_module_version": "1.2.0",
            "_view_name": "StyleView",
            "description_width": ""
          }
        },
        "d6a2dba0ad6842619d44cb446e27a4dc": {
          "model_module": "@jupyter-widgets/base",
          "model_name": "LayoutModel",
          "model_module_version": "1.2.0",
          "state": {
            "_model_module": "@jupyter-widgets/base",
            "_model_module_version": "1.2.0",
            "_model_name": "LayoutModel",
            "_view_count": null,
            "_view_module": "@jupyter-widgets/base",
            "_view_module_version": "1.2.0",
            "_view_name": "LayoutView",
            "align_content": null,
            "align_items": null,
            "align_self": null,
            "border": null,
            "bottom": null,
            "display": null,
            "flex": null,
            "flex_flow": null,
            "grid_area": null,
            "grid_auto_columns": null,
            "grid_auto_flow": null,
            "grid_auto_rows": null,
            "grid_column": null,
            "grid_gap": null,
            "grid_row": null,
            "grid_template_areas": null,
            "grid_template_columns": null,
            "grid_template_rows": null,
            "height": null,
            "justify_content": null,
            "justify_items": null,
            "left": null,
            "margin": null,
            "max_height": null,
            "max_width": null,
            "min_height": null,
            "min_width": null,
            "object_fit": null,
            "object_position": null,
            "order": null,
            "overflow": null,
            "overflow_x": null,
            "overflow_y": null,
            "padding": null,
            "right": null,
            "top": null,
            "visibility": null,
            "width": null
          }
        },
        "8f1b7c93ef4b4f1d94a863011c3301cc": {
          "model_module": "@jupyter-widgets/controls",
          "model_name": "ProgressStyleModel",
          "model_module_version": "1.5.0",
          "state": {
            "_model_module": "@jupyter-widgets/controls",
            "_model_module_version": "1.5.0",
            "_model_name": "ProgressStyleModel",
            "_view_count": null,
            "_view_module": "@jupyter-widgets/base",
            "_view_module_version": "1.2.0",
            "_view_name": "StyleView",
            "bar_color": null,
            "description_width": ""
          }
        },
        "de10d6420ad44bb79d8c0c15e6036937": {
          "model_module": "@jupyter-widgets/base",
          "model_name": "LayoutModel",
          "model_module_version": "1.2.0",
          "state": {
            "_model_module": "@jupyter-widgets/base",
            "_model_module_version": "1.2.0",
            "_model_name": "LayoutModel",
            "_view_count": null,
            "_view_module": "@jupyter-widgets/base",
            "_view_module_version": "1.2.0",
            "_view_name": "LayoutView",
            "align_content": null,
            "align_items": null,
            "align_self": null,
            "border": null,
            "bottom": null,
            "display": null,
            "flex": null,
            "flex_flow": null,
            "grid_area": null,
            "grid_auto_columns": null,
            "grid_auto_flow": null,
            "grid_auto_rows": null,
            "grid_column": null,
            "grid_gap": null,
            "grid_row": null,
            "grid_template_areas": null,
            "grid_template_columns": null,
            "grid_template_rows": null,
            "height": null,
            "justify_content": null,
            "justify_items": null,
            "left": null,
            "margin": null,
            "max_height": null,
            "max_width": null,
            "min_height": null,
            "min_width": null,
            "object_fit": null,
            "object_position": null,
            "order": null,
            "overflow": null,
            "overflow_x": null,
            "overflow_y": null,
            "padding": null,
            "right": null,
            "top": null,
            "visibility": null,
            "width": null
          }
        },
        "e6f5fe0ea24f4bcd8eab98ff2cd8e2bb": {
          "model_module": "@jupyter-widgets/controls",
          "model_name": "DescriptionStyleModel",
          "model_module_version": "1.5.0",
          "state": {
            "_model_module": "@jupyter-widgets/controls",
            "_model_module_version": "1.5.0",
            "_model_name": "DescriptionStyleModel",
            "_view_count": null,
            "_view_module": "@jupyter-widgets/base",
            "_view_module_version": "1.2.0",
            "_view_name": "StyleView",
            "description_width": ""
          }
        },
        "e71d04dbba734d9e818d017122ba33f0": {
          "model_module": "@jupyter-widgets/controls",
          "model_name": "HBoxModel",
          "model_module_version": "1.5.0",
          "state": {
            "_dom_classes": [],
            "_model_module": "@jupyter-widgets/controls",
            "_model_module_version": "1.5.0",
            "_model_name": "HBoxModel",
            "_view_count": null,
            "_view_module": "@jupyter-widgets/controls",
            "_view_module_version": "1.5.0",
            "_view_name": "HBoxView",
            "box_style": "",
            "children": [
              "IPY_MODEL_0a412969d9d140daa476727857798b05",
              "IPY_MODEL_e3eddbe7da7749c5a0cf03adcd3533cd",
              "IPY_MODEL_9c693d4619f04b36ac54f8e3d12163d7"
            ],
            "layout": "IPY_MODEL_de02d5a9880b4c16a99558bb2feb0bab"
          }
        },
        "0a412969d9d140daa476727857798b05": {
          "model_module": "@jupyter-widgets/controls",
          "model_name": "HTMLModel",
          "model_module_version": "1.5.0",
          "state": {
            "_dom_classes": [],
            "_model_module": "@jupyter-widgets/controls",
            "_model_module_version": "1.5.0",
            "_model_name": "HTMLModel",
            "_view_count": null,
            "_view_module": "@jupyter-widgets/controls",
            "_view_module_version": "1.5.0",
            "_view_name": "HTMLView",
            "description": "",
            "description_tooltip": null,
            "layout": "IPY_MODEL_e41a45862f27472d92c1272d1441e0c3",
            "placeholder": "​",
            "style": "IPY_MODEL_22d592f895ed4789a39f7bcca5b4ff77",
            "value": "100%"
          }
        },
        "e3eddbe7da7749c5a0cf03adcd3533cd": {
          "model_module": "@jupyter-widgets/controls",
          "model_name": "FloatProgressModel",
          "model_module_version": "1.5.0",
          "state": {
            "_dom_classes": [],
            "_model_module": "@jupyter-widgets/controls",
            "_model_module_version": "1.5.0",
            "_model_name": "FloatProgressModel",
            "_view_count": null,
            "_view_module": "@jupyter-widgets/controls",
            "_view_module_version": "1.5.0",
            "_view_name": "ProgressView",
            "bar_style": "success",
            "description": "",
            "description_tooltip": null,
            "layout": "IPY_MODEL_46830ff7ca3046359a95ecf4d82d3e20",
            "max": 32342954,
            "min": 0,
            "orientation": "horizontal",
            "style": "IPY_MODEL_cc490512c0f7410f860c0efd0ee49536",
            "value": 32342954
          }
        },
        "9c693d4619f04b36ac54f8e3d12163d7": {
          "model_module": "@jupyter-widgets/controls",
          "model_name": "HTMLModel",
          "model_module_version": "1.5.0",
          "state": {
            "_dom_classes": [],
            "_model_module": "@jupyter-widgets/controls",
            "_model_module_version": "1.5.0",
            "_model_name": "HTMLModel",
            "_view_count": null,
            "_view_module": "@jupyter-widgets/controls",
            "_view_module_version": "1.5.0",
            "_view_name": "HTMLView",
            "description": "",
            "description_tooltip": null,
            "layout": "IPY_MODEL_3f8f6f13eb6a4c9b84dac22cb49db52d",
            "placeholder": "​",
            "style": "IPY_MODEL_27337e1eecd44ad692ba579745b7bebb",
            "value": " 30.8M/30.8M [00:02&lt;00:00, 55.3MB/s]"
          }
        },
        "de02d5a9880b4c16a99558bb2feb0bab": {
          "model_module": "@jupyter-widgets/base",
          "model_name": "LayoutModel",
          "model_module_version": "1.2.0",
          "state": {
            "_model_module": "@jupyter-widgets/base",
            "_model_module_version": "1.2.0",
            "_model_name": "LayoutModel",
            "_view_count": null,
            "_view_module": "@jupyter-widgets/base",
            "_view_module_version": "1.2.0",
            "_view_name": "LayoutView",
            "align_content": null,
            "align_items": null,
            "align_self": null,
            "border": null,
            "bottom": null,
            "display": null,
            "flex": null,
            "flex_flow": null,
            "grid_area": null,
            "grid_auto_columns": null,
            "grid_auto_flow": null,
            "grid_auto_rows": null,
            "grid_column": null,
            "grid_gap": null,
            "grid_row": null,
            "grid_template_areas": null,
            "grid_template_columns": null,
            "grid_template_rows": null,
            "height": null,
            "justify_content": null,
            "justify_items": null,
            "left": null,
            "margin": null,
            "max_height": null,
            "max_width": null,
            "min_height": null,
            "min_width": null,
            "object_fit": null,
            "object_position": null,
            "order": null,
            "overflow": null,
            "overflow_x": null,
            "overflow_y": null,
            "padding": null,
            "right": null,
            "top": null,
            "visibility": null,
            "width": null
          }
        },
        "e41a45862f27472d92c1272d1441e0c3": {
          "model_module": "@jupyter-widgets/base",
          "model_name": "LayoutModel",
          "model_module_version": "1.2.0",
          "state": {
            "_model_module": "@jupyter-widgets/base",
            "_model_module_version": "1.2.0",
            "_model_name": "LayoutModel",
            "_view_count": null,
            "_view_module": "@jupyter-widgets/base",
            "_view_module_version": "1.2.0",
            "_view_name": "LayoutView",
            "align_content": null,
            "align_items": null,
            "align_self": null,
            "border": null,
            "bottom": null,
            "display": null,
            "flex": null,
            "flex_flow": null,
            "grid_area": null,
            "grid_auto_columns": null,
            "grid_auto_flow": null,
            "grid_auto_rows": null,
            "grid_column": null,
            "grid_gap": null,
            "grid_row": null,
            "grid_template_areas": null,
            "grid_template_columns": null,
            "grid_template_rows": null,
            "height": null,
            "justify_content": null,
            "justify_items": null,
            "left": null,
            "margin": null,
            "max_height": null,
            "max_width": null,
            "min_height": null,
            "min_width": null,
            "object_fit": null,
            "object_position": null,
            "order": null,
            "overflow": null,
            "overflow_x": null,
            "overflow_y": null,
            "padding": null,
            "right": null,
            "top": null,
            "visibility": null,
            "width": null
          }
        },
        "22d592f895ed4789a39f7bcca5b4ff77": {
          "model_module": "@jupyter-widgets/controls",
          "model_name": "DescriptionStyleModel",
          "model_module_version": "1.5.0",
          "state": {
            "_model_module": "@jupyter-widgets/controls",
            "_model_module_version": "1.5.0",
            "_model_name": "DescriptionStyleModel",
            "_view_count": null,
            "_view_module": "@jupyter-widgets/base",
            "_view_module_version": "1.2.0",
            "_view_name": "StyleView",
            "description_width": ""
          }
        },
        "46830ff7ca3046359a95ecf4d82d3e20": {
          "model_module": "@jupyter-widgets/base",
          "model_name": "LayoutModel",
          "model_module_version": "1.2.0",
          "state": {
            "_model_module": "@jupyter-widgets/base",
            "_model_module_version": "1.2.0",
            "_model_name": "LayoutModel",
            "_view_count": null,
            "_view_module": "@jupyter-widgets/base",
            "_view_module_version": "1.2.0",
            "_view_name": "LayoutView",
            "align_content": null,
            "align_items": null,
            "align_self": null,
            "border": null,
            "bottom": null,
            "display": null,
            "flex": null,
            "flex_flow": null,
            "grid_area": null,
            "grid_auto_columns": null,
            "grid_auto_flow": null,
            "grid_auto_rows": null,
            "grid_column": null,
            "grid_gap": null,
            "grid_row": null,
            "grid_template_areas": null,
            "grid_template_columns": null,
            "grid_template_rows": null,
            "height": null,
            "justify_content": null,
            "justify_items": null,
            "left": null,
            "margin": null,
            "max_height": null,
            "max_width": null,
            "min_height": null,
            "min_width": null,
            "object_fit": null,
            "object_position": null,
            "order": null,
            "overflow": null,
            "overflow_x": null,
            "overflow_y": null,
            "padding": null,
            "right": null,
            "top": null,
            "visibility": null,
            "width": null
          }
        },
        "cc490512c0f7410f860c0efd0ee49536": {
          "model_module": "@jupyter-widgets/controls",
          "model_name": "ProgressStyleModel",
          "model_module_version": "1.5.0",
          "state": {
            "_model_module": "@jupyter-widgets/controls",
            "_model_module_version": "1.5.0",
            "_model_name": "ProgressStyleModel",
            "_view_count": null,
            "_view_module": "@jupyter-widgets/base",
            "_view_module_version": "1.2.0",
            "_view_name": "StyleView",
            "bar_color": null,
            "description_width": ""
          }
        },
        "3f8f6f13eb6a4c9b84dac22cb49db52d": {
          "model_module": "@jupyter-widgets/base",
          "model_name": "LayoutModel",
          "model_module_version": "1.2.0",
          "state": {
            "_model_module": "@jupyter-widgets/base",
            "_model_module_version": "1.2.0",
            "_model_name": "LayoutModel",
            "_view_count": null,
            "_view_module": "@jupyter-widgets/base",
            "_view_module_version": "1.2.0",
            "_view_name": "LayoutView",
            "align_content": null,
            "align_items": null,
            "align_self": null,
            "border": null,
            "bottom": null,
            "display": null,
            "flex": null,
            "flex_flow": null,
            "grid_area": null,
            "grid_auto_columns": null,
            "grid_auto_flow": null,
            "grid_auto_rows": null,
            "grid_column": null,
            "grid_gap": null,
            "grid_row": null,
            "grid_template_areas": null,
            "grid_template_columns": null,
            "grid_template_rows": null,
            "height": null,
            "justify_content": null,
            "justify_items": null,
            "left": null,
            "margin": null,
            "max_height": null,
            "max_width": null,
            "min_height": null,
            "min_width": null,
            "object_fit": null,
            "object_position": null,
            "order": null,
            "overflow": null,
            "overflow_x": null,
            "overflow_y": null,
            "padding": null,
            "right": null,
            "top": null,
            "visibility": null,
            "width": null
          }
        },
        "27337e1eecd44ad692ba579745b7bebb": {
          "model_module": "@jupyter-widgets/controls",
          "model_name": "DescriptionStyleModel",
          "model_module_version": "1.5.0",
          "state": {
            "_model_module": "@jupyter-widgets/controls",
            "_model_module_version": "1.5.0",
            "_model_name": "DescriptionStyleModel",
            "_view_count": null,
            "_view_module": "@jupyter-widgets/base",
            "_view_module_version": "1.2.0",
            "_view_name": "StyleView",
            "description_width": ""
          }
        }
      }
    }
  },
  "nbformat": 4,
  "nbformat_minor": 0
}