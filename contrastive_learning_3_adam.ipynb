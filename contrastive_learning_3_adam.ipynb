{
  "cells": [
    {
      "cell_type": "code",
      "execution_count": 1,
      "metadata": {
        "collapsed": true,
        "id": "iwSgBXS4WnPJ"
      },
      "outputs": [],
      "source": [
        "# !pip install wilds"
      ]
    },
    {
      "cell_type": "code",
      "execution_count": 2,
      "outputs": [],
      "source": [
        "import numpy as np\n",
        "from wilds import get_dataset\n",
        "from wilds.common.data_loaders import get_train_loader\n",
        "import torchvision.transforms as transforms\n",
        "import torchvision.models as models\n",
        "from wilds.common.data_loaders import get_eval_loader\n",
        "import torch\n",
        "from torch.utils.data import Dataset, DataLoader\n",
        "from torch import nn\n",
        "import torch.nn.functional as F\n",
        "from tqdm import tqdm\n",
        "import random"
      ],
      "metadata": {
        "pycharm": {
          "name": "#%%\n"
        },
        "id": "fbFdMbP_WnPK"
      }
    },
    {
      "cell_type": "code",
      "execution_count": 3,
      "outputs": [
        {
          "output_type": "stream",
          "name": "stdout",
          "text": [
            "Downloading dataset to data/camelyon17_v1.0...\n",
            "You can also download the dataset manually at https://wilds.stanford.edu/downloads.\n",
            "Downloading https://worksheets.codalab.org/rest/bundles/0xe45e15f39fb54e9d9e919556af67aabe/contents/blob/ to data/camelyon17_v1.0/archive.tar.gz\n"
          ]
        },
        {
          "output_type": "display_data",
          "data": {
            "text/plain": [
              "  0%|          | 0/10658709504 [00:00<?, ?Byte/s]"
            ],
            "application/vnd.jupyter.widget-view+json": {
              "version_major": 2,
              "version_minor": 0,
              "model_id": "2ca9119721a84b0f848552722f6543b3"
            }
          },
          "metadata": {}
        },
        {
          "output_type": "stream",
          "name": "stdout",
          "text": [
            "Extracting data/camelyon17_v1.0/archive.tar.gz to data/camelyon17_v1.0\n",
            "\n",
            "It took 61.38 minutes to download and uncompress the dataset.\n",
            "\n"
          ]
        }
      ],
      "source": [
        "# Load the full dataset, and download it if necessary\n",
        "dataset = get_dataset(dataset=\"camelyon17\", download=True)"
      ],
      "metadata": {
        "pycharm": {
          "name": "#%%\n"
        },
        "id": "bAbxogzDWnPL",
        "colab": {
          "base_uri": "https://localhost:8080/",
          "height": 178,
          "referenced_widgets": [
            "2ca9119721a84b0f848552722f6543b3",
            "6c854c22a72b4191bc97ab7a72136c39",
            "cc35a810189148239a268d240d9b17d2",
            "6506a898f8094e73a64d8d9a53f7dc0d",
            "dac89fb945c443fc8f9a4a051d02a7ae",
            "7a9d3c20a4354b169f96918ddabe4a7d",
            "12238ceecb1245e98025d056f0851fd0",
            "7f0c3512663e49dfafc01cef3e5287a1",
            "59e4da649d08400eb2322d92d5a928f7",
            "c584a51cb47d4d3880d3f6dd945d26eb",
            "b85b4517066b44759c2553430785603b"
          ]
        },
        "outputId": "8f883a36-f86a-4fa4-d4be-424922bfeec8"
      }
    },
    {
      "cell_type": "code",
      "execution_count": 4,
      "outputs": [
        {
          "output_type": "stream",
          "name": "stdout",
          "text": [
            "99804\n"
          ]
        }
      ],
      "source": [
        "BATCH_SIZE = 32\n",
        "FRACTION = 0.33\n",
        "\n",
        "# Get the training set\n",
        "train_data = dataset.get_subset(\n",
        "    \"train\",\n",
        "    frac = FRACTION,\n",
        "    transform=transforms.Compose(\n",
        "        [\n",
        "         transforms.ToTensor(),\n",
        "         transforms.Normalize(mean=[0.485, 0.456, 0.406],\n",
        "                        std=[0.229, 0.224, 0.225])]\n",
        "    ),\n",
        ")\n",
        "\n",
        "print(len(train_data)) #302436 initially\n"
      ],
      "metadata": {
        "pycharm": {
          "name": "#%%\n"
        },
        "colab": {
          "base_uri": "https://localhost:8080/"
        },
        "id": "vkrWsMbmWnPL",
        "outputId": "07bbe40a-3df1-42de-fa9b-938b1edd862f"
      }
    },
    {
      "cell_type": "code",
      "execution_count": 5,
      "outputs": [
        {
          "output_type": "stream",
          "name": "stdout",
          "text": [
            "11075\n"
          ]
        }
      ],
      "source": [
        "# Get the id_val set\n",
        "id_val_data = dataset.get_subset(\n",
        "    \"id_val\",\n",
        "    frac = FRACTION,\n",
        "    transform=transforms.Compose(\n",
        "        [\n",
        "         transforms.ToTensor(),\n",
        "         transforms.Normalize(mean=[0.485, 0.456, 0.406],\n",
        "                        std=[0.229, 0.224, 0.225])]\n",
        "    ),\n",
        ")\n",
        "\n",
        "print(len(id_val_data))"
      ],
      "metadata": {
        "pycharm": {
          "name": "#%%\n"
        },
        "colab": {
          "base_uri": "https://localhost:8080/"
        },
        "id": "7bQG8UEhWnPM",
        "outputId": "3e95c32a-3880-4472-917a-24efb4ff873f"
      }
    },
    {
      "cell_type": "code",
      "execution_count": 6,
      "outputs": [
        {
          "output_type": "stream",
          "name": "stdout",
          "text": [
            "11518\n"
          ]
        }
      ],
      "source": [
        "# Get the val set\n",
        "val_data = dataset.get_subset(\n",
        "    \"val\",\n",
        "    frac = FRACTION,\n",
        "    transform=transforms.Compose(\n",
        "        [\n",
        "         transforms.ToTensor(),\n",
        "         transforms.Normalize(mean=[0.485, 0.456, 0.406],\n",
        "                        std=[0.229, 0.224, 0.225])]\n",
        "    ),\n",
        ")\n",
        "\n",
        "print(len(val_data))"
      ],
      "metadata": {
        "pycharm": {
          "name": "#%%\n"
        },
        "colab": {
          "base_uri": "https://localhost:8080/"
        },
        "id": "84YtJhH4WnPM",
        "outputId": "5752ed63-1ffa-4dd4-9329-e61b30673005"
      }
    },
    {
      "cell_type": "code",
      "execution_count": 7,
      "outputs": [
        {
          "output_type": "stream",
          "name": "stdout",
          "text": [
            "28068\n"
          ]
        }
      ],
      "source": [
        "# Get the test set\n",
        "test_data = dataset.get_subset(\n",
        "    \"test\",\n",
        "    frac = FRACTION,\n",
        "    transform=transforms.Compose(\n",
        "        [\n",
        "         transforms.ToTensor(),\n",
        "         transforms.Normalize(mean=[0.485, 0.456, 0.406],\n",
        "                        std=[0.229, 0.224, 0.225])]\n",
        "    ),\n",
        ")\n",
        "\n",
        "print(len(test_data))\n"
      ],
      "metadata": {
        "pycharm": {
          "name": "#%%\n"
        },
        "colab": {
          "base_uri": "https://localhost:8080/"
        },
        "id": "uD1XSgxnWnPN",
        "outputId": "57be9bf4-0a2d-43fe-f609-5e60e64f10d1"
      }
    },
    {
      "cell_type": "code",
      "execution_count": 8,
      "outputs": [
        {
          "output_type": "stream",
          "name": "stderr",
          "text": [
            "Downloading: \"https://download.pytorch.org/models/resnet18-f37072fd.pth\" to /root/.cache/torch/hub/checkpoints/resnet18-f37072fd.pth\n"
          ]
        },
        {
          "output_type": "display_data",
          "data": {
            "text/plain": [
              "  0%|          | 0.00/44.7M [00:00<?, ?B/s]"
            ],
            "application/vnd.jupyter.widget-view+json": {
              "version_major": 2,
              "version_minor": 0,
              "model_id": "bfc4e7203ec045259f9d09b8fede0899"
            }
          },
          "metadata": {}
        }
      ],
      "source": [
        "resnet18_pretrained = models.resnet18(pretrained=True)"
      ],
      "metadata": {
        "pycharm": {
          "name": "#%%\n"
        },
        "id": "LK3oDNJaWnPN",
        "colab": {
          "base_uri": "https://localhost:8080/",
          "height": 67,
          "referenced_widgets": [
            "bfc4e7203ec045259f9d09b8fede0899",
            "e0fc46f30a0942e7830509cb0bb98935",
            "2e450fc1d33f483586a471c2525ac3eb",
            "d74f03c338ee48ab8b91a22788b415fb",
            "3dc3630bdc804af68e7429971bd50bcd",
            "a57c652287b2498bb81a556cec241894",
            "c32bbb14d9974aaab63ffc6baa29a9f0",
            "e7ca2de3fcef4a45837c6476723a06b3",
            "32b8550dfb4a4fa9b6f4f6dc9b4f01f0",
            "59130ec7a2d84ed1b758b42f3337f59d",
            "383582291f034d04b25da90d57760b04"
          ]
        },
        "outputId": "a06c57ea-5594-4573-c3a3-0c6ebd143304"
      }
    },
    {
      "cell_type": "code",
      "execution_count": 9,
      "outputs": [],
      "source": [
        "device = torch.device('cuda' if torch.cuda.is_available() else 'cpu')\n",
        "num_epochs = 5"
      ],
      "metadata": {
        "pycharm": {
          "name": "#%%\n"
        },
        "id": "snTWKT8NWnPN"
      }
    },
    {
      "cell_type": "code",
      "execution_count": 10,
      "outputs": [],
      "source": [
        "resnet18_pretrained.fc = nn.Linear(in_features=512, out_features=2, bias=True)\n",
        "# resnet18_pretrained.load_state_dict(torch.load(\"resnet18_pretrained_all_grad.pt\"))\n",
        "resnet18_pretrained.to(device)\n",
        "def remove_classification_head(model):\n",
        "    modules = list(model.children())[:-1]\n",
        "    model = nn.Sequential(*modules)\n",
        "    return model\n",
        "\n",
        "resnet18_pretrained = remove_classification_head(resnet18_pretrained)"
      ],
      "metadata": {
        "pycharm": {
          "name": "#%%\n"
        },
        "id": "ZyzoVoLdWnPO"
      }
    },
    {
      "cell_type": "code",
      "source": [
        "class SiameseNetworkDataset(Dataset):\n",
        "    def __init__(self,iid_dataset, ood_dataset=None):\n",
        "        self.data = iid_dataset\n",
        "        self.ood_data = ood_dataset\n",
        "        \n",
        "    def __getitem__(self,index):\n",
        "        img0_tuple = random.choice(self.data)\n",
        "        \n",
        "        should_get_same_distribution = random.randint(0,1) # 50% chance\n",
        "        if should_get_same_distribution == 1:\n",
        "          img1_tuple = random.choice(self.data) \n",
        "                \n",
        "        else:\n",
        "          img1_tuple = random.choice(self.ood_data)\n",
        "\n",
        "        img0 = img0_tuple[0]\n",
        "        img1 = img1_tuple[0]\n",
        "        \n",
        "        return img0, img1, torch.from_numpy(np.array([should_get_same_distribution], dtype=np.float32))\n",
        "    \n",
        "    def __len__(self):\n",
        "        return len(self.data)"
      ],
      "metadata": {
        "id": "kcIDiIYgVqm9"
      },
      "execution_count": 11,
      "outputs": []
    },
    {
      "cell_type": "code",
      "source": [
        "train_dataset = SiameseNetworkDataset(train_data, val_data)\n",
        "id_val_dataset = SiameseNetworkDataset(id_val_data, val_data)"
      ],
      "metadata": {
        "id": "29wbM5M6W0kg"
      },
      "execution_count": 12,
      "outputs": []
    },
    {
      "cell_type": "code",
      "source": [
        "#create the Siamese Neural Network\n",
        "class SiameseNetwork(nn.Module):\n",
        "\n",
        "    def __init__(self):\n",
        "        super(SiameseNetwork, self).__init__()\n",
        "\n",
        "        # Setting up the Sequential of CNN Layers\n",
        "        self.embed = resnet18_pretrained\n",
        "\n",
        "        # Setting up the Fully Connected Layers\n",
        "        self.fc1 = nn.Sequential(            \n",
        "            nn.Linear(512,2)\n",
        "        )\n",
        "        \n",
        "    def forward_once(self, x):\n",
        "        # This function will be called for both images\n",
        "        # Its output is used to determine the similiarity\n",
        "        output = self.embed(x)\n",
        "        output = output.view(output.size()[0], -1)\n",
        "        output = self.fc1(output)\n",
        "        return output\n",
        "\n",
        "    def forward(self, input1, input2):\n",
        "        # In this function we pass in both images and obtain both vectors\n",
        "        # which are returned\n",
        "        output1 = self.forward_once(input1)\n",
        "        output2 = self.forward_once(input2)\n",
        "\n",
        "        return output1, output2"
      ],
      "metadata": {
        "id": "bUl6UWjlsZPY"
      },
      "execution_count": 13,
      "outputs": []
    },
    {
      "cell_type": "code",
      "source": [
        "# Define the Contrastive Loss Function\n",
        "class ContrastiveLoss(torch.nn.Module):\n",
        "    def __init__(self, margin=2.0):\n",
        "        super(ContrastiveLoss, self).__init__()\n",
        "        self.margin = margin\n",
        "\n",
        "    def forward(self, output1, output2, label):\n",
        "      # Calculate the euclidean distance and calculate the contrastive loss\n",
        "      euclidean_distance = F.pairwise_distance(output1, output2, keepdim = True)\n",
        "\n",
        "      loss_contrastive = torch.mean((1-label) * torch.pow(euclidean_distance, 2) +\n",
        "                                    (label) * torch.pow(torch.clamp(self.margin - euclidean_distance, min=0.0), 2))\n",
        "\n",
        "\n",
        "      return loss_contrastive"
      ],
      "metadata": {
        "id": "SF8tlRiRu87k"
      },
      "execution_count": 14,
      "outputs": []
    },
    {
      "cell_type": "code",
      "source": [
        "train_loader = DataLoader(train_dataset,\n",
        "                        shuffle=True,\n",
        "                        batch_size=BATCH_SIZE)\n",
        "\n",
        "id_val_loader = DataLoader(id_val_dataset,\n",
        "                        batch_size=BATCH_SIZE)\n",
        "\n",
        "net = SiameseNetwork().to(device)\n",
        "\n",
        "loss_criterion = ContrastiveLoss()\n",
        "\n",
        "optimizer = torch.optim.Adam(net.parameters(), lr=0.001)"
      ],
      "metadata": {
        "id": "WrrwT7zsvFIr"
      },
      "execution_count": 15,
      "outputs": []
    },
    {
      "cell_type": "code",
      "source": [
        "def train_epoch(model, train_dataloader, loss_crt, optimizer, device):\n",
        "    \"\"\"\n",
        "    model: Model object\n",
        "    train_dataloader: DataLoader over the training dataset\n",
        "    loss_crt: loss function object\n",
        "    optimizer: Optimizer object\n",
        "    device: torch.device('cpu) or torch.device('cuda')\n",
        "\n",
        "    The function returns:\n",
        "     - the epoch training loss, which is an average over the individual batch\n",
        "       losses\n",
        "    \"\"\"\n",
        "    model.train()\n",
        "    epoch_loss = 0.0\n",
        "\n",
        "    num_batches = len(train_dataloader)\n",
        "    # Iterate over batches\n",
        "    for i, (img0, img1, label) in tqdm(enumerate(train_dataloader, 0)):\n",
        "\n",
        "        # Send the images and labels to CUDA\n",
        "        img0, img1, label = img0.to(device), img1.to(device), label.to(device)\n",
        "\n",
        "        # Zero the gradients\n",
        "        model.zero_grad()\n",
        "\n",
        "        # Pass in the two images into the network and obtain two outputs\n",
        "        output1, output2 = model(img0, img1)\n",
        "\n",
        "        # Pass the outputs of the networks and label into the loss function\n",
        "        loss_contrastive = loss_crt(output1, output2, label)\n",
        "\n",
        "        epoch_loss += loss_contrastive.item()\n",
        "\n",
        "        # Calculate the backpropagation\n",
        "        loss_contrastive.backward()\n",
        "\n",
        "        # Optimize\n",
        "        optimizer.step()\n",
        "\n",
        "\n",
        "    epoch_loss = epoch_loss/num_batches\n",
        "    return epoch_loss\n",
        "\n",
        "def eval_epoch(model, val_dataloader, loss_crt, device):\n",
        "    \"\"\"\n",
        "    model: Model object\n",
        "    val_dataloader: DataLoader over the validation dataset\n",
        "    loss_crt: loss function object\n",
        "    device: torch.device('cpu) or torch.device('cuda')\n",
        "\n",
        "    The function returns:\n",
        "     - the epoch validation loss, which is an average over the individual batch\n",
        "       losses\n",
        "    \"\"\"\n",
        "    model.eval()\n",
        "    epoch_loss = 0.0\n",
        "\n",
        "    num_batches = len(val_dataloader)\n",
        "    with torch.no_grad():\n",
        "      # Iterate over batches\n",
        "      for i, (img0, img1, label) in tqdm(enumerate(val_dataloader, 0)):\n",
        "\n",
        "          # Send the images and labels to CUDA\n",
        "          img0, img1, label = img0.to(device), img1.to(device), label.to(device)\n",
        "\n",
        "          # Pass in the two images into the network and obtain two outputs\n",
        "          output1, output2 = model(img0, img1)\n",
        "\n",
        "          # Pass the outputs of the networks and label into the loss function\n",
        "          loss_contrastive = loss_crt(output1, output2, label)\n",
        "\n",
        "          epoch_loss += loss_contrastive.item()\n",
        "\n",
        "    epoch_loss = epoch_loss/num_batches\n",
        "  \n",
        "    return epoch_loss"
      ],
      "metadata": {
        "id": "ku6KqKdRtIRI"
      },
      "execution_count": 16,
      "outputs": []
    },
    {
      "cell_type": "code",
      "source": [
        "train_losses = []\n",
        "train_accuracies = []\n",
        "id_val_losses = []\n",
        "id_val_accuracies = []\n",
        "for epoch in range(1, num_epochs+1):\n",
        "  train_loss = train_epoch(net, train_loader, loss_criterion, optimizer, device)\n",
        "  val_loss = eval_epoch(net, id_val_loader, loss_criterion, device)\n",
        "  train_losses.append(train_loss)\n",
        "  id_val_losses.append(val_loss)\n",
        "  print('\\nEpoch %d'%(epoch))\n",
        "  print('train loss: %10.8f'%(train_loss))\n",
        "  print('id_val loss: %10.8f'%(val_loss))"
      ],
      "metadata": {
        "id": "dLwPgDEmuZdl",
        "pycharm": {
          "is_executing": true
        },
        "colab": {
          "base_uri": "https://localhost:8080/"
        },
        "outputId": "ff23d287-4c9e-492c-f6b4-f2971a595723"
      },
      "execution_count": null,
      "outputs": [
        {
          "output_type": "stream",
          "name": "stderr",
          "text": [
            "3119it [11:08,  4.67it/s]\n",
            "347it [01:07,  5.17it/s]\n"
          ]
        },
        {
          "output_type": "stream",
          "name": "stdout",
          "text": [
            "\n",
            "Epoch 1\n",
            "train loss: 0.20881010\n",
            "id_val loss: 1.48928875\n"
          ]
        },
        {
          "output_type": "stream",
          "name": "stderr",
          "text": [
            "2715it [08:18,  5.57it/s]"
          ]
        }
      ]
    },
    {
      "cell_type": "code",
      "source": [
        "import torchvision\n",
        "from matplotlib.pyplot import imshow\n",
        "import torchvision.utils\n",
        "# Grab one image that we are going to test\n",
        "dataiter = iter(train_loader)\n",
        "x0, _, label1 = next(dataiter)\n",
        "dataiter = iter(id_val_loader)\n",
        "\n",
        "dissimilarity = [[], []]\n",
        "\n",
        "for i in range(5):\n",
        "    # Iterate over 5 images and test them with the first image (x0)\n",
        "    _, x1, label2 = next(dataiter)\n",
        "    \n",
        "    output1, output2 = net(x0.cuda(), x1.cuda())\n",
        "\n",
        "    euclidean_distance = F.pairwise_distance(output1, output2)\n",
        "    \"\"\"\n",
        "    talking on the phone\n",
        "    \"\"\"\n",
        "    for idx in range(BATCH_SIZE):\n",
        "      # print(label1[idx].item(), label2[idx].item())\n",
        "      # print(f'Dissimilarity: {euclidean_distance[idx].item():.2f}')\n",
        "      # print(\"\\n\")\n",
        "      dissimilarity[1 if label1[idx].item() == label2[idx].item() else 0].append(euclidean_distance[idx].item())\n",
        "\n",
        "\n"
      ],
      "metadata": {
        "id": "1CU1STLi2ihG",
        "pycharm": {
          "is_executing": true
        }
      },
      "execution_count": null,
      "outputs": []
    },
    {
      "cell_type": "code",
      "source": [
        "import numpy as np\n",
        "def calc_mean_std(arr):\n",
        "    arr = np.asarray(arr)\n",
        "    return arr.mean(), arr.std()\n",
        "\n",
        "\n",
        "print(calc_mean_std(dissimilarity[0]))\n",
        "print(calc_mean_std(dissimilarity[1]))"
      ],
      "metadata": {
        "id": "2rJXz1yIBgH8",
        "pycharm": {
          "is_executing": true
        }
      },
      "execution_count": null,
      "outputs": []
    },
    {
      "cell_type": "code",
      "source": [
        "torch.save(net.state_dict(), \"contrastive_resnet18_adam.pt\")"
      ],
      "metadata": {
        "id": "SX0HL_d2zhaZ"
      },
      "execution_count": null,
      "outputs": []
    },
    {
      "cell_type": "code",
      "source": [
        "train_loader = get_train_loader(\"standard\", train_data, batch_size=BATCH_SIZE)\n",
        "id_val_loader = get_train_loader(\"standard\", id_val_data, batch_size=BATCH_SIZE)\n",
        "test_loader = get_train_loader(\"standard\", test_data, batch_size=BATCH_SIZE)\n",
        "\n"
      ],
      "metadata": {
        "id": "HSnqHHcN1vPW"
      },
      "execution_count": null,
      "outputs": []
    },
    {
      "cell_type": "code",
      "source": [
        "x1, label1, _ = next(iter(id_val_loader))\n",
        "\n",
        "net.eval()\n",
        "dissimilarity = [[], []]\n",
        "with torch.no_grad():\n",
        "    for batch_idx, batch in tqdm(enumerate(train_loader)):\n",
        "        # Iterate over 5 images and test them with the first image (x0)\n",
        "        x1, label2, _ = batch\n",
        "        \n",
        "        output1, output2 = net(x0.cuda(), x1.cuda())\n",
        "        try:\n",
        "            euclidean_distance = F.pairwise_distance(output1, output2)\n",
        "            \n",
        "            for idx in range(BATCH_SIZE):\n",
        "            # print(label1[idx].item(), label2[idx].item())\n",
        "            # print(f'Dissimilarity: {euclidean_distance[idx].item():.2f}')\n",
        "                dissimilarity[1 if label1[idx].item() == label2[idx].item() else 0].append(euclidean_distance[idx].item())\n",
        "        except:\n",
        "            pass\n",
        "\n",
        "\n"
      ],
      "metadata": {
        "id": "-Uo4dB7-5c70"
      },
      "execution_count": null,
      "outputs": []
    },
    {
      "cell_type": "code",
      "source": [
        "print(calc_mean_std(dissimilarity[0]))\n",
        "print(calc_mean_std(dissimilarity[1]))"
      ],
      "metadata": {
        "id": "L3xbpV4v7_xh"
      },
      "execution_count": null,
      "outputs": []
    },
    {
      "cell_type": "code",
      "source": [
        "x1, label1, _ = next(iter(test_loader))\n",
        "\n",
        "net.eval()\n",
        "dissimilarity = [[], []]\n",
        "with torch.no_grad():\n",
        "    for batch_idx, batch in tqdm(enumerate(train_loader)):\n",
        "        # Iterate over 5 images and test them with the first image (x0)\n",
        "        x1, label2, _ = batch\n",
        "        \n",
        "        output1, output2 = net(x0.cuda(), x1.cuda())\n",
        "        try:\n",
        "            euclidean_distance = F.pairwise_distance(output1, output2)\n",
        "            \n",
        "            for idx in range(BATCH_SIZE):\n",
        "            # print(label1[idx].item(), label2[idx].item())\n",
        "            # print(f'Dissimilarity: {euclidean_distance[idx].item():.2f}')\n",
        "                dissimilarity[1 if label1[idx].item() == label2[idx].item() else 0].append(euclidean_distance[idx].item())\n",
        "        except:\n",
        "            pass"
      ],
      "metadata": {
        "id": "Kr8JHcFY8UrO"
      },
      "execution_count": null,
      "outputs": []
    },
    {
      "cell_type": "code",
      "source": [
        "print(calc_mean_std(dissimilarity[0]))\n",
        "print(calc_mean_std(dissimilarity[1]))"
      ],
      "metadata": {
        "id": "lV38UKJ38Xuw"
      },
      "execution_count": null,
      "outputs": []
    }
  ],
  "metadata": {
    "kernelspec": {
      "display_name": "Python 3",
      "language": "python",
      "name": "python3"
    },
    "language_info": {
      "codemirror_mode": {
        "name": "ipython",
        "version": 2
      },
      "file_extension": ".py",
      "mimetype": "text/x-python",
      "name": "python",
      "nbconvert_exporter": "python",
      "pygments_lexer": "ipython2",
      "version": "2.7.6"
    },
    "colab": {
      "name": "contrastive_learning_2 _adam.ipynb",
      "provenance": [],
      "collapsed_sections": []
    },
    "accelerator": "GPU",
    "widgets": {
      "application/vnd.jupyter.widget-state+json": {
        "2ca9119721a84b0f848552722f6543b3": {
          "model_module": "@jupyter-widgets/controls",
          "model_name": "HBoxModel",
          "model_module_version": "1.5.0",
          "state": {
            "_dom_classes": [],
            "_model_module": "@jupyter-widgets/controls",
            "_model_module_version": "1.5.0",
            "_model_name": "HBoxModel",
            "_view_count": null,
            "_view_module": "@jupyter-widgets/controls",
            "_view_module_version": "1.5.0",
            "_view_name": "HBoxView",
            "box_style": "",
            "children": [
              "IPY_MODEL_6c854c22a72b4191bc97ab7a72136c39",
              "IPY_MODEL_cc35a810189148239a268d240d9b17d2",
              "IPY_MODEL_6506a898f8094e73a64d8d9a53f7dc0d"
            ],
            "layout": "IPY_MODEL_dac89fb945c443fc8f9a4a051d02a7ae"
          }
        },
        "6c854c22a72b4191bc97ab7a72136c39": {
          "model_module": "@jupyter-widgets/controls",
          "model_name": "HTMLModel",
          "model_module_version": "1.5.0",
          "state": {
            "_dom_classes": [],
            "_model_module": "@jupyter-widgets/controls",
            "_model_module_version": "1.5.0",
            "_model_name": "HTMLModel",
            "_view_count": null,
            "_view_module": "@jupyter-widgets/controls",
            "_view_module_version": "1.5.0",
            "_view_name": "HTMLView",
            "description": "",
            "description_tooltip": null,
            "layout": "IPY_MODEL_7a9d3c20a4354b169f96918ddabe4a7d",
            "placeholder": "​",
            "style": "IPY_MODEL_12238ceecb1245e98025d056f0851fd0",
            "value": ""
          }
        },
        "cc35a810189148239a268d240d9b17d2": {
          "model_module": "@jupyter-widgets/controls",
          "model_name": "FloatProgressModel",
          "model_module_version": "1.5.0",
          "state": {
            "_dom_classes": [],
            "_model_module": "@jupyter-widgets/controls",
            "_model_module_version": "1.5.0",
            "_model_name": "FloatProgressModel",
            "_view_count": null,
            "_view_module": "@jupyter-widgets/controls",
            "_view_module_version": "1.5.0",
            "_view_name": "ProgressView",
            "bar_style": "success",
            "description": "",
            "description_tooltip": null,
            "layout": "IPY_MODEL_7f0c3512663e49dfafc01cef3e5287a1",
            "max": 10658709504,
            "min": 0,
            "orientation": "horizontal",
            "style": "IPY_MODEL_59e4da649d08400eb2322d92d5a928f7",
            "value": 10658709504
          }
        },
        "6506a898f8094e73a64d8d9a53f7dc0d": {
          "model_module": "@jupyter-widgets/controls",
          "model_name": "HTMLModel",
          "model_module_version": "1.5.0",
          "state": {
            "_dom_classes": [],
            "_model_module": "@jupyter-widgets/controls",
            "_model_module_version": "1.5.0",
            "_model_name": "HTMLModel",
            "_view_count": null,
            "_view_module": "@jupyter-widgets/controls",
            "_view_module_version": "1.5.0",
            "_view_name": "HTMLView",
            "description": "",
            "description_tooltip": null,
            "layout": "IPY_MODEL_c584a51cb47d4d3880d3f6dd945d26eb",
            "placeholder": "​",
            "style": "IPY_MODEL_b85b4517066b44759c2553430785603b",
            "value": " 10658897920/? [56:26&lt;00:00, 3264857.48Byte/s]"
          }
        },
        "dac89fb945c443fc8f9a4a051d02a7ae": {
          "model_module": "@jupyter-widgets/base",
          "model_name": "LayoutModel",
          "model_module_version": "1.2.0",
          "state": {
            "_model_module": "@jupyter-widgets/base",
            "_model_module_version": "1.2.0",
            "_model_name": "LayoutModel",
            "_view_count": null,
            "_view_module": "@jupyter-widgets/base",
            "_view_module_version": "1.2.0",
            "_view_name": "LayoutView",
            "align_content": null,
            "align_items": null,
            "align_self": null,
            "border": null,
            "bottom": null,
            "display": null,
            "flex": null,
            "flex_flow": null,
            "grid_area": null,
            "grid_auto_columns": null,
            "grid_auto_flow": null,
            "grid_auto_rows": null,
            "grid_column": null,
            "grid_gap": null,
            "grid_row": null,
            "grid_template_areas": null,
            "grid_template_columns": null,
            "grid_template_rows": null,
            "height": null,
            "justify_content": null,
            "justify_items": null,
            "left": null,
            "margin": null,
            "max_height": null,
            "max_width": null,
            "min_height": null,
            "min_width": null,
            "object_fit": null,
            "object_position": null,
            "order": null,
            "overflow": null,
            "overflow_x": null,
            "overflow_y": null,
            "padding": null,
            "right": null,
            "top": null,
            "visibility": null,
            "width": null
          }
        },
        "7a9d3c20a4354b169f96918ddabe4a7d": {
          "model_module": "@jupyter-widgets/base",
          "model_name": "LayoutModel",
          "model_module_version": "1.2.0",
          "state": {
            "_model_module": "@jupyter-widgets/base",
            "_model_module_version": "1.2.0",
            "_model_name": "LayoutModel",
            "_view_count": null,
            "_view_module": "@jupyter-widgets/base",
            "_view_module_version": "1.2.0",
            "_view_name": "LayoutView",
            "align_content": null,
            "align_items": null,
            "align_self": null,
            "border": null,
            "bottom": null,
            "display": null,
            "flex": null,
            "flex_flow": null,
            "grid_area": null,
            "grid_auto_columns": null,
            "grid_auto_flow": null,
            "grid_auto_rows": null,
            "grid_column": null,
            "grid_gap": null,
            "grid_row": null,
            "grid_template_areas": null,
            "grid_template_columns": null,
            "grid_template_rows": null,
            "height": null,
            "justify_content": null,
            "justify_items": null,
            "left": null,
            "margin": null,
            "max_height": null,
            "max_width": null,
            "min_height": null,
            "min_width": null,
            "object_fit": null,
            "object_position": null,
            "order": null,
            "overflow": null,
            "overflow_x": null,
            "overflow_y": null,
            "padding": null,
            "right": null,
            "top": null,
            "visibility": null,
            "width": null
          }
        },
        "12238ceecb1245e98025d056f0851fd0": {
          "model_module": "@jupyter-widgets/controls",
          "model_name": "DescriptionStyleModel",
          "model_module_version": "1.5.0",
          "state": {
            "_model_module": "@jupyter-widgets/controls",
            "_model_module_version": "1.5.0",
            "_model_name": "DescriptionStyleModel",
            "_view_count": null,
            "_view_module": "@jupyter-widgets/base",
            "_view_module_version": "1.2.0",
            "_view_name": "StyleView",
            "description_width": ""
          }
        },
        "7f0c3512663e49dfafc01cef3e5287a1": {
          "model_module": "@jupyter-widgets/base",
          "model_name": "LayoutModel",
          "model_module_version": "1.2.0",
          "state": {
            "_model_module": "@jupyter-widgets/base",
            "_model_module_version": "1.2.0",
            "_model_name": "LayoutModel",
            "_view_count": null,
            "_view_module": "@jupyter-widgets/base",
            "_view_module_version": "1.2.0",
            "_view_name": "LayoutView",
            "align_content": null,
            "align_items": null,
            "align_self": null,
            "border": null,
            "bottom": null,
            "display": null,
            "flex": null,
            "flex_flow": null,
            "grid_area": null,
            "grid_auto_columns": null,
            "grid_auto_flow": null,
            "grid_auto_rows": null,
            "grid_column": null,
            "grid_gap": null,
            "grid_row": null,
            "grid_template_areas": null,
            "grid_template_columns": null,
            "grid_template_rows": null,
            "height": null,
            "justify_content": null,
            "justify_items": null,
            "left": null,
            "margin": null,
            "max_height": null,
            "max_width": null,
            "min_height": null,
            "min_width": null,
            "object_fit": null,
            "object_position": null,
            "order": null,
            "overflow": null,
            "overflow_x": null,
            "overflow_y": null,
            "padding": null,
            "right": null,
            "top": null,
            "visibility": null,
            "width": null
          }
        },
        "59e4da649d08400eb2322d92d5a928f7": {
          "model_module": "@jupyter-widgets/controls",
          "model_name": "ProgressStyleModel",
          "model_module_version": "1.5.0",
          "state": {
            "_model_module": "@jupyter-widgets/controls",
            "_model_module_version": "1.5.0",
            "_model_name": "ProgressStyleModel",
            "_view_count": null,
            "_view_module": "@jupyter-widgets/base",
            "_view_module_version": "1.2.0",
            "_view_name": "StyleView",
            "bar_color": null,
            "description_width": ""
          }
        },
        "c584a51cb47d4d3880d3f6dd945d26eb": {
          "model_module": "@jupyter-widgets/base",
          "model_name": "LayoutModel",
          "model_module_version": "1.2.0",
          "state": {
            "_model_module": "@jupyter-widgets/base",
            "_model_module_version": "1.2.0",
            "_model_name": "LayoutModel",
            "_view_count": null,
            "_view_module": "@jupyter-widgets/base",
            "_view_module_version": "1.2.0",
            "_view_name": "LayoutView",
            "align_content": null,
            "align_items": null,
            "align_self": null,
            "border": null,
            "bottom": null,
            "display": null,
            "flex": null,
            "flex_flow": null,
            "grid_area": null,
            "grid_auto_columns": null,
            "grid_auto_flow": null,
            "grid_auto_rows": null,
            "grid_column": null,
            "grid_gap": null,
            "grid_row": null,
            "grid_template_areas": null,
            "grid_template_columns": null,
            "grid_template_rows": null,
            "height": null,
            "justify_content": null,
            "justify_items": null,
            "left": null,
            "margin": null,
            "max_height": null,
            "max_width": null,
            "min_height": null,
            "min_width": null,
            "object_fit": null,
            "object_position": null,
            "order": null,
            "overflow": null,
            "overflow_x": null,
            "overflow_y": null,
            "padding": null,
            "right": null,
            "top": null,
            "visibility": null,
            "width": null
          }
        },
        "b85b4517066b44759c2553430785603b": {
          "model_module": "@jupyter-widgets/controls",
          "model_name": "DescriptionStyleModel",
          "model_module_version": "1.5.0",
          "state": {
            "_model_module": "@jupyter-widgets/controls",
            "_model_module_version": "1.5.0",
            "_model_name": "DescriptionStyleModel",
            "_view_count": null,
            "_view_module": "@jupyter-widgets/base",
            "_view_module_version": "1.2.0",
            "_view_name": "StyleView",
            "description_width": ""
          }
        },
        "bfc4e7203ec045259f9d09b8fede0899": {
          "model_module": "@jupyter-widgets/controls",
          "model_name": "HBoxModel",
          "model_module_version": "1.5.0",
          "state": {
            "_dom_classes": [],
            "_model_module": "@jupyter-widgets/controls",
            "_model_module_version": "1.5.0",
            "_model_name": "HBoxModel",
            "_view_count": null,
            "_view_module": "@jupyter-widgets/controls",
            "_view_module_version": "1.5.0",
            "_view_name": "HBoxView",
            "box_style": "",
            "children": [
              "IPY_MODEL_e0fc46f30a0942e7830509cb0bb98935",
              "IPY_MODEL_2e450fc1d33f483586a471c2525ac3eb",
              "IPY_MODEL_d74f03c338ee48ab8b91a22788b415fb"
            ],
            "layout": "IPY_MODEL_3dc3630bdc804af68e7429971bd50bcd"
          }
        },
        "e0fc46f30a0942e7830509cb0bb98935": {
          "model_module": "@jupyter-widgets/controls",
          "model_name": "HTMLModel",
          "model_module_version": "1.5.0",
          "state": {
            "_dom_classes": [],
            "_model_module": "@jupyter-widgets/controls",
            "_model_module_version": "1.5.0",
            "_model_name": "HTMLModel",
            "_view_count": null,
            "_view_module": "@jupyter-widgets/controls",
            "_view_module_version": "1.5.0",
            "_view_name": "HTMLView",
            "description": "",
            "description_tooltip": null,
            "layout": "IPY_MODEL_a57c652287b2498bb81a556cec241894",
            "placeholder": "​",
            "style": "IPY_MODEL_c32bbb14d9974aaab63ffc6baa29a9f0",
            "value": "100%"
          }
        },
        "2e450fc1d33f483586a471c2525ac3eb": {
          "model_module": "@jupyter-widgets/controls",
          "model_name": "FloatProgressModel",
          "model_module_version": "1.5.0",
          "state": {
            "_dom_classes": [],
            "_model_module": "@jupyter-widgets/controls",
            "_model_module_version": "1.5.0",
            "_model_name": "FloatProgressModel",
            "_view_count": null,
            "_view_module": "@jupyter-widgets/controls",
            "_view_module_version": "1.5.0",
            "_view_name": "ProgressView",
            "bar_style": "success",
            "description": "",
            "description_tooltip": null,
            "layout": "IPY_MODEL_e7ca2de3fcef4a45837c6476723a06b3",
            "max": 46830571,
            "min": 0,
            "orientation": "horizontal",
            "style": "IPY_MODEL_32b8550dfb4a4fa9b6f4f6dc9b4f01f0",
            "value": 46830571
          }
        },
        "d74f03c338ee48ab8b91a22788b415fb": {
          "model_module": "@jupyter-widgets/controls",
          "model_name": "HTMLModel",
          "model_module_version": "1.5.0",
          "state": {
            "_dom_classes": [],
            "_model_module": "@jupyter-widgets/controls",
            "_model_module_version": "1.5.0",
            "_model_name": "HTMLModel",
            "_view_count": null,
            "_view_module": "@jupyter-widgets/controls",
            "_view_module_version": "1.5.0",
            "_view_name": "HTMLView",
            "description": "",
            "description_tooltip": null,
            "layout": "IPY_MODEL_59130ec7a2d84ed1b758b42f3337f59d",
            "placeholder": "​",
            "style": "IPY_MODEL_383582291f034d04b25da90d57760b04",
            "value": " 44.7M/44.7M [00:00&lt;00:00, 98.5MB/s]"
          }
        },
        "3dc3630bdc804af68e7429971bd50bcd": {
          "model_module": "@jupyter-widgets/base",
          "model_name": "LayoutModel",
          "model_module_version": "1.2.0",
          "state": {
            "_model_module": "@jupyter-widgets/base",
            "_model_module_version": "1.2.0",
            "_model_name": "LayoutModel",
            "_view_count": null,
            "_view_module": "@jupyter-widgets/base",
            "_view_module_version": "1.2.0",
            "_view_name": "LayoutView",
            "align_content": null,
            "align_items": null,
            "align_self": null,
            "border": null,
            "bottom": null,
            "display": null,
            "flex": null,
            "flex_flow": null,
            "grid_area": null,
            "grid_auto_columns": null,
            "grid_auto_flow": null,
            "grid_auto_rows": null,
            "grid_column": null,
            "grid_gap": null,
            "grid_row": null,
            "grid_template_areas": null,
            "grid_template_columns": null,
            "grid_template_rows": null,
            "height": null,
            "justify_content": null,
            "justify_items": null,
            "left": null,
            "margin": null,
            "max_height": null,
            "max_width": null,
            "min_height": null,
            "min_width": null,
            "object_fit": null,
            "object_position": null,
            "order": null,
            "overflow": null,
            "overflow_x": null,
            "overflow_y": null,
            "padding": null,
            "right": null,
            "top": null,
            "visibility": null,
            "width": null
          }
        },
        "a57c652287b2498bb81a556cec241894": {
          "model_module": "@jupyter-widgets/base",
          "model_name": "LayoutModel",
          "model_module_version": "1.2.0",
          "state": {
            "_model_module": "@jupyter-widgets/base",
            "_model_module_version": "1.2.0",
            "_model_name": "LayoutModel",
            "_view_count": null,
            "_view_module": "@jupyter-widgets/base",
            "_view_module_version": "1.2.0",
            "_view_name": "LayoutView",
            "align_content": null,
            "align_items": null,
            "align_self": null,
            "border": null,
            "bottom": null,
            "display": null,
            "flex": null,
            "flex_flow": null,
            "grid_area": null,
            "grid_auto_columns": null,
            "grid_auto_flow": null,
            "grid_auto_rows": null,
            "grid_column": null,
            "grid_gap": null,
            "grid_row": null,
            "grid_template_areas": null,
            "grid_template_columns": null,
            "grid_template_rows": null,
            "height": null,
            "justify_content": null,
            "justify_items": null,
            "left": null,
            "margin": null,
            "max_height": null,
            "max_width": null,
            "min_height": null,
            "min_width": null,
            "object_fit": null,
            "object_position": null,
            "order": null,
            "overflow": null,
            "overflow_x": null,
            "overflow_y": null,
            "padding": null,
            "right": null,
            "top": null,
            "visibility": null,
            "width": null
          }
        },
        "c32bbb14d9974aaab63ffc6baa29a9f0": {
          "model_module": "@jupyter-widgets/controls",
          "model_name": "DescriptionStyleModel",
          "model_module_version": "1.5.0",
          "state": {
            "_model_module": "@jupyter-widgets/controls",
            "_model_module_version": "1.5.0",
            "_model_name": "DescriptionStyleModel",
            "_view_count": null,
            "_view_module": "@jupyter-widgets/base",
            "_view_module_version": "1.2.0",
            "_view_name": "StyleView",
            "description_width": ""
          }
        },
        "e7ca2de3fcef4a45837c6476723a06b3": {
          "model_module": "@jupyter-widgets/base",
          "model_name": "LayoutModel",
          "model_module_version": "1.2.0",
          "state": {
            "_model_module": "@jupyter-widgets/base",
            "_model_module_version": "1.2.0",
            "_model_name": "LayoutModel",
            "_view_count": null,
            "_view_module": "@jupyter-widgets/base",
            "_view_module_version": "1.2.0",
            "_view_name": "LayoutView",
            "align_content": null,
            "align_items": null,
            "align_self": null,
            "border": null,
            "bottom": null,
            "display": null,
            "flex": null,
            "flex_flow": null,
            "grid_area": null,
            "grid_auto_columns": null,
            "grid_auto_flow": null,
            "grid_auto_rows": null,
            "grid_column": null,
            "grid_gap": null,
            "grid_row": null,
            "grid_template_areas": null,
            "grid_template_columns": null,
            "grid_template_rows": null,
            "height": null,
            "justify_content": null,
            "justify_items": null,
            "left": null,
            "margin": null,
            "max_height": null,
            "max_width": null,
            "min_height": null,
            "min_width": null,
            "object_fit": null,
            "object_position": null,
            "order": null,
            "overflow": null,
            "overflow_x": null,
            "overflow_y": null,
            "padding": null,
            "right": null,
            "top": null,
            "visibility": null,
            "width": null
          }
        },
        "32b8550dfb4a4fa9b6f4f6dc9b4f01f0": {
          "model_module": "@jupyter-widgets/controls",
          "model_name": "ProgressStyleModel",
          "model_module_version": "1.5.0",
          "state": {
            "_model_module": "@jupyter-widgets/controls",
            "_model_module_version": "1.5.0",
            "_model_name": "ProgressStyleModel",
            "_view_count": null,
            "_view_module": "@jupyter-widgets/base",
            "_view_module_version": "1.2.0",
            "_view_name": "StyleView",
            "bar_color": null,
            "description_width": ""
          }
        },
        "59130ec7a2d84ed1b758b42f3337f59d": {
          "model_module": "@jupyter-widgets/base",
          "model_name": "LayoutModel",
          "model_module_version": "1.2.0",
          "state": {
            "_model_module": "@jupyter-widgets/base",
            "_model_module_version": "1.2.0",
            "_model_name": "LayoutModel",
            "_view_count": null,
            "_view_module": "@jupyter-widgets/base",
            "_view_module_version": "1.2.0",
            "_view_name": "LayoutView",
            "align_content": null,
            "align_items": null,
            "align_self": null,
            "border": null,
            "bottom": null,
            "display": null,
            "flex": null,
            "flex_flow": null,
            "grid_area": null,
            "grid_auto_columns": null,
            "grid_auto_flow": null,
            "grid_auto_rows": null,
            "grid_column": null,
            "grid_gap": null,
            "grid_row": null,
            "grid_template_areas": null,
            "grid_template_columns": null,
            "grid_template_rows": null,
            "height": null,
            "justify_content": null,
            "justify_items": null,
            "left": null,
            "margin": null,
            "max_height": null,
            "max_width": null,
            "min_height": null,
            "min_width": null,
            "object_fit": null,
            "object_position": null,
            "order": null,
            "overflow": null,
            "overflow_x": null,
            "overflow_y": null,
            "padding": null,
            "right": null,
            "top": null,
            "visibility": null,
            "width": null
          }
        },
        "383582291f034d04b25da90d57760b04": {
          "model_module": "@jupyter-widgets/controls",
          "model_name": "DescriptionStyleModel",
          "model_module_version": "1.5.0",
          "state": {
            "_model_module": "@jupyter-widgets/controls",
            "_model_module_version": "1.5.0",
            "_model_name": "DescriptionStyleModel",
            "_view_count": null,
            "_view_module": "@jupyter-widgets/base",
            "_view_module_version": "1.2.0",
            "_view_name": "StyleView",
            "description_width": ""
          }
        }
      }
    }
  },
  "nbformat": 4,
  "nbformat_minor": 0
}