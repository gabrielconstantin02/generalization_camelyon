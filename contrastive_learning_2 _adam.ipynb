{
 "cells": [
  {
   "cell_type": "code",
   "execution_count": 1,
   "metadata": {
    "collapsed": true,
    "id": "iwSgBXS4WnPJ"
   },
   "outputs": [],
   "source": [
    "# !pip install wilds"
   ]
  },
  {
   "cell_type": "code",
   "execution_count": 2,
   "outputs": [],
   "source": [
    "import numpy as np\n",
    "from wilds import get_dataset\n",
    "from wilds.common.data_loaders import get_train_loader\n",
    "import torchvision.transforms as transforms\n",
    "import torchvision.models as models\n",
    "from wilds.common.data_loaders import get_eval_loader\n",
    "import torch\n",
    "from torch.utils.data import Dataset, DataLoader\n",
    "from torch import nn\n",
    "import torch.nn.functional as F\n",
    "from tqdm import tqdm"
   ],
   "metadata": {
    "pycharm": {
     "name": "#%%\n"
    },
    "id": "fbFdMbP_WnPK"
   }
  },
  {
   "cell_type": "code",
   "execution_count": 3,
   "outputs": [
    {
     "output_type": "stream",
     "name": "stdout",
     "text": [
      "Downloading dataset to data/camelyon17_v1.0...\n",
      "You can also download the dataset manually at https://wilds.stanford.edu/downloads.\n",
      "Downloading https://worksheets.codalab.org/rest/bundles/0xe45e15f39fb54e9d9e919556af67aabe/contents/blob/ to data/camelyon17_v1.0/archive.tar.gz\n"
     ]
    },
    {
     "output_type": "display_data",
     "data": {
      "text/plain": [
       "  0%|          | 0/10658709504 [00:00<?, ?Byte/s]"
      ],
      "application/vnd.jupyter.widget-view+json": {
       "version_major": 2,
       "version_minor": 0,
       "model_id": "15fe546b6bf3406a810e1fa065f65f85"
      }
     },
     "metadata": {}
    },
    {
     "output_type": "stream",
     "name": "stdout",
     "text": [
      "Extracting data/camelyon17_v1.0/archive.tar.gz to data/camelyon17_v1.0\n",
      "\n",
      "It took 62.16 minutes to download and uncompress the dataset.\n",
      "\n"
     ]
    }
   ],
   "source": [
    "# Load the full dataset, and download it if necessary\n",
    "dataset = get_dataset(dataset=\"camelyon17\", download=True)"
   ],
   "metadata": {
    "pycharm": {
     "name": "#%%\n"
    },
    "id": "bAbxogzDWnPL",
    "colab": {
     "base_uri": "https://localhost:8080/",
     "height": 178,
     "referenced_widgets": [
      "15fe546b6bf3406a810e1fa065f65f85",
      "6dbe933d99f74197b19d6b5fd2930f9e",
      "87f91b2309084b25a7a679193ea1a626",
      "a6dc576100ca459fadb7575f78f2e0e2",
      "a90bfda1c35040558b75a46213394a72",
      "23f765e1690b4b70b436021054556c9f",
      "5a68ba8c1b3b41c9836f4c3086828361",
      "cd6a8c1021b44da8b1b93ba9590f8599",
      "4b0bdbbb56a4451e922f04f97b75eeb1",
      "81f8df4fe7184f118a2dfd4f69ed9503",
      "0bd9f43bee4d493dbdabda0889341e15"
     ]
    },
    "outputId": "1191b641-218b-4a94-d5c3-9bbba0695cc5"
   }
  },
  {
   "cell_type": "code",
   "execution_count": 4,
   "outputs": [
    {
     "output_type": "stream",
     "name": "stdout",
     "text": [
      "99804\n"
     ]
    },
    {
     "output_type": "execute_result",
     "data": {
      "text/plain": [
       "'\\n# Train loop\\nfor labeled_batch, unlabeled_batch in zip(train_loader, unlabeled_loader):\\n    x, y, metadata = labeled_batch\\n    unlabeled_x, unlabeled_metadata = unlabeled_batch\\n    ...\\n'"
      ],
      "application/vnd.google.colaboratory.intrinsic+json": {
       "type": "string"
      }
     },
     "metadata": {},
     "execution_count": 4
    }
   ],
   "source": [
    "BATCH_SIZE = 32\n",
    "FRACTION = 0.33\n",
    "\n",
    "# Get the training set\n",
    "train_data = dataset.get_subset(\n",
    "    \"train\",\n",
    "    frac = FRACTION,\n",
    "    transform=transforms.Compose(\n",
    "        [\n",
    "         transforms.ToTensor(),\n",
    "         transforms.Normalize(mean=[0.485, 0.456, 0.406],\n",
    "                        std=[0.229, 0.224, 0.225])]\n",
    "    ),\n",
    ")\n",
    "\n",
    "print(len(train_data)) #302436 initially\n",
    "\n",
    "\"\"\"\n",
    "# (Optional) Load unlabeled data\n",
    "dataset = get_dataset(dataset=\"camelyon17\", download=True, unlabeled=True)\n",
    "unlabeled_data = dataset.get_subset(\n",
    "    \"test_unlabeled\",\n",
    "    transform=transforms.Compose(\n",
    "        [transforms.Resize((448, 448)), transforms.ToTensor()]\n",
    "    ),\n",
    ")\n",
    "unlabeled_loader = get_train_loader(\"standard\", unlabeled_data, batch_size=16)\n",
    "\"\"\"\n",
    "\"\"\"\n",
    "# Train loop\n",
    "for labeled_batch, unlabeled_batch in zip(train_loader, unlabeled_loader):\n",
    "    x, y, metadata = labeled_batch\n",
    "    unlabeled_x, unlabeled_metadata = unlabeled_batch\n",
    "    ...\n",
    "\"\"\""
   ],
   "metadata": {
    "pycharm": {
     "name": "#%%\n"
    },
    "colab": {
     "base_uri": "https://localhost:8080/",
     "height": 54
    },
    "id": "vkrWsMbmWnPL",
    "outputId": "1fd55d0c-61d2-42f0-d492-e75dc2b14b54"
   }
  },
  {
   "cell_type": "code",
   "execution_count": 5,
   "outputs": [
    {
     "output_type": "stream",
     "name": "stdout",
     "text": [
      "11075\n"
     ]
    }
   ],
   "source": [
    "# Get the id_val set\n",
    "id_val_data = dataset.get_subset(\n",
    "    \"id_val\",\n",
    "    frac = FRACTION,\n",
    "    transform=transforms.Compose(\n",
    "        [\n",
    "         transforms.ToTensor(),\n",
    "         transforms.Normalize(mean=[0.485, 0.456, 0.406],\n",
    "                        std=[0.229, 0.224, 0.225])]\n",
    "    ),\n",
    ")\n",
    "\n",
    "print(len(id_val_data))"
   ],
   "metadata": {
    "pycharm": {
     "name": "#%%\n"
    },
    "colab": {
     "base_uri": "https://localhost:8080/"
    },
    "id": "7bQG8UEhWnPM",
    "outputId": "1ab0ea90-c0d7-413c-f992-309afbf16178"
   }
  },
  {
   "cell_type": "code",
   "execution_count": 6,
   "outputs": [
    {
     "output_type": "stream",
     "name": "stdout",
     "text": [
      "11518\n"
     ]
    }
   ],
   "source": [
    "# Get the val set\n",
    "val_data = dataset.get_subset(\n",
    "    \"val\",\n",
    "    frac = FRACTION,\n",
    "    transform=transforms.Compose(\n",
    "        [\n",
    "         transforms.ToTensor(),\n",
    "         transforms.Normalize(mean=[0.485, 0.456, 0.406],\n",
    "                        std=[0.229, 0.224, 0.225])]\n",
    "    ),\n",
    ")\n",
    "\n",
    "print(len(val_data))"
   ],
   "metadata": {
    "pycharm": {
     "name": "#%%\n"
    },
    "colab": {
     "base_uri": "https://localhost:8080/"
    },
    "id": "84YtJhH4WnPM",
    "outputId": "4c8db496-fefc-4a4f-f885-8cb98fc0650e"
   }
  },
  {
   "cell_type": "code",
   "execution_count": 7,
   "outputs": [
    {
     "output_type": "stream",
     "name": "stdout",
     "text": [
      "28068\n"
     ]
    }
   ],
   "source": [
    "# Get the test set\n",
    "test_data = dataset.get_subset(\n",
    "    \"test\",\n",
    "    frac = FRACTION,\n",
    "    transform=transforms.Compose(\n",
    "        [\n",
    "         transforms.ToTensor(),\n",
    "         transforms.Normalize(mean=[0.485, 0.456, 0.406],\n",
    "                        std=[0.229, 0.224, 0.225])]\n",
    "    ),\n",
    ")\n",
    "\n",
    "print(len(test_data))\n"
   ],
   "metadata": {
    "pycharm": {
     "name": "#%%\n"
    },
    "colab": {
     "base_uri": "https://localhost:8080/"
    },
    "id": "uD1XSgxnWnPN",
    "outputId": "331b676c-59b2-483e-bee7-fc57da2dcabb"
   }
  },
  {
   "cell_type": "code",
   "source": [
    "print(test_data[0])"
   ],
   "metadata": {
    "colab": {
     "base_uri": "https://localhost:8080/"
    },
    "id": "MBsZzsWSBO2G",
    "outputId": "01a70563-8ad8-4cee-bdb8-deb4da270956"
   },
   "execution_count": 8,
   "outputs": [
    {
     "output_type": "stream",
     "name": "stdout",
     "text": [
      "(tensor([[[ 0.0227,  0.2967, -0.4054,  ...,  1.2728,  0.7248,  0.3309],\n",
      "         [ 0.0056,  0.1597,  0.1768,  ...,  1.7352,  1.5468,  1.3413],\n",
      "         [ 0.1768,  0.0056, -0.4911,  ...,  1.5297,  1.6324,  1.3413],\n",
      "         ...,\n",
      "         [-0.3541,  0.5707,  1.3927,  ...,  1.2214,  0.9474,  0.8447],\n",
      "         [ 1.3242,  1.0502,  1.0159,  ...,  1.1700,  0.8961,  0.9988],\n",
      "         [-0.9192, -0.7308, -0.4054,  ...,  1.2899,  1.2385,  0.9646]],\n",
      "\n",
      "        [[-0.4601, -0.5826, -0.7927,  ...,  0.9580,  0.6078,  0.1527],\n",
      "         [-0.3725, -0.4251, -0.7052,  ...,  1.5707,  1.1331,  0.7304],\n",
      "         [-0.5126, -0.7927, -1.1078,  ...,  0.8354,  0.9230,  0.5903],\n",
      "         ...,\n",
      "         [-0.9503, -0.1625,  0.6078,  ...,  0.2052, -0.7052, -0.4251],\n",
      "         [ 0.4503,  0.1527,  0.2227,  ...,  0.2402, -0.5301, -0.4076],\n",
      "         [-1.1604, -1.3704, -1.0553,  ...,  0.3803,  0.2052, -0.3200]],\n",
      "\n",
      "        [[ 1.1759,  1.4897,  1.0714,  ...,  2.0997,  2.2043,  1.5420],\n",
      "         [ 1.1062,  1.1934,  1.1934,  ...,  2.1346,  2.2217,  1.8383],\n",
      "         [ 1.2108,  1.0888,  0.7228,  ...,  1.7511,  1.8383,  1.7511],\n",
      "         ...,\n",
      "         [ 0.7228,  1.5942,  2.0648,  ...,  1.5942,  1.3154,  0.8448],\n",
      "         [ 2.0648,  1.7511,  1.7337,  ...,  1.6117,  1.1934,  1.0191],\n",
      "         [ 0.3393,  0.4788,  0.8971,  ...,  1.7860,  1.4200,  1.5942]]]), tensor(1), tensor([ 2, 20,  1,  0]))\n"
     ]
    }
   ]
  },
  {
   "cell_type": "code",
   "source": [
    "print(val_data[0])"
   ],
   "metadata": {
    "colab": {
     "base_uri": "https://localhost:8080/"
    },
    "id": "Wh8tjoQVC93N",
    "outputId": "bb9c70d0-50fc-4fe3-8800-d4acee498237"
   },
   "execution_count": 9,
   "outputs": [
    {
     "output_type": "stream",
     "name": "stdout",
     "text": [
      "(tensor([[[ 0.8961,  1.0159,  0.6392,  ...,  0.5364,  0.1426, -0.1999],\n",
      "         [ 0.7248,  0.7419,  0.4679,  ...,  0.1768,  0.0569, -0.2342],\n",
      "         [ 0.8104,  0.5022,  0.3994,  ...,  0.2111,  0.1597,  0.0741],\n",
      "         ...,\n",
      "         [ 0.1254,  0.0741,  0.0056,  ...,  0.3823,  0.5364,  0.4679],\n",
      "         [ 0.0056,  0.0741,  0.1597,  ...,  0.2624,  0.4679,  0.4166],\n",
      "         [ 0.1939,  0.1939,  0.2453,  ...,  0.1426,  0.3994,  0.3823]],\n",
      "\n",
      "        [[ 0.3627,  0.3627,  0.0826,  ...,  0.0826, -0.6702, -1.0028],\n",
      "         [ 0.1001, -0.0749, -0.2850,  ..., -0.5126, -0.8277, -1.1429],\n",
      "         [ 0.1702, -0.3725, -0.4251,  ..., -0.6527, -0.6877, -0.8978],\n",
      "         ...,\n",
      "         [-0.8627, -0.8627, -0.9153,  ..., -0.6702, -0.5651, -0.6352],\n",
      "         [-0.9853, -0.8627, -0.7927,  ..., -0.7927, -0.6527, -0.7402],\n",
      "         [-0.7752, -0.7227, -0.7052,  ..., -0.8978, -0.6877, -0.7052]],\n",
      "\n",
      "        [[ 1.0017,  1.1934,  0.8797,  ...,  0.9494,  0.4265,  0.0605],\n",
      "         [ 0.8099,  0.8622,  0.6008,  ...,  0.4614,  0.2173, -0.0267],\n",
      "         [ 0.9668,  0.6356,  0.4962,  ...,  0.3742,  0.3219,  0.1825],\n",
      "         ...,\n",
      "         [ 0.1999,  0.1651,  0.1128,  ...,  0.2696,  0.3568,  0.2696],\n",
      "         [ 0.1476,  0.1128,  0.1128,  ...,  0.1476,  0.2871,  0.2173],\n",
      "         [ 0.2348,  0.2173,  0.2522,  ...,  0.0779,  0.2696,  0.2348]]]), tensor(1), tensor([ 1, 10,  1,  0]))\n"
     ]
    }
   ]
  },
  {
   "cell_type": "code",
   "source": [
    "transformed_val_data = []\n",
    "for idx in range(len(val_data)):\n",
    "  transformed_val_data.append((val_data[idx][0], torch.tensor(2) if val_data[idx][1].item() == 0 else torch.tensor(3), val_data[idx][2]))"
   ],
   "metadata": {
    "id": "ovqRw48QBxQT"
   },
   "execution_count": 10,
   "outputs": []
  },
  {
   "cell_type": "code",
   "source": [
    "print(transformed_val_data[0])"
   ],
   "metadata": {
    "id": "BqtKW-3OC6a9",
    "colab": {
     "base_uri": "https://localhost:8080/"
    },
    "outputId": "8d0c26d4-d175-4115-f14a-ebde301a72b4"
   },
   "execution_count": 11,
   "outputs": [
    {
     "output_type": "stream",
     "name": "stdout",
     "text": [
      "(tensor([[[ 0.8961,  1.0159,  0.6392,  ...,  0.5364,  0.1426, -0.1999],\n",
      "         [ 0.7248,  0.7419,  0.4679,  ...,  0.1768,  0.0569, -0.2342],\n",
      "         [ 0.8104,  0.5022,  0.3994,  ...,  0.2111,  0.1597,  0.0741],\n",
      "         ...,\n",
      "         [ 0.1254,  0.0741,  0.0056,  ...,  0.3823,  0.5364,  0.4679],\n",
      "         [ 0.0056,  0.0741,  0.1597,  ...,  0.2624,  0.4679,  0.4166],\n",
      "         [ 0.1939,  0.1939,  0.2453,  ...,  0.1426,  0.3994,  0.3823]],\n",
      "\n",
      "        [[ 0.3627,  0.3627,  0.0826,  ...,  0.0826, -0.6702, -1.0028],\n",
      "         [ 0.1001, -0.0749, -0.2850,  ..., -0.5126, -0.8277, -1.1429],\n",
      "         [ 0.1702, -0.3725, -0.4251,  ..., -0.6527, -0.6877, -0.8978],\n",
      "         ...,\n",
      "         [-0.8627, -0.8627, -0.9153,  ..., -0.6702, -0.5651, -0.6352],\n",
      "         [-0.9853, -0.8627, -0.7927,  ..., -0.7927, -0.6527, -0.7402],\n",
      "         [-0.7752, -0.7227, -0.7052,  ..., -0.8978, -0.6877, -0.7052]],\n",
      "\n",
      "        [[ 1.0017,  1.1934,  0.8797,  ...,  0.9494,  0.4265,  0.0605],\n",
      "         [ 0.8099,  0.8622,  0.6008,  ...,  0.4614,  0.2173, -0.0267],\n",
      "         [ 0.9668,  0.6356,  0.4962,  ...,  0.3742,  0.3219,  0.1825],\n",
      "         ...,\n",
      "         [ 0.1999,  0.1651,  0.1128,  ...,  0.2696,  0.3568,  0.2696],\n",
      "         [ 0.1476,  0.1128,  0.1128,  ...,  0.1476,  0.2871,  0.2173],\n",
      "         [ 0.2348,  0.2173,  0.2522,  ...,  0.0779,  0.2696,  0.2348]]]), tensor(3), tensor([ 1, 10,  1,  0]))\n"
     ]
    }
   ]
  },
  {
   "cell_type": "code",
   "source": [
    "# for idx in range(len(train_data)):\n",
    "  # transformed_val_data.append(train_data[idx])"
   ],
   "metadata": {
    "id": "meayDFyPD72P"
   },
   "execution_count": 12,
   "outputs": []
  },
  {
   "cell_type": "code",
   "source": [
    "# print(len(transformed_val_data))"
   ],
   "metadata": {
    "id": "i-er1YtCENPh"
   },
   "execution_count": 13,
   "outputs": []
  },
  {
   "cell_type": "code",
   "execution_count": 14,
   "outputs": [
    {
     "output_type": "stream",
     "name": "stderr",
     "text": [
      "Downloading: \"https://download.pytorch.org/models/resnet18-f37072fd.pth\" to /root/.cache/torch/hub/checkpoints/resnet18-f37072fd.pth\n"
     ]
    },
    {
     "output_type": "display_data",
     "data": {
      "text/plain": [
       "  0%|          | 0.00/44.7M [00:00<?, ?B/s]"
      ],
      "application/vnd.jupyter.widget-view+json": {
       "version_major": 2,
       "version_minor": 0,
       "model_id": "9104cf478bcb42dd9a2fa26c91308426"
      }
     },
     "metadata": {}
    }
   ],
   "source": [
    "resnet18_pretrained = models.resnet18(pretrained=True)"
   ],
   "metadata": {
    "pycharm": {
     "name": "#%%\n"
    },
    "id": "LK3oDNJaWnPN",
    "colab": {
     "base_uri": "https://localhost:8080/",
     "height": 67,
     "referenced_widgets": [
      "9104cf478bcb42dd9a2fa26c91308426",
      "562f13a12c164a96bdedb61f52dcaac4",
      "806943399a9f466aaab31e7f4c049f4f",
      "3da9e884c19a467496cd49e7ecc864c4",
      "871d2e19e03647869ca6c38d730cc974",
      "2403eea1663341578a66e8e1ced13ca4",
      "1e6f652db1c14a16ac45043f741f27a6",
      "a1476b7bad2e476eba3aa796c07d257b",
      "85b600fb1efc4a0baf58dffd8ec79c85",
      "596e74f52a5a407f959a5c65fe738da3",
      "3a45eb6d645f46358c6a6262f5e8ef4f"
     ]
    },
    "outputId": "7dad4e6c-d80a-422f-983f-0f7876369a79"
   }
  },
  {
   "cell_type": "code",
   "execution_count": 15,
   "outputs": [],
   "source": [
    "device = torch.device('cuda' if torch.cuda.is_available() else 'cpu')\n",
    "num_epochs = 5"
   ],
   "metadata": {
    "pycharm": {
     "name": "#%%\n"
    },
    "id": "snTWKT8NWnPN"
   }
  },
  {
   "cell_type": "code",
   "execution_count": 16,
   "outputs": [],
   "source": [
    "resnet18_pretrained.fc = nn.Linear(in_features=512, out_features=2, bias=True)\n",
    "resnet18_pretrained.to(device)\n",
    "# resnet18_pretrained.load_state_dict(torch.load(\"resnet18_pretrained_all_grad.pt\"))\n",
    "def remove_classification_head(model):\n",
    "    modules = list(model.children())[:-1]\n",
    "    model = nn.Sequential(*modules)\n",
    "    return model\n",
    "\n",
    "resnet18_pretrained = remove_classification_head(resnet18_pretrained)"
   ],
   "metadata": {
    "pycharm": {
     "name": "#%%\n"
    },
    "id": "ZyzoVoLdWnPO"
   }
  },
  {
   "cell_type": "code",
   "source": [
    "class SiameseNetworkDataset(Dataset):\n",
    "    def __init__(self,iid_dataset, ood_dataset=None):\n",
    "        self.data = iid_dataset\n",
    "        self.ood_data = ood_dataset\n",
    "        \n",
    "    def __getitem__(self,index):\n",
    "        img0_tuple = random.choice(self.data)\n",
    "\n",
    "        #We need to approximately 50% of images to be in the same class\n",
    "        should_get_same_class = random.randint(0,1) \n",
    "        if should_get_same_class == 1:\n",
    "            while True:\n",
    "                #Look untill the same class image is found\n",
    "                img1_tuple = random.choice(self.data) \n",
    "                if img0_tuple[1] == img1_tuple[1]:\n",
    "                    break\n",
    "        else:\n",
    "            should_get_ood = random.randint(0, 1)\n",
    "            if should_get_ood == 1 and self.ood_data is not None:\n",
    "                while True:\n",
    "                    #Look untill a different class image is found\n",
    "                    img1_tuple = random.choice(self.ood_data)\n",
    "                    if img0_tuple[1] != img1_tuple[1]:\n",
    "                        break\n",
    "            else:\n",
    "                while True:\n",
    "                    #Look untill a different class image is found\n",
    "                    img1_tuple = random.choice(self.data)\n",
    "                    if img0_tuple[1] != img1_tuple[1]:\n",
    "                        break\n",
    "\n",
    "        img0 = img0_tuple[0]\n",
    "        img1 = img1_tuple[0]\n",
    "        \n",
    "        return img0, img1, torch.from_numpy(np.array([int(img1_tuple[1] != img0_tuple[1])], dtype=np.float32))\n",
    "    \n",
    "    def __len__(self):\n",
    "        return len(self.data)"
   ],
   "metadata": {
    "id": "kcIDiIYgVqm9"
   },
   "execution_count": 17,
   "outputs": []
  },
  {
   "cell_type": "code",
   "execution_count": 18,
   "outputs": [],
   "source": [
    "import random"
   ],
   "metadata": {
    "pycharm": {
     "name": "#%%\n"
    },
    "id": "Y8DYeBZxWnPO"
   }
  },
  {
   "cell_type": "code",
   "source": [
    "train_dataset = SiameseNetworkDataset(train_data, transformed_val_data)\n",
    "id_val_dataset = SiameseNetworkDataset(id_val_data)\n",
    "val_dataset = SiameseNetworkDataset(val_data)"
   ],
   "metadata": {
    "id": "29wbM5M6W0kg"
   },
   "execution_count": 19,
   "outputs": []
  },
  {
   "cell_type": "code",
   "source": [
    "test_dataset = SiameseNetworkDataset(test_data)"
   ],
   "metadata": {
    "id": "MzFfVZYbIqAc"
   },
   "execution_count": 20,
   "outputs": []
  },
  {
   "cell_type": "code",
   "source": [
    "#create the Siamese Neural Network\n",
    "class SiameseNetwork(nn.Module):\n",
    "\n",
    "    def __init__(self):\n",
    "        super(SiameseNetwork, self).__init__()\n",
    "\n",
    "        # Setting up the Sequential of CNN Layers\n",
    "        self.embed = resnet18_pretrained\n",
    "\n",
    "        # Setting up the Fully Connected Layers\n",
    "        self.fc1 = nn.Sequential(            \n",
    "            nn.Linear(512,2)\n",
    "        )\n",
    "        \n",
    "    def forward_once(self, x):\n",
    "        # This function will be called for both images\n",
    "        # Its output is used to determine the similiarity\n",
    "        output = self.embed(x)\n",
    "        output = output.view(output.size()[0], -1)\n",
    "        output = self.fc1(output)\n",
    "        return output\n",
    "\n",
    "    def forward(self, input1, input2):\n",
    "        # In this function we pass in both images and obtain both vectors\n",
    "        # which are returned\n",
    "        output1 = self.forward_once(input1)\n",
    "        output2 = self.forward_once(input2)\n",
    "\n",
    "        return output1, output2"
   ],
   "metadata": {
    "id": "bUl6UWjlsZPY"
   },
   "execution_count": 21,
   "outputs": []
  },
  {
   "cell_type": "code",
   "source": [
    "# Define the Contrastive Loss Function\n",
    "class ContrastiveLoss(torch.nn.Module):\n",
    "    def __init__(self, margin=2.0):\n",
    "        super(ContrastiveLoss, self).__init__()\n",
    "        self.margin = margin\n",
    "\n",
    "    def forward(self, output1, output2, label):\n",
    "      # Calculate the euclidean distance and calculate the contrastive loss\n",
    "      euclidean_distance = F.pairwise_distance(output1, output2, keepdim = True)\n",
    "\n",
    "      loss_contrastive = torch.mean((1-label) * torch.pow(euclidean_distance, 2) +\n",
    "                                    (label) * torch.pow(torch.clamp(self.margin - euclidean_distance, min=0.0), 2))\n",
    "\n",
    "\n",
    "      return loss_contrastive"
   ],
   "metadata": {
    "id": "SF8tlRiRu87k"
   },
   "execution_count": 22,
   "outputs": []
  },
  {
   "cell_type": "code",
   "source": [
    "train_loader = DataLoader(train_dataset,\n",
    "                        shuffle=True,\n",
    "                        batch_size=BATCH_SIZE)\n",
    "\n",
    "id_val_loader = DataLoader(id_val_dataset,\n",
    "                        batch_size=BATCH_SIZE)\n",
    "\n",
    "net = SiameseNetwork().to(device)\n",
    "\n",
    "loss_criterion = ContrastiveLoss()\n",
    "\n",
    "optimizer = torch.optim.SGD(net.parameters(), lr=0.01, momentum=0.9)"
   ],
   "metadata": {
    "id": "WrrwT7zsvFIr"
   },
   "execution_count": 23,
   "outputs": []
  },
  {
   "cell_type": "code",
   "source": [
    "def train_epoch(model, train_dataloader, loss_crt, optimizer, device):\n",
    "    \"\"\"\n",
    "    model: Model object\n",
    "    train_dataloader: DataLoader over the training dataset\n",
    "    loss_crt: loss function object\n",
    "    optimizer: Optimizer object\n",
    "    device: torch.device('cpu) or torch.device('cuda')\n",
    "\n",
    "    The function returns:\n",
    "     - the epoch training loss, which is an average over the individual batch\n",
    "       losses\n",
    "    \"\"\"\n",
    "    model.train()\n",
    "    epoch_loss = 0.0\n",
    "\n",
    "    num_batches = len(train_dataloader)\n",
    "    # Iterate over batches\n",
    "    for i, (img0, img1, label) in tqdm(enumerate(train_dataloader, 0)):\n",
    "\n",
    "        # Send the images and labels to CUDA\n",
    "        img0, img1, label = img0.to(device), img1.to(device), label.to(device)\n",
    "\n",
    "        # Zero the gradients\n",
    "        model.zero_grad()\n",
    "\n",
    "        # Pass in the two images into the network and obtain two outputs\n",
    "        output1, output2 = model(img0, img1)\n",
    "\n",
    "        # Pass the outputs of the networks and label into the loss function\n",
    "        loss_contrastive = loss_crt(output1, output2, label)\n",
    "\n",
    "        epoch_loss += loss_contrastive.item()\n",
    "\n",
    "        # Calculate the backpropagation\n",
    "        loss_contrastive.backward()\n",
    "\n",
    "        # Optimize\n",
    "        optimizer.step()\n",
    "\n",
    "\n",
    "    epoch_loss = epoch_loss/num_batches\n",
    "    return epoch_loss\n",
    "\n",
    "def eval_epoch(model, val_dataloader, loss_crt, device):\n",
    "    \"\"\"\n",
    "    model: Model object\n",
    "    val_dataloader: DataLoader over the validation dataset\n",
    "    loss_crt: loss function object\n",
    "    device: torch.device('cpu) or torch.device('cuda')\n",
    "\n",
    "    The function returns:\n",
    "     - the epoch validation loss, which is an average over the individual batch\n",
    "       losses\n",
    "    \"\"\"\n",
    "    model.eval()\n",
    "    epoch_loss = 0.0\n",
    "\n",
    "    num_batches = len(val_dataloader)\n",
    "    with torch.no_grad():\n",
    "      # Iterate over batches\n",
    "      for i, (img0, img1, label) in tqdm(enumerate(val_dataloader, 0)):\n",
    "\n",
    "          # Send the images and labels to CUDA\n",
    "          img0, img1, label = img0.to(device), img1.to(device), label.to(device)\n",
    "\n",
    "          # Pass in the two images into the network and obtain two outputs\n",
    "          output1, output2 = model(img0, img1)\n",
    "\n",
    "          # Pass the outputs of the networks and label into the loss function\n",
    "          loss_contrastive = loss_crt(output1, output2, label)\n",
    "\n",
    "          epoch_loss += loss_contrastive.item()\n",
    "\n",
    "    epoch_loss = epoch_loss/num_batches\n",
    "  \n",
    "    return epoch_loss"
   ],
   "metadata": {
    "id": "ku6KqKdRtIRI"
   },
   "execution_count": 24,
   "outputs": []
  },
  {
   "cell_type": "code",
   "source": [
    "train_losses = []\n",
    "train_accuracies = []\n",
    "id_val_losses = []\n",
    "id_val_accuracies = []\n",
    "for epoch in range(1, num_epochs+1):\n",
    "  train_loss = train_epoch(net, train_loader, loss_criterion, optimizer, device)\n",
    "  val_loss = eval_epoch(net, id_val_loader, loss_criterion, device)\n",
    "  train_losses.append(train_loss)\n",
    "  id_val_losses.append(val_loss)\n",
    "  print('\\nEpoch %d'%(epoch))\n",
    "  print('train loss: %10.8f'%(train_loss))\n",
    "  print('id_val loss: %10.8f'%(val_loss))"
   ],
   "metadata": {
    "id": "dLwPgDEmuZdl",
    "pycharm": {
     "is_executing": true
    },
    "colab": {
     "base_uri": "https://localhost:8080/"
    },
    "outputId": "1dc108b5-aff9-4c98-a677-74854f109399"
   },
   "execution_count": 25,
   "outputs": [
    {
     "output_type": "stream",
     "name": "stderr",
     "text": [
      "3119it [12:35,  4.13it/s]\n",
      "347it [01:25,  4.07it/s]\n"
     ]
    },
    {
     "output_type": "stream",
     "name": "stdout",
     "text": [
      "\n",
      "Epoch 1\n",
      "train loss: 0.33831905\n",
      "id_val loss: 0.16090741\n"
     ]
    },
    {
     "output_type": "stream",
     "name": "stderr",
     "text": [
      "3119it [10:37,  4.89it/s]\n",
      "347it [01:12,  4.80it/s]\n"
     ]
    },
    {
     "output_type": "stream",
     "name": "stdout",
     "text": [
      "\n",
      "Epoch 2\n",
      "train loss: 0.13848418\n",
      "id_val loss: 0.13925353\n"
     ]
    },
    {
     "output_type": "stream",
     "name": "stderr",
     "text": [
      "3119it [10:21,  5.02it/s]\n",
      "347it [01:10,  4.89it/s]\n"
     ]
    },
    {
     "output_type": "stream",
     "name": "stdout",
     "text": [
      "\n",
      "Epoch 3\n",
      "train loss: 0.10704207\n",
      "id_val loss: 0.18488544\n"
     ]
    },
    {
     "output_type": "stream",
     "name": "stderr",
     "text": [
      "3119it [10:00,  5.19it/s]\n",
      "347it [01:10,  4.96it/s]\n"
     ]
    },
    {
     "output_type": "stream",
     "name": "stdout",
     "text": [
      "\n",
      "Epoch 4\n",
      "train loss: 0.08619465\n",
      "id_val loss: 0.16305377\n"
     ]
    },
    {
     "output_type": "stream",
     "name": "stderr",
     "text": [
      "3119it [09:56,  5.23it/s]\n",
      "347it [01:09,  4.99it/s]"
     ]
    },
    {
     "output_type": "stream",
     "name": "stdout",
     "text": [
      "\n",
      "Epoch 5\n",
      "train loss: 0.07019215\n",
      "id_val loss: 0.12000792\n"
     ]
    },
    {
     "output_type": "stream",
     "name": "stderr",
     "text": [
      "\n"
     ]
    }
   ]
  },
  {
   "cell_type": "code",
   "source": [
    "val_loader = DataLoader(val_dataset,\n",
    "                        batch_size=BATCH_SIZE)"
   ],
   "metadata": {
    "id": "ZlKH0PnkAlch",
    "pycharm": {
     "is_executing": true
    }
   },
   "execution_count": 26,
   "outputs": []
  },
  {
   "cell_type": "code",
   "source": [
    "import torchvision\n",
    "from matplotlib.pyplot import imshow\n",
    "import torchvision.utils\n",
    "# Grab one image that we are going to test\n",
    "dataiter = iter(train_loader)\n",
    "x0, _, label1 = next(dataiter)\n",
    "dataiter = iter(id_val_loader)\n",
    "\n",
    "dissimilarity = [[], []]\n",
    "\n",
    "for i in range(5):\n",
    "    # Iterate over 5 images and test them with the first image (x0)\n",
    "    _, x1, label2 = next(dataiter)\n",
    "    \n",
    "    output1, output2 = net(x0.cuda(), x1.cuda())\n",
    "\n",
    "    euclidean_distance = F.pairwise_distance(output1, output2)\n",
    "    \"\"\"\n",
    "    talking on the phone\n",
    "    \"\"\"\n",
    "    for idx in range(BATCH_SIZE):\n",
    "      # print(label1[idx].item(), label2[idx].item())\n",
    "      # print(f'Dissimilarity: {euclidean_distance[idx].item():.2f}')\n",
    "      # print(\"\\n\")\n",
    "      dissimilarity[1 if label1[idx].item() == label2[idx].item() else 0].append(euclidean_distance[idx].item())\n",
    "\n",
    "\n"
   ],
   "metadata": {
    "id": "1CU1STLi2ihG",
    "pycharm": {
     "is_executing": true
    }
   },
   "execution_count": 27,
   "outputs": []
  },
  {
   "cell_type": "code",
   "source": [
    "import numpy as np\n",
    "def calc_mean_std(arr):\n",
    "    arr = np.asarray(arr)\n",
    "    return arr.mean(), arr.std()\n",
    "\n",
    "\n",
    "print(calc_mean_std(dissimilarity[0]))\n",
    "print(calc_mean_std(dissimilarity[1]))"
   ],
   "metadata": {
    "id": "2rJXz1yIBgH8",
    "pycharm": {
     "is_executing": true
    },
    "colab": {
     "base_uri": "https://localhost:8080/"
    },
    "outputId": "cffe72c7-83ae-492d-a145-9b8a7518bdaa"
   },
   "execution_count": 28,
   "outputs": [
    {
     "output_type": "stream",
     "name": "stdout",
     "text": [
      "(0.9252706960273477, 0.9200298323257905)\n",
      "(0.9166301691013093, 0.9200705991807248)\n"
     ]
    }
   ]
  },
  {
   "cell_type": "code",
   "source": [
    "dissimilarity = [[], []]\n",
    "dataiter = iter(val_loader)\n",
    "for i in range(5):\n",
    "    # Iterate over 5 images and test them with the first image (x0)\n",
    "    _, x1, label2 = next(dataiter)\n",
    "    \n",
    "    output1, output2 = net(x0.cuda(), x1.cuda())\n",
    "\n",
    "    euclidean_distance = F.pairwise_distance(output1, output2)\n",
    "  \n",
    "    for idx in range(BATCH_SIZE):\n",
    "      # print(label1[idx].item(), label2[idx].item())\n",
    "      # print(f'Dissimilarity: {euclidean_distance[idx].item():.2f}')\n",
    "      dissimilarity[1 if label1[idx].item() == label2[idx].item() else 0].append(euclidean_distance[idx].item())"
   ],
   "metadata": {
    "id": "9ROkdNBaBvmN",
    "pycharm": {
     "is_executing": true
    }
   },
   "execution_count": 29,
   "outputs": []
  },
  {
   "cell_type": "code",
   "source": [
    "print(calc_mean_std(dissimilarity[0]))\n",
    "print(calc_mean_std(dissimilarity[1]))"
   ],
   "metadata": {
    "id": "RnJbuUF6B35P",
    "pycharm": {
     "is_executing": true
    },
    "colab": {
     "base_uri": "https://localhost:8080/"
    },
    "outputId": "b8c37ab4-15cd-4e75-a843-8621f221fa3f"
   },
   "execution_count": 30,
   "outputs": [
    {
     "output_type": "stream",
     "name": "stdout",
     "text": [
      "(2.1321179715680403, 0.29194946951197576)\n",
      "(2.0532540899983953, 0.31916250620519543)\n"
     ]
    }
   ]
  },
  {
   "cell_type": "code",
   "source": [
    "test_loader = DataLoader(test_dataset,\n",
    "                        batch_size=BATCH_SIZE)"
   ],
   "metadata": {
    "id": "DDucR0yAIwrI",
    "pycharm": {
     "is_executing": true
    }
   },
   "execution_count": 31,
   "outputs": []
  },
  {
   "cell_type": "code",
   "source": [
    "dissimilarity = [[], []]\n",
    "dataiter = iter(test_loader)\n",
    "for i in range(5):\n",
    "    # Iterate over 5 images and test them with the first image (x0)\n",
    "    _, x1, label2 = next(dataiter)\n",
    "    \n",
    "    output1, output2 = net(x0.cuda(), x1.cuda())\n",
    "\n",
    "    euclidean_distance = F.pairwise_distance(output1, output2)\n",
    "    \n",
    "    for idx in range(BATCH_SIZE):\n",
    "      # print(label1[idx].item(), label2[idx].item())\n",
    "      # print(f'Dissimilarity: {euclidean_distance[idx].item():.2f}')\n",
    "      dissimilarity[1 if label1[idx].item() == label2[idx].item() else 0].append(euclidean_distance[idx].item())"
   ],
   "metadata": {
    "id": "FJT8YCjMIkyT",
    "pycharm": {
     "is_executing": true
    },
    "colab": {
     "base_uri": "https://localhost:8080/"
    },
    "outputId": "5842fc5d-8dcd-417d-ed06-d72da4984604"
   },
   "execution_count": 36,
   "outputs": [
    {
     "output_type": "stream",
     "name": "stdout",
     "text": [
      "torch.Size([32, 2])\n",
      "torch.Size([32, 2])\n",
      "torch.Size([32, 2])\n",
      "torch.Size([32, 2])\n",
      "torch.Size([32, 2])\n"
     ]
    }
   ]
  },
  {
   "cell_type": "code",
   "source": [
    "\"\"\"\n",
    "\n",
    "TODO: SAVE THE MODEL\n",
    "\n",
    "\"\"\""
   ],
   "metadata": {
    "id": "pY35HFfMOCCM",
    "pycharm": {
     "is_executing": true
    },
    "colab": {
     "base_uri": "https://localhost:8080/",
     "height": 35
    },
    "outputId": "596bed2a-9104-4ab3-922c-b5b8690b0a74"
   },
   "execution_count": 33,
   "outputs": [
    {
     "output_type": "execute_result",
     "data": {
      "text/plain": [
       "'\\n\\nTODO: SAVE THE MODEL\\n\\n'"
      ],
      "application/vnd.google.colaboratory.intrinsic+json": {
       "type": "string"
      }
     },
     "metadata": {},
     "execution_count": 33
    }
   ]
  },
  {
   "cell_type": "code",
   "source": [
    "print(calc_mean_std(dissimilarity[0]))\n",
    "print(calc_mean_std(dissimilarity[1]))"
   ],
   "metadata": {
    "id": "uUSjfYwGInZf",
    "pycharm": {
     "is_executing": true
    },
    "colab": {
     "base_uri": "https://localhost:8080/"
    },
    "outputId": "e4b931df-89c7-4c5a-f2e9-203b9daf9687"
   },
   "execution_count": 34,
   "outputs": [
    {
     "output_type": "stream",
     "name": "stdout",
     "text": [
      "(0.8794370540479002, 0.8178358841567099)\n",
      "(0.9906537462957203, 0.8634362688515448)\n"
     ]
    }
   ]
  },
  {
   "cell_type": "code",
   "source": [
    "torch.save(net.state_dict(), \"contrastive_resnet18_adam.pt\")"
   ],
   "metadata": {
    "id": "SX0HL_d2zhaZ"
   },
   "execution_count": 35,
   "outputs": []
  },
  {
   "cell_type": "code",
   "source": [
    "train_loader = get_train_loader(\"standard\", train_data, batch_size=BATCH_SIZE)\n",
    "id_val_loader = get_train_loader(\"standard\", id_val_data, batch_size=BATCH_SIZE)\n",
    "test_loader = get_train_loader(\"standard\", test_data, batch_size=BATCH_SIZE)\n",
    "\n"
   ],
   "metadata": {
    "id": "HSnqHHcN1vPW"
   },
   "execution_count": 37,
   "outputs": []
  },
  {
   "cell_type": "code",
   "source": [
    "x1, label1, _ = next(iter(id_val_loader))\n",
    "\n",
    "net.eval()\n",
    "dissimilarity = [[], []]\n",
    "with torch.no_grad():\n",
    "    for batch_idx, batch in tqdm(enumerate(train_loader)):\n",
    "        # Iterate over 5 images and test them with the first image (x0)\n",
    "        x1, label2, _ = batch\n",
    "        \n",
    "        output1, output2 = net(x0.cuda(), x1.cuda())\n",
    "        try:\n",
    "            euclidean_distance = F.pairwise_distance(output1, output2)\n",
    "            \n",
    "            for idx in range(BATCH_SIZE):\n",
    "            # print(label1[idx].item(), label2[idx].item())\n",
    "            # print(f'Dissimilarity: {euclidean_distance[idx].item():.2f}')\n",
    "                dissimilarity[1 if label1[idx].item() == label2[idx].item() else 0].append(euclidean_distance[idx].item())\n",
    "        except:\n",
    "            pass\n",
    "\n",
    "\n"
   ],
   "metadata": {
    "colab": {
     "base_uri": "https://localhost:8080/",
     "height": 391
    },
    "id": "-Uo4dB7-5c70",
    "outputId": "4ada7513-88d5-416f-a518-f57c12e710aa"
   },
   "execution_count": 39,
   "outputs": [
    {
     "output_type": "stream",
     "name": "stderr",
     "text": [
      "3118it [05:13,  9.96it/s]\n"
     ]
    },
    {
     "output_type": "error",
     "ename": "RuntimeError",
     "evalue": "ignored",
     "traceback": [
      "\u001B[0;31m---------------------------------------------------------------------------\u001B[0m",
      "\u001B[0;31mRuntimeError\u001B[0m                              Traceback (most recent call last)",
      "\u001B[0;32m<ipython-input-39-8094476238b2>\u001B[0m in \u001B[0;36m<module>\u001B[0;34m()\u001B[0m\n\u001B[1;32m     10\u001B[0m         \u001B[0moutput1\u001B[0m\u001B[0;34m,\u001B[0m \u001B[0moutput2\u001B[0m \u001B[0;34m=\u001B[0m \u001B[0mnet\u001B[0m\u001B[0;34m(\u001B[0m\u001B[0mx0\u001B[0m\u001B[0;34m.\u001B[0m\u001B[0mcuda\u001B[0m\u001B[0;34m(\u001B[0m\u001B[0;34m)\u001B[0m\u001B[0;34m,\u001B[0m \u001B[0mx1\u001B[0m\u001B[0;34m.\u001B[0m\u001B[0mcuda\u001B[0m\u001B[0;34m(\u001B[0m\u001B[0;34m)\u001B[0m\u001B[0;34m)\u001B[0m\u001B[0;34m\u001B[0m\u001B[0;34m\u001B[0m\u001B[0m\n\u001B[1;32m     11\u001B[0m \u001B[0;34m\u001B[0m\u001B[0m\n\u001B[0;32m---> 12\u001B[0;31m         \u001B[0meuclidean_distance\u001B[0m \u001B[0;34m=\u001B[0m \u001B[0mF\u001B[0m\u001B[0;34m.\u001B[0m\u001B[0mpairwise_distance\u001B[0m\u001B[0;34m(\u001B[0m\u001B[0moutput1\u001B[0m\u001B[0;34m,\u001B[0m \u001B[0moutput2\u001B[0m\u001B[0;34m)\u001B[0m\u001B[0;34m\u001B[0m\u001B[0;34m\u001B[0m\u001B[0m\n\u001B[0m\u001B[1;32m     13\u001B[0m \u001B[0;34m\u001B[0m\u001B[0m\n\u001B[1;32m     14\u001B[0m         \u001B[0;32mfor\u001B[0m \u001B[0midx\u001B[0m \u001B[0;32min\u001B[0m \u001B[0mrange\u001B[0m\u001B[0;34m(\u001B[0m\u001B[0mBATCH_SIZE\u001B[0m\u001B[0;34m)\u001B[0m\u001B[0;34m:\u001B[0m\u001B[0;34m\u001B[0m\u001B[0;34m\u001B[0m\u001B[0m\n",
      "\u001B[0;32m/usr/local/lib/python3.7/dist-packages/torch/nn/functional.py\u001B[0m in \u001B[0;36mpairwise_distance\u001B[0;34m(x1, x2, p, eps, keepdim)\u001B[0m\n\u001B[1;32m   4222\u001B[0m     \u001B[0;32mif\u001B[0m \u001B[0mhas_torch_function_variadic\u001B[0m\u001B[0;34m(\u001B[0m\u001B[0mx1\u001B[0m\u001B[0;34m,\u001B[0m \u001B[0mx2\u001B[0m\u001B[0;34m)\u001B[0m\u001B[0;34m:\u001B[0m\u001B[0;34m\u001B[0m\u001B[0;34m\u001B[0m\u001B[0m\n\u001B[1;32m   4223\u001B[0m         \u001B[0;32mreturn\u001B[0m \u001B[0mhandle_torch_function\u001B[0m\u001B[0;34m(\u001B[0m\u001B[0mpairwise_distance\u001B[0m\u001B[0;34m,\u001B[0m \u001B[0;34m(\u001B[0m\u001B[0mx1\u001B[0m\u001B[0;34m,\u001B[0m \u001B[0mx2\u001B[0m\u001B[0;34m)\u001B[0m\u001B[0;34m,\u001B[0m \u001B[0mx1\u001B[0m\u001B[0;34m,\u001B[0m \u001B[0mx2\u001B[0m\u001B[0;34m,\u001B[0m \u001B[0mp\u001B[0m\u001B[0;34m=\u001B[0m\u001B[0mp\u001B[0m\u001B[0;34m,\u001B[0m \u001B[0meps\u001B[0m\u001B[0;34m=\u001B[0m\u001B[0meps\u001B[0m\u001B[0;34m,\u001B[0m \u001B[0mkeepdim\u001B[0m\u001B[0;34m=\u001B[0m\u001B[0mkeepdim\u001B[0m\u001B[0;34m)\u001B[0m\u001B[0;34m\u001B[0m\u001B[0;34m\u001B[0m\u001B[0m\n\u001B[0;32m-> 4224\u001B[0;31m     \u001B[0;32mreturn\u001B[0m \u001B[0mtorch\u001B[0m\u001B[0;34m.\u001B[0m\u001B[0mpairwise_distance\u001B[0m\u001B[0;34m(\u001B[0m\u001B[0mx1\u001B[0m\u001B[0;34m,\u001B[0m \u001B[0mx2\u001B[0m\u001B[0;34m,\u001B[0m \u001B[0mp\u001B[0m\u001B[0;34m,\u001B[0m \u001B[0meps\u001B[0m\u001B[0;34m,\u001B[0m \u001B[0mkeepdim\u001B[0m\u001B[0;34m)\u001B[0m\u001B[0;34m\u001B[0m\u001B[0;34m\u001B[0m\u001B[0m\n\u001B[0m\u001B[1;32m   4225\u001B[0m \u001B[0;34m\u001B[0m\u001B[0m\n\u001B[1;32m   4226\u001B[0m \u001B[0;34m\u001B[0m\u001B[0m\n",
      "\u001B[0;31mRuntimeError\u001B[0m: The size of tensor a (32) must match the size of tensor b (28) at non-singleton dimension 0"
     ]
    }
   ]
  },
  {
   "cell_type": "code",
   "source": [
    "print(calc_mean_std(dissimilarity[0]))\n",
    "print(calc_mean_std(dissimilarity[1]))"
   ],
   "metadata": {
    "colab": {
     "base_uri": "https://localhost:8080/"
    },
    "id": "L3xbpV4v7_xh",
    "outputId": "5d8523e6-46f7-4795-97c8-9d522e65326a"
   },
   "execution_count": 40,
   "outputs": [
    {
     "output_type": "stream",
     "name": "stdout",
     "text": [
      "(1.1948577253725028, 0.9077498039137472)\n",
      "(0.8611920724021344, 0.9000172029985579)\n"
     ]
    }
   ]
  },
  {
   "cell_type": "code",
   "source": [
    "x1, label1, _ = next(iter(test_loader))\n",
    "\n",
    "net.eval()\n",
    "dissimilarity = [[], []]\n",
    "with torch.no_grad():\n",
    "    for batch_idx, batch in tqdm(enumerate(train_loader)):\n",
    "        # Iterate over 5 images and test them with the first image (x0)\n",
    "        x1, label2, _ = batch\n",
    "        \n",
    "        output1, output2 = net(x0.cuda(), x1.cuda())\n",
    "        try:\n",
    "            euclidean_distance = F.pairwise_distance(output1, output2)\n",
    "            \n",
    "            for idx in range(BATCH_SIZE):\n",
    "            # print(label1[idx].item(), label2[idx].item())\n",
    "            # print(f'Dissimilarity: {euclidean_distance[idx].item():.2f}')\n",
    "                dissimilarity[1 if label1[idx].item() == label2[idx].item() else 0].append(euclidean_distance[idx].item())\n",
    "        except:\n",
    "            pass"
   ],
   "metadata": {
    "colab": {
     "base_uri": "https://localhost:8080/"
    },
    "id": "Kr8JHcFY8UrO",
    "outputId": "86b42236-2d91-4c18-ae64-98cd31192cc4"
   },
   "execution_count": 41,
   "outputs": [
    {
     "output_type": "stream",
     "name": "stderr",
     "text": [
      "3119it [05:15,  9.90it/s]\n"
     ]
    }
   ]
  },
  {
   "cell_type": "code",
   "source": [
    "print(calc_mean_std(dissimilarity[0]))\n",
    "print(calc_mean_std(dissimilarity[1]))"
   ],
   "metadata": {
    "colab": {
     "base_uri": "https://localhost:8080/"
    },
    "id": "lV38UKJ38Xuw",
    "outputId": "7907ac58-cdd6-4aaa-8c6f-7f227e3b2da3"
   },
   "execution_count": 42,
   "outputs": [
    {
     "output_type": "stream",
     "name": "stdout",
     "text": [
      "(1.02897720035834, 0.9303215695093211)\n",
      "(1.0266210519959225, 0.908138065334055)\n"
     ]
    }
   ]
  }
 ],
 "metadata": {
  "kernelspec": {
   "display_name": "Python 3",
   "language": "python",
   "name": "python3"
  },
  "language_info": {
   "codemirror_mode": {
    "name": "ipython",
    "version": 2
   },
   "file_extension": ".py",
   "mimetype": "text/x-python",
   "name": "python",
   "nbconvert_exporter": "python",
   "pygments_lexer": "ipython2",
   "version": "2.7.6"
  },
  "colab": {
   "name": "contrastive_learning_2.ipynb",
   "provenance": [],
   "collapsed_sections": []
  },
  "accelerator": "GPU",
  "widgets": {
   "application/vnd.jupyter.widget-state+json": {
    "15fe546b6bf3406a810e1fa065f65f85": {
     "model_module": "@jupyter-widgets/controls",
     "model_name": "HBoxModel",
     "model_module_version": "1.5.0",
     "state": {
      "_dom_classes": [],
      "_model_module": "@jupyter-widgets/controls",
      "_model_module_version": "1.5.0",
      "_model_name": "HBoxModel",
      "_view_count": null,
      "_view_module": "@jupyter-widgets/controls",
      "_view_module_version": "1.5.0",
      "_view_name": "HBoxView",
      "box_style": "",
      "children": [
       "IPY_MODEL_6dbe933d99f74197b19d6b5fd2930f9e",
       "IPY_MODEL_87f91b2309084b25a7a679193ea1a626",
       "IPY_MODEL_a6dc576100ca459fadb7575f78f2e0e2"
      ],
      "layout": "IPY_MODEL_a90bfda1c35040558b75a46213394a72"
     }
    },
    "6dbe933d99f74197b19d6b5fd2930f9e": {
     "model_module": "@jupyter-widgets/controls",
     "model_name": "HTMLModel",
     "model_module_version": "1.5.0",
     "state": {
      "_dom_classes": [],
      "_model_module": "@jupyter-widgets/controls",
      "_model_module_version": "1.5.0",
      "_model_name": "HTMLModel",
      "_view_count": null,
      "_view_module": "@jupyter-widgets/controls",
      "_view_module_version": "1.5.0",
      "_view_name": "HTMLView",
      "description": "",
      "description_tooltip": null,
      "layout": "IPY_MODEL_23f765e1690b4b70b436021054556c9f",
      "placeholder": "​",
      "style": "IPY_MODEL_5a68ba8c1b3b41c9836f4c3086828361",
      "value": ""
     }
    },
    "87f91b2309084b25a7a679193ea1a626": {
     "model_module": "@jupyter-widgets/controls",
     "model_name": "FloatProgressModel",
     "model_module_version": "1.5.0",
     "state": {
      "_dom_classes": [],
      "_model_module": "@jupyter-widgets/controls",
      "_model_module_version": "1.5.0",
      "_model_name": "FloatProgressModel",
      "_view_count": null,
      "_view_module": "@jupyter-widgets/controls",
      "_view_module_version": "1.5.0",
      "_view_name": "ProgressView",
      "bar_style": "success",
      "description": "",
      "description_tooltip": null,
      "layout": "IPY_MODEL_cd6a8c1021b44da8b1b93ba9590f8599",
      "max": 10658709504,
      "min": 0,
      "orientation": "horizontal",
      "style": "IPY_MODEL_4b0bdbbb56a4451e922f04f97b75eeb1",
      "value": 10658709504
     }
    },
    "a6dc576100ca459fadb7575f78f2e0e2": {
     "model_module": "@jupyter-widgets/controls",
     "model_name": "HTMLModel",
     "model_module_version": "1.5.0",
     "state": {
      "_dom_classes": [],
      "_model_module": "@jupyter-widgets/controls",
      "_model_module_version": "1.5.0",
      "_model_name": "HTMLModel",
      "_view_count": null,
      "_view_module": "@jupyter-widgets/controls",
      "_view_module_version": "1.5.0",
      "_view_name": "HTMLView",
      "description": "",
      "description_tooltip": null,
      "layout": "IPY_MODEL_81f8df4fe7184f118a2dfd4f69ed9503",
      "placeholder": "​",
      "style": "IPY_MODEL_0bd9f43bee4d493dbdabda0889341e15",
      "value": " 10658897920/? [57:21&lt;00:00, 5331792.14Byte/s]"
     }
    },
    "a90bfda1c35040558b75a46213394a72": {
     "model_module": "@jupyter-widgets/base",
     "model_name": "LayoutModel",
     "model_module_version": "1.2.0",
     "state": {
      "_model_module": "@jupyter-widgets/base",
      "_model_module_version": "1.2.0",
      "_model_name": "LayoutModel",
      "_view_count": null,
      "_view_module": "@jupyter-widgets/base",
      "_view_module_version": "1.2.0",
      "_view_name": "LayoutView",
      "align_content": null,
      "align_items": null,
      "align_self": null,
      "border": null,
      "bottom": null,
      "display": null,
      "flex": null,
      "flex_flow": null,
      "grid_area": null,
      "grid_auto_columns": null,
      "grid_auto_flow": null,
      "grid_auto_rows": null,
      "grid_column": null,
      "grid_gap": null,
      "grid_row": null,
      "grid_template_areas": null,
      "grid_template_columns": null,
      "grid_template_rows": null,
      "height": null,
      "justify_content": null,
      "justify_items": null,
      "left": null,
      "margin": null,
      "max_height": null,
      "max_width": null,
      "min_height": null,
      "min_width": null,
      "object_fit": null,
      "object_position": null,
      "order": null,
      "overflow": null,
      "overflow_x": null,
      "overflow_y": null,
      "padding": null,
      "right": null,
      "top": null,
      "visibility": null,
      "width": null
     }
    },
    "23f765e1690b4b70b436021054556c9f": {
     "model_module": "@jupyter-widgets/base",
     "model_name": "LayoutModel",
     "model_module_version": "1.2.0",
     "state": {
      "_model_module": "@jupyter-widgets/base",
      "_model_module_version": "1.2.0",
      "_model_name": "LayoutModel",
      "_view_count": null,
      "_view_module": "@jupyter-widgets/base",
      "_view_module_version": "1.2.0",
      "_view_name": "LayoutView",
      "align_content": null,
      "align_items": null,
      "align_self": null,
      "border": null,
      "bottom": null,
      "display": null,
      "flex": null,
      "flex_flow": null,
      "grid_area": null,
      "grid_auto_columns": null,
      "grid_auto_flow": null,
      "grid_auto_rows": null,
      "grid_column": null,
      "grid_gap": null,
      "grid_row": null,
      "grid_template_areas": null,
      "grid_template_columns": null,
      "grid_template_rows": null,
      "height": null,
      "justify_content": null,
      "justify_items": null,
      "left": null,
      "margin": null,
      "max_height": null,
      "max_width": null,
      "min_height": null,
      "min_width": null,
      "object_fit": null,
      "object_position": null,
      "order": null,
      "overflow": null,
      "overflow_x": null,
      "overflow_y": null,
      "padding": null,
      "right": null,
      "top": null,
      "visibility": null,
      "width": null
     }
    },
    "5a68ba8c1b3b41c9836f4c3086828361": {
     "model_module": "@jupyter-widgets/controls",
     "model_name": "DescriptionStyleModel",
     "model_module_version": "1.5.0",
     "state": {
      "_model_module": "@jupyter-widgets/controls",
      "_model_module_version": "1.5.0",
      "_model_name": "DescriptionStyleModel",
      "_view_count": null,
      "_view_module": "@jupyter-widgets/base",
      "_view_module_version": "1.2.0",
      "_view_name": "StyleView",
      "description_width": ""
     }
    },
    "cd6a8c1021b44da8b1b93ba9590f8599": {
     "model_module": "@jupyter-widgets/base",
     "model_name": "LayoutModel",
     "model_module_version": "1.2.0",
     "state": {
      "_model_module": "@jupyter-widgets/base",
      "_model_module_version": "1.2.0",
      "_model_name": "LayoutModel",
      "_view_count": null,
      "_view_module": "@jupyter-widgets/base",
      "_view_module_version": "1.2.0",
      "_view_name": "LayoutView",
      "align_content": null,
      "align_items": null,
      "align_self": null,
      "border": null,
      "bottom": null,
      "display": null,
      "flex": null,
      "flex_flow": null,
      "grid_area": null,
      "grid_auto_columns": null,
      "grid_auto_flow": null,
      "grid_auto_rows": null,
      "grid_column": null,
      "grid_gap": null,
      "grid_row": null,
      "grid_template_areas": null,
      "grid_template_columns": null,
      "grid_template_rows": null,
      "height": null,
      "justify_content": null,
      "justify_items": null,
      "left": null,
      "margin": null,
      "max_height": null,
      "max_width": null,
      "min_height": null,
      "min_width": null,
      "object_fit": null,
      "object_position": null,
      "order": null,
      "overflow": null,
      "overflow_x": null,
      "overflow_y": null,
      "padding": null,
      "right": null,
      "top": null,
      "visibility": null,
      "width": null
     }
    },
    "4b0bdbbb56a4451e922f04f97b75eeb1": {
     "model_module": "@jupyter-widgets/controls",
     "model_name": "ProgressStyleModel",
     "model_module_version": "1.5.0",
     "state": {
      "_model_module": "@jupyter-widgets/controls",
      "_model_module_version": "1.5.0",
      "_model_name": "ProgressStyleModel",
      "_view_count": null,
      "_view_module": "@jupyter-widgets/base",
      "_view_module_version": "1.2.0",
      "_view_name": "StyleView",
      "bar_color": null,
      "description_width": ""
     }
    },
    "81f8df4fe7184f118a2dfd4f69ed9503": {
     "model_module": "@jupyter-widgets/base",
     "model_name": "LayoutModel",
     "model_module_version": "1.2.0",
     "state": {
      "_model_module": "@jupyter-widgets/base",
      "_model_module_version": "1.2.0",
      "_model_name": "LayoutModel",
      "_view_count": null,
      "_view_module": "@jupyter-widgets/base",
      "_view_module_version": "1.2.0",
      "_view_name": "LayoutView",
      "align_content": null,
      "align_items": null,
      "align_self": null,
      "border": null,
      "bottom": null,
      "display": null,
      "flex": null,
      "flex_flow": null,
      "grid_area": null,
      "grid_auto_columns": null,
      "grid_auto_flow": null,
      "grid_auto_rows": null,
      "grid_column": null,
      "grid_gap": null,
      "grid_row": null,
      "grid_template_areas": null,
      "grid_template_columns": null,
      "grid_template_rows": null,
      "height": null,
      "justify_content": null,
      "justify_items": null,
      "left": null,
      "margin": null,
      "max_height": null,
      "max_width": null,
      "min_height": null,
      "min_width": null,
      "object_fit": null,
      "object_position": null,
      "order": null,
      "overflow": null,
      "overflow_x": null,
      "overflow_y": null,
      "padding": null,
      "right": null,
      "top": null,
      "visibility": null,
      "width": null
     }
    },
    "0bd9f43bee4d493dbdabda0889341e15": {
     "model_module": "@jupyter-widgets/controls",
     "model_name": "DescriptionStyleModel",
     "model_module_version": "1.5.0",
     "state": {
      "_model_module": "@jupyter-widgets/controls",
      "_model_module_version": "1.5.0",
      "_model_name": "DescriptionStyleModel",
      "_view_count": null,
      "_view_module": "@jupyter-widgets/base",
      "_view_module_version": "1.2.0",
      "_view_name": "StyleView",
      "description_width": ""
     }
    },
    "9104cf478bcb42dd9a2fa26c91308426": {
     "model_module": "@jupyter-widgets/controls",
     "model_name": "HBoxModel",
     "model_module_version": "1.5.0",
     "state": {
      "_dom_classes": [],
      "_model_module": "@jupyter-widgets/controls",
      "_model_module_version": "1.5.0",
      "_model_name": "HBoxModel",
      "_view_count": null,
      "_view_module": "@jupyter-widgets/controls",
      "_view_module_version": "1.5.0",
      "_view_name": "HBoxView",
      "box_style": "",
      "children": [
       "IPY_MODEL_562f13a12c164a96bdedb61f52dcaac4",
       "IPY_MODEL_806943399a9f466aaab31e7f4c049f4f",
       "IPY_MODEL_3da9e884c19a467496cd49e7ecc864c4"
      ],
      "layout": "IPY_MODEL_871d2e19e03647869ca6c38d730cc974"
     }
    },
    "562f13a12c164a96bdedb61f52dcaac4": {
     "model_module": "@jupyter-widgets/controls",
     "model_name": "HTMLModel",
     "model_module_version": "1.5.0",
     "state": {
      "_dom_classes": [],
      "_model_module": "@jupyter-widgets/controls",
      "_model_module_version": "1.5.0",
      "_model_name": "HTMLModel",
      "_view_count": null,
      "_view_module": "@jupyter-widgets/controls",
      "_view_module_version": "1.5.0",
      "_view_name": "HTMLView",
      "description": "",
      "description_tooltip": null,
      "layout": "IPY_MODEL_2403eea1663341578a66e8e1ced13ca4",
      "placeholder": "​",
      "style": "IPY_MODEL_1e6f652db1c14a16ac45043f741f27a6",
      "value": "100%"
     }
    },
    "806943399a9f466aaab31e7f4c049f4f": {
     "model_module": "@jupyter-widgets/controls",
     "model_name": "FloatProgressModel",
     "model_module_version": "1.5.0",
     "state": {
      "_dom_classes": [],
      "_model_module": "@jupyter-widgets/controls",
      "_model_module_version": "1.5.0",
      "_model_name": "FloatProgressModel",
      "_view_count": null,
      "_view_module": "@jupyter-widgets/controls",
      "_view_module_version": "1.5.0",
      "_view_name": "ProgressView",
      "bar_style": "success",
      "description": "",
      "description_tooltip": null,
      "layout": "IPY_MODEL_a1476b7bad2e476eba3aa796c07d257b",
      "max": 46830571,
      "min": 0,
      "orientation": "horizontal",
      "style": "IPY_MODEL_85b600fb1efc4a0baf58dffd8ec79c85",
      "value": 46830571
     }
    },
    "3da9e884c19a467496cd49e7ecc864c4": {
     "model_module": "@jupyter-widgets/controls",
     "model_name": "HTMLModel",
     "model_module_version": "1.5.0",
     "state": {
      "_dom_classes": [],
      "_model_module": "@jupyter-widgets/controls",
      "_model_module_version": "1.5.0",
      "_model_name": "HTMLModel",
      "_view_count": null,
      "_view_module": "@jupyter-widgets/controls",
      "_view_module_version": "1.5.0",
      "_view_name": "HTMLView",
      "description": "",
      "description_tooltip": null,
      "layout": "IPY_MODEL_596e74f52a5a407f959a5c65fe738da3",
      "placeholder": "​",
      "style": "IPY_MODEL_3a45eb6d645f46358c6a6262f5e8ef4f",
      "value": " 44.7M/44.7M [00:00&lt;00:00, 93.2MB/s]"
     }
    },
    "871d2e19e03647869ca6c38d730cc974": {
     "model_module": "@jupyter-widgets/base",
     "model_name": "LayoutModel",
     "model_module_version": "1.2.0",
     "state": {
      "_model_module": "@jupyter-widgets/base",
      "_model_module_version": "1.2.0",
      "_model_name": "LayoutModel",
      "_view_count": null,
      "_view_module": "@jupyter-widgets/base",
      "_view_module_version": "1.2.0",
      "_view_name": "LayoutView",
      "align_content": null,
      "align_items": null,
      "align_self": null,
      "border": null,
      "bottom": null,
      "display": null,
      "flex": null,
      "flex_flow": null,
      "grid_area": null,
      "grid_auto_columns": null,
      "grid_auto_flow": null,
      "grid_auto_rows": null,
      "grid_column": null,
      "grid_gap": null,
      "grid_row": null,
      "grid_template_areas": null,
      "grid_template_columns": null,
      "grid_template_rows": null,
      "height": null,
      "justify_content": null,
      "justify_items": null,
      "left": null,
      "margin": null,
      "max_height": null,
      "max_width": null,
      "min_height": null,
      "min_width": null,
      "object_fit": null,
      "object_position": null,
      "order": null,
      "overflow": null,
      "overflow_x": null,
      "overflow_y": null,
      "padding": null,
      "right": null,
      "top": null,
      "visibility": null,
      "width": null
     }
    },
    "2403eea1663341578a66e8e1ced13ca4": {
     "model_module": "@jupyter-widgets/base",
     "model_name": "LayoutModel",
     "model_module_version": "1.2.0",
     "state": {
      "_model_module": "@jupyter-widgets/base",
      "_model_module_version": "1.2.0",
      "_model_name": "LayoutModel",
      "_view_count": null,
      "_view_module": "@jupyter-widgets/base",
      "_view_module_version": "1.2.0",
      "_view_name": "LayoutView",
      "align_content": null,
      "align_items": null,
      "align_self": null,
      "border": null,
      "bottom": null,
      "display": null,
      "flex": null,
      "flex_flow": null,
      "grid_area": null,
      "grid_auto_columns": null,
      "grid_auto_flow": null,
      "grid_auto_rows": null,
      "grid_column": null,
      "grid_gap": null,
      "grid_row": null,
      "grid_template_areas": null,
      "grid_template_columns": null,
      "grid_template_rows": null,
      "height": null,
      "justify_content": null,
      "justify_items": null,
      "left": null,
      "margin": null,
      "max_height": null,
      "max_width": null,
      "min_height": null,
      "min_width": null,
      "object_fit": null,
      "object_position": null,
      "order": null,
      "overflow": null,
      "overflow_x": null,
      "overflow_y": null,
      "padding": null,
      "right": null,
      "top": null,
      "visibility": null,
      "width": null
     }
    },
    "1e6f652db1c14a16ac45043f741f27a6": {
     "model_module": "@jupyter-widgets/controls",
     "model_name": "DescriptionStyleModel",
     "model_module_version": "1.5.0",
     "state": {
      "_model_module": "@jupyter-widgets/controls",
      "_model_module_version": "1.5.0",
      "_model_name": "DescriptionStyleModel",
      "_view_count": null,
      "_view_module": "@jupyter-widgets/base",
      "_view_module_version": "1.2.0",
      "_view_name": "StyleView",
      "description_width": ""
     }
    },
    "a1476b7bad2e476eba3aa796c07d257b": {
     "model_module": "@jupyter-widgets/base",
     "model_name": "LayoutModel",
     "model_module_version": "1.2.0",
     "state": {
      "_model_module": "@jupyter-widgets/base",
      "_model_module_version": "1.2.0",
      "_model_name": "LayoutModel",
      "_view_count": null,
      "_view_module": "@jupyter-widgets/base",
      "_view_module_version": "1.2.0",
      "_view_name": "LayoutView",
      "align_content": null,
      "align_items": null,
      "align_self": null,
      "border": null,
      "bottom": null,
      "display": null,
      "flex": null,
      "flex_flow": null,
      "grid_area": null,
      "grid_auto_columns": null,
      "grid_auto_flow": null,
      "grid_auto_rows": null,
      "grid_column": null,
      "grid_gap": null,
      "grid_row": null,
      "grid_template_areas": null,
      "grid_template_columns": null,
      "grid_template_rows": null,
      "height": null,
      "justify_content": null,
      "justify_items": null,
      "left": null,
      "margin": null,
      "max_height": null,
      "max_width": null,
      "min_height": null,
      "min_width": null,
      "object_fit": null,
      "object_position": null,
      "order": null,
      "overflow": null,
      "overflow_x": null,
      "overflow_y": null,
      "padding": null,
      "right": null,
      "top": null,
      "visibility": null,
      "width": null
     }
    },
    "85b600fb1efc4a0baf58dffd8ec79c85": {
     "model_module": "@jupyter-widgets/controls",
     "model_name": "ProgressStyleModel",
     "model_module_version": "1.5.0",
     "state": {
      "_model_module": "@jupyter-widgets/controls",
      "_model_module_version": "1.5.0",
      "_model_name": "ProgressStyleModel",
      "_view_count": null,
      "_view_module": "@jupyter-widgets/base",
      "_view_module_version": "1.2.0",
      "_view_name": "StyleView",
      "bar_color": null,
      "description_width": ""
     }
    },
    "596e74f52a5a407f959a5c65fe738da3": {
     "model_module": "@jupyter-widgets/base",
     "model_name": "LayoutModel",
     "model_module_version": "1.2.0",
     "state": {
      "_model_module": "@jupyter-widgets/base",
      "_model_module_version": "1.2.0",
      "_model_name": "LayoutModel",
      "_view_count": null,
      "_view_module": "@jupyter-widgets/base",
      "_view_module_version": "1.2.0",
      "_view_name": "LayoutView",
      "align_content": null,
      "align_items": null,
      "align_self": null,
      "border": null,
      "bottom": null,
      "display": null,
      "flex": null,
      "flex_flow": null,
      "grid_area": null,
      "grid_auto_columns": null,
      "grid_auto_flow": null,
      "grid_auto_rows": null,
      "grid_column": null,
      "grid_gap": null,
      "grid_row": null,
      "grid_template_areas": null,
      "grid_template_columns": null,
      "grid_template_rows": null,
      "height": null,
      "justify_content": null,
      "justify_items": null,
      "left": null,
      "margin": null,
      "max_height": null,
      "max_width": null,
      "min_height": null,
      "min_width": null,
      "object_fit": null,
      "object_position": null,
      "order": null,
      "overflow": null,
      "overflow_x": null,
      "overflow_y": null,
      "padding": null,
      "right": null,
      "top": null,
      "visibility": null,
      "width": null
     }
    },
    "3a45eb6d645f46358c6a6262f5e8ef4f": {
     "model_module": "@jupyter-widgets/controls",
     "model_name": "DescriptionStyleModel",
     "model_module_version": "1.5.0",
     "state": {
      "_model_module": "@jupyter-widgets/controls",
      "_model_module_version": "1.5.0",
      "_model_name": "DescriptionStyleModel",
      "_view_count": null,
      "_view_module": "@jupyter-widgets/base",
      "_view_module_version": "1.2.0",
      "_view_name": "StyleView",
      "description_width": ""
     }
    }
   }
  }
 },
 "nbformat": 4,
 "nbformat_minor": 0
}