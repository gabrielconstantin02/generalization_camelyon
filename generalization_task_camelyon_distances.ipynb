{
 "cells": [
  {
   "cell_type": "code",
   "source": [
    "# !pip install wilds"
   ],
   "metadata": {
    "id": "jbSfV818kVDW",
    "colab": {
     "base_uri": "https://localhost:8080/",
     "height": 1000
    },
    "outputId": "73344fa8-dc57-4b25-d29e-e796b0462888"
   },
   "execution_count": 1,
   "outputs": [
    {
     "output_type": "stream",
     "name": "stdout",
     "text": [
      "Collecting wilds\n",
      "  Downloading wilds-2.0.0-py3-none-any.whl (126 kB)\n",
      "\u001B[K     |████████████████████████████████| 126 kB 5.3 MB/s \n",
      "\u001B[?25hCollecting pytz>=2020.4\n",
      "  Downloading pytz-2022.1-py2.py3-none-any.whl (503 kB)\n",
      "\u001B[K     |████████████████████████████████| 503 kB 44.7 MB/s \n",
      "\u001B[?25hCollecting scipy>=1.5.4\n",
      "  Downloading scipy-1.7.3-cp37-cp37m-manylinux_2_12_x86_64.manylinux2010_x86_64.whl (38.1 MB)\n",
      "\u001B[K     |████████████████████████████████| 38.1 MB 1.5 MB/s \n",
      "\u001B[?25hRequirement already satisfied: torch>=1.7.0 in /usr/local/lib/python3.7/dist-packages (from wilds) (1.10.0+cu111)\n",
      "Requirement already satisfied: torchvision>=0.8.2 in /usr/local/lib/python3.7/dist-packages (from wilds) (0.11.1+cu111)\n",
      "Requirement already satisfied: numpy>=1.19.1 in /usr/local/lib/python3.7/dist-packages (from wilds) (1.21.5)\n",
      "Collecting outdated>=0.2.0\n",
      "  Downloading outdated-0.2.1-py3-none-any.whl (7.5 kB)\n",
      "Requirement already satisfied: pandas>=1.1.0 in /usr/local/lib/python3.7/dist-packages (from wilds) (1.3.5)\n",
      "Collecting ogb>=1.2.6\n",
      "  Downloading ogb-1.3.3-py3-none-any.whl (78 kB)\n",
      "\u001B[K     |████████████████████████████████| 78 kB 6.2 MB/s \n",
      "\u001B[?25hRequirement already satisfied: tqdm>=4.53.0 in /usr/local/lib/python3.7/dist-packages (from wilds) (4.63.0)\n",
      "Requirement already satisfied: scikit-learn>=0.20.0 in /usr/local/lib/python3.7/dist-packages (from wilds) (1.0.2)\n",
      "Collecting pillow>=7.2.0\n",
      "  Downloading Pillow-9.0.1-cp37-cp37m-manylinux_2_17_x86_64.manylinux2014_x86_64.whl (4.3 MB)\n",
      "\u001B[K     |████████████████████████████████| 4.3 MB 34.2 MB/s \n",
      "\u001B[?25hRequirement already satisfied: six>=1.12.0 in /usr/local/lib/python3.7/dist-packages (from ogb>=1.2.6->wilds) (1.15.0)\n",
      "Requirement already satisfied: urllib3>=1.24.0 in /usr/local/lib/python3.7/dist-packages (from ogb>=1.2.6->wilds) (1.24.3)\n",
      "Requirement already satisfied: requests in /usr/local/lib/python3.7/dist-packages (from outdated>=0.2.0->wilds) (2.23.0)\n",
      "Collecting littleutils\n",
      "  Downloading littleutils-0.2.2.tar.gz (6.6 kB)\n",
      "Requirement already satisfied: python-dateutil>=2.7.3 in /usr/local/lib/python3.7/dist-packages (from pandas>=1.1.0->wilds) (2.8.2)\n",
      "Requirement already satisfied: joblib>=0.11 in /usr/local/lib/python3.7/dist-packages (from scikit-learn>=0.20.0->wilds) (1.1.0)\n",
      "Requirement already satisfied: threadpoolctl>=2.0.0 in /usr/local/lib/python3.7/dist-packages (from scikit-learn>=0.20.0->wilds) (3.1.0)\n",
      "Requirement already satisfied: typing-extensions in /usr/local/lib/python3.7/dist-packages (from torch>=1.7.0->wilds) (3.10.0.2)\n",
      "Requirement already satisfied: idna<3,>=2.5 in /usr/local/lib/python3.7/dist-packages (from requests->outdated>=0.2.0->wilds) (2.10)\n",
      "Requirement already satisfied: chardet<4,>=3.0.2 in /usr/local/lib/python3.7/dist-packages (from requests->outdated>=0.2.0->wilds) (3.0.4)\n",
      "Requirement already satisfied: certifi>=2017.4.17 in /usr/local/lib/python3.7/dist-packages (from requests->outdated>=0.2.0->wilds) (2021.10.8)\n",
      "Building wheels for collected packages: littleutils\n",
      "  Building wheel for littleutils (setup.py) ... \u001B[?25l\u001B[?25hdone\n",
      "  Created wheel for littleutils: filename=littleutils-0.2.2-py3-none-any.whl size=7048 sha256=0f14ad6f0ce8c83a43047049f8dfca4142c36e3392727ac1563f341c22d9313e\n",
      "  Stored in directory: /root/.cache/pip/wheels/d6/64/cd/32819b511a488e4993f2fab909a95330289c3f4e0f6ef4676d\n",
      "Successfully built littleutils\n",
      "Installing collected packages: scipy, pytz, littleutils, pillow, outdated, ogb, wilds\n",
      "  Attempting uninstall: scipy\n",
      "    Found existing installation: scipy 1.4.1\n",
      "    Uninstalling scipy-1.4.1:\n",
      "      Successfully uninstalled scipy-1.4.1\n",
      "  Attempting uninstall: pytz\n",
      "    Found existing installation: pytz 2018.9\n",
      "    Uninstalling pytz-2018.9:\n",
      "      Successfully uninstalled pytz-2018.9\n",
      "  Attempting uninstall: pillow\n",
      "    Found existing installation: Pillow 7.1.2\n",
      "    Uninstalling Pillow-7.1.2:\n",
      "      Successfully uninstalled Pillow-7.1.2\n",
      "\u001B[31mERROR: pip's dependency resolver does not currently take into account all the packages that are installed. This behaviour is the source of the following dependency conflicts.\n",
      "albumentations 0.1.12 requires imgaug<0.2.7,>=0.2.5, but you have imgaug 0.2.9 which is incompatible.\u001B[0m\n",
      "Successfully installed littleutils-0.2.2 ogb-1.3.3 outdated-0.2.1 pillow-9.0.1 pytz-2022.1 scipy-1.7.3 wilds-2.0.0\n"
     ]
    },
    {
     "output_type": "display_data",
     "data": {
      "application/vnd.colab-display-data+json": {
       "pip_warning": {
        "packages": [
         "PIL"
        ]
       }
      }
     },
     "metadata": {}
    }
   ]
  },
  {
   "cell_type": "code",
   "execution_count": 1,
   "metadata": {
    "collapsed": true,
    "id": "2v8Jq3hYhofR"
   },
   "outputs": [],
   "source": [
    "import numpy as np\n",
    "from wilds import get_dataset\n",
    "from wilds.common.data_loaders import get_train_loader\n",
    "import torchvision.transforms as transforms\n",
    "import torchvision.models as models\n",
    "from wilds.common.data_loaders import get_eval_loader\n",
    "import torch\n",
    "from torch import nn\n",
    "from tqdm import tqdm"
   ]
  },
  {
   "cell_type": "code",
   "execution_count": 2,
   "outputs": [],
   "source": [
    "# Load the full dataset, and download it if necessary\n",
    "dataset = get_dataset(dataset=\"camelyon17\", download=False)\n"
   ],
   "metadata": {
    "pycharm": {
     "name": "#%%\n"
    },
    "id": "9ovJ8k49hofV",
    "colab": {
     "base_uri": "https://localhost:8080/",
     "height": 176,
     "referenced_widgets": [
      "7ddafa89c8b44ed38cd017d5b7baf4e8",
      "745a561a8fee4286b2d48b2479f44d03",
      "08212a669b3a4b0cac0f3a779ed8c1c2",
      "551ad53ab988476ba210f24040b1088f",
      "b52f1e89fd1e4dbd82728c9bb2fc13bc",
      "79c545434c2e4e738b1bf7a8b262b804",
      "8cb30849ca1b45718856f16963116e2c",
      "3a9725a08b524e37987a0a39c49e5dc4",
      "8c855250e4024e68a9efea8e984fe131",
      "796143736edb449b8f18433be720b2db",
      "91fd989f80464dd389ed3f5d59e43de4"
     ]
    },
    "outputId": "e025574e-58e4-4709-f706-ff045e1b3d47"
   }
  },
  {
   "cell_type": "code",
   "execution_count": 3,
   "outputs": [
    {
     "name": "stdout",
     "output_type": "stream",
     "text": [
      "99804\n"
     ]
    },
    {
     "data": {
      "text/plain": "'\\n# Train loop\\nfor labeled_batch, unlabeled_batch in zip(train_loader, unlabeled_loader):\\n    x, y, metadata = labeled_batch\\n    unlabeled_x, unlabeled_metadata = unlabeled_batch\\n    ...\\n'"
     },
     "execution_count": 3,
     "metadata": {},
     "output_type": "execute_result"
    }
   ],
   "source": [
    "BATCH_SIZE = 32\n",
    "FRACTION = 0.33\n",
    "\n",
    "# Get the training set\n",
    "train_data = dataset.get_subset(\n",
    "    \"train\",\n",
    "    frac = FRACTION,\n",
    "    transform=transforms.Compose(\n",
    "        [\n",
    "         transforms.ToTensor(),\n",
    "         transforms.Normalize(mean=[0.485, 0.456, 0.406],\n",
    "                        std=[0.229, 0.224, 0.225])]\n",
    "    ),\n",
    ")\n",
    "\n",
    "print(len(train_data)) #302436 initially\n",
    "# Prepare the standard data loader\n",
    "train_loader = get_train_loader(\"standard\", train_data, batch_size=BATCH_SIZE)\n",
    "\n",
    "\"\"\"\n",
    "# (Optional) Load unlabeled data\n",
    "dataset = get_dataset(dataset=\"camelyon17\", download=True, unlabeled=True)\n",
    "unlabeled_data = dataset.get_subset(\n",
    "    \"test_unlabeled\",\n",
    "    transform=transforms.Compose(\n",
    "        [transforms.Resize((448, 448)), transforms.ToTensor()]\n",
    "    ),\n",
    ")\n",
    "unlabeled_loader = get_train_loader(\"standard\", unlabeled_data, batch_size=16)\n",
    "\"\"\"\n",
    "\"\"\"\n",
    "# Train loop\n",
    "for labeled_batch, unlabeled_batch in zip(train_loader, unlabeled_loader):\n",
    "    x, y, metadata = labeled_batch\n",
    "    unlabeled_x, unlabeled_metadata = unlabeled_batch\n",
    "    ...\n",
    "\"\"\""
   ],
   "metadata": {
    "pycharm": {
     "name": "#%%\n"
    },
    "colab": {
     "base_uri": "https://localhost:8080/",
     "height": 54
    },
    "id": "idPjNiuQhofV",
    "outputId": "f1867264-f59f-48d7-f95d-085c3659e42f"
   }
  },
  {
   "cell_type": "code",
   "execution_count": 4,
   "outputs": [
    {
     "name": "stdout",
     "output_type": "stream",
     "text": [
      "11075\n"
     ]
    }
   ],
   "source": [
    "# Get the test set\n",
    "id_val_data = dataset.get_subset(\n",
    "    \"id_val\",\n",
    "    frac = FRACTION,\n",
    "    transform=transforms.Compose(\n",
    "        [\n",
    "         transforms.ToTensor(),\n",
    "         transforms.Normalize(mean=[0.485, 0.456, 0.406],\n",
    "                        std=[0.229, 0.224, 0.225])]\n",
    "    ),\n",
    ")\n",
    "\n",
    "print(len(id_val_data))\n",
    "\n",
    "# Prepare the evaluation data loader\n",
    "id_val_loader = get_eval_loader(\"standard\", id_val_data, batch_size=BATCH_SIZE)\n"
   ],
   "metadata": {
    "pycharm": {
     "name": "#%%\n"
    },
    "colab": {
     "base_uri": "https://localhost:8080/"
    },
    "id": "-KXocT0mhofX",
    "outputId": "71bf936b-3090-415a-e06e-f677acdd2667"
   }
  },
  {
   "cell_type": "code",
   "execution_count": 5,
   "outputs": [
    {
     "name": "stdout",
     "output_type": "stream",
     "text": [
      "11518\n"
     ]
    }
   ],
   "source": [
    "# Get the test set\n",
    "val_data = dataset.get_subset(\n",
    "    \"val\",\n",
    "    frac = FRACTION,\n",
    "    transform=transforms.Compose(\n",
    "        [\n",
    "         transforms.ToTensor(),\n",
    "         transforms.Normalize(mean=[0.485, 0.456, 0.406],\n",
    "                        std=[0.229, 0.224, 0.225])]\n",
    "    ),\n",
    ")\n",
    "\n",
    "print(len(val_data))\n",
    "\n",
    "# Prepare the evaluation data loader\n",
    "val_loader = get_eval_loader(\"standard\", val_data, batch_size=BATCH_SIZE)"
   ],
   "metadata": {
    "pycharm": {
     "name": "#%%\n"
    },
    "colab": {
     "base_uri": "https://localhost:8080/"
    },
    "id": "7825GiE2hofX",
    "outputId": "388ec711-5b21-406f-eda3-964143fbcea9"
   }
  },
  {
   "cell_type": "code",
   "source": [
    "# Get the test set\n",
    "test_data = dataset.get_subset(\n",
    "    \"test\",\n",
    "    frac = FRACTION,\n",
    "    transform=transforms.Compose(\n",
    "        [\n",
    "         transforms.ToTensor(),\n",
    "         transforms.Normalize(mean=[0.485, 0.456, 0.406],\n",
    "                        std=[0.229, 0.224, 0.225])]\n",
    "    ),\n",
    ")\n",
    "\n",
    "print(len(test_data))\n",
    "\n",
    "# Prepare the evaluation data loader\n",
    "test_loader = get_eval_loader(\"standard\", test_data, batch_size=BATCH_SIZE)"
   ],
   "metadata": {
    "colab": {
     "base_uri": "https://localhost:8080/"
    },
    "id": "NXa_rPBB1mfI",
    "outputId": "ef3e48a1-515f-45a7-e35f-910186a0b888"
   },
   "execution_count": 6,
   "outputs": [
    {
     "name": "stdout",
     "output_type": "stream",
     "text": [
      "28068\n"
     ]
    }
   ]
  },
  {
   "cell_type": "code",
   "execution_count": 7,
   "outputs": [
    {
     "name": "stdout",
     "output_type": "stream",
     "text": [
      "Model's parameters: \n",
      "\t conv1.weight :  torch.Size([64, 3, 7, 7])\n",
      "\t bn1.weight :  torch.Size([64])\n",
      "\t bn1.bias :  torch.Size([64])\n",
      "\t layer1.0.conv1.weight :  torch.Size([64, 64, 3, 3])\n",
      "\t layer1.0.bn1.weight :  torch.Size([64])\n",
      "\t layer1.0.bn1.bias :  torch.Size([64])\n",
      "\t layer1.0.conv2.weight :  torch.Size([64, 64, 3, 3])\n",
      "\t layer1.0.bn2.weight :  torch.Size([64])\n",
      "\t layer1.0.bn2.bias :  torch.Size([64])\n",
      "\t layer1.1.conv1.weight :  torch.Size([64, 64, 3, 3])\n",
      "\t layer1.1.bn1.weight :  torch.Size([64])\n",
      "\t layer1.1.bn1.bias :  torch.Size([64])\n",
      "\t layer1.1.conv2.weight :  torch.Size([64, 64, 3, 3])\n",
      "\t layer1.1.bn2.weight :  torch.Size([64])\n",
      "\t layer1.1.bn2.bias :  torch.Size([64])\n",
      "\t layer2.0.conv1.weight :  torch.Size([128, 64, 3, 3])\n",
      "\t layer2.0.bn1.weight :  torch.Size([128])\n",
      "\t layer2.0.bn1.bias :  torch.Size([128])\n",
      "\t layer2.0.conv2.weight :  torch.Size([128, 128, 3, 3])\n",
      "\t layer2.0.bn2.weight :  torch.Size([128])\n",
      "\t layer2.0.bn2.bias :  torch.Size([128])\n",
      "\t layer2.0.downsample.0.weight :  torch.Size([128, 64, 1, 1])\n",
      "\t layer2.0.downsample.1.weight :  torch.Size([128])\n",
      "\t layer2.0.downsample.1.bias :  torch.Size([128])\n",
      "\t layer2.1.conv1.weight :  torch.Size([128, 128, 3, 3])\n",
      "\t layer2.1.bn1.weight :  torch.Size([128])\n",
      "\t layer2.1.bn1.bias :  torch.Size([128])\n",
      "\t layer2.1.conv2.weight :  torch.Size([128, 128, 3, 3])\n",
      "\t layer2.1.bn2.weight :  torch.Size([128])\n",
      "\t layer2.1.bn2.bias :  torch.Size([128])\n",
      "\t layer3.0.conv1.weight :  torch.Size([256, 128, 3, 3])\n",
      "\t layer3.0.bn1.weight :  torch.Size([256])\n",
      "\t layer3.0.bn1.bias :  torch.Size([256])\n",
      "\t layer3.0.conv2.weight :  torch.Size([256, 256, 3, 3])\n",
      "\t layer3.0.bn2.weight :  torch.Size([256])\n",
      "\t layer3.0.bn2.bias :  torch.Size([256])\n",
      "\t layer3.0.downsample.0.weight :  torch.Size([256, 128, 1, 1])\n",
      "\t layer3.0.downsample.1.weight :  torch.Size([256])\n",
      "\t layer3.0.downsample.1.bias :  torch.Size([256])\n",
      "\t layer3.1.conv1.weight :  torch.Size([256, 256, 3, 3])\n",
      "\t layer3.1.bn1.weight :  torch.Size([256])\n",
      "\t layer3.1.bn1.bias :  torch.Size([256])\n",
      "\t layer3.1.conv2.weight :  torch.Size([256, 256, 3, 3])\n",
      "\t layer3.1.bn2.weight :  torch.Size([256])\n",
      "\t layer3.1.bn2.bias :  torch.Size([256])\n",
      "\t layer4.0.conv1.weight :  torch.Size([512, 256, 3, 3])\n",
      "\t layer4.0.bn1.weight :  torch.Size([512])\n",
      "\t layer4.0.bn1.bias :  torch.Size([512])\n",
      "\t layer4.0.conv2.weight :  torch.Size([512, 512, 3, 3])\n",
      "\t layer4.0.bn2.weight :  torch.Size([512])\n",
      "\t layer4.0.bn2.bias :  torch.Size([512])\n",
      "\t layer4.0.downsample.0.weight :  torch.Size([512, 256, 1, 1])\n",
      "\t layer4.0.downsample.1.weight :  torch.Size([512])\n",
      "\t layer4.0.downsample.1.bias :  torch.Size([512])\n",
      "\t layer4.1.conv1.weight :  torch.Size([512, 512, 3, 3])\n",
      "\t layer4.1.bn1.weight :  torch.Size([512])\n",
      "\t layer4.1.bn1.bias :  torch.Size([512])\n",
      "\t layer4.1.conv2.weight :  torch.Size([512, 512, 3, 3])\n",
      "\t layer4.1.bn2.weight :  torch.Size([512])\n",
      "\t layer4.1.bn2.bias :  torch.Size([512])\n",
      "\t fc.weight :  torch.Size([1000, 512])\n",
      "\t fc.bias :  torch.Size([1000])\n",
      "Number of model parameters:  11689512\n"
     ]
    },
    {
     "data": {
      "text/plain": "'\\nformula [(W−K+2P)/S]+1.\\n\\nW is the input volume\\nK is the Kernel size\\nP is the padding\\nS is the stride\\n\\n'"
     },
     "execution_count": 7,
     "metadata": {},
     "output_type": "execute_result"
    }
   ],
   "source": [
    "\n",
    "# load the ResNet-18 model, with weights pretrained on ImageNet\n",
    "resnet18_pretrained = models.resnet18(pretrained=True)\n",
    "\n",
    "num_params = 0\n",
    "print(\"Model's parameters: \")\n",
    "for n, p in resnet18_pretrained.named_parameters():\n",
    "    print('\\t', n, ': ', p.size())\n",
    "    num_params += p.numel()\n",
    "print(\"Number of model parameters: \", num_params)\n",
    "\n",
    "\"\"\"\n",
    "formula [(W−K+2P)/S]+1.\n",
    "\n",
    "W is the input volume\n",
    "K is the Kernel size\n",
    "P is the padding\n",
    "S is the stride\n",
    "\n",
    "\"\"\""
   ],
   "metadata": {
    "pycharm": {
     "name": "#%%\n"
    },
    "colab": {
     "base_uri": "https://localhost:8080/",
     "height": 1000,
     "referenced_widgets": [
      "0bf281301bba4b8c8b88e7517db245ef",
      "255071fa8df64ec8825d27ee82605aa8",
      "3c98a82b2e32445da75f9fd6c119076d",
      "c81ab5bd71074f8690eac67458d1ef9b",
      "5096ef1270b94f0abd708f3ecdaf6cf9",
      "7313629a7d8549ed80b21d3fbdfc069f",
      "9ddbf1559e8245f396d3eb3f118c6aee",
      "9e3601371a734830a44379f73375962b",
      "7571a79b7b60456582cbc3bd66da749d",
      "bbdfd5da36734efaaaf0ffdc18bfca62",
      "2ad44bf567024e70bdb9c943c7f8c7d4"
     ]
    },
    "id": "RaNKmMPUhofY",
    "outputId": "505a886e-dd8f-4da4-bb6c-703922904621"
   }
  },
  {
   "cell_type": "code",
   "execution_count": 8,
   "outputs": [],
   "source": [
    "# function counting the number of parameters and the number of trainable parameters of a model\n",
    "# optionally, it will also display the layers\n",
    "def check_model_parameters(model, display_layers=False):\n",
    "  num_params = 0\n",
    "  num_trainable_params = 0\n",
    "  if display_layers==True:\n",
    "    print(\"Model's parameters: \")\n",
    "  for n, p in model.named_parameters():\n",
    "      if display_layers == True:\n",
    "        print('\\t', n, ': ', p.size())\n",
    "      num_params += p.numel()\n",
    "      if p.requires_grad:\n",
    "        num_trainable_params += p.numel()\n",
    "  print(\"Number of model parameters: \", num_params)\n",
    "  print(\"Number of trainable parameters: \", num_trainable_params)"
   ],
   "metadata": {
    "pycharm": {
     "name": "#%%\n"
    },
    "id": "X-SlJVZkhofZ"
   }
  },
  {
   "cell_type": "code",
   "execution_count": 9,
   "outputs": [
    {
     "name": "stdout",
     "output_type": "stream",
     "text": [
      "Number of model parameters:  11689512\n",
      "Number of trainable parameters:  11689512\n",
      "Number of model parameters:  11689512\n",
      "Number of trainable parameters:  11689512\n"
     ]
    }
   ],
   "source": [
    "# freeze the model parameters\n",
    "\n",
    "# check the number of parameters and the number of trainable parameters\n",
    "check_model_parameters(resnet18_pretrained, display_layers=False)\n",
    "\n",
    "# freeze all the layers\n",
    "# for param in resnet18_pretrained.parameters():\n",
    "  # param.requires_grad = False\n",
    "\n",
    "# check the number of parameters and the number of trainable parameters\n",
    "check_model_parameters(resnet18_pretrained, display_layers=False)"
   ],
   "metadata": {
    "pycharm": {
     "name": "#%%\n"
    },
    "colab": {
     "base_uri": "https://localhost:8080/"
    },
    "id": "sPIE8Xd3hofa",
    "outputId": "6b69f6f4-0981-4526-ab6b-8430c5383115"
   }
  },
  {
   "cell_type": "code",
   "execution_count": 10,
   "outputs": [],
   "source": [
    "device = torch.device('cuda' if torch.cuda.is_available() else 'cpu')\n",
    "num_epochs = 5"
   ],
   "metadata": {
    "pycharm": {
     "name": "#%%\n"
    },
    "id": "S8TUohu7hofa"
   }
  },
  {
   "cell_type": "code",
   "execution_count": 11,
   "outputs": [
    {
     "name": "stdout",
     "output_type": "stream",
     "text": [
      "Model's parameters: \n",
      "\t conv1.weight :  torch.Size([64, 3, 7, 7])\n",
      "\t bn1.weight :  torch.Size([64])\n",
      "\t bn1.bias :  torch.Size([64])\n",
      "\t layer1.0.conv1.weight :  torch.Size([64, 64, 3, 3])\n",
      "\t layer1.0.bn1.weight :  torch.Size([64])\n",
      "\t layer1.0.bn1.bias :  torch.Size([64])\n",
      "\t layer1.0.conv2.weight :  torch.Size([64, 64, 3, 3])\n",
      "\t layer1.0.bn2.weight :  torch.Size([64])\n",
      "\t layer1.0.bn2.bias :  torch.Size([64])\n",
      "\t layer1.1.conv1.weight :  torch.Size([64, 64, 3, 3])\n",
      "\t layer1.1.bn1.weight :  torch.Size([64])\n",
      "\t layer1.1.bn1.bias :  torch.Size([64])\n",
      "\t layer1.1.conv2.weight :  torch.Size([64, 64, 3, 3])\n",
      "\t layer1.1.bn2.weight :  torch.Size([64])\n",
      "\t layer1.1.bn2.bias :  torch.Size([64])\n",
      "\t layer2.0.conv1.weight :  torch.Size([128, 64, 3, 3])\n",
      "\t layer2.0.bn1.weight :  torch.Size([128])\n",
      "\t layer2.0.bn1.bias :  torch.Size([128])\n",
      "\t layer2.0.conv2.weight :  torch.Size([128, 128, 3, 3])\n",
      "\t layer2.0.bn2.weight :  torch.Size([128])\n",
      "\t layer2.0.bn2.bias :  torch.Size([128])\n",
      "\t layer2.0.downsample.0.weight :  torch.Size([128, 64, 1, 1])\n",
      "\t layer2.0.downsample.1.weight :  torch.Size([128])\n",
      "\t layer2.0.downsample.1.bias :  torch.Size([128])\n",
      "\t layer2.1.conv1.weight :  torch.Size([128, 128, 3, 3])\n",
      "\t layer2.1.bn1.weight :  torch.Size([128])\n",
      "\t layer2.1.bn1.bias :  torch.Size([128])\n",
      "\t layer2.1.conv2.weight :  torch.Size([128, 128, 3, 3])\n",
      "\t layer2.1.bn2.weight :  torch.Size([128])\n",
      "\t layer2.1.bn2.bias :  torch.Size([128])\n",
      "\t layer3.0.conv1.weight :  torch.Size([256, 128, 3, 3])\n",
      "\t layer3.0.bn1.weight :  torch.Size([256])\n",
      "\t layer3.0.bn1.bias :  torch.Size([256])\n",
      "\t layer3.0.conv2.weight :  torch.Size([256, 256, 3, 3])\n",
      "\t layer3.0.bn2.weight :  torch.Size([256])\n",
      "\t layer3.0.bn2.bias :  torch.Size([256])\n",
      "\t layer3.0.downsample.0.weight :  torch.Size([256, 128, 1, 1])\n",
      "\t layer3.0.downsample.1.weight :  torch.Size([256])\n",
      "\t layer3.0.downsample.1.bias :  torch.Size([256])\n",
      "\t layer3.1.conv1.weight :  torch.Size([256, 256, 3, 3])\n",
      "\t layer3.1.bn1.weight :  torch.Size([256])\n",
      "\t layer3.1.bn1.bias :  torch.Size([256])\n",
      "\t layer3.1.conv2.weight :  torch.Size([256, 256, 3, 3])\n",
      "\t layer3.1.bn2.weight :  torch.Size([256])\n",
      "\t layer3.1.bn2.bias :  torch.Size([256])\n",
      "\t layer4.0.conv1.weight :  torch.Size([512, 256, 3, 3])\n",
      "\t layer4.0.bn1.weight :  torch.Size([512])\n",
      "\t layer4.0.bn1.bias :  torch.Size([512])\n",
      "\t layer4.0.conv2.weight :  torch.Size([512, 512, 3, 3])\n",
      "\t layer4.0.bn2.weight :  torch.Size([512])\n",
      "\t layer4.0.bn2.bias :  torch.Size([512])\n",
      "\t layer4.0.downsample.0.weight :  torch.Size([512, 256, 1, 1])\n",
      "\t layer4.0.downsample.1.weight :  torch.Size([512])\n",
      "\t layer4.0.downsample.1.bias :  torch.Size([512])\n",
      "\t layer4.1.conv1.weight :  torch.Size([512, 512, 3, 3])\n",
      "\t layer4.1.bn1.weight :  torch.Size([512])\n",
      "\t layer4.1.bn1.bias :  torch.Size([512])\n",
      "\t layer4.1.conv2.weight :  torch.Size([512, 512, 3, 3])\n",
      "\t layer4.1.bn2.weight :  torch.Size([512])\n",
      "\t layer4.1.bn2.bias :  torch.Size([512])\n",
      "\t fc.weight :  torch.Size([2, 512])\n",
      "\t fc.bias :  torch.Size([2])\n",
      "Number of model parameters:  11177538\n",
      "Number of trainable parameters:  11177538\n"
     ]
    }
   ],
   "source": [
    "\n",
    "resnet18_pretrained.fc = nn.Linear(in_features=512, out_features=2, bias=True)\n",
    "\n",
    "check_model_parameters(resnet18_pretrained, display_layers=True)"
   ],
   "metadata": {
    "pycharm": {
     "name": "#%%\n"
    },
    "colab": {
     "base_uri": "https://localhost:8080/"
    },
    "id": "k1muosu4hofb",
    "outputId": "892bd55d-9543-42d6-d57c-5a6150c52736"
   }
  },
  {
   "cell_type": "code",
   "execution_count": 12,
   "outputs": [],
   "source": [
    "def train_epoch(model, train_dataloader, loss_crt, optimizer, device):\n",
    "    \"\"\"\n",
    "    model: Model object\n",
    "    train_dataloader: DataLoader over the training dataset\n",
    "    loss_crt: loss function object\n",
    "    optimizer: Optimizer object\n",
    "    device: torch.device('cpu) or torch.device('cuda')\n",
    "\n",
    "    The function returns:\n",
    "     - the epoch training loss, which is an average over the individual batch\n",
    "       losses\n",
    "    \"\"\"\n",
    "    model.train()\n",
    "    epoch_loss = 0.0\n",
    "    epoch_accuracy = 0.0\n",
    "    num_batches = len(train_dataloader)\n",
    "    for batch_idx, batch in tqdm(enumerate(train_dataloader)):\n",
    "        # shape: batch_size x 1 x 28 x 28, batch_size x 1\n",
    "        # print(\"Train\")\n",
    "        # print(batch)\n",
    "        batch_img, batch_labels, _ = batch\n",
    "        # move data to GPU\n",
    "        batch_img = batch_img.to(device)\n",
    "        batch_labels = batch_labels.to(device)\n",
    "\n",
    "        # initialize as zeros all the gradients of the model\n",
    "        model.zero_grad()\n",
    "\n",
    "        # get predictions from the FORWARD pass\n",
    "        # shape: batch_size x 10\n",
    "        output = model(batch_img)\n",
    "\n",
    "        loss = loss_crt(output, batch_labels.squeeze())\n",
    "        loss_scalar = loss.item()\n",
    "\n",
    "        # BACKPROPAGATE the gradients\n",
    "        loss.backward()\n",
    "        # use the gradients to OPTIMISE the model\n",
    "        optimizer.step()\n",
    "\n",
    "        epoch_loss += loss_scalar\n",
    "\n",
    "        pred = output.argmax(dim=1, keepdim=True)\n",
    "        epoch_accuracy += pred.eq(batch_labels.view_as(pred)).float().mean().item()\n",
    "\n",
    "    epoch_loss = epoch_loss/num_batches\n",
    "    epoch_accuracy = 100. * epoch_accuracy/num_batches\n",
    "    return epoch_loss, epoch_accuracy\n",
    "\n",
    "def eval_epoch(model, val_dataloader, loss_crt, device):\n",
    "    \"\"\"\n",
    "    model: Model object\n",
    "    val_dataloader: DataLoader over the validation dataset\n",
    "    loss_crt: loss function object\n",
    "    device: torch.device('cpu) or torch.device('cuda')\n",
    "\n",
    "    The function returns:\n",
    "     - the epoch validation loss, which is an average over the individual batch\n",
    "       losses\n",
    "    \"\"\"\n",
    "    model.eval()\n",
    "    epoch_loss = 0.0\n",
    "    epoch_accuracy = 0.0\n",
    "    num_batches = len(val_dataloader)\n",
    "    with torch.no_grad():\n",
    "        for batch_idx, batch in tqdm(enumerate(val_dataloader)):\n",
    "            # print(\"Eval\")\n",
    "            # print(batch)\n",
    "            # shape: batch_size x 3 x 28 x 28, batch_size x 1\n",
    "            batch_img, batch_labels, _ = batch\n",
    "            current_batch_size = batch_img.size(0)\n",
    "\n",
    "            # move data to GPU\n",
    "            batch_img = batch_img.to(device)\n",
    "            batch_labels = batch_labels.to(device)\n",
    "\n",
    "            # batch_size x 10\n",
    "            output = model(batch_img)\n",
    "\n",
    "            loss = loss_crt(output, batch_labels.squeeze())\n",
    "            loss_scalar = loss.item()\n",
    "\n",
    "            epoch_loss += loss_scalar\n",
    "\n",
    "            pred = output.argmax(dim=1, keepdim=True)\n",
    "            epoch_accuracy += pred.eq(batch_labels.view_as(pred)).float().mean().item()\n",
    "\n",
    "    epoch_loss = epoch_loss/num_batches\n",
    "    epoch_accuracy = 100. * epoch_accuracy/num_batches\n",
    "    return epoch_loss, epoch_accuracy"
   ],
   "metadata": {
    "pycharm": {
     "name": "#%%\n"
    },
    "id": "FgkgJVFXhofb"
   }
  },
  {
   "cell_type": "code",
   "execution_count": 13,
   "outputs": [],
   "source": [
    "resnet18_pretrained.to(device)\n",
    "\n",
    "# create a SGD optimizer\n",
    "optimizer = torch.optim.SGD(resnet18_pretrained.parameters(), lr=0.01, momentum=0.9)\n",
    "\n",
    "# set up loss function\n",
    "loss_criterion = nn.CrossEntropyLoss()\n",
    "\n",
    "# evaluate the initial model\n",
    "# val_loss, al_accuracy = eval_epoch(resnet18_pretrained, id_val_loader, loss_criterion, device)\n",
    "# print('Validation performance before finetuning -- loss: %10.8f, accuracy: %10.8f'%(val_loss, val_accuracy))\n"
   ],
   "metadata": {
    "pycharm": {
     "name": "#%%\n"
    },
    "id": "daJBzTCNhofc"
   }
  },
  {
   "cell_type": "code",
   "source": [
    "\n",
    "# finetune the model\n",
    "train_losses = []\n",
    "train_accuracies = []\n",
    "id_val_losses = []\n",
    "id_val_accuracies = []\n",
    "for epoch in range(1, num_epochs+1):\n",
    "  train_loss, train_accuracy = train_epoch(resnet18_pretrained, train_loader, loss_criterion, optimizer, device)\n",
    "  val_loss, val_accuracy = eval_epoch(resnet18_pretrained, id_val_loader, loss_criterion, device)\n",
    "  train_losses.append(train_loss)\n",
    "  id_val_losses.append(val_loss)\n",
    "  train_accuracies.append(train_accuracy)\n",
    "  id_val_accuracies.append(val_accuracy)\n",
    "  print('\\nEpoch %d'%(epoch))\n",
    "  print('train loss: %10.8f, accuracy: %10.8f'%(train_loss, train_accuracy))\n",
    "  print('id_val loss: %10.8f, accuracy: %10.8f'%(val_loss, val_accuracy))"
   ],
   "metadata": {
    "id": "c-T9brnRfoGl"
   },
   "execution_count": null,
   "outputs": []
  },
  {
   "cell_type": "code",
   "source": [
    "def run_eval_ood(model, loader, loss_criterion, device, eval_type):\n",
    "  losses = []\n",
    "  accuracies = []\n",
    "\n",
    "  loss, accuracy = eval_epoch(model, loader, loss_criterion, device)\n",
    "  losses.append(loss)\n",
    "  accuracies.append(accuracy)\n",
    "  print(eval_type + ' loss: %10.8f, accuracy: %10.8f'%(loss, accuracy))"
   ],
   "metadata": {
    "id": "ZoukrP_12g4y"
   },
   "execution_count": null,
   "outputs": []
  },
  {
   "cell_type": "code",
   "execution_count": null,
   "outputs": [
    {
     "output_type": "stream",
     "name": "stderr",
     "text": [
      "360it [00:43,  8.24it/s]"
     ]
    },
    {
     "output_type": "stream",
     "name": "stdout",
     "text": [
      "val loss: 0.46796423, accuracy: 87.63715279\n"
     ]
    },
    {
     "output_type": "stream",
     "name": "stderr",
     "text": [
      "\n"
     ]
    }
   ],
   "source": [
    "run_eval_ood(resnet18_pretrained, val_loader, loss_criterion, device, \"val\")"
   ],
   "metadata": {
    "pycharm": {
     "name": "#%%\n"
    },
    "colab": {
     "base_uri": "https://localhost:8080/"
    },
    "id": "QMkwTCH6hofc",
    "outputId": "3e9b9949-2720-463c-e312-fa8b0d94e47d"
   }
  },
  {
   "cell_type": "code",
   "source": [
    "run_eval_ood(resnet18_pretrained, test_loader, loss_criterion, device, \"test\")"
   ],
   "metadata": {
    "colab": {
     "base_uri": "https://localhost:8080/"
    },
    "id": "o9hGjljH11je",
    "outputId": "352477ef-295b-4a9f-ca84-bbb7dc3f47f1"
   },
   "execution_count": null,
   "outputs": [
    {
     "output_type": "stream",
     "name": "stderr",
     "text": [
      "878it [01:48,  8.10it/s]"
     ]
    },
    {
     "output_type": "stream",
     "name": "stdout",
     "text": [
      "test loss: 1.12270584, accuracy: 77.62314920\n"
     ]
    },
    {
     "output_type": "stream",
     "name": "stderr",
     "text": [
      "\n"
     ]
    }
   ]
  },
  {
   "cell_type": "code",
   "execution_count": 101,
   "outputs": [
    {
     "name": "stdout",
     "output_type": "stream",
     "text": [
      "Number of model parameters:  7978856\n",
      "Number of trainable parameters:  7978856\n"
     ]
    }
   ],
   "source": [
    "densenet121_pretrained = models.densenet121(pretrained=True)\n",
    "\n",
    "# for param in densenet121_pretrained.parameters():\n",
    "  # param.requires_grad = False\n",
    "\n",
    "check_model_parameters(densenet121_pretrained, display_layers=False)\n"
   ],
   "metadata": {
    "pycharm": {
     "name": "#%%\n"
    },
    "colab": {
     "base_uri": "https://localhost:8080/",
     "height": 104,
     "referenced_widgets": [
      "c3e0847a20454dbbacc5453545c51962",
      "eb039b20100e4ef29207d8424aebf94a",
      "2ed05db58824409d942251bb07104eed",
      "eb34afade1de4874a4c748c9cf350335",
      "cdf1fd0430bb4bc6a6c817e16dae1414",
      "80767a4548ea438dbaa21c1553587d3a",
      "8cfdc4b444704d2e87f577af8a60fa2b",
      "cb5f2d83a39545c3ae2fb4eb6b7a8472",
      "cfd71611327549ff9d90642a72615b71",
      "36c0d5fdddab47d1a7000d997228b477",
      "8df7a5b9efb4440591bdcd961a081eb6"
     ]
    },
    "id": "TNz_hqLIhofc",
    "outputId": "41d50a38-36e6-4b20-b907-8ebd399d0743"
   }
  },
  {
   "cell_type": "code",
   "execution_count": 102,
   "outputs": [
    {
     "name": "stdout",
     "output_type": "stream",
     "text": [
      "Number of model parameters:  6955906\n",
      "Number of trainable parameters:  6955906\n"
     ]
    }
   ],
   "source": [
    "\n",
    "densenet121_pretrained.classifier = nn.Linear(in_features=1024, out_features=2, bias=True)\n",
    "check_model_parameters(densenet121_pretrained, display_layers=False)"
   ],
   "metadata": {
    "pycharm": {
     "name": "#%%\n"
    },
    "colab": {
     "base_uri": "https://localhost:8080/"
    },
    "id": "igxeBmx2hofd",
    "outputId": "0fd46759-c0dc-4c2d-b46a-a4ca0f726ef1"
   }
  },
  {
   "cell_type": "code",
   "execution_count": 103,
   "outputs": [],
   "source": [
    "densenet121_pretrained.to(device)\n",
    "\n",
    "# create a SGD optimizer\n",
    "optimizer = torch.optim.SGD(densenet121_pretrained.parameters(), lr=0.01, momentum=0.9)\n",
    "\n",
    "# set up loss function\n",
    "loss_criterion = nn.CrossEntropyLoss()"
   ],
   "metadata": {
    "pycharm": {
     "name": "#%%\n"
    },
    "colab": {
     "base_uri": "https://localhost:8080/"
    },
    "id": "nU5aLksBhofd",
    "outputId": "56834b6d-27c6-49fa-9196-7cb21ecdceb2"
   }
  },
  {
   "cell_type": "code",
   "execution_count": null,
   "outputs": [],
   "source": [
    "\n",
    "# evaluate the initial model\n",
    "# val_loss, al_accuracy = eval_epoch(resnet18_pretrained, id_val_loader, loss_criterion, device)\n",
    "# print('Validation performance before finetuning -- loss: %10.8f, accuracy: %10.8f'%(val_loss, val_accuracy))\n",
    "\n",
    "# finetune the model\n",
    "train_losses = []\n",
    "train_accuracies = []\n",
    "val_losses = []\n",
    "val_accuracies = []\n",
    "id_val_losses = []\n",
    "id_val_accuracies = []\n",
    "\n",
    "for epoch in range(1, num_epochs+1):\n",
    "  train_loss, train_accuracy = train_epoch(densenet121_pretrained, train_loader, loss_criterion, optimizer, device)\n",
    "  val_loss, val_accuracy = eval_epoch(densenet121_pretrained, id_val_loader, loss_criterion, device)\n",
    "  train_losses.append(train_loss)\n",
    "  id_val_losses.append(val_loss)\n",
    "  train_accuracies.append(train_accuracy)\n",
    "  id_val_accuracies.append(val_accuracy)\n",
    "  print('\\nEpoch %d'%(epoch))\n",
    "  print('train loss: %10.8f, accuracy: %10.8f'%(train_loss, train_accuracy))\n",
    "  print('id_val loss: %10.8f, accuracy: %10.8f'%(val_loss, val_accuracy))\n"
   ],
   "metadata": {
    "collapsed": false,
    "pycharm": {
     "name": "#%%\n"
    }
   }
  },
  {
   "cell_type": "code",
   "execution_count": null,
   "outputs": [
    {
     "output_type": "stream",
     "name": "stderr",
     "text": [
      "360it [00:49,  7.26it/s]"
     ]
    },
    {
     "output_type": "stream",
     "name": "stdout",
     "text": [
      "val loss: 0.61660476, accuracy: 85.78125000\n"
     ]
    },
    {
     "output_type": "stream",
     "name": "stderr",
     "text": [
      "\n"
     ]
    }
   ],
   "source": [
    "run_eval_ood(densenet121_pretrained, val_loader, loss_criterion, device, \"val\")"
   ],
   "metadata": {
    "pycharm": {
     "name": "#%%\n"
    },
    "colab": {
     "base_uri": "https://localhost:8080/"
    },
    "id": "fKONpbBWhofe",
    "outputId": "b87be149-e8b5-4d31-c286-ff65ddbe97d6"
   }
  },
  {
   "cell_type": "code",
   "source": [
    "run_eval_ood(densenet121_pretrained, test_loader, loss_criterion, device, \"test\")"
   ],
   "metadata": {
    "colab": {
     "base_uri": "https://localhost:8080/"
    },
    "id": "BR2vwURB3FRI",
    "outputId": "beb65383-85d8-408a-9c0a-d40bd95c32f5"
   },
   "execution_count": null,
   "outputs": [
    {
     "output_type": "stream",
     "name": "stderr",
     "text": [
      "878it [02:00,  7.29it/s]"
     ]
    },
    {
     "output_type": "stream",
     "name": "stdout",
     "text": [
      "test loss: 0.91136280, accuracy: 79.53445330\n"
     ]
    },
    {
     "output_type": "stream",
     "name": "stderr",
     "text": [
      "\n"
     ]
    }
   ]
  },
  {
   "cell_type": "code",
   "execution_count": null,
   "outputs": [],
   "source": [
    "torch.save(resnet18_pretrained.state_dict(), \"resnet18_pretrained.pt\")"
   ],
   "metadata": {
    "pycharm": {
     "name": "#%%\n"
    },
    "id": "LH3Ra_hnhofe"
   }
  },
  {
   "cell_type": "code",
   "execution_count": null,
   "outputs": [],
   "source": [
    "torch.save(densenet121_pretrained.state_dict(), \"densenet121_pretrained.pt\")"
   ],
   "metadata": {
    "pycharm": {
     "name": "#%%\n"
    },
    "id": "Kfu2kIaZhofe"
   }
  },
  {
   "cell_type": "code",
   "execution_count": 99,
   "outputs": [],
   "source": [
    "resnetxt50_pretrained = models.resnext50_32x4d(pretrained=True)\n",
    "\n",
    "# freeze all the layers\n",
    "# for param in resnetxt50_pretrained.parameters():\n",
    "  # param.requires_grad = False\n",
    "\n",
    "resnetxt50_pretrained.fc = nn.Linear(in_features=2048, out_features=2, bias=True)\n",
    "\n",
    "resnetxt50_pretrained.to(device)\n",
    "\n",
    "# create a SGD optimizer\n",
    "optimizer = torch.optim.SGD(resnetxt50_pretrained.parameters(), lr=0.01, momentum=0.9)\n",
    "\n",
    "# set up loss function\n",
    "loss_criterion = nn.CrossEntropyLoss()\n"
   ],
   "metadata": {
    "pycharm": {
     "name": "#%%\n"
    },
    "colab": {
     "base_uri": "https://localhost:8080/",
     "height": 618,
     "referenced_widgets": [
      "de74266d3a9448ef92346f7356e686d5",
      "5bd0c847f5404d1397b3a93a2eb1f239",
      "f1f55693bbfa41caa088acdc7e65a526",
      "732ce57f84c64aada0149836c44cdf7d",
      "e8eea1a7d6014cb0aefc5558029a86aa",
      "3b024a857fb84b8dbcab65c61ed23b3d",
      "d7bc235338f34f06bdc0e7674d886c23",
      "bc112e6096fb49fe91c69417f6f87454",
      "66f12d129ec94068afb595716f70c2cf",
      "4c9692ae12474ac3bce41d2a71c09150",
      "578bf27afb384aaebf272d6eb51a294f"
     ]
    },
    "id": "N-spuoIyhofe",
    "outputId": "c01af7f8-3e4c-49b0-ecb4-54517b1f9dd4"
   }
  },
  {
   "cell_type": "code",
   "execution_count": 100,
   "outputs": [
    {
     "name": "stderr",
     "output_type": "stream",
     "text": [
      "435it [05:08,  1.41it/s]\n"
     ]
    },
    {
     "ename": "KeyboardInterrupt",
     "evalue": "",
     "output_type": "error",
     "traceback": [
      "\u001B[0;31m---------------------------------------------------------------------------\u001B[0m",
      "\u001B[0;31mKeyboardInterrupt\u001B[0m                         Traceback (most recent call last)",
      "Input \u001B[0;32mIn [100]\u001B[0m, in \u001B[0;36m<module>\u001B[0;34m\u001B[0m\n\u001B[1;32m      5\u001B[0m id_val_accuracies \u001B[38;5;241m=\u001B[39m []\n\u001B[1;32m      6\u001B[0m \u001B[38;5;28;01mfor\u001B[39;00m epoch \u001B[38;5;129;01min\u001B[39;00m \u001B[38;5;28mrange\u001B[39m(\u001B[38;5;241m1\u001B[39m, num_epochs\u001B[38;5;241m+\u001B[39m\u001B[38;5;241m1\u001B[39m):\n\u001B[0;32m----> 7\u001B[0m   train_loss, train_accuracy \u001B[38;5;241m=\u001B[39m \u001B[43mtrain_epoch\u001B[49m\u001B[43m(\u001B[49m\u001B[43mresnetxt50_pretrained\u001B[49m\u001B[43m,\u001B[49m\u001B[43m \u001B[49m\u001B[43mtrain_loader\u001B[49m\u001B[43m,\u001B[49m\u001B[43m \u001B[49m\u001B[43mloss_criterion\u001B[49m\u001B[43m,\u001B[49m\u001B[43m \u001B[49m\u001B[43moptimizer\u001B[49m\u001B[43m,\u001B[49m\u001B[43m \u001B[49m\u001B[43mdevice\u001B[49m\u001B[43m)\u001B[49m\n\u001B[1;32m      8\u001B[0m   val_loss, val_accuracy \u001B[38;5;241m=\u001B[39m eval_epoch(resnetxt50_pretrained, id_val_loader, loss_criterion, device)\n\u001B[1;32m      9\u001B[0m   train_losses\u001B[38;5;241m.\u001B[39mappend(train_loss)\n",
      "Input \u001B[0;32mIn [12]\u001B[0m, in \u001B[0;36mtrain_epoch\u001B[0;34m(model, train_dataloader, loss_crt, optimizer, device)\u001B[0m\n\u001B[1;32m     34\u001B[0m loss_scalar \u001B[38;5;241m=\u001B[39m loss\u001B[38;5;241m.\u001B[39mitem()\n\u001B[1;32m     36\u001B[0m \u001B[38;5;66;03m# BACKPROPAGATE the gradients\u001B[39;00m\n\u001B[0;32m---> 37\u001B[0m \u001B[43mloss\u001B[49m\u001B[38;5;241;43m.\u001B[39;49m\u001B[43mbackward\u001B[49m\u001B[43m(\u001B[49m\u001B[43m)\u001B[49m\n\u001B[1;32m     38\u001B[0m \u001B[38;5;66;03m# use the gradients to OPTIMISE the model\u001B[39;00m\n\u001B[1;32m     39\u001B[0m optimizer\u001B[38;5;241m.\u001B[39mstep()\n",
      "File \u001B[0;32m~/.pyenv/versions/nexgen/lib/python3.9/site-packages/torch/_tensor.py:307\u001B[0m, in \u001B[0;36mTensor.backward\u001B[0;34m(self, gradient, retain_graph, create_graph, inputs)\u001B[0m\n\u001B[1;32m    298\u001B[0m \u001B[38;5;28;01mif\u001B[39;00m has_torch_function_unary(\u001B[38;5;28mself\u001B[39m):\n\u001B[1;32m    299\u001B[0m     \u001B[38;5;28;01mreturn\u001B[39;00m handle_torch_function(\n\u001B[1;32m    300\u001B[0m         Tensor\u001B[38;5;241m.\u001B[39mbackward,\n\u001B[1;32m    301\u001B[0m         (\u001B[38;5;28mself\u001B[39m,),\n\u001B[0;32m   (...)\u001B[0m\n\u001B[1;32m    305\u001B[0m         create_graph\u001B[38;5;241m=\u001B[39mcreate_graph,\n\u001B[1;32m    306\u001B[0m         inputs\u001B[38;5;241m=\u001B[39minputs)\n\u001B[0;32m--> 307\u001B[0m \u001B[43mtorch\u001B[49m\u001B[38;5;241;43m.\u001B[39;49m\u001B[43mautograd\u001B[49m\u001B[38;5;241;43m.\u001B[39;49m\u001B[43mbackward\u001B[49m\u001B[43m(\u001B[49m\u001B[38;5;28;43mself\u001B[39;49m\u001B[43m,\u001B[49m\u001B[43m \u001B[49m\u001B[43mgradient\u001B[49m\u001B[43m,\u001B[49m\u001B[43m \u001B[49m\u001B[43mretain_graph\u001B[49m\u001B[43m,\u001B[49m\u001B[43m \u001B[49m\u001B[43mcreate_graph\u001B[49m\u001B[43m,\u001B[49m\u001B[43m \u001B[49m\u001B[43minputs\u001B[49m\u001B[38;5;241;43m=\u001B[39;49m\u001B[43minputs\u001B[49m\u001B[43m)\u001B[49m\n",
      "File \u001B[0;32m~/.pyenv/versions/nexgen/lib/python3.9/site-packages/torch/autograd/__init__.py:154\u001B[0m, in \u001B[0;36mbackward\u001B[0;34m(tensors, grad_tensors, retain_graph, create_graph, grad_variables, inputs)\u001B[0m\n\u001B[1;32m    151\u001B[0m \u001B[38;5;28;01mif\u001B[39;00m retain_graph \u001B[38;5;129;01mis\u001B[39;00m \u001B[38;5;28;01mNone\u001B[39;00m:\n\u001B[1;32m    152\u001B[0m     retain_graph \u001B[38;5;241m=\u001B[39m create_graph\n\u001B[0;32m--> 154\u001B[0m \u001B[43mVariable\u001B[49m\u001B[38;5;241;43m.\u001B[39;49m\u001B[43m_execution_engine\u001B[49m\u001B[38;5;241;43m.\u001B[39;49m\u001B[43mrun_backward\u001B[49m\u001B[43m(\u001B[49m\n\u001B[1;32m    155\u001B[0m \u001B[43m    \u001B[49m\u001B[43mtensors\u001B[49m\u001B[43m,\u001B[49m\u001B[43m \u001B[49m\u001B[43mgrad_tensors_\u001B[49m\u001B[43m,\u001B[49m\u001B[43m \u001B[49m\u001B[43mretain_graph\u001B[49m\u001B[43m,\u001B[49m\u001B[43m \u001B[49m\u001B[43mcreate_graph\u001B[49m\u001B[43m,\u001B[49m\u001B[43m \u001B[49m\u001B[43minputs\u001B[49m\u001B[43m,\u001B[49m\n\u001B[1;32m    156\u001B[0m \u001B[43m    \u001B[49m\u001B[43mallow_unreachable\u001B[49m\u001B[38;5;241;43m=\u001B[39;49m\u001B[38;5;28;43;01mTrue\u001B[39;49;00m\u001B[43m,\u001B[49m\u001B[43m \u001B[49m\u001B[43maccumulate_grad\u001B[49m\u001B[38;5;241;43m=\u001B[39;49m\u001B[38;5;28;43;01mTrue\u001B[39;49;00m\u001B[43m)\u001B[49m\n",
      "\u001B[0;31mKeyboardInterrupt\u001B[0m: "
     ]
    }
   ],
   "source": [
    "# finetune the model\n",
    "train_losses = []\n",
    "train_accuracies = []\n",
    "id_val_losses = []\n",
    "id_val_accuracies = []\n",
    "for epoch in range(1, num_epochs+1):\n",
    "  train_loss, train_accuracy = train_epoch(resnetxt50_pretrained, train_loader, loss_criterion, optimizer, device)\n",
    "  val_loss, val_accuracy = eval_epoch(resnetxt50_pretrained, id_val_loader, loss_criterion, device)\n",
    "  train_losses.append(train_loss)\n",
    "  id_val_losses.append(val_loss)\n",
    "  train_accuracies.append(train_accuracy)\n",
    "  id_val_accuracies.append(val_accuracy)\n",
    "  print('\\nEpoch %d'%(epoch))\n",
    "  print('train loss: %10.8f, accuracy: %10.8f'%(train_loss, train_accuracy))\n",
    "  print('id_val loss: %10.8f, accuracy: %10.8f'%(val_loss, val_accuracy))\n"
   ],
   "metadata": {
    "collapsed": false,
    "pycharm": {
     "name": "#%%\n"
    }
   }
  },
  {
   "cell_type": "code",
   "source": [
    "run_eval_ood(resnetxt50_pretrained, val_loader, loss_criterion, device, \"val\")"
   ],
   "metadata": {
    "colab": {
     "base_uri": "https://localhost:8080/"
    },
    "id": "WqrwywFa_AbA",
    "outputId": "e0027e04-ca22-46ff-f3ff-cca32bfbb08d"
   },
   "execution_count": null,
   "outputs": []
  },
  {
   "cell_type": "code",
   "source": [
    "run_eval_ood(resnetxt50_pretrained, test_loader, loss_criterion, device, \"test\")"
   ],
   "metadata": {
    "colab": {
     "base_uri": "https://localhost:8080/"
    },
    "id": "c9GAxnmI_BMv",
    "outputId": "4e08b416-1790-4e8e-e89e-a57eb77c2d5b"
   },
   "execution_count": null,
   "outputs": []
  },
  {
   "cell_type": "code",
   "source": [
    "torch.save(resnetxt50_pretrained.state_dict(), \"resnetxt50_pretrained.pt\")"
   ],
   "metadata": {
    "id": "5zmE54z4_GfQ"
   },
   "execution_count": null,
   "outputs": []
  },
  {
   "cell_type": "code",
   "source": [
    "resnet18_pretrained.load_state_dict(torch.load(\"resnet18_pretrained_all_grad.pt\"))"
   ],
   "metadata": {
    "colab": {
     "base_uri": "https://localhost:8080/"
    },
    "id": "rOnr94Jds63B",
    "outputId": "1041fc3e-c93f-4826-d1cd-5be812a1616c"
   },
   "execution_count": 14,
   "outputs": [
    {
     "data": {
      "text/plain": "<All keys matched successfully>"
     },
     "execution_count": 14,
     "metadata": {},
     "output_type": "execute_result"
    }
   ]
  },
  {
   "cell_type": "code",
   "source": [
    "\"\"\"\n",
    "Rupere cap de clasificare si calculare distanta l2 si cos medie intre ood si iid\n",
    "\"\"\"\n",
    "\n",
    "# putem sa folosim labels atunci cand facem distanta? (i.e. distanta intra-clasa sau inter-clasa)\n",
    "\n",
    "def calc_dist_iid_all(model, dataloader, metric=\"l2\"):\n",
    "    modules = list(model.children())[:-1]\n",
    "    # print(modules)\n",
    "    model = nn.Sequential(*modules)\n",
    "    average_dist_iid = [[], []]\n",
    "    model.eval()\n",
    "\n",
    "    with torch.no_grad():\n",
    "        for batch_idx, batch in tqdm(enumerate(dataloader)):\n",
    "            batch_img, batch_labels, _ = batch\n",
    "\n",
    "            batch_img = batch_img.to(device)\n",
    "            batch_labels = batch_labels.to(device)\n",
    "\n",
    "            output = model(batch_img)\n",
    "            output = output.reshape(batch_img.shape[0], -1)\n",
    "             #if batch_idx == 0:\n",
    "                # print(output.shape)\n",
    "\n",
    "            for idx_img_1 in range(batch_img.shape[0] - 1):\n",
    "                for idx_img_2 in range(idx_img_1 + 1, batch_img.shape[0]):\n",
    "\n",
    "                    if batch_labels[idx_img_1] == batch_labels[idx_img_2]:\n",
    "                        if metric == \"l2\":\n",
    "                            dist = torch.nn.functional.pairwise_distance(output[idx_img_1], output[idx_img_2])\n",
    "                        elif metric == \"cos\":\n",
    "                            cos = nn.CosineSimilarity(dim=1, eps=1e-6)\n",
    "                            dist = cos(output[idx_img_1].reshape(1, -1), output[idx_img_2].reshape(1, -1))\n",
    "                        elif metric == \"mink\":\n",
    "                            dist = torch.cdist(output[idx_img_1].reshape(1, -1), output[idx_img_2].reshape(1, -1), p=3)\n",
    "                        # dist = (output[idx_img_1] - output[idx_img_2]).pow(2).sum(0).sqrt()\n",
    "                        average_dist_iid[batch_labels[idx_img_1]].append(dist.item())\n",
    "\n",
    "    return average_dist_iid\n",
    "\n",
    "def calc_dist_all(model, dataloader, x, y, metric=\"l2\"): # x-> image to be decided if iid or ood, y-> label\n",
    "    modules = list(model.children())[:-1]\n",
    "    model = nn.Sequential(*modules)\n",
    "    average_dist = 0\n",
    "    count_labels = 0\n",
    "    model.eval()\n",
    "    num_batches = len(dataloader)\n",
    "    # x, y, _ = img\n",
    "    print(y)\n",
    "    x = x.to(device)\n",
    "    y = y.to(device)\n",
    "    with torch.no_grad():\n",
    "        x_shape = list(x.shape)\n",
    "        x = x.reshape(1, x_shape[0], x_shape[1], x_shape[2])\n",
    "\n",
    "        output_x = model(x)\n",
    "        output_x = output_x.reshape(1, -1)\n",
    "        for batch_idx, batch in tqdm(enumerate(dataloader)):\n",
    "            batch_img, batch_labels, _ = batch\n",
    "\n",
    "            batch_img = batch_img.to(device)\n",
    "            batch_labels = batch_labels.to(device)\n",
    "\n",
    "            output = model(batch_img)\n",
    "            output = output.reshape(batch_img.shape[0], -1)\n",
    "            # if batch_idx == 0:\n",
    "                # print(output.shape)\n",
    "\n",
    "            for idx_img_1 in range(batch_img.shape[0]):\n",
    "\n",
    "                if batch_labels[idx_img_1] == y:\n",
    "\n",
    "                    if metric == \"l2\":\n",
    "                        dist = torch.nn.functional.pairwise_distance(output[idx_img_1], output_x)\n",
    "                    elif metric == \"cos\":\n",
    "                        cos = nn.CosineSimilarity(dim=1, eps=1e-6)\n",
    "                        dist = cos(output[idx_img_1].reshape(1, -1), output_x.reshape(1, -1))\n",
    "                    elif metric == \"mink\":\n",
    "                        dist = torch.cdist(output[idx_img_1].reshape(1, -1), output_x.reshape(1, -1), p=3)\n",
    "                    average_dist += dist.item()\n",
    "                    count_labels += 1\n",
    "\n",
    "    return average_dist / count_labels\n"
   ],
   "metadata": {
    "id": "BnhSFP03vCeP"
   },
   "execution_count": 53,
   "outputs": []
  },
  {
   "cell_type": "code",
   "execution_count": 15,
   "outputs": [],
   "source": [
    "import numpy as np\n",
    "def calc_mean_std(arr):\n",
    "    arr = np.asarray(arr)\n",
    "    return arr.mean(), arr.std()\n"
   ],
   "metadata": {
    "collapsed": false,
    "pycharm": {
     "name": "#%%\n"
    }
   }
  },
  {
   "cell_type": "code",
   "source": [
    "dist_iid = calc_dist_iid_all(resnet18_pretrained, id_val_loader)\n",
    "print(calc_mean_std(dist_iid[0]))\n",
    "print(calc_mean_std(dist_iid[1]))"
   ],
   "metadata": {
    "colab": {
     "base_uri": "https://localhost:8080/"
    },
    "id": "jjRsiDDGtY7r",
    "outputId": "267dea7d-8995-41d4-9d72-e759dc33801d"
   },
   "execution_count": 41,
   "outputs": [
    {
     "name": "stderr",
     "output_type": "stream",
     "text": [
      "347it [00:36,  9.55it/s]"
     ]
    },
    {
     "name": "stdout",
     "output_type": "stream",
     "text": [
      "(7.966576247082313, 4.114453328341953)\n",
      "(49.825562248387, 43.42303952766147)\n"
     ]
    },
    {
     "name": "stderr",
     "output_type": "stream",
     "text": [
      "\n"
     ]
    }
   ]
  },
  {
   "cell_type": "code",
   "source": [
    "dist_iid_cos = calc_dist_iid_all(resnet18_pretrained, id_val_loader, \"cos\")\n",
    "print(calc_mean_std(dist_iid_cos[0]))\n",
    "print(calc_mean_std(dist_iid_cos[1]))"
   ],
   "metadata": {
    "colab": {
     "base_uri": "https://localhost:8080/"
    },
    "id": "PzZ3ikWi8jrW",
    "outputId": "256a233c-f5d5-4911-8363-09f13121b156"
   },
   "execution_count": 42,
   "outputs": [
    {
     "name": "stderr",
     "output_type": "stream",
     "text": [
      "347it [00:51,  6.73it/s]"
     ]
    },
    {
     "name": "stdout",
     "output_type": "stream",
     "text": [
      "(0.7919799049652289, 0.1680152192808706)\n",
      "(0.7590619617230417, 0.17710607193633654)\n"
     ]
    },
    {
     "name": "stderr",
     "output_type": "stream",
     "text": [
      "\n"
     ]
    }
   ]
  },
  {
   "cell_type": "code",
   "source": [
    "dist_l2_1_ood=[]\n",
    "batch_data, batch_labels, _ = next(iter(val_loader))\n",
    "for idx in range(len(batch_labels)):\n",
    "    dist_l2_1_ood.append(calc_dist_all(resnet18_pretrained, id_val_loader, batch_data[idx], batch_labels[idx]))\n",
    "print(dist_l2_1_ood)"
   ],
   "metadata": {
    "colab": {
     "base_uri": "https://localhost:8080/"
    },
    "id": "d12q3KQgwkwk",
    "outputId": "3fc040d3-8338-4600-a669-6a0f25f9ab52"
   },
   "execution_count": 29,
   "outputs": [
    {
     "name": "stdout",
     "output_type": "stream",
     "text": [
      "tensor(1)\n"
     ]
    },
    {
     "name": "stderr",
     "output_type": "stream",
     "text": [
      "347it [02:26,  2.36it/s]\n"
     ]
    },
    {
     "name": "stdout",
     "output_type": "stream",
     "text": [
      "tensor(1)\n"
     ]
    },
    {
     "name": "stderr",
     "output_type": "stream",
     "text": [
      "347it [00:19, 17.44it/s]\n"
     ]
    },
    {
     "name": "stdout",
     "output_type": "stream",
     "text": [
      "tensor(1)\n"
     ]
    },
    {
     "name": "stderr",
     "output_type": "stream",
     "text": [
      "347it [00:20, 16.61it/s]\n"
     ]
    },
    {
     "name": "stdout",
     "output_type": "stream",
     "text": [
      "tensor(1)\n"
     ]
    },
    {
     "name": "stderr",
     "output_type": "stream",
     "text": [
      "347it [00:19, 17.43it/s]\n"
     ]
    },
    {
     "name": "stdout",
     "output_type": "stream",
     "text": [
      "tensor(1)\n"
     ]
    },
    {
     "name": "stderr",
     "output_type": "stream",
     "text": [
      "347it [00:19, 17.98it/s]\n"
     ]
    },
    {
     "name": "stdout",
     "output_type": "stream",
     "text": [
      "tensor(1)\n"
     ]
    },
    {
     "name": "stderr",
     "output_type": "stream",
     "text": [
      "347it [00:19, 17.84it/s]\n"
     ]
    },
    {
     "name": "stdout",
     "output_type": "stream",
     "text": [
      "tensor(1)\n"
     ]
    },
    {
     "name": "stderr",
     "output_type": "stream",
     "text": [
      "347it [00:19, 17.63it/s]\n"
     ]
    },
    {
     "name": "stdout",
     "output_type": "stream",
     "text": [
      "tensor(1)\n"
     ]
    },
    {
     "name": "stderr",
     "output_type": "stream",
     "text": [
      "347it [00:19, 17.89it/s]\n"
     ]
    },
    {
     "name": "stdout",
     "output_type": "stream",
     "text": [
      "tensor(1)\n"
     ]
    },
    {
     "name": "stderr",
     "output_type": "stream",
     "text": [
      "347it [00:19, 17.67it/s]\n"
     ]
    },
    {
     "name": "stdout",
     "output_type": "stream",
     "text": [
      "tensor(1)\n"
     ]
    },
    {
     "name": "stderr",
     "output_type": "stream",
     "text": [
      "347it [00:20, 17.10it/s]\n"
     ]
    },
    {
     "name": "stdout",
     "output_type": "stream",
     "text": [
      "tensor(1)\n"
     ]
    },
    {
     "name": "stderr",
     "output_type": "stream",
     "text": [
      "347it [00:21, 16.32it/s]\n"
     ]
    },
    {
     "name": "stdout",
     "output_type": "stream",
     "text": [
      "tensor(1)\n"
     ]
    },
    {
     "name": "stderr",
     "output_type": "stream",
     "text": [
      "347it [00:19, 17.70it/s]\n"
     ]
    },
    {
     "name": "stdout",
     "output_type": "stream",
     "text": [
      "tensor(1)\n"
     ]
    },
    {
     "name": "stderr",
     "output_type": "stream",
     "text": [
      "347it [00:19, 17.75it/s]\n"
     ]
    },
    {
     "name": "stdout",
     "output_type": "stream",
     "text": [
      "tensor(1)\n"
     ]
    },
    {
     "name": "stderr",
     "output_type": "stream",
     "text": [
      "347it [00:20, 16.93it/s]\n"
     ]
    },
    {
     "name": "stdout",
     "output_type": "stream",
     "text": [
      "tensor(1)\n"
     ]
    },
    {
     "name": "stderr",
     "output_type": "stream",
     "text": [
      "347it [00:20, 16.93it/s]\n"
     ]
    },
    {
     "name": "stdout",
     "output_type": "stream",
     "text": [
      "tensor(1)\n"
     ]
    },
    {
     "name": "stderr",
     "output_type": "stream",
     "text": [
      "347it [00:20, 17.06it/s]\n"
     ]
    },
    {
     "name": "stdout",
     "output_type": "stream",
     "text": [
      "tensor(1)\n"
     ]
    },
    {
     "name": "stderr",
     "output_type": "stream",
     "text": [
      "347it [00:20, 16.60it/s]\n"
     ]
    },
    {
     "name": "stdout",
     "output_type": "stream",
     "text": [
      "tensor(1)\n"
     ]
    },
    {
     "name": "stderr",
     "output_type": "stream",
     "text": [
      "347it [00:20, 16.82it/s]\n"
     ]
    },
    {
     "name": "stdout",
     "output_type": "stream",
     "text": [
      "tensor(1)\n"
     ]
    },
    {
     "name": "stderr",
     "output_type": "stream",
     "text": [
      "347it [00:20, 17.10it/s]\n"
     ]
    },
    {
     "name": "stdout",
     "output_type": "stream",
     "text": [
      "tensor(1)\n"
     ]
    },
    {
     "name": "stderr",
     "output_type": "stream",
     "text": [
      "347it [00:20, 16.81it/s]\n"
     ]
    },
    {
     "name": "stdout",
     "output_type": "stream",
     "text": [
      "tensor(1)\n"
     ]
    },
    {
     "name": "stderr",
     "output_type": "stream",
     "text": [
      "347it [00:20, 17.22it/s]\n"
     ]
    },
    {
     "name": "stdout",
     "output_type": "stream",
     "text": [
      "tensor(1)\n"
     ]
    },
    {
     "name": "stderr",
     "output_type": "stream",
     "text": [
      "347it [00:20, 16.87it/s]\n"
     ]
    },
    {
     "name": "stdout",
     "output_type": "stream",
     "text": [
      "tensor(1)\n"
     ]
    },
    {
     "name": "stderr",
     "output_type": "stream",
     "text": [
      "347it [00:21, 16.45it/s]\n"
     ]
    },
    {
     "name": "stdout",
     "output_type": "stream",
     "text": [
      "tensor(1)\n"
     ]
    },
    {
     "name": "stderr",
     "output_type": "stream",
     "text": [
      "347it [00:20, 16.95it/s]\n"
     ]
    },
    {
     "name": "stdout",
     "output_type": "stream",
     "text": [
      "tensor(1)\n"
     ]
    },
    {
     "name": "stderr",
     "output_type": "stream",
     "text": [
      "347it [00:20, 17.04it/s]\n"
     ]
    },
    {
     "name": "stdout",
     "output_type": "stream",
     "text": [
      "tensor(1)\n"
     ]
    },
    {
     "name": "stderr",
     "output_type": "stream",
     "text": [
      "347it [00:20, 16.59it/s]\n"
     ]
    },
    {
     "name": "stdout",
     "output_type": "stream",
     "text": [
      "tensor(1)\n"
     ]
    },
    {
     "name": "stderr",
     "output_type": "stream",
     "text": [
      "347it [00:20, 16.94it/s]\n"
     ]
    },
    {
     "name": "stdout",
     "output_type": "stream",
     "text": [
      "tensor(1)\n"
     ]
    },
    {
     "name": "stderr",
     "output_type": "stream",
     "text": [
      "347it [00:20, 16.85it/s]\n"
     ]
    },
    {
     "name": "stdout",
     "output_type": "stream",
     "text": [
      "tensor(1)\n"
     ]
    },
    {
     "name": "stderr",
     "output_type": "stream",
     "text": [
      "347it [00:20, 16.82it/s]\n"
     ]
    },
    {
     "name": "stdout",
     "output_type": "stream",
     "text": [
      "tensor(1)\n"
     ]
    },
    {
     "name": "stderr",
     "output_type": "stream",
     "text": [
      "347it [00:21, 16.51it/s]\n"
     ]
    },
    {
     "name": "stdout",
     "output_type": "stream",
     "text": [
      "tensor(1)\n"
     ]
    },
    {
     "name": "stderr",
     "output_type": "stream",
     "text": [
      "347it [00:20, 17.24it/s]\n"
     ]
    },
    {
     "name": "stdout",
     "output_type": "stream",
     "text": [
      "tensor(1)\n"
     ]
    },
    {
     "name": "stderr",
     "output_type": "stream",
     "text": [
      "347it [00:20, 17.09it/s]"
     ]
    },
    {
     "name": "stdout",
     "output_type": "stream",
     "text": [
      "[48.12580185434881, 47.122555061491404, 48.19732158671518, 48.86843590476756, 48.42316879562676, 47.934727400982375, 48.40140213387857, 48.42589491071027, 48.27477378906638, 48.52999814776862, 48.29174712005708, 47.49868544503276, 48.155919726056545, 47.84677312140183, 47.84191508635555, 47.56111748240753, 48.35410220488408, 48.08161313120373, 48.19475751959513, 48.26106034572395, 48.26563705590794, 47.97635042360272, 48.096771982324725, 48.392889665507454, 48.68382668782692, 48.70096763753377, 48.47466665370229, 48.63761319091284, 46.8111308097578, 48.53838990197721, 48.394299754054416, 48.298474198522065]\n"
     ]
    },
    {
     "name": "stderr",
     "output_type": "stream",
     "text": [
      "\n"
     ]
    },
    {
     "ename": "NameError",
     "evalue": "name 'calc_mean_std' is not defined",
     "output_type": "error",
     "traceback": [
      "\u001B[0;31m---------------------------------------------------------------------------\u001B[0m",
      "\u001B[0;31mNameError\u001B[0m                                 Traceback (most recent call last)",
      "Input \u001B[0;32mIn [29]\u001B[0m, in \u001B[0;36m<module>\u001B[0;34m\u001B[0m\n\u001B[1;32m      4\u001B[0m     dist_l2_1_ood\u001B[38;5;241m.\u001B[39mappend(calc_dist(resnet18_pretrained, id_val_loader, batch_data[idx], batch_labels[idx]))\n\u001B[1;32m      5\u001B[0m \u001B[38;5;28mprint\u001B[39m(dist_l2_1_ood)\n\u001B[0;32m----> 6\u001B[0m \u001B[38;5;28mprint\u001B[39m(\u001B[43mcalc_mean_std\u001B[49m(dist_l2_1_ood))\n",
      "\u001B[0;31mNameError\u001B[0m: name 'calc_mean_std' is not defined"
     ]
    }
   ]
  },
  {
   "cell_type": "code",
   "execution_count": 33,
   "outputs": [
    {
     "name": "stdout",
     "output_type": "stream",
     "text": [
      "(48.176962147803266, 0.435619998337812)\n"
     ]
    }
   ],
   "source": [
    "print(calc_mean_std(dist_l2_1_ood))\n"
   ],
   "metadata": {
    "collapsed": false,
    "pycharm": {
     "name": "#%%\n"
    }
   }
  },
  {
   "cell_type": "code",
   "execution_count": 34,
   "outputs": [
    {
     "name": "stderr",
     "output_type": "stream",
     "text": [
      "201it [01:41,  1.99it/s]\n"
     ]
    }
   ],
   "source": [
    "\n",
    "for batch_idx, batch in tqdm(enumerate(val_loader)):\n",
    "    if batch_idx > 200:\n",
    "        batch_data, batch_labels, _ = batch\n",
    "        break\n"
   ],
   "metadata": {
    "collapsed": false,
    "pycharm": {
     "name": "#%%\n"
    }
   }
  },
  {
   "cell_type": "code",
   "execution_count": 35,
   "outputs": [
    {
     "name": "stdout",
     "output_type": "stream",
     "text": [
      "tensor(0)\n"
     ]
    },
    {
     "name": "stderr",
     "output_type": "stream",
     "text": [
      "347it [01:38,  3.53it/s]\n"
     ]
    },
    {
     "name": "stdout",
     "output_type": "stream",
     "text": [
      "tensor(0)\n"
     ]
    },
    {
     "name": "stderr",
     "output_type": "stream",
     "text": [
      "347it [00:19, 17.87it/s]\n"
     ]
    },
    {
     "name": "stdout",
     "output_type": "stream",
     "text": [
      "tensor(0)\n"
     ]
    },
    {
     "name": "stderr",
     "output_type": "stream",
     "text": [
      "347it [00:19, 17.80it/s]\n"
     ]
    },
    {
     "name": "stdout",
     "output_type": "stream",
     "text": [
      "tensor(0)\n"
     ]
    },
    {
     "name": "stderr",
     "output_type": "stream",
     "text": [
      "347it [00:19, 17.83it/s]\n"
     ]
    },
    {
     "name": "stdout",
     "output_type": "stream",
     "text": [
      "tensor(0)\n"
     ]
    },
    {
     "name": "stderr",
     "output_type": "stream",
     "text": [
      "347it [00:19, 17.97it/s]\n"
     ]
    },
    {
     "name": "stdout",
     "output_type": "stream",
     "text": [
      "tensor(0)\n"
     ]
    },
    {
     "name": "stderr",
     "output_type": "stream",
     "text": [
      "347it [00:19, 17.39it/s]\n"
     ]
    },
    {
     "name": "stdout",
     "output_type": "stream",
     "text": [
      "tensor(0)\n"
     ]
    },
    {
     "name": "stderr",
     "output_type": "stream",
     "text": [
      "347it [00:19, 17.76it/s]\n"
     ]
    },
    {
     "name": "stdout",
     "output_type": "stream",
     "text": [
      "tensor(0)\n"
     ]
    },
    {
     "name": "stderr",
     "output_type": "stream",
     "text": [
      "347it [00:19, 17.59it/s]\n"
     ]
    },
    {
     "name": "stdout",
     "output_type": "stream",
     "text": [
      "tensor(0)\n"
     ]
    },
    {
     "name": "stderr",
     "output_type": "stream",
     "text": [
      "347it [00:20, 16.90it/s]\n"
     ]
    },
    {
     "name": "stdout",
     "output_type": "stream",
     "text": [
      "tensor(0)\n"
     ]
    },
    {
     "name": "stderr",
     "output_type": "stream",
     "text": [
      "347it [00:20, 16.88it/s]\n"
     ]
    },
    {
     "name": "stdout",
     "output_type": "stream",
     "text": [
      "tensor(0)\n"
     ]
    },
    {
     "name": "stderr",
     "output_type": "stream",
     "text": [
      "347it [00:20, 16.87it/s]\n"
     ]
    },
    {
     "name": "stdout",
     "output_type": "stream",
     "text": [
      "tensor(0)\n"
     ]
    },
    {
     "name": "stderr",
     "output_type": "stream",
     "text": [
      "347it [00:21, 16.44it/s]\n"
     ]
    },
    {
     "name": "stdout",
     "output_type": "stream",
     "text": [
      "tensor(0)\n"
     ]
    },
    {
     "name": "stderr",
     "output_type": "stream",
     "text": [
      "347it [00:21, 15.84it/s]\n"
     ]
    },
    {
     "name": "stdout",
     "output_type": "stream",
     "text": [
      "tensor(0)\n"
     ]
    },
    {
     "name": "stderr",
     "output_type": "stream",
     "text": [
      "347it [00:19, 17.57it/s]\n"
     ]
    },
    {
     "name": "stdout",
     "output_type": "stream",
     "text": [
      "tensor(0)\n"
     ]
    },
    {
     "name": "stderr",
     "output_type": "stream",
     "text": [
      "347it [00:20, 16.95it/s]\n"
     ]
    },
    {
     "name": "stdout",
     "output_type": "stream",
     "text": [
      "tensor(0)\n"
     ]
    },
    {
     "name": "stderr",
     "output_type": "stream",
     "text": [
      "347it [00:22, 15.48it/s]\n"
     ]
    },
    {
     "name": "stdout",
     "output_type": "stream",
     "text": [
      "tensor(0)\n"
     ]
    },
    {
     "name": "stderr",
     "output_type": "stream",
     "text": [
      "347it [00:20, 16.62it/s]\n"
     ]
    },
    {
     "name": "stdout",
     "output_type": "stream",
     "text": [
      "tensor(0)\n"
     ]
    },
    {
     "name": "stderr",
     "output_type": "stream",
     "text": [
      "347it [00:21, 16.25it/s]\n"
     ]
    },
    {
     "name": "stdout",
     "output_type": "stream",
     "text": [
      "tensor(0)\n"
     ]
    },
    {
     "name": "stderr",
     "output_type": "stream",
     "text": [
      "347it [00:20, 16.82it/s]\n"
     ]
    },
    {
     "name": "stdout",
     "output_type": "stream",
     "text": [
      "tensor(0)\n"
     ]
    },
    {
     "name": "stderr",
     "output_type": "stream",
     "text": [
      "347it [00:20, 16.89it/s]\n"
     ]
    },
    {
     "name": "stdout",
     "output_type": "stream",
     "text": [
      "tensor(0)\n"
     ]
    },
    {
     "name": "stderr",
     "output_type": "stream",
     "text": [
      "347it [00:19, 17.88it/s]\n"
     ]
    },
    {
     "name": "stdout",
     "output_type": "stream",
     "text": [
      "tensor(0)\n"
     ]
    },
    {
     "name": "stderr",
     "output_type": "stream",
     "text": [
      "347it [00:20, 16.91it/s]\n"
     ]
    },
    {
     "name": "stdout",
     "output_type": "stream",
     "text": [
      "tensor(0)\n"
     ]
    },
    {
     "name": "stderr",
     "output_type": "stream",
     "text": [
      "347it [00:19, 17.54it/s]\n"
     ]
    },
    {
     "name": "stdout",
     "output_type": "stream",
     "text": [
      "tensor(0)\n"
     ]
    },
    {
     "name": "stderr",
     "output_type": "stream",
     "text": [
      "347it [00:19, 17.45it/s]\n"
     ]
    },
    {
     "name": "stdout",
     "output_type": "stream",
     "text": [
      "tensor(0)\n"
     ]
    },
    {
     "name": "stderr",
     "output_type": "stream",
     "text": [
      "347it [00:19, 17.93it/s]\n"
     ]
    },
    {
     "name": "stdout",
     "output_type": "stream",
     "text": [
      "tensor(0)\n"
     ]
    },
    {
     "name": "stderr",
     "output_type": "stream",
     "text": [
      "347it [00:20, 16.64it/s]\n"
     ]
    },
    {
     "name": "stdout",
     "output_type": "stream",
     "text": [
      "tensor(0)\n"
     ]
    },
    {
     "name": "stderr",
     "output_type": "stream",
     "text": [
      "347it [00:20, 16.55it/s]\n"
     ]
    },
    {
     "name": "stdout",
     "output_type": "stream",
     "text": [
      "tensor(0)\n"
     ]
    },
    {
     "name": "stderr",
     "output_type": "stream",
     "text": [
      "347it [00:20, 17.10it/s]\n"
     ]
    },
    {
     "name": "stdout",
     "output_type": "stream",
     "text": [
      "tensor(0)\n"
     ]
    },
    {
     "name": "stderr",
     "output_type": "stream",
     "text": [
      "347it [00:20, 17.17it/s]\n"
     ]
    },
    {
     "name": "stdout",
     "output_type": "stream",
     "text": [
      "tensor(0)\n"
     ]
    },
    {
     "name": "stderr",
     "output_type": "stream",
     "text": [
      "347it [00:20, 17.29it/s]\n"
     ]
    },
    {
     "name": "stdout",
     "output_type": "stream",
     "text": [
      "tensor(0)\n"
     ]
    },
    {
     "name": "stderr",
     "output_type": "stream",
     "text": [
      "347it [00:20, 17.02it/s]\n"
     ]
    },
    {
     "name": "stdout",
     "output_type": "stream",
     "text": [
      "tensor(0)\n"
     ]
    },
    {
     "name": "stderr",
     "output_type": "stream",
     "text": [
      "347it [00:21, 16.45it/s]"
     ]
    },
    {
     "name": "stdout",
     "output_type": "stream",
     "text": [
      "[6.447804433305278, 7.410187580465462, 9.312605382544106, 9.999398875687643, 7.107455103621232, 6.62457378703924, 8.163959386986267, 9.453281946286097, 10.92258991177105, 6.886451105716525, 6.65852417166171, 7.121108471517348, 7.596846452209618, 10.719539246147166, 8.061968111302418, 7.656580279540352, 7.612348923062648, 6.898071432828647, 10.099604326586602, 6.972398030911118, 7.802922748255329, 6.866422055513252, 6.751424783661893, 7.658601330204207, 9.276851113886972, 8.483976501528598, 8.22611745022655, 8.345342162569604, 10.057817286399805, 11.670284460715335, 8.98549822165429, 8.240271701318202]\n",
      "(8.252838336722643, 1.3907146492780709)\n"
     ]
    },
    {
     "name": "stderr",
     "output_type": "stream",
     "text": [
      "\n"
     ]
    }
   ],
   "source": [
    "dist_l2_0_ood=[]\n",
    "for idx in range(len(batch_labels)):\n",
    "    dist_l2_0_ood.append(calc_dist_all(resnet18_pretrained, id_val_loader, batch_data[idx], batch_labels[idx]))\n",
    "print(dist_l2_0_ood)\n",
    "print(calc_mean_std(dist_l2_0_ood))"
   ],
   "metadata": {
    "collapsed": false,
    "pycharm": {
     "name": "#%%\n"
    }
   }
  },
  {
   "cell_type": "code",
   "source": [
    "dist_cos_1_ood=[]\n",
    "batch_data, batch_labels, _ = next(iter(val_loader))\n",
    "for idx in range(len(batch_labels)):\n",
    "    dist_cos_1_ood.append(calc_dist_all(resnet18_pretrained, id_val_loader, batch_data[idx], batch_labels[idx], \"cos\"))\n",
    "\n",
    "print(dist_cos_1_ood)\n",
    "print(calc_mean_std(dist_cos_1_ood))"
   ],
   "metadata": {
    "colab": {
     "base_uri": "https://localhost:8080/"
    },
    "id": "-39v3Okk8qfH",
    "outputId": "f5040cd0-fdd9-41be-80e2-968cc923aa81"
   },
   "execution_count": 36,
   "outputs": [
    {
     "name": "stdout",
     "output_type": "stream",
     "text": [
      "tensor(1)\n"
     ]
    },
    {
     "name": "stderr",
     "output_type": "stream",
     "text": [
      "347it [00:21, 16.17it/s]\n"
     ]
    },
    {
     "name": "stdout",
     "output_type": "stream",
     "text": [
      "tensor(1)\n"
     ]
    },
    {
     "name": "stderr",
     "output_type": "stream",
     "text": [
      "347it [00:21, 16.16it/s]\n"
     ]
    },
    {
     "name": "stdout",
     "output_type": "stream",
     "text": [
      "tensor(1)\n"
     ]
    },
    {
     "name": "stderr",
     "output_type": "stream",
     "text": [
      "347it [00:21, 16.44it/s]\n"
     ]
    },
    {
     "name": "stdout",
     "output_type": "stream",
     "text": [
      "tensor(1)\n"
     ]
    },
    {
     "name": "stderr",
     "output_type": "stream",
     "text": [
      "347it [00:21, 16.43it/s]\n"
     ]
    },
    {
     "name": "stdout",
     "output_type": "stream",
     "text": [
      "tensor(1)\n"
     ]
    },
    {
     "name": "stderr",
     "output_type": "stream",
     "text": [
      "347it [00:21, 16.44it/s]\n"
     ]
    },
    {
     "name": "stdout",
     "output_type": "stream",
     "text": [
      "tensor(1)\n"
     ]
    },
    {
     "name": "stderr",
     "output_type": "stream",
     "text": [
      "347it [00:21, 16.47it/s]\n"
     ]
    },
    {
     "name": "stdout",
     "output_type": "stream",
     "text": [
      "tensor(1)\n"
     ]
    },
    {
     "name": "stderr",
     "output_type": "stream",
     "text": [
      "347it [00:20, 17.21it/s]\n"
     ]
    },
    {
     "name": "stdout",
     "output_type": "stream",
     "text": [
      "tensor(1)\n"
     ]
    },
    {
     "name": "stderr",
     "output_type": "stream",
     "text": [
      "347it [00:20, 17.17it/s]\n"
     ]
    },
    {
     "name": "stdout",
     "output_type": "stream",
     "text": [
      "tensor(1)\n"
     ]
    },
    {
     "name": "stderr",
     "output_type": "stream",
     "text": [
      "347it [00:20, 17.05it/s]\n"
     ]
    },
    {
     "name": "stdout",
     "output_type": "stream",
     "text": [
      "tensor(1)\n"
     ]
    },
    {
     "name": "stderr",
     "output_type": "stream",
     "text": [
      "347it [00:21, 15.93it/s]\n"
     ]
    },
    {
     "name": "stdout",
     "output_type": "stream",
     "text": [
      "tensor(1)\n"
     ]
    },
    {
     "name": "stderr",
     "output_type": "stream",
     "text": [
      "347it [00:21, 16.12it/s]\n"
     ]
    },
    {
     "name": "stdout",
     "output_type": "stream",
     "text": [
      "tensor(1)\n"
     ]
    },
    {
     "name": "stderr",
     "output_type": "stream",
     "text": [
      "347it [00:22, 15.72it/s]\n"
     ]
    },
    {
     "name": "stdout",
     "output_type": "stream",
     "text": [
      "tensor(1)\n"
     ]
    },
    {
     "name": "stderr",
     "output_type": "stream",
     "text": [
      "347it [00:20, 16.95it/s]\n"
     ]
    },
    {
     "name": "stdout",
     "output_type": "stream",
     "text": [
      "tensor(1)\n"
     ]
    },
    {
     "name": "stderr",
     "output_type": "stream",
     "text": [
      "347it [00:20, 17.17it/s]\n"
     ]
    },
    {
     "name": "stdout",
     "output_type": "stream",
     "text": [
      "tensor(1)\n"
     ]
    },
    {
     "name": "stderr",
     "output_type": "stream",
     "text": [
      "347it [00:20, 17.05it/s]\n"
     ]
    },
    {
     "name": "stdout",
     "output_type": "stream",
     "text": [
      "tensor(1)\n"
     ]
    },
    {
     "name": "stderr",
     "output_type": "stream",
     "text": [
      "347it [00:20, 17.31it/s]\n"
     ]
    },
    {
     "name": "stdout",
     "output_type": "stream",
     "text": [
      "tensor(1)\n"
     ]
    },
    {
     "name": "stderr",
     "output_type": "stream",
     "text": [
      "347it [00:21, 16.43it/s]\n"
     ]
    },
    {
     "name": "stdout",
     "output_type": "stream",
     "text": [
      "tensor(1)\n"
     ]
    },
    {
     "name": "stderr",
     "output_type": "stream",
     "text": [
      "347it [00:20, 16.98it/s]\n"
     ]
    },
    {
     "name": "stdout",
     "output_type": "stream",
     "text": [
      "tensor(1)\n"
     ]
    },
    {
     "name": "stderr",
     "output_type": "stream",
     "text": [
      "347it [00:21, 16.39it/s]\n"
     ]
    },
    {
     "name": "stdout",
     "output_type": "stream",
     "text": [
      "tensor(1)\n"
     ]
    },
    {
     "name": "stderr",
     "output_type": "stream",
     "text": [
      "347it [00:21, 16.49it/s]\n"
     ]
    },
    {
     "name": "stdout",
     "output_type": "stream",
     "text": [
      "tensor(1)\n"
     ]
    },
    {
     "name": "stderr",
     "output_type": "stream",
     "text": [
      "347it [00:21, 16.40it/s]\n"
     ]
    },
    {
     "name": "stdout",
     "output_type": "stream",
     "text": [
      "tensor(1)\n"
     ]
    },
    {
     "name": "stderr",
     "output_type": "stream",
     "text": [
      "347it [00:21, 16.38it/s]\n"
     ]
    },
    {
     "name": "stdout",
     "output_type": "stream",
     "text": [
      "tensor(1)\n"
     ]
    },
    {
     "name": "stderr",
     "output_type": "stream",
     "text": [
      "347it [00:20, 16.56it/s]\n"
     ]
    },
    {
     "name": "stdout",
     "output_type": "stream",
     "text": [
      "tensor(1)\n"
     ]
    },
    {
     "name": "stderr",
     "output_type": "stream",
     "text": [
      "347it [00:21, 15.90it/s]\n"
     ]
    },
    {
     "name": "stdout",
     "output_type": "stream",
     "text": [
      "tensor(1)\n"
     ]
    },
    {
     "name": "stderr",
     "output_type": "stream",
     "text": [
      "347it [00:23, 14.82it/s]\n"
     ]
    },
    {
     "name": "stdout",
     "output_type": "stream",
     "text": [
      "tensor(1)\n"
     ]
    },
    {
     "name": "stderr",
     "output_type": "stream",
     "text": [
      "347it [00:20, 16.62it/s]\n"
     ]
    },
    {
     "name": "stdout",
     "output_type": "stream",
     "text": [
      "tensor(1)\n"
     ]
    },
    {
     "name": "stderr",
     "output_type": "stream",
     "text": [
      "347it [00:21, 15.86it/s]\n"
     ]
    },
    {
     "name": "stdout",
     "output_type": "stream",
     "text": [
      "tensor(1)\n"
     ]
    },
    {
     "name": "stderr",
     "output_type": "stream",
     "text": [
      "347it [00:21, 15.98it/s]\n"
     ]
    },
    {
     "name": "stdout",
     "output_type": "stream",
     "text": [
      "tensor(1)\n"
     ]
    },
    {
     "name": "stderr",
     "output_type": "stream",
     "text": [
      "347it [00:21, 15.82it/s]\n"
     ]
    },
    {
     "name": "stdout",
     "output_type": "stream",
     "text": [
      "tensor(1)\n"
     ]
    },
    {
     "name": "stderr",
     "output_type": "stream",
     "text": [
      "347it [00:21, 15.88it/s]\n"
     ]
    },
    {
     "name": "stdout",
     "output_type": "stream",
     "text": [
      "tensor(1)\n"
     ]
    },
    {
     "name": "stderr",
     "output_type": "stream",
     "text": [
      "347it [00:22, 15.47it/s]\n"
     ]
    },
    {
     "name": "stdout",
     "output_type": "stream",
     "text": [
      "tensor(1)\n"
     ]
    },
    {
     "name": "stderr",
     "output_type": "stream",
     "text": [
      "347it [00:21, 16.02it/s]"
     ]
    },
    {
     "name": "stdout",
     "output_type": "stream",
     "text": [
      "[0.175232209817253, 0.4630427185848298, 0.170388258306152, 0.10917338993182181, 0.12266235429505674, 0.22345834297703016, 0.12188075855748703, 0.11155844406321272, 0.12773705047000353, 0.12533079190072502, 0.13358671296433516, 0.3935696503296209, 0.1600833570677566, 0.2524557155848813, 0.2446404269971491, 0.32720591324721354, 0.14727172043930725, 0.1804494578660177, 0.16489989133869928, 0.14942211344689757, 0.12534383641582791, 0.21077857022635704, 0.1809078685274981, 0.12980015278059942, 0.11318587095652129, 0.12595113761969443, 0.10525240928306291, 0.1376744835699961, 0.5055735935551493, 0.11792662925456687, 0.14499225003398764, 0.1414911873307145]\n",
      "(0.18571647711685704, 0.09975466088155133)\n"
     ]
    },
    {
     "name": "stderr",
     "output_type": "stream",
     "text": [
      "\n"
     ]
    }
   ]
  },
  {
   "cell_type": "code",
   "execution_count": 37,
   "outputs": [
    {
     "name": "stderr",
     "output_type": "stream",
     "text": [
      "201it [00:09, 22.10it/s]\n"
     ]
    }
   ],
   "source": [
    "for batch_idx, batch in tqdm(enumerate(val_loader)):\n",
    "    if batch_idx > 200:\n",
    "        batch_data, batch_labels, _ = batch\n",
    "        break\n",
    "\n"
   ],
   "metadata": {
    "collapsed": false,
    "pycharm": {
     "name": "#%%\n"
    }
   }
  },
  {
   "cell_type": "code",
   "execution_count": 38,
   "outputs": [
    {
     "name": "stdout",
     "output_type": "stream",
     "text": [
      "tensor(0)\n"
     ]
    },
    {
     "name": "stderr",
     "output_type": "stream",
     "text": [
      "347it [00:21, 16.37it/s]\n"
     ]
    },
    {
     "name": "stdout",
     "output_type": "stream",
     "text": [
      "tensor(0)\n"
     ]
    },
    {
     "name": "stderr",
     "output_type": "stream",
     "text": [
      "347it [00:20, 16.68it/s]\n"
     ]
    },
    {
     "name": "stdout",
     "output_type": "stream",
     "text": [
      "tensor(0)\n"
     ]
    },
    {
     "name": "stderr",
     "output_type": "stream",
     "text": [
      "347it [00:20, 17.08it/s]\n"
     ]
    },
    {
     "name": "stdout",
     "output_type": "stream",
     "text": [
      "tensor(0)\n"
     ]
    },
    {
     "name": "stderr",
     "output_type": "stream",
     "text": [
      "347it [00:21, 16.35it/s]\n"
     ]
    },
    {
     "name": "stdout",
     "output_type": "stream",
     "text": [
      "tensor(0)\n"
     ]
    },
    {
     "name": "stderr",
     "output_type": "stream",
     "text": [
      "347it [00:21, 15.88it/s]\n"
     ]
    },
    {
     "name": "stdout",
     "output_type": "stream",
     "text": [
      "tensor(0)\n"
     ]
    },
    {
     "name": "stderr",
     "output_type": "stream",
     "text": [
      "347it [00:20, 16.58it/s]\n"
     ]
    },
    {
     "name": "stdout",
     "output_type": "stream",
     "text": [
      "tensor(0)\n"
     ]
    },
    {
     "name": "stderr",
     "output_type": "stream",
     "text": [
      "347it [00:22, 15.52it/s]\n"
     ]
    },
    {
     "name": "stdout",
     "output_type": "stream",
     "text": [
      "tensor(0)\n"
     ]
    },
    {
     "name": "stderr",
     "output_type": "stream",
     "text": [
      "347it [00:22, 15.75it/s]\n"
     ]
    },
    {
     "name": "stdout",
     "output_type": "stream",
     "text": [
      "tensor(0)\n"
     ]
    },
    {
     "name": "stderr",
     "output_type": "stream",
     "text": [
      "347it [00:21, 16.24it/s]\n"
     ]
    },
    {
     "name": "stdout",
     "output_type": "stream",
     "text": [
      "tensor(0)\n"
     ]
    },
    {
     "name": "stderr",
     "output_type": "stream",
     "text": [
      "347it [00:20, 16.94it/s]\n"
     ]
    },
    {
     "name": "stdout",
     "output_type": "stream",
     "text": [
      "tensor(0)\n"
     ]
    },
    {
     "name": "stderr",
     "output_type": "stream",
     "text": [
      "347it [00:20, 16.71it/s]\n"
     ]
    },
    {
     "name": "stdout",
     "output_type": "stream",
     "text": [
      "tensor(0)\n"
     ]
    },
    {
     "name": "stderr",
     "output_type": "stream",
     "text": [
      "347it [00:20, 16.54it/s]\n"
     ]
    },
    {
     "name": "stdout",
     "output_type": "stream",
     "text": [
      "tensor(0)\n"
     ]
    },
    {
     "name": "stderr",
     "output_type": "stream",
     "text": [
      "347it [00:21, 16.23it/s]\n"
     ]
    },
    {
     "name": "stdout",
     "output_type": "stream",
     "text": [
      "tensor(0)\n"
     ]
    },
    {
     "name": "stderr",
     "output_type": "stream",
     "text": [
      "347it [00:21, 15.82it/s]\n"
     ]
    },
    {
     "name": "stdout",
     "output_type": "stream",
     "text": [
      "tensor(0)\n"
     ]
    },
    {
     "name": "stderr",
     "output_type": "stream",
     "text": [
      "347it [00:20, 16.62it/s]\n"
     ]
    },
    {
     "name": "stdout",
     "output_type": "stream",
     "text": [
      "tensor(0)\n"
     ]
    },
    {
     "name": "stderr",
     "output_type": "stream",
     "text": [
      "347it [00:21, 15.98it/s]\n"
     ]
    },
    {
     "name": "stdout",
     "output_type": "stream",
     "text": [
      "tensor(0)\n"
     ]
    },
    {
     "name": "stderr",
     "output_type": "stream",
     "text": [
      "347it [00:20, 17.11it/s]\n"
     ]
    },
    {
     "name": "stdout",
     "output_type": "stream",
     "text": [
      "tensor(0)\n"
     ]
    },
    {
     "name": "stderr",
     "output_type": "stream",
     "text": [
      "347it [00:20, 17.04it/s]\n"
     ]
    },
    {
     "name": "stdout",
     "output_type": "stream",
     "text": [
      "tensor(0)\n"
     ]
    },
    {
     "name": "stderr",
     "output_type": "stream",
     "text": [
      "347it [00:21, 16.30it/s]\n"
     ]
    },
    {
     "name": "stdout",
     "output_type": "stream",
     "text": [
      "tensor(0)\n"
     ]
    },
    {
     "name": "stderr",
     "output_type": "stream",
     "text": [
      "347it [00:19, 17.70it/s]\n"
     ]
    },
    {
     "name": "stdout",
     "output_type": "stream",
     "text": [
      "tensor(0)\n"
     ]
    },
    {
     "name": "stderr",
     "output_type": "stream",
     "text": [
      "347it [00:21, 16.04it/s]\n"
     ]
    },
    {
     "name": "stdout",
     "output_type": "stream",
     "text": [
      "tensor(0)\n"
     ]
    },
    {
     "name": "stderr",
     "output_type": "stream",
     "text": [
      "347it [00:21, 16.19it/s]\n"
     ]
    },
    {
     "name": "stdout",
     "output_type": "stream",
     "text": [
      "tensor(0)\n"
     ]
    },
    {
     "name": "stderr",
     "output_type": "stream",
     "text": [
      "347it [00:20, 17.05it/s]\n"
     ]
    },
    {
     "name": "stdout",
     "output_type": "stream",
     "text": [
      "tensor(0)\n"
     ]
    },
    {
     "name": "stderr",
     "output_type": "stream",
     "text": [
      "347it [00:20, 16.85it/s]\n"
     ]
    },
    {
     "name": "stdout",
     "output_type": "stream",
     "text": [
      "tensor(0)\n"
     ]
    },
    {
     "name": "stderr",
     "output_type": "stream",
     "text": [
      "347it [00:21, 16.18it/s]\n"
     ]
    },
    {
     "name": "stdout",
     "output_type": "stream",
     "text": [
      "tensor(0)\n"
     ]
    },
    {
     "name": "stderr",
     "output_type": "stream",
     "text": [
      "347it [00:20, 16.56it/s]\n"
     ]
    },
    {
     "name": "stdout",
     "output_type": "stream",
     "text": [
      "tensor(0)\n"
     ]
    },
    {
     "name": "stderr",
     "output_type": "stream",
     "text": [
      "347it [00:20, 16.83it/s]\n"
     ]
    },
    {
     "name": "stdout",
     "output_type": "stream",
     "text": [
      "tensor(0)\n"
     ]
    },
    {
     "name": "stderr",
     "output_type": "stream",
     "text": [
      "347it [00:22, 15.55it/s]\n"
     ]
    },
    {
     "name": "stdout",
     "output_type": "stream",
     "text": [
      "tensor(0)\n"
     ]
    },
    {
     "name": "stderr",
     "output_type": "stream",
     "text": [
      "347it [00:20, 16.97it/s]\n"
     ]
    },
    {
     "name": "stdout",
     "output_type": "stream",
     "text": [
      "tensor(0)\n"
     ]
    },
    {
     "name": "stderr",
     "output_type": "stream",
     "text": [
      "347it [00:21, 16.41it/s]\n"
     ]
    },
    {
     "name": "stdout",
     "output_type": "stream",
     "text": [
      "tensor(0)\n"
     ]
    },
    {
     "name": "stderr",
     "output_type": "stream",
     "text": [
      "347it [00:22, 15.70it/s]\n"
     ]
    },
    {
     "name": "stdout",
     "output_type": "stream",
     "text": [
      "tensor(0)\n"
     ]
    },
    {
     "name": "stderr",
     "output_type": "stream",
     "text": [
      "347it [00:21, 15.86it/s]"
     ]
    },
    {
     "name": "stdout",
     "output_type": "stream",
     "text": [
      "[0.8398456293836027, 0.7464824036629562, 0.40257430049999404, 0.1786766498376539, 0.78359088537249, 0.8219335027535635, 0.8216371987043604, 0.36232815443091587, 0.27823858871997487, 0.8073127665302607, 0.8205473658002671, 0.7756444591836341, 0.7582207652783405, 0.8251768045367371, 0.7733613531406462, 0.7510258162328332, 0.7300574589508723, 0.7989621979373307, 0.18834901913755794, 0.8041467814542013, 0.7413368845991564, 0.8020367983521502, 0.8432519218317668, 0.8200783369959136, 0.4127714201589858, 0.6728487402321728, 0.6402545589860562, 0.6403657719226915, 0.263097822405491, 0.7834267529642515, 0.4978268022985809, 0.6911456807696396]\n",
      "(0.6586422997832828, 0.2072243901638426)\n"
     ]
    },
    {
     "name": "stderr",
     "output_type": "stream",
     "text": [
      "\n"
     ]
    }
   ],
   "source": [
    "dist_cos_0_ood=[]\n",
    "for idx in range(len(batch_labels)):\n",
    "    dist_cos_0_ood.append(calc_dist_all(resnet18_pretrained, id_val_loader, batch_data[idx], batch_labels[idx], \"cos\"))\n",
    "print(dist_cos_0_ood)\n",
    "print(calc_mean_std(dist_cos_0_ood))"
   ],
   "metadata": {
    "collapsed": false,
    "pycharm": {
     "name": "#%%\n"
    }
   }
  },
  {
   "cell_type": "code",
   "execution_count": 54,
   "outputs": [
    {
     "name": "stderr",
     "output_type": "stream",
     "text": [
      "347it [00:33, 10.28it/s]"
     ]
    },
    {
     "name": "stdout",
     "output_type": "stream",
     "text": [
      "(4.242545318183882, 2.0646314975394597)\n",
      "(19.471529235606923, 15.98058256400135)\n"
     ]
    },
    {
     "name": "stderr",
     "output_type": "stream",
     "text": [
      "\n"
     ]
    },
    {
     "data": {
      "text/plain": "'\\n(7.966576247082313, 4.114453328341953)\\n(49.825562248387, 43.42303952766147)\\n'"
     },
     "execution_count": 54,
     "metadata": {},
     "output_type": "execute_result"
    }
   ],
   "source": [
    "dist_iid_mink = calc_dist_iid_all(resnet18_pretrained, id_val_loader, \"mink\")\n",
    "print(calc_mean_std(dist_iid_mink[0]))\n",
    "print(calc_mean_std(dist_iid_mink[1]))\n",
    "\n",
    "\"\"\"\n",
    "(7.966576247082313, 4.114453328341953)\n",
    "(49.825562248387, 43.42303952766147)\n",
    "\"\"\"\n"
   ],
   "metadata": {
    "collapsed": false,
    "pycharm": {
     "name": "#%%\n"
    }
   }
  },
  {
   "cell_type": "code",
   "execution_count": 55,
   "outputs": [
    {
     "name": "stdout",
     "output_type": "stream",
     "text": [
      "tensor(1)\n"
     ]
    },
    {
     "name": "stderr",
     "output_type": "stream",
     "text": [
      "347it [00:20, 16.75it/s]\n"
     ]
    },
    {
     "name": "stdout",
     "output_type": "stream",
     "text": [
      "tensor(1)\n"
     ]
    },
    {
     "name": "stderr",
     "output_type": "stream",
     "text": [
      "347it [00:19, 17.55it/s]\n"
     ]
    },
    {
     "name": "stdout",
     "output_type": "stream",
     "text": [
      "tensor(1)\n"
     ]
    },
    {
     "name": "stderr",
     "output_type": "stream",
     "text": [
      "347it [00:21, 16.31it/s]\n"
     ]
    },
    {
     "name": "stdout",
     "output_type": "stream",
     "text": [
      "tensor(1)\n"
     ]
    },
    {
     "name": "stderr",
     "output_type": "stream",
     "text": [
      "347it [00:21, 16.27it/s]\n"
     ]
    },
    {
     "name": "stdout",
     "output_type": "stream",
     "text": [
      "tensor(1)\n"
     ]
    },
    {
     "name": "stderr",
     "output_type": "stream",
     "text": [
      "347it [00:21, 16.09it/s]\n"
     ]
    },
    {
     "name": "stdout",
     "output_type": "stream",
     "text": [
      "tensor(1)\n"
     ]
    },
    {
     "name": "stderr",
     "output_type": "stream",
     "text": [
      "347it [00:20, 16.94it/s]\n"
     ]
    },
    {
     "name": "stdout",
     "output_type": "stream",
     "text": [
      "tensor(1)\n"
     ]
    },
    {
     "name": "stderr",
     "output_type": "stream",
     "text": [
      "347it [00:20, 17.24it/s]\n"
     ]
    },
    {
     "name": "stdout",
     "output_type": "stream",
     "text": [
      "tensor(1)\n"
     ]
    },
    {
     "name": "stderr",
     "output_type": "stream",
     "text": [
      "347it [00:20, 17.25it/s]\n"
     ]
    },
    {
     "name": "stdout",
     "output_type": "stream",
     "text": [
      "tensor(1)\n"
     ]
    },
    {
     "name": "stderr",
     "output_type": "stream",
     "text": [
      "347it [00:22, 15.46it/s]\n"
     ]
    },
    {
     "name": "stdout",
     "output_type": "stream",
     "text": [
      "tensor(1)\n"
     ]
    },
    {
     "name": "stderr",
     "output_type": "stream",
     "text": [
      "347it [00:26, 13.27it/s]\n"
     ]
    },
    {
     "name": "stdout",
     "output_type": "stream",
     "text": [
      "tensor(1)\n"
     ]
    },
    {
     "name": "stderr",
     "output_type": "stream",
     "text": [
      "347it [00:19, 17.54it/s]\n"
     ]
    },
    {
     "name": "stdout",
     "output_type": "stream",
     "text": [
      "tensor(1)\n"
     ]
    },
    {
     "name": "stderr",
     "output_type": "stream",
     "text": [
      "347it [00:25, 13.80it/s]\n"
     ]
    },
    {
     "name": "stdout",
     "output_type": "stream",
     "text": [
      "tensor(1)\n"
     ]
    },
    {
     "name": "stderr",
     "output_type": "stream",
     "text": [
      "347it [00:34, 10.07it/s]\n"
     ]
    },
    {
     "name": "stdout",
     "output_type": "stream",
     "text": [
      "tensor(1)\n"
     ]
    },
    {
     "name": "stderr",
     "output_type": "stream",
     "text": [
      "347it [01:13,  4.70it/s]\n"
     ]
    },
    {
     "name": "stdout",
     "output_type": "stream",
     "text": [
      "tensor(1)\n"
     ]
    },
    {
     "name": "stderr",
     "output_type": "stream",
     "text": [
      "347it [00:21, 16.27it/s]\n"
     ]
    },
    {
     "name": "stdout",
     "output_type": "stream",
     "text": [
      "tensor(1)\n"
     ]
    },
    {
     "name": "stderr",
     "output_type": "stream",
     "text": [
      "347it [00:19, 17.54it/s]\n"
     ]
    },
    {
     "name": "stdout",
     "output_type": "stream",
     "text": [
      "tensor(1)\n"
     ]
    },
    {
     "name": "stderr",
     "output_type": "stream",
     "text": [
      "347it [00:19, 17.57it/s]\n"
     ]
    },
    {
     "name": "stdout",
     "output_type": "stream",
     "text": [
      "tensor(1)\n"
     ]
    },
    {
     "name": "stderr",
     "output_type": "stream",
     "text": [
      "347it [00:19, 17.44it/s]\n"
     ]
    },
    {
     "name": "stdout",
     "output_type": "stream",
     "text": [
      "tensor(1)\n"
     ]
    },
    {
     "name": "stderr",
     "output_type": "stream",
     "text": [
      "347it [00:20, 16.73it/s]\n"
     ]
    },
    {
     "name": "stdout",
     "output_type": "stream",
     "text": [
      "tensor(1)\n"
     ]
    },
    {
     "name": "stderr",
     "output_type": "stream",
     "text": [
      "347it [00:19, 17.41it/s]\n"
     ]
    },
    {
     "name": "stdout",
     "output_type": "stream",
     "text": [
      "tensor(1)\n"
     ]
    },
    {
     "name": "stderr",
     "output_type": "stream",
     "text": [
      "347it [00:20, 16.74it/s]\n"
     ]
    },
    {
     "name": "stdout",
     "output_type": "stream",
     "text": [
      "tensor(1)\n"
     ]
    },
    {
     "name": "stderr",
     "output_type": "stream",
     "text": [
      "347it [00:20, 16.81it/s]\n"
     ]
    },
    {
     "name": "stdout",
     "output_type": "stream",
     "text": [
      "tensor(1)\n"
     ]
    },
    {
     "name": "stderr",
     "output_type": "stream",
     "text": [
      "347it [00:20, 16.65it/s]\n"
     ]
    },
    {
     "name": "stdout",
     "output_type": "stream",
     "text": [
      "tensor(1)\n"
     ]
    },
    {
     "name": "stderr",
     "output_type": "stream",
     "text": [
      "347it [00:20, 16.73it/s]\n"
     ]
    },
    {
     "name": "stdout",
     "output_type": "stream",
     "text": [
      "tensor(1)\n"
     ]
    },
    {
     "name": "stderr",
     "output_type": "stream",
     "text": [
      "347it [00:20, 17.06it/s]\n"
     ]
    },
    {
     "name": "stdout",
     "output_type": "stream",
     "text": [
      "tensor(1)\n"
     ]
    },
    {
     "name": "stderr",
     "output_type": "stream",
     "text": [
      "347it [00:20, 16.94it/s]\n"
     ]
    },
    {
     "name": "stdout",
     "output_type": "stream",
     "text": [
      "tensor(1)\n"
     ]
    },
    {
     "name": "stderr",
     "output_type": "stream",
     "text": [
      "347it [00:20, 16.88it/s]\n"
     ]
    },
    {
     "name": "stdout",
     "output_type": "stream",
     "text": [
      "tensor(1)\n"
     ]
    },
    {
     "name": "stderr",
     "output_type": "stream",
     "text": [
      "347it [00:20, 17.08it/s]\n"
     ]
    },
    {
     "name": "stdout",
     "output_type": "stream",
     "text": [
      "tensor(1)\n"
     ]
    },
    {
     "name": "stderr",
     "output_type": "stream",
     "text": [
      "347it [00:20, 16.63it/s]\n"
     ]
    },
    {
     "name": "stdout",
     "output_type": "stream",
     "text": [
      "tensor(1)\n"
     ]
    },
    {
     "name": "stderr",
     "output_type": "stream",
     "text": [
      "347it [00:20, 16.69it/s]\n"
     ]
    },
    {
     "name": "stdout",
     "output_type": "stream",
     "text": [
      "tensor(1)\n"
     ]
    },
    {
     "name": "stderr",
     "output_type": "stream",
     "text": [
      "347it [00:20, 16.72it/s]\n"
     ]
    },
    {
     "name": "stdout",
     "output_type": "stream",
     "text": [
      "tensor(1)\n"
     ]
    },
    {
     "name": "stderr",
     "output_type": "stream",
     "text": [
      "347it [00:20, 16.69it/s]"
     ]
    },
    {
     "name": "stdout",
     "output_type": "stream",
     "text": [
      "[18.806861381425776, 18.428017747809502, 18.84163966417182, 19.13327356422054, 18.931674773571544, 18.72822936117464, 18.924689274611385, 18.92445374192953, 18.864682724112985, 18.975605630730875, 18.870566339177405, 18.56826925163358, 18.818919786833202, 18.70165938285986, 18.697113210815584, 18.586759681133604, 18.904315509091298, 18.789364965038676, 18.834630281620697, 18.86168492073423, 18.860953370570353, 18.750304582305002, 18.795131448590297, 18.919097869308647, 19.04862352648623, 19.062619922998813, 18.942149502691308, 19.042837906859592, 18.314613651035692, 18.980897942213172, 18.91981276443404, 18.881195099049286]\n",
      "(18.834707774351223, 0.17335022120509108)\n"
     ]
    },
    {
     "name": "stderr",
     "output_type": "stream",
     "text": [
      "\n"
     ]
    }
   ],
   "source": [
    "\"\"\"Distanta minkowski\"\"\"\n",
    "dist_mink_1_ood=[]\n",
    "batch_data, batch_labels, _ = next(iter(val_loader))\n",
    "for idx in range(len(batch_labels)):\n",
    "    dist_mink_1_ood.append(calc_dist_all(resnet18_pretrained, id_val_loader, batch_data[idx], batch_labels[idx], \"mink\"))\n",
    "\n",
    "print(dist_mink_1_ood)\n",
    "print(calc_mean_std(dist_mink_1_ood))\n"
   ],
   "metadata": {
    "collapsed": false,
    "pycharm": {
     "name": "#%%\n"
    }
   }
  },
  {
   "cell_type": "code",
   "execution_count": 56,
   "outputs": [
    {
     "name": "stderr",
     "output_type": "stream",
     "text": [
      "201it [00:13, 15.29it/s]\n"
     ]
    }
   ],
   "source": [
    "for batch_idx, batch in tqdm(enumerate(val_loader)):\n",
    "    if batch_idx > 200:\n",
    "        batch_data, batch_labels, _ = batch\n",
    "        break"
   ],
   "metadata": {
    "collapsed": false,
    "pycharm": {
     "name": "#%%\n"
    }
   }
  },
  {
   "cell_type": "code",
   "execution_count": 57,
   "outputs": [
    {
     "name": "stdout",
     "output_type": "stream",
     "text": [
      "tensor(0)\n"
     ]
    },
    {
     "name": "stderr",
     "output_type": "stream",
     "text": [
      "347it [00:19, 17.46it/s]\n"
     ]
    },
    {
     "name": "stdout",
     "output_type": "stream",
     "text": [
      "tensor(0)\n"
     ]
    },
    {
     "name": "stderr",
     "output_type": "stream",
     "text": [
      "347it [00:20, 16.99it/s]\n"
     ]
    },
    {
     "name": "stdout",
     "output_type": "stream",
     "text": [
      "tensor(0)\n"
     ]
    },
    {
     "name": "stderr",
     "output_type": "stream",
     "text": [
      "347it [00:20, 16.71it/s]\n"
     ]
    },
    {
     "name": "stdout",
     "output_type": "stream",
     "text": [
      "tensor(0)\n"
     ]
    },
    {
     "name": "stderr",
     "output_type": "stream",
     "text": [
      "347it [00:22, 15.65it/s]\n"
     ]
    },
    {
     "name": "stdout",
     "output_type": "stream",
     "text": [
      "tensor(0)\n"
     ]
    },
    {
     "name": "stderr",
     "output_type": "stream",
     "text": [
      "347it [00:19, 17.60it/s]\n"
     ]
    },
    {
     "name": "stdout",
     "output_type": "stream",
     "text": [
      "tensor(0)\n"
     ]
    },
    {
     "name": "stderr",
     "output_type": "stream",
     "text": [
      "347it [00:19, 17.72it/s]\n"
     ]
    },
    {
     "name": "stdout",
     "output_type": "stream",
     "text": [
      "tensor(0)\n"
     ]
    },
    {
     "name": "stderr",
     "output_type": "stream",
     "text": [
      "347it [00:19, 17.79it/s]\n"
     ]
    },
    {
     "name": "stdout",
     "output_type": "stream",
     "text": [
      "tensor(0)\n"
     ]
    },
    {
     "name": "stderr",
     "output_type": "stream",
     "text": [
      "347it [00:19, 17.42it/s]\n"
     ]
    },
    {
     "name": "stdout",
     "output_type": "stream",
     "text": [
      "tensor(0)\n"
     ]
    },
    {
     "name": "stderr",
     "output_type": "stream",
     "text": [
      "347it [00:20, 17.28it/s]\n"
     ]
    },
    {
     "name": "stdout",
     "output_type": "stream",
     "text": [
      "tensor(0)\n"
     ]
    },
    {
     "name": "stderr",
     "output_type": "stream",
     "text": [
      "347it [00:20, 17.31it/s]\n"
     ]
    },
    {
     "name": "stdout",
     "output_type": "stream",
     "text": [
      "tensor(0)\n"
     ]
    },
    {
     "name": "stderr",
     "output_type": "stream",
     "text": [
      "347it [00:20, 17.32it/s]\n"
     ]
    },
    {
     "name": "stdout",
     "output_type": "stream",
     "text": [
      "tensor(0)\n"
     ]
    },
    {
     "name": "stderr",
     "output_type": "stream",
     "text": [
      "347it [00:20, 17.25it/s]\n"
     ]
    },
    {
     "name": "stdout",
     "output_type": "stream",
     "text": [
      "tensor(0)\n"
     ]
    },
    {
     "name": "stderr",
     "output_type": "stream",
     "text": [
      "347it [00:20, 17.18it/s]\n"
     ]
    },
    {
     "name": "stdout",
     "output_type": "stream",
     "text": [
      "tensor(0)\n"
     ]
    },
    {
     "name": "stderr",
     "output_type": "stream",
     "text": [
      "347it [00:19, 17.55it/s]\n"
     ]
    },
    {
     "name": "stdout",
     "output_type": "stream",
     "text": [
      "tensor(0)\n"
     ]
    },
    {
     "name": "stderr",
     "output_type": "stream",
     "text": [
      "347it [00:20, 16.87it/s]\n"
     ]
    },
    {
     "name": "stdout",
     "output_type": "stream",
     "text": [
      "tensor(0)\n"
     ]
    },
    {
     "name": "stderr",
     "output_type": "stream",
     "text": [
      "347it [00:20, 17.04it/s]\n"
     ]
    },
    {
     "name": "stdout",
     "output_type": "stream",
     "text": [
      "tensor(0)\n"
     ]
    },
    {
     "name": "stderr",
     "output_type": "stream",
     "text": [
      "347it [00:20, 16.83it/s]\n"
     ]
    },
    {
     "name": "stdout",
     "output_type": "stream",
     "text": [
      "tensor(0)\n"
     ]
    },
    {
     "name": "stderr",
     "output_type": "stream",
     "text": [
      "347it [00:20, 16.66it/s]\n"
     ]
    },
    {
     "name": "stdout",
     "output_type": "stream",
     "text": [
      "tensor(0)\n"
     ]
    },
    {
     "name": "stderr",
     "output_type": "stream",
     "text": [
      "347it [00:20, 16.89it/s]\n"
     ]
    },
    {
     "name": "stdout",
     "output_type": "stream",
     "text": [
      "tensor(0)\n"
     ]
    },
    {
     "name": "stderr",
     "output_type": "stream",
     "text": [
      "347it [00:20, 16.61it/s]\n"
     ]
    },
    {
     "name": "stdout",
     "output_type": "stream",
     "text": [
      "tensor(0)\n"
     ]
    },
    {
     "name": "stderr",
     "output_type": "stream",
     "text": [
      "347it [00:21, 15.81it/s]\n"
     ]
    },
    {
     "name": "stdout",
     "output_type": "stream",
     "text": [
      "tensor(0)\n"
     ]
    },
    {
     "name": "stderr",
     "output_type": "stream",
     "text": [
      "347it [00:21, 16.44it/s]\n"
     ]
    },
    {
     "name": "stdout",
     "output_type": "stream",
     "text": [
      "tensor(0)\n"
     ]
    },
    {
     "name": "stderr",
     "output_type": "stream",
     "text": [
      "347it [00:20, 17.03it/s]\n"
     ]
    },
    {
     "name": "stdout",
     "output_type": "stream",
     "text": [
      "tensor(0)\n"
     ]
    },
    {
     "name": "stderr",
     "output_type": "stream",
     "text": [
      "347it [00:20, 16.70it/s]\n"
     ]
    },
    {
     "name": "stdout",
     "output_type": "stream",
     "text": [
      "tensor(0)\n"
     ]
    },
    {
     "name": "stderr",
     "output_type": "stream",
     "text": [
      "347it [00:20, 16.56it/s]\n"
     ]
    },
    {
     "name": "stdout",
     "output_type": "stream",
     "text": [
      "tensor(0)\n"
     ]
    },
    {
     "name": "stderr",
     "output_type": "stream",
     "text": [
      "347it [00:21, 16.40it/s]\n"
     ]
    },
    {
     "name": "stdout",
     "output_type": "stream",
     "text": [
      "tensor(0)\n"
     ]
    },
    {
     "name": "stderr",
     "output_type": "stream",
     "text": [
      "347it [00:21, 16.49it/s]\n"
     ]
    },
    {
     "name": "stdout",
     "output_type": "stream",
     "text": [
      "tensor(0)\n"
     ]
    },
    {
     "name": "stderr",
     "output_type": "stream",
     "text": [
      "347it [00:20, 16.56it/s]\n"
     ]
    },
    {
     "name": "stdout",
     "output_type": "stream",
     "text": [
      "tensor(0)\n"
     ]
    },
    {
     "name": "stderr",
     "output_type": "stream",
     "text": [
      "347it [00:22, 15.26it/s]\n"
     ]
    },
    {
     "name": "stdout",
     "output_type": "stream",
     "text": [
      "tensor(0)\n"
     ]
    },
    {
     "name": "stderr",
     "output_type": "stream",
     "text": [
      "347it [00:21, 16.38it/s]\n"
     ]
    },
    {
     "name": "stdout",
     "output_type": "stream",
     "text": [
      "tensor(0)\n"
     ]
    },
    {
     "name": "stderr",
     "output_type": "stream",
     "text": [
      "347it [00:20, 16.65it/s]\n"
     ]
    },
    {
     "name": "stdout",
     "output_type": "stream",
     "text": [
      "tensor(0)\n"
     ]
    },
    {
     "name": "stderr",
     "output_type": "stream",
     "text": [
      "347it [00:20, 16.63it/s]"
     ]
    },
    {
     "name": "stdout",
     "output_type": "stream",
     "text": [
      "[3.4879563477093813, 3.9105290172994667, 4.952353565023015, 5.347901423321754, 3.8520147737457426, 3.6143249717515435, 4.319662275845475, 5.033975590386165, 5.222534278085171, 3.6938475488190647, 3.5639323552180002, 3.878303143508687, 4.128077111906854, 5.6040494969086065, 4.36397144165434, 4.172438359907464, 4.013442903001663, 3.7287927980573636, 5.346719126984802, 3.7637027302136468, 4.20871607063924, 3.765812632485144, 3.662454636745562, 4.0730222112065935, 4.972207514846465, 4.608387525147176, 4.348424479455788, 4.445709322093427, 5.1629670382354655, 6.187736644867445, 4.772453488845223, 4.4486147095607205]\n",
      "(4.395469860421139, 0.6756717172554383)\n"
     ]
    },
    {
     "name": "stderr",
     "output_type": "stream",
     "text": [
      "\n"
     ]
    }
   ],
   "source": [
    "dist_mink_0_ood=[]\n",
    "for idx in range(len(batch_labels)):\n",
    "    dist_mink_0_ood.append(calc_dist_all(resnet18_pretrained, id_val_loader, batch_data[idx], batch_labels[idx], \"mink\"))\n",
    "print(dist_mink_0_ood)\n",
    "print(calc_mean_std(dist_mink_0_ood))"
   ],
   "metadata": {
    "collapsed": false,
    "pycharm": {
     "name": "#%%\n"
    }
   }
  },
  {
   "cell_type": "code",
   "execution_count": 86,
   "outputs": [],
   "source": [
    "def get_class_mean_embeddings(model, train_loader, nr_layers=-1):\n",
    "    if nr_layers == -1:\n",
    "        mean_embeds = np.zeros(shape=(2, 512)) # 2 classes, 512 embedding dim\n",
    "    elif nr_layers == -2:\n",
    "        mean_embeds = np.zeros(shape=(2, 512)) # 2 classes, 512 embedding dim no averagepool\n",
    "    elif nr_layers == -3:\n",
    "        mean_embeds = np.zeros(shape=(2, 256)) # 2 classes, 256 embedding dim\n",
    "    count_per_class = np.zeros(shape=(2, 1))\n",
    "    modules = list(model.children())[:nr_layers]\n",
    "    print(list(model.children())[len(list(model.children()))-2])\n",
    "    model = nn.Sequential(*modules, list(model.children())[len(list(model.children()))-2])\n",
    "    print(model)\n",
    "    model.eval()\n",
    "    with torch.no_grad():\n",
    "        for data in tqdm(train_loader):\n",
    "            inputs, labels, _ = data\n",
    "            inputs = inputs.to(device)\n",
    "            labels = labels.numpy()\n",
    "\n",
    "            # Extract features\n",
    "            features = torch.flatten(model(inputs), start_dim=1)\n",
    "            features = features.cpu().numpy()\n",
    "\n",
    "            for idx in range(len(labels)):\n",
    "                mean_embeds[labels[idx]] += features[idx]\n",
    "                count_per_class[labels[idx]] += 1\n",
    "\n",
    "    mean_embeds /= count_per_class\n",
    "\n",
    "    return mean_embeds\n"
   ],
   "metadata": {
    "collapsed": false,
    "pycharm": {
     "name": "#%%\n"
    }
   }
  },
  {
   "cell_type": "code",
   "execution_count": 29,
   "outputs": [
    {
     "name": "stderr",
     "output_type": "stream",
     "text": [
      "100%|██████████| 3119/3119 [26:45<00:00,  1.94it/s]"
     ]
    },
    {
     "name": "stdout",
     "output_type": "stream",
     "text": [
      "[[0.04605115 0.31298806 0.06170732 ... 0.54788485 0.00395388 0.08429653]\n",
      " [1.59088348 1.74999964 1.82361916 ... 0.72474282 2.19162934 1.59282019]]\n"
     ]
    },
    {
     "name": "stderr",
     "output_type": "stream",
     "text": [
      "\n"
     ]
    }
   ],
   "source": [
    "\n",
    "mean_embeds = get_class_mean_embeddings(resnet18_pretrained, train_loader)\n",
    "print(mean_embeds)"
   ],
   "metadata": {
    "collapsed": false,
    "pycharm": {
     "name": "#%%\n"
    }
   }
  },
  {
   "cell_type": "code",
   "execution_count": 92,
   "outputs": [],
   "source": [
    "def calc_dist_mean(model, dataloader, mean_embeds,  metric=\"l2\", nr_layers=-1):\n",
    "    modules = list(model.children())[:nr_layers]\n",
    "    print(list(model.children())[len(list(model.children()))-2])\n",
    "    model = nn.Sequential(*modules, list(model.children())[len(list(model.children()))-2])\n",
    "    # print(model)\n",
    "    average_dist = [[], []]\n",
    "    model.eval()\n",
    "    mean_embeds = torch.as_tensor(mean_embeds, dtype=torch.float, device=device)\n",
    "\n",
    "    with torch.no_grad():\n",
    "        for batch_idx, batch in tqdm(enumerate(dataloader)):\n",
    "            batch_img, batch_labels, _ = batch\n",
    "\n",
    "            batch_img = batch_img.to(device)\n",
    "            batch_labels = batch_labels.to(device)\n",
    "\n",
    "            output = model(batch_img)\n",
    "            output = output.reshape(batch_img.shape[0], -1)\n",
    "             #if batch_idx == 0:\n",
    "                # print(output.shape)\n",
    "\n",
    "            for idx_img_1 in range(batch_img.shape[0]):\n",
    "                        if metric == \"l2\":\n",
    "                            dist = torch.nn.functional.pairwise_distance(output[idx_img_1], mean_embeds[batch_labels[idx_img_1]])\n",
    "                        elif metric == \"cos\":\n",
    "                            cos = nn.CosineSimilarity(dim=1, eps=1e-6)\n",
    "                            dist = cos(output[idx_img_1].reshape(1, -1), mean_embeds[batch_labels[idx_img_1]].reshape(1, -1))\n",
    "                        elif metric == \"mink\":\n",
    "                            dist = torch.cdist(output[idx_img_1].reshape(1, -1), mean_embeds[batch_labels[idx_img_1]].reshape(1, -1), p=3)\n",
    "                        # dist = (output[idx_img_1] - output[idx_img_2]).pow(2).sum(0).sqrt()\n",
    "                        average_dist[batch_labels[idx_img_1]].append(dist.item())\n",
    "\n",
    "    return average_dist"
   ],
   "metadata": {
    "collapsed": false,
    "pycharm": {
     "name": "#%%\n"
    }
   }
  },
  {
   "cell_type": "code",
   "execution_count": 30,
   "outputs": [
    {
     "name": "stderr",
     "output_type": "stream",
     "text": [
      "360it [03:44,  1.61it/s]"
     ]
    },
    {
     "name": "stdout",
     "output_type": "stream",
     "text": [
      "(6.241036585918539, 2.3262729660942894)\n",
      "(44.97533254815873, 35.394171235695964)\n"
     ]
    },
    {
     "name": "stderr",
     "output_type": "stream",
     "text": [
      "\n"
     ]
    }
   ],
   "source": [
    "dist_iid = calc_dist_mean(resnet18_pretrained, id_val_loader, mean_embeds)\n",
    "print(calc_mean_std(dist_iid[0]))\n",
    "print(calc_mean_std(dist_iid[1]))"
   ],
   "metadata": {
    "collapsed": false,
    "pycharm": {
     "name": "#%%\n"
    }
   }
  },
  {
   "cell_type": "code",
   "execution_count": 31,
   "outputs": [
    {
     "name": "stderr",
     "output_type": "stream",
     "text": [
      "347it [04:11,  1.38it/s]"
     ]
    },
    {
     "name": "stdout",
     "output_type": "stream",
     "text": [
      "(6.09145959285451, 2.9619329014927733)\n",
      "(42.740043913480655, 31.172719493451666)\n"
     ]
    },
    {
     "name": "stderr",
     "output_type": "stream",
     "text": [
      "\n"
     ]
    }
   ],
   "source": [
    "dist_ood = calc_dist_mean(resnet18_pretrained, val_loader, mean_embeds)\n",
    "print(calc_mean_std(dist_ood[0]))\n",
    "print(calc_mean_std(dist_ood[1]))"
   ],
   "metadata": {
    "collapsed": false,
    "pycharm": {
     "name": "#%%\n"
    }
   }
  },
  {
   "cell_type": "code",
   "execution_count": 32,
   "outputs": [
    {
     "name": "stderr",
     "output_type": "stream",
     "text": [
      "360it [00:23, 15.60it/s]"
     ]
    },
    {
     "name": "stdout",
     "output_type": "stream",
     "text": [
      "(0.7371898718187957, 0.24255272251720775)\n",
      "(0.7312124280774902, 0.19052081554650735)\n"
     ]
    },
    {
     "name": "stderr",
     "output_type": "stream",
     "text": [
      "\n"
     ]
    }
   ],
   "source": [
    "dist_iid = calc_dist_mean(resnet18_pretrained, id_val_loader, mean_embeds, \"cos\")\n",
    "print(calc_mean_std(dist_iid[0]))\n",
    "print(calc_mean_std(dist_iid[1]))"
   ],
   "metadata": {
    "collapsed": false,
    "pycharm": {
     "name": "#%%\n"
    }
   }
  },
  {
   "cell_type": "code",
   "execution_count": 33,
   "outputs": [
    {
     "name": "stderr",
     "output_type": "stream",
     "text": [
      "347it [00:21, 16.29it/s]"
     ]
    },
    {
     "name": "stdout",
     "output_type": "stream",
     "text": [
      "(0.8683770586161912, 0.13710541809566884)\n",
      "(0.782375466406486, 0.16523093317944965)\n"
     ]
    },
    {
     "name": "stderr",
     "output_type": "stream",
     "text": [
      "\n"
     ]
    }
   ],
   "source": [
    "dist_ood = calc_dist_mean(resnet18_pretrained, val_loader, mean_embeds, \"cos\")\n",
    "print(calc_mean_std(dist_ood[0]))\n",
    "print(calc_mean_std(dist_ood[1]))"
   ],
   "metadata": {
    "collapsed": false,
    "pycharm": {
     "name": "#%%\n"
    }
   }
  },
  {
   "cell_type": "code",
   "execution_count": 34,
   "outputs": [
    {
     "name": "stderr",
     "output_type": "stream",
     "text": [
      "360it [00:21, 16.85it/s]"
     ]
    },
    {
     "name": "stdout",
     "output_type": "stream",
     "text": [
      "(3.2581733387925595, 1.1615214784287726)\n",
      "(17.116536856941988, 13.627033010675087)\n"
     ]
    },
    {
     "name": "stderr",
     "output_type": "stream",
     "text": [
      "\n"
     ]
    }
   ],
   "source": [
    "dist_iid = calc_dist_mean(resnet18_pretrained, id_val_loader, mean_embeds, \"mink\")\n",
    "print(calc_mean_std(dist_iid[0]))\n",
    "print(calc_mean_std(dist_iid[1]))"
   ],
   "metadata": {
    "collapsed": false,
    "pycharm": {
     "name": "#%%\n"
    }
   }
  },
  {
   "cell_type": "code",
   "execution_count": 35,
   "outputs": [
    {
     "name": "stderr",
     "output_type": "stream",
     "text": [
      "347it [00:19, 17.47it/s]"
     ]
    },
    {
     "name": "stdout",
     "output_type": "stream",
     "text": [
      "(3.2286353352855444, 1.5112794953031792)\n",
      "(16.456411908988102, 11.836049372249718)\n"
     ]
    },
    {
     "name": "stderr",
     "output_type": "stream",
     "text": [
      "\n"
     ]
    }
   ],
   "source": [
    "dist_ood = calc_dist_mean(resnet18_pretrained, val_loader, mean_embeds, \"mink\")\n",
    "print(calc_mean_std(dist_ood[0]))\n",
    "print(calc_mean_std(dist_ood[1]))"
   ],
   "metadata": {
    "collapsed": false,
    "pycharm": {
     "name": "#%%\n"
    }
   }
  },
  {
   "cell_type": "code",
   "execution_count": 36,
   "outputs": [
    {
     "name": "stderr",
     "output_type": "stream",
     "text": [
      "100%|██████████| 360/360 [00:21<00:00, 17.03it/s]"
     ]
    },
    {
     "name": "stdout",
     "output_type": "stream",
     "text": [
      "[[0.03456208 0.05713736 0.05736421 ... 0.75617628 0.01469743 0.09006843]\n",
      " [0.93516183 1.42563253 1.64460315 ... 0.99811294 1.58906645 0.65909457]]\n"
     ]
    },
    {
     "name": "stderr",
     "output_type": "stream",
     "text": [
      "\n"
     ]
    }
   ],
   "source": [
    "mean_embeds_val = get_class_mean_embeddings(resnet18_pretrained, val_loader)\n",
    "print(mean_embeds_val)\n"
   ],
   "metadata": {
    "collapsed": false,
    "pycharm": {
     "name": "#%%\n"
    }
   }
  },
  {
   "cell_type": "code",
   "execution_count": 37,
   "outputs": [
    {
     "name": "stderr",
     "output_type": "stream",
     "text": [
      "100%|██████████| 347/347 [00:19<00:00, 18.02it/s]"
     ]
    },
    {
     "name": "stdout",
     "output_type": "stream",
     "text": [
      "[[0.04387564 0.31455867 0.06047065 ... 0.54764414 0.00450198 0.08598702]\n",
      " [1.63332741 1.80945475 1.8598073  ... 0.72630386 2.2534007  1.65054148]]\n"
     ]
    },
    {
     "name": "stderr",
     "output_type": "stream",
     "text": [
      "\n"
     ]
    }
   ],
   "source": [
    "mean_embeds_id_val = get_class_mean_embeddings(resnet18_pretrained, id_val_loader)\n",
    "print(mean_embeds_id_val)"
   ],
   "metadata": {
    "collapsed": false,
    "pycharm": {
     "name": "#%%\n"
    }
   }
  },
  {
   "cell_type": "code",
   "execution_count": 39,
   "outputs": [],
   "source": [
    "mean_embeds = torch.as_tensor(mean_embeds, dtype=torch.float, device=device)\n",
    "mean_embeds_val = torch.as_tensor(mean_embeds_val, dtype=torch.float, device=device)\n",
    "mean_embeds_id_val = torch.as_tensor(mean_embeds_id_val, dtype=torch.float, device=device)\n"
   ],
   "metadata": {
    "collapsed": false,
    "pycharm": {
     "name": "#%%\n"
    }
   }
  },
  {
   "cell_type": "code",
   "execution_count": 40,
   "outputs": [
    {
     "name": "stdout",
     "output_type": "stream",
     "text": [
      "tensor(4.3806, device='cuda:0')\n",
      "tensor(11.3567, device='cuda:0')\n",
      "tensor(0.1037, device='cuda:0')\n",
      "tensor(0.8313, device='cuda:0')\n"
     ]
    }
   ],
   "source": [
    "print(\"l2 dist between embeds mean:\")\n",
    "print(torch.nn.functional.pairwise_distance(mean_embeds_val[0], mean_embeds[0]))\n",
    "print(torch.nn.functional.pairwise_distance(mean_embeds_val[1], mean_embeds[1]))\n",
    "\n",
    "\n",
    "print(torch.nn.functional.pairwise_distance(mean_embeds_id_val[0], mean_embeds[0]))\n",
    "print(torch.nn.functional.pairwise_distance(mean_embeds_id_val[1], mean_embeds[1]))"
   ],
   "metadata": {
    "collapsed": false,
    "pycharm": {
     "name": "#%%\n"
    }
   }
  },
  {
   "cell_type": "code",
   "execution_count": 41,
   "outputs": [
    {
     "name": "stdout",
     "output_type": "stream",
     "text": [
      "tensor([0.9498], device='cuda:0')\n",
      "tensor([0.9679], device='cuda:0')\n",
      "tensor([0.9999], device='cuda:0')\n",
      "tensor([1.0000], device='cuda:0')\n"
     ]
    }
   ],
   "source": [
    "print(\"cos sim between embeds mean:\")\n",
    "cos = nn.CosineSimilarity(dim=1, eps=1e-6)\n",
    "print(cos(mean_embeds_val[0].reshape(1, -1), mean_embeds[0].reshape(1, -1)))\n",
    "print(cos(mean_embeds_val[1].reshape(1, -1), mean_embeds[1].reshape(1, -1)))\n",
    "\n",
    "print(cos(mean_embeds_id_val[0].reshape(1, -1), mean_embeds[0].reshape(1, -1)))\n",
    "print(cos(mean_embeds_id_val[1].reshape(1, -1), mean_embeds[1].reshape(1, -1)))\n"
   ],
   "metadata": {
    "collapsed": false,
    "pycharm": {
     "name": "#%%\n"
    }
   }
  },
  {
   "cell_type": "code",
   "execution_count": 42,
   "outputs": [
    {
     "name": "stdout",
     "output_type": "stream",
     "text": [
      "tensor([[2.2981]], device='cuda:0')\n",
      "tensor([[4.6342]], device='cuda:0')\n",
      "tensor([[0.0534]], device='cuda:0')\n",
      "tensor([[0.3144]], device='cuda:0')\n"
     ]
    }
   ],
   "source": [
    "print(\"minkowski dist between embeds mean:\")\n",
    "print(torch.cdist(mean_embeds_val[0].reshape(1, -1), mean_embeds[0].reshape(1, -1), p=3))\n",
    "print(torch.cdist(mean_embeds_val[1].reshape(1, -1), mean_embeds[1].reshape(1, -1), p=3))\n",
    "\n",
    "print(torch.cdist(mean_embeds_id_val[0].reshape(1, -1), mean_embeds[0].reshape(1, -1), p=3))\n",
    "print(torch.cdist(mean_embeds_id_val[1].reshape(1, -1), mean_embeds[1].reshape(1, -1), p=3))"
   ],
   "metadata": {
    "collapsed": false,
    "pycharm": {
     "name": "#%%\n"
    }
   }
  },
  {
   "cell_type": "code",
   "execution_count": 88,
   "outputs": [
    {
     "name": "stdout",
     "output_type": "stream",
     "text": [
      "AdaptiveAvgPool2d(output_size=(1, 1))\n",
      "Sequential(\n",
      "  (0): Conv2d(3, 64, kernel_size=(7, 7), stride=(2, 2), padding=(3, 3), bias=False)\n",
      "  (1): BatchNorm2d(64, eps=1e-05, momentum=0.1, affine=True, track_running_stats=True)\n",
      "  (2): ReLU(inplace=True)\n",
      "  (3): MaxPool2d(kernel_size=3, stride=2, padding=1, dilation=1, ceil_mode=False)\n",
      "  (4): Sequential(\n",
      "    (0): BasicBlock(\n",
      "      (conv1): Conv2d(64, 64, kernel_size=(3, 3), stride=(1, 1), padding=(1, 1), bias=False)\n",
      "      (bn1): BatchNorm2d(64, eps=1e-05, momentum=0.1, affine=True, track_running_stats=True)\n",
      "      (relu): ReLU(inplace=True)\n",
      "      (conv2): Conv2d(64, 64, kernel_size=(3, 3), stride=(1, 1), padding=(1, 1), bias=False)\n",
      "      (bn2): BatchNorm2d(64, eps=1e-05, momentum=0.1, affine=True, track_running_stats=True)\n",
      "    )\n",
      "    (1): BasicBlock(\n",
      "      (conv1): Conv2d(64, 64, kernel_size=(3, 3), stride=(1, 1), padding=(1, 1), bias=False)\n",
      "      (bn1): BatchNorm2d(64, eps=1e-05, momentum=0.1, affine=True, track_running_stats=True)\n",
      "      (relu): ReLU(inplace=True)\n",
      "      (conv2): Conv2d(64, 64, kernel_size=(3, 3), stride=(1, 1), padding=(1, 1), bias=False)\n",
      "      (bn2): BatchNorm2d(64, eps=1e-05, momentum=0.1, affine=True, track_running_stats=True)\n",
      "    )\n",
      "  )\n",
      "  (5): Sequential(\n",
      "    (0): BasicBlock(\n",
      "      (conv1): Conv2d(64, 128, kernel_size=(3, 3), stride=(2, 2), padding=(1, 1), bias=False)\n",
      "      (bn1): BatchNorm2d(128, eps=1e-05, momentum=0.1, affine=True, track_running_stats=True)\n",
      "      (relu): ReLU(inplace=True)\n",
      "      (conv2): Conv2d(128, 128, kernel_size=(3, 3), stride=(1, 1), padding=(1, 1), bias=False)\n",
      "      (bn2): BatchNorm2d(128, eps=1e-05, momentum=0.1, affine=True, track_running_stats=True)\n",
      "      (downsample): Sequential(\n",
      "        (0): Conv2d(64, 128, kernel_size=(1, 1), stride=(2, 2), bias=False)\n",
      "        (1): BatchNorm2d(128, eps=1e-05, momentum=0.1, affine=True, track_running_stats=True)\n",
      "      )\n",
      "    )\n",
      "    (1): BasicBlock(\n",
      "      (conv1): Conv2d(128, 128, kernel_size=(3, 3), stride=(1, 1), padding=(1, 1), bias=False)\n",
      "      (bn1): BatchNorm2d(128, eps=1e-05, momentum=0.1, affine=True, track_running_stats=True)\n",
      "      (relu): ReLU(inplace=True)\n",
      "      (conv2): Conv2d(128, 128, kernel_size=(3, 3), stride=(1, 1), padding=(1, 1), bias=False)\n",
      "      (bn2): BatchNorm2d(128, eps=1e-05, momentum=0.1, affine=True, track_running_stats=True)\n",
      "    )\n",
      "  )\n",
      "  (6): Sequential(\n",
      "    (0): BasicBlock(\n",
      "      (conv1): Conv2d(128, 256, kernel_size=(3, 3), stride=(2, 2), padding=(1, 1), bias=False)\n",
      "      (bn1): BatchNorm2d(256, eps=1e-05, momentum=0.1, affine=True, track_running_stats=True)\n",
      "      (relu): ReLU(inplace=True)\n",
      "      (conv2): Conv2d(256, 256, kernel_size=(3, 3), stride=(1, 1), padding=(1, 1), bias=False)\n",
      "      (bn2): BatchNorm2d(256, eps=1e-05, momentum=0.1, affine=True, track_running_stats=True)\n",
      "      (downsample): Sequential(\n",
      "        (0): Conv2d(128, 256, kernel_size=(1, 1), stride=(2, 2), bias=False)\n",
      "        (1): BatchNorm2d(256, eps=1e-05, momentum=0.1, affine=True, track_running_stats=True)\n",
      "      )\n",
      "    )\n",
      "    (1): BasicBlock(\n",
      "      (conv1): Conv2d(256, 256, kernel_size=(3, 3), stride=(1, 1), padding=(1, 1), bias=False)\n",
      "      (bn1): BatchNorm2d(256, eps=1e-05, momentum=0.1, affine=True, track_running_stats=True)\n",
      "      (relu): ReLU(inplace=True)\n",
      "      (conv2): Conv2d(256, 256, kernel_size=(3, 3), stride=(1, 1), padding=(1, 1), bias=False)\n",
      "      (bn2): BatchNorm2d(256, eps=1e-05, momentum=0.1, affine=True, track_running_stats=True)\n",
      "    )\n",
      "  )\n",
      "  (7): AdaptiveAvgPool2d(output_size=(1, 1))\n",
      ")\n"
     ]
    },
    {
     "name": "stderr",
     "output_type": "stream",
     "text": [
      "100%|██████████| 3119/3119 [37:35<00:00,  1.38it/s]"
     ]
    },
    {
     "name": "stdout",
     "output_type": "stream",
     "text": [
      "[[9.62999058e-02 4.25739106e-02 2.86310611e-01 5.10014238e-02\n",
      "  1.16603529e-01 1.06310124e-01 1.11294071e-01 1.08416164e-01\n",
      "  6.86649944e-02 1.57307637e-02 4.01023564e-02 5.04114060e-02\n",
      "  1.23886728e-01 1.12970853e-01 2.97541144e-02 3.18589409e-01\n",
      "  1.34469019e-02 8.99669534e-02 1.23463651e-01 7.68679635e-02\n",
      "  1.70015454e-01 2.14265131e-01 2.56818615e-01 1.31065622e-02\n",
      "  2.53554544e-02 5.90108821e-02 1.43084266e-01 1.66752350e-01\n",
      "  2.42696018e-01 9.17266546e-02 5.38571934e-02 7.14162661e-02\n",
      "  4.70630969e-02 2.12123266e-01 1.22627422e-02 1.94444225e-02\n",
      "  8.29160436e-02 3.37345507e-01 1.54171499e-01 4.54884037e-02\n",
      "  3.33842238e-02 7.14162418e-02 2.98005412e-01 7.50812515e-03\n",
      "  1.17932850e-01 3.55113080e-01 2.46073830e-01 5.20211946e-02\n",
      "  4.08874140e-02 6.88235713e-02 9.48367416e-02 8.35003911e-02\n",
      "  6.66227730e-01 4.09072305e-01 2.05891193e-01 8.61146661e-02\n",
      "  1.42799703e-01 1.00277452e-01 1.42341525e-01 1.66415261e-01\n",
      "  1.25623591e-01 1.05515646e-01 1.38512378e-03 5.95332861e-02\n",
      "  1.21900327e-01 1.31606006e-02 5.76258095e-02 1.41233614e-01\n",
      "  3.28132507e-01 2.27405315e-02 9.37085488e-03 5.97092514e-02\n",
      "  2.25461205e-01 9.69358161e-03 1.93456734e-02 5.23341010e-01\n",
      "  2.74820431e-02 6.38482167e-03 7.79820266e-02 6.32452369e-02\n",
      "  5.37933700e-02 9.84291259e-02 1.18821204e-01 4.73473740e-02\n",
      "  4.73166591e-02 1.86851545e-01 1.25277971e-05 8.16232858e-02\n",
      "  5.48092749e-02 5.75365725e-01 2.58221745e-01 4.34677692e-02\n",
      "  2.03859436e-02 3.48918084e-01 9.67179362e-02 1.79024108e-01\n",
      "  3.46566162e-02 3.21680180e-01 1.59609818e-01 1.22746812e-01\n",
      "  3.15490855e-02 5.80382914e-02 9.21221481e-02 9.28550348e-02\n",
      "  8.40869382e-02 1.19157383e-01 5.75876003e-02 7.81767366e-02\n",
      "  7.14472558e-02 1.93350855e-01 8.16980033e-02 1.94008378e-01\n",
      "  1.57892087e-01 8.43697631e-02 2.84834123e-02 2.03818709e-01\n",
      "  4.07011209e-02 2.38702163e-01 8.49113590e-02 1.01000834e-01\n",
      "  2.37846057e-02 7.57446139e-02 2.50788132e-02 5.17391425e-02\n",
      "  1.72868842e-02 1.38114363e-01 8.09381290e-02 1.11154552e-02\n",
      "  2.20046957e-02 5.35726449e-02 2.97878306e-02 1.20237184e-01\n",
      "  1.36007926e-01 2.77179899e-02 2.57953267e-02 8.47613309e-02\n",
      "  3.03073143e-01 3.06685593e-03 7.28296215e-02 8.59228759e-02\n",
      "  5.19769254e-02 6.20724211e-03 6.70900616e-02 3.17255032e-02\n",
      "  1.25784612e-01 4.29383567e-02 1.32701598e-01 1.45833454e-01\n",
      "  1.36344749e-01 1.06086538e-03 1.03242894e-01 2.90458018e-01\n",
      "  1.65867414e-01 7.08214513e-02 1.45426203e-01 1.63899730e-02\n",
      "  8.17210246e-03 1.76284515e-01 2.66081837e-01 3.04632886e-01\n",
      "  6.35382528e-02 4.36900229e-02 3.14978334e-01 2.08158440e-01\n",
      "  4.54218538e-02 5.85701215e-03 4.87876016e-02 1.82658133e-02\n",
      "  7.81340135e-03 3.45467152e-01 4.50566120e-02 1.55745229e-01\n",
      "  9.71503999e-02 6.16749625e-02 1.40316446e-02 6.81553117e-02\n",
      "  7.96803276e-02 8.38691480e-02 3.13691622e-02 1.20366241e-01\n",
      "  9.30868272e-02 1.04600608e-01 7.33516404e-02 7.96486881e-02\n",
      "  1.49170034e-02 1.91741791e-01 3.97709346e-02 3.46758359e-02\n",
      "  1.22891197e-01 3.03615263e-02 2.41336800e-02 1.28236538e-01\n",
      "  1.65292722e-01 1.50095608e-01 5.17200763e-03 9.20539663e-02\n",
      "  3.33159082e-01 1.11473067e-01 4.72589995e-02 9.96540004e-02\n",
      "  8.05647539e-02 2.70533084e-02 1.74940222e-01 9.63871296e-04\n",
      "  1.55441398e-02 1.52334838e-02 1.58614643e-01 1.29073210e-01\n",
      "  2.28687999e-01 5.37034893e-02 6.20159763e-02 4.25020430e-02\n",
      "  1.92466712e-01 1.61677926e-02 5.61695128e-03 1.21084944e-01\n",
      "  9.29005387e-02 2.03251230e-02 9.48328040e-02 3.57728365e-02\n",
      "  2.23637725e-01 1.37268087e-01 4.42575099e-02 9.74636174e-03\n",
      "  6.19671744e-02 3.44283343e-02 2.47992269e-02 7.81346147e-02\n",
      "  3.34645719e-02 3.16538284e-02 1.29655727e-01 3.22633518e-01\n",
      "  8.10431413e-02 9.54791161e-02 4.80339159e-02 5.06616016e-02\n",
      "  2.63821974e-02 6.70405056e-02 2.71031904e-01 2.11176948e-02\n",
      "  3.11680113e-01 3.98889962e-02 8.95860042e-02 1.08677131e-01\n",
      "  1.16448177e-01 7.56983151e-02 1.81295714e-02 3.11992920e-02\n",
      "  5.08278895e-02 6.26207697e-02 4.35989054e-02 5.26619566e-02\n",
      "  2.12218584e-01 5.13741568e-02 8.61115297e-02 3.33416145e-02]\n",
      " [2.78450428e-01 3.37547631e-01 9.90541423e-02 1.34526729e-01\n",
      "  1.39258466e-01 1.86302397e-01 6.00074790e-02 8.66807239e-02\n",
      "  1.48837347e-01 3.39710418e-01 1.98471741e-01 2.28844991e-01\n",
      "  1.64677919e-01 9.88937542e-02 7.67706722e-02 1.58869348e-01\n",
      "  2.44539435e-01 4.85619186e-02 1.20613715e-01 4.88906295e-01\n",
      "  8.65523188e-02 4.59545163e-02 2.55855989e-01 7.11169740e-02\n",
      "  5.55754546e-02 2.46134217e-02 4.53160305e-02 1.28139454e-01\n",
      "  2.27121770e-01 9.13733533e-02 4.36950890e-02 1.47505630e-01\n",
      "  2.72914899e-01 3.65909893e-01 1.83944776e-01 1.52141183e-01\n",
      "  4.40511734e-02 2.97444909e-01 3.82653300e-01 1.01063196e-01\n",
      "  2.17717496e-01 2.09301180e-02 1.26233362e-01 3.55051220e-01\n",
      "  6.06864075e-02 9.89470462e-02 1.80934318e-01 1.14166026e-01\n",
      "  1.56314383e-01 1.35818127e-01 1.04179200e-01 5.54317079e-02\n",
      "  2.80259736e-01 1.18655184e-01 3.40138193e-02 1.89847914e-01\n",
      "  1.68561461e-01 1.89571688e-01 1.07574790e-01 3.02975586e-01\n",
      "  5.87710986e-01 7.46276275e-01 3.36031478e-02 1.98747561e-01\n",
      "  1.18781627e-01 1.50265727e-01 7.91146021e-02 8.53221507e-02\n",
      "  3.59055701e-01 8.77149801e-02 1.41079688e-01 3.34718663e-01\n",
      "  1.90038568e-01 2.18976141e-01 6.20501784e-02 6.93472748e-02\n",
      "  1.98041114e-01 1.91287465e-01 1.06616703e-01 1.03983100e-01\n",
      "  1.39968349e-01 2.10635585e-01 3.26655062e-02 1.16116288e-01\n",
      "  1.00316795e-01 5.17375921e-01 3.28562094e-02 7.87894981e-02\n",
      "  1.57921748e-01 2.22725670e-01 1.79258734e-01 1.64936860e-02\n",
      "  2.00733965e-01 1.80744735e-01 2.26224293e-01 1.93944577e-01\n",
      "  6.88873165e-02 1.06050532e-01 9.00370292e-02 9.72533727e-02\n",
      "  7.54787683e-02 9.21633484e-02 2.59103131e-01 2.00154027e-01\n",
      "  1.86111247e-01 1.11179324e-01 7.67962476e-02 2.08746492e-01\n",
      "  1.15249015e-01 1.89206282e-01 2.11339848e-01 2.57635378e-01\n",
      "  1.23653509e-01 8.21380956e-02 7.16291277e-02 5.89038971e-02\n",
      "  6.36997394e-02 1.18169742e-01 3.72166913e-02 1.21249144e-01\n",
      "  1.40773087e-01 8.28886898e-02 8.77453303e-02 1.30372648e-01\n",
      "  9.36725982e-02 2.23325034e-01 1.67865397e-01 1.41755899e-01\n",
      "  2.61831900e-01 3.69696355e-02 2.09848405e-01 8.89293512e-02\n",
      "  1.48035665e-01 7.08522524e-02 1.10915714e-01 8.97305685e-02\n",
      "  6.75090608e-02 4.46499902e-02 8.29662025e-02 1.67208871e-02\n",
      "  1.72249297e-01 2.85041929e-02 2.09580938e-01 1.65308924e-02\n",
      "  1.37976018e-01 1.45295167e-01 1.85824465e-01 1.77233336e-01\n",
      "  1.24945539e-01 8.31143933e-02 1.59309020e-01 5.88202411e-02\n",
      "  1.64923268e-01 7.45101828e-02 5.75436192e-02 1.82716420e-01\n",
      "  1.28779983e-01 6.47442228e-02 1.71076918e-01 3.52594403e-01\n",
      "  1.52989264e-01 1.21692984e-01 9.94143365e-02 1.01156755e-01\n",
      "  1.38389090e-01 1.75402418e-01 1.47779911e-01 1.07023109e-01\n",
      "  1.17041848e-01 6.97029146e-02 1.80385773e-02 1.93052462e-01\n",
      "  4.85355400e-02 1.27352271e-01 5.03647201e-02 4.50391595e-02\n",
      "  1.77380713e-01 1.12539293e-01 9.09322397e-02 9.92718736e-02\n",
      "  9.05173675e-02 3.68311964e-02 1.70404692e-01 4.25004772e-02\n",
      "  1.53500793e-01 8.52659689e-02 2.16221424e-01 1.61397365e-01\n",
      "  8.75172321e-02 8.28876132e-02 3.28857896e-01 2.14129182e-01\n",
      "  2.89638798e-01 4.84397968e-02 1.09636260e-01 5.97497229e-02\n",
      "  3.03328043e-02 2.39135348e-01 8.65975489e-02 1.92426662e-01\n",
      "  2.12903559e-01 5.85867898e-03 2.53738097e-02 9.06951323e-02\n",
      "  1.63641122e-01 1.29214505e-02 4.81897314e-01 3.64300120e-02\n",
      "  1.23361659e-01 3.44929853e-01 2.44593442e-01 1.28361275e-02\n",
      "  2.07690212e-01 8.18453208e-02 1.31960095e-01 1.31320351e-01\n",
      "  1.05219746e-01 2.19099552e-01 1.30999727e-01 1.47834296e-01\n",
      "  1.40222938e-01 9.52906006e-02 1.22549076e-01 1.88924371e-01\n",
      "  1.39528622e-01 9.80746536e-02 4.38798450e-02 8.81138291e-02\n",
      "  2.05294303e-01 1.20655785e-01 1.78375235e-01 3.19752608e-02\n",
      "  1.06307823e-01 1.79189821e-01 7.47120339e-02 2.84865616e-01\n",
      "  7.98241110e-02 1.37837871e-01 1.76212069e-01 2.21519119e-01\n",
      "  2.11536124e-01 4.17004118e-03 9.48861657e-02 1.17055768e-01\n",
      "  4.73322029e-01 1.41825332e-01 7.93768571e-02 7.06965516e-02\n",
      "  4.02706429e-02 9.27005771e-02 5.26719492e-02 1.01704708e-01\n",
      "  1.03394175e-01 7.75575859e-02 1.06230085e-01 8.33359591e-02]]\n"
     ]
    },
    {
     "name": "stderr",
     "output_type": "stream",
     "text": [
      "\n"
     ]
    }
   ],
   "source": [
    "mean_embeds = get_class_mean_embeddings(resnet18_pretrained, train_loader, nr_layers=-3)\n",
    "print(mean_embeds)"
   ],
   "metadata": {
    "collapsed": false,
    "pycharm": {
     "name": "#%%\n"
    }
   }
  },
  {
   "cell_type": "code",
   "execution_count": 89,
   "outputs": [
    {
     "name": "stdout",
     "output_type": "stream",
     "text": [
      "AdaptiveAvgPool2d(output_size=(1, 1))\n",
      "Sequential(\n",
      "  (0): Conv2d(3, 64, kernel_size=(7, 7), stride=(2, 2), padding=(3, 3), bias=False)\n",
      "  (1): BatchNorm2d(64, eps=1e-05, momentum=0.1, affine=True, track_running_stats=True)\n",
      "  (2): ReLU(inplace=True)\n",
      "  (3): MaxPool2d(kernel_size=3, stride=2, padding=1, dilation=1, ceil_mode=False)\n",
      "  (4): Sequential(\n",
      "    (0): BasicBlock(\n",
      "      (conv1): Conv2d(64, 64, kernel_size=(3, 3), stride=(1, 1), padding=(1, 1), bias=False)\n",
      "      (bn1): BatchNorm2d(64, eps=1e-05, momentum=0.1, affine=True, track_running_stats=True)\n",
      "      (relu): ReLU(inplace=True)\n",
      "      (conv2): Conv2d(64, 64, kernel_size=(3, 3), stride=(1, 1), padding=(1, 1), bias=False)\n",
      "      (bn2): BatchNorm2d(64, eps=1e-05, momentum=0.1, affine=True, track_running_stats=True)\n",
      "    )\n",
      "    (1): BasicBlock(\n",
      "      (conv1): Conv2d(64, 64, kernel_size=(3, 3), stride=(1, 1), padding=(1, 1), bias=False)\n",
      "      (bn1): BatchNorm2d(64, eps=1e-05, momentum=0.1, affine=True, track_running_stats=True)\n",
      "      (relu): ReLU(inplace=True)\n",
      "      (conv2): Conv2d(64, 64, kernel_size=(3, 3), stride=(1, 1), padding=(1, 1), bias=False)\n",
      "      (bn2): BatchNorm2d(64, eps=1e-05, momentum=0.1, affine=True, track_running_stats=True)\n",
      "    )\n",
      "  )\n",
      "  (5): Sequential(\n",
      "    (0): BasicBlock(\n",
      "      (conv1): Conv2d(64, 128, kernel_size=(3, 3), stride=(2, 2), padding=(1, 1), bias=False)\n",
      "      (bn1): BatchNorm2d(128, eps=1e-05, momentum=0.1, affine=True, track_running_stats=True)\n",
      "      (relu): ReLU(inplace=True)\n",
      "      (conv2): Conv2d(128, 128, kernel_size=(3, 3), stride=(1, 1), padding=(1, 1), bias=False)\n",
      "      (bn2): BatchNorm2d(128, eps=1e-05, momentum=0.1, affine=True, track_running_stats=True)\n",
      "      (downsample): Sequential(\n",
      "        (0): Conv2d(64, 128, kernel_size=(1, 1), stride=(2, 2), bias=False)\n",
      "        (1): BatchNorm2d(128, eps=1e-05, momentum=0.1, affine=True, track_running_stats=True)\n",
      "      )\n",
      "    )\n",
      "    (1): BasicBlock(\n",
      "      (conv1): Conv2d(128, 128, kernel_size=(3, 3), stride=(1, 1), padding=(1, 1), bias=False)\n",
      "      (bn1): BatchNorm2d(128, eps=1e-05, momentum=0.1, affine=True, track_running_stats=True)\n",
      "      (relu): ReLU(inplace=True)\n",
      "      (conv2): Conv2d(128, 128, kernel_size=(3, 3), stride=(1, 1), padding=(1, 1), bias=False)\n",
      "      (bn2): BatchNorm2d(128, eps=1e-05, momentum=0.1, affine=True, track_running_stats=True)\n",
      "    )\n",
      "  )\n",
      "  (6): Sequential(\n",
      "    (0): BasicBlock(\n",
      "      (conv1): Conv2d(128, 256, kernel_size=(3, 3), stride=(2, 2), padding=(1, 1), bias=False)\n",
      "      (bn1): BatchNorm2d(256, eps=1e-05, momentum=0.1, affine=True, track_running_stats=True)\n",
      "      (relu): ReLU(inplace=True)\n",
      "      (conv2): Conv2d(256, 256, kernel_size=(3, 3), stride=(1, 1), padding=(1, 1), bias=False)\n",
      "      (bn2): BatchNorm2d(256, eps=1e-05, momentum=0.1, affine=True, track_running_stats=True)\n",
      "      (downsample): Sequential(\n",
      "        (0): Conv2d(128, 256, kernel_size=(1, 1), stride=(2, 2), bias=False)\n",
      "        (1): BatchNorm2d(256, eps=1e-05, momentum=0.1, affine=True, track_running_stats=True)\n",
      "      )\n",
      "    )\n",
      "    (1): BasicBlock(\n",
      "      (conv1): Conv2d(256, 256, kernel_size=(3, 3), stride=(1, 1), padding=(1, 1), bias=False)\n",
      "      (bn1): BatchNorm2d(256, eps=1e-05, momentum=0.1, affine=True, track_running_stats=True)\n",
      "      (relu): ReLU(inplace=True)\n",
      "      (conv2): Conv2d(256, 256, kernel_size=(3, 3), stride=(1, 1), padding=(1, 1), bias=False)\n",
      "      (bn2): BatchNorm2d(256, eps=1e-05, momentum=0.1, affine=True, track_running_stats=True)\n",
      "    )\n",
      "  )\n",
      "  (7): AdaptiveAvgPool2d(output_size=(1, 1))\n",
      ")\n"
     ]
    },
    {
     "name": "stderr",
     "output_type": "stream",
     "text": [
      "360it [03:30,  1.71it/s]\n"
     ]
    },
    {
     "name": "stdout",
     "output_type": "stream",
     "text": [
      "(1.4623581341585625, 0.3112988782412788)\n",
      "(1.9183645550376769, 0.42766292546987833)\n",
      "AdaptiveAvgPool2d(output_size=(1, 1))\n",
      "Sequential(\n",
      "  (0): Conv2d(3, 64, kernel_size=(7, 7), stride=(2, 2), padding=(3, 3), bias=False)\n",
      "  (1): BatchNorm2d(64, eps=1e-05, momentum=0.1, affine=True, track_running_stats=True)\n",
      "  (2): ReLU(inplace=True)\n",
      "  (3): MaxPool2d(kernel_size=3, stride=2, padding=1, dilation=1, ceil_mode=False)\n",
      "  (4): Sequential(\n",
      "    (0): BasicBlock(\n",
      "      (conv1): Conv2d(64, 64, kernel_size=(3, 3), stride=(1, 1), padding=(1, 1), bias=False)\n",
      "      (bn1): BatchNorm2d(64, eps=1e-05, momentum=0.1, affine=True, track_running_stats=True)\n",
      "      (relu): ReLU(inplace=True)\n",
      "      (conv2): Conv2d(64, 64, kernel_size=(3, 3), stride=(1, 1), padding=(1, 1), bias=False)\n",
      "      (bn2): BatchNorm2d(64, eps=1e-05, momentum=0.1, affine=True, track_running_stats=True)\n",
      "    )\n",
      "    (1): BasicBlock(\n",
      "      (conv1): Conv2d(64, 64, kernel_size=(3, 3), stride=(1, 1), padding=(1, 1), bias=False)\n",
      "      (bn1): BatchNorm2d(64, eps=1e-05, momentum=0.1, affine=True, track_running_stats=True)\n",
      "      (relu): ReLU(inplace=True)\n",
      "      (conv2): Conv2d(64, 64, kernel_size=(3, 3), stride=(1, 1), padding=(1, 1), bias=False)\n",
      "      (bn2): BatchNorm2d(64, eps=1e-05, momentum=0.1, affine=True, track_running_stats=True)\n",
      "    )\n",
      "  )\n",
      "  (5): Sequential(\n",
      "    (0): BasicBlock(\n",
      "      (conv1): Conv2d(64, 128, kernel_size=(3, 3), stride=(2, 2), padding=(1, 1), bias=False)\n",
      "      (bn1): BatchNorm2d(128, eps=1e-05, momentum=0.1, affine=True, track_running_stats=True)\n",
      "      (relu): ReLU(inplace=True)\n",
      "      (conv2): Conv2d(128, 128, kernel_size=(3, 3), stride=(1, 1), padding=(1, 1), bias=False)\n",
      "      (bn2): BatchNorm2d(128, eps=1e-05, momentum=0.1, affine=True, track_running_stats=True)\n",
      "      (downsample): Sequential(\n",
      "        (0): Conv2d(64, 128, kernel_size=(1, 1), stride=(2, 2), bias=False)\n",
      "        (1): BatchNorm2d(128, eps=1e-05, momentum=0.1, affine=True, track_running_stats=True)\n",
      "      )\n",
      "    )\n",
      "    (1): BasicBlock(\n",
      "      (conv1): Conv2d(128, 128, kernel_size=(3, 3), stride=(1, 1), padding=(1, 1), bias=False)\n",
      "      (bn1): BatchNorm2d(128, eps=1e-05, momentum=0.1, affine=True, track_running_stats=True)\n",
      "      (relu): ReLU(inplace=True)\n",
      "      (conv2): Conv2d(128, 128, kernel_size=(3, 3), stride=(1, 1), padding=(1, 1), bias=False)\n",
      "      (bn2): BatchNorm2d(128, eps=1e-05, momentum=0.1, affine=True, track_running_stats=True)\n",
      "    )\n",
      "  )\n",
      "  (6): Sequential(\n",
      "    (0): BasicBlock(\n",
      "      (conv1): Conv2d(128, 256, kernel_size=(3, 3), stride=(2, 2), padding=(1, 1), bias=False)\n",
      "      (bn1): BatchNorm2d(256, eps=1e-05, momentum=0.1, affine=True, track_running_stats=True)\n",
      "      (relu): ReLU(inplace=True)\n",
      "      (conv2): Conv2d(256, 256, kernel_size=(3, 3), stride=(1, 1), padding=(1, 1), bias=False)\n",
      "      (bn2): BatchNorm2d(256, eps=1e-05, momentum=0.1, affine=True, track_running_stats=True)\n",
      "      (downsample): Sequential(\n",
      "        (0): Conv2d(128, 256, kernel_size=(1, 1), stride=(2, 2), bias=False)\n",
      "        (1): BatchNorm2d(256, eps=1e-05, momentum=0.1, affine=True, track_running_stats=True)\n",
      "      )\n",
      "    )\n",
      "    (1): BasicBlock(\n",
      "      (conv1): Conv2d(256, 256, kernel_size=(3, 3), stride=(1, 1), padding=(1, 1), bias=False)\n",
      "      (bn1): BatchNorm2d(256, eps=1e-05, momentum=0.1, affine=True, track_running_stats=True)\n",
      "      (relu): ReLU(inplace=True)\n",
      "      (conv2): Conv2d(256, 256, kernel_size=(3, 3), stride=(1, 1), padding=(1, 1), bias=False)\n",
      "      (bn2): BatchNorm2d(256, eps=1e-05, momentum=0.1, affine=True, track_running_stats=True)\n",
      "    )\n",
      "  )\n",
      "  (7): AdaptiveAvgPool2d(output_size=(1, 1))\n",
      ")\n"
     ]
    },
    {
     "name": "stderr",
     "output_type": "stream",
     "text": [
      "347it [04:14,  1.36it/s]"
     ]
    },
    {
     "name": "stdout",
     "output_type": "stream",
     "text": [
      "(1.4383305217823106, 0.3185095421168888)\n",
      "(1.5216503871895912, 0.3587628149208194)\n"
     ]
    },
    {
     "name": "stderr",
     "output_type": "stream",
     "text": [
      "\n"
     ]
    }
   ],
   "source": [
    "dist_iid = calc_dist_mean(resnet18_pretrained, id_val_loader, mean_embeds, nr_layers=-3)\n",
    "print(calc_mean_std(dist_iid[0]))\n",
    "print(calc_mean_std(dist_iid[1]))\n",
    "dist_ood = calc_dist_mean(resnet18_pretrained, val_loader, mean_embeds, nr_layers=-3)\n",
    "print(calc_mean_std(dist_ood[0]))\n",
    "print(calc_mean_std(dist_ood[1]))"
   ],
   "metadata": {
    "collapsed": false,
    "pycharm": {
     "name": "#%%\n"
    }
   }
  },
  {
   "cell_type": "code",
   "execution_count": 90,
   "outputs": [
    {
     "name": "stdout",
     "output_type": "stream",
     "text": [
      "AdaptiveAvgPool2d(output_size=(1, 1))\n",
      "Sequential(\n",
      "  (0): Conv2d(3, 64, kernel_size=(7, 7), stride=(2, 2), padding=(3, 3), bias=False)\n",
      "  (1): BatchNorm2d(64, eps=1e-05, momentum=0.1, affine=True, track_running_stats=True)\n",
      "  (2): ReLU(inplace=True)\n",
      "  (3): MaxPool2d(kernel_size=3, stride=2, padding=1, dilation=1, ceil_mode=False)\n",
      "  (4): Sequential(\n",
      "    (0): BasicBlock(\n",
      "      (conv1): Conv2d(64, 64, kernel_size=(3, 3), stride=(1, 1), padding=(1, 1), bias=False)\n",
      "      (bn1): BatchNorm2d(64, eps=1e-05, momentum=0.1, affine=True, track_running_stats=True)\n",
      "      (relu): ReLU(inplace=True)\n",
      "      (conv2): Conv2d(64, 64, kernel_size=(3, 3), stride=(1, 1), padding=(1, 1), bias=False)\n",
      "      (bn2): BatchNorm2d(64, eps=1e-05, momentum=0.1, affine=True, track_running_stats=True)\n",
      "    )\n",
      "    (1): BasicBlock(\n",
      "      (conv1): Conv2d(64, 64, kernel_size=(3, 3), stride=(1, 1), padding=(1, 1), bias=False)\n",
      "      (bn1): BatchNorm2d(64, eps=1e-05, momentum=0.1, affine=True, track_running_stats=True)\n",
      "      (relu): ReLU(inplace=True)\n",
      "      (conv2): Conv2d(64, 64, kernel_size=(3, 3), stride=(1, 1), padding=(1, 1), bias=False)\n",
      "      (bn2): BatchNorm2d(64, eps=1e-05, momentum=0.1, affine=True, track_running_stats=True)\n",
      "    )\n",
      "  )\n",
      "  (5): Sequential(\n",
      "    (0): BasicBlock(\n",
      "      (conv1): Conv2d(64, 128, kernel_size=(3, 3), stride=(2, 2), padding=(1, 1), bias=False)\n",
      "      (bn1): BatchNorm2d(128, eps=1e-05, momentum=0.1, affine=True, track_running_stats=True)\n",
      "      (relu): ReLU(inplace=True)\n",
      "      (conv2): Conv2d(128, 128, kernel_size=(3, 3), stride=(1, 1), padding=(1, 1), bias=False)\n",
      "      (bn2): BatchNorm2d(128, eps=1e-05, momentum=0.1, affine=True, track_running_stats=True)\n",
      "      (downsample): Sequential(\n",
      "        (0): Conv2d(64, 128, kernel_size=(1, 1), stride=(2, 2), bias=False)\n",
      "        (1): BatchNorm2d(128, eps=1e-05, momentum=0.1, affine=True, track_running_stats=True)\n",
      "      )\n",
      "    )\n",
      "    (1): BasicBlock(\n",
      "      (conv1): Conv2d(128, 128, kernel_size=(3, 3), stride=(1, 1), padding=(1, 1), bias=False)\n",
      "      (bn1): BatchNorm2d(128, eps=1e-05, momentum=0.1, affine=True, track_running_stats=True)\n",
      "      (relu): ReLU(inplace=True)\n",
      "      (conv2): Conv2d(128, 128, kernel_size=(3, 3), stride=(1, 1), padding=(1, 1), bias=False)\n",
      "      (bn2): BatchNorm2d(128, eps=1e-05, momentum=0.1, affine=True, track_running_stats=True)\n",
      "    )\n",
      "  )\n",
      "  (6): Sequential(\n",
      "    (0): BasicBlock(\n",
      "      (conv1): Conv2d(128, 256, kernel_size=(3, 3), stride=(2, 2), padding=(1, 1), bias=False)\n",
      "      (bn1): BatchNorm2d(256, eps=1e-05, momentum=0.1, affine=True, track_running_stats=True)\n",
      "      (relu): ReLU(inplace=True)\n",
      "      (conv2): Conv2d(256, 256, kernel_size=(3, 3), stride=(1, 1), padding=(1, 1), bias=False)\n",
      "      (bn2): BatchNorm2d(256, eps=1e-05, momentum=0.1, affine=True, track_running_stats=True)\n",
      "      (downsample): Sequential(\n",
      "        (0): Conv2d(128, 256, kernel_size=(1, 1), stride=(2, 2), bias=False)\n",
      "        (1): BatchNorm2d(256, eps=1e-05, momentum=0.1, affine=True, track_running_stats=True)\n",
      "      )\n",
      "    )\n",
      "    (1): BasicBlock(\n",
      "      (conv1): Conv2d(256, 256, kernel_size=(3, 3), stride=(1, 1), padding=(1, 1), bias=False)\n",
      "      (bn1): BatchNorm2d(256, eps=1e-05, momentum=0.1, affine=True, track_running_stats=True)\n",
      "      (relu): ReLU(inplace=True)\n",
      "      (conv2): Conv2d(256, 256, kernel_size=(3, 3), stride=(1, 1), padding=(1, 1), bias=False)\n",
      "      (bn2): BatchNorm2d(256, eps=1e-05, momentum=0.1, affine=True, track_running_stats=True)\n",
      "    )\n",
      "  )\n",
      "  (7): AdaptiveAvgPool2d(output_size=(1, 1))\n",
      ")\n"
     ]
    },
    {
     "name": "stderr",
     "output_type": "stream",
     "text": [
      "360it [00:18, 19.65it/s]\n"
     ]
    },
    {
     "name": "stdout",
     "output_type": "stream",
     "text": [
      "(0.8307092270363555, 0.06036752335644357)\n",
      "(0.8285226818010802, 0.07388714336314596)\n",
      "AdaptiveAvgPool2d(output_size=(1, 1))\n",
      "Sequential(\n",
      "  (0): Conv2d(3, 64, kernel_size=(7, 7), stride=(2, 2), padding=(3, 3), bias=False)\n",
      "  (1): BatchNorm2d(64, eps=1e-05, momentum=0.1, affine=True, track_running_stats=True)\n",
      "  (2): ReLU(inplace=True)\n",
      "  (3): MaxPool2d(kernel_size=3, stride=2, padding=1, dilation=1, ceil_mode=False)\n",
      "  (4): Sequential(\n",
      "    (0): BasicBlock(\n",
      "      (conv1): Conv2d(64, 64, kernel_size=(3, 3), stride=(1, 1), padding=(1, 1), bias=False)\n",
      "      (bn1): BatchNorm2d(64, eps=1e-05, momentum=0.1, affine=True, track_running_stats=True)\n",
      "      (relu): ReLU(inplace=True)\n",
      "      (conv2): Conv2d(64, 64, kernel_size=(3, 3), stride=(1, 1), padding=(1, 1), bias=False)\n",
      "      (bn2): BatchNorm2d(64, eps=1e-05, momentum=0.1, affine=True, track_running_stats=True)\n",
      "    )\n",
      "    (1): BasicBlock(\n",
      "      (conv1): Conv2d(64, 64, kernel_size=(3, 3), stride=(1, 1), padding=(1, 1), bias=False)\n",
      "      (bn1): BatchNorm2d(64, eps=1e-05, momentum=0.1, affine=True, track_running_stats=True)\n",
      "      (relu): ReLU(inplace=True)\n",
      "      (conv2): Conv2d(64, 64, kernel_size=(3, 3), stride=(1, 1), padding=(1, 1), bias=False)\n",
      "      (bn2): BatchNorm2d(64, eps=1e-05, momentum=0.1, affine=True, track_running_stats=True)\n",
      "    )\n",
      "  )\n",
      "  (5): Sequential(\n",
      "    (0): BasicBlock(\n",
      "      (conv1): Conv2d(64, 128, kernel_size=(3, 3), stride=(2, 2), padding=(1, 1), bias=False)\n",
      "      (bn1): BatchNorm2d(128, eps=1e-05, momentum=0.1, affine=True, track_running_stats=True)\n",
      "      (relu): ReLU(inplace=True)\n",
      "      (conv2): Conv2d(128, 128, kernel_size=(3, 3), stride=(1, 1), padding=(1, 1), bias=False)\n",
      "      (bn2): BatchNorm2d(128, eps=1e-05, momentum=0.1, affine=True, track_running_stats=True)\n",
      "      (downsample): Sequential(\n",
      "        (0): Conv2d(64, 128, kernel_size=(1, 1), stride=(2, 2), bias=False)\n",
      "        (1): BatchNorm2d(128, eps=1e-05, momentum=0.1, affine=True, track_running_stats=True)\n",
      "      )\n",
      "    )\n",
      "    (1): BasicBlock(\n",
      "      (conv1): Conv2d(128, 128, kernel_size=(3, 3), stride=(1, 1), padding=(1, 1), bias=False)\n",
      "      (bn1): BatchNorm2d(128, eps=1e-05, momentum=0.1, affine=True, track_running_stats=True)\n",
      "      (relu): ReLU(inplace=True)\n",
      "      (conv2): Conv2d(128, 128, kernel_size=(3, 3), stride=(1, 1), padding=(1, 1), bias=False)\n",
      "      (bn2): BatchNorm2d(128, eps=1e-05, momentum=0.1, affine=True, track_running_stats=True)\n",
      "    )\n",
      "  )\n",
      "  (6): Sequential(\n",
      "    (0): BasicBlock(\n",
      "      (conv1): Conv2d(128, 256, kernel_size=(3, 3), stride=(2, 2), padding=(1, 1), bias=False)\n",
      "      (bn1): BatchNorm2d(256, eps=1e-05, momentum=0.1, affine=True, track_running_stats=True)\n",
      "      (relu): ReLU(inplace=True)\n",
      "      (conv2): Conv2d(256, 256, kernel_size=(3, 3), stride=(1, 1), padding=(1, 1), bias=False)\n",
      "      (bn2): BatchNorm2d(256, eps=1e-05, momentum=0.1, affine=True, track_running_stats=True)\n",
      "      (downsample): Sequential(\n",
      "        (0): Conv2d(128, 256, kernel_size=(1, 1), stride=(2, 2), bias=False)\n",
      "        (1): BatchNorm2d(256, eps=1e-05, momentum=0.1, affine=True, track_running_stats=True)\n",
      "      )\n",
      "    )\n",
      "    (1): BasicBlock(\n",
      "      (conv1): Conv2d(256, 256, kernel_size=(3, 3), stride=(1, 1), padding=(1, 1), bias=False)\n",
      "      (bn1): BatchNorm2d(256, eps=1e-05, momentum=0.1, affine=True, track_running_stats=True)\n",
      "      (relu): ReLU(inplace=True)\n",
      "      (conv2): Conv2d(256, 256, kernel_size=(3, 3), stride=(1, 1), padding=(1, 1), bias=False)\n",
      "      (bn2): BatchNorm2d(256, eps=1e-05, momentum=0.1, affine=True, track_running_stats=True)\n",
      "    )\n",
      "  )\n",
      "  (7): AdaptiveAvgPool2d(output_size=(1, 1))\n",
      ")\n"
     ]
    },
    {
     "name": "stderr",
     "output_type": "stream",
     "text": [
      "347it [00:17, 19.72it/s]"
     ]
    },
    {
     "name": "stdout",
     "output_type": "stream",
     "text": [
      "(0.8518162364909172, 0.04572092443268793)\n",
      "(0.8804776922211843, 0.06308674302825565)\n"
     ]
    },
    {
     "name": "stderr",
     "output_type": "stream",
     "text": [
      "\n"
     ]
    }
   ],
   "source": [
    "dist_iid = calc_dist_mean(resnet18_pretrained, id_val_loader, mean_embeds, \"cos\", nr_layers=-3)\n",
    "print(calc_mean_std(dist_iid[0]))\n",
    "print(calc_mean_std(dist_iid[1]))\n",
    "dist_ood = calc_dist_mean(resnet18_pretrained, val_loader, mean_embeds, \"cos\", nr_layers=-3)\n",
    "print(calc_mean_std(dist_ood[0]))\n",
    "print(calc_mean_std(dist_ood[1]))"
   ],
   "metadata": {
    "collapsed": false,
    "pycharm": {
     "name": "#%%\n"
    }
   }
  },
  {
   "cell_type": "code",
   "execution_count": 91,
   "outputs": [
    {
     "name": "stdout",
     "output_type": "stream",
     "text": [
      "AdaptiveAvgPool2d(output_size=(1, 1))\n",
      "Sequential(\n",
      "  (0): Conv2d(3, 64, kernel_size=(7, 7), stride=(2, 2), padding=(3, 3), bias=False)\n",
      "  (1): BatchNorm2d(64, eps=1e-05, momentum=0.1, affine=True, track_running_stats=True)\n",
      "  (2): ReLU(inplace=True)\n",
      "  (3): MaxPool2d(kernel_size=3, stride=2, padding=1, dilation=1, ceil_mode=False)\n",
      "  (4): Sequential(\n",
      "    (0): BasicBlock(\n",
      "      (conv1): Conv2d(64, 64, kernel_size=(3, 3), stride=(1, 1), padding=(1, 1), bias=False)\n",
      "      (bn1): BatchNorm2d(64, eps=1e-05, momentum=0.1, affine=True, track_running_stats=True)\n",
      "      (relu): ReLU(inplace=True)\n",
      "      (conv2): Conv2d(64, 64, kernel_size=(3, 3), stride=(1, 1), padding=(1, 1), bias=False)\n",
      "      (bn2): BatchNorm2d(64, eps=1e-05, momentum=0.1, affine=True, track_running_stats=True)\n",
      "    )\n",
      "    (1): BasicBlock(\n",
      "      (conv1): Conv2d(64, 64, kernel_size=(3, 3), stride=(1, 1), padding=(1, 1), bias=False)\n",
      "      (bn1): BatchNorm2d(64, eps=1e-05, momentum=0.1, affine=True, track_running_stats=True)\n",
      "      (relu): ReLU(inplace=True)\n",
      "      (conv2): Conv2d(64, 64, kernel_size=(3, 3), stride=(1, 1), padding=(1, 1), bias=False)\n",
      "      (bn2): BatchNorm2d(64, eps=1e-05, momentum=0.1, affine=True, track_running_stats=True)\n",
      "    )\n",
      "  )\n",
      "  (5): Sequential(\n",
      "    (0): BasicBlock(\n",
      "      (conv1): Conv2d(64, 128, kernel_size=(3, 3), stride=(2, 2), padding=(1, 1), bias=False)\n",
      "      (bn1): BatchNorm2d(128, eps=1e-05, momentum=0.1, affine=True, track_running_stats=True)\n",
      "      (relu): ReLU(inplace=True)\n",
      "      (conv2): Conv2d(128, 128, kernel_size=(3, 3), stride=(1, 1), padding=(1, 1), bias=False)\n",
      "      (bn2): BatchNorm2d(128, eps=1e-05, momentum=0.1, affine=True, track_running_stats=True)\n",
      "      (downsample): Sequential(\n",
      "        (0): Conv2d(64, 128, kernel_size=(1, 1), stride=(2, 2), bias=False)\n",
      "        (1): BatchNorm2d(128, eps=1e-05, momentum=0.1, affine=True, track_running_stats=True)\n",
      "      )\n",
      "    )\n",
      "    (1): BasicBlock(\n",
      "      (conv1): Conv2d(128, 128, kernel_size=(3, 3), stride=(1, 1), padding=(1, 1), bias=False)\n",
      "      (bn1): BatchNorm2d(128, eps=1e-05, momentum=0.1, affine=True, track_running_stats=True)\n",
      "      (relu): ReLU(inplace=True)\n",
      "      (conv2): Conv2d(128, 128, kernel_size=(3, 3), stride=(1, 1), padding=(1, 1), bias=False)\n",
      "      (bn2): BatchNorm2d(128, eps=1e-05, momentum=0.1, affine=True, track_running_stats=True)\n",
      "    )\n",
      "  )\n",
      "  (6): Sequential(\n",
      "    (0): BasicBlock(\n",
      "      (conv1): Conv2d(128, 256, kernel_size=(3, 3), stride=(2, 2), padding=(1, 1), bias=False)\n",
      "      (bn1): BatchNorm2d(256, eps=1e-05, momentum=0.1, affine=True, track_running_stats=True)\n",
      "      (relu): ReLU(inplace=True)\n",
      "      (conv2): Conv2d(256, 256, kernel_size=(3, 3), stride=(1, 1), padding=(1, 1), bias=False)\n",
      "      (bn2): BatchNorm2d(256, eps=1e-05, momentum=0.1, affine=True, track_running_stats=True)\n",
      "      (downsample): Sequential(\n",
      "        (0): Conv2d(128, 256, kernel_size=(1, 1), stride=(2, 2), bias=False)\n",
      "        (1): BatchNorm2d(256, eps=1e-05, momentum=0.1, affine=True, track_running_stats=True)\n",
      "      )\n",
      "    )\n",
      "    (1): BasicBlock(\n",
      "      (conv1): Conv2d(256, 256, kernel_size=(3, 3), stride=(1, 1), padding=(1, 1), bias=False)\n",
      "      (bn1): BatchNorm2d(256, eps=1e-05, momentum=0.1, affine=True, track_running_stats=True)\n",
      "      (relu): ReLU(inplace=True)\n",
      "      (conv2): Conv2d(256, 256, kernel_size=(3, 3), stride=(1, 1), padding=(1, 1), bias=False)\n",
      "      (bn2): BatchNorm2d(256, eps=1e-05, momentum=0.1, affine=True, track_running_stats=True)\n",
      "    )\n",
      "  )\n",
      "  (7): AdaptiveAvgPool2d(output_size=(1, 1))\n",
      ")\n"
     ]
    },
    {
     "name": "stderr",
     "output_type": "stream",
     "text": [
      "360it [00:18, 19.65it/s]\n"
     ]
    },
    {
     "name": "stdout",
     "output_type": "stream",
     "text": [
      "(0.7554970607084046, 0.17429233040889258)\n",
      "(0.9869966557769204, 0.24786116967803504)\n",
      "AdaptiveAvgPool2d(output_size=(1, 1))\n",
      "Sequential(\n",
      "  (0): Conv2d(3, 64, kernel_size=(7, 7), stride=(2, 2), padding=(3, 3), bias=False)\n",
      "  (1): BatchNorm2d(64, eps=1e-05, momentum=0.1, affine=True, track_running_stats=True)\n",
      "  (2): ReLU(inplace=True)\n",
      "  (3): MaxPool2d(kernel_size=3, stride=2, padding=1, dilation=1, ceil_mode=False)\n",
      "  (4): Sequential(\n",
      "    (0): BasicBlock(\n",
      "      (conv1): Conv2d(64, 64, kernel_size=(3, 3), stride=(1, 1), padding=(1, 1), bias=False)\n",
      "      (bn1): BatchNorm2d(64, eps=1e-05, momentum=0.1, affine=True, track_running_stats=True)\n",
      "      (relu): ReLU(inplace=True)\n",
      "      (conv2): Conv2d(64, 64, kernel_size=(3, 3), stride=(1, 1), padding=(1, 1), bias=False)\n",
      "      (bn2): BatchNorm2d(64, eps=1e-05, momentum=0.1, affine=True, track_running_stats=True)\n",
      "    )\n",
      "    (1): BasicBlock(\n",
      "      (conv1): Conv2d(64, 64, kernel_size=(3, 3), stride=(1, 1), padding=(1, 1), bias=False)\n",
      "      (bn1): BatchNorm2d(64, eps=1e-05, momentum=0.1, affine=True, track_running_stats=True)\n",
      "      (relu): ReLU(inplace=True)\n",
      "      (conv2): Conv2d(64, 64, kernel_size=(3, 3), stride=(1, 1), padding=(1, 1), bias=False)\n",
      "      (bn2): BatchNorm2d(64, eps=1e-05, momentum=0.1, affine=True, track_running_stats=True)\n",
      "    )\n",
      "  )\n",
      "  (5): Sequential(\n",
      "    (0): BasicBlock(\n",
      "      (conv1): Conv2d(64, 128, kernel_size=(3, 3), stride=(2, 2), padding=(1, 1), bias=False)\n",
      "      (bn1): BatchNorm2d(128, eps=1e-05, momentum=0.1, affine=True, track_running_stats=True)\n",
      "      (relu): ReLU(inplace=True)\n",
      "      (conv2): Conv2d(128, 128, kernel_size=(3, 3), stride=(1, 1), padding=(1, 1), bias=False)\n",
      "      (bn2): BatchNorm2d(128, eps=1e-05, momentum=0.1, affine=True, track_running_stats=True)\n",
      "      (downsample): Sequential(\n",
      "        (0): Conv2d(64, 128, kernel_size=(1, 1), stride=(2, 2), bias=False)\n",
      "        (1): BatchNorm2d(128, eps=1e-05, momentum=0.1, affine=True, track_running_stats=True)\n",
      "      )\n",
      "    )\n",
      "    (1): BasicBlock(\n",
      "      (conv1): Conv2d(128, 128, kernel_size=(3, 3), stride=(1, 1), padding=(1, 1), bias=False)\n",
      "      (bn1): BatchNorm2d(128, eps=1e-05, momentum=0.1, affine=True, track_running_stats=True)\n",
      "      (relu): ReLU(inplace=True)\n",
      "      (conv2): Conv2d(128, 128, kernel_size=(3, 3), stride=(1, 1), padding=(1, 1), bias=False)\n",
      "      (bn2): BatchNorm2d(128, eps=1e-05, momentum=0.1, affine=True, track_running_stats=True)\n",
      "    )\n",
      "  )\n",
      "  (6): Sequential(\n",
      "    (0): BasicBlock(\n",
      "      (conv1): Conv2d(128, 256, kernel_size=(3, 3), stride=(2, 2), padding=(1, 1), bias=False)\n",
      "      (bn1): BatchNorm2d(256, eps=1e-05, momentum=0.1, affine=True, track_running_stats=True)\n",
      "      (relu): ReLU(inplace=True)\n",
      "      (conv2): Conv2d(256, 256, kernel_size=(3, 3), stride=(1, 1), padding=(1, 1), bias=False)\n",
      "      (bn2): BatchNorm2d(256, eps=1e-05, momentum=0.1, affine=True, track_running_stats=True)\n",
      "      (downsample): Sequential(\n",
      "        (0): Conv2d(128, 256, kernel_size=(1, 1), stride=(2, 2), bias=False)\n",
      "        (1): BatchNorm2d(256, eps=1e-05, momentum=0.1, affine=True, track_running_stats=True)\n",
      "      )\n",
      "    )\n",
      "    (1): BasicBlock(\n",
      "      (conv1): Conv2d(256, 256, kernel_size=(3, 3), stride=(1, 1), padding=(1, 1), bias=False)\n",
      "      (bn1): BatchNorm2d(256, eps=1e-05, momentum=0.1, affine=True, track_running_stats=True)\n",
      "      (relu): ReLU(inplace=True)\n",
      "      (conv2): Conv2d(256, 256, kernel_size=(3, 3), stride=(1, 1), padding=(1, 1), bias=False)\n",
      "      (bn2): BatchNorm2d(256, eps=1e-05, momentum=0.1, affine=True, track_running_stats=True)\n",
      "    )\n",
      "  )\n",
      "  (7): AdaptiveAvgPool2d(output_size=(1, 1))\n",
      ")\n"
     ]
    },
    {
     "name": "stderr",
     "output_type": "stream",
     "text": [
      "347it [00:17, 19.74it/s]"
     ]
    },
    {
     "name": "stdout",
     "output_type": "stream",
     "text": [
      "(0.7662587817135879, 0.19185095780040134)\n",
      "(0.7675117084661485, 0.1974272505649154)\n"
     ]
    },
    {
     "name": "stderr",
     "output_type": "stream",
     "text": [
      "\n"
     ]
    }
   ],
   "source": [
    "dist_iid = calc_dist_mean(resnet18_pretrained, id_val_loader, mean_embeds, \"mink\", nr_layers=-3)\n",
    "print(calc_mean_std(dist_iid[0]))\n",
    "print(calc_mean_std(dist_iid[1]))\n",
    "dist_ood = calc_dist_mean(resnet18_pretrained, val_loader, mean_embeds, \"mink\", nr_layers=-3)\n",
    "print(calc_mean_std(dist_ood[0]))\n",
    "print(calc_mean_std(dist_ood[1]))"
   ],
   "metadata": {
    "collapsed": false,
    "pycharm": {
     "name": "#%%\n"
    }
   }
  },
  {
   "cell_type": "code",
   "execution_count": 93,
   "outputs": [
    {
     "name": "stdout",
     "output_type": "stream",
     "text": [
      "AdaptiveAvgPool2d(output_size=(1, 1))\n",
      "Sequential(\n",
      "  (0): Conv2d(3, 64, kernel_size=(7, 7), stride=(2, 2), padding=(3, 3), bias=False)\n",
      "  (1): BatchNorm2d(64, eps=1e-05, momentum=0.1, affine=True, track_running_stats=True)\n",
      "  (2): ReLU(inplace=True)\n",
      "  (3): MaxPool2d(kernel_size=3, stride=2, padding=1, dilation=1, ceil_mode=False)\n",
      "  (4): Sequential(\n",
      "    (0): BasicBlock(\n",
      "      (conv1): Conv2d(64, 64, kernel_size=(3, 3), stride=(1, 1), padding=(1, 1), bias=False)\n",
      "      (bn1): BatchNorm2d(64, eps=1e-05, momentum=0.1, affine=True, track_running_stats=True)\n",
      "      (relu): ReLU(inplace=True)\n",
      "      (conv2): Conv2d(64, 64, kernel_size=(3, 3), stride=(1, 1), padding=(1, 1), bias=False)\n",
      "      (bn2): BatchNorm2d(64, eps=1e-05, momentum=0.1, affine=True, track_running_stats=True)\n",
      "    )\n",
      "    (1): BasicBlock(\n",
      "      (conv1): Conv2d(64, 64, kernel_size=(3, 3), stride=(1, 1), padding=(1, 1), bias=False)\n",
      "      (bn1): BatchNorm2d(64, eps=1e-05, momentum=0.1, affine=True, track_running_stats=True)\n",
      "      (relu): ReLU(inplace=True)\n",
      "      (conv2): Conv2d(64, 64, kernel_size=(3, 3), stride=(1, 1), padding=(1, 1), bias=False)\n",
      "      (bn2): BatchNorm2d(64, eps=1e-05, momentum=0.1, affine=True, track_running_stats=True)\n",
      "    )\n",
      "  )\n",
      "  (5): Sequential(\n",
      "    (0): BasicBlock(\n",
      "      (conv1): Conv2d(64, 128, kernel_size=(3, 3), stride=(2, 2), padding=(1, 1), bias=False)\n",
      "      (bn1): BatchNorm2d(128, eps=1e-05, momentum=0.1, affine=True, track_running_stats=True)\n",
      "      (relu): ReLU(inplace=True)\n",
      "      (conv2): Conv2d(128, 128, kernel_size=(3, 3), stride=(1, 1), padding=(1, 1), bias=False)\n",
      "      (bn2): BatchNorm2d(128, eps=1e-05, momentum=0.1, affine=True, track_running_stats=True)\n",
      "      (downsample): Sequential(\n",
      "        (0): Conv2d(64, 128, kernel_size=(1, 1), stride=(2, 2), bias=False)\n",
      "        (1): BatchNorm2d(128, eps=1e-05, momentum=0.1, affine=True, track_running_stats=True)\n",
      "      )\n",
      "    )\n",
      "    (1): BasicBlock(\n",
      "      (conv1): Conv2d(128, 128, kernel_size=(3, 3), stride=(1, 1), padding=(1, 1), bias=False)\n",
      "      (bn1): BatchNorm2d(128, eps=1e-05, momentum=0.1, affine=True, track_running_stats=True)\n",
      "      (relu): ReLU(inplace=True)\n",
      "      (conv2): Conv2d(128, 128, kernel_size=(3, 3), stride=(1, 1), padding=(1, 1), bias=False)\n",
      "      (bn2): BatchNorm2d(128, eps=1e-05, momentum=0.1, affine=True, track_running_stats=True)\n",
      "    )\n",
      "  )\n",
      "  (6): Sequential(\n",
      "    (0): BasicBlock(\n",
      "      (conv1): Conv2d(128, 256, kernel_size=(3, 3), stride=(2, 2), padding=(1, 1), bias=False)\n",
      "      (bn1): BatchNorm2d(256, eps=1e-05, momentum=0.1, affine=True, track_running_stats=True)\n",
      "      (relu): ReLU(inplace=True)\n",
      "      (conv2): Conv2d(256, 256, kernel_size=(3, 3), stride=(1, 1), padding=(1, 1), bias=False)\n",
      "      (bn2): BatchNorm2d(256, eps=1e-05, momentum=0.1, affine=True, track_running_stats=True)\n",
      "      (downsample): Sequential(\n",
      "        (0): Conv2d(128, 256, kernel_size=(1, 1), stride=(2, 2), bias=False)\n",
      "        (1): BatchNorm2d(256, eps=1e-05, momentum=0.1, affine=True, track_running_stats=True)\n",
      "      )\n",
      "    )\n",
      "    (1): BasicBlock(\n",
      "      (conv1): Conv2d(256, 256, kernel_size=(3, 3), stride=(1, 1), padding=(1, 1), bias=False)\n",
      "      (bn1): BatchNorm2d(256, eps=1e-05, momentum=0.1, affine=True, track_running_stats=True)\n",
      "      (relu): ReLU(inplace=True)\n",
      "      (conv2): Conv2d(256, 256, kernel_size=(3, 3), stride=(1, 1), padding=(1, 1), bias=False)\n",
      "      (bn2): BatchNorm2d(256, eps=1e-05, momentum=0.1, affine=True, track_running_stats=True)\n",
      "    )\n",
      "  )\n",
      "  (7): AdaptiveAvgPool2d(output_size=(1, 1))\n",
      ")\n"
     ]
    },
    {
     "name": "stderr",
     "output_type": "stream",
     "text": [
      "100%|██████████| 360/360 [00:20<00:00, 17.86it/s]"
     ]
    },
    {
     "name": "stdout",
     "output_type": "stream",
     "text": [
      "[[1.03079025e-01 9.32554994e-02 2.91884415e-01 6.32417167e-02\n",
      "  2.44392870e-01 1.63989274e-01 7.45648658e-02 1.60837345e-01\n",
      "  1.42723737e-01 3.74095972e-02 4.34687676e-02 6.22680398e-02\n",
      "  1.57945948e-01 1.21545605e-01 3.94698559e-02 2.15939655e-01\n",
      "  3.02931974e-02 1.07882529e-01 1.19910823e-01 1.23762847e-01\n",
      "  1.30726576e-01 2.10457428e-01 2.29852511e-01 2.72941479e-02\n",
      "  5.26532178e-02 6.52813011e-02 7.80750697e-02 1.99874614e-01\n",
      "  2.42577267e-01 1.60588226e-01 5.07706562e-02 6.89630474e-02\n",
      "  9.64239377e-02 1.70798941e-01 2.06209612e-02 8.23107012e-03\n",
      "  3.78978362e-02 1.59796158e-01 1.79011868e-01 1.24405348e-02\n",
      "  5.65703072e-02 6.17422383e-02 1.88731858e-01 3.04911523e-02\n",
      "  2.11799150e-02 4.54004177e-01 2.11178783e-01 5.75053609e-02\n",
      "  8.24769987e-02 7.24392854e-02 6.37014055e-02 1.34808432e-01\n",
      "  5.79417419e-01 3.42582920e-01 6.42187290e-02 6.41060735e-02\n",
      "  2.18138345e-01 9.90464082e-02 1.05723625e-01 1.56220013e-01\n",
      "  1.68105941e-01 1.75770933e-01 2.54565412e-03 4.70536812e-02\n",
      "  1.23226535e-01 7.32921969e-03 3.38792110e-02 1.20563336e-01\n",
      "  4.80412413e-01 2.54056133e-02 2.00626546e-02 8.90472499e-02\n",
      "  2.57991936e-01 2.57559903e-02 2.89440157e-02 4.13507145e-01\n",
      "  2.99534651e-02 6.38613388e-03 1.01865258e-01 2.88772662e-02\n",
      "  4.66054638e-02 2.40194359e-01 8.72360514e-02 4.60273492e-02\n",
      "  4.99120045e-02 2.54945463e-01 2.04397951e-04 1.16222190e-01\n",
      "  6.08456035e-02 5.60372112e-01 7.08871673e-02 1.59565316e-02\n",
      "  2.90854330e-02 2.93586955e-01 1.66724564e-01 2.19533708e-01\n",
      "  2.37576569e-02 3.63306936e-01 1.52414071e-01 1.29266344e-01\n",
      "  5.87617822e-02 3.60620650e-02 7.86668036e-02 5.61948383e-02\n",
      "  1.03047180e-01 3.93625055e-02 3.21908408e-02 8.03574445e-02\n",
      "  7.82624013e-02 2.92811926e-01 1.82234073e-01 9.11782398e-02\n",
      "  1.39024092e-01 7.33981645e-02 5.23512540e-02 1.41909996e-01\n",
      "  1.69997907e-02 1.98442539e-01 5.91676073e-02 1.48503292e-01\n",
      "  3.93519835e-02 6.90541470e-02 4.74150911e-02 3.61506786e-02\n",
      "  3.02232187e-02 7.97759707e-02 7.69093286e-02 2.13482619e-02\n",
      "  5.41089862e-02 9.28551008e-02 9.68402232e-02 1.26017241e-01\n",
      "  6.30272812e-02 2.70793897e-02 5.04659056e-03 8.18371559e-02\n",
      "  2.54454188e-01 1.35152936e-02 7.99649194e-02 4.76897087e-02\n",
      "  4.20410843e-02 7.67769418e-03 5.75276090e-02 1.71549119e-02\n",
      "  9.26711574e-02 4.42416977e-02 1.56199433e-01 2.32690414e-01\n",
      "  9.45114149e-02 2.59336649e-03 1.35174721e-01 2.12857310e-01\n",
      "  1.71414707e-01 6.59677209e-02 1.19179382e-01 4.13023985e-02\n",
      "  2.04897788e-02 2.07445892e-01 2.51716327e-01 3.00018200e-01\n",
      "  8.87280213e-02 3.83302778e-02 2.42181059e-01 2.65694362e-01\n",
      "  3.56288110e-02 1.62115029e-02 6.36077314e-02 3.99304740e-02\n",
      "  1.97048453e-02 2.29727580e-01 1.22998895e-02 5.85980761e-02\n",
      "  5.60044557e-02 8.75111734e-02 8.83324368e-03 4.05544929e-02\n",
      "  5.12052255e-02 6.33604678e-02 2.24154784e-02 1.29054077e-01\n",
      "  1.63658883e-01 4.41336984e-02 9.60431289e-02 2.68958188e-02\n",
      "  3.61445418e-02 1.58166442e-01 3.15881084e-02 8.39019385e-02\n",
      "  8.81514109e-02 7.55438581e-02 4.99618937e-02 1.69328796e-01\n",
      "  1.78413599e-01 1.11636449e-01 4.53448158e-03 1.73993167e-01\n",
      "  2.08441675e-01 1.50821790e-01 9.25537292e-02 1.78269676e-01\n",
      "  1.67398690e-01 1.58216314e-02 9.92690625e-02 3.56575620e-03\n",
      "  4.06927826e-02 1.68072913e-02 2.09425625e-01 7.88666956e-02\n",
      "  2.23037551e-01 9.15686337e-02 9.57228524e-02 5.83196357e-02\n",
      "  3.70038722e-01 1.49873367e-02 1.72968336e-02 1.58144787e-01\n",
      "  7.38119336e-02 4.05688068e-02 1.39979143e-01 4.65210917e-02\n",
      "  2.44013812e-01 1.74400289e-01 2.67629406e-02 3.60682611e-02\n",
      "  1.03387867e-01 4.42550364e-02 1.31044684e-02 2.36687648e-02\n",
      "  9.71736231e-02 2.34838382e-02 1.13565436e-01 2.23329880e-01\n",
      "  1.15767228e-01 1.25666929e-01 5.47275641e-02 2.02050167e-02\n",
      "  4.19067737e-02 6.75441293e-02 2.87596824e-01 3.55983006e-02\n",
      "  2.30328423e-01 4.52982708e-02 9.97818006e-02 7.73193241e-02\n",
      "  1.66029795e-01 5.53604665e-02 2.41726873e-02 4.20666842e-02\n",
      "  6.87304189e-02 7.81589287e-02 3.91690500e-02 3.96753123e-02\n",
      "  3.19151283e-01 2.97063570e-02 8.05263877e-02 3.70254648e-02]\n",
      " [1.83458085e-01 1.98036683e-01 7.81438408e-02 3.28966824e-01\n",
      "  2.54772616e-01 8.79745601e-02 1.03201437e-01 1.37287009e-01\n",
      "  1.40840984e-01 3.28799226e-01 2.51152527e-01 1.30210528e-01\n",
      "  1.47977859e-01 1.00308478e-01 7.69254855e-02 2.11037097e-01\n",
      "  2.10237235e-01 4.90867947e-02 9.31690527e-02 4.69587057e-01\n",
      "  9.52314870e-02 4.33168613e-02 2.46081913e-01 8.45461081e-02\n",
      "  9.37064863e-02 4.70743025e-02 1.15757006e-02 2.60603522e-01\n",
      "  2.25983640e-01 1.31282589e-01 5.58718762e-02 7.07592569e-02\n",
      "  3.49444604e-01 4.20740727e-01 1.42083566e-01 8.03554351e-02\n",
      "  1.35775704e-02 3.03804095e-01 3.23270322e-01 2.51339398e-02\n",
      "  2.11293981e-01 2.51249020e-02 1.12039845e-01 3.60174574e-01\n",
      "  1.18965271e-02 2.69063795e-01 1.72858009e-01 1.17078791e-01\n",
      "  1.42938925e-01 8.47016630e-02 1.11469472e-01 8.54258143e-02\n",
      "  4.08474201e-01 1.60118419e-01 6.81193960e-03 8.96050651e-02\n",
      "  3.04509549e-01 1.10689003e-01 5.35077819e-02 1.87793634e-01\n",
      "  6.02681733e-01 7.26069566e-01 3.04114779e-02 2.73936985e-01\n",
      "  6.03773021e-02 5.35444952e-02 6.68175855e-02 8.12406864e-02\n",
      "  4.55877596e-01 6.56217539e-02 2.33679037e-01 3.66003218e-01\n",
      "  3.03155874e-01 2.74876480e-01 1.07446158e-01 1.10412556e-01\n",
      "  1.08357839e-01 4.14506977e-02 1.96641786e-01 5.74560225e-02\n",
      "  1.65492240e-01 5.65002671e-01 3.36686180e-02 1.00664911e-01\n",
      "  9.43817680e-02 5.65221483e-01 3.60404154e-02 1.05625159e-01\n",
      "  1.45709071e-01 3.05986249e-01 2.98250045e-02 8.65722441e-03\n",
      "  1.49549513e-01 1.34213055e-01 2.97562407e-01 2.96186084e-01\n",
      "  3.66718001e-02 2.52652574e-01 6.13172202e-02 1.11025973e-01\n",
      "  1.09199907e-01 6.47552593e-02 3.04097593e-01 1.74420117e-01\n",
      "  7.46747138e-02 1.86433163e-02 2.85230136e-02 1.63889651e-01\n",
      "  8.09410425e-02 3.89185132e-01 3.95405752e-01 2.20233690e-01\n",
      "  2.12701508e-01 3.44074293e-02 1.31106000e-01 5.99642039e-02\n",
      "  1.50471128e-02 1.16823903e-01 8.05840993e-02 1.71582291e-01\n",
      "  1.01367651e-01 6.75215485e-02 5.18491537e-02 9.67024688e-02\n",
      "  6.82043594e-02 9.58435648e-02 1.42672442e-01 1.62362544e-01\n",
      "  3.81226425e-01 1.19215322e-01 3.45012084e-01 1.05369016e-01\n",
      "  7.90117530e-02 6.58274753e-02 3.61484267e-02 1.04145191e-01\n",
      "  8.49174372e-02 9.67733857e-02 1.29987717e-01 9.67730204e-03\n",
      "  4.60680732e-02 2.46215653e-02 1.97791356e-01 1.01135881e-02\n",
      "  4.99099780e-02 1.02641474e-01 1.77429508e-01 1.86143646e-01\n",
      "  1.04447313e-01 4.88374042e-02 2.05661689e-01 3.50690623e-02\n",
      "  1.90017139e-01 5.76166917e-02 4.63102361e-02 1.91672295e-01\n",
      "  2.76329796e-01 1.56973686e-01 2.05943192e-01 4.37175870e-01\n",
      "  7.41845098e-02 7.39480154e-02 1.21850457e-01 1.04896851e-01\n",
      "  9.37759409e-02 2.24132262e-01 1.15803511e-01 1.07787431e-01\n",
      "  1.59678208e-01 5.18251985e-02 1.54175398e-02 3.89345086e-02\n",
      "  4.78037351e-02 5.65372097e-02 2.07324177e-02 3.50264722e-02\n",
      "  1.19136338e-01 9.88627648e-02 1.39513080e-01 1.37967879e-01\n",
      "  8.00116165e-02 2.36584846e-02 1.35559649e-01 4.49472698e-03\n",
      "  1.17773095e-01 7.93326598e-02 3.62724830e-01 1.03048571e-01\n",
      "  4.05404934e-02 1.00107213e-01 2.40440856e-01 2.07568678e-01\n",
      "  3.33742412e-01 9.34807541e-02 3.24659939e-02 1.39891300e-01\n",
      "  5.55280184e-02 2.27503584e-01 1.73359865e-01 1.89852752e-01\n",
      "  1.90118919e-01 3.64492151e-03 3.42230536e-02 1.03907378e-01\n",
      "  1.70920382e-01 6.45590787e-03 3.17886532e-01 2.77750953e-02\n",
      "  7.85316970e-02 3.28197355e-01 3.75607296e-01 3.50538734e-02\n",
      "  3.77742612e-01 1.54616218e-02 1.15083559e-01 9.67642365e-02\n",
      "  5.91554422e-02 2.08757868e-01 2.18051795e-01 1.42899302e-01\n",
      "  1.00666177e-01 1.32975233e-01 4.18676731e-02 2.64165726e-01\n",
      "  2.28518513e-01 9.95266364e-02 1.81620048e-02 2.16146796e-02\n",
      "  2.79430694e-01 7.18349508e-02 1.80715624e-01 5.53157674e-02\n",
      "  1.71996722e-01 2.18727713e-01 5.39825676e-02 7.12762505e-02\n",
      "  1.27873800e-01 1.36438867e-01 9.60209714e-02 2.08708641e-01\n",
      "  2.31341895e-01 7.53993543e-03 9.03685505e-02 4.39111878e-02\n",
      "  4.67524527e-01 9.90302947e-02 5.81526287e-02 7.34819270e-02\n",
      "  4.98933036e-02 1.49580700e-01 2.49925073e-02 9.00244288e-02\n",
      "  1.44653559e-01 2.72054349e-02 9.58763587e-02 6.62666988e-02]]\n"
     ]
    },
    {
     "name": "stderr",
     "output_type": "stream",
     "text": [
      "\n"
     ]
    }
   ],
   "source": [
    "mean_embeds_val = get_class_mean_embeddings(resnet18_pretrained, val_loader, nr_layers=-3)\n",
    "print(mean_embeds_val)"
   ],
   "metadata": {
    "collapsed": false,
    "pycharm": {
     "name": "#%%\n"
    }
   }
  },
  {
   "cell_type": "code",
   "execution_count": 94,
   "outputs": [
    {
     "name": "stdout",
     "output_type": "stream",
     "text": [
      "AdaptiveAvgPool2d(output_size=(1, 1))\n",
      "Sequential(\n",
      "  (0): Conv2d(3, 64, kernel_size=(7, 7), stride=(2, 2), padding=(3, 3), bias=False)\n",
      "  (1): BatchNorm2d(64, eps=1e-05, momentum=0.1, affine=True, track_running_stats=True)\n",
      "  (2): ReLU(inplace=True)\n",
      "  (3): MaxPool2d(kernel_size=3, stride=2, padding=1, dilation=1, ceil_mode=False)\n",
      "  (4): Sequential(\n",
      "    (0): BasicBlock(\n",
      "      (conv1): Conv2d(64, 64, kernel_size=(3, 3), stride=(1, 1), padding=(1, 1), bias=False)\n",
      "      (bn1): BatchNorm2d(64, eps=1e-05, momentum=0.1, affine=True, track_running_stats=True)\n",
      "      (relu): ReLU(inplace=True)\n",
      "      (conv2): Conv2d(64, 64, kernel_size=(3, 3), stride=(1, 1), padding=(1, 1), bias=False)\n",
      "      (bn2): BatchNorm2d(64, eps=1e-05, momentum=0.1, affine=True, track_running_stats=True)\n",
      "    )\n",
      "    (1): BasicBlock(\n",
      "      (conv1): Conv2d(64, 64, kernel_size=(3, 3), stride=(1, 1), padding=(1, 1), bias=False)\n",
      "      (bn1): BatchNorm2d(64, eps=1e-05, momentum=0.1, affine=True, track_running_stats=True)\n",
      "      (relu): ReLU(inplace=True)\n",
      "      (conv2): Conv2d(64, 64, kernel_size=(3, 3), stride=(1, 1), padding=(1, 1), bias=False)\n",
      "      (bn2): BatchNorm2d(64, eps=1e-05, momentum=0.1, affine=True, track_running_stats=True)\n",
      "    )\n",
      "  )\n",
      "  (5): Sequential(\n",
      "    (0): BasicBlock(\n",
      "      (conv1): Conv2d(64, 128, kernel_size=(3, 3), stride=(2, 2), padding=(1, 1), bias=False)\n",
      "      (bn1): BatchNorm2d(128, eps=1e-05, momentum=0.1, affine=True, track_running_stats=True)\n",
      "      (relu): ReLU(inplace=True)\n",
      "      (conv2): Conv2d(128, 128, kernel_size=(3, 3), stride=(1, 1), padding=(1, 1), bias=False)\n",
      "      (bn2): BatchNorm2d(128, eps=1e-05, momentum=0.1, affine=True, track_running_stats=True)\n",
      "      (downsample): Sequential(\n",
      "        (0): Conv2d(64, 128, kernel_size=(1, 1), stride=(2, 2), bias=False)\n",
      "        (1): BatchNorm2d(128, eps=1e-05, momentum=0.1, affine=True, track_running_stats=True)\n",
      "      )\n",
      "    )\n",
      "    (1): BasicBlock(\n",
      "      (conv1): Conv2d(128, 128, kernel_size=(3, 3), stride=(1, 1), padding=(1, 1), bias=False)\n",
      "      (bn1): BatchNorm2d(128, eps=1e-05, momentum=0.1, affine=True, track_running_stats=True)\n",
      "      (relu): ReLU(inplace=True)\n",
      "      (conv2): Conv2d(128, 128, kernel_size=(3, 3), stride=(1, 1), padding=(1, 1), bias=False)\n",
      "      (bn2): BatchNorm2d(128, eps=1e-05, momentum=0.1, affine=True, track_running_stats=True)\n",
      "    )\n",
      "  )\n",
      "  (6): Sequential(\n",
      "    (0): BasicBlock(\n",
      "      (conv1): Conv2d(128, 256, kernel_size=(3, 3), stride=(2, 2), padding=(1, 1), bias=False)\n",
      "      (bn1): BatchNorm2d(256, eps=1e-05, momentum=0.1, affine=True, track_running_stats=True)\n",
      "      (relu): ReLU(inplace=True)\n",
      "      (conv2): Conv2d(256, 256, kernel_size=(3, 3), stride=(1, 1), padding=(1, 1), bias=False)\n",
      "      (bn2): BatchNorm2d(256, eps=1e-05, momentum=0.1, affine=True, track_running_stats=True)\n",
      "      (downsample): Sequential(\n",
      "        (0): Conv2d(128, 256, kernel_size=(1, 1), stride=(2, 2), bias=False)\n",
      "        (1): BatchNorm2d(256, eps=1e-05, momentum=0.1, affine=True, track_running_stats=True)\n",
      "      )\n",
      "    )\n",
      "    (1): BasicBlock(\n",
      "      (conv1): Conv2d(256, 256, kernel_size=(3, 3), stride=(1, 1), padding=(1, 1), bias=False)\n",
      "      (bn1): BatchNorm2d(256, eps=1e-05, momentum=0.1, affine=True, track_running_stats=True)\n",
      "      (relu): ReLU(inplace=True)\n",
      "      (conv2): Conv2d(256, 256, kernel_size=(3, 3), stride=(1, 1), padding=(1, 1), bias=False)\n",
      "      (bn2): BatchNorm2d(256, eps=1e-05, momentum=0.1, affine=True, track_running_stats=True)\n",
      "    )\n",
      "  )\n",
      "  (7): AdaptiveAvgPool2d(output_size=(1, 1))\n",
      ")\n"
     ]
    },
    {
     "name": "stderr",
     "output_type": "stream",
     "text": [
      "100%|██████████| 347/347 [00:16<00:00, 21.17it/s]"
     ]
    },
    {
     "name": "stdout",
     "output_type": "stream",
     "text": [
      "[[9.44398790e-02 4.17343035e-02 2.78925616e-01 5.39471499e-02\n",
      "  1.15424816e-01 1.06197999e-01 1.14189213e-01 1.06198877e-01\n",
      "  6.73954716e-02 1.69919183e-02 4.22502874e-02 5.01476592e-02\n",
      "  1.24029062e-01 1.12372566e-01 2.92677864e-02 3.24198352e-01\n",
      "  1.43453335e-02 8.88023911e-02 1.21743495e-01 7.90776454e-02\n",
      "  1.70713969e-01 2.08803934e-01 2.57447182e-01 1.34650834e-02\n",
      "  2.55587766e-02 5.95566567e-02 1.41423063e-01 1.69574197e-01\n",
      "  2.41196247e-01 9.07171202e-02 5.36562166e-02 7.11065901e-02\n",
      "  4.76083989e-02 2.15842112e-01 1.28556675e-02 1.98849042e-02\n",
      "  8.08157940e-02 3.37793723e-01 1.56171699e-01 4.44945883e-02\n",
      "  3.33909358e-02 7.10355442e-02 2.99450681e-01 8.01538346e-03\n",
      "  1.16440136e-01 3.56537103e-01 2.43659484e-01 5.31006530e-02\n",
      "  4.11474557e-02 7.07121219e-02 9.56247290e-02 8.34229393e-02\n",
      "  6.69527951e-01 4.09844980e-01 2.03059547e-01 8.62793904e-02\n",
      "  1.41875425e-01 9.84102231e-02 1.38465702e-01 1.66108513e-01\n",
      "  1.28087475e-01 1.10359288e-01 1.38636928e-03 6.18836602e-02\n",
      "  1.19952214e-01 1.28648912e-02 5.79099740e-02 1.41944862e-01\n",
      "  3.22824885e-01 2.33681718e-02 1.00357485e-02 6.10464844e-02\n",
      "  2.26510585e-01 1.08231351e-02 1.90747664e-02 5.22101740e-01\n",
      "  2.71042166e-02 6.57940292e-03 7.52352615e-02 6.49185559e-02\n",
      "  5.49975928e-02 1.00209727e-01 1.16132879e-01 4.68633489e-02\n",
      "  4.67382504e-02 1.88594397e-01 1.86625718e-05 8.13226375e-02\n",
      "  5.61750118e-02 5.76247042e-01 2.62003540e-01 4.34423966e-02\n",
      "  2.07288997e-02 3.46923882e-01 9.83198061e-02 1.80022963e-01\n",
      "  3.41199797e-02 3.25144258e-01 1.56004250e-01 1.23343400e-01\n",
      "  3.16630051e-02 5.97562333e-02 9.46954907e-02 9.33589182e-02\n",
      "  8.23855583e-02 1.18761920e-01 5.77376185e-02 7.81870070e-02\n",
      "  7.17489426e-02 1.93226821e-01 7.99735678e-02 1.93662765e-01\n",
      "  1.62852042e-01 8.38944771e-02 2.92331504e-02 2.00209464e-01\n",
      "  4.00794716e-02 2.38635835e-01 8.94743151e-02 1.03954438e-01\n",
      "  2.26401933e-02 7.78033696e-02 2.52105849e-02 5.29337368e-02\n",
      "  1.75738370e-02 1.38492518e-01 8.15056100e-02 1.16740425e-02\n",
      "  2.28392425e-02 5.57139286e-02 3.02839207e-02 1.21281169e-01\n",
      "  1.36592639e-01 2.80740631e-02 2.50862449e-02 8.46309177e-02\n",
      "  2.94428439e-01 3.34396357e-03 7.15226855e-02 8.49655823e-02\n",
      "  5.14232577e-02 6.26879505e-03 6.82274430e-02 3.13392325e-02\n",
      "  1.24291616e-01 4.32466432e-02 1.33443930e-01 1.46275031e-01\n",
      "  1.36347407e-01 1.15573709e-03 1.03579626e-01 2.86963076e-01\n",
      "  1.69582294e-01 7.11207570e-02 1.42491500e-01 1.71570602e-02\n",
      "  8.70903643e-03 1.74314318e-01 2.63627351e-01 3.03703918e-01\n",
      "  6.43163330e-02 4.31742829e-02 3.15267455e-01 2.05793566e-01\n",
      "  4.56341639e-02 6.27338952e-03 4.87555857e-02 1.86537938e-02\n",
      "  8.26397284e-03 3.42206982e-01 4.51009981e-02 1.56215755e-01\n",
      "  9.77597980e-02 6.06349861e-02 1.33132575e-02 6.75381229e-02\n",
      "  8.09557606e-02 8.58473888e-02 3.09330681e-02 1.20103736e-01\n",
      "  9.44821591e-02 1.03782801e-01 7.25435009e-02 7.91919516e-02\n",
      "  1.57687251e-02 1.88504066e-01 4.28333882e-02 3.39347754e-02\n",
      "  1.19186346e-01 3.00788873e-02 2.47644259e-02 1.27343498e-01\n",
      "  1.64169859e-01 1.54034860e-01 5.52134787e-03 9.45990320e-02\n",
      "  3.35054835e-01 1.11270111e-01 4.63097395e-02 9.86373486e-02\n",
      "  8.06333031e-02 2.63874391e-02 1.78363112e-01 9.01542327e-04\n",
      "  1.58597638e-02 1.48300909e-02 1.57879022e-01 1.30099101e-01\n",
      "  2.22579121e-01 5.51683644e-02 6.53196404e-02 4.26830632e-02\n",
      "  1.93692828e-01 1.59370844e-02 6.01945582e-03 1.19928166e-01\n",
      "  9.16487611e-02 2.08847929e-02 9.37820883e-02 3.72544646e-02\n",
      "  2.20592631e-01 1.36935965e-01 4.29958684e-02 9.94432441e-03\n",
      "  6.36044727e-02 3.49095053e-02 2.50714383e-02 7.85800771e-02\n",
      "  3.50188517e-02 3.22477439e-02 1.29542526e-01 3.26361332e-01\n",
      "  8.08662406e-02 9.45524262e-02 4.79137665e-02 4.96616609e-02\n",
      "  2.65834980e-02 6.72128329e-02 2.66682879e-01 2.20570739e-02\n",
      "  3.13463397e-01 3.83852253e-02 8.86422063e-02 1.09718125e-01\n",
      "  1.16948571e-01 7.71263576e-02 1.87715093e-02 3.04206589e-02\n",
      "  5.14562350e-02 6.40496367e-02 4.40448970e-02 5.27509701e-02\n",
      "  2.08070412e-01 5.18428495e-02 8.56905239e-02 3.33079399e-02]\n",
      " [2.76312072e-01 3.34335717e-01 1.00091295e-01 1.34513880e-01\n",
      "  1.40162386e-01 1.84698828e-01 6.09666223e-02 8.69938075e-02\n",
      "  1.48708012e-01 3.36784641e-01 1.97694445e-01 2.28871984e-01\n",
      "  1.65636577e-01 9.91840218e-02 7.71734212e-02 1.58592002e-01\n",
      "  2.41328990e-01 4.89706189e-02 1.21167726e-01 4.88727653e-01\n",
      "  8.56730089e-02 4.54035280e-02 2.56579301e-01 7.07220796e-02\n",
      "  5.61364434e-02 2.47116890e-02 4.50883435e-02 1.29459371e-01\n",
      "  2.26724439e-01 8.98506246e-02 4.41802028e-02 1.47797737e-01\n",
      "  2.72265711e-01 3.66901362e-01 1.83044073e-01 1.50373725e-01\n",
      "  4.37075390e-02 2.98977788e-01 3.81616992e-01 9.84265361e-02\n",
      "  2.17375136e-01 2.14855995e-02 1.25598618e-01 3.54982058e-01\n",
      "  6.12967587e-02 9.94998911e-02 1.80623360e-01 1.14655459e-01\n",
      "  1.56972538e-01 1.35162282e-01 1.04091666e-01 5.54004768e-02\n",
      "  2.79582191e-01 1.19862498e-01 3.43148070e-02 1.89797037e-01\n",
      "  1.69392189e-01 1.88415853e-01 1.07528659e-01 3.01382414e-01\n",
      "  5.87570714e-01 7.43322003e-01 3.38517898e-02 1.98540122e-01\n",
      "  1.18034714e-01 1.48546402e-01 7.93301921e-02 8.59988862e-02\n",
      "  3.57409524e-01 8.81104679e-02 1.41690885e-01 3.34564095e-01\n",
      "  1.92583580e-01 2.18508547e-01 6.25884678e-02 6.97185585e-02\n",
      "  1.96286371e-01 1.89189046e-01 1.06736589e-01 1.04338496e-01\n",
      "  1.40183373e-01 2.13079995e-01 3.28891474e-02 1.16377793e-01\n",
      "  1.00313698e-01 5.17390428e-01 3.34641430e-02 7.95687846e-02\n",
      "  1.57507997e-01 2.24439599e-01 1.79576630e-01 1.66109819e-02\n",
      "  2.01687620e-01 1.81761704e-01 2.26831657e-01 1.93099431e-01\n",
      "  6.85474533e-02 1.05981658e-01 9.12823710e-02 9.75168188e-02\n",
      "  7.70103839e-02 9.35762541e-02 2.61865727e-01 2.01574538e-01\n",
      "  1.83082176e-01 1.10606017e-01 7.70348929e-02 2.07523075e-01\n",
      "  1.15759485e-01 1.89698577e-01 2.12489475e-01 2.58657611e-01\n",
      "  1.23752064e-01 8.30242290e-02 7.32252484e-02 5.99022383e-02\n",
      "  6.32312065e-02 1.20481197e-01 3.76300441e-02 1.20035632e-01\n",
      "  1.40514729e-01 8.18148580e-02 8.72192549e-02 1.29972217e-01\n",
      "  9.32202706e-02 2.24391770e-01 1.67551636e-01 1.43831984e-01\n",
      "  2.63171706e-01 3.70270276e-02 2.09542962e-01 8.95827413e-02\n",
      "  1.46777790e-01 7.06379895e-02 1.12096020e-01 9.08002865e-02\n",
      "  6.86386505e-02 4.60725375e-02 8.34641744e-02 1.70300315e-02\n",
      "  1.68894984e-01 2.86792956e-02 2.12501210e-01 1.67049533e-02\n",
      "  1.36409763e-01 1.43858307e-01 1.86115544e-01 1.78755044e-01\n",
      "  1.25291887e-01 8.43581906e-02 1.61807795e-01 5.92836412e-02\n",
      "  1.63617089e-01 7.46768500e-02 5.81093498e-02 1.82913792e-01\n",
      "  1.31386235e-01 6.58037398e-02 1.71235735e-01 3.53311911e-01\n",
      "  1.52599148e-01 1.21511264e-01 9.87949000e-02 1.00719314e-01\n",
      "  1.37903814e-01 1.75856816e-01 1.47387252e-01 1.07705498e-01\n",
      "  1.18469918e-01 6.95416429e-02 1.84406475e-02 1.89110958e-01\n",
      "  4.92545689e-02 1.26778696e-01 5.08275799e-02 4.55067674e-02\n",
      "  1.78883670e-01 1.12223516e-01 8.96961066e-02 9.99640308e-02\n",
      "  8.88948158e-02 3.78832620e-02 1.67379968e-01 4.14844502e-02\n",
      "  1.53863254e-01 8.51555590e-02 2.18357470e-01 1.59426099e-01\n",
      "  8.68736335e-02 8.36011672e-02 3.26969527e-01 2.14460005e-01\n",
      "  2.90656012e-01 5.01496025e-02 1.09427249e-01 5.95011104e-02\n",
      "  3.08073093e-02 2.39412451e-01 8.71800786e-02 1.93470101e-01\n",
      "  2.11494341e-01 5.90203845e-03 2.61287021e-02 9.13611971e-02\n",
      "  1.63037629e-01 1.28617355e-02 4.81553941e-01 3.62079165e-02\n",
      "  1.23732825e-01 3.44964019e-01 2.45524540e-01 1.32320816e-02\n",
      "  2.07712868e-01 8.16424539e-02 1.32905683e-01 1.31007649e-01\n",
      "  1.05398172e-01 2.19062694e-01 1.32281783e-01 1.48329606e-01\n",
      "  1.39739721e-01 9.54384349e-02 1.20523534e-01 1.87981447e-01\n",
      "  1.41060147e-01 1.00231200e-01 4.40331239e-02 8.81046660e-02\n",
      "  2.02917346e-01 1.20870577e-01 1.77564426e-01 3.22776329e-02\n",
      "  1.06943334e-01 1.79678315e-01 7.45113641e-02 2.82997527e-01\n",
      "  8.17928395e-02 1.39407896e-01 1.76305441e-01 2.21487554e-01\n",
      "  2.11631493e-01 4.31031869e-03 9.56778774e-02 1.16141615e-01\n",
      "  4.74222195e-01 1.41143272e-01 7.82193350e-02 7.10685360e-02\n",
      "  3.97244374e-02 9.41021753e-02 5.21063202e-02 1.02747937e-01\n",
      "  1.03502476e-01 7.70144841e-02 1.05794899e-01 8.27580648e-02]]\n"
     ]
    },
    {
     "name": "stderr",
     "output_type": "stream",
     "text": [
      "\n"
     ]
    }
   ],
   "source": [
    "mean_embeds_id_val = get_class_mean_embeddings(resnet18_pretrained, id_val_loader, nr_layers=-3)\n",
    "print(mean_embeds_id_val)"
   ],
   "metadata": {
    "collapsed": false,
    "pycharm": {
     "name": "#%%\n"
    }
   }
  },
  {
   "cell_type": "code",
   "execution_count": 95,
   "outputs": [],
   "source": [
    "mean_embeds = torch.as_tensor(mean_embeds, dtype=torch.float, device=device)\n",
    "mean_embeds_val = torch.as_tensor(mean_embeds_val, dtype=torch.float, device=device)\n",
    "mean_embeds_id_val = torch.as_tensor(mean_embeds_id_val, dtype=torch.float, device=device)"
   ],
   "metadata": {
    "collapsed": false,
    "pycharm": {
     "name": "#%%\n"
    }
   }
  },
  {
   "cell_type": "code",
   "execution_count": 96,
   "outputs": [
    {
     "name": "stdout",
     "output_type": "stream",
     "text": [
      "l2 dist between embeds mean:\n",
      "tensor(0.7717, device='cuda:0')\n",
      "tensor(1.0831, device='cuda:0')\n",
      "tensor(0.0298, device='cuda:0')\n",
      "tensor(0.0180, device='cuda:0')\n",
      "cos sim between embeds mean:\n",
      "tensor([0.9444], device='cuda:0')\n",
      "tensor([0.9329], device='cuda:0')\n",
      "tensor([0.9999], device='cuda:0')\n",
      "tensor([1.0000], device='cuda:0')\n",
      "minkowski dist between embeds mean:\n",
      "tensor([[0.3909]], device='cuda:0')\n",
      "tensor([[0.5523]], device='cuda:0')\n",
      "tensor([[0.0154]], device='cuda:0')\n",
      "tensor([[0.0088]], device='cuda:0')\n"
     ]
    }
   ],
   "source": [
    "print(\"l2 dist between embeds mean:\")\n",
    "print(torch.nn.functional.pairwise_distance(mean_embeds_val[0], mean_embeds[0]))\n",
    "print(torch.nn.functional.pairwise_distance(mean_embeds_val[1], mean_embeds[1]))\n",
    "\n",
    "print(torch.nn.functional.pairwise_distance(mean_embeds_id_val[0], mean_embeds[0]))\n",
    "print(torch.nn.functional.pairwise_distance(mean_embeds_id_val[1], mean_embeds[1]))\n",
    "print(\"cos sim between embeds mean:\")\n",
    "cos = nn.CosineSimilarity(dim=1, eps=1e-6)\n",
    "print(cos(mean_embeds_val[0].reshape(1, -1), mean_embeds[0].reshape(1, -1)))\n",
    "print(cos(mean_embeds_val[1].reshape(1, -1), mean_embeds[1].reshape(1, -1)))\n",
    "\n",
    "print(cos(mean_embeds_id_val[0].reshape(1, -1), mean_embeds[0].reshape(1, -1)))\n",
    "print(cos(mean_embeds_id_val[1].reshape(1, -1), mean_embeds[1].reshape(1, -1)))\n",
    "\n",
    "print(\"minkowski dist between embeds mean:\")\n",
    "print(torch.cdist(mean_embeds_val[0].reshape(1, -1), mean_embeds[0].reshape(1, -1), p=3))\n",
    "print(torch.cdist(mean_embeds_val[1].reshape(1, -1), mean_embeds[1].reshape(1, -1), p=3))\n",
    "\n",
    "print(torch.cdist(mean_embeds_id_val[0].reshape(1, -1), mean_embeds[0].reshape(1, -1), p=3))\n",
    "print(torch.cdist(mean_embeds_id_val[1].reshape(1, -1), mean_embeds[1].reshape(1, -1), p=3))"
   ],
   "metadata": {
    "collapsed": false,
    "pycharm": {
     "name": "#%%\n"
    }
   }
  },
  {
   "cell_type": "code",
   "execution_count": 98,
   "outputs": [
    {
     "ename": "RuntimeError",
     "evalue": "Error(s) in loading state_dict for ResNet:\n\tMissing key(s) in state_dict: \"conv1.weight\", \"bn1.weight\", \"bn1.bias\", \"bn1.running_mean\", \"bn1.running_var\", \"layer1.0.conv1.weight\", \"layer1.0.bn1.weight\", \"layer1.0.bn1.bias\", \"layer1.0.bn1.running_mean\", \"layer1.0.bn1.running_var\", \"layer1.0.conv2.weight\", \"layer1.0.bn2.weight\", \"layer1.0.bn2.bias\", \"layer1.0.bn2.running_mean\", \"layer1.0.bn2.running_var\", \"layer1.0.conv3.weight\", \"layer1.0.bn3.weight\", \"layer1.0.bn3.bias\", \"layer1.0.bn3.running_mean\", \"layer1.0.bn3.running_var\", \"layer1.0.downsample.0.weight\", \"layer1.0.downsample.1.weight\", \"layer1.0.downsample.1.bias\", \"layer1.0.downsample.1.running_mean\", \"layer1.0.downsample.1.running_var\", \"layer1.1.conv1.weight\", \"layer1.1.bn1.weight\", \"layer1.1.bn1.bias\", \"layer1.1.bn1.running_mean\", \"layer1.1.bn1.running_var\", \"layer1.1.conv2.weight\", \"layer1.1.bn2.weight\", \"layer1.1.bn2.bias\", \"layer1.1.bn2.running_mean\", \"layer1.1.bn2.running_var\", \"layer1.1.conv3.weight\", \"layer1.1.bn3.weight\", \"layer1.1.bn3.bias\", \"layer1.1.bn3.running_mean\", \"layer1.1.bn3.running_var\", \"layer1.2.conv1.weight\", \"layer1.2.bn1.weight\", \"layer1.2.bn1.bias\", \"layer1.2.bn1.running_mean\", \"layer1.2.bn1.running_var\", \"layer1.2.conv2.weight\", \"layer1.2.bn2.weight\", \"layer1.2.bn2.bias\", \"layer1.2.bn2.running_mean\", \"layer1.2.bn2.running_var\", \"layer1.2.conv3.weight\", \"layer1.2.bn3.weight\", \"layer1.2.bn3.bias\", \"layer1.2.bn3.running_mean\", \"layer1.2.bn3.running_var\", \"layer2.0.conv1.weight\", \"layer2.0.bn1.weight\", \"layer2.0.bn1.bias\", \"layer2.0.bn1.running_mean\", \"layer2.0.bn1.running_var\", \"layer2.0.conv2.weight\", \"layer2.0.bn2.weight\", \"layer2.0.bn2.bias\", \"layer2.0.bn2.running_mean\", \"layer2.0.bn2.running_var\", \"layer2.0.conv3.weight\", \"layer2.0.bn3.weight\", \"layer2.0.bn3.bias\", \"layer2.0.bn3.running_mean\", \"layer2.0.bn3.running_var\", \"layer2.0.downsample.0.weight\", \"layer2.0.downsample.1.weight\", \"layer2.0.downsample.1.bias\", \"layer2.0.downsample.1.running_mean\", \"layer2.0.downsample.1.running_var\", \"layer2.1.conv1.weight\", \"layer2.1.bn1.weight\", \"layer2.1.bn1.bias\", \"layer2.1.bn1.running_mean\", \"layer2.1.bn1.running_var\", \"layer2.1.conv2.weight\", \"layer2.1.bn2.weight\", \"layer2.1.bn2.bias\", \"layer2.1.bn2.running_mean\", \"layer2.1.bn2.running_var\", \"layer2.1.conv3.weight\", \"layer2.1.bn3.weight\", \"layer2.1.bn3.bias\", \"layer2.1.bn3.running_mean\", \"layer2.1.bn3.running_var\", \"layer2.2.conv1.weight\", \"layer2.2.bn1.weight\", \"layer2.2.bn1.bias\", \"layer2.2.bn1.running_mean\", \"layer2.2.bn1.running_var\", \"layer2.2.conv2.weight\", \"layer2.2.bn2.weight\", \"layer2.2.bn2.bias\", \"layer2.2.bn2.running_mean\", \"layer2.2.bn2.running_var\", \"layer2.2.conv3.weight\", \"layer2.2.bn3.weight\", \"layer2.2.bn3.bias\", \"layer2.2.bn3.running_mean\", \"layer2.2.bn3.running_var\", \"layer2.3.conv1.weight\", \"layer2.3.bn1.weight\", \"layer2.3.bn1.bias\", \"layer2.3.bn1.running_mean\", \"layer2.3.bn1.running_var\", \"layer2.3.conv2.weight\", \"layer2.3.bn2.weight\", \"layer2.3.bn2.bias\", \"layer2.3.bn2.running_mean\", \"layer2.3.bn2.running_var\", \"layer2.3.conv3.weight\", \"layer2.3.bn3.weight\", \"layer2.3.bn3.bias\", \"layer2.3.bn3.running_mean\", \"layer2.3.bn3.running_var\", \"layer3.0.conv1.weight\", \"layer3.0.bn1.weight\", \"layer3.0.bn1.bias\", \"layer3.0.bn1.running_mean\", \"layer3.0.bn1.running_var\", \"layer3.0.conv2.weight\", \"layer3.0.bn2.weight\", \"layer3.0.bn2.bias\", \"layer3.0.bn2.running_mean\", \"layer3.0.bn2.running_var\", \"layer3.0.conv3.weight\", \"layer3.0.bn3.weight\", \"layer3.0.bn3.bias\", \"layer3.0.bn3.running_mean\", \"layer3.0.bn3.running_var\", \"layer3.0.downsample.0.weight\", \"layer3.0.downsample.1.weight\", \"layer3.0.downsample.1.bias\", \"layer3.0.downsample.1.running_mean\", \"layer3.0.downsample.1.running_var\", \"layer3.1.conv1.weight\", \"layer3.1.bn1.weight\", \"layer3.1.bn1.bias\", \"layer3.1.bn1.running_mean\", \"layer3.1.bn1.running_var\", \"layer3.1.conv2.weight\", \"layer3.1.bn2.weight\", \"layer3.1.bn2.bias\", \"layer3.1.bn2.running_mean\", \"layer3.1.bn2.running_var\", \"layer3.1.conv3.weight\", \"layer3.1.bn3.weight\", \"layer3.1.bn3.bias\", \"layer3.1.bn3.running_mean\", \"layer3.1.bn3.running_var\", \"layer3.2.conv1.weight\", \"layer3.2.bn1.weight\", \"layer3.2.bn1.bias\", \"layer3.2.bn1.running_mean\", \"layer3.2.bn1.running_var\", \"layer3.2.conv2.weight\", \"layer3.2.bn2.weight\", \"layer3.2.bn2.bias\", \"layer3.2.bn2.running_mean\", \"layer3.2.bn2.running_var\", \"layer3.2.conv3.weight\", \"layer3.2.bn3.weight\", \"layer3.2.bn3.bias\", \"layer3.2.bn3.running_mean\", \"layer3.2.bn3.running_var\", \"layer3.3.conv1.weight\", \"layer3.3.bn1.weight\", \"layer3.3.bn1.bias\", \"layer3.3.bn1.running_mean\", \"layer3.3.bn1.running_var\", \"layer3.3.conv2.weight\", \"layer3.3.bn2.weight\", \"layer3.3.bn2.bias\", \"layer3.3.bn2.running_mean\", \"layer3.3.bn2.running_var\", \"layer3.3.conv3.weight\", \"layer3.3.bn3.weight\", \"layer3.3.bn3.bias\", \"layer3.3.bn3.running_mean\", \"layer3.3.bn3.running_var\", \"layer3.4.conv1.weight\", \"layer3.4.bn1.weight\", \"layer3.4.bn1.bias\", \"layer3.4.bn1.running_mean\", \"layer3.4.bn1.running_var\", \"layer3.4.conv2.weight\", \"layer3.4.bn2.weight\", \"layer3.4.bn2.bias\", \"layer3.4.bn2.running_mean\", \"layer3.4.bn2.running_var\", \"layer3.4.conv3.weight\", \"layer3.4.bn3.weight\", \"layer3.4.bn3.bias\", \"layer3.4.bn3.running_mean\", \"layer3.4.bn3.running_var\", \"layer3.5.conv1.weight\", \"layer3.5.bn1.weight\", \"layer3.5.bn1.bias\", \"layer3.5.bn1.running_mean\", \"layer3.5.bn1.running_var\", \"layer3.5.conv2.weight\", \"layer3.5.bn2.weight\", \"layer3.5.bn2.bias\", \"layer3.5.bn2.running_mean\", \"layer3.5.bn2.running_var\", \"layer3.5.conv3.weight\", \"layer3.5.bn3.weight\", \"layer3.5.bn3.bias\", \"layer3.5.bn3.running_mean\", \"layer3.5.bn3.running_var\", \"layer4.0.conv1.weight\", \"layer4.0.bn1.weight\", \"layer4.0.bn1.bias\", \"layer4.0.bn1.running_mean\", \"layer4.0.bn1.running_var\", \"layer4.0.conv2.weight\", \"layer4.0.bn2.weight\", \"layer4.0.bn2.bias\", \"layer4.0.bn2.running_mean\", \"layer4.0.bn2.running_var\", \"layer4.0.conv3.weight\", \"layer4.0.bn3.weight\", \"layer4.0.bn3.bias\", \"layer4.0.bn3.running_mean\", \"layer4.0.bn3.running_var\", \"layer4.0.downsample.0.weight\", \"layer4.0.downsample.1.weight\", \"layer4.0.downsample.1.bias\", \"layer4.0.downsample.1.running_mean\", \"layer4.0.downsample.1.running_var\", \"layer4.1.conv1.weight\", \"layer4.1.bn1.weight\", \"layer4.1.bn1.bias\", \"layer4.1.bn1.running_mean\", \"layer4.1.bn1.running_var\", \"layer4.1.conv2.weight\", \"layer4.1.bn2.weight\", \"layer4.1.bn2.bias\", \"layer4.1.bn2.running_mean\", \"layer4.1.bn2.running_var\", \"layer4.1.conv3.weight\", \"layer4.1.bn3.weight\", \"layer4.1.bn3.bias\", \"layer4.1.bn3.running_mean\", \"layer4.1.bn3.running_var\", \"layer4.2.conv1.weight\", \"layer4.2.bn1.weight\", \"layer4.2.bn1.bias\", \"layer4.2.bn1.running_mean\", \"layer4.2.bn1.running_var\", \"layer4.2.conv2.weight\", \"layer4.2.bn2.weight\", \"layer4.2.bn2.bias\", \"layer4.2.bn2.running_mean\", \"layer4.2.bn2.running_var\", \"layer4.2.conv3.weight\", \"layer4.2.bn3.weight\", \"layer4.2.bn3.bias\", \"layer4.2.bn3.running_mean\", \"layer4.2.bn3.running_var\", \"fc.weight\", \"fc.bias\". \n\tUnexpected key(s) in state_dict: \"features.conv0.weight\", \"features.norm0.weight\", \"features.norm0.bias\", \"features.norm0.running_mean\", \"features.norm0.running_var\", \"features.norm0.num_batches_tracked\", \"features.denseblock1.denselayer1.norm1.weight\", \"features.denseblock1.denselayer1.norm1.bias\", \"features.denseblock1.denselayer1.norm1.running_mean\", \"features.denseblock1.denselayer1.norm1.running_var\", \"features.denseblock1.denselayer1.norm1.num_batches_tracked\", \"features.denseblock1.denselayer1.conv1.weight\", \"features.denseblock1.denselayer1.norm2.weight\", \"features.denseblock1.denselayer1.norm2.bias\", \"features.denseblock1.denselayer1.norm2.running_mean\", \"features.denseblock1.denselayer1.norm2.running_var\", \"features.denseblock1.denselayer1.norm2.num_batches_tracked\", \"features.denseblock1.denselayer1.conv2.weight\", \"features.denseblock1.denselayer2.norm1.weight\", \"features.denseblock1.denselayer2.norm1.bias\", \"features.denseblock1.denselayer2.norm1.running_mean\", \"features.denseblock1.denselayer2.norm1.running_var\", \"features.denseblock1.denselayer2.norm1.num_batches_tracked\", \"features.denseblock1.denselayer2.conv1.weight\", \"features.denseblock1.denselayer2.norm2.weight\", \"features.denseblock1.denselayer2.norm2.bias\", \"features.denseblock1.denselayer2.norm2.running_mean\", \"features.denseblock1.denselayer2.norm2.running_var\", \"features.denseblock1.denselayer2.norm2.num_batches_tracked\", \"features.denseblock1.denselayer2.conv2.weight\", \"features.denseblock1.denselayer3.norm1.weight\", \"features.denseblock1.denselayer3.norm1.bias\", \"features.denseblock1.denselayer3.norm1.running_mean\", \"features.denseblock1.denselayer3.norm1.running_var\", \"features.denseblock1.denselayer3.norm1.num_batches_tracked\", \"features.denseblock1.denselayer3.conv1.weight\", \"features.denseblock1.denselayer3.norm2.weight\", \"features.denseblock1.denselayer3.norm2.bias\", \"features.denseblock1.denselayer3.norm2.running_mean\", \"features.denseblock1.denselayer3.norm2.running_var\", \"features.denseblock1.denselayer3.norm2.num_batches_tracked\", \"features.denseblock1.denselayer3.conv2.weight\", \"features.denseblock1.denselayer4.norm1.weight\", \"features.denseblock1.denselayer4.norm1.bias\", \"features.denseblock1.denselayer4.norm1.running_mean\", \"features.denseblock1.denselayer4.norm1.running_var\", \"features.denseblock1.denselayer4.norm1.num_batches_tracked\", \"features.denseblock1.denselayer4.conv1.weight\", \"features.denseblock1.denselayer4.norm2.weight\", \"features.denseblock1.denselayer4.norm2.bias\", \"features.denseblock1.denselayer4.norm2.running_mean\", \"features.denseblock1.denselayer4.norm2.running_var\", \"features.denseblock1.denselayer4.norm2.num_batches_tracked\", \"features.denseblock1.denselayer4.conv2.weight\", \"features.denseblock1.denselayer5.norm1.weight\", \"features.denseblock1.denselayer5.norm1.bias\", \"features.denseblock1.denselayer5.norm1.running_mean\", \"features.denseblock1.denselayer5.norm1.running_var\", \"features.denseblock1.denselayer5.norm1.num_batches_tracked\", \"features.denseblock1.denselayer5.conv1.weight\", \"features.denseblock1.denselayer5.norm2.weight\", \"features.denseblock1.denselayer5.norm2.bias\", \"features.denseblock1.denselayer5.norm2.running_mean\", \"features.denseblock1.denselayer5.norm2.running_var\", \"features.denseblock1.denselayer5.norm2.num_batches_tracked\", \"features.denseblock1.denselayer5.conv2.weight\", \"features.denseblock1.denselayer6.norm1.weight\", \"features.denseblock1.denselayer6.norm1.bias\", \"features.denseblock1.denselayer6.norm1.running_mean\", \"features.denseblock1.denselayer6.norm1.running_var\", \"features.denseblock1.denselayer6.norm1.num_batches_tracked\", \"features.denseblock1.denselayer6.conv1.weight\", \"features.denseblock1.denselayer6.norm2.weight\", \"features.denseblock1.denselayer6.norm2.bias\", \"features.denseblock1.denselayer6.norm2.running_mean\", \"features.denseblock1.denselayer6.norm2.running_var\", \"features.denseblock1.denselayer6.norm2.num_batches_tracked\", \"features.denseblock1.denselayer6.conv2.weight\", \"features.transition1.norm.weight\", \"features.transition1.norm.bias\", \"features.transition1.norm.running_mean\", \"features.transition1.norm.running_var\", \"features.transition1.norm.num_batches_tracked\", \"features.transition1.conv.weight\", \"features.denseblock2.denselayer1.norm1.weight\", \"features.denseblock2.denselayer1.norm1.bias\", \"features.denseblock2.denselayer1.norm1.running_mean\", \"features.denseblock2.denselayer1.norm1.running_var\", \"features.denseblock2.denselayer1.norm1.num_batches_tracked\", \"features.denseblock2.denselayer1.conv1.weight\", \"features.denseblock2.denselayer1.norm2.weight\", \"features.denseblock2.denselayer1.norm2.bias\", \"features.denseblock2.denselayer1.norm2.running_mean\", \"features.denseblock2.denselayer1.norm2.running_var\", \"features.denseblock2.denselayer1.norm2.num_batches_tracked\", \"features.denseblock2.denselayer1.conv2.weight\", \"features.denseblock2.denselayer2.norm1.weight\", \"features.denseblock2.denselayer2.norm1.bias\", \"features.denseblock2.denselayer2.norm1.running_mean\", \"features.denseblock2.denselayer2.norm1.running_var\", \"features.denseblock2.denselayer2.norm1.num_batches_tracked\", \"features.denseblock2.denselayer2.conv1.weight\", \"features.denseblock2.denselayer2.norm2.weight\", \"features.denseblock2.denselayer2.norm2.bias\", \"features.denseblock2.denselayer2.norm2.running_mean\", \"features.denseblock2.denselayer2.norm2.running_var\", \"features.denseblock2.denselayer2.norm2.num_batches_tracked\", \"features.denseblock2.denselayer2.conv2.weight\", \"features.denseblock2.denselayer3.norm1.weight\", \"features.denseblock2.denselayer3.norm1.bias\", \"features.denseblock2.denselayer3.norm1.running_mean\", \"features.denseblock2.denselayer3.norm1.running_var\", \"features.denseblock2.denselayer3.norm1.num_batches_tracked\", \"features.denseblock2.denselayer3.conv1.weight\", \"features.denseblock2.denselayer3.norm2.weight\", \"features.denseblock2.denselayer3.norm2.bias\", \"features.denseblock2.denselayer3.norm2.running_mean\", \"features.denseblock2.denselayer3.norm2.running_var\", \"features.denseblock2.denselayer3.norm2.num_batches_tracked\", \"features.denseblock2.denselayer3.conv2.weight\", \"features.denseblock2.denselayer4.norm1.weight\", \"features.denseblock2.denselayer4.norm1.bias\", \"features.denseblock2.denselayer4.norm1.running_mean\", \"features.denseblock2.denselayer4.norm1.running_var\", \"features.denseblock2.denselayer4.norm1.num_batches_tracked\", \"features.denseblock2.denselayer4.conv1.weight\", \"features.denseblock2.denselayer4.norm2.weight\", \"features.denseblock2.denselayer4.norm2.bias\", \"features.denseblock2.denselayer4.norm2.running_mean\", \"features.denseblock2.denselayer4.norm2.running_var\", \"features.denseblock2.denselayer4.norm2.num_batches_tracked\", \"features.denseblock2.denselayer4.conv2.weight\", \"features.denseblock2.denselayer5.norm1.weight\", \"features.denseblock2.denselayer5.norm1.bias\", \"features.denseblock2.denselayer5.norm1.running_mean\", \"features.denseblock2.denselayer5.norm1.running_var\", \"features.denseblock2.denselayer5.norm1.num_batches_tracked\", \"features.denseblock2.denselayer5.conv1.weight\", \"features.denseblock2.denselayer5.norm2.weight\", \"features.denseblock2.denselayer5.norm2.bias\", \"features.denseblock2.denselayer5.norm2.running_mean\", \"features.denseblock2.denselayer5.norm2.running_var\", \"features.denseblock2.denselayer5.norm2.num_batches_tracked\", \"features.denseblock2.denselayer5.conv2.weight\", \"features.denseblock2.denselayer6.norm1.weight\", \"features.denseblock2.denselayer6.norm1.bias\", \"features.denseblock2.denselayer6.norm1.running_mean\", \"features.denseblock2.denselayer6.norm1.running_var\", \"features.denseblock2.denselayer6.norm1.num_batches_tracked\", \"features.denseblock2.denselayer6.conv1.weight\", \"features.denseblock2.denselayer6.norm2.weight\", \"features.denseblock2.denselayer6.norm2.bias\", \"features.denseblock2.denselayer6.norm2.running_mean\", \"features.denseblock2.denselayer6.norm2.running_var\", \"features.denseblock2.denselayer6.norm2.num_batches_tracked\", \"features.denseblock2.denselayer6.conv2.weight\", \"features.denseblock2.denselayer7.norm1.weight\", \"features.denseblock2.denselayer7.norm1.bias\", \"features.denseblock2.denselayer7.norm1.running_mean\", \"features.denseblock2.denselayer7.norm1.running_var\", \"features.denseblock2.denselayer7.norm1.num_batches_tracked\", \"features.denseblock2.denselayer7.conv1.weight\", \"features.denseblock2.denselayer7.norm2.weight\", \"features.denseblock2.denselayer7.norm2.bias\", \"features.denseblock2.denselayer7.norm2.running_mean\", \"features.denseblock2.denselayer7.norm2.running_var\", \"features.denseblock2.denselayer7.norm2.num_batches_tracked\", \"features.denseblock2.denselayer7.conv2.weight\", \"features.denseblock2.denselayer8.norm1.weight\", \"features.denseblock2.denselayer8.norm1.bias\", \"features.denseblock2.denselayer8.norm1.running_mean\", \"features.denseblock2.denselayer8.norm1.running_var\", \"features.denseblock2.denselayer8.norm1.num_batches_tracked\", \"features.denseblock2.denselayer8.conv1.weight\", \"features.denseblock2.denselayer8.norm2.weight\", \"features.denseblock2.denselayer8.norm2.bias\", \"features.denseblock2.denselayer8.norm2.running_mean\", \"features.denseblock2.denselayer8.norm2.running_var\", \"features.denseblock2.denselayer8.norm2.num_batches_tracked\", \"features.denseblock2.denselayer8.conv2.weight\", \"features.denseblock2.denselayer9.norm1.weight\", \"features.denseblock2.denselayer9.norm1.bias\", \"features.denseblock2.denselayer9.norm1.running_mean\", \"features.denseblock2.denselayer9.norm1.running_var\", \"features.denseblock2.denselayer9.norm1.num_batches_tracked\", \"features.denseblock2.denselayer9.conv1.weight\", \"features.denseblock2.denselayer9.norm2.weight\", \"features.denseblock2.denselayer9.norm2.bias\", \"features.denseblock2.denselayer9.norm2.running_mean\", \"features.denseblock2.denselayer9.norm2.running_var\", \"features.denseblock2.denselayer9.norm2.num_batches_tracked\", \"features.denseblock2.denselayer9.conv2.weight\", \"features.denseblock2.denselayer10.norm1.weight\", \"features.denseblock2.denselayer10.norm1.bias\", \"features.denseblock2.denselayer10.norm1.running_mean\", \"features.denseblock2.denselayer10.norm1.running_var\", \"features.denseblock2.denselayer10.norm1.num_batches_tracked\", \"features.denseblock2.denselayer10.conv1.weight\", \"features.denseblock2.denselayer10.norm2.weight\", \"features.denseblock2.denselayer10.norm2.bias\", \"features.denseblock2.denselayer10.norm2.running_mean\", \"features.denseblock2.denselayer10.norm2.running_var\", \"features.denseblock2.denselayer10.norm2.num_batches_tracked\", \"features.denseblock2.denselayer10.conv2.weight\", \"features.denseblock2.denselayer11.norm1.weight\", \"features.denseblock2.denselayer11.norm1.bias\", \"features.denseblock2.denselayer11.norm1.running_mean\", \"features.denseblock2.denselayer11.norm1.running_var\", \"features.denseblock2.denselayer11.norm1.num_batches_tracked\", \"features.denseblock2.denselayer11.conv1.weight\", \"features.denseblock2.denselayer11.norm2.weight\", \"features.denseblock2.denselayer11.norm2.bias\", \"features.denseblock2.denselayer11.norm2.running_mean\", \"features.denseblock2.denselayer11.norm2.running_var\", \"features.denseblock2.denselayer11.norm2.num_batches_tracked\", \"features.denseblock2.denselayer11.conv2.weight\", \"features.denseblock2.denselayer12.norm1.weight\", \"features.denseblock2.denselayer12.norm1.bias\", \"features.denseblock2.denselayer12.norm1.running_mean\", \"features.denseblock2.denselayer12.norm1.running_var\", \"features.denseblock2.denselayer12.norm1.num_batches_tracked\", \"features.denseblock2.denselayer12.conv1.weight\", \"features.denseblock2.denselayer12.norm2.weight\", \"features.denseblock2.denselayer12.norm2.bias\", \"features.denseblock2.denselayer12.norm2.running_mean\", \"features.denseblock2.denselayer12.norm2.running_var\", \"features.denseblock2.denselayer12.norm2.num_batches_tracked\", \"features.denseblock2.denselayer12.conv2.weight\", \"features.transition2.norm.weight\", \"features.transition2.norm.bias\", \"features.transition2.norm.running_mean\", \"features.transition2.norm.running_var\", \"features.transition2.norm.num_batches_tracked\", \"features.transition2.conv.weight\", \"features.denseblock3.denselayer1.norm1.weight\", \"features.denseblock3.denselayer1.norm1.bias\", \"features.denseblock3.denselayer1.norm1.running_mean\", \"features.denseblock3.denselayer1.norm1.running_var\", \"features.denseblock3.denselayer1.norm1.num_batches_tracked\", \"features.denseblock3.denselayer1.conv1.weight\", \"features.denseblock3.denselayer1.norm2.weight\", \"features.denseblock3.denselayer1.norm2.bias\", \"features.denseblock3.denselayer1.norm2.running_mean\", \"features.denseblock3.denselayer1.norm2.running_var\", \"features.denseblock3.denselayer1.norm2.num_batches_tracked\", \"features.denseblock3.denselayer1.conv2.weight\", \"features.denseblock3.denselayer2.norm1.weight\", \"features.denseblock3.denselayer2.norm1.bias\", \"features.denseblock3.denselayer2.norm1.running_mean\", \"features.denseblock3.denselayer2.norm1.running_var\", \"features.denseblock3.denselayer2.norm1.num_batches_tracked\", \"features.denseblock3.denselayer2.conv1.weight\", \"features.denseblock3.denselayer2.norm2.weight\", \"features.denseblock3.denselayer2.norm2.bias\", \"features.denseblock3.denselayer2.norm2.running_mean\", \"features.denseblock3.denselayer2.norm2.running_var\", \"features.denseblock3.denselayer2.norm2.num_batches_tracked\", \"features.denseblock3.denselayer2.conv2.weight\", \"features.denseblock3.denselayer3.norm1.weight\", \"features.denseblock3.denselayer3.norm1.bias\", \"features.denseblock3.denselayer3.norm1.running_mean\", \"features.denseblock3.denselayer3.norm1.running_var\", \"features.denseblock3.denselayer3.norm1.num_batches_tracked\", \"features.denseblock3.denselayer3.conv1.weight\", \"features.denseblock3.denselayer3.norm2.weight\", \"features.denseblock3.denselayer3.norm2.bias\", \"features.denseblock3.denselayer3.norm2.running_mean\", \"features.denseblock3.denselayer3.norm2.running_var\", \"features.denseblock3.denselayer3.norm2.num_batches_tracked\", \"features.denseblock3.denselayer3.conv2.weight\", \"features.denseblock3.denselayer4.norm1.weight\", \"features.denseblock3.denselayer4.norm1.bias\", \"features.denseblock3.denselayer4.norm1.running_mean\", \"features.denseblock3.denselayer4.norm1.running_var\", \"features.denseblock3.denselayer4.norm1.num_batches_tracked\", \"features.denseblock3.denselayer4.conv1.weight\", \"features.denseblock3.denselayer4.norm2.weight\", \"features.denseblock3.denselayer4.norm2.bias\", \"features.denseblock3.denselayer4.norm2.running_mean\", \"features.denseblock3.denselayer4.norm2.running_var\", \"features.denseblock3.denselayer4.norm2.num_batches_tracked\", \"features.denseblock3.denselayer4.conv2.weight\", \"features.denseblock3.denselayer5.norm1.weight\", \"features.denseblock3.denselayer5.norm1.bias\", \"features.denseblock3.denselayer5.norm1.running_mean\", \"features.denseblock3.denselayer5.norm1.running_var\", \"features.denseblock3.denselayer5.norm1.num_batches_tracked\", \"features.denseblock3.denselayer5.conv1.weight\", \"features.denseblock3.denselayer5.norm2.weight\", \"features.denseblock3.denselayer5.norm2.bias\", \"features.denseblock3.denselayer5.norm2.running_mean\", \"features.denseblock3.denselayer5.norm2.running_var\", \"features.denseblock3.denselayer5.norm2.num_batches_tracked\", \"features.denseblock3.denselayer5.conv2.weight\", \"features.denseblock3.denselayer6.norm1.weight\", \"features.denseblock3.denselayer6.norm1.bias\", \"features.denseblock3.denselayer6.norm1.running_mean\", \"features.denseblock3.denselayer6.norm1.running_var\", \"features.denseblock3.denselayer6.norm1.num_batches_tracked\", \"features.denseblock3.denselayer6.conv1.weight\", \"features.denseblock3.denselayer6.norm2.weight\", \"features.denseblock3.denselayer6.norm2.bias\", \"features.denseblock3.denselayer6.norm2.running_mean\", \"features.denseblock3.denselayer6.norm2.running_var\", \"features.denseblock3.denselayer6.norm2.num_batches_tracked\", \"features.denseblock3.denselayer6.conv2.weight\", \"features.denseblock3.denselayer7.norm1.weight\", \"features.denseblock3.denselayer7.norm1.bias\", \"features.denseblock3.denselayer7.norm1.running_mean\", \"features.denseblock3.denselayer7.norm1.running_var\", \"features.denseblock3.denselayer7.norm1.num_batches_tracked\", \"features.denseblock3.denselayer7.conv1.weight\", \"features.denseblock3.denselayer7.norm2.weight\", \"features.denseblock3.denselayer7.norm2.bias\", \"features.denseblock3.denselayer7.norm2.running_mean\", \"features.denseblock3.denselayer7.norm2.running_var\", \"features.denseblock3.denselayer7.norm2.num_batches_tracked\", \"features.denseblock3.denselayer7.conv2.weight\", \"features.denseblock3.denselayer8.norm1.weight\", \"features.denseblock3.denselayer8.norm1.bias\", \"features.denseblock3.denselayer8.norm1.running_mean\", \"features.denseblock3.denselayer8.norm1.running_var\", \"features.denseblock3.denselayer8.norm1.num_batches_tracked\", \"features.denseblock3.denselayer8.conv1.weight\", \"features.denseblock3.denselayer8.norm2.weight\", \"features.denseblock3.denselayer8.norm2.bias\", \"features.denseblock3.denselayer8.norm2.running_mean\", \"features.denseblock3.denselayer8.norm2.running_var\", \"features.denseblock3.denselayer8.norm2.num_batches_tracked\", \"features.denseblock3.denselayer8.conv2.weight\", \"features.denseblock3.denselayer9.norm1.weight\", \"features.denseblock3.denselayer9.norm1.bias\", \"features.denseblock3.denselayer9.norm1.running_mean\", \"features.denseblock3.denselayer9.norm1.running_var\", \"features.denseblock3.denselayer9.norm1.num_batches_tracked\", \"features.denseblock3.denselayer9.conv1.weight\", \"features.denseblock3.denselayer9.norm2.weight\", \"features.denseblock3.denselayer9.norm2.bias\", \"features.denseblock3.denselayer9.norm2.running_mean\", \"features.denseblock3.denselayer9.norm2.running_var\", \"features.denseblock3.denselayer9.norm2.num_batches_tracked\", \"features.denseblock3.denselayer9.conv2.weight\", \"features.denseblock3.denselayer10.norm1.weight\", \"features.denseblock3.denselayer10.norm1.bias\", \"features.denseblock3.denselayer10.norm1.running_mean\", \"features.denseblock3.denselayer10.norm1.running_var\", \"features.denseblock3.denselayer10.norm1.num_batches_tracked\", \"features.denseblock3.denselayer10.conv1.weight\", \"features.denseblock3.denselayer10.norm2.weight\", \"features.denseblock3.denselayer10.norm2.bias\", \"features.denseblock3.denselayer10.norm2.running_mean\", \"features.denseblock3.denselayer10.norm2.running_var\", \"features.denseblock3.denselayer10.norm2.num_batches_tracked\", \"features.denseblock3.denselayer10.conv2.weight\", \"features.denseblock3.denselayer11.norm1.weight\", \"features.denseblock3.denselayer11.norm1.bias\", \"features.denseblock3.denselayer11.norm1.running_mean\", \"features.denseblock3.denselayer11.norm1.running_var\", \"features.denseblock3.denselayer11.norm1.num_batches_tracked\", \"features.denseblock3.denselayer11.conv1.weight\", \"features.denseblock3.denselayer11.norm2.weight\", \"features.denseblock3.denselayer11.norm2.bias\", \"features.denseblock3.denselayer11.norm2.running_mean\", \"features.denseblock3.denselayer11.norm2.running_var\", \"features.denseblock3.denselayer11.norm2.num_batches_tracked\", \"features.denseblock3.denselayer11.conv2.weight\", \"features.denseblock3.denselayer12.norm1.weight\", \"features.denseblock3.denselayer12.norm1.bias\", \"features.denseblock3.denselayer12.norm1.running_mean\", \"features.denseblock3.denselayer12.norm1.running_var\", \"features.denseblock3.denselayer12.norm1.num_batches_tracked\", \"features.denseblock3.denselayer12.conv1.weight\", \"features.denseblock3.denselayer12.norm2.weight\", \"features.denseblock3.denselayer12.norm2.bias\", \"features.denseblock3.denselayer12.norm2.running_mean\", \"features.denseblock3.denselayer12.norm2.running_var\", \"features.denseblock3.denselayer12.norm2.num_batches_tracked\", \"features.denseblock3.denselayer12.conv2.weight\", \"features.denseblock3.denselayer13.norm1.weight\", \"features.denseblock3.denselayer13.norm1.bias\", \"features.denseblock3.denselayer13.norm1.running_mean\", \"features.denseblock3.denselayer13.norm1.running_var\", \"features.denseblock3.denselayer13.norm1.num_batches_tracked\", \"features.denseblock3.denselayer13.conv1.weight\", \"features.denseblock3.denselayer13.norm2.weight\", \"features.denseblock3.denselayer13.norm2.bias\", \"features.denseblock3.denselayer13.norm2.running_mean\", \"features.denseblock3.denselayer13.norm2.running_var\", \"features.denseblock3.denselayer13.norm2.num_batches_tracked\", \"features.denseblock3.denselayer13.conv2.weight\", \"features.denseblock3.denselayer14.norm1.weight\", \"features.denseblock3.denselayer14.norm1.bias\", \"features.denseblock3.denselayer14.norm1.running_mean\", \"features.denseblock3.denselayer14.norm1.running_var\", \"features.denseblock3.denselayer14.norm1.num_batches_tracked\", \"features.denseblock3.denselayer14.conv1.weight\", \"features.denseblock3.denselayer14.norm2.weight\", \"features.denseblock3.denselayer14.norm2.bias\", \"features.denseblock3.denselayer14.norm2.running_mean\", \"features.denseblock3.denselayer14.norm2.running_var\", \"features.denseblock3.denselayer14.norm2.num_batches_tracked\", \"features.denseblock3.denselayer14.conv2.weight\", \"features.denseblock3.denselayer15.norm1.weight\", \"features.denseblock3.denselayer15.norm1.bias\", \"features.denseblock3.denselayer15.norm1.running_mean\", \"features.denseblock3.denselayer15.norm1.running_var\", \"features.denseblock3.denselayer15.norm1.num_batches_tracked\", \"features.denseblock3.denselayer15.conv1.weight\", \"features.denseblock3.denselayer15.norm2.weight\", \"features.denseblock3.denselayer15.norm2.bias\", \"features.denseblock3.denselayer15.norm2.running_mean\", \"features.denseblock3.denselayer15.norm2.running_var\", \"features.denseblock3.denselayer15.norm2.num_batches_tracked\", \"features.denseblock3.denselayer15.conv2.weight\", \"features.denseblock3.denselayer16.norm1.weight\", \"features.denseblock3.denselayer16.norm1.bias\", \"features.denseblock3.denselayer16.norm1.running_mean\", \"features.denseblock3.denselayer16.norm1.running_var\", \"features.denseblock3.denselayer16.norm1.num_batches_tracked\", \"features.denseblock3.denselayer16.conv1.weight\", \"features.denseblock3.denselayer16.norm2.weight\", \"features.denseblock3.denselayer16.norm2.bias\", \"features.denseblock3.denselayer16.norm2.running_mean\", \"features.denseblock3.denselayer16.norm2.running_var\", \"features.denseblock3.denselayer16.norm2.num_batches_tracked\", \"features.denseblock3.denselayer16.conv2.weight\", \"features.denseblock3.denselayer17.norm1.weight\", \"features.denseblock3.denselayer17.norm1.bias\", \"features.denseblock3.denselayer17.norm1.running_mean\", \"features.denseblock3.denselayer17.norm1.running_var\", \"features.denseblock3.denselayer17.norm1.num_batches_tracked\", \"features.denseblock3.denselayer17.conv1.weight\", \"features.denseblock3.denselayer17.norm2.weight\", \"features.denseblock3.denselayer17.norm2.bias\", \"features.denseblock3.denselayer17.norm2.running_mean\", \"features.denseblock3.denselayer17.norm2.running_var\", \"features.denseblock3.denselayer17.norm2.num_batches_tracked\", \"features.denseblock3.denselayer17.conv2.weight\", \"features.denseblock3.denselayer18.norm1.weight\", \"features.denseblock3.denselayer18.norm1.bias\", \"features.denseblock3.denselayer18.norm1.running_mean\", \"features.denseblock3.denselayer18.norm1.running_var\", \"features.denseblock3.denselayer18.norm1.num_batches_tracked\", \"features.denseblock3.denselayer18.conv1.weight\", \"features.denseblock3.denselayer18.norm2.weight\", \"features.denseblock3.denselayer18.norm2.bias\", \"features.denseblock3.denselayer18.norm2.running_mean\", \"features.denseblock3.denselayer18.norm2.running_var\", \"features.denseblock3.denselayer18.norm2.num_batches_tracked\", \"features.denseblock3.denselayer18.conv2.weight\", \"features.denseblock3.denselayer19.norm1.weight\", \"features.denseblock3.denselayer19.norm1.bias\", \"features.denseblock3.denselayer19.norm1.running_mean\", \"features.denseblock3.denselayer19.norm1.running_var\", \"features.denseblock3.denselayer19.norm1.num_batches_tracked\", \"features.denseblock3.denselayer19.conv1.weight\", \"features.denseblock3.denselayer19.norm2.weight\", \"features.denseblock3.denselayer19.norm2.bias\", \"features.denseblock3.denselayer19.norm2.running_mean\", \"features.denseblock3.denselayer19.norm2.running_var\", \"features.denseblock3.denselayer19.norm2.num_batches_tracked\", \"features.denseblock3.denselayer19.conv2.weight\", \"features.denseblock3.denselayer20.norm1.weight\", \"features.denseblock3.denselayer20.norm1.bias\", \"features.denseblock3.denselayer20.norm1.running_mean\", \"features.denseblock3.denselayer20.norm1.running_var\", \"features.denseblock3.denselayer20.norm1.num_batches_tracked\", \"features.denseblock3.denselayer20.conv1.weight\", \"features.denseblock3.denselayer20.norm2.weight\", \"features.denseblock3.denselayer20.norm2.bias\", \"features.denseblock3.denselayer20.norm2.running_mean\", \"features.denseblock3.denselayer20.norm2.running_var\", \"features.denseblock3.denselayer20.norm2.num_batches_tracked\", \"features.denseblock3.denselayer20.conv2.weight\", \"features.denseblock3.denselayer21.norm1.weight\", \"features.denseblock3.denselayer21.norm1.bias\", \"features.denseblock3.denselayer21.norm1.running_mean\", \"features.denseblock3.denselayer21.norm1.running_var\", \"features.denseblock3.denselayer21.norm1.num_batches_tracked\", \"features.denseblock3.denselayer21.conv1.weight\", \"features.denseblock3.denselayer21.norm2.weight\", \"features.denseblock3.denselayer21.norm2.bias\", \"features.denseblock3.denselayer21.norm2.running_mean\", \"features.denseblock3.denselayer21.norm2.running_var\", \"features.denseblock3.denselayer21.norm2.num_batches_tracked\", \"features.denseblock3.denselayer21.conv2.weight\", \"features.denseblock3.denselayer22.norm1.weight\", \"features.denseblock3.denselayer22.norm1.bias\", \"features.denseblock3.denselayer22.norm1.running_mean\", \"features.denseblock3.denselayer22.norm1.running_var\", \"features.denseblock3.denselayer22.norm1.num_batches_tracked\", \"features.denseblock3.denselayer22.conv1.weight\", \"features.denseblock3.denselayer22.norm2.weight\", \"features.denseblock3.denselayer22.norm2.bias\", \"features.denseblock3.denselayer22.norm2.running_mean\", \"features.denseblock3.denselayer22.norm2.running_var\", \"features.denseblock3.denselayer22.norm2.num_batches_tracked\", \"features.denseblock3.denselayer22.conv2.weight\", \"features.denseblock3.denselayer23.norm1.weight\", \"features.denseblock3.denselayer23.norm1.bias\", \"features.denseblock3.denselayer23.norm1.running_mean\", \"features.denseblock3.denselayer23.norm1.running_var\", \"features.denseblock3.denselayer23.norm1.num_batches_tracked\", \"features.denseblock3.denselayer23.conv1.weight\", \"features.denseblock3.denselayer23.norm2.weight\", \"features.denseblock3.denselayer23.norm2.bias\", \"features.denseblock3.denselayer23.norm2.running_mean\", \"features.denseblock3.denselayer23.norm2.running_var\", \"features.denseblock3.denselayer23.norm2.num_batches_tracked\", \"features.denseblock3.denselayer23.conv2.weight\", \"features.denseblock3.denselayer24.norm1.weight\", \"features.denseblock3.denselayer24.norm1.bias\", \"features.denseblock3.denselayer24.norm1.running_mean\", \"features.denseblock3.denselayer24.norm1.running_var\", \"features.denseblock3.denselayer24.norm1.num_batches_tracked\", \"features.denseblock3.denselayer24.conv1.weight\", \"features.denseblock3.denselayer24.norm2.weight\", \"features.denseblock3.denselayer24.norm2.bias\", \"features.denseblock3.denselayer24.norm2.running_mean\", \"features.denseblock3.denselayer24.norm2.running_var\", \"features.denseblock3.denselayer24.norm2.num_batches_tracked\", \"features.denseblock3.denselayer24.conv2.weight\", \"features.transition3.norm.weight\", \"features.transition3.norm.bias\", \"features.transition3.norm.running_mean\", \"features.transition3.norm.running_var\", \"features.transition3.norm.num_batches_tracked\", \"features.transition3.conv.weight\", \"features.denseblock4.denselayer1.norm1.weight\", \"features.denseblock4.denselayer1.norm1.bias\", \"features.denseblock4.denselayer1.norm1.running_mean\", \"features.denseblock4.denselayer1.norm1.running_var\", \"features.denseblock4.denselayer1.norm1.num_batches_tracked\", \"features.denseblock4.denselayer1.conv1.weight\", \"features.denseblock4.denselayer1.norm2.weight\", \"features.denseblock4.denselayer1.norm2.bias\", \"features.denseblock4.denselayer1.norm2.running_mean\", \"features.denseblock4.denselayer1.norm2.running_var\", \"features.denseblock4.denselayer1.norm2.num_batches_tracked\", \"features.denseblock4.denselayer1.conv2.weight\", \"features.denseblock4.denselayer2.norm1.weight\", \"features.denseblock4.denselayer2.norm1.bias\", \"features.denseblock4.denselayer2.norm1.running_mean\", \"features.denseblock4.denselayer2.norm1.running_var\", \"features.denseblock4.denselayer2.norm1.num_batches_tracked\", \"features.denseblock4.denselayer2.conv1.weight\", \"features.denseblock4.denselayer2.norm2.weight\", \"features.denseblock4.denselayer2.norm2.bias\", \"features.denseblock4.denselayer2.norm2.running_mean\", \"features.denseblock4.denselayer2.norm2.running_var\", \"features.denseblock4.denselayer2.norm2.num_batches_tracked\", \"features.denseblock4.denselayer2.conv2.weight\", \"features.denseblock4.denselayer3.norm1.weight\", \"features.denseblock4.denselayer3.norm1.bias\", \"features.denseblock4.denselayer3.norm1.running_mean\", \"features.denseblock4.denselayer3.norm1.running_var\", \"features.denseblock4.denselayer3.norm1.num_batches_tracked\", \"features.denseblock4.denselayer3.conv1.weight\", \"features.denseblock4.denselayer3.norm2.weight\", \"features.denseblock4.denselayer3.norm2.bias\", \"features.denseblock4.denselayer3.norm2.running_mean\", \"features.denseblock4.denselayer3.norm2.running_var\", \"features.denseblock4.denselayer3.norm2.num_batches_tracked\", \"features.denseblock4.denselayer3.conv2.weight\", \"features.denseblock4.denselayer4.norm1.weight\", \"features.denseblock4.denselayer4.norm1.bias\", \"features.denseblock4.denselayer4.norm1.running_mean\", \"features.denseblock4.denselayer4.norm1.running_var\", \"features.denseblock4.denselayer4.norm1.num_batches_tracked\", \"features.denseblock4.denselayer4.conv1.weight\", \"features.denseblock4.denselayer4.norm2.weight\", \"features.denseblock4.denselayer4.norm2.bias\", \"features.denseblock4.denselayer4.norm2.running_mean\", \"features.denseblock4.denselayer4.norm2.running_var\", \"features.denseblock4.denselayer4.norm2.num_batches_tracked\", \"features.denseblock4.denselayer4.conv2.weight\", \"features.denseblock4.denselayer5.norm1.weight\", \"features.denseblock4.denselayer5.norm1.bias\", \"features.denseblock4.denselayer5.norm1.running_mean\", \"features.denseblock4.denselayer5.norm1.running_var\", \"features.denseblock4.denselayer5.norm1.num_batches_tracked\", \"features.denseblock4.denselayer5.conv1.weight\", \"features.denseblock4.denselayer5.norm2.weight\", \"features.denseblock4.denselayer5.norm2.bias\", \"features.denseblock4.denselayer5.norm2.running_mean\", \"features.denseblock4.denselayer5.norm2.running_var\", \"features.denseblock4.denselayer5.norm2.num_batches_tracked\", \"features.denseblock4.denselayer5.conv2.weight\", \"features.denseblock4.denselayer6.norm1.weight\", \"features.denseblock4.denselayer6.norm1.bias\", \"features.denseblock4.denselayer6.norm1.running_mean\", \"features.denseblock4.denselayer6.norm1.running_var\", \"features.denseblock4.denselayer6.norm1.num_batches_tracked\", \"features.denseblock4.denselayer6.conv1.weight\", \"features.denseblock4.denselayer6.norm2.weight\", \"features.denseblock4.denselayer6.norm2.bias\", \"features.denseblock4.denselayer6.norm2.running_mean\", \"features.denseblock4.denselayer6.norm2.running_var\", \"features.denseblock4.denselayer6.norm2.num_batches_tracked\", \"features.denseblock4.denselayer6.conv2.weight\", \"features.denseblock4.denselayer7.norm1.weight\", \"features.denseblock4.denselayer7.norm1.bias\", \"features.denseblock4.denselayer7.norm1.running_mean\", \"features.denseblock4.denselayer7.norm1.running_var\", \"features.denseblock4.denselayer7.norm1.num_batches_tracked\", \"features.denseblock4.denselayer7.conv1.weight\", \"features.denseblock4.denselayer7.norm2.weight\", \"features.denseblock4.denselayer7.norm2.bias\", \"features.denseblock4.denselayer7.norm2.running_mean\", \"features.denseblock4.denselayer7.norm2.running_var\", \"features.denseblock4.denselayer7.norm2.num_batches_tracked\", \"features.denseblock4.denselayer7.conv2.weight\", \"features.denseblock4.denselayer8.norm1.weight\", \"features.denseblock4.denselayer8.norm1.bias\", \"features.denseblock4.denselayer8.norm1.running_mean\", \"features.denseblock4.denselayer8.norm1.running_var\", \"features.denseblock4.denselayer8.norm1.num_batches_tracked\", \"features.denseblock4.denselayer8.conv1.weight\", \"features.denseblock4.denselayer8.norm2.weight\", \"features.denseblock4.denselayer8.norm2.bias\", \"features.denseblock4.denselayer8.norm2.running_mean\", \"features.denseblock4.denselayer8.norm2.running_var\", \"features.denseblock4.denselayer8.norm2.num_batches_tracked\", \"features.denseblock4.denselayer8.conv2.weight\", \"features.denseblock4.denselayer9.norm1.weight\", \"features.denseblock4.denselayer9.norm1.bias\", \"features.denseblock4.denselayer9.norm1.running_mean\", \"features.denseblock4.denselayer9.norm1.running_var\", \"features.denseblock4.denselayer9.norm1.num_batches_tracked\", \"features.denseblock4.denselayer9.conv1.weight\", \"features.denseblock4.denselayer9.norm2.weight\", \"features.denseblock4.denselayer9.norm2.bias\", \"features.denseblock4.denselayer9.norm2.running_mean\", \"features.denseblock4.denselayer9.norm2.running_var\", \"features.denseblock4.denselayer9.norm2.num_batches_tracked\", \"features.denseblock4.denselayer9.conv2.weight\", \"features.denseblock4.denselayer10.norm1.weight\", \"features.denseblock4.denselayer10.norm1.bias\", \"features.denseblock4.denselayer10.norm1.running_mean\", \"features.denseblock4.denselayer10.norm1.running_var\", \"features.denseblock4.denselayer10.norm1.num_batches_tracked\", \"features.denseblock4.denselayer10.conv1.weight\", \"features.denseblock4.denselayer10.norm2.weight\", \"features.denseblock4.denselayer10.norm2.bias\", \"features.denseblock4.denselayer10.norm2.running_mean\", \"features.denseblock4.denselayer10.norm2.running_var\", \"features.denseblock4.denselayer10.norm2.num_batches_tracked\", \"features.denseblock4.denselayer10.conv2.weight\", \"features.denseblock4.denselayer11.norm1.weight\", \"features.denseblock4.denselayer11.norm1.bias\", \"features.denseblock4.denselayer11.norm1.running_mean\", \"features.denseblock4.denselayer11.norm1.running_var\", \"features.denseblock4.denselayer11.norm1.num_batches_tracked\", \"features.denseblock4.denselayer11.conv1.weight\", \"features.denseblock4.denselayer11.norm2.weight\", \"features.denseblock4.denselayer11.norm2.bias\", \"features.denseblock4.denselayer11.norm2.running_mean\", \"features.denseblock4.denselayer11.norm2.running_var\", \"features.denseblock4.denselayer11.norm2.num_batches_tracked\", \"features.denseblock4.denselayer11.conv2.weight\", \"features.denseblock4.denselayer12.norm1.weight\", \"features.denseblock4.denselayer12.norm1.bias\", \"features.denseblock4.denselayer12.norm1.running_mean\", \"features.denseblock4.denselayer12.norm1.running_var\", \"features.denseblock4.denselayer12.norm1.num_batches_tracked\", \"features.denseblock4.denselayer12.conv1.weight\", \"features.denseblock4.denselayer12.norm2.weight\", \"features.denseblock4.denselayer12.norm2.bias\", \"features.denseblock4.denselayer12.norm2.running_mean\", \"features.denseblock4.denselayer12.norm2.running_var\", \"features.denseblock4.denselayer12.norm2.num_batches_tracked\", \"features.denseblock4.denselayer12.conv2.weight\", \"features.denseblock4.denselayer13.norm1.weight\", \"features.denseblock4.denselayer13.norm1.bias\", \"features.denseblock4.denselayer13.norm1.running_mean\", \"features.denseblock4.denselayer13.norm1.running_var\", \"features.denseblock4.denselayer13.norm1.num_batches_tracked\", \"features.denseblock4.denselayer13.conv1.weight\", \"features.denseblock4.denselayer13.norm2.weight\", \"features.denseblock4.denselayer13.norm2.bias\", \"features.denseblock4.denselayer13.norm2.running_mean\", \"features.denseblock4.denselayer13.norm2.running_var\", \"features.denseblock4.denselayer13.norm2.num_batches_tracked\", \"features.denseblock4.denselayer13.conv2.weight\", \"features.denseblock4.denselayer14.norm1.weight\", \"features.denseblock4.denselayer14.norm1.bias\", \"features.denseblock4.denselayer14.norm1.running_mean\", \"features.denseblock4.denselayer14.norm1.running_var\", \"features.denseblock4.denselayer14.norm1.num_batches_tracked\", \"features.denseblock4.denselayer14.conv1.weight\", \"features.denseblock4.denselayer14.norm2.weight\", \"features.denseblock4.denselayer14.norm2.bias\", \"features.denseblock4.denselayer14.norm2.running_mean\", \"features.denseblock4.denselayer14.norm2.running_var\", \"features.denseblock4.denselayer14.norm2.num_batches_tracked\", \"features.denseblock4.denselayer14.conv2.weight\", \"features.denseblock4.denselayer15.norm1.weight\", \"features.denseblock4.denselayer15.norm1.bias\", \"features.denseblock4.denselayer15.norm1.running_mean\", \"features.denseblock4.denselayer15.norm1.running_var\", \"features.denseblock4.denselayer15.norm1.num_batches_tracked\", \"features.denseblock4.denselayer15.conv1.weight\", \"features.denseblock4.denselayer15.norm2.weight\", \"features.denseblock4.denselayer15.norm2.bias\", \"features.denseblock4.denselayer15.norm2.running_mean\", \"features.denseblock4.denselayer15.norm2.running_var\", \"features.denseblock4.denselayer15.norm2.num_batches_tracked\", \"features.denseblock4.denselayer15.conv2.weight\", \"features.denseblock4.denselayer16.norm1.weight\", \"features.denseblock4.denselayer16.norm1.bias\", \"features.denseblock4.denselayer16.norm1.running_mean\", \"features.denseblock4.denselayer16.norm1.running_var\", \"features.denseblock4.denselayer16.norm1.num_batches_tracked\", \"features.denseblock4.denselayer16.conv1.weight\", \"features.denseblock4.denselayer16.norm2.weight\", \"features.denseblock4.denselayer16.norm2.bias\", \"features.denseblock4.denselayer16.norm2.running_mean\", \"features.denseblock4.denselayer16.norm2.running_var\", \"features.denseblock4.denselayer16.norm2.num_batches_tracked\", \"features.denseblock4.denselayer16.conv2.weight\", \"features.norm5.weight\", \"features.norm5.bias\", \"features.norm5.running_mean\", \"features.norm5.running_var\", \"features.norm5.num_batches_tracked\", \"classifier.weight\", \"classifier.bias\". ",
     "output_type": "error",
     "traceback": [
      "\u001B[0;31m---------------------------------------------------------------------------\u001B[0m",
      "\u001B[0;31mRuntimeError\u001B[0m                              Traceback (most recent call last)",
      "Input \u001B[0;32mIn [98]\u001B[0m, in \u001B[0;36m<module>\u001B[0;34m\u001B[0m\n\u001B[1;32m      1\u001B[0m \u001B[38;5;124;03m\"\"\"\u001B[39;00m\n\u001B[1;32m      2\u001B[0m \u001B[38;5;124;03mresnext\u001B[39;00m\n\u001B[1;32m      3\u001B[0m \u001B[38;5;124;03m\"\"\"\u001B[39;00m\n\u001B[0;32m----> 4\u001B[0m \u001B[43mresnetxt50_pretrained\u001B[49m\u001B[38;5;241;43m.\u001B[39;49m\u001B[43mload_state_dict\u001B[49m\u001B[43m(\u001B[49m\u001B[43mtorch\u001B[49m\u001B[38;5;241;43m.\u001B[39;49m\u001B[43mload\u001B[49m\u001B[43m(\u001B[49m\u001B[38;5;124;43m\"\u001B[39;49m\u001B[38;5;124;43mresnetxt50_pretrained_all_grad.pt\u001B[39;49m\u001B[38;5;124;43m\"\u001B[39;49m\u001B[43m)\u001B[49m\u001B[43m)\u001B[49m\n",
      "File \u001B[0;32m~/.pyenv/versions/nexgen/lib/python3.9/site-packages/torch/nn/modules/module.py:1482\u001B[0m, in \u001B[0;36mModule.load_state_dict\u001B[0;34m(self, state_dict, strict)\u001B[0m\n\u001B[1;32m   1477\u001B[0m         error_msgs\u001B[38;5;241m.\u001B[39minsert(\n\u001B[1;32m   1478\u001B[0m             \u001B[38;5;241m0\u001B[39m, \u001B[38;5;124m'\u001B[39m\u001B[38;5;124mMissing key(s) in state_dict: \u001B[39m\u001B[38;5;132;01m{}\u001B[39;00m\u001B[38;5;124m. \u001B[39m\u001B[38;5;124m'\u001B[39m\u001B[38;5;241m.\u001B[39mformat(\n\u001B[1;32m   1479\u001B[0m                 \u001B[38;5;124m'\u001B[39m\u001B[38;5;124m, \u001B[39m\u001B[38;5;124m'\u001B[39m\u001B[38;5;241m.\u001B[39mjoin(\u001B[38;5;124m'\u001B[39m\u001B[38;5;124m\"\u001B[39m\u001B[38;5;132;01m{}\u001B[39;00m\u001B[38;5;124m\"\u001B[39m\u001B[38;5;124m'\u001B[39m\u001B[38;5;241m.\u001B[39mformat(k) \u001B[38;5;28;01mfor\u001B[39;00m k \u001B[38;5;129;01min\u001B[39;00m missing_keys)))\n\u001B[1;32m   1481\u001B[0m \u001B[38;5;28;01mif\u001B[39;00m \u001B[38;5;28mlen\u001B[39m(error_msgs) \u001B[38;5;241m>\u001B[39m \u001B[38;5;241m0\u001B[39m:\n\u001B[0;32m-> 1482\u001B[0m     \u001B[38;5;28;01mraise\u001B[39;00m \u001B[38;5;167;01mRuntimeError\u001B[39;00m(\u001B[38;5;124m'\u001B[39m\u001B[38;5;124mError(s) in loading state_dict for \u001B[39m\u001B[38;5;132;01m{}\u001B[39;00m\u001B[38;5;124m:\u001B[39m\u001B[38;5;130;01m\\n\u001B[39;00m\u001B[38;5;130;01m\\t\u001B[39;00m\u001B[38;5;132;01m{}\u001B[39;00m\u001B[38;5;124m'\u001B[39m\u001B[38;5;241m.\u001B[39mformat(\n\u001B[1;32m   1483\u001B[0m                        \u001B[38;5;28mself\u001B[39m\u001B[38;5;241m.\u001B[39m\u001B[38;5;18m__class__\u001B[39m\u001B[38;5;241m.\u001B[39m\u001B[38;5;18m__name__\u001B[39m, \u001B[38;5;124m\"\u001B[39m\u001B[38;5;130;01m\\n\u001B[39;00m\u001B[38;5;130;01m\\t\u001B[39;00m\u001B[38;5;124m\"\u001B[39m\u001B[38;5;241m.\u001B[39mjoin(error_msgs)))\n\u001B[1;32m   1484\u001B[0m \u001B[38;5;28;01mreturn\u001B[39;00m _IncompatibleKeys(missing_keys, unexpected_keys)\n",
      "\u001B[0;31mRuntimeError\u001B[0m: Error(s) in loading state_dict for ResNet:\n\tMissing key(s) in state_dict: \"conv1.weight\", \"bn1.weight\", \"bn1.bias\", \"bn1.running_mean\", \"bn1.running_var\", \"layer1.0.conv1.weight\", \"layer1.0.bn1.weight\", \"layer1.0.bn1.bias\", \"layer1.0.bn1.running_mean\", \"layer1.0.bn1.running_var\", \"layer1.0.conv2.weight\", \"layer1.0.bn2.weight\", \"layer1.0.bn2.bias\", \"layer1.0.bn2.running_mean\", \"layer1.0.bn2.running_var\", \"layer1.0.conv3.weight\", \"layer1.0.bn3.weight\", \"layer1.0.bn3.bias\", \"layer1.0.bn3.running_mean\", \"layer1.0.bn3.running_var\", \"layer1.0.downsample.0.weight\", \"layer1.0.downsample.1.weight\", \"layer1.0.downsample.1.bias\", \"layer1.0.downsample.1.running_mean\", \"layer1.0.downsample.1.running_var\", \"layer1.1.conv1.weight\", \"layer1.1.bn1.weight\", \"layer1.1.bn1.bias\", \"layer1.1.bn1.running_mean\", \"layer1.1.bn1.running_var\", \"layer1.1.conv2.weight\", \"layer1.1.bn2.weight\", \"layer1.1.bn2.bias\", \"layer1.1.bn2.running_mean\", \"layer1.1.bn2.running_var\", \"layer1.1.conv3.weight\", \"layer1.1.bn3.weight\", \"layer1.1.bn3.bias\", \"layer1.1.bn3.running_mean\", \"layer1.1.bn3.running_var\", \"layer1.2.conv1.weight\", \"layer1.2.bn1.weight\", \"layer1.2.bn1.bias\", \"layer1.2.bn1.running_mean\", \"layer1.2.bn1.running_var\", \"layer1.2.conv2.weight\", \"layer1.2.bn2.weight\", \"layer1.2.bn2.bias\", \"layer1.2.bn2.running_mean\", \"layer1.2.bn2.running_var\", \"layer1.2.conv3.weight\", \"layer1.2.bn3.weight\", \"layer1.2.bn3.bias\", \"layer1.2.bn3.running_mean\", \"layer1.2.bn3.running_var\", \"layer2.0.conv1.weight\", \"layer2.0.bn1.weight\", \"layer2.0.bn1.bias\", \"layer2.0.bn1.running_mean\", \"layer2.0.bn1.running_var\", \"layer2.0.conv2.weight\", \"layer2.0.bn2.weight\", \"layer2.0.bn2.bias\", \"layer2.0.bn2.running_mean\", \"layer2.0.bn2.running_var\", \"layer2.0.conv3.weight\", \"layer2.0.bn3.weight\", \"layer2.0.bn3.bias\", \"layer2.0.bn3.running_mean\", \"layer2.0.bn3.running_var\", \"layer2.0.downsample.0.weight\", \"layer2.0.downsample.1.weight\", \"layer2.0.downsample.1.bias\", \"layer2.0.downsample.1.running_mean\", \"layer2.0.downsample.1.running_var\", \"layer2.1.conv1.weight\", \"layer2.1.bn1.weight\", \"layer2.1.bn1.bias\", \"layer2.1.bn1.running_mean\", \"layer2.1.bn1.running_var\", \"layer2.1.conv2.weight\", \"layer2.1.bn2.weight\", \"layer2.1.bn2.bias\", \"layer2.1.bn2.running_mean\", \"layer2.1.bn2.running_var\", \"layer2.1.conv3.weight\", \"layer2.1.bn3.weight\", \"layer2.1.bn3.bias\", \"layer2.1.bn3.running_mean\", \"layer2.1.bn3.running_var\", \"layer2.2.conv1.weight\", \"layer2.2.bn1.weight\", \"layer2.2.bn1.bias\", \"layer2.2.bn1.running_mean\", \"layer2.2.bn1.running_var\", \"layer2.2.conv2.weight\", \"layer2.2.bn2.weight\", \"layer2.2.bn2.bias\", \"layer2.2.bn2.running_mean\", \"layer2.2.bn2.running_var\", \"layer2.2.conv3.weight\", \"layer2.2.bn3.weight\", \"layer2.2.bn3.bias\", \"layer2.2.bn3.running_mean\", \"layer2.2.bn3.running_var\", \"layer2.3.conv1.weight\", \"layer2.3.bn1.weight\", \"layer2.3.bn1.bias\", \"layer2.3.bn1.running_mean\", \"layer2.3.bn1.running_var\", \"layer2.3.conv2.weight\", \"layer2.3.bn2.weight\", \"layer2.3.bn2.bias\", \"layer2.3.bn2.running_mean\", \"layer2.3.bn2.running_var\", \"layer2.3.conv3.weight\", \"layer2.3.bn3.weight\", \"layer2.3.bn3.bias\", \"layer2.3.bn3.running_mean\", \"layer2.3.bn3.running_var\", \"layer3.0.conv1.weight\", \"layer3.0.bn1.weight\", \"layer3.0.bn1.bias\", \"layer3.0.bn1.running_mean\", \"layer3.0.bn1.running_var\", \"layer3.0.conv2.weight\", \"layer3.0.bn2.weight\", \"layer3.0.bn2.bias\", \"layer3.0.bn2.running_mean\", \"layer3.0.bn2.running_var\", \"layer3.0.conv3.weight\", \"layer3.0.bn3.weight\", \"layer3.0.bn3.bias\", \"layer3.0.bn3.running_mean\", \"layer3.0.bn3.running_var\", \"layer3.0.downsample.0.weight\", \"layer3.0.downsample.1.weight\", \"layer3.0.downsample.1.bias\", \"layer3.0.downsample.1.running_mean\", \"layer3.0.downsample.1.running_var\", \"layer3.1.conv1.weight\", \"layer3.1.bn1.weight\", \"layer3.1.bn1.bias\", \"layer3.1.bn1.running_mean\", \"layer3.1.bn1.running_var\", \"layer3.1.conv2.weight\", \"layer3.1.bn2.weight\", \"layer3.1.bn2.bias\", \"layer3.1.bn2.running_mean\", \"layer3.1.bn2.running_var\", \"layer3.1.conv3.weight\", \"layer3.1.bn3.weight\", \"layer3.1.bn3.bias\", \"layer3.1.bn3.running_mean\", \"layer3.1.bn3.running_var\", \"layer3.2.conv1.weight\", \"layer3.2.bn1.weight\", \"layer3.2.bn1.bias\", \"layer3.2.bn1.running_mean\", \"layer3.2.bn1.running_var\", \"layer3.2.conv2.weight\", \"layer3.2.bn2.weight\", \"layer3.2.bn2.bias\", \"layer3.2.bn2.running_mean\", \"layer3.2.bn2.running_var\", \"layer3.2.conv3.weight\", \"layer3.2.bn3.weight\", \"layer3.2.bn3.bias\", \"layer3.2.bn3.running_mean\", \"layer3.2.bn3.running_var\", \"layer3.3.conv1.weight\", \"layer3.3.bn1.weight\", \"layer3.3.bn1.bias\", \"layer3.3.bn1.running_mean\", \"layer3.3.bn1.running_var\", \"layer3.3.conv2.weight\", \"layer3.3.bn2.weight\", \"layer3.3.bn2.bias\", \"layer3.3.bn2.running_mean\", \"layer3.3.bn2.running_var\", \"layer3.3.conv3.weight\", \"layer3.3.bn3.weight\", \"layer3.3.bn3.bias\", \"layer3.3.bn3.running_mean\", \"layer3.3.bn3.running_var\", \"layer3.4.conv1.weight\", \"layer3.4.bn1.weight\", \"layer3.4.bn1.bias\", \"layer3.4.bn1.running_mean\", \"layer3.4.bn1.running_var\", \"layer3.4.conv2.weight\", \"layer3.4.bn2.weight\", \"layer3.4.bn2.bias\", \"layer3.4.bn2.running_mean\", \"layer3.4.bn2.running_var\", \"layer3.4.conv3.weight\", \"layer3.4.bn3.weight\", \"layer3.4.bn3.bias\", \"layer3.4.bn3.running_mean\", \"layer3.4.bn3.running_var\", \"layer3.5.conv1.weight\", \"layer3.5.bn1.weight\", \"layer3.5.bn1.bias\", \"layer3.5.bn1.running_mean\", \"layer3.5.bn1.running_var\", \"layer3.5.conv2.weight\", \"layer3.5.bn2.weight\", \"layer3.5.bn2.bias\", \"layer3.5.bn2.running_mean\", \"layer3.5.bn2.running_var\", \"layer3.5.conv3.weight\", \"layer3.5.bn3.weight\", \"layer3.5.bn3.bias\", \"layer3.5.bn3.running_mean\", \"layer3.5.bn3.running_var\", \"layer4.0.conv1.weight\", \"layer4.0.bn1.weight\", \"layer4.0.bn1.bias\", \"layer4.0.bn1.running_mean\", \"layer4.0.bn1.running_var\", \"layer4.0.conv2.weight\", \"layer4.0.bn2.weight\", \"layer4.0.bn2.bias\", \"layer4.0.bn2.running_mean\", \"layer4.0.bn2.running_var\", \"layer4.0.conv3.weight\", \"layer4.0.bn3.weight\", \"layer4.0.bn3.bias\", \"layer4.0.bn3.running_mean\", \"layer4.0.bn3.running_var\", \"layer4.0.downsample.0.weight\", \"layer4.0.downsample.1.weight\", \"layer4.0.downsample.1.bias\", \"layer4.0.downsample.1.running_mean\", \"layer4.0.downsample.1.running_var\", \"layer4.1.conv1.weight\", \"layer4.1.bn1.weight\", \"layer4.1.bn1.bias\", \"layer4.1.bn1.running_mean\", \"layer4.1.bn1.running_var\", \"layer4.1.conv2.weight\", \"layer4.1.bn2.weight\", \"layer4.1.bn2.bias\", \"layer4.1.bn2.running_mean\", \"layer4.1.bn2.running_var\", \"layer4.1.conv3.weight\", \"layer4.1.bn3.weight\", \"layer4.1.bn3.bias\", \"layer4.1.bn3.running_mean\", \"layer4.1.bn3.running_var\", \"layer4.2.conv1.weight\", \"layer4.2.bn1.weight\", \"layer4.2.bn1.bias\", \"layer4.2.bn1.running_mean\", \"layer4.2.bn1.running_var\", \"layer4.2.conv2.weight\", \"layer4.2.bn2.weight\", \"layer4.2.bn2.bias\", \"layer4.2.bn2.running_mean\", \"layer4.2.bn2.running_var\", \"layer4.2.conv3.weight\", \"layer4.2.bn3.weight\", \"layer4.2.bn3.bias\", \"layer4.2.bn3.running_mean\", \"layer4.2.bn3.running_var\", \"fc.weight\", \"fc.bias\". \n\tUnexpected key(s) in state_dict: \"features.conv0.weight\", \"features.norm0.weight\", \"features.norm0.bias\", \"features.norm0.running_mean\", \"features.norm0.running_var\", \"features.norm0.num_batches_tracked\", \"features.denseblock1.denselayer1.norm1.weight\", \"features.denseblock1.denselayer1.norm1.bias\", \"features.denseblock1.denselayer1.norm1.running_mean\", \"features.denseblock1.denselayer1.norm1.running_var\", \"features.denseblock1.denselayer1.norm1.num_batches_tracked\", \"features.denseblock1.denselayer1.conv1.weight\", \"features.denseblock1.denselayer1.norm2.weight\", \"features.denseblock1.denselayer1.norm2.bias\", \"features.denseblock1.denselayer1.norm2.running_mean\", \"features.denseblock1.denselayer1.norm2.running_var\", \"features.denseblock1.denselayer1.norm2.num_batches_tracked\", \"features.denseblock1.denselayer1.conv2.weight\", \"features.denseblock1.denselayer2.norm1.weight\", \"features.denseblock1.denselayer2.norm1.bias\", \"features.denseblock1.denselayer2.norm1.running_mean\", \"features.denseblock1.denselayer2.norm1.running_var\", \"features.denseblock1.denselayer2.norm1.num_batches_tracked\", \"features.denseblock1.denselayer2.conv1.weight\", \"features.denseblock1.denselayer2.norm2.weight\", \"features.denseblock1.denselayer2.norm2.bias\", \"features.denseblock1.denselayer2.norm2.running_mean\", \"features.denseblock1.denselayer2.norm2.running_var\", \"features.denseblock1.denselayer2.norm2.num_batches_tracked\", \"features.denseblock1.denselayer2.conv2.weight\", \"features.denseblock1.denselayer3.norm1.weight\", \"features.denseblock1.denselayer3.norm1.bias\", \"features.denseblock1.denselayer3.norm1.running_mean\", \"features.denseblock1.denselayer3.norm1.running_var\", \"features.denseblock1.denselayer3.norm1.num_batches_tracked\", \"features.denseblock1.denselayer3.conv1.weight\", \"features.denseblock1.denselayer3.norm2.weight\", \"features.denseblock1.denselayer3.norm2.bias\", \"features.denseblock1.denselayer3.norm2.running_mean\", \"features.denseblock1.denselayer3.norm2.running_var\", \"features.denseblock1.denselayer3.norm2.num_batches_tracked\", \"features.denseblock1.denselayer3.conv2.weight\", \"features.denseblock1.denselayer4.norm1.weight\", \"features.denseblock1.denselayer4.norm1.bias\", \"features.denseblock1.denselayer4.norm1.running_mean\", \"features.denseblock1.denselayer4.norm1.running_var\", \"features.denseblock1.denselayer4.norm1.num_batches_tracked\", \"features.denseblock1.denselayer4.conv1.weight\", \"features.denseblock1.denselayer4.norm2.weight\", \"features.denseblock1.denselayer4.norm2.bias\", \"features.denseblock1.denselayer4.norm2.running_mean\", \"features.denseblock1.denselayer4.norm2.running_var\", \"features.denseblock1.denselayer4.norm2.num_batches_tracked\", \"features.denseblock1.denselayer4.conv2.weight\", \"features.denseblock1.denselayer5.norm1.weight\", \"features.denseblock1.denselayer5.norm1.bias\", \"features.denseblock1.denselayer5.norm1.running_mean\", \"features.denseblock1.denselayer5.norm1.running_var\", \"features.denseblock1.denselayer5.norm1.num_batches_tracked\", \"features.denseblock1.denselayer5.conv1.weight\", \"features.denseblock1.denselayer5.norm2.weight\", \"features.denseblock1.denselayer5.norm2.bias\", \"features.denseblock1.denselayer5.norm2.running_mean\", \"features.denseblock1.denselayer5.norm2.running_var\", \"features.denseblock1.denselayer5.norm2.num_batches_tracked\", \"features.denseblock1.denselayer5.conv2.weight\", \"features.denseblock1.denselayer6.norm1.weight\", \"features.denseblock1.denselayer6.norm1.bias\", \"features.denseblock1.denselayer6.norm1.running_mean\", \"features.denseblock1.denselayer6.norm1.running_var\", \"features.denseblock1.denselayer6.norm1.num_batches_tracked\", \"features.denseblock1.denselayer6.conv1.weight\", \"features.denseblock1.denselayer6.norm2.weight\", \"features.denseblock1.denselayer6.norm2.bias\", \"features.denseblock1.denselayer6.norm2.running_mean\", \"features.denseblock1.denselayer6.norm2.running_var\", \"features.denseblock1.denselayer6.norm2.num_batches_tracked\", \"features.denseblock1.denselayer6.conv2.weight\", \"features.transition1.norm.weight\", \"features.transition1.norm.bias\", \"features.transition1.norm.running_mean\", \"features.transition1.norm.running_var\", \"features.transition1.norm.num_batches_tracked\", \"features.transition1.conv.weight\", \"features.denseblock2.denselayer1.norm1.weight\", \"features.denseblock2.denselayer1.norm1.bias\", \"features.denseblock2.denselayer1.norm1.running_mean\", \"features.denseblock2.denselayer1.norm1.running_var\", \"features.denseblock2.denselayer1.norm1.num_batches_tracked\", \"features.denseblock2.denselayer1.conv1.weight\", \"features.denseblock2.denselayer1.norm2.weight\", \"features.denseblock2.denselayer1.norm2.bias\", \"features.denseblock2.denselayer1.norm2.running_mean\", \"features.denseblock2.denselayer1.norm2.running_var\", \"features.denseblock2.denselayer1.norm2.num_batches_tracked\", \"features.denseblock2.denselayer1.conv2.weight\", \"features.denseblock2.denselayer2.norm1.weight\", \"features.denseblock2.denselayer2.norm1.bias\", \"features.denseblock2.denselayer2.norm1.running_mean\", \"features.denseblock2.denselayer2.norm1.running_var\", \"features.denseblock2.denselayer2.norm1.num_batches_tracked\", \"features.denseblock2.denselayer2.conv1.weight\", \"features.denseblock2.denselayer2.norm2.weight\", \"features.denseblock2.denselayer2.norm2.bias\", \"features.denseblock2.denselayer2.norm2.running_mean\", \"features.denseblock2.denselayer2.norm2.running_var\", \"features.denseblock2.denselayer2.norm2.num_batches_tracked\", \"features.denseblock2.denselayer2.conv2.weight\", \"features.denseblock2.denselayer3.norm1.weight\", \"features.denseblock2.denselayer3.norm1.bias\", \"features.denseblock2.denselayer3.norm1.running_mean\", \"features.denseblock2.denselayer3.norm1.running_var\", \"features.denseblock2.denselayer3.norm1.num_batches_tracked\", \"features.denseblock2.denselayer3.conv1.weight\", \"features.denseblock2.denselayer3.norm2.weight\", \"features.denseblock2.denselayer3.norm2.bias\", \"features.denseblock2.denselayer3.norm2.running_mean\", \"features.denseblock2.denselayer3.norm2.running_var\", \"features.denseblock2.denselayer3.norm2.num_batches_tracked\", \"features.denseblock2.denselayer3.conv2.weight\", \"features.denseblock2.denselayer4.norm1.weight\", \"features.denseblock2.denselayer4.norm1.bias\", \"features.denseblock2.denselayer4.norm1.running_mean\", \"features.denseblock2.denselayer4.norm1.running_var\", \"features.denseblock2.denselayer4.norm1.num_batches_tracked\", \"features.denseblock2.denselayer4.conv1.weight\", \"features.denseblock2.denselayer4.norm2.weight\", \"features.denseblock2.denselayer4.norm2.bias\", \"features.denseblock2.denselayer4.norm2.running_mean\", \"features.denseblock2.denselayer4.norm2.running_var\", \"features.denseblock2.denselayer4.norm2.num_batches_tracked\", \"features.denseblock2.denselayer4.conv2.weight\", \"features.denseblock2.denselayer5.norm1.weight\", \"features.denseblock2.denselayer5.norm1.bias\", \"features.denseblock2.denselayer5.norm1.running_mean\", \"features.denseblock2.denselayer5.norm1.running_var\", \"features.denseblock2.denselayer5.norm1.num_batches_tracked\", \"features.denseblock2.denselayer5.conv1.weight\", \"features.denseblock2.denselayer5.norm2.weight\", \"features.denseblock2.denselayer5.norm2.bias\", \"features.denseblock2.denselayer5.norm2.running_mean\", \"features.denseblock2.denselayer5.norm2.running_var\", \"features.denseblock2.denselayer5.norm2.num_batches_tracked\", \"features.denseblock2.denselayer5.conv2.weight\", \"features.denseblock2.denselayer6.norm1.weight\", \"features.denseblock2.denselayer6.norm1.bias\", \"features.denseblock2.denselayer6.norm1.running_mean\", \"features.denseblock2.denselayer6.norm1.running_var\", \"features.denseblock2.denselayer6.norm1.num_batches_tracked\", \"features.denseblock2.denselayer6.conv1.weight\", \"features.denseblock2.denselayer6.norm2.weight\", \"features.denseblock2.denselayer6.norm2.bias\", \"features.denseblock2.denselayer6.norm2.running_mean\", \"features.denseblock2.denselayer6.norm2.running_var\", \"features.denseblock2.denselayer6.norm2.num_batches_tracked\", \"features.denseblock2.denselayer6.conv2.weight\", \"features.denseblock2.denselayer7.norm1.weight\", \"features.denseblock2.denselayer7.norm1.bias\", \"features.denseblock2.denselayer7.norm1.running_mean\", \"features.denseblock2.denselayer7.norm1.running_var\", \"features.denseblock2.denselayer7.norm1.num_batches_tracked\", \"features.denseblock2.denselayer7.conv1.weight\", \"features.denseblock2.denselayer7.norm2.weight\", \"features.denseblock2.denselayer7.norm2.bias\", \"features.denseblock2.denselayer7.norm2.running_mean\", \"features.denseblock2.denselayer7.norm2.running_var\", \"features.denseblock2.denselayer7.norm2.num_batches_tracked\", \"features.denseblock2.denselayer7.conv2.weight\", \"features.denseblock2.denselayer8.norm1.weight\", \"features.denseblock2.denselayer8.norm1.bias\", \"features.denseblock2.denselayer8.norm1.running_mean\", \"features.denseblock2.denselayer8.norm1.running_var\", \"features.denseblock2.denselayer8.norm1.num_batches_tracked\", \"features.denseblock2.denselayer8.conv1.weight\", \"features.denseblock2.denselayer8.norm2.weight\", \"features.denseblock2.denselayer8.norm2.bias\", \"features.denseblock2.denselayer8.norm2.running_mean\", \"features.denseblock2.denselayer8.norm2.running_var\", \"features.denseblock2.denselayer8.norm2.num_batches_tracked\", \"features.denseblock2.denselayer8.conv2.weight\", \"features.denseblock2.denselayer9.norm1.weight\", \"features.denseblock2.denselayer9.norm1.bias\", \"features.denseblock2.denselayer9.norm1.running_mean\", \"features.denseblock2.denselayer9.norm1.running_var\", \"features.denseblock2.denselayer9.norm1.num_batches_tracked\", \"features.denseblock2.denselayer9.conv1.weight\", \"features.denseblock2.denselayer9.norm2.weight\", \"features.denseblock2.denselayer9.norm2.bias\", \"features.denseblock2.denselayer9.norm2.running_mean\", \"features.denseblock2.denselayer9.norm2.running_var\", \"features.denseblock2.denselayer9.norm2.num_batches_tracked\", \"features.denseblock2.denselayer9.conv2.weight\", \"features.denseblock2.denselayer10.norm1.weight\", \"features.denseblock2.denselayer10.norm1.bias\", \"features.denseblock2.denselayer10.norm1.running_mean\", \"features.denseblock2.denselayer10.norm1.running_var\", \"features.denseblock2.denselayer10.norm1.num_batches_tracked\", \"features.denseblock2.denselayer10.conv1.weight\", \"features.denseblock2.denselayer10.norm2.weight\", \"features.denseblock2.denselayer10.norm2.bias\", \"features.denseblock2.denselayer10.norm2.running_mean\", \"features.denseblock2.denselayer10.norm2.running_var\", \"features.denseblock2.denselayer10.norm2.num_batches_tracked\", \"features.denseblock2.denselayer10.conv2.weight\", \"features.denseblock2.denselayer11.norm1.weight\", \"features.denseblock2.denselayer11.norm1.bias\", \"features.denseblock2.denselayer11.norm1.running_mean\", \"features.denseblock2.denselayer11.norm1.running_var\", \"features.denseblock2.denselayer11.norm1.num_batches_tracked\", \"features.denseblock2.denselayer11.conv1.weight\", \"features.denseblock2.denselayer11.norm2.weight\", \"features.denseblock2.denselayer11.norm2.bias\", \"features.denseblock2.denselayer11.norm2.running_mean\", \"features.denseblock2.denselayer11.norm2.running_var\", \"features.denseblock2.denselayer11.norm2.num_batches_tracked\", \"features.denseblock2.denselayer11.conv2.weight\", \"features.denseblock2.denselayer12.norm1.weight\", \"features.denseblock2.denselayer12.norm1.bias\", \"features.denseblock2.denselayer12.norm1.running_mean\", \"features.denseblock2.denselayer12.norm1.running_var\", \"features.denseblock2.denselayer12.norm1.num_batches_tracked\", \"features.denseblock2.denselayer12.conv1.weight\", \"features.denseblock2.denselayer12.norm2.weight\", \"features.denseblock2.denselayer12.norm2.bias\", \"features.denseblock2.denselayer12.norm2.running_mean\", \"features.denseblock2.denselayer12.norm2.running_var\", \"features.denseblock2.denselayer12.norm2.num_batches_tracked\", \"features.denseblock2.denselayer12.conv2.weight\", \"features.transition2.norm.weight\", \"features.transition2.norm.bias\", \"features.transition2.norm.running_mean\", \"features.transition2.norm.running_var\", \"features.transition2.norm.num_batches_tracked\", \"features.transition2.conv.weight\", \"features.denseblock3.denselayer1.norm1.weight\", \"features.denseblock3.denselayer1.norm1.bias\", \"features.denseblock3.denselayer1.norm1.running_mean\", \"features.denseblock3.denselayer1.norm1.running_var\", \"features.denseblock3.denselayer1.norm1.num_batches_tracked\", \"features.denseblock3.denselayer1.conv1.weight\", \"features.denseblock3.denselayer1.norm2.weight\", \"features.denseblock3.denselayer1.norm2.bias\", \"features.denseblock3.denselayer1.norm2.running_mean\", \"features.denseblock3.denselayer1.norm2.running_var\", \"features.denseblock3.denselayer1.norm2.num_batches_tracked\", \"features.denseblock3.denselayer1.conv2.weight\", \"features.denseblock3.denselayer2.norm1.weight\", \"features.denseblock3.denselayer2.norm1.bias\", \"features.denseblock3.denselayer2.norm1.running_mean\", \"features.denseblock3.denselayer2.norm1.running_var\", \"features.denseblock3.denselayer2.norm1.num_batches_tracked\", \"features.denseblock3.denselayer2.conv1.weight\", \"features.denseblock3.denselayer2.norm2.weight\", \"features.denseblock3.denselayer2.norm2.bias\", \"features.denseblock3.denselayer2.norm2.running_mean\", \"features.denseblock3.denselayer2.norm2.running_var\", \"features.denseblock3.denselayer2.norm2.num_batches_tracked\", \"features.denseblock3.denselayer2.conv2.weight\", \"features.denseblock3.denselayer3.norm1.weight\", \"features.denseblock3.denselayer3.norm1.bias\", \"features.denseblock3.denselayer3.norm1.running_mean\", \"features.denseblock3.denselayer3.norm1.running_var\", \"features.denseblock3.denselayer3.norm1.num_batches_tracked\", \"features.denseblock3.denselayer3.conv1.weight\", \"features.denseblock3.denselayer3.norm2.weight\", \"features.denseblock3.denselayer3.norm2.bias\", \"features.denseblock3.denselayer3.norm2.running_mean\", \"features.denseblock3.denselayer3.norm2.running_var\", \"features.denseblock3.denselayer3.norm2.num_batches_tracked\", \"features.denseblock3.denselayer3.conv2.weight\", \"features.denseblock3.denselayer4.norm1.weight\", \"features.denseblock3.denselayer4.norm1.bias\", \"features.denseblock3.denselayer4.norm1.running_mean\", \"features.denseblock3.denselayer4.norm1.running_var\", \"features.denseblock3.denselayer4.norm1.num_batches_tracked\", \"features.denseblock3.denselayer4.conv1.weight\", \"features.denseblock3.denselayer4.norm2.weight\", \"features.denseblock3.denselayer4.norm2.bias\", \"features.denseblock3.denselayer4.norm2.running_mean\", \"features.denseblock3.denselayer4.norm2.running_var\", \"features.denseblock3.denselayer4.norm2.num_batches_tracked\", \"features.denseblock3.denselayer4.conv2.weight\", \"features.denseblock3.denselayer5.norm1.weight\", \"features.denseblock3.denselayer5.norm1.bias\", \"features.denseblock3.denselayer5.norm1.running_mean\", \"features.denseblock3.denselayer5.norm1.running_var\", \"features.denseblock3.denselayer5.norm1.num_batches_tracked\", \"features.denseblock3.denselayer5.conv1.weight\", \"features.denseblock3.denselayer5.norm2.weight\", \"features.denseblock3.denselayer5.norm2.bias\", \"features.denseblock3.denselayer5.norm2.running_mean\", \"features.denseblock3.denselayer5.norm2.running_var\", \"features.denseblock3.denselayer5.norm2.num_batches_tracked\", \"features.denseblock3.denselayer5.conv2.weight\", \"features.denseblock3.denselayer6.norm1.weight\", \"features.denseblock3.denselayer6.norm1.bias\", \"features.denseblock3.denselayer6.norm1.running_mean\", \"features.denseblock3.denselayer6.norm1.running_var\", \"features.denseblock3.denselayer6.norm1.num_batches_tracked\", \"features.denseblock3.denselayer6.conv1.weight\", \"features.denseblock3.denselayer6.norm2.weight\", \"features.denseblock3.denselayer6.norm2.bias\", \"features.denseblock3.denselayer6.norm2.running_mean\", \"features.denseblock3.denselayer6.norm2.running_var\", \"features.denseblock3.denselayer6.norm2.num_batches_tracked\", \"features.denseblock3.denselayer6.conv2.weight\", \"features.denseblock3.denselayer7.norm1.weight\", \"features.denseblock3.denselayer7.norm1.bias\", \"features.denseblock3.denselayer7.norm1.running_mean\", \"features.denseblock3.denselayer7.norm1.running_var\", \"features.denseblock3.denselayer7.norm1.num_batches_tracked\", \"features.denseblock3.denselayer7.conv1.weight\", \"features.denseblock3.denselayer7.norm2.weight\", \"features.denseblock3.denselayer7.norm2.bias\", \"features.denseblock3.denselayer7.norm2.running_mean\", \"features.denseblock3.denselayer7.norm2.running_var\", \"features.denseblock3.denselayer7.norm2.num_batches_tracked\", \"features.denseblock3.denselayer7.conv2.weight\", \"features.denseblock3.denselayer8.norm1.weight\", \"features.denseblock3.denselayer8.norm1.bias\", \"features.denseblock3.denselayer8.norm1.running_mean\", \"features.denseblock3.denselayer8.norm1.running_var\", \"features.denseblock3.denselayer8.norm1.num_batches_tracked\", \"features.denseblock3.denselayer8.conv1.weight\", \"features.denseblock3.denselayer8.norm2.weight\", \"features.denseblock3.denselayer8.norm2.bias\", \"features.denseblock3.denselayer8.norm2.running_mean\", \"features.denseblock3.denselayer8.norm2.running_var\", \"features.denseblock3.denselayer8.norm2.num_batches_tracked\", \"features.denseblock3.denselayer8.conv2.weight\", \"features.denseblock3.denselayer9.norm1.weight\", \"features.denseblock3.denselayer9.norm1.bias\", \"features.denseblock3.denselayer9.norm1.running_mean\", \"features.denseblock3.denselayer9.norm1.running_var\", \"features.denseblock3.denselayer9.norm1.num_batches_tracked\", \"features.denseblock3.denselayer9.conv1.weight\", \"features.denseblock3.denselayer9.norm2.weight\", \"features.denseblock3.denselayer9.norm2.bias\", \"features.denseblock3.denselayer9.norm2.running_mean\", \"features.denseblock3.denselayer9.norm2.running_var\", \"features.denseblock3.denselayer9.norm2.num_batches_tracked\", \"features.denseblock3.denselayer9.conv2.weight\", \"features.denseblock3.denselayer10.norm1.weight\", \"features.denseblock3.denselayer10.norm1.bias\", \"features.denseblock3.denselayer10.norm1.running_mean\", \"features.denseblock3.denselayer10.norm1.running_var\", \"features.denseblock3.denselayer10.norm1.num_batches_tracked\", \"features.denseblock3.denselayer10.conv1.weight\", \"features.denseblock3.denselayer10.norm2.weight\", \"features.denseblock3.denselayer10.norm2.bias\", \"features.denseblock3.denselayer10.norm2.running_mean\", \"features.denseblock3.denselayer10.norm2.running_var\", \"features.denseblock3.denselayer10.norm2.num_batches_tracked\", \"features.denseblock3.denselayer10.conv2.weight\", \"features.denseblock3.denselayer11.norm1.weight\", \"features.denseblock3.denselayer11.norm1.bias\", \"features.denseblock3.denselayer11.norm1.running_mean\", \"features.denseblock3.denselayer11.norm1.running_var\", \"features.denseblock3.denselayer11.norm1.num_batches_tracked\", \"features.denseblock3.denselayer11.conv1.weight\", \"features.denseblock3.denselayer11.norm2.weight\", \"features.denseblock3.denselayer11.norm2.bias\", \"features.denseblock3.denselayer11.norm2.running_mean\", \"features.denseblock3.denselayer11.norm2.running_var\", \"features.denseblock3.denselayer11.norm2.num_batches_tracked\", \"features.denseblock3.denselayer11.conv2.weight\", \"features.denseblock3.denselayer12.norm1.weight\", \"features.denseblock3.denselayer12.norm1.bias\", \"features.denseblock3.denselayer12.norm1.running_mean\", \"features.denseblock3.denselayer12.norm1.running_var\", \"features.denseblock3.denselayer12.norm1.num_batches_tracked\", \"features.denseblock3.denselayer12.conv1.weight\", \"features.denseblock3.denselayer12.norm2.weight\", \"features.denseblock3.denselayer12.norm2.bias\", \"features.denseblock3.denselayer12.norm2.running_mean\", \"features.denseblock3.denselayer12.norm2.running_var\", \"features.denseblock3.denselayer12.norm2.num_batches_tracked\", \"features.denseblock3.denselayer12.conv2.weight\", \"features.denseblock3.denselayer13.norm1.weight\", \"features.denseblock3.denselayer13.norm1.bias\", \"features.denseblock3.denselayer13.norm1.running_mean\", \"features.denseblock3.denselayer13.norm1.running_var\", \"features.denseblock3.denselayer13.norm1.num_batches_tracked\", \"features.denseblock3.denselayer13.conv1.weight\", \"features.denseblock3.denselayer13.norm2.weight\", \"features.denseblock3.denselayer13.norm2.bias\", \"features.denseblock3.denselayer13.norm2.running_mean\", \"features.denseblock3.denselayer13.norm2.running_var\", \"features.denseblock3.denselayer13.norm2.num_batches_tracked\", \"features.denseblock3.denselayer13.conv2.weight\", \"features.denseblock3.denselayer14.norm1.weight\", \"features.denseblock3.denselayer14.norm1.bias\", \"features.denseblock3.denselayer14.norm1.running_mean\", \"features.denseblock3.denselayer14.norm1.running_var\", \"features.denseblock3.denselayer14.norm1.num_batches_tracked\", \"features.denseblock3.denselayer14.conv1.weight\", \"features.denseblock3.denselayer14.norm2.weight\", \"features.denseblock3.denselayer14.norm2.bias\", \"features.denseblock3.denselayer14.norm2.running_mean\", \"features.denseblock3.denselayer14.norm2.running_var\", \"features.denseblock3.denselayer14.norm2.num_batches_tracked\", \"features.denseblock3.denselayer14.conv2.weight\", \"features.denseblock3.denselayer15.norm1.weight\", \"features.denseblock3.denselayer15.norm1.bias\", \"features.denseblock3.denselayer15.norm1.running_mean\", \"features.denseblock3.denselayer15.norm1.running_var\", \"features.denseblock3.denselayer15.norm1.num_batches_tracked\", \"features.denseblock3.denselayer15.conv1.weight\", \"features.denseblock3.denselayer15.norm2.weight\", \"features.denseblock3.denselayer15.norm2.bias\", \"features.denseblock3.denselayer15.norm2.running_mean\", \"features.denseblock3.denselayer15.norm2.running_var\", \"features.denseblock3.denselayer15.norm2.num_batches_tracked\", \"features.denseblock3.denselayer15.conv2.weight\", \"features.denseblock3.denselayer16.norm1.weight\", \"features.denseblock3.denselayer16.norm1.bias\", \"features.denseblock3.denselayer16.norm1.running_mean\", \"features.denseblock3.denselayer16.norm1.running_var\", \"features.denseblock3.denselayer16.norm1.num_batches_tracked\", \"features.denseblock3.denselayer16.conv1.weight\", \"features.denseblock3.denselayer16.norm2.weight\", \"features.denseblock3.denselayer16.norm2.bias\", \"features.denseblock3.denselayer16.norm2.running_mean\", \"features.denseblock3.denselayer16.norm2.running_var\", \"features.denseblock3.denselayer16.norm2.num_batches_tracked\", \"features.denseblock3.denselayer16.conv2.weight\", \"features.denseblock3.denselayer17.norm1.weight\", \"features.denseblock3.denselayer17.norm1.bias\", \"features.denseblock3.denselayer17.norm1.running_mean\", \"features.denseblock3.denselayer17.norm1.running_var\", \"features.denseblock3.denselayer17.norm1.num_batches_tracked\", \"features.denseblock3.denselayer17.conv1.weight\", \"features.denseblock3.denselayer17.norm2.weight\", \"features.denseblock3.denselayer17.norm2.bias\", \"features.denseblock3.denselayer17.norm2.running_mean\", \"features.denseblock3.denselayer17.norm2.running_var\", \"features.denseblock3.denselayer17.norm2.num_batches_tracked\", \"features.denseblock3.denselayer17.conv2.weight\", \"features.denseblock3.denselayer18.norm1.weight\", \"features.denseblock3.denselayer18.norm1.bias\", \"features.denseblock3.denselayer18.norm1.running_mean\", \"features.denseblock3.denselayer18.norm1.running_var\", \"features.denseblock3.denselayer18.norm1.num_batches_tracked\", \"features.denseblock3.denselayer18.conv1.weight\", \"features.denseblock3.denselayer18.norm2.weight\", \"features.denseblock3.denselayer18.norm2.bias\", \"features.denseblock3.denselayer18.norm2.running_mean\", \"features.denseblock3.denselayer18.norm2.running_var\", \"features.denseblock3.denselayer18.norm2.num_batches_tracked\", \"features.denseblock3.denselayer18.conv2.weight\", \"features.denseblock3.denselayer19.norm1.weight\", \"features.denseblock3.denselayer19.norm1.bias\", \"features.denseblock3.denselayer19.norm1.running_mean\", \"features.denseblock3.denselayer19.norm1.running_var\", \"features.denseblock3.denselayer19.norm1.num_batches_tracked\", \"features.denseblock3.denselayer19.conv1.weight\", \"features.denseblock3.denselayer19.norm2.weight\", \"features.denseblock3.denselayer19.norm2.bias\", \"features.denseblock3.denselayer19.norm2.running_mean\", \"features.denseblock3.denselayer19.norm2.running_var\", \"features.denseblock3.denselayer19.norm2.num_batches_tracked\", \"features.denseblock3.denselayer19.conv2.weight\", \"features.denseblock3.denselayer20.norm1.weight\", \"features.denseblock3.denselayer20.norm1.bias\", \"features.denseblock3.denselayer20.norm1.running_mean\", \"features.denseblock3.denselayer20.norm1.running_var\", \"features.denseblock3.denselayer20.norm1.num_batches_tracked\", \"features.denseblock3.denselayer20.conv1.weight\", \"features.denseblock3.denselayer20.norm2.weight\", \"features.denseblock3.denselayer20.norm2.bias\", \"features.denseblock3.denselayer20.norm2.running_mean\", \"features.denseblock3.denselayer20.norm2.running_var\", \"features.denseblock3.denselayer20.norm2.num_batches_tracked\", \"features.denseblock3.denselayer20.conv2.weight\", \"features.denseblock3.denselayer21.norm1.weight\", \"features.denseblock3.denselayer21.norm1.bias\", \"features.denseblock3.denselayer21.norm1.running_mean\", \"features.denseblock3.denselayer21.norm1.running_var\", \"features.denseblock3.denselayer21.norm1.num_batches_tracked\", \"features.denseblock3.denselayer21.conv1.weight\", \"features.denseblock3.denselayer21.norm2.weight\", \"features.denseblock3.denselayer21.norm2.bias\", \"features.denseblock3.denselayer21.norm2.running_mean\", \"features.denseblock3.denselayer21.norm2.running_var\", \"features.denseblock3.denselayer21.norm2.num_batches_tracked\", \"features.denseblock3.denselayer21.conv2.weight\", \"features.denseblock3.denselayer22.norm1.weight\", \"features.denseblock3.denselayer22.norm1.bias\", \"features.denseblock3.denselayer22.norm1.running_mean\", \"features.denseblock3.denselayer22.norm1.running_var\", \"features.denseblock3.denselayer22.norm1.num_batches_tracked\", \"features.denseblock3.denselayer22.conv1.weight\", \"features.denseblock3.denselayer22.norm2.weight\", \"features.denseblock3.denselayer22.norm2.bias\", \"features.denseblock3.denselayer22.norm2.running_mean\", \"features.denseblock3.denselayer22.norm2.running_var\", \"features.denseblock3.denselayer22.norm2.num_batches_tracked\", \"features.denseblock3.denselayer22.conv2.weight\", \"features.denseblock3.denselayer23.norm1.weight\", \"features.denseblock3.denselayer23.norm1.bias\", \"features.denseblock3.denselayer23.norm1.running_mean\", \"features.denseblock3.denselayer23.norm1.running_var\", \"features.denseblock3.denselayer23.norm1.num_batches_tracked\", \"features.denseblock3.denselayer23.conv1.weight\", \"features.denseblock3.denselayer23.norm2.weight\", \"features.denseblock3.denselayer23.norm2.bias\", \"features.denseblock3.denselayer23.norm2.running_mean\", \"features.denseblock3.denselayer23.norm2.running_var\", \"features.denseblock3.denselayer23.norm2.num_batches_tracked\", \"features.denseblock3.denselayer23.conv2.weight\", \"features.denseblock3.denselayer24.norm1.weight\", \"features.denseblock3.denselayer24.norm1.bias\", \"features.denseblock3.denselayer24.norm1.running_mean\", \"features.denseblock3.denselayer24.norm1.running_var\", \"features.denseblock3.denselayer24.norm1.num_batches_tracked\", \"features.denseblock3.denselayer24.conv1.weight\", \"features.denseblock3.denselayer24.norm2.weight\", \"features.denseblock3.denselayer24.norm2.bias\", \"features.denseblock3.denselayer24.norm2.running_mean\", \"features.denseblock3.denselayer24.norm2.running_var\", \"features.denseblock3.denselayer24.norm2.num_batches_tracked\", \"features.denseblock3.denselayer24.conv2.weight\", \"features.transition3.norm.weight\", \"features.transition3.norm.bias\", \"features.transition3.norm.running_mean\", \"features.transition3.norm.running_var\", \"features.transition3.norm.num_batches_tracked\", \"features.transition3.conv.weight\", \"features.denseblock4.denselayer1.norm1.weight\", \"features.denseblock4.denselayer1.norm1.bias\", \"features.denseblock4.denselayer1.norm1.running_mean\", \"features.denseblock4.denselayer1.norm1.running_var\", \"features.denseblock4.denselayer1.norm1.num_batches_tracked\", \"features.denseblock4.denselayer1.conv1.weight\", \"features.denseblock4.denselayer1.norm2.weight\", \"features.denseblock4.denselayer1.norm2.bias\", \"features.denseblock4.denselayer1.norm2.running_mean\", \"features.denseblock4.denselayer1.norm2.running_var\", \"features.denseblock4.denselayer1.norm2.num_batches_tracked\", \"features.denseblock4.denselayer1.conv2.weight\", \"features.denseblock4.denselayer2.norm1.weight\", \"features.denseblock4.denselayer2.norm1.bias\", \"features.denseblock4.denselayer2.norm1.running_mean\", \"features.denseblock4.denselayer2.norm1.running_var\", \"features.denseblock4.denselayer2.norm1.num_batches_tracked\", \"features.denseblock4.denselayer2.conv1.weight\", \"features.denseblock4.denselayer2.norm2.weight\", \"features.denseblock4.denselayer2.norm2.bias\", \"features.denseblock4.denselayer2.norm2.running_mean\", \"features.denseblock4.denselayer2.norm2.running_var\", \"features.denseblock4.denselayer2.norm2.num_batches_tracked\", \"features.denseblock4.denselayer2.conv2.weight\", \"features.denseblock4.denselayer3.norm1.weight\", \"features.denseblock4.denselayer3.norm1.bias\", \"features.denseblock4.denselayer3.norm1.running_mean\", \"features.denseblock4.denselayer3.norm1.running_var\", \"features.denseblock4.denselayer3.norm1.num_batches_tracked\", \"features.denseblock4.denselayer3.conv1.weight\", \"features.denseblock4.denselayer3.norm2.weight\", \"features.denseblock4.denselayer3.norm2.bias\", \"features.denseblock4.denselayer3.norm2.running_mean\", \"features.denseblock4.denselayer3.norm2.running_var\", \"features.denseblock4.denselayer3.norm2.num_batches_tracked\", \"features.denseblock4.denselayer3.conv2.weight\", \"features.denseblock4.denselayer4.norm1.weight\", \"features.denseblock4.denselayer4.norm1.bias\", \"features.denseblock4.denselayer4.norm1.running_mean\", \"features.denseblock4.denselayer4.norm1.running_var\", \"features.denseblock4.denselayer4.norm1.num_batches_tracked\", \"features.denseblock4.denselayer4.conv1.weight\", \"features.denseblock4.denselayer4.norm2.weight\", \"features.denseblock4.denselayer4.norm2.bias\", \"features.denseblock4.denselayer4.norm2.running_mean\", \"features.denseblock4.denselayer4.norm2.running_var\", \"features.denseblock4.denselayer4.norm2.num_batches_tracked\", \"features.denseblock4.denselayer4.conv2.weight\", \"features.denseblock4.denselayer5.norm1.weight\", \"features.denseblock4.denselayer5.norm1.bias\", \"features.denseblock4.denselayer5.norm1.running_mean\", \"features.denseblock4.denselayer5.norm1.running_var\", \"features.denseblock4.denselayer5.norm1.num_batches_tracked\", \"features.denseblock4.denselayer5.conv1.weight\", \"features.denseblock4.denselayer5.norm2.weight\", \"features.denseblock4.denselayer5.norm2.bias\", \"features.denseblock4.denselayer5.norm2.running_mean\", \"features.denseblock4.denselayer5.norm2.running_var\", \"features.denseblock4.denselayer5.norm2.num_batches_tracked\", \"features.denseblock4.denselayer5.conv2.weight\", \"features.denseblock4.denselayer6.norm1.weight\", \"features.denseblock4.denselayer6.norm1.bias\", \"features.denseblock4.denselayer6.norm1.running_mean\", \"features.denseblock4.denselayer6.norm1.running_var\", \"features.denseblock4.denselayer6.norm1.num_batches_tracked\", \"features.denseblock4.denselayer6.conv1.weight\", \"features.denseblock4.denselayer6.norm2.weight\", \"features.denseblock4.denselayer6.norm2.bias\", \"features.denseblock4.denselayer6.norm2.running_mean\", \"features.denseblock4.denselayer6.norm2.running_var\", \"features.denseblock4.denselayer6.norm2.num_batches_tracked\", \"features.denseblock4.denselayer6.conv2.weight\", \"features.denseblock4.denselayer7.norm1.weight\", \"features.denseblock4.denselayer7.norm1.bias\", \"features.denseblock4.denselayer7.norm1.running_mean\", \"features.denseblock4.denselayer7.norm1.running_var\", \"features.denseblock4.denselayer7.norm1.num_batches_tracked\", \"features.denseblock4.denselayer7.conv1.weight\", \"features.denseblock4.denselayer7.norm2.weight\", \"features.denseblock4.denselayer7.norm2.bias\", \"features.denseblock4.denselayer7.norm2.running_mean\", \"features.denseblock4.denselayer7.norm2.running_var\", \"features.denseblock4.denselayer7.norm2.num_batches_tracked\", \"features.denseblock4.denselayer7.conv2.weight\", \"features.denseblock4.denselayer8.norm1.weight\", \"features.denseblock4.denselayer8.norm1.bias\", \"features.denseblock4.denselayer8.norm1.running_mean\", \"features.denseblock4.denselayer8.norm1.running_var\", \"features.denseblock4.denselayer8.norm1.num_batches_tracked\", \"features.denseblock4.denselayer8.conv1.weight\", \"features.denseblock4.denselayer8.norm2.weight\", \"features.denseblock4.denselayer8.norm2.bias\", \"features.denseblock4.denselayer8.norm2.running_mean\", \"features.denseblock4.denselayer8.norm2.running_var\", \"features.denseblock4.denselayer8.norm2.num_batches_tracked\", \"features.denseblock4.denselayer8.conv2.weight\", \"features.denseblock4.denselayer9.norm1.weight\", \"features.denseblock4.denselayer9.norm1.bias\", \"features.denseblock4.denselayer9.norm1.running_mean\", \"features.denseblock4.denselayer9.norm1.running_var\", \"features.denseblock4.denselayer9.norm1.num_batches_tracked\", \"features.denseblock4.denselayer9.conv1.weight\", \"features.denseblock4.denselayer9.norm2.weight\", \"features.denseblock4.denselayer9.norm2.bias\", \"features.denseblock4.denselayer9.norm2.running_mean\", \"features.denseblock4.denselayer9.norm2.running_var\", \"features.denseblock4.denselayer9.norm2.num_batches_tracked\", \"features.denseblock4.denselayer9.conv2.weight\", \"features.denseblock4.denselayer10.norm1.weight\", \"features.denseblock4.denselayer10.norm1.bias\", \"features.denseblock4.denselayer10.norm1.running_mean\", \"features.denseblock4.denselayer10.norm1.running_var\", \"features.denseblock4.denselayer10.norm1.num_batches_tracked\", \"features.denseblock4.denselayer10.conv1.weight\", \"features.denseblock4.denselayer10.norm2.weight\", \"features.denseblock4.denselayer10.norm2.bias\", \"features.denseblock4.denselayer10.norm2.running_mean\", \"features.denseblock4.denselayer10.norm2.running_var\", \"features.denseblock4.denselayer10.norm2.num_batches_tracked\", \"features.denseblock4.denselayer10.conv2.weight\", \"features.denseblock4.denselayer11.norm1.weight\", \"features.denseblock4.denselayer11.norm1.bias\", \"features.denseblock4.denselayer11.norm1.running_mean\", \"features.denseblock4.denselayer11.norm1.running_var\", \"features.denseblock4.denselayer11.norm1.num_batches_tracked\", \"features.denseblock4.denselayer11.conv1.weight\", \"features.denseblock4.denselayer11.norm2.weight\", \"features.denseblock4.denselayer11.norm2.bias\", \"features.denseblock4.denselayer11.norm2.running_mean\", \"features.denseblock4.denselayer11.norm2.running_var\", \"features.denseblock4.denselayer11.norm2.num_batches_tracked\", \"features.denseblock4.denselayer11.conv2.weight\", \"features.denseblock4.denselayer12.norm1.weight\", \"features.denseblock4.denselayer12.norm1.bias\", \"features.denseblock4.denselayer12.norm1.running_mean\", \"features.denseblock4.denselayer12.norm1.running_var\", \"features.denseblock4.denselayer12.norm1.num_batches_tracked\", \"features.denseblock4.denselayer12.conv1.weight\", \"features.denseblock4.denselayer12.norm2.weight\", \"features.denseblock4.denselayer12.norm2.bias\", \"features.denseblock4.denselayer12.norm2.running_mean\", \"features.denseblock4.denselayer12.norm2.running_var\", \"features.denseblock4.denselayer12.norm2.num_batches_tracked\", \"features.denseblock4.denselayer12.conv2.weight\", \"features.denseblock4.denselayer13.norm1.weight\", \"features.denseblock4.denselayer13.norm1.bias\", \"features.denseblock4.denselayer13.norm1.running_mean\", \"features.denseblock4.denselayer13.norm1.running_var\", \"features.denseblock4.denselayer13.norm1.num_batches_tracked\", \"features.denseblock4.denselayer13.conv1.weight\", \"features.denseblock4.denselayer13.norm2.weight\", \"features.denseblock4.denselayer13.norm2.bias\", \"features.denseblock4.denselayer13.norm2.running_mean\", \"features.denseblock4.denselayer13.norm2.running_var\", \"features.denseblock4.denselayer13.norm2.num_batches_tracked\", \"features.denseblock4.denselayer13.conv2.weight\", \"features.denseblock4.denselayer14.norm1.weight\", \"features.denseblock4.denselayer14.norm1.bias\", \"features.denseblock4.denselayer14.norm1.running_mean\", \"features.denseblock4.denselayer14.norm1.running_var\", \"features.denseblock4.denselayer14.norm1.num_batches_tracked\", \"features.denseblock4.denselayer14.conv1.weight\", \"features.denseblock4.denselayer14.norm2.weight\", \"features.denseblock4.denselayer14.norm2.bias\", \"features.denseblock4.denselayer14.norm2.running_mean\", \"features.denseblock4.denselayer14.norm2.running_var\", \"features.denseblock4.denselayer14.norm2.num_batches_tracked\", \"features.denseblock4.denselayer14.conv2.weight\", \"features.denseblock4.denselayer15.norm1.weight\", \"features.denseblock4.denselayer15.norm1.bias\", \"features.denseblock4.denselayer15.norm1.running_mean\", \"features.denseblock4.denselayer15.norm1.running_var\", \"features.denseblock4.denselayer15.norm1.num_batches_tracked\", \"features.denseblock4.denselayer15.conv1.weight\", \"features.denseblock4.denselayer15.norm2.weight\", \"features.denseblock4.denselayer15.norm2.bias\", \"features.denseblock4.denselayer15.norm2.running_mean\", \"features.denseblock4.denselayer15.norm2.running_var\", \"features.denseblock4.denselayer15.norm2.num_batches_tracked\", \"features.denseblock4.denselayer15.conv2.weight\", \"features.denseblock4.denselayer16.norm1.weight\", \"features.denseblock4.denselayer16.norm1.bias\", \"features.denseblock4.denselayer16.norm1.running_mean\", \"features.denseblock4.denselayer16.norm1.running_var\", \"features.denseblock4.denselayer16.norm1.num_batches_tracked\", \"features.denseblock4.denselayer16.conv1.weight\", \"features.denseblock4.denselayer16.norm2.weight\", \"features.denseblock4.denselayer16.norm2.bias\", \"features.denseblock4.denselayer16.norm2.running_mean\", \"features.denseblock4.denselayer16.norm2.running_var\", \"features.denseblock4.denselayer16.norm2.num_batches_tracked\", \"features.denseblock4.denselayer16.conv2.weight\", \"features.norm5.weight\", \"features.norm5.bias\", \"features.norm5.running_mean\", \"features.norm5.running_var\", \"features.norm5.num_batches_tracked\", \"classifier.weight\", \"classifier.bias\". "
     ]
    }
   ],
   "source": [
    "\"\"\"\n",
    "resnext\n",
    "\"\"\"\n",
    "resnetxt50_pretrained.load_state_dict(torch.load(\"resnetxt50_pretrained_all_grad.pt\"))\n"
   ],
   "metadata": {
    "collapsed": false,
    "pycharm": {
     "name": "#%%\n"
    }
   }
  },
  {
   "cell_type": "code",
   "execution_count": null,
   "outputs": [],
   "source": [
    "mean_embeds = get_class_mean_embeddings(resnetxt50_pretrained, train_loader)\n",
    "print(mean_embeds)"
   ],
   "metadata": {
    "collapsed": false,
    "pycharm": {
     "name": "#%%\n"
    }
   }
  },
  {
   "cell_type": "code",
   "execution_count": null,
   "outputs": [],
   "source": [
    "def compute_distances(model, mean_embeds):\n",
    "    print(\"l2 dist:\")\n",
    "    dist_iid = calc_dist_mean(model, id_val_loader, mean_embeds)\n",
    "    print(calc_mean_std(dist_iid[0]))\n",
    "    print(calc_mean_std(dist_iid[1]))\n",
    "    dist_ood = calc_dist_mean(model, val_loader, mean_embeds)\n",
    "    print(calc_mean_std(dist_ood[0]))\n",
    "    print(calc_mean_std(dist_ood[1]))\n",
    "\n",
    "    print(\"cos sim:\")\n",
    "    dist_iid = calc_dist_mean(model, id_val_loader, mean_embeds, \"cos\")\n",
    "    print(calc_mean_std(dist_iid[0]))\n",
    "    print(calc_mean_std(dist_iid[1]))\n",
    "    dist_ood = calc_dist_mean(model, val_loader, mean_embeds, \"cos\")\n",
    "    print(calc_mean_std(dist_ood[0]))\n",
    "    print(calc_mean_std(dist_ood[1]))\n",
    "\n",
    "    print(\"mink dist:\")\n",
    "    dist_iid = calc_dist_mean(model, id_val_loader, mean_embeds, \"mink\")\n",
    "    print(calc_mean_std(dist_iid[0]))\n",
    "    print(calc_mean_std(dist_iid[1]))\n",
    "    dist_ood = calc_dist_mean(model, val_loader, mean_embeds, \"mink\")\n",
    "    print(calc_mean_std(dist_ood[0]))\n",
    "    print(calc_mean_std(dist_ood[1]))"
   ],
   "metadata": {
    "collapsed": false,
    "pycharm": {
     "name": "#%%\n"
    }
   }
  },
  {
   "cell_type": "code",
   "execution_count": null,
   "outputs": [],
   "source": [
    "compute_distances(resnetxt50_pretrained, mean_embeds)"
   ],
   "metadata": {
    "collapsed": false,
    "pycharm": {
     "name": "#%%\n"
    }
   }
  },
  {
   "cell_type": "code",
   "execution_count": 104,
   "outputs": [
    {
     "data": {
      "text/plain": "<All keys matched successfully>"
     },
     "execution_count": 104,
     "metadata": {},
     "output_type": "execute_result"
    }
   ],
   "source": [
    "\"\"\"\n",
    "densenet121\n",
    "\"\"\"\n",
    "densenet121_pretrained.load_state_dict(torch.load(\"densenet121_pretrained_all_grad.pt\"))"
   ],
   "metadata": {
    "collapsed": false,
    "pycharm": {
     "name": "#%%\n"
    }
   }
  },
  {
   "cell_type": "code",
   "execution_count": 105,
   "outputs": [
    {
     "name": "stdout",
     "output_type": "stream",
     "text": [
      "Sequential(\n",
      "  (conv0): Conv2d(3, 64, kernel_size=(7, 7), stride=(2, 2), padding=(3, 3), bias=False)\n",
      "  (norm0): BatchNorm2d(64, eps=1e-05, momentum=0.1, affine=True, track_running_stats=True)\n",
      "  (relu0): ReLU(inplace=True)\n",
      "  (pool0): MaxPool2d(kernel_size=3, stride=2, padding=1, dilation=1, ceil_mode=False)\n",
      "  (denseblock1): _DenseBlock(\n",
      "    (denselayer1): _DenseLayer(\n",
      "      (norm1): BatchNorm2d(64, eps=1e-05, momentum=0.1, affine=True, track_running_stats=True)\n",
      "      (relu1): ReLU(inplace=True)\n",
      "      (conv1): Conv2d(64, 128, kernel_size=(1, 1), stride=(1, 1), bias=False)\n",
      "      (norm2): BatchNorm2d(128, eps=1e-05, momentum=0.1, affine=True, track_running_stats=True)\n",
      "      (relu2): ReLU(inplace=True)\n",
      "      (conv2): Conv2d(128, 32, kernel_size=(3, 3), stride=(1, 1), padding=(1, 1), bias=False)\n",
      "    )\n",
      "    (denselayer2): _DenseLayer(\n",
      "      (norm1): BatchNorm2d(96, eps=1e-05, momentum=0.1, affine=True, track_running_stats=True)\n",
      "      (relu1): ReLU(inplace=True)\n",
      "      (conv1): Conv2d(96, 128, kernel_size=(1, 1), stride=(1, 1), bias=False)\n",
      "      (norm2): BatchNorm2d(128, eps=1e-05, momentum=0.1, affine=True, track_running_stats=True)\n",
      "      (relu2): ReLU(inplace=True)\n",
      "      (conv2): Conv2d(128, 32, kernel_size=(3, 3), stride=(1, 1), padding=(1, 1), bias=False)\n",
      "    )\n",
      "    (denselayer3): _DenseLayer(\n",
      "      (norm1): BatchNorm2d(128, eps=1e-05, momentum=0.1, affine=True, track_running_stats=True)\n",
      "      (relu1): ReLU(inplace=True)\n",
      "      (conv1): Conv2d(128, 128, kernel_size=(1, 1), stride=(1, 1), bias=False)\n",
      "      (norm2): BatchNorm2d(128, eps=1e-05, momentum=0.1, affine=True, track_running_stats=True)\n",
      "      (relu2): ReLU(inplace=True)\n",
      "      (conv2): Conv2d(128, 32, kernel_size=(3, 3), stride=(1, 1), padding=(1, 1), bias=False)\n",
      "    )\n",
      "    (denselayer4): _DenseLayer(\n",
      "      (norm1): BatchNorm2d(160, eps=1e-05, momentum=0.1, affine=True, track_running_stats=True)\n",
      "      (relu1): ReLU(inplace=True)\n",
      "      (conv1): Conv2d(160, 128, kernel_size=(1, 1), stride=(1, 1), bias=False)\n",
      "      (norm2): BatchNorm2d(128, eps=1e-05, momentum=0.1, affine=True, track_running_stats=True)\n",
      "      (relu2): ReLU(inplace=True)\n",
      "      (conv2): Conv2d(128, 32, kernel_size=(3, 3), stride=(1, 1), padding=(1, 1), bias=False)\n",
      "    )\n",
      "    (denselayer5): _DenseLayer(\n",
      "      (norm1): BatchNorm2d(192, eps=1e-05, momentum=0.1, affine=True, track_running_stats=True)\n",
      "      (relu1): ReLU(inplace=True)\n",
      "      (conv1): Conv2d(192, 128, kernel_size=(1, 1), stride=(1, 1), bias=False)\n",
      "      (norm2): BatchNorm2d(128, eps=1e-05, momentum=0.1, affine=True, track_running_stats=True)\n",
      "      (relu2): ReLU(inplace=True)\n",
      "      (conv2): Conv2d(128, 32, kernel_size=(3, 3), stride=(1, 1), padding=(1, 1), bias=False)\n",
      "    )\n",
      "    (denselayer6): _DenseLayer(\n",
      "      (norm1): BatchNorm2d(224, eps=1e-05, momentum=0.1, affine=True, track_running_stats=True)\n",
      "      (relu1): ReLU(inplace=True)\n",
      "      (conv1): Conv2d(224, 128, kernel_size=(1, 1), stride=(1, 1), bias=False)\n",
      "      (norm2): BatchNorm2d(128, eps=1e-05, momentum=0.1, affine=True, track_running_stats=True)\n",
      "      (relu2): ReLU(inplace=True)\n",
      "      (conv2): Conv2d(128, 32, kernel_size=(3, 3), stride=(1, 1), padding=(1, 1), bias=False)\n",
      "    )\n",
      "  )\n",
      "  (transition1): _Transition(\n",
      "    (norm): BatchNorm2d(256, eps=1e-05, momentum=0.1, affine=True, track_running_stats=True)\n",
      "    (relu): ReLU(inplace=True)\n",
      "    (conv): Conv2d(256, 128, kernel_size=(1, 1), stride=(1, 1), bias=False)\n",
      "    (pool): AvgPool2d(kernel_size=2, stride=2, padding=0)\n",
      "  )\n",
      "  (denseblock2): _DenseBlock(\n",
      "    (denselayer1): _DenseLayer(\n",
      "      (norm1): BatchNorm2d(128, eps=1e-05, momentum=0.1, affine=True, track_running_stats=True)\n",
      "      (relu1): ReLU(inplace=True)\n",
      "      (conv1): Conv2d(128, 128, kernel_size=(1, 1), stride=(1, 1), bias=False)\n",
      "      (norm2): BatchNorm2d(128, eps=1e-05, momentum=0.1, affine=True, track_running_stats=True)\n",
      "      (relu2): ReLU(inplace=True)\n",
      "      (conv2): Conv2d(128, 32, kernel_size=(3, 3), stride=(1, 1), padding=(1, 1), bias=False)\n",
      "    )\n",
      "    (denselayer2): _DenseLayer(\n",
      "      (norm1): BatchNorm2d(160, eps=1e-05, momentum=0.1, affine=True, track_running_stats=True)\n",
      "      (relu1): ReLU(inplace=True)\n",
      "      (conv1): Conv2d(160, 128, kernel_size=(1, 1), stride=(1, 1), bias=False)\n",
      "      (norm2): BatchNorm2d(128, eps=1e-05, momentum=0.1, affine=True, track_running_stats=True)\n",
      "      (relu2): ReLU(inplace=True)\n",
      "      (conv2): Conv2d(128, 32, kernel_size=(3, 3), stride=(1, 1), padding=(1, 1), bias=False)\n",
      "    )\n",
      "    (denselayer3): _DenseLayer(\n",
      "      (norm1): BatchNorm2d(192, eps=1e-05, momentum=0.1, affine=True, track_running_stats=True)\n",
      "      (relu1): ReLU(inplace=True)\n",
      "      (conv1): Conv2d(192, 128, kernel_size=(1, 1), stride=(1, 1), bias=False)\n",
      "      (norm2): BatchNorm2d(128, eps=1e-05, momentum=0.1, affine=True, track_running_stats=True)\n",
      "      (relu2): ReLU(inplace=True)\n",
      "      (conv2): Conv2d(128, 32, kernel_size=(3, 3), stride=(1, 1), padding=(1, 1), bias=False)\n",
      "    )\n",
      "    (denselayer4): _DenseLayer(\n",
      "      (norm1): BatchNorm2d(224, eps=1e-05, momentum=0.1, affine=True, track_running_stats=True)\n",
      "      (relu1): ReLU(inplace=True)\n",
      "      (conv1): Conv2d(224, 128, kernel_size=(1, 1), stride=(1, 1), bias=False)\n",
      "      (norm2): BatchNorm2d(128, eps=1e-05, momentum=0.1, affine=True, track_running_stats=True)\n",
      "      (relu2): ReLU(inplace=True)\n",
      "      (conv2): Conv2d(128, 32, kernel_size=(3, 3), stride=(1, 1), padding=(1, 1), bias=False)\n",
      "    )\n",
      "    (denselayer5): _DenseLayer(\n",
      "      (norm1): BatchNorm2d(256, eps=1e-05, momentum=0.1, affine=True, track_running_stats=True)\n",
      "      (relu1): ReLU(inplace=True)\n",
      "      (conv1): Conv2d(256, 128, kernel_size=(1, 1), stride=(1, 1), bias=False)\n",
      "      (norm2): BatchNorm2d(128, eps=1e-05, momentum=0.1, affine=True, track_running_stats=True)\n",
      "      (relu2): ReLU(inplace=True)\n",
      "      (conv2): Conv2d(128, 32, kernel_size=(3, 3), stride=(1, 1), padding=(1, 1), bias=False)\n",
      "    )\n",
      "    (denselayer6): _DenseLayer(\n",
      "      (norm1): BatchNorm2d(288, eps=1e-05, momentum=0.1, affine=True, track_running_stats=True)\n",
      "      (relu1): ReLU(inplace=True)\n",
      "      (conv1): Conv2d(288, 128, kernel_size=(1, 1), stride=(1, 1), bias=False)\n",
      "      (norm2): BatchNorm2d(128, eps=1e-05, momentum=0.1, affine=True, track_running_stats=True)\n",
      "      (relu2): ReLU(inplace=True)\n",
      "      (conv2): Conv2d(128, 32, kernel_size=(3, 3), stride=(1, 1), padding=(1, 1), bias=False)\n",
      "    )\n",
      "    (denselayer7): _DenseLayer(\n",
      "      (norm1): BatchNorm2d(320, eps=1e-05, momentum=0.1, affine=True, track_running_stats=True)\n",
      "      (relu1): ReLU(inplace=True)\n",
      "      (conv1): Conv2d(320, 128, kernel_size=(1, 1), stride=(1, 1), bias=False)\n",
      "      (norm2): BatchNorm2d(128, eps=1e-05, momentum=0.1, affine=True, track_running_stats=True)\n",
      "      (relu2): ReLU(inplace=True)\n",
      "      (conv2): Conv2d(128, 32, kernel_size=(3, 3), stride=(1, 1), padding=(1, 1), bias=False)\n",
      "    )\n",
      "    (denselayer8): _DenseLayer(\n",
      "      (norm1): BatchNorm2d(352, eps=1e-05, momentum=0.1, affine=True, track_running_stats=True)\n",
      "      (relu1): ReLU(inplace=True)\n",
      "      (conv1): Conv2d(352, 128, kernel_size=(1, 1), stride=(1, 1), bias=False)\n",
      "      (norm2): BatchNorm2d(128, eps=1e-05, momentum=0.1, affine=True, track_running_stats=True)\n",
      "      (relu2): ReLU(inplace=True)\n",
      "      (conv2): Conv2d(128, 32, kernel_size=(3, 3), stride=(1, 1), padding=(1, 1), bias=False)\n",
      "    )\n",
      "    (denselayer9): _DenseLayer(\n",
      "      (norm1): BatchNorm2d(384, eps=1e-05, momentum=0.1, affine=True, track_running_stats=True)\n",
      "      (relu1): ReLU(inplace=True)\n",
      "      (conv1): Conv2d(384, 128, kernel_size=(1, 1), stride=(1, 1), bias=False)\n",
      "      (norm2): BatchNorm2d(128, eps=1e-05, momentum=0.1, affine=True, track_running_stats=True)\n",
      "      (relu2): ReLU(inplace=True)\n",
      "      (conv2): Conv2d(128, 32, kernel_size=(3, 3), stride=(1, 1), padding=(1, 1), bias=False)\n",
      "    )\n",
      "    (denselayer10): _DenseLayer(\n",
      "      (norm1): BatchNorm2d(416, eps=1e-05, momentum=0.1, affine=True, track_running_stats=True)\n",
      "      (relu1): ReLU(inplace=True)\n",
      "      (conv1): Conv2d(416, 128, kernel_size=(1, 1), stride=(1, 1), bias=False)\n",
      "      (norm2): BatchNorm2d(128, eps=1e-05, momentum=0.1, affine=True, track_running_stats=True)\n",
      "      (relu2): ReLU(inplace=True)\n",
      "      (conv2): Conv2d(128, 32, kernel_size=(3, 3), stride=(1, 1), padding=(1, 1), bias=False)\n",
      "    )\n",
      "    (denselayer11): _DenseLayer(\n",
      "      (norm1): BatchNorm2d(448, eps=1e-05, momentum=0.1, affine=True, track_running_stats=True)\n",
      "      (relu1): ReLU(inplace=True)\n",
      "      (conv1): Conv2d(448, 128, kernel_size=(1, 1), stride=(1, 1), bias=False)\n",
      "      (norm2): BatchNorm2d(128, eps=1e-05, momentum=0.1, affine=True, track_running_stats=True)\n",
      "      (relu2): ReLU(inplace=True)\n",
      "      (conv2): Conv2d(128, 32, kernel_size=(3, 3), stride=(1, 1), padding=(1, 1), bias=False)\n",
      "    )\n",
      "    (denselayer12): _DenseLayer(\n",
      "      (norm1): BatchNorm2d(480, eps=1e-05, momentum=0.1, affine=True, track_running_stats=True)\n",
      "      (relu1): ReLU(inplace=True)\n",
      "      (conv1): Conv2d(480, 128, kernel_size=(1, 1), stride=(1, 1), bias=False)\n",
      "      (norm2): BatchNorm2d(128, eps=1e-05, momentum=0.1, affine=True, track_running_stats=True)\n",
      "      (relu2): ReLU(inplace=True)\n",
      "      (conv2): Conv2d(128, 32, kernel_size=(3, 3), stride=(1, 1), padding=(1, 1), bias=False)\n",
      "    )\n",
      "  )\n",
      "  (transition2): _Transition(\n",
      "    (norm): BatchNorm2d(512, eps=1e-05, momentum=0.1, affine=True, track_running_stats=True)\n",
      "    (relu): ReLU(inplace=True)\n",
      "    (conv): Conv2d(512, 256, kernel_size=(1, 1), stride=(1, 1), bias=False)\n",
      "    (pool): AvgPool2d(kernel_size=2, stride=2, padding=0)\n",
      "  )\n",
      "  (denseblock3): _DenseBlock(\n",
      "    (denselayer1): _DenseLayer(\n",
      "      (norm1): BatchNorm2d(256, eps=1e-05, momentum=0.1, affine=True, track_running_stats=True)\n",
      "      (relu1): ReLU(inplace=True)\n",
      "      (conv1): Conv2d(256, 128, kernel_size=(1, 1), stride=(1, 1), bias=False)\n",
      "      (norm2): BatchNorm2d(128, eps=1e-05, momentum=0.1, affine=True, track_running_stats=True)\n",
      "      (relu2): ReLU(inplace=True)\n",
      "      (conv2): Conv2d(128, 32, kernel_size=(3, 3), stride=(1, 1), padding=(1, 1), bias=False)\n",
      "    )\n",
      "    (denselayer2): _DenseLayer(\n",
      "      (norm1): BatchNorm2d(288, eps=1e-05, momentum=0.1, affine=True, track_running_stats=True)\n",
      "      (relu1): ReLU(inplace=True)\n",
      "      (conv1): Conv2d(288, 128, kernel_size=(1, 1), stride=(1, 1), bias=False)\n",
      "      (norm2): BatchNorm2d(128, eps=1e-05, momentum=0.1, affine=True, track_running_stats=True)\n",
      "      (relu2): ReLU(inplace=True)\n",
      "      (conv2): Conv2d(128, 32, kernel_size=(3, 3), stride=(1, 1), padding=(1, 1), bias=False)\n",
      "    )\n",
      "    (denselayer3): _DenseLayer(\n",
      "      (norm1): BatchNorm2d(320, eps=1e-05, momentum=0.1, affine=True, track_running_stats=True)\n",
      "      (relu1): ReLU(inplace=True)\n",
      "      (conv1): Conv2d(320, 128, kernel_size=(1, 1), stride=(1, 1), bias=False)\n",
      "      (norm2): BatchNorm2d(128, eps=1e-05, momentum=0.1, affine=True, track_running_stats=True)\n",
      "      (relu2): ReLU(inplace=True)\n",
      "      (conv2): Conv2d(128, 32, kernel_size=(3, 3), stride=(1, 1), padding=(1, 1), bias=False)\n",
      "    )\n",
      "    (denselayer4): _DenseLayer(\n",
      "      (norm1): BatchNorm2d(352, eps=1e-05, momentum=0.1, affine=True, track_running_stats=True)\n",
      "      (relu1): ReLU(inplace=True)\n",
      "      (conv1): Conv2d(352, 128, kernel_size=(1, 1), stride=(1, 1), bias=False)\n",
      "      (norm2): BatchNorm2d(128, eps=1e-05, momentum=0.1, affine=True, track_running_stats=True)\n",
      "      (relu2): ReLU(inplace=True)\n",
      "      (conv2): Conv2d(128, 32, kernel_size=(3, 3), stride=(1, 1), padding=(1, 1), bias=False)\n",
      "    )\n",
      "    (denselayer5): _DenseLayer(\n",
      "      (norm1): BatchNorm2d(384, eps=1e-05, momentum=0.1, affine=True, track_running_stats=True)\n",
      "      (relu1): ReLU(inplace=True)\n",
      "      (conv1): Conv2d(384, 128, kernel_size=(1, 1), stride=(1, 1), bias=False)\n",
      "      (norm2): BatchNorm2d(128, eps=1e-05, momentum=0.1, affine=True, track_running_stats=True)\n",
      "      (relu2): ReLU(inplace=True)\n",
      "      (conv2): Conv2d(128, 32, kernel_size=(3, 3), stride=(1, 1), padding=(1, 1), bias=False)\n",
      "    )\n",
      "    (denselayer6): _DenseLayer(\n",
      "      (norm1): BatchNorm2d(416, eps=1e-05, momentum=0.1, affine=True, track_running_stats=True)\n",
      "      (relu1): ReLU(inplace=True)\n",
      "      (conv1): Conv2d(416, 128, kernel_size=(1, 1), stride=(1, 1), bias=False)\n",
      "      (norm2): BatchNorm2d(128, eps=1e-05, momentum=0.1, affine=True, track_running_stats=True)\n",
      "      (relu2): ReLU(inplace=True)\n",
      "      (conv2): Conv2d(128, 32, kernel_size=(3, 3), stride=(1, 1), padding=(1, 1), bias=False)\n",
      "    )\n",
      "    (denselayer7): _DenseLayer(\n",
      "      (norm1): BatchNorm2d(448, eps=1e-05, momentum=0.1, affine=True, track_running_stats=True)\n",
      "      (relu1): ReLU(inplace=True)\n",
      "      (conv1): Conv2d(448, 128, kernel_size=(1, 1), stride=(1, 1), bias=False)\n",
      "      (norm2): BatchNorm2d(128, eps=1e-05, momentum=0.1, affine=True, track_running_stats=True)\n",
      "      (relu2): ReLU(inplace=True)\n",
      "      (conv2): Conv2d(128, 32, kernel_size=(3, 3), stride=(1, 1), padding=(1, 1), bias=False)\n",
      "    )\n",
      "    (denselayer8): _DenseLayer(\n",
      "      (norm1): BatchNorm2d(480, eps=1e-05, momentum=0.1, affine=True, track_running_stats=True)\n",
      "      (relu1): ReLU(inplace=True)\n",
      "      (conv1): Conv2d(480, 128, kernel_size=(1, 1), stride=(1, 1), bias=False)\n",
      "      (norm2): BatchNorm2d(128, eps=1e-05, momentum=0.1, affine=True, track_running_stats=True)\n",
      "      (relu2): ReLU(inplace=True)\n",
      "      (conv2): Conv2d(128, 32, kernel_size=(3, 3), stride=(1, 1), padding=(1, 1), bias=False)\n",
      "    )\n",
      "    (denselayer9): _DenseLayer(\n",
      "      (norm1): BatchNorm2d(512, eps=1e-05, momentum=0.1, affine=True, track_running_stats=True)\n",
      "      (relu1): ReLU(inplace=True)\n",
      "      (conv1): Conv2d(512, 128, kernel_size=(1, 1), stride=(1, 1), bias=False)\n",
      "      (norm2): BatchNorm2d(128, eps=1e-05, momentum=0.1, affine=True, track_running_stats=True)\n",
      "      (relu2): ReLU(inplace=True)\n",
      "      (conv2): Conv2d(128, 32, kernel_size=(3, 3), stride=(1, 1), padding=(1, 1), bias=False)\n",
      "    )\n",
      "    (denselayer10): _DenseLayer(\n",
      "      (norm1): BatchNorm2d(544, eps=1e-05, momentum=0.1, affine=True, track_running_stats=True)\n",
      "      (relu1): ReLU(inplace=True)\n",
      "      (conv1): Conv2d(544, 128, kernel_size=(1, 1), stride=(1, 1), bias=False)\n",
      "      (norm2): BatchNorm2d(128, eps=1e-05, momentum=0.1, affine=True, track_running_stats=True)\n",
      "      (relu2): ReLU(inplace=True)\n",
      "      (conv2): Conv2d(128, 32, kernel_size=(3, 3), stride=(1, 1), padding=(1, 1), bias=False)\n",
      "    )\n",
      "    (denselayer11): _DenseLayer(\n",
      "      (norm1): BatchNorm2d(576, eps=1e-05, momentum=0.1, affine=True, track_running_stats=True)\n",
      "      (relu1): ReLU(inplace=True)\n",
      "      (conv1): Conv2d(576, 128, kernel_size=(1, 1), stride=(1, 1), bias=False)\n",
      "      (norm2): BatchNorm2d(128, eps=1e-05, momentum=0.1, affine=True, track_running_stats=True)\n",
      "      (relu2): ReLU(inplace=True)\n",
      "      (conv2): Conv2d(128, 32, kernel_size=(3, 3), stride=(1, 1), padding=(1, 1), bias=False)\n",
      "    )\n",
      "    (denselayer12): _DenseLayer(\n",
      "      (norm1): BatchNorm2d(608, eps=1e-05, momentum=0.1, affine=True, track_running_stats=True)\n",
      "      (relu1): ReLU(inplace=True)\n",
      "      (conv1): Conv2d(608, 128, kernel_size=(1, 1), stride=(1, 1), bias=False)\n",
      "      (norm2): BatchNorm2d(128, eps=1e-05, momentum=0.1, affine=True, track_running_stats=True)\n",
      "      (relu2): ReLU(inplace=True)\n",
      "      (conv2): Conv2d(128, 32, kernel_size=(3, 3), stride=(1, 1), padding=(1, 1), bias=False)\n",
      "    )\n",
      "    (denselayer13): _DenseLayer(\n",
      "      (norm1): BatchNorm2d(640, eps=1e-05, momentum=0.1, affine=True, track_running_stats=True)\n",
      "      (relu1): ReLU(inplace=True)\n",
      "      (conv1): Conv2d(640, 128, kernel_size=(1, 1), stride=(1, 1), bias=False)\n",
      "      (norm2): BatchNorm2d(128, eps=1e-05, momentum=0.1, affine=True, track_running_stats=True)\n",
      "      (relu2): ReLU(inplace=True)\n",
      "      (conv2): Conv2d(128, 32, kernel_size=(3, 3), stride=(1, 1), padding=(1, 1), bias=False)\n",
      "    )\n",
      "    (denselayer14): _DenseLayer(\n",
      "      (norm1): BatchNorm2d(672, eps=1e-05, momentum=0.1, affine=True, track_running_stats=True)\n",
      "      (relu1): ReLU(inplace=True)\n",
      "      (conv1): Conv2d(672, 128, kernel_size=(1, 1), stride=(1, 1), bias=False)\n",
      "      (norm2): BatchNorm2d(128, eps=1e-05, momentum=0.1, affine=True, track_running_stats=True)\n",
      "      (relu2): ReLU(inplace=True)\n",
      "      (conv2): Conv2d(128, 32, kernel_size=(3, 3), stride=(1, 1), padding=(1, 1), bias=False)\n",
      "    )\n",
      "    (denselayer15): _DenseLayer(\n",
      "      (norm1): BatchNorm2d(704, eps=1e-05, momentum=0.1, affine=True, track_running_stats=True)\n",
      "      (relu1): ReLU(inplace=True)\n",
      "      (conv1): Conv2d(704, 128, kernel_size=(1, 1), stride=(1, 1), bias=False)\n",
      "      (norm2): BatchNorm2d(128, eps=1e-05, momentum=0.1, affine=True, track_running_stats=True)\n",
      "      (relu2): ReLU(inplace=True)\n",
      "      (conv2): Conv2d(128, 32, kernel_size=(3, 3), stride=(1, 1), padding=(1, 1), bias=False)\n",
      "    )\n",
      "    (denselayer16): _DenseLayer(\n",
      "      (norm1): BatchNorm2d(736, eps=1e-05, momentum=0.1, affine=True, track_running_stats=True)\n",
      "      (relu1): ReLU(inplace=True)\n",
      "      (conv1): Conv2d(736, 128, kernel_size=(1, 1), stride=(1, 1), bias=False)\n",
      "      (norm2): BatchNorm2d(128, eps=1e-05, momentum=0.1, affine=True, track_running_stats=True)\n",
      "      (relu2): ReLU(inplace=True)\n",
      "      (conv2): Conv2d(128, 32, kernel_size=(3, 3), stride=(1, 1), padding=(1, 1), bias=False)\n",
      "    )\n",
      "    (denselayer17): _DenseLayer(\n",
      "      (norm1): BatchNorm2d(768, eps=1e-05, momentum=0.1, affine=True, track_running_stats=True)\n",
      "      (relu1): ReLU(inplace=True)\n",
      "      (conv1): Conv2d(768, 128, kernel_size=(1, 1), stride=(1, 1), bias=False)\n",
      "      (norm2): BatchNorm2d(128, eps=1e-05, momentum=0.1, affine=True, track_running_stats=True)\n",
      "      (relu2): ReLU(inplace=True)\n",
      "      (conv2): Conv2d(128, 32, kernel_size=(3, 3), stride=(1, 1), padding=(1, 1), bias=False)\n",
      "    )\n",
      "    (denselayer18): _DenseLayer(\n",
      "      (norm1): BatchNorm2d(800, eps=1e-05, momentum=0.1, affine=True, track_running_stats=True)\n",
      "      (relu1): ReLU(inplace=True)\n",
      "      (conv1): Conv2d(800, 128, kernel_size=(1, 1), stride=(1, 1), bias=False)\n",
      "      (norm2): BatchNorm2d(128, eps=1e-05, momentum=0.1, affine=True, track_running_stats=True)\n",
      "      (relu2): ReLU(inplace=True)\n",
      "      (conv2): Conv2d(128, 32, kernel_size=(3, 3), stride=(1, 1), padding=(1, 1), bias=False)\n",
      "    )\n",
      "    (denselayer19): _DenseLayer(\n",
      "      (norm1): BatchNorm2d(832, eps=1e-05, momentum=0.1, affine=True, track_running_stats=True)\n",
      "      (relu1): ReLU(inplace=True)\n",
      "      (conv1): Conv2d(832, 128, kernel_size=(1, 1), stride=(1, 1), bias=False)\n",
      "      (norm2): BatchNorm2d(128, eps=1e-05, momentum=0.1, affine=True, track_running_stats=True)\n",
      "      (relu2): ReLU(inplace=True)\n",
      "      (conv2): Conv2d(128, 32, kernel_size=(3, 3), stride=(1, 1), padding=(1, 1), bias=False)\n",
      "    )\n",
      "    (denselayer20): _DenseLayer(\n",
      "      (norm1): BatchNorm2d(864, eps=1e-05, momentum=0.1, affine=True, track_running_stats=True)\n",
      "      (relu1): ReLU(inplace=True)\n",
      "      (conv1): Conv2d(864, 128, kernel_size=(1, 1), stride=(1, 1), bias=False)\n",
      "      (norm2): BatchNorm2d(128, eps=1e-05, momentum=0.1, affine=True, track_running_stats=True)\n",
      "      (relu2): ReLU(inplace=True)\n",
      "      (conv2): Conv2d(128, 32, kernel_size=(3, 3), stride=(1, 1), padding=(1, 1), bias=False)\n",
      "    )\n",
      "    (denselayer21): _DenseLayer(\n",
      "      (norm1): BatchNorm2d(896, eps=1e-05, momentum=0.1, affine=True, track_running_stats=True)\n",
      "      (relu1): ReLU(inplace=True)\n",
      "      (conv1): Conv2d(896, 128, kernel_size=(1, 1), stride=(1, 1), bias=False)\n",
      "      (norm2): BatchNorm2d(128, eps=1e-05, momentum=0.1, affine=True, track_running_stats=True)\n",
      "      (relu2): ReLU(inplace=True)\n",
      "      (conv2): Conv2d(128, 32, kernel_size=(3, 3), stride=(1, 1), padding=(1, 1), bias=False)\n",
      "    )\n",
      "    (denselayer22): _DenseLayer(\n",
      "      (norm1): BatchNorm2d(928, eps=1e-05, momentum=0.1, affine=True, track_running_stats=True)\n",
      "      (relu1): ReLU(inplace=True)\n",
      "      (conv1): Conv2d(928, 128, kernel_size=(1, 1), stride=(1, 1), bias=False)\n",
      "      (norm2): BatchNorm2d(128, eps=1e-05, momentum=0.1, affine=True, track_running_stats=True)\n",
      "      (relu2): ReLU(inplace=True)\n",
      "      (conv2): Conv2d(128, 32, kernel_size=(3, 3), stride=(1, 1), padding=(1, 1), bias=False)\n",
      "    )\n",
      "    (denselayer23): _DenseLayer(\n",
      "      (norm1): BatchNorm2d(960, eps=1e-05, momentum=0.1, affine=True, track_running_stats=True)\n",
      "      (relu1): ReLU(inplace=True)\n",
      "      (conv1): Conv2d(960, 128, kernel_size=(1, 1), stride=(1, 1), bias=False)\n",
      "      (norm2): BatchNorm2d(128, eps=1e-05, momentum=0.1, affine=True, track_running_stats=True)\n",
      "      (relu2): ReLU(inplace=True)\n",
      "      (conv2): Conv2d(128, 32, kernel_size=(3, 3), stride=(1, 1), padding=(1, 1), bias=False)\n",
      "    )\n",
      "    (denselayer24): _DenseLayer(\n",
      "      (norm1): BatchNorm2d(992, eps=1e-05, momentum=0.1, affine=True, track_running_stats=True)\n",
      "      (relu1): ReLU(inplace=True)\n",
      "      (conv1): Conv2d(992, 128, kernel_size=(1, 1), stride=(1, 1), bias=False)\n",
      "      (norm2): BatchNorm2d(128, eps=1e-05, momentum=0.1, affine=True, track_running_stats=True)\n",
      "      (relu2): ReLU(inplace=True)\n",
      "      (conv2): Conv2d(128, 32, kernel_size=(3, 3), stride=(1, 1), padding=(1, 1), bias=False)\n",
      "    )\n",
      "  )\n",
      "  (transition3): _Transition(\n",
      "    (norm): BatchNorm2d(1024, eps=1e-05, momentum=0.1, affine=True, track_running_stats=True)\n",
      "    (relu): ReLU(inplace=True)\n",
      "    (conv): Conv2d(1024, 512, kernel_size=(1, 1), stride=(1, 1), bias=False)\n",
      "    (pool): AvgPool2d(kernel_size=2, stride=2, padding=0)\n",
      "  )\n",
      "  (denseblock4): _DenseBlock(\n",
      "    (denselayer1): _DenseLayer(\n",
      "      (norm1): BatchNorm2d(512, eps=1e-05, momentum=0.1, affine=True, track_running_stats=True)\n",
      "      (relu1): ReLU(inplace=True)\n",
      "      (conv1): Conv2d(512, 128, kernel_size=(1, 1), stride=(1, 1), bias=False)\n",
      "      (norm2): BatchNorm2d(128, eps=1e-05, momentum=0.1, affine=True, track_running_stats=True)\n",
      "      (relu2): ReLU(inplace=True)\n",
      "      (conv2): Conv2d(128, 32, kernel_size=(3, 3), stride=(1, 1), padding=(1, 1), bias=False)\n",
      "    )\n",
      "    (denselayer2): _DenseLayer(\n",
      "      (norm1): BatchNorm2d(544, eps=1e-05, momentum=0.1, affine=True, track_running_stats=True)\n",
      "      (relu1): ReLU(inplace=True)\n",
      "      (conv1): Conv2d(544, 128, kernel_size=(1, 1), stride=(1, 1), bias=False)\n",
      "      (norm2): BatchNorm2d(128, eps=1e-05, momentum=0.1, affine=True, track_running_stats=True)\n",
      "      (relu2): ReLU(inplace=True)\n",
      "      (conv2): Conv2d(128, 32, kernel_size=(3, 3), stride=(1, 1), padding=(1, 1), bias=False)\n",
      "    )\n",
      "    (denselayer3): _DenseLayer(\n",
      "      (norm1): BatchNorm2d(576, eps=1e-05, momentum=0.1, affine=True, track_running_stats=True)\n",
      "      (relu1): ReLU(inplace=True)\n",
      "      (conv1): Conv2d(576, 128, kernel_size=(1, 1), stride=(1, 1), bias=False)\n",
      "      (norm2): BatchNorm2d(128, eps=1e-05, momentum=0.1, affine=True, track_running_stats=True)\n",
      "      (relu2): ReLU(inplace=True)\n",
      "      (conv2): Conv2d(128, 32, kernel_size=(3, 3), stride=(1, 1), padding=(1, 1), bias=False)\n",
      "    )\n",
      "    (denselayer4): _DenseLayer(\n",
      "      (norm1): BatchNorm2d(608, eps=1e-05, momentum=0.1, affine=True, track_running_stats=True)\n",
      "      (relu1): ReLU(inplace=True)\n",
      "      (conv1): Conv2d(608, 128, kernel_size=(1, 1), stride=(1, 1), bias=False)\n",
      "      (norm2): BatchNorm2d(128, eps=1e-05, momentum=0.1, affine=True, track_running_stats=True)\n",
      "      (relu2): ReLU(inplace=True)\n",
      "      (conv2): Conv2d(128, 32, kernel_size=(3, 3), stride=(1, 1), padding=(1, 1), bias=False)\n",
      "    )\n",
      "    (denselayer5): _DenseLayer(\n",
      "      (norm1): BatchNorm2d(640, eps=1e-05, momentum=0.1, affine=True, track_running_stats=True)\n",
      "      (relu1): ReLU(inplace=True)\n",
      "      (conv1): Conv2d(640, 128, kernel_size=(1, 1), stride=(1, 1), bias=False)\n",
      "      (norm2): BatchNorm2d(128, eps=1e-05, momentum=0.1, affine=True, track_running_stats=True)\n",
      "      (relu2): ReLU(inplace=True)\n",
      "      (conv2): Conv2d(128, 32, kernel_size=(3, 3), stride=(1, 1), padding=(1, 1), bias=False)\n",
      "    )\n",
      "    (denselayer6): _DenseLayer(\n",
      "      (norm1): BatchNorm2d(672, eps=1e-05, momentum=0.1, affine=True, track_running_stats=True)\n",
      "      (relu1): ReLU(inplace=True)\n",
      "      (conv1): Conv2d(672, 128, kernel_size=(1, 1), stride=(1, 1), bias=False)\n",
      "      (norm2): BatchNorm2d(128, eps=1e-05, momentum=0.1, affine=True, track_running_stats=True)\n",
      "      (relu2): ReLU(inplace=True)\n",
      "      (conv2): Conv2d(128, 32, kernel_size=(3, 3), stride=(1, 1), padding=(1, 1), bias=False)\n",
      "    )\n",
      "    (denselayer7): _DenseLayer(\n",
      "      (norm1): BatchNorm2d(704, eps=1e-05, momentum=0.1, affine=True, track_running_stats=True)\n",
      "      (relu1): ReLU(inplace=True)\n",
      "      (conv1): Conv2d(704, 128, kernel_size=(1, 1), stride=(1, 1), bias=False)\n",
      "      (norm2): BatchNorm2d(128, eps=1e-05, momentum=0.1, affine=True, track_running_stats=True)\n",
      "      (relu2): ReLU(inplace=True)\n",
      "      (conv2): Conv2d(128, 32, kernel_size=(3, 3), stride=(1, 1), padding=(1, 1), bias=False)\n",
      "    )\n",
      "    (denselayer8): _DenseLayer(\n",
      "      (norm1): BatchNorm2d(736, eps=1e-05, momentum=0.1, affine=True, track_running_stats=True)\n",
      "      (relu1): ReLU(inplace=True)\n",
      "      (conv1): Conv2d(736, 128, kernel_size=(1, 1), stride=(1, 1), bias=False)\n",
      "      (norm2): BatchNorm2d(128, eps=1e-05, momentum=0.1, affine=True, track_running_stats=True)\n",
      "      (relu2): ReLU(inplace=True)\n",
      "      (conv2): Conv2d(128, 32, kernel_size=(3, 3), stride=(1, 1), padding=(1, 1), bias=False)\n",
      "    )\n",
      "    (denselayer9): _DenseLayer(\n",
      "      (norm1): BatchNorm2d(768, eps=1e-05, momentum=0.1, affine=True, track_running_stats=True)\n",
      "      (relu1): ReLU(inplace=True)\n",
      "      (conv1): Conv2d(768, 128, kernel_size=(1, 1), stride=(1, 1), bias=False)\n",
      "      (norm2): BatchNorm2d(128, eps=1e-05, momentum=0.1, affine=True, track_running_stats=True)\n",
      "      (relu2): ReLU(inplace=True)\n",
      "      (conv2): Conv2d(128, 32, kernel_size=(3, 3), stride=(1, 1), padding=(1, 1), bias=False)\n",
      "    )\n",
      "    (denselayer10): _DenseLayer(\n",
      "      (norm1): BatchNorm2d(800, eps=1e-05, momentum=0.1, affine=True, track_running_stats=True)\n",
      "      (relu1): ReLU(inplace=True)\n",
      "      (conv1): Conv2d(800, 128, kernel_size=(1, 1), stride=(1, 1), bias=False)\n",
      "      (norm2): BatchNorm2d(128, eps=1e-05, momentum=0.1, affine=True, track_running_stats=True)\n",
      "      (relu2): ReLU(inplace=True)\n",
      "      (conv2): Conv2d(128, 32, kernel_size=(3, 3), stride=(1, 1), padding=(1, 1), bias=False)\n",
      "    )\n",
      "    (denselayer11): _DenseLayer(\n",
      "      (norm1): BatchNorm2d(832, eps=1e-05, momentum=0.1, affine=True, track_running_stats=True)\n",
      "      (relu1): ReLU(inplace=True)\n",
      "      (conv1): Conv2d(832, 128, kernel_size=(1, 1), stride=(1, 1), bias=False)\n",
      "      (norm2): BatchNorm2d(128, eps=1e-05, momentum=0.1, affine=True, track_running_stats=True)\n",
      "      (relu2): ReLU(inplace=True)\n",
      "      (conv2): Conv2d(128, 32, kernel_size=(3, 3), stride=(1, 1), padding=(1, 1), bias=False)\n",
      "    )\n",
      "    (denselayer12): _DenseLayer(\n",
      "      (norm1): BatchNorm2d(864, eps=1e-05, momentum=0.1, affine=True, track_running_stats=True)\n",
      "      (relu1): ReLU(inplace=True)\n",
      "      (conv1): Conv2d(864, 128, kernel_size=(1, 1), stride=(1, 1), bias=False)\n",
      "      (norm2): BatchNorm2d(128, eps=1e-05, momentum=0.1, affine=True, track_running_stats=True)\n",
      "      (relu2): ReLU(inplace=True)\n",
      "      (conv2): Conv2d(128, 32, kernel_size=(3, 3), stride=(1, 1), padding=(1, 1), bias=False)\n",
      "    )\n",
      "    (denselayer13): _DenseLayer(\n",
      "      (norm1): BatchNorm2d(896, eps=1e-05, momentum=0.1, affine=True, track_running_stats=True)\n",
      "      (relu1): ReLU(inplace=True)\n",
      "      (conv1): Conv2d(896, 128, kernel_size=(1, 1), stride=(1, 1), bias=False)\n",
      "      (norm2): BatchNorm2d(128, eps=1e-05, momentum=0.1, affine=True, track_running_stats=True)\n",
      "      (relu2): ReLU(inplace=True)\n",
      "      (conv2): Conv2d(128, 32, kernel_size=(3, 3), stride=(1, 1), padding=(1, 1), bias=False)\n",
      "    )\n",
      "    (denselayer14): _DenseLayer(\n",
      "      (norm1): BatchNorm2d(928, eps=1e-05, momentum=0.1, affine=True, track_running_stats=True)\n",
      "      (relu1): ReLU(inplace=True)\n",
      "      (conv1): Conv2d(928, 128, kernel_size=(1, 1), stride=(1, 1), bias=False)\n",
      "      (norm2): BatchNorm2d(128, eps=1e-05, momentum=0.1, affine=True, track_running_stats=True)\n",
      "      (relu2): ReLU(inplace=True)\n",
      "      (conv2): Conv2d(128, 32, kernel_size=(3, 3), stride=(1, 1), padding=(1, 1), bias=False)\n",
      "    )\n",
      "    (denselayer15): _DenseLayer(\n",
      "      (norm1): BatchNorm2d(960, eps=1e-05, momentum=0.1, affine=True, track_running_stats=True)\n",
      "      (relu1): ReLU(inplace=True)\n",
      "      (conv1): Conv2d(960, 128, kernel_size=(1, 1), stride=(1, 1), bias=False)\n",
      "      (norm2): BatchNorm2d(128, eps=1e-05, momentum=0.1, affine=True, track_running_stats=True)\n",
      "      (relu2): ReLU(inplace=True)\n",
      "      (conv2): Conv2d(128, 32, kernel_size=(3, 3), stride=(1, 1), padding=(1, 1), bias=False)\n",
      "    )\n",
      "    (denselayer16): _DenseLayer(\n",
      "      (norm1): BatchNorm2d(992, eps=1e-05, momentum=0.1, affine=True, track_running_stats=True)\n",
      "      (relu1): ReLU(inplace=True)\n",
      "      (conv1): Conv2d(992, 128, kernel_size=(1, 1), stride=(1, 1), bias=False)\n",
      "      (norm2): BatchNorm2d(128, eps=1e-05, momentum=0.1, affine=True, track_running_stats=True)\n",
      "      (relu2): ReLU(inplace=True)\n",
      "      (conv2): Conv2d(128, 32, kernel_size=(3, 3), stride=(1, 1), padding=(1, 1), bias=False)\n",
      "    )\n",
      "  )\n",
      "  (norm5): BatchNorm2d(1024, eps=1e-05, momentum=0.1, affine=True, track_running_stats=True)\n",
      ")\n",
      "Sequential(\n",
      "  (0): Sequential(\n",
      "    (conv0): Conv2d(3, 64, kernel_size=(7, 7), stride=(2, 2), padding=(3, 3), bias=False)\n",
      "    (norm0): BatchNorm2d(64, eps=1e-05, momentum=0.1, affine=True, track_running_stats=True)\n",
      "    (relu0): ReLU(inplace=True)\n",
      "    (pool0): MaxPool2d(kernel_size=3, stride=2, padding=1, dilation=1, ceil_mode=False)\n",
      "    (denseblock1): _DenseBlock(\n",
      "      (denselayer1): _DenseLayer(\n",
      "        (norm1): BatchNorm2d(64, eps=1e-05, momentum=0.1, affine=True, track_running_stats=True)\n",
      "        (relu1): ReLU(inplace=True)\n",
      "        (conv1): Conv2d(64, 128, kernel_size=(1, 1), stride=(1, 1), bias=False)\n",
      "        (norm2): BatchNorm2d(128, eps=1e-05, momentum=0.1, affine=True, track_running_stats=True)\n",
      "        (relu2): ReLU(inplace=True)\n",
      "        (conv2): Conv2d(128, 32, kernel_size=(3, 3), stride=(1, 1), padding=(1, 1), bias=False)\n",
      "      )\n",
      "      (denselayer2): _DenseLayer(\n",
      "        (norm1): BatchNorm2d(96, eps=1e-05, momentum=0.1, affine=True, track_running_stats=True)\n",
      "        (relu1): ReLU(inplace=True)\n",
      "        (conv1): Conv2d(96, 128, kernel_size=(1, 1), stride=(1, 1), bias=False)\n",
      "        (norm2): BatchNorm2d(128, eps=1e-05, momentum=0.1, affine=True, track_running_stats=True)\n",
      "        (relu2): ReLU(inplace=True)\n",
      "        (conv2): Conv2d(128, 32, kernel_size=(3, 3), stride=(1, 1), padding=(1, 1), bias=False)\n",
      "      )\n",
      "      (denselayer3): _DenseLayer(\n",
      "        (norm1): BatchNorm2d(128, eps=1e-05, momentum=0.1, affine=True, track_running_stats=True)\n",
      "        (relu1): ReLU(inplace=True)\n",
      "        (conv1): Conv2d(128, 128, kernel_size=(1, 1), stride=(1, 1), bias=False)\n",
      "        (norm2): BatchNorm2d(128, eps=1e-05, momentum=0.1, affine=True, track_running_stats=True)\n",
      "        (relu2): ReLU(inplace=True)\n",
      "        (conv2): Conv2d(128, 32, kernel_size=(3, 3), stride=(1, 1), padding=(1, 1), bias=False)\n",
      "      )\n",
      "      (denselayer4): _DenseLayer(\n",
      "        (norm1): BatchNorm2d(160, eps=1e-05, momentum=0.1, affine=True, track_running_stats=True)\n",
      "        (relu1): ReLU(inplace=True)\n",
      "        (conv1): Conv2d(160, 128, kernel_size=(1, 1), stride=(1, 1), bias=False)\n",
      "        (norm2): BatchNorm2d(128, eps=1e-05, momentum=0.1, affine=True, track_running_stats=True)\n",
      "        (relu2): ReLU(inplace=True)\n",
      "        (conv2): Conv2d(128, 32, kernel_size=(3, 3), stride=(1, 1), padding=(1, 1), bias=False)\n",
      "      )\n",
      "      (denselayer5): _DenseLayer(\n",
      "        (norm1): BatchNorm2d(192, eps=1e-05, momentum=0.1, affine=True, track_running_stats=True)\n",
      "        (relu1): ReLU(inplace=True)\n",
      "        (conv1): Conv2d(192, 128, kernel_size=(1, 1), stride=(1, 1), bias=False)\n",
      "        (norm2): BatchNorm2d(128, eps=1e-05, momentum=0.1, affine=True, track_running_stats=True)\n",
      "        (relu2): ReLU(inplace=True)\n",
      "        (conv2): Conv2d(128, 32, kernel_size=(3, 3), stride=(1, 1), padding=(1, 1), bias=False)\n",
      "      )\n",
      "      (denselayer6): _DenseLayer(\n",
      "        (norm1): BatchNorm2d(224, eps=1e-05, momentum=0.1, affine=True, track_running_stats=True)\n",
      "        (relu1): ReLU(inplace=True)\n",
      "        (conv1): Conv2d(224, 128, kernel_size=(1, 1), stride=(1, 1), bias=False)\n",
      "        (norm2): BatchNorm2d(128, eps=1e-05, momentum=0.1, affine=True, track_running_stats=True)\n",
      "        (relu2): ReLU(inplace=True)\n",
      "        (conv2): Conv2d(128, 32, kernel_size=(3, 3), stride=(1, 1), padding=(1, 1), bias=False)\n",
      "      )\n",
      "    )\n",
      "    (transition1): _Transition(\n",
      "      (norm): BatchNorm2d(256, eps=1e-05, momentum=0.1, affine=True, track_running_stats=True)\n",
      "      (relu): ReLU(inplace=True)\n",
      "      (conv): Conv2d(256, 128, kernel_size=(1, 1), stride=(1, 1), bias=False)\n",
      "      (pool): AvgPool2d(kernel_size=2, stride=2, padding=0)\n",
      "    )\n",
      "    (denseblock2): _DenseBlock(\n",
      "      (denselayer1): _DenseLayer(\n",
      "        (norm1): BatchNorm2d(128, eps=1e-05, momentum=0.1, affine=True, track_running_stats=True)\n",
      "        (relu1): ReLU(inplace=True)\n",
      "        (conv1): Conv2d(128, 128, kernel_size=(1, 1), stride=(1, 1), bias=False)\n",
      "        (norm2): BatchNorm2d(128, eps=1e-05, momentum=0.1, affine=True, track_running_stats=True)\n",
      "        (relu2): ReLU(inplace=True)\n",
      "        (conv2): Conv2d(128, 32, kernel_size=(3, 3), stride=(1, 1), padding=(1, 1), bias=False)\n",
      "      )\n",
      "      (denselayer2): _DenseLayer(\n",
      "        (norm1): BatchNorm2d(160, eps=1e-05, momentum=0.1, affine=True, track_running_stats=True)\n",
      "        (relu1): ReLU(inplace=True)\n",
      "        (conv1): Conv2d(160, 128, kernel_size=(1, 1), stride=(1, 1), bias=False)\n",
      "        (norm2): BatchNorm2d(128, eps=1e-05, momentum=0.1, affine=True, track_running_stats=True)\n",
      "        (relu2): ReLU(inplace=True)\n",
      "        (conv2): Conv2d(128, 32, kernel_size=(3, 3), stride=(1, 1), padding=(1, 1), bias=False)\n",
      "      )\n",
      "      (denselayer3): _DenseLayer(\n",
      "        (norm1): BatchNorm2d(192, eps=1e-05, momentum=0.1, affine=True, track_running_stats=True)\n",
      "        (relu1): ReLU(inplace=True)\n",
      "        (conv1): Conv2d(192, 128, kernel_size=(1, 1), stride=(1, 1), bias=False)\n",
      "        (norm2): BatchNorm2d(128, eps=1e-05, momentum=0.1, affine=True, track_running_stats=True)\n",
      "        (relu2): ReLU(inplace=True)\n",
      "        (conv2): Conv2d(128, 32, kernel_size=(3, 3), stride=(1, 1), padding=(1, 1), bias=False)\n",
      "      )\n",
      "      (denselayer4): _DenseLayer(\n",
      "        (norm1): BatchNorm2d(224, eps=1e-05, momentum=0.1, affine=True, track_running_stats=True)\n",
      "        (relu1): ReLU(inplace=True)\n",
      "        (conv1): Conv2d(224, 128, kernel_size=(1, 1), stride=(1, 1), bias=False)\n",
      "        (norm2): BatchNorm2d(128, eps=1e-05, momentum=0.1, affine=True, track_running_stats=True)\n",
      "        (relu2): ReLU(inplace=True)\n",
      "        (conv2): Conv2d(128, 32, kernel_size=(3, 3), stride=(1, 1), padding=(1, 1), bias=False)\n",
      "      )\n",
      "      (denselayer5): _DenseLayer(\n",
      "        (norm1): BatchNorm2d(256, eps=1e-05, momentum=0.1, affine=True, track_running_stats=True)\n",
      "        (relu1): ReLU(inplace=True)\n",
      "        (conv1): Conv2d(256, 128, kernel_size=(1, 1), stride=(1, 1), bias=False)\n",
      "        (norm2): BatchNorm2d(128, eps=1e-05, momentum=0.1, affine=True, track_running_stats=True)\n",
      "        (relu2): ReLU(inplace=True)\n",
      "        (conv2): Conv2d(128, 32, kernel_size=(3, 3), stride=(1, 1), padding=(1, 1), bias=False)\n",
      "      )\n",
      "      (denselayer6): _DenseLayer(\n",
      "        (norm1): BatchNorm2d(288, eps=1e-05, momentum=0.1, affine=True, track_running_stats=True)\n",
      "        (relu1): ReLU(inplace=True)\n",
      "        (conv1): Conv2d(288, 128, kernel_size=(1, 1), stride=(1, 1), bias=False)\n",
      "        (norm2): BatchNorm2d(128, eps=1e-05, momentum=0.1, affine=True, track_running_stats=True)\n",
      "        (relu2): ReLU(inplace=True)\n",
      "        (conv2): Conv2d(128, 32, kernel_size=(3, 3), stride=(1, 1), padding=(1, 1), bias=False)\n",
      "      )\n",
      "      (denselayer7): _DenseLayer(\n",
      "        (norm1): BatchNorm2d(320, eps=1e-05, momentum=0.1, affine=True, track_running_stats=True)\n",
      "        (relu1): ReLU(inplace=True)\n",
      "        (conv1): Conv2d(320, 128, kernel_size=(1, 1), stride=(1, 1), bias=False)\n",
      "        (norm2): BatchNorm2d(128, eps=1e-05, momentum=0.1, affine=True, track_running_stats=True)\n",
      "        (relu2): ReLU(inplace=True)\n",
      "        (conv2): Conv2d(128, 32, kernel_size=(3, 3), stride=(1, 1), padding=(1, 1), bias=False)\n",
      "      )\n",
      "      (denselayer8): _DenseLayer(\n",
      "        (norm1): BatchNorm2d(352, eps=1e-05, momentum=0.1, affine=True, track_running_stats=True)\n",
      "        (relu1): ReLU(inplace=True)\n",
      "        (conv1): Conv2d(352, 128, kernel_size=(1, 1), stride=(1, 1), bias=False)\n",
      "        (norm2): BatchNorm2d(128, eps=1e-05, momentum=0.1, affine=True, track_running_stats=True)\n",
      "        (relu2): ReLU(inplace=True)\n",
      "        (conv2): Conv2d(128, 32, kernel_size=(3, 3), stride=(1, 1), padding=(1, 1), bias=False)\n",
      "      )\n",
      "      (denselayer9): _DenseLayer(\n",
      "        (norm1): BatchNorm2d(384, eps=1e-05, momentum=0.1, affine=True, track_running_stats=True)\n",
      "        (relu1): ReLU(inplace=True)\n",
      "        (conv1): Conv2d(384, 128, kernel_size=(1, 1), stride=(1, 1), bias=False)\n",
      "        (norm2): BatchNorm2d(128, eps=1e-05, momentum=0.1, affine=True, track_running_stats=True)\n",
      "        (relu2): ReLU(inplace=True)\n",
      "        (conv2): Conv2d(128, 32, kernel_size=(3, 3), stride=(1, 1), padding=(1, 1), bias=False)\n",
      "      )\n",
      "      (denselayer10): _DenseLayer(\n",
      "        (norm1): BatchNorm2d(416, eps=1e-05, momentum=0.1, affine=True, track_running_stats=True)\n",
      "        (relu1): ReLU(inplace=True)\n",
      "        (conv1): Conv2d(416, 128, kernel_size=(1, 1), stride=(1, 1), bias=False)\n",
      "        (norm2): BatchNorm2d(128, eps=1e-05, momentum=0.1, affine=True, track_running_stats=True)\n",
      "        (relu2): ReLU(inplace=True)\n",
      "        (conv2): Conv2d(128, 32, kernel_size=(3, 3), stride=(1, 1), padding=(1, 1), bias=False)\n",
      "      )\n",
      "      (denselayer11): _DenseLayer(\n",
      "        (norm1): BatchNorm2d(448, eps=1e-05, momentum=0.1, affine=True, track_running_stats=True)\n",
      "        (relu1): ReLU(inplace=True)\n",
      "        (conv1): Conv2d(448, 128, kernel_size=(1, 1), stride=(1, 1), bias=False)\n",
      "        (norm2): BatchNorm2d(128, eps=1e-05, momentum=0.1, affine=True, track_running_stats=True)\n",
      "        (relu2): ReLU(inplace=True)\n",
      "        (conv2): Conv2d(128, 32, kernel_size=(3, 3), stride=(1, 1), padding=(1, 1), bias=False)\n",
      "      )\n",
      "      (denselayer12): _DenseLayer(\n",
      "        (norm1): BatchNorm2d(480, eps=1e-05, momentum=0.1, affine=True, track_running_stats=True)\n",
      "        (relu1): ReLU(inplace=True)\n",
      "        (conv1): Conv2d(480, 128, kernel_size=(1, 1), stride=(1, 1), bias=False)\n",
      "        (norm2): BatchNorm2d(128, eps=1e-05, momentum=0.1, affine=True, track_running_stats=True)\n",
      "        (relu2): ReLU(inplace=True)\n",
      "        (conv2): Conv2d(128, 32, kernel_size=(3, 3), stride=(1, 1), padding=(1, 1), bias=False)\n",
      "      )\n",
      "    )\n",
      "    (transition2): _Transition(\n",
      "      (norm): BatchNorm2d(512, eps=1e-05, momentum=0.1, affine=True, track_running_stats=True)\n",
      "      (relu): ReLU(inplace=True)\n",
      "      (conv): Conv2d(512, 256, kernel_size=(1, 1), stride=(1, 1), bias=False)\n",
      "      (pool): AvgPool2d(kernel_size=2, stride=2, padding=0)\n",
      "    )\n",
      "    (denseblock3): _DenseBlock(\n",
      "      (denselayer1): _DenseLayer(\n",
      "        (norm1): BatchNorm2d(256, eps=1e-05, momentum=0.1, affine=True, track_running_stats=True)\n",
      "        (relu1): ReLU(inplace=True)\n",
      "        (conv1): Conv2d(256, 128, kernel_size=(1, 1), stride=(1, 1), bias=False)\n",
      "        (norm2): BatchNorm2d(128, eps=1e-05, momentum=0.1, affine=True, track_running_stats=True)\n",
      "        (relu2): ReLU(inplace=True)\n",
      "        (conv2): Conv2d(128, 32, kernel_size=(3, 3), stride=(1, 1), padding=(1, 1), bias=False)\n",
      "      )\n",
      "      (denselayer2): _DenseLayer(\n",
      "        (norm1): BatchNorm2d(288, eps=1e-05, momentum=0.1, affine=True, track_running_stats=True)\n",
      "        (relu1): ReLU(inplace=True)\n",
      "        (conv1): Conv2d(288, 128, kernel_size=(1, 1), stride=(1, 1), bias=False)\n",
      "        (norm2): BatchNorm2d(128, eps=1e-05, momentum=0.1, affine=True, track_running_stats=True)\n",
      "        (relu2): ReLU(inplace=True)\n",
      "        (conv2): Conv2d(128, 32, kernel_size=(3, 3), stride=(1, 1), padding=(1, 1), bias=False)\n",
      "      )\n",
      "      (denselayer3): _DenseLayer(\n",
      "        (norm1): BatchNorm2d(320, eps=1e-05, momentum=0.1, affine=True, track_running_stats=True)\n",
      "        (relu1): ReLU(inplace=True)\n",
      "        (conv1): Conv2d(320, 128, kernel_size=(1, 1), stride=(1, 1), bias=False)\n",
      "        (norm2): BatchNorm2d(128, eps=1e-05, momentum=0.1, affine=True, track_running_stats=True)\n",
      "        (relu2): ReLU(inplace=True)\n",
      "        (conv2): Conv2d(128, 32, kernel_size=(3, 3), stride=(1, 1), padding=(1, 1), bias=False)\n",
      "      )\n",
      "      (denselayer4): _DenseLayer(\n",
      "        (norm1): BatchNorm2d(352, eps=1e-05, momentum=0.1, affine=True, track_running_stats=True)\n",
      "        (relu1): ReLU(inplace=True)\n",
      "        (conv1): Conv2d(352, 128, kernel_size=(1, 1), stride=(1, 1), bias=False)\n",
      "        (norm2): BatchNorm2d(128, eps=1e-05, momentum=0.1, affine=True, track_running_stats=True)\n",
      "        (relu2): ReLU(inplace=True)\n",
      "        (conv2): Conv2d(128, 32, kernel_size=(3, 3), stride=(1, 1), padding=(1, 1), bias=False)\n",
      "      )\n",
      "      (denselayer5): _DenseLayer(\n",
      "        (norm1): BatchNorm2d(384, eps=1e-05, momentum=0.1, affine=True, track_running_stats=True)\n",
      "        (relu1): ReLU(inplace=True)\n",
      "        (conv1): Conv2d(384, 128, kernel_size=(1, 1), stride=(1, 1), bias=False)\n",
      "        (norm2): BatchNorm2d(128, eps=1e-05, momentum=0.1, affine=True, track_running_stats=True)\n",
      "        (relu2): ReLU(inplace=True)\n",
      "        (conv2): Conv2d(128, 32, kernel_size=(3, 3), stride=(1, 1), padding=(1, 1), bias=False)\n",
      "      )\n",
      "      (denselayer6): _DenseLayer(\n",
      "        (norm1): BatchNorm2d(416, eps=1e-05, momentum=0.1, affine=True, track_running_stats=True)\n",
      "        (relu1): ReLU(inplace=True)\n",
      "        (conv1): Conv2d(416, 128, kernel_size=(1, 1), stride=(1, 1), bias=False)\n",
      "        (norm2): BatchNorm2d(128, eps=1e-05, momentum=0.1, affine=True, track_running_stats=True)\n",
      "        (relu2): ReLU(inplace=True)\n",
      "        (conv2): Conv2d(128, 32, kernel_size=(3, 3), stride=(1, 1), padding=(1, 1), bias=False)\n",
      "      )\n",
      "      (denselayer7): _DenseLayer(\n",
      "        (norm1): BatchNorm2d(448, eps=1e-05, momentum=0.1, affine=True, track_running_stats=True)\n",
      "        (relu1): ReLU(inplace=True)\n",
      "        (conv1): Conv2d(448, 128, kernel_size=(1, 1), stride=(1, 1), bias=False)\n",
      "        (norm2): BatchNorm2d(128, eps=1e-05, momentum=0.1, affine=True, track_running_stats=True)\n",
      "        (relu2): ReLU(inplace=True)\n",
      "        (conv2): Conv2d(128, 32, kernel_size=(3, 3), stride=(1, 1), padding=(1, 1), bias=False)\n",
      "      )\n",
      "      (denselayer8): _DenseLayer(\n",
      "        (norm1): BatchNorm2d(480, eps=1e-05, momentum=0.1, affine=True, track_running_stats=True)\n",
      "        (relu1): ReLU(inplace=True)\n",
      "        (conv1): Conv2d(480, 128, kernel_size=(1, 1), stride=(1, 1), bias=False)\n",
      "        (norm2): BatchNorm2d(128, eps=1e-05, momentum=0.1, affine=True, track_running_stats=True)\n",
      "        (relu2): ReLU(inplace=True)\n",
      "        (conv2): Conv2d(128, 32, kernel_size=(3, 3), stride=(1, 1), padding=(1, 1), bias=False)\n",
      "      )\n",
      "      (denselayer9): _DenseLayer(\n",
      "        (norm1): BatchNorm2d(512, eps=1e-05, momentum=0.1, affine=True, track_running_stats=True)\n",
      "        (relu1): ReLU(inplace=True)\n",
      "        (conv1): Conv2d(512, 128, kernel_size=(1, 1), stride=(1, 1), bias=False)\n",
      "        (norm2): BatchNorm2d(128, eps=1e-05, momentum=0.1, affine=True, track_running_stats=True)\n",
      "        (relu2): ReLU(inplace=True)\n",
      "        (conv2): Conv2d(128, 32, kernel_size=(3, 3), stride=(1, 1), padding=(1, 1), bias=False)\n",
      "      )\n",
      "      (denselayer10): _DenseLayer(\n",
      "        (norm1): BatchNorm2d(544, eps=1e-05, momentum=0.1, affine=True, track_running_stats=True)\n",
      "        (relu1): ReLU(inplace=True)\n",
      "        (conv1): Conv2d(544, 128, kernel_size=(1, 1), stride=(1, 1), bias=False)\n",
      "        (norm2): BatchNorm2d(128, eps=1e-05, momentum=0.1, affine=True, track_running_stats=True)\n",
      "        (relu2): ReLU(inplace=True)\n",
      "        (conv2): Conv2d(128, 32, kernel_size=(3, 3), stride=(1, 1), padding=(1, 1), bias=False)\n",
      "      )\n",
      "      (denselayer11): _DenseLayer(\n",
      "        (norm1): BatchNorm2d(576, eps=1e-05, momentum=0.1, affine=True, track_running_stats=True)\n",
      "        (relu1): ReLU(inplace=True)\n",
      "        (conv1): Conv2d(576, 128, kernel_size=(1, 1), stride=(1, 1), bias=False)\n",
      "        (norm2): BatchNorm2d(128, eps=1e-05, momentum=0.1, affine=True, track_running_stats=True)\n",
      "        (relu2): ReLU(inplace=True)\n",
      "        (conv2): Conv2d(128, 32, kernel_size=(3, 3), stride=(1, 1), padding=(1, 1), bias=False)\n",
      "      )\n",
      "      (denselayer12): _DenseLayer(\n",
      "        (norm1): BatchNorm2d(608, eps=1e-05, momentum=0.1, affine=True, track_running_stats=True)\n",
      "        (relu1): ReLU(inplace=True)\n",
      "        (conv1): Conv2d(608, 128, kernel_size=(1, 1), stride=(1, 1), bias=False)\n",
      "        (norm2): BatchNorm2d(128, eps=1e-05, momentum=0.1, affine=True, track_running_stats=True)\n",
      "        (relu2): ReLU(inplace=True)\n",
      "        (conv2): Conv2d(128, 32, kernel_size=(3, 3), stride=(1, 1), padding=(1, 1), bias=False)\n",
      "      )\n",
      "      (denselayer13): _DenseLayer(\n",
      "        (norm1): BatchNorm2d(640, eps=1e-05, momentum=0.1, affine=True, track_running_stats=True)\n",
      "        (relu1): ReLU(inplace=True)\n",
      "        (conv1): Conv2d(640, 128, kernel_size=(1, 1), stride=(1, 1), bias=False)\n",
      "        (norm2): BatchNorm2d(128, eps=1e-05, momentum=0.1, affine=True, track_running_stats=True)\n",
      "        (relu2): ReLU(inplace=True)\n",
      "        (conv2): Conv2d(128, 32, kernel_size=(3, 3), stride=(1, 1), padding=(1, 1), bias=False)\n",
      "      )\n",
      "      (denselayer14): _DenseLayer(\n",
      "        (norm1): BatchNorm2d(672, eps=1e-05, momentum=0.1, affine=True, track_running_stats=True)\n",
      "        (relu1): ReLU(inplace=True)\n",
      "        (conv1): Conv2d(672, 128, kernel_size=(1, 1), stride=(1, 1), bias=False)\n",
      "        (norm2): BatchNorm2d(128, eps=1e-05, momentum=0.1, affine=True, track_running_stats=True)\n",
      "        (relu2): ReLU(inplace=True)\n",
      "        (conv2): Conv2d(128, 32, kernel_size=(3, 3), stride=(1, 1), padding=(1, 1), bias=False)\n",
      "      )\n",
      "      (denselayer15): _DenseLayer(\n",
      "        (norm1): BatchNorm2d(704, eps=1e-05, momentum=0.1, affine=True, track_running_stats=True)\n",
      "        (relu1): ReLU(inplace=True)\n",
      "        (conv1): Conv2d(704, 128, kernel_size=(1, 1), stride=(1, 1), bias=False)\n",
      "        (norm2): BatchNorm2d(128, eps=1e-05, momentum=0.1, affine=True, track_running_stats=True)\n",
      "        (relu2): ReLU(inplace=True)\n",
      "        (conv2): Conv2d(128, 32, kernel_size=(3, 3), stride=(1, 1), padding=(1, 1), bias=False)\n",
      "      )\n",
      "      (denselayer16): _DenseLayer(\n",
      "        (norm1): BatchNorm2d(736, eps=1e-05, momentum=0.1, affine=True, track_running_stats=True)\n",
      "        (relu1): ReLU(inplace=True)\n",
      "        (conv1): Conv2d(736, 128, kernel_size=(1, 1), stride=(1, 1), bias=False)\n",
      "        (norm2): BatchNorm2d(128, eps=1e-05, momentum=0.1, affine=True, track_running_stats=True)\n",
      "        (relu2): ReLU(inplace=True)\n",
      "        (conv2): Conv2d(128, 32, kernel_size=(3, 3), stride=(1, 1), padding=(1, 1), bias=False)\n",
      "      )\n",
      "      (denselayer17): _DenseLayer(\n",
      "        (norm1): BatchNorm2d(768, eps=1e-05, momentum=0.1, affine=True, track_running_stats=True)\n",
      "        (relu1): ReLU(inplace=True)\n",
      "        (conv1): Conv2d(768, 128, kernel_size=(1, 1), stride=(1, 1), bias=False)\n",
      "        (norm2): BatchNorm2d(128, eps=1e-05, momentum=0.1, affine=True, track_running_stats=True)\n",
      "        (relu2): ReLU(inplace=True)\n",
      "        (conv2): Conv2d(128, 32, kernel_size=(3, 3), stride=(1, 1), padding=(1, 1), bias=False)\n",
      "      )\n",
      "      (denselayer18): _DenseLayer(\n",
      "        (norm1): BatchNorm2d(800, eps=1e-05, momentum=0.1, affine=True, track_running_stats=True)\n",
      "        (relu1): ReLU(inplace=True)\n",
      "        (conv1): Conv2d(800, 128, kernel_size=(1, 1), stride=(1, 1), bias=False)\n",
      "        (norm2): BatchNorm2d(128, eps=1e-05, momentum=0.1, affine=True, track_running_stats=True)\n",
      "        (relu2): ReLU(inplace=True)\n",
      "        (conv2): Conv2d(128, 32, kernel_size=(3, 3), stride=(1, 1), padding=(1, 1), bias=False)\n",
      "      )\n",
      "      (denselayer19): _DenseLayer(\n",
      "        (norm1): BatchNorm2d(832, eps=1e-05, momentum=0.1, affine=True, track_running_stats=True)\n",
      "        (relu1): ReLU(inplace=True)\n",
      "        (conv1): Conv2d(832, 128, kernel_size=(1, 1), stride=(1, 1), bias=False)\n",
      "        (norm2): BatchNorm2d(128, eps=1e-05, momentum=0.1, affine=True, track_running_stats=True)\n",
      "        (relu2): ReLU(inplace=True)\n",
      "        (conv2): Conv2d(128, 32, kernel_size=(3, 3), stride=(1, 1), padding=(1, 1), bias=False)\n",
      "      )\n",
      "      (denselayer20): _DenseLayer(\n",
      "        (norm1): BatchNorm2d(864, eps=1e-05, momentum=0.1, affine=True, track_running_stats=True)\n",
      "        (relu1): ReLU(inplace=True)\n",
      "        (conv1): Conv2d(864, 128, kernel_size=(1, 1), stride=(1, 1), bias=False)\n",
      "        (norm2): BatchNorm2d(128, eps=1e-05, momentum=0.1, affine=True, track_running_stats=True)\n",
      "        (relu2): ReLU(inplace=True)\n",
      "        (conv2): Conv2d(128, 32, kernel_size=(3, 3), stride=(1, 1), padding=(1, 1), bias=False)\n",
      "      )\n",
      "      (denselayer21): _DenseLayer(\n",
      "        (norm1): BatchNorm2d(896, eps=1e-05, momentum=0.1, affine=True, track_running_stats=True)\n",
      "        (relu1): ReLU(inplace=True)\n",
      "        (conv1): Conv2d(896, 128, kernel_size=(1, 1), stride=(1, 1), bias=False)\n",
      "        (norm2): BatchNorm2d(128, eps=1e-05, momentum=0.1, affine=True, track_running_stats=True)\n",
      "        (relu2): ReLU(inplace=True)\n",
      "        (conv2): Conv2d(128, 32, kernel_size=(3, 3), stride=(1, 1), padding=(1, 1), bias=False)\n",
      "      )\n",
      "      (denselayer22): _DenseLayer(\n",
      "        (norm1): BatchNorm2d(928, eps=1e-05, momentum=0.1, affine=True, track_running_stats=True)\n",
      "        (relu1): ReLU(inplace=True)\n",
      "        (conv1): Conv2d(928, 128, kernel_size=(1, 1), stride=(1, 1), bias=False)\n",
      "        (norm2): BatchNorm2d(128, eps=1e-05, momentum=0.1, affine=True, track_running_stats=True)\n",
      "        (relu2): ReLU(inplace=True)\n",
      "        (conv2): Conv2d(128, 32, kernel_size=(3, 3), stride=(1, 1), padding=(1, 1), bias=False)\n",
      "      )\n",
      "      (denselayer23): _DenseLayer(\n",
      "        (norm1): BatchNorm2d(960, eps=1e-05, momentum=0.1, affine=True, track_running_stats=True)\n",
      "        (relu1): ReLU(inplace=True)\n",
      "        (conv1): Conv2d(960, 128, kernel_size=(1, 1), stride=(1, 1), bias=False)\n",
      "        (norm2): BatchNorm2d(128, eps=1e-05, momentum=0.1, affine=True, track_running_stats=True)\n",
      "        (relu2): ReLU(inplace=True)\n",
      "        (conv2): Conv2d(128, 32, kernel_size=(3, 3), stride=(1, 1), padding=(1, 1), bias=False)\n",
      "      )\n",
      "      (denselayer24): _DenseLayer(\n",
      "        (norm1): BatchNorm2d(992, eps=1e-05, momentum=0.1, affine=True, track_running_stats=True)\n",
      "        (relu1): ReLU(inplace=True)\n",
      "        (conv1): Conv2d(992, 128, kernel_size=(1, 1), stride=(1, 1), bias=False)\n",
      "        (norm2): BatchNorm2d(128, eps=1e-05, momentum=0.1, affine=True, track_running_stats=True)\n",
      "        (relu2): ReLU(inplace=True)\n",
      "        (conv2): Conv2d(128, 32, kernel_size=(3, 3), stride=(1, 1), padding=(1, 1), bias=False)\n",
      "      )\n",
      "    )\n",
      "    (transition3): _Transition(\n",
      "      (norm): BatchNorm2d(1024, eps=1e-05, momentum=0.1, affine=True, track_running_stats=True)\n",
      "      (relu): ReLU(inplace=True)\n",
      "      (conv): Conv2d(1024, 512, kernel_size=(1, 1), stride=(1, 1), bias=False)\n",
      "      (pool): AvgPool2d(kernel_size=2, stride=2, padding=0)\n",
      "    )\n",
      "    (denseblock4): _DenseBlock(\n",
      "      (denselayer1): _DenseLayer(\n",
      "        (norm1): BatchNorm2d(512, eps=1e-05, momentum=0.1, affine=True, track_running_stats=True)\n",
      "        (relu1): ReLU(inplace=True)\n",
      "        (conv1): Conv2d(512, 128, kernel_size=(1, 1), stride=(1, 1), bias=False)\n",
      "        (norm2): BatchNorm2d(128, eps=1e-05, momentum=0.1, affine=True, track_running_stats=True)\n",
      "        (relu2): ReLU(inplace=True)\n",
      "        (conv2): Conv2d(128, 32, kernel_size=(3, 3), stride=(1, 1), padding=(1, 1), bias=False)\n",
      "      )\n",
      "      (denselayer2): _DenseLayer(\n",
      "        (norm1): BatchNorm2d(544, eps=1e-05, momentum=0.1, affine=True, track_running_stats=True)\n",
      "        (relu1): ReLU(inplace=True)\n",
      "        (conv1): Conv2d(544, 128, kernel_size=(1, 1), stride=(1, 1), bias=False)\n",
      "        (norm2): BatchNorm2d(128, eps=1e-05, momentum=0.1, affine=True, track_running_stats=True)\n",
      "        (relu2): ReLU(inplace=True)\n",
      "        (conv2): Conv2d(128, 32, kernel_size=(3, 3), stride=(1, 1), padding=(1, 1), bias=False)\n",
      "      )\n",
      "      (denselayer3): _DenseLayer(\n",
      "        (norm1): BatchNorm2d(576, eps=1e-05, momentum=0.1, affine=True, track_running_stats=True)\n",
      "        (relu1): ReLU(inplace=True)\n",
      "        (conv1): Conv2d(576, 128, kernel_size=(1, 1), stride=(1, 1), bias=False)\n",
      "        (norm2): BatchNorm2d(128, eps=1e-05, momentum=0.1, affine=True, track_running_stats=True)\n",
      "        (relu2): ReLU(inplace=True)\n",
      "        (conv2): Conv2d(128, 32, kernel_size=(3, 3), stride=(1, 1), padding=(1, 1), bias=False)\n",
      "      )\n",
      "      (denselayer4): _DenseLayer(\n",
      "        (norm1): BatchNorm2d(608, eps=1e-05, momentum=0.1, affine=True, track_running_stats=True)\n",
      "        (relu1): ReLU(inplace=True)\n",
      "        (conv1): Conv2d(608, 128, kernel_size=(1, 1), stride=(1, 1), bias=False)\n",
      "        (norm2): BatchNorm2d(128, eps=1e-05, momentum=0.1, affine=True, track_running_stats=True)\n",
      "        (relu2): ReLU(inplace=True)\n",
      "        (conv2): Conv2d(128, 32, kernel_size=(3, 3), stride=(1, 1), padding=(1, 1), bias=False)\n",
      "      )\n",
      "      (denselayer5): _DenseLayer(\n",
      "        (norm1): BatchNorm2d(640, eps=1e-05, momentum=0.1, affine=True, track_running_stats=True)\n",
      "        (relu1): ReLU(inplace=True)\n",
      "        (conv1): Conv2d(640, 128, kernel_size=(1, 1), stride=(1, 1), bias=False)\n",
      "        (norm2): BatchNorm2d(128, eps=1e-05, momentum=0.1, affine=True, track_running_stats=True)\n",
      "        (relu2): ReLU(inplace=True)\n",
      "        (conv2): Conv2d(128, 32, kernel_size=(3, 3), stride=(1, 1), padding=(1, 1), bias=False)\n",
      "      )\n",
      "      (denselayer6): _DenseLayer(\n",
      "        (norm1): BatchNorm2d(672, eps=1e-05, momentum=0.1, affine=True, track_running_stats=True)\n",
      "        (relu1): ReLU(inplace=True)\n",
      "        (conv1): Conv2d(672, 128, kernel_size=(1, 1), stride=(1, 1), bias=False)\n",
      "        (norm2): BatchNorm2d(128, eps=1e-05, momentum=0.1, affine=True, track_running_stats=True)\n",
      "        (relu2): ReLU(inplace=True)\n",
      "        (conv2): Conv2d(128, 32, kernel_size=(3, 3), stride=(1, 1), padding=(1, 1), bias=False)\n",
      "      )\n",
      "      (denselayer7): _DenseLayer(\n",
      "        (norm1): BatchNorm2d(704, eps=1e-05, momentum=0.1, affine=True, track_running_stats=True)\n",
      "        (relu1): ReLU(inplace=True)\n",
      "        (conv1): Conv2d(704, 128, kernel_size=(1, 1), stride=(1, 1), bias=False)\n",
      "        (norm2): BatchNorm2d(128, eps=1e-05, momentum=0.1, affine=True, track_running_stats=True)\n",
      "        (relu2): ReLU(inplace=True)\n",
      "        (conv2): Conv2d(128, 32, kernel_size=(3, 3), stride=(1, 1), padding=(1, 1), bias=False)\n",
      "      )\n",
      "      (denselayer8): _DenseLayer(\n",
      "        (norm1): BatchNorm2d(736, eps=1e-05, momentum=0.1, affine=True, track_running_stats=True)\n",
      "        (relu1): ReLU(inplace=True)\n",
      "        (conv1): Conv2d(736, 128, kernel_size=(1, 1), stride=(1, 1), bias=False)\n",
      "        (norm2): BatchNorm2d(128, eps=1e-05, momentum=0.1, affine=True, track_running_stats=True)\n",
      "        (relu2): ReLU(inplace=True)\n",
      "        (conv2): Conv2d(128, 32, kernel_size=(3, 3), stride=(1, 1), padding=(1, 1), bias=False)\n",
      "      )\n",
      "      (denselayer9): _DenseLayer(\n",
      "        (norm1): BatchNorm2d(768, eps=1e-05, momentum=0.1, affine=True, track_running_stats=True)\n",
      "        (relu1): ReLU(inplace=True)\n",
      "        (conv1): Conv2d(768, 128, kernel_size=(1, 1), stride=(1, 1), bias=False)\n",
      "        (norm2): BatchNorm2d(128, eps=1e-05, momentum=0.1, affine=True, track_running_stats=True)\n",
      "        (relu2): ReLU(inplace=True)\n",
      "        (conv2): Conv2d(128, 32, kernel_size=(3, 3), stride=(1, 1), padding=(1, 1), bias=False)\n",
      "      )\n",
      "      (denselayer10): _DenseLayer(\n",
      "        (norm1): BatchNorm2d(800, eps=1e-05, momentum=0.1, affine=True, track_running_stats=True)\n",
      "        (relu1): ReLU(inplace=True)\n",
      "        (conv1): Conv2d(800, 128, kernel_size=(1, 1), stride=(1, 1), bias=False)\n",
      "        (norm2): BatchNorm2d(128, eps=1e-05, momentum=0.1, affine=True, track_running_stats=True)\n",
      "        (relu2): ReLU(inplace=True)\n",
      "        (conv2): Conv2d(128, 32, kernel_size=(3, 3), stride=(1, 1), padding=(1, 1), bias=False)\n",
      "      )\n",
      "      (denselayer11): _DenseLayer(\n",
      "        (norm1): BatchNorm2d(832, eps=1e-05, momentum=0.1, affine=True, track_running_stats=True)\n",
      "        (relu1): ReLU(inplace=True)\n",
      "        (conv1): Conv2d(832, 128, kernel_size=(1, 1), stride=(1, 1), bias=False)\n",
      "        (norm2): BatchNorm2d(128, eps=1e-05, momentum=0.1, affine=True, track_running_stats=True)\n",
      "        (relu2): ReLU(inplace=True)\n",
      "        (conv2): Conv2d(128, 32, kernel_size=(3, 3), stride=(1, 1), padding=(1, 1), bias=False)\n",
      "      )\n",
      "      (denselayer12): _DenseLayer(\n",
      "        (norm1): BatchNorm2d(864, eps=1e-05, momentum=0.1, affine=True, track_running_stats=True)\n",
      "        (relu1): ReLU(inplace=True)\n",
      "        (conv1): Conv2d(864, 128, kernel_size=(1, 1), stride=(1, 1), bias=False)\n",
      "        (norm2): BatchNorm2d(128, eps=1e-05, momentum=0.1, affine=True, track_running_stats=True)\n",
      "        (relu2): ReLU(inplace=True)\n",
      "        (conv2): Conv2d(128, 32, kernel_size=(3, 3), stride=(1, 1), padding=(1, 1), bias=False)\n",
      "      )\n",
      "      (denselayer13): _DenseLayer(\n",
      "        (norm1): BatchNorm2d(896, eps=1e-05, momentum=0.1, affine=True, track_running_stats=True)\n",
      "        (relu1): ReLU(inplace=True)\n",
      "        (conv1): Conv2d(896, 128, kernel_size=(1, 1), stride=(1, 1), bias=False)\n",
      "        (norm2): BatchNorm2d(128, eps=1e-05, momentum=0.1, affine=True, track_running_stats=True)\n",
      "        (relu2): ReLU(inplace=True)\n",
      "        (conv2): Conv2d(128, 32, kernel_size=(3, 3), stride=(1, 1), padding=(1, 1), bias=False)\n",
      "      )\n",
      "      (denselayer14): _DenseLayer(\n",
      "        (norm1): BatchNorm2d(928, eps=1e-05, momentum=0.1, affine=True, track_running_stats=True)\n",
      "        (relu1): ReLU(inplace=True)\n",
      "        (conv1): Conv2d(928, 128, kernel_size=(1, 1), stride=(1, 1), bias=False)\n",
      "        (norm2): BatchNorm2d(128, eps=1e-05, momentum=0.1, affine=True, track_running_stats=True)\n",
      "        (relu2): ReLU(inplace=True)\n",
      "        (conv2): Conv2d(128, 32, kernel_size=(3, 3), stride=(1, 1), padding=(1, 1), bias=False)\n",
      "      )\n",
      "      (denselayer15): _DenseLayer(\n",
      "        (norm1): BatchNorm2d(960, eps=1e-05, momentum=0.1, affine=True, track_running_stats=True)\n",
      "        (relu1): ReLU(inplace=True)\n",
      "        (conv1): Conv2d(960, 128, kernel_size=(1, 1), stride=(1, 1), bias=False)\n",
      "        (norm2): BatchNorm2d(128, eps=1e-05, momentum=0.1, affine=True, track_running_stats=True)\n",
      "        (relu2): ReLU(inplace=True)\n",
      "        (conv2): Conv2d(128, 32, kernel_size=(3, 3), stride=(1, 1), padding=(1, 1), bias=False)\n",
      "      )\n",
      "      (denselayer16): _DenseLayer(\n",
      "        (norm1): BatchNorm2d(992, eps=1e-05, momentum=0.1, affine=True, track_running_stats=True)\n",
      "        (relu1): ReLU(inplace=True)\n",
      "        (conv1): Conv2d(992, 128, kernel_size=(1, 1), stride=(1, 1), bias=False)\n",
      "        (norm2): BatchNorm2d(128, eps=1e-05, momentum=0.1, affine=True, track_running_stats=True)\n",
      "        (relu2): ReLU(inplace=True)\n",
      "        (conv2): Conv2d(128, 32, kernel_size=(3, 3), stride=(1, 1), padding=(1, 1), bias=False)\n",
      "      )\n",
      "    )\n",
      "    (norm5): BatchNorm2d(1024, eps=1e-05, momentum=0.1, affine=True, track_running_stats=True)\n",
      "  )\n",
      "  (1): Sequential(\n",
      "    (conv0): Conv2d(3, 64, kernel_size=(7, 7), stride=(2, 2), padding=(3, 3), bias=False)\n",
      "    (norm0): BatchNorm2d(64, eps=1e-05, momentum=0.1, affine=True, track_running_stats=True)\n",
      "    (relu0): ReLU(inplace=True)\n",
      "    (pool0): MaxPool2d(kernel_size=3, stride=2, padding=1, dilation=1, ceil_mode=False)\n",
      "    (denseblock1): _DenseBlock(\n",
      "      (denselayer1): _DenseLayer(\n",
      "        (norm1): BatchNorm2d(64, eps=1e-05, momentum=0.1, affine=True, track_running_stats=True)\n",
      "        (relu1): ReLU(inplace=True)\n",
      "        (conv1): Conv2d(64, 128, kernel_size=(1, 1), stride=(1, 1), bias=False)\n",
      "        (norm2): BatchNorm2d(128, eps=1e-05, momentum=0.1, affine=True, track_running_stats=True)\n",
      "        (relu2): ReLU(inplace=True)\n",
      "        (conv2): Conv2d(128, 32, kernel_size=(3, 3), stride=(1, 1), padding=(1, 1), bias=False)\n",
      "      )\n",
      "      (denselayer2): _DenseLayer(\n",
      "        (norm1): BatchNorm2d(96, eps=1e-05, momentum=0.1, affine=True, track_running_stats=True)\n",
      "        (relu1): ReLU(inplace=True)\n",
      "        (conv1): Conv2d(96, 128, kernel_size=(1, 1), stride=(1, 1), bias=False)\n",
      "        (norm2): BatchNorm2d(128, eps=1e-05, momentum=0.1, affine=True, track_running_stats=True)\n",
      "        (relu2): ReLU(inplace=True)\n",
      "        (conv2): Conv2d(128, 32, kernel_size=(3, 3), stride=(1, 1), padding=(1, 1), bias=False)\n",
      "      )\n",
      "      (denselayer3): _DenseLayer(\n",
      "        (norm1): BatchNorm2d(128, eps=1e-05, momentum=0.1, affine=True, track_running_stats=True)\n",
      "        (relu1): ReLU(inplace=True)\n",
      "        (conv1): Conv2d(128, 128, kernel_size=(1, 1), stride=(1, 1), bias=False)\n",
      "        (norm2): BatchNorm2d(128, eps=1e-05, momentum=0.1, affine=True, track_running_stats=True)\n",
      "        (relu2): ReLU(inplace=True)\n",
      "        (conv2): Conv2d(128, 32, kernel_size=(3, 3), stride=(1, 1), padding=(1, 1), bias=False)\n",
      "      )\n",
      "      (denselayer4): _DenseLayer(\n",
      "        (norm1): BatchNorm2d(160, eps=1e-05, momentum=0.1, affine=True, track_running_stats=True)\n",
      "        (relu1): ReLU(inplace=True)\n",
      "        (conv1): Conv2d(160, 128, kernel_size=(1, 1), stride=(1, 1), bias=False)\n",
      "        (norm2): BatchNorm2d(128, eps=1e-05, momentum=0.1, affine=True, track_running_stats=True)\n",
      "        (relu2): ReLU(inplace=True)\n",
      "        (conv2): Conv2d(128, 32, kernel_size=(3, 3), stride=(1, 1), padding=(1, 1), bias=False)\n",
      "      )\n",
      "      (denselayer5): _DenseLayer(\n",
      "        (norm1): BatchNorm2d(192, eps=1e-05, momentum=0.1, affine=True, track_running_stats=True)\n",
      "        (relu1): ReLU(inplace=True)\n",
      "        (conv1): Conv2d(192, 128, kernel_size=(1, 1), stride=(1, 1), bias=False)\n",
      "        (norm2): BatchNorm2d(128, eps=1e-05, momentum=0.1, affine=True, track_running_stats=True)\n",
      "        (relu2): ReLU(inplace=True)\n",
      "        (conv2): Conv2d(128, 32, kernel_size=(3, 3), stride=(1, 1), padding=(1, 1), bias=False)\n",
      "      )\n",
      "      (denselayer6): _DenseLayer(\n",
      "        (norm1): BatchNorm2d(224, eps=1e-05, momentum=0.1, affine=True, track_running_stats=True)\n",
      "        (relu1): ReLU(inplace=True)\n",
      "        (conv1): Conv2d(224, 128, kernel_size=(1, 1), stride=(1, 1), bias=False)\n",
      "        (norm2): BatchNorm2d(128, eps=1e-05, momentum=0.1, affine=True, track_running_stats=True)\n",
      "        (relu2): ReLU(inplace=True)\n",
      "        (conv2): Conv2d(128, 32, kernel_size=(3, 3), stride=(1, 1), padding=(1, 1), bias=False)\n",
      "      )\n",
      "    )\n",
      "    (transition1): _Transition(\n",
      "      (norm): BatchNorm2d(256, eps=1e-05, momentum=0.1, affine=True, track_running_stats=True)\n",
      "      (relu): ReLU(inplace=True)\n",
      "      (conv): Conv2d(256, 128, kernel_size=(1, 1), stride=(1, 1), bias=False)\n",
      "      (pool): AvgPool2d(kernel_size=2, stride=2, padding=0)\n",
      "    )\n",
      "    (denseblock2): _DenseBlock(\n",
      "      (denselayer1): _DenseLayer(\n",
      "        (norm1): BatchNorm2d(128, eps=1e-05, momentum=0.1, affine=True, track_running_stats=True)\n",
      "        (relu1): ReLU(inplace=True)\n",
      "        (conv1): Conv2d(128, 128, kernel_size=(1, 1), stride=(1, 1), bias=False)\n",
      "        (norm2): BatchNorm2d(128, eps=1e-05, momentum=0.1, affine=True, track_running_stats=True)\n",
      "        (relu2): ReLU(inplace=True)\n",
      "        (conv2): Conv2d(128, 32, kernel_size=(3, 3), stride=(1, 1), padding=(1, 1), bias=False)\n",
      "      )\n",
      "      (denselayer2): _DenseLayer(\n",
      "        (norm1): BatchNorm2d(160, eps=1e-05, momentum=0.1, affine=True, track_running_stats=True)\n",
      "        (relu1): ReLU(inplace=True)\n",
      "        (conv1): Conv2d(160, 128, kernel_size=(1, 1), stride=(1, 1), bias=False)\n",
      "        (norm2): BatchNorm2d(128, eps=1e-05, momentum=0.1, affine=True, track_running_stats=True)\n",
      "        (relu2): ReLU(inplace=True)\n",
      "        (conv2): Conv2d(128, 32, kernel_size=(3, 3), stride=(1, 1), padding=(1, 1), bias=False)\n",
      "      )\n",
      "      (denselayer3): _DenseLayer(\n",
      "        (norm1): BatchNorm2d(192, eps=1e-05, momentum=0.1, affine=True, track_running_stats=True)\n",
      "        (relu1): ReLU(inplace=True)\n",
      "        (conv1): Conv2d(192, 128, kernel_size=(1, 1), stride=(1, 1), bias=False)\n",
      "        (norm2): BatchNorm2d(128, eps=1e-05, momentum=0.1, affine=True, track_running_stats=True)\n",
      "        (relu2): ReLU(inplace=True)\n",
      "        (conv2): Conv2d(128, 32, kernel_size=(3, 3), stride=(1, 1), padding=(1, 1), bias=False)\n",
      "      )\n",
      "      (denselayer4): _DenseLayer(\n",
      "        (norm1): BatchNorm2d(224, eps=1e-05, momentum=0.1, affine=True, track_running_stats=True)\n",
      "        (relu1): ReLU(inplace=True)\n",
      "        (conv1): Conv2d(224, 128, kernel_size=(1, 1), stride=(1, 1), bias=False)\n",
      "        (norm2): BatchNorm2d(128, eps=1e-05, momentum=0.1, affine=True, track_running_stats=True)\n",
      "        (relu2): ReLU(inplace=True)\n",
      "        (conv2): Conv2d(128, 32, kernel_size=(3, 3), stride=(1, 1), padding=(1, 1), bias=False)\n",
      "      )\n",
      "      (denselayer5): _DenseLayer(\n",
      "        (norm1): BatchNorm2d(256, eps=1e-05, momentum=0.1, affine=True, track_running_stats=True)\n",
      "        (relu1): ReLU(inplace=True)\n",
      "        (conv1): Conv2d(256, 128, kernel_size=(1, 1), stride=(1, 1), bias=False)\n",
      "        (norm2): BatchNorm2d(128, eps=1e-05, momentum=0.1, affine=True, track_running_stats=True)\n",
      "        (relu2): ReLU(inplace=True)\n",
      "        (conv2): Conv2d(128, 32, kernel_size=(3, 3), stride=(1, 1), padding=(1, 1), bias=False)\n",
      "      )\n",
      "      (denselayer6): _DenseLayer(\n",
      "        (norm1): BatchNorm2d(288, eps=1e-05, momentum=0.1, affine=True, track_running_stats=True)\n",
      "        (relu1): ReLU(inplace=True)\n",
      "        (conv1): Conv2d(288, 128, kernel_size=(1, 1), stride=(1, 1), bias=False)\n",
      "        (norm2): BatchNorm2d(128, eps=1e-05, momentum=0.1, affine=True, track_running_stats=True)\n",
      "        (relu2): ReLU(inplace=True)\n",
      "        (conv2): Conv2d(128, 32, kernel_size=(3, 3), stride=(1, 1), padding=(1, 1), bias=False)\n",
      "      )\n",
      "      (denselayer7): _DenseLayer(\n",
      "        (norm1): BatchNorm2d(320, eps=1e-05, momentum=0.1, affine=True, track_running_stats=True)\n",
      "        (relu1): ReLU(inplace=True)\n",
      "        (conv1): Conv2d(320, 128, kernel_size=(1, 1), stride=(1, 1), bias=False)\n",
      "        (norm2): BatchNorm2d(128, eps=1e-05, momentum=0.1, affine=True, track_running_stats=True)\n",
      "        (relu2): ReLU(inplace=True)\n",
      "        (conv2): Conv2d(128, 32, kernel_size=(3, 3), stride=(1, 1), padding=(1, 1), bias=False)\n",
      "      )\n",
      "      (denselayer8): _DenseLayer(\n",
      "        (norm1): BatchNorm2d(352, eps=1e-05, momentum=0.1, affine=True, track_running_stats=True)\n",
      "        (relu1): ReLU(inplace=True)\n",
      "        (conv1): Conv2d(352, 128, kernel_size=(1, 1), stride=(1, 1), bias=False)\n",
      "        (norm2): BatchNorm2d(128, eps=1e-05, momentum=0.1, affine=True, track_running_stats=True)\n",
      "        (relu2): ReLU(inplace=True)\n",
      "        (conv2): Conv2d(128, 32, kernel_size=(3, 3), stride=(1, 1), padding=(1, 1), bias=False)\n",
      "      )\n",
      "      (denselayer9): _DenseLayer(\n",
      "        (norm1): BatchNorm2d(384, eps=1e-05, momentum=0.1, affine=True, track_running_stats=True)\n",
      "        (relu1): ReLU(inplace=True)\n",
      "        (conv1): Conv2d(384, 128, kernel_size=(1, 1), stride=(1, 1), bias=False)\n",
      "        (norm2): BatchNorm2d(128, eps=1e-05, momentum=0.1, affine=True, track_running_stats=True)\n",
      "        (relu2): ReLU(inplace=True)\n",
      "        (conv2): Conv2d(128, 32, kernel_size=(3, 3), stride=(1, 1), padding=(1, 1), bias=False)\n",
      "      )\n",
      "      (denselayer10): _DenseLayer(\n",
      "        (norm1): BatchNorm2d(416, eps=1e-05, momentum=0.1, affine=True, track_running_stats=True)\n",
      "        (relu1): ReLU(inplace=True)\n",
      "        (conv1): Conv2d(416, 128, kernel_size=(1, 1), stride=(1, 1), bias=False)\n",
      "        (norm2): BatchNorm2d(128, eps=1e-05, momentum=0.1, affine=True, track_running_stats=True)\n",
      "        (relu2): ReLU(inplace=True)\n",
      "        (conv2): Conv2d(128, 32, kernel_size=(3, 3), stride=(1, 1), padding=(1, 1), bias=False)\n",
      "      )\n",
      "      (denselayer11): _DenseLayer(\n",
      "        (norm1): BatchNorm2d(448, eps=1e-05, momentum=0.1, affine=True, track_running_stats=True)\n",
      "        (relu1): ReLU(inplace=True)\n",
      "        (conv1): Conv2d(448, 128, kernel_size=(1, 1), stride=(1, 1), bias=False)\n",
      "        (norm2): BatchNorm2d(128, eps=1e-05, momentum=0.1, affine=True, track_running_stats=True)\n",
      "        (relu2): ReLU(inplace=True)\n",
      "        (conv2): Conv2d(128, 32, kernel_size=(3, 3), stride=(1, 1), padding=(1, 1), bias=False)\n",
      "      )\n",
      "      (denselayer12): _DenseLayer(\n",
      "        (norm1): BatchNorm2d(480, eps=1e-05, momentum=0.1, affine=True, track_running_stats=True)\n",
      "        (relu1): ReLU(inplace=True)\n",
      "        (conv1): Conv2d(480, 128, kernel_size=(1, 1), stride=(1, 1), bias=False)\n",
      "        (norm2): BatchNorm2d(128, eps=1e-05, momentum=0.1, affine=True, track_running_stats=True)\n",
      "        (relu2): ReLU(inplace=True)\n",
      "        (conv2): Conv2d(128, 32, kernel_size=(3, 3), stride=(1, 1), padding=(1, 1), bias=False)\n",
      "      )\n",
      "    )\n",
      "    (transition2): _Transition(\n",
      "      (norm): BatchNorm2d(512, eps=1e-05, momentum=0.1, affine=True, track_running_stats=True)\n",
      "      (relu): ReLU(inplace=True)\n",
      "      (conv): Conv2d(512, 256, kernel_size=(1, 1), stride=(1, 1), bias=False)\n",
      "      (pool): AvgPool2d(kernel_size=2, stride=2, padding=0)\n",
      "    )\n",
      "    (denseblock3): _DenseBlock(\n",
      "      (denselayer1): _DenseLayer(\n",
      "        (norm1): BatchNorm2d(256, eps=1e-05, momentum=0.1, affine=True, track_running_stats=True)\n",
      "        (relu1): ReLU(inplace=True)\n",
      "        (conv1): Conv2d(256, 128, kernel_size=(1, 1), stride=(1, 1), bias=False)\n",
      "        (norm2): BatchNorm2d(128, eps=1e-05, momentum=0.1, affine=True, track_running_stats=True)\n",
      "        (relu2): ReLU(inplace=True)\n",
      "        (conv2): Conv2d(128, 32, kernel_size=(3, 3), stride=(1, 1), padding=(1, 1), bias=False)\n",
      "      )\n",
      "      (denselayer2): _DenseLayer(\n",
      "        (norm1): BatchNorm2d(288, eps=1e-05, momentum=0.1, affine=True, track_running_stats=True)\n",
      "        (relu1): ReLU(inplace=True)\n",
      "        (conv1): Conv2d(288, 128, kernel_size=(1, 1), stride=(1, 1), bias=False)\n",
      "        (norm2): BatchNorm2d(128, eps=1e-05, momentum=0.1, affine=True, track_running_stats=True)\n",
      "        (relu2): ReLU(inplace=True)\n",
      "        (conv2): Conv2d(128, 32, kernel_size=(3, 3), stride=(1, 1), padding=(1, 1), bias=False)\n",
      "      )\n",
      "      (denselayer3): _DenseLayer(\n",
      "        (norm1): BatchNorm2d(320, eps=1e-05, momentum=0.1, affine=True, track_running_stats=True)\n",
      "        (relu1): ReLU(inplace=True)\n",
      "        (conv1): Conv2d(320, 128, kernel_size=(1, 1), stride=(1, 1), bias=False)\n",
      "        (norm2): BatchNorm2d(128, eps=1e-05, momentum=0.1, affine=True, track_running_stats=True)\n",
      "        (relu2): ReLU(inplace=True)\n",
      "        (conv2): Conv2d(128, 32, kernel_size=(3, 3), stride=(1, 1), padding=(1, 1), bias=False)\n",
      "      )\n",
      "      (denselayer4): _DenseLayer(\n",
      "        (norm1): BatchNorm2d(352, eps=1e-05, momentum=0.1, affine=True, track_running_stats=True)\n",
      "        (relu1): ReLU(inplace=True)\n",
      "        (conv1): Conv2d(352, 128, kernel_size=(1, 1), stride=(1, 1), bias=False)\n",
      "        (norm2): BatchNorm2d(128, eps=1e-05, momentum=0.1, affine=True, track_running_stats=True)\n",
      "        (relu2): ReLU(inplace=True)\n",
      "        (conv2): Conv2d(128, 32, kernel_size=(3, 3), stride=(1, 1), padding=(1, 1), bias=False)\n",
      "      )\n",
      "      (denselayer5): _DenseLayer(\n",
      "        (norm1): BatchNorm2d(384, eps=1e-05, momentum=0.1, affine=True, track_running_stats=True)\n",
      "        (relu1): ReLU(inplace=True)\n",
      "        (conv1): Conv2d(384, 128, kernel_size=(1, 1), stride=(1, 1), bias=False)\n",
      "        (norm2): BatchNorm2d(128, eps=1e-05, momentum=0.1, affine=True, track_running_stats=True)\n",
      "        (relu2): ReLU(inplace=True)\n",
      "        (conv2): Conv2d(128, 32, kernel_size=(3, 3), stride=(1, 1), padding=(1, 1), bias=False)\n",
      "      )\n",
      "      (denselayer6): _DenseLayer(\n",
      "        (norm1): BatchNorm2d(416, eps=1e-05, momentum=0.1, affine=True, track_running_stats=True)\n",
      "        (relu1): ReLU(inplace=True)\n",
      "        (conv1): Conv2d(416, 128, kernel_size=(1, 1), stride=(1, 1), bias=False)\n",
      "        (norm2): BatchNorm2d(128, eps=1e-05, momentum=0.1, affine=True, track_running_stats=True)\n",
      "        (relu2): ReLU(inplace=True)\n",
      "        (conv2): Conv2d(128, 32, kernel_size=(3, 3), stride=(1, 1), padding=(1, 1), bias=False)\n",
      "      )\n",
      "      (denselayer7): _DenseLayer(\n",
      "        (norm1): BatchNorm2d(448, eps=1e-05, momentum=0.1, affine=True, track_running_stats=True)\n",
      "        (relu1): ReLU(inplace=True)\n",
      "        (conv1): Conv2d(448, 128, kernel_size=(1, 1), stride=(1, 1), bias=False)\n",
      "        (norm2): BatchNorm2d(128, eps=1e-05, momentum=0.1, affine=True, track_running_stats=True)\n",
      "        (relu2): ReLU(inplace=True)\n",
      "        (conv2): Conv2d(128, 32, kernel_size=(3, 3), stride=(1, 1), padding=(1, 1), bias=False)\n",
      "      )\n",
      "      (denselayer8): _DenseLayer(\n",
      "        (norm1): BatchNorm2d(480, eps=1e-05, momentum=0.1, affine=True, track_running_stats=True)\n",
      "        (relu1): ReLU(inplace=True)\n",
      "        (conv1): Conv2d(480, 128, kernel_size=(1, 1), stride=(1, 1), bias=False)\n",
      "        (norm2): BatchNorm2d(128, eps=1e-05, momentum=0.1, affine=True, track_running_stats=True)\n",
      "        (relu2): ReLU(inplace=True)\n",
      "        (conv2): Conv2d(128, 32, kernel_size=(3, 3), stride=(1, 1), padding=(1, 1), bias=False)\n",
      "      )\n",
      "      (denselayer9): _DenseLayer(\n",
      "        (norm1): BatchNorm2d(512, eps=1e-05, momentum=0.1, affine=True, track_running_stats=True)\n",
      "        (relu1): ReLU(inplace=True)\n",
      "        (conv1): Conv2d(512, 128, kernel_size=(1, 1), stride=(1, 1), bias=False)\n",
      "        (norm2): BatchNorm2d(128, eps=1e-05, momentum=0.1, affine=True, track_running_stats=True)\n",
      "        (relu2): ReLU(inplace=True)\n",
      "        (conv2): Conv2d(128, 32, kernel_size=(3, 3), stride=(1, 1), padding=(1, 1), bias=False)\n",
      "      )\n",
      "      (denselayer10): _DenseLayer(\n",
      "        (norm1): BatchNorm2d(544, eps=1e-05, momentum=0.1, affine=True, track_running_stats=True)\n",
      "        (relu1): ReLU(inplace=True)\n",
      "        (conv1): Conv2d(544, 128, kernel_size=(1, 1), stride=(1, 1), bias=False)\n",
      "        (norm2): BatchNorm2d(128, eps=1e-05, momentum=0.1, affine=True, track_running_stats=True)\n",
      "        (relu2): ReLU(inplace=True)\n",
      "        (conv2): Conv2d(128, 32, kernel_size=(3, 3), stride=(1, 1), padding=(1, 1), bias=False)\n",
      "      )\n",
      "      (denselayer11): _DenseLayer(\n",
      "        (norm1): BatchNorm2d(576, eps=1e-05, momentum=0.1, affine=True, track_running_stats=True)\n",
      "        (relu1): ReLU(inplace=True)\n",
      "        (conv1): Conv2d(576, 128, kernel_size=(1, 1), stride=(1, 1), bias=False)\n",
      "        (norm2): BatchNorm2d(128, eps=1e-05, momentum=0.1, affine=True, track_running_stats=True)\n",
      "        (relu2): ReLU(inplace=True)\n",
      "        (conv2): Conv2d(128, 32, kernel_size=(3, 3), stride=(1, 1), padding=(1, 1), bias=False)\n",
      "      )\n",
      "      (denselayer12): _DenseLayer(\n",
      "        (norm1): BatchNorm2d(608, eps=1e-05, momentum=0.1, affine=True, track_running_stats=True)\n",
      "        (relu1): ReLU(inplace=True)\n",
      "        (conv1): Conv2d(608, 128, kernel_size=(1, 1), stride=(1, 1), bias=False)\n",
      "        (norm2): BatchNorm2d(128, eps=1e-05, momentum=0.1, affine=True, track_running_stats=True)\n",
      "        (relu2): ReLU(inplace=True)\n",
      "        (conv2): Conv2d(128, 32, kernel_size=(3, 3), stride=(1, 1), padding=(1, 1), bias=False)\n",
      "      )\n",
      "      (denselayer13): _DenseLayer(\n",
      "        (norm1): BatchNorm2d(640, eps=1e-05, momentum=0.1, affine=True, track_running_stats=True)\n",
      "        (relu1): ReLU(inplace=True)\n",
      "        (conv1): Conv2d(640, 128, kernel_size=(1, 1), stride=(1, 1), bias=False)\n",
      "        (norm2): BatchNorm2d(128, eps=1e-05, momentum=0.1, affine=True, track_running_stats=True)\n",
      "        (relu2): ReLU(inplace=True)\n",
      "        (conv2): Conv2d(128, 32, kernel_size=(3, 3), stride=(1, 1), padding=(1, 1), bias=False)\n",
      "      )\n",
      "      (denselayer14): _DenseLayer(\n",
      "        (norm1): BatchNorm2d(672, eps=1e-05, momentum=0.1, affine=True, track_running_stats=True)\n",
      "        (relu1): ReLU(inplace=True)\n",
      "        (conv1): Conv2d(672, 128, kernel_size=(1, 1), stride=(1, 1), bias=False)\n",
      "        (norm2): BatchNorm2d(128, eps=1e-05, momentum=0.1, affine=True, track_running_stats=True)\n",
      "        (relu2): ReLU(inplace=True)\n",
      "        (conv2): Conv2d(128, 32, kernel_size=(3, 3), stride=(1, 1), padding=(1, 1), bias=False)\n",
      "      )\n",
      "      (denselayer15): _DenseLayer(\n",
      "        (norm1): BatchNorm2d(704, eps=1e-05, momentum=0.1, affine=True, track_running_stats=True)\n",
      "        (relu1): ReLU(inplace=True)\n",
      "        (conv1): Conv2d(704, 128, kernel_size=(1, 1), stride=(1, 1), bias=False)\n",
      "        (norm2): BatchNorm2d(128, eps=1e-05, momentum=0.1, affine=True, track_running_stats=True)\n",
      "        (relu2): ReLU(inplace=True)\n",
      "        (conv2): Conv2d(128, 32, kernel_size=(3, 3), stride=(1, 1), padding=(1, 1), bias=False)\n",
      "      )\n",
      "      (denselayer16): _DenseLayer(\n",
      "        (norm1): BatchNorm2d(736, eps=1e-05, momentum=0.1, affine=True, track_running_stats=True)\n",
      "        (relu1): ReLU(inplace=True)\n",
      "        (conv1): Conv2d(736, 128, kernel_size=(1, 1), stride=(1, 1), bias=False)\n",
      "        (norm2): BatchNorm2d(128, eps=1e-05, momentum=0.1, affine=True, track_running_stats=True)\n",
      "        (relu2): ReLU(inplace=True)\n",
      "        (conv2): Conv2d(128, 32, kernel_size=(3, 3), stride=(1, 1), padding=(1, 1), bias=False)\n",
      "      )\n",
      "      (denselayer17): _DenseLayer(\n",
      "        (norm1): BatchNorm2d(768, eps=1e-05, momentum=0.1, affine=True, track_running_stats=True)\n",
      "        (relu1): ReLU(inplace=True)\n",
      "        (conv1): Conv2d(768, 128, kernel_size=(1, 1), stride=(1, 1), bias=False)\n",
      "        (norm2): BatchNorm2d(128, eps=1e-05, momentum=0.1, affine=True, track_running_stats=True)\n",
      "        (relu2): ReLU(inplace=True)\n",
      "        (conv2): Conv2d(128, 32, kernel_size=(3, 3), stride=(1, 1), padding=(1, 1), bias=False)\n",
      "      )\n",
      "      (denselayer18): _DenseLayer(\n",
      "        (norm1): BatchNorm2d(800, eps=1e-05, momentum=0.1, affine=True, track_running_stats=True)\n",
      "        (relu1): ReLU(inplace=True)\n",
      "        (conv1): Conv2d(800, 128, kernel_size=(1, 1), stride=(1, 1), bias=False)\n",
      "        (norm2): BatchNorm2d(128, eps=1e-05, momentum=0.1, affine=True, track_running_stats=True)\n",
      "        (relu2): ReLU(inplace=True)\n",
      "        (conv2): Conv2d(128, 32, kernel_size=(3, 3), stride=(1, 1), padding=(1, 1), bias=False)\n",
      "      )\n",
      "      (denselayer19): _DenseLayer(\n",
      "        (norm1): BatchNorm2d(832, eps=1e-05, momentum=0.1, affine=True, track_running_stats=True)\n",
      "        (relu1): ReLU(inplace=True)\n",
      "        (conv1): Conv2d(832, 128, kernel_size=(1, 1), stride=(1, 1), bias=False)\n",
      "        (norm2): BatchNorm2d(128, eps=1e-05, momentum=0.1, affine=True, track_running_stats=True)\n",
      "        (relu2): ReLU(inplace=True)\n",
      "        (conv2): Conv2d(128, 32, kernel_size=(3, 3), stride=(1, 1), padding=(1, 1), bias=False)\n",
      "      )\n",
      "      (denselayer20): _DenseLayer(\n",
      "        (norm1): BatchNorm2d(864, eps=1e-05, momentum=0.1, affine=True, track_running_stats=True)\n",
      "        (relu1): ReLU(inplace=True)\n",
      "        (conv1): Conv2d(864, 128, kernel_size=(1, 1), stride=(1, 1), bias=False)\n",
      "        (norm2): BatchNorm2d(128, eps=1e-05, momentum=0.1, affine=True, track_running_stats=True)\n",
      "        (relu2): ReLU(inplace=True)\n",
      "        (conv2): Conv2d(128, 32, kernel_size=(3, 3), stride=(1, 1), padding=(1, 1), bias=False)\n",
      "      )\n",
      "      (denselayer21): _DenseLayer(\n",
      "        (norm1): BatchNorm2d(896, eps=1e-05, momentum=0.1, affine=True, track_running_stats=True)\n",
      "        (relu1): ReLU(inplace=True)\n",
      "        (conv1): Conv2d(896, 128, kernel_size=(1, 1), stride=(1, 1), bias=False)\n",
      "        (norm2): BatchNorm2d(128, eps=1e-05, momentum=0.1, affine=True, track_running_stats=True)\n",
      "        (relu2): ReLU(inplace=True)\n",
      "        (conv2): Conv2d(128, 32, kernel_size=(3, 3), stride=(1, 1), padding=(1, 1), bias=False)\n",
      "      )\n",
      "      (denselayer22): _DenseLayer(\n",
      "        (norm1): BatchNorm2d(928, eps=1e-05, momentum=0.1, affine=True, track_running_stats=True)\n",
      "        (relu1): ReLU(inplace=True)\n",
      "        (conv1): Conv2d(928, 128, kernel_size=(1, 1), stride=(1, 1), bias=False)\n",
      "        (norm2): BatchNorm2d(128, eps=1e-05, momentum=0.1, affine=True, track_running_stats=True)\n",
      "        (relu2): ReLU(inplace=True)\n",
      "        (conv2): Conv2d(128, 32, kernel_size=(3, 3), stride=(1, 1), padding=(1, 1), bias=False)\n",
      "      )\n",
      "      (denselayer23): _DenseLayer(\n",
      "        (norm1): BatchNorm2d(960, eps=1e-05, momentum=0.1, affine=True, track_running_stats=True)\n",
      "        (relu1): ReLU(inplace=True)\n",
      "        (conv1): Conv2d(960, 128, kernel_size=(1, 1), stride=(1, 1), bias=False)\n",
      "        (norm2): BatchNorm2d(128, eps=1e-05, momentum=0.1, affine=True, track_running_stats=True)\n",
      "        (relu2): ReLU(inplace=True)\n",
      "        (conv2): Conv2d(128, 32, kernel_size=(3, 3), stride=(1, 1), padding=(1, 1), bias=False)\n",
      "      )\n",
      "      (denselayer24): _DenseLayer(\n",
      "        (norm1): BatchNorm2d(992, eps=1e-05, momentum=0.1, affine=True, track_running_stats=True)\n",
      "        (relu1): ReLU(inplace=True)\n",
      "        (conv1): Conv2d(992, 128, kernel_size=(1, 1), stride=(1, 1), bias=False)\n",
      "        (norm2): BatchNorm2d(128, eps=1e-05, momentum=0.1, affine=True, track_running_stats=True)\n",
      "        (relu2): ReLU(inplace=True)\n",
      "        (conv2): Conv2d(128, 32, kernel_size=(3, 3), stride=(1, 1), padding=(1, 1), bias=False)\n",
      "      )\n",
      "    )\n",
      "    (transition3): _Transition(\n",
      "      (norm): BatchNorm2d(1024, eps=1e-05, momentum=0.1, affine=True, track_running_stats=True)\n",
      "      (relu): ReLU(inplace=True)\n",
      "      (conv): Conv2d(1024, 512, kernel_size=(1, 1), stride=(1, 1), bias=False)\n",
      "      (pool): AvgPool2d(kernel_size=2, stride=2, padding=0)\n",
      "    )\n",
      "    (denseblock4): _DenseBlock(\n",
      "      (denselayer1): _DenseLayer(\n",
      "        (norm1): BatchNorm2d(512, eps=1e-05, momentum=0.1, affine=True, track_running_stats=True)\n",
      "        (relu1): ReLU(inplace=True)\n",
      "        (conv1): Conv2d(512, 128, kernel_size=(1, 1), stride=(1, 1), bias=False)\n",
      "        (norm2): BatchNorm2d(128, eps=1e-05, momentum=0.1, affine=True, track_running_stats=True)\n",
      "        (relu2): ReLU(inplace=True)\n",
      "        (conv2): Conv2d(128, 32, kernel_size=(3, 3), stride=(1, 1), padding=(1, 1), bias=False)\n",
      "      )\n",
      "      (denselayer2): _DenseLayer(\n",
      "        (norm1): BatchNorm2d(544, eps=1e-05, momentum=0.1, affine=True, track_running_stats=True)\n",
      "        (relu1): ReLU(inplace=True)\n",
      "        (conv1): Conv2d(544, 128, kernel_size=(1, 1), stride=(1, 1), bias=False)\n",
      "        (norm2): BatchNorm2d(128, eps=1e-05, momentum=0.1, affine=True, track_running_stats=True)\n",
      "        (relu2): ReLU(inplace=True)\n",
      "        (conv2): Conv2d(128, 32, kernel_size=(3, 3), stride=(1, 1), padding=(1, 1), bias=False)\n",
      "      )\n",
      "      (denselayer3): _DenseLayer(\n",
      "        (norm1): BatchNorm2d(576, eps=1e-05, momentum=0.1, affine=True, track_running_stats=True)\n",
      "        (relu1): ReLU(inplace=True)\n",
      "        (conv1): Conv2d(576, 128, kernel_size=(1, 1), stride=(1, 1), bias=False)\n",
      "        (norm2): BatchNorm2d(128, eps=1e-05, momentum=0.1, affine=True, track_running_stats=True)\n",
      "        (relu2): ReLU(inplace=True)\n",
      "        (conv2): Conv2d(128, 32, kernel_size=(3, 3), stride=(1, 1), padding=(1, 1), bias=False)\n",
      "      )\n",
      "      (denselayer4): _DenseLayer(\n",
      "        (norm1): BatchNorm2d(608, eps=1e-05, momentum=0.1, affine=True, track_running_stats=True)\n",
      "        (relu1): ReLU(inplace=True)\n",
      "        (conv1): Conv2d(608, 128, kernel_size=(1, 1), stride=(1, 1), bias=False)\n",
      "        (norm2): BatchNorm2d(128, eps=1e-05, momentum=0.1, affine=True, track_running_stats=True)\n",
      "        (relu2): ReLU(inplace=True)\n",
      "        (conv2): Conv2d(128, 32, kernel_size=(3, 3), stride=(1, 1), padding=(1, 1), bias=False)\n",
      "      )\n",
      "      (denselayer5): _DenseLayer(\n",
      "        (norm1): BatchNorm2d(640, eps=1e-05, momentum=0.1, affine=True, track_running_stats=True)\n",
      "        (relu1): ReLU(inplace=True)\n",
      "        (conv1): Conv2d(640, 128, kernel_size=(1, 1), stride=(1, 1), bias=False)\n",
      "        (norm2): BatchNorm2d(128, eps=1e-05, momentum=0.1, affine=True, track_running_stats=True)\n",
      "        (relu2): ReLU(inplace=True)\n",
      "        (conv2): Conv2d(128, 32, kernel_size=(3, 3), stride=(1, 1), padding=(1, 1), bias=False)\n",
      "      )\n",
      "      (denselayer6): _DenseLayer(\n",
      "        (norm1): BatchNorm2d(672, eps=1e-05, momentum=0.1, affine=True, track_running_stats=True)\n",
      "        (relu1): ReLU(inplace=True)\n",
      "        (conv1): Conv2d(672, 128, kernel_size=(1, 1), stride=(1, 1), bias=False)\n",
      "        (norm2): BatchNorm2d(128, eps=1e-05, momentum=0.1, affine=True, track_running_stats=True)\n",
      "        (relu2): ReLU(inplace=True)\n",
      "        (conv2): Conv2d(128, 32, kernel_size=(3, 3), stride=(1, 1), padding=(1, 1), bias=False)\n",
      "      )\n",
      "      (denselayer7): _DenseLayer(\n",
      "        (norm1): BatchNorm2d(704, eps=1e-05, momentum=0.1, affine=True, track_running_stats=True)\n",
      "        (relu1): ReLU(inplace=True)\n",
      "        (conv1): Conv2d(704, 128, kernel_size=(1, 1), stride=(1, 1), bias=False)\n",
      "        (norm2): BatchNorm2d(128, eps=1e-05, momentum=0.1, affine=True, track_running_stats=True)\n",
      "        (relu2): ReLU(inplace=True)\n",
      "        (conv2): Conv2d(128, 32, kernel_size=(3, 3), stride=(1, 1), padding=(1, 1), bias=False)\n",
      "      )\n",
      "      (denselayer8): _DenseLayer(\n",
      "        (norm1): BatchNorm2d(736, eps=1e-05, momentum=0.1, affine=True, track_running_stats=True)\n",
      "        (relu1): ReLU(inplace=True)\n",
      "        (conv1): Conv2d(736, 128, kernel_size=(1, 1), stride=(1, 1), bias=False)\n",
      "        (norm2): BatchNorm2d(128, eps=1e-05, momentum=0.1, affine=True, track_running_stats=True)\n",
      "        (relu2): ReLU(inplace=True)\n",
      "        (conv2): Conv2d(128, 32, kernel_size=(3, 3), stride=(1, 1), padding=(1, 1), bias=False)\n",
      "      )\n",
      "      (denselayer9): _DenseLayer(\n",
      "        (norm1): BatchNorm2d(768, eps=1e-05, momentum=0.1, affine=True, track_running_stats=True)\n",
      "        (relu1): ReLU(inplace=True)\n",
      "        (conv1): Conv2d(768, 128, kernel_size=(1, 1), stride=(1, 1), bias=False)\n",
      "        (norm2): BatchNorm2d(128, eps=1e-05, momentum=0.1, affine=True, track_running_stats=True)\n",
      "        (relu2): ReLU(inplace=True)\n",
      "        (conv2): Conv2d(128, 32, kernel_size=(3, 3), stride=(1, 1), padding=(1, 1), bias=False)\n",
      "      )\n",
      "      (denselayer10): _DenseLayer(\n",
      "        (norm1): BatchNorm2d(800, eps=1e-05, momentum=0.1, affine=True, track_running_stats=True)\n",
      "        (relu1): ReLU(inplace=True)\n",
      "        (conv1): Conv2d(800, 128, kernel_size=(1, 1), stride=(1, 1), bias=False)\n",
      "        (norm2): BatchNorm2d(128, eps=1e-05, momentum=0.1, affine=True, track_running_stats=True)\n",
      "        (relu2): ReLU(inplace=True)\n",
      "        (conv2): Conv2d(128, 32, kernel_size=(3, 3), stride=(1, 1), padding=(1, 1), bias=False)\n",
      "      )\n",
      "      (denselayer11): _DenseLayer(\n",
      "        (norm1): BatchNorm2d(832, eps=1e-05, momentum=0.1, affine=True, track_running_stats=True)\n",
      "        (relu1): ReLU(inplace=True)\n",
      "        (conv1): Conv2d(832, 128, kernel_size=(1, 1), stride=(1, 1), bias=False)\n",
      "        (norm2): BatchNorm2d(128, eps=1e-05, momentum=0.1, affine=True, track_running_stats=True)\n",
      "        (relu2): ReLU(inplace=True)\n",
      "        (conv2): Conv2d(128, 32, kernel_size=(3, 3), stride=(1, 1), padding=(1, 1), bias=False)\n",
      "      )\n",
      "      (denselayer12): _DenseLayer(\n",
      "        (norm1): BatchNorm2d(864, eps=1e-05, momentum=0.1, affine=True, track_running_stats=True)\n",
      "        (relu1): ReLU(inplace=True)\n",
      "        (conv1): Conv2d(864, 128, kernel_size=(1, 1), stride=(1, 1), bias=False)\n",
      "        (norm2): BatchNorm2d(128, eps=1e-05, momentum=0.1, affine=True, track_running_stats=True)\n",
      "        (relu2): ReLU(inplace=True)\n",
      "        (conv2): Conv2d(128, 32, kernel_size=(3, 3), stride=(1, 1), padding=(1, 1), bias=False)\n",
      "      )\n",
      "      (denselayer13): _DenseLayer(\n",
      "        (norm1): BatchNorm2d(896, eps=1e-05, momentum=0.1, affine=True, track_running_stats=True)\n",
      "        (relu1): ReLU(inplace=True)\n",
      "        (conv1): Conv2d(896, 128, kernel_size=(1, 1), stride=(1, 1), bias=False)\n",
      "        (norm2): BatchNorm2d(128, eps=1e-05, momentum=0.1, affine=True, track_running_stats=True)\n",
      "        (relu2): ReLU(inplace=True)\n",
      "        (conv2): Conv2d(128, 32, kernel_size=(3, 3), stride=(1, 1), padding=(1, 1), bias=False)\n",
      "      )\n",
      "      (denselayer14): _DenseLayer(\n",
      "        (norm1): BatchNorm2d(928, eps=1e-05, momentum=0.1, affine=True, track_running_stats=True)\n",
      "        (relu1): ReLU(inplace=True)\n",
      "        (conv1): Conv2d(928, 128, kernel_size=(1, 1), stride=(1, 1), bias=False)\n",
      "        (norm2): BatchNorm2d(128, eps=1e-05, momentum=0.1, affine=True, track_running_stats=True)\n",
      "        (relu2): ReLU(inplace=True)\n",
      "        (conv2): Conv2d(128, 32, kernel_size=(3, 3), stride=(1, 1), padding=(1, 1), bias=False)\n",
      "      )\n",
      "      (denselayer15): _DenseLayer(\n",
      "        (norm1): BatchNorm2d(960, eps=1e-05, momentum=0.1, affine=True, track_running_stats=True)\n",
      "        (relu1): ReLU(inplace=True)\n",
      "        (conv1): Conv2d(960, 128, kernel_size=(1, 1), stride=(1, 1), bias=False)\n",
      "        (norm2): BatchNorm2d(128, eps=1e-05, momentum=0.1, affine=True, track_running_stats=True)\n",
      "        (relu2): ReLU(inplace=True)\n",
      "        (conv2): Conv2d(128, 32, kernel_size=(3, 3), stride=(1, 1), padding=(1, 1), bias=False)\n",
      "      )\n",
      "      (denselayer16): _DenseLayer(\n",
      "        (norm1): BatchNorm2d(992, eps=1e-05, momentum=0.1, affine=True, track_running_stats=True)\n",
      "        (relu1): ReLU(inplace=True)\n",
      "        (conv1): Conv2d(992, 128, kernel_size=(1, 1), stride=(1, 1), bias=False)\n",
      "        (norm2): BatchNorm2d(128, eps=1e-05, momentum=0.1, affine=True, track_running_stats=True)\n",
      "        (relu2): ReLU(inplace=True)\n",
      "        (conv2): Conv2d(128, 32, kernel_size=(3, 3), stride=(1, 1), padding=(1, 1), bias=False)\n",
      "      )\n",
      "    )\n",
      "    (norm5): BatchNorm2d(1024, eps=1e-05, momentum=0.1, affine=True, track_running_stats=True)\n",
      "  )\n",
      ")\n"
     ]
    },
    {
     "name": "stderr",
     "output_type": "stream",
     "text": [
      "  0%|          | 0/3119 [00:00<?, ?it/s]\n"
     ]
    },
    {
     "ename": "RuntimeError",
     "evalue": "Given groups=1, weight of size [64, 3, 7, 7], expected input[32, 1024, 3, 3] to have 3 channels, but got 1024 channels instead",
     "output_type": "error",
     "traceback": [
      "\u001B[0;31m---------------------------------------------------------------------------\u001B[0m",
      "\u001B[0;31mRuntimeError\u001B[0m                              Traceback (most recent call last)",
      "Input \u001B[0;32mIn [105]\u001B[0m, in \u001B[0;36m<module>\u001B[0;34m\u001B[0m\n\u001B[0;32m----> 1\u001B[0m mean_embeds \u001B[38;5;241m=\u001B[39m \u001B[43mget_class_mean_embeddings\u001B[49m\u001B[43m(\u001B[49m\u001B[43mdensenet121_pretrained\u001B[49m\u001B[43m,\u001B[49m\u001B[43m \u001B[49m\u001B[43mtrain_loader\u001B[49m\u001B[43m)\u001B[49m\n\u001B[1;32m      2\u001B[0m \u001B[38;5;28mprint\u001B[39m(mean_embeds)\n",
      "Input \u001B[0;32mIn [86]\u001B[0m, in \u001B[0;36mget_class_mean_embeddings\u001B[0;34m(model, train_loader, nr_layers)\u001B[0m\n\u001B[1;32m     18\u001B[0m labels \u001B[38;5;241m=\u001B[39m labels\u001B[38;5;241m.\u001B[39mnumpy()\n\u001B[1;32m     20\u001B[0m \u001B[38;5;66;03m# Extract features\u001B[39;00m\n\u001B[0;32m---> 21\u001B[0m features \u001B[38;5;241m=\u001B[39m torch\u001B[38;5;241m.\u001B[39mflatten(\u001B[43mmodel\u001B[49m\u001B[43m(\u001B[49m\u001B[43minputs\u001B[49m\u001B[43m)\u001B[49m, start_dim\u001B[38;5;241m=\u001B[39m\u001B[38;5;241m1\u001B[39m)\n\u001B[1;32m     22\u001B[0m features \u001B[38;5;241m=\u001B[39m features\u001B[38;5;241m.\u001B[39mcpu()\u001B[38;5;241m.\u001B[39mnumpy()\n\u001B[1;32m     24\u001B[0m \u001B[38;5;28;01mfor\u001B[39;00m idx \u001B[38;5;129;01min\u001B[39;00m \u001B[38;5;28mrange\u001B[39m(\u001B[38;5;28mlen\u001B[39m(labels)):\n",
      "File \u001B[0;32m~/.pyenv/versions/nexgen/lib/python3.9/site-packages/torch/nn/modules/module.py:1102\u001B[0m, in \u001B[0;36mModule._call_impl\u001B[0;34m(self, *input, **kwargs)\u001B[0m\n\u001B[1;32m   1098\u001B[0m \u001B[38;5;66;03m# If we don't have any hooks, we want to skip the rest of the logic in\u001B[39;00m\n\u001B[1;32m   1099\u001B[0m \u001B[38;5;66;03m# this function, and just call forward.\u001B[39;00m\n\u001B[1;32m   1100\u001B[0m \u001B[38;5;28;01mif\u001B[39;00m \u001B[38;5;129;01mnot\u001B[39;00m (\u001B[38;5;28mself\u001B[39m\u001B[38;5;241m.\u001B[39m_backward_hooks \u001B[38;5;129;01mor\u001B[39;00m \u001B[38;5;28mself\u001B[39m\u001B[38;5;241m.\u001B[39m_forward_hooks \u001B[38;5;129;01mor\u001B[39;00m \u001B[38;5;28mself\u001B[39m\u001B[38;5;241m.\u001B[39m_forward_pre_hooks \u001B[38;5;129;01mor\u001B[39;00m _global_backward_hooks\n\u001B[1;32m   1101\u001B[0m         \u001B[38;5;129;01mor\u001B[39;00m _global_forward_hooks \u001B[38;5;129;01mor\u001B[39;00m _global_forward_pre_hooks):\n\u001B[0;32m-> 1102\u001B[0m     \u001B[38;5;28;01mreturn\u001B[39;00m \u001B[43mforward_call\u001B[49m\u001B[43m(\u001B[49m\u001B[38;5;241;43m*\u001B[39;49m\u001B[38;5;28;43minput\u001B[39;49m\u001B[43m,\u001B[49m\u001B[43m \u001B[49m\u001B[38;5;241;43m*\u001B[39;49m\u001B[38;5;241;43m*\u001B[39;49m\u001B[43mkwargs\u001B[49m\u001B[43m)\u001B[49m\n\u001B[1;32m   1103\u001B[0m \u001B[38;5;66;03m# Do not call functions when jit is used\u001B[39;00m\n\u001B[1;32m   1104\u001B[0m full_backward_hooks, non_full_backward_hooks \u001B[38;5;241m=\u001B[39m [], []\n",
      "File \u001B[0;32m~/.pyenv/versions/nexgen/lib/python3.9/site-packages/torch/nn/modules/container.py:141\u001B[0m, in \u001B[0;36mSequential.forward\u001B[0;34m(self, input)\u001B[0m\n\u001B[1;32m    139\u001B[0m \u001B[38;5;28;01mdef\u001B[39;00m \u001B[38;5;21mforward\u001B[39m(\u001B[38;5;28mself\u001B[39m, \u001B[38;5;28minput\u001B[39m):\n\u001B[1;32m    140\u001B[0m     \u001B[38;5;28;01mfor\u001B[39;00m module \u001B[38;5;129;01min\u001B[39;00m \u001B[38;5;28mself\u001B[39m:\n\u001B[0;32m--> 141\u001B[0m         \u001B[38;5;28minput\u001B[39m \u001B[38;5;241m=\u001B[39m \u001B[43mmodule\u001B[49m\u001B[43m(\u001B[49m\u001B[38;5;28;43minput\u001B[39;49m\u001B[43m)\u001B[49m\n\u001B[1;32m    142\u001B[0m     \u001B[38;5;28;01mreturn\u001B[39;00m \u001B[38;5;28minput\u001B[39m\n",
      "File \u001B[0;32m~/.pyenv/versions/nexgen/lib/python3.9/site-packages/torch/nn/modules/module.py:1102\u001B[0m, in \u001B[0;36mModule._call_impl\u001B[0;34m(self, *input, **kwargs)\u001B[0m\n\u001B[1;32m   1098\u001B[0m \u001B[38;5;66;03m# If we don't have any hooks, we want to skip the rest of the logic in\u001B[39;00m\n\u001B[1;32m   1099\u001B[0m \u001B[38;5;66;03m# this function, and just call forward.\u001B[39;00m\n\u001B[1;32m   1100\u001B[0m \u001B[38;5;28;01mif\u001B[39;00m \u001B[38;5;129;01mnot\u001B[39;00m (\u001B[38;5;28mself\u001B[39m\u001B[38;5;241m.\u001B[39m_backward_hooks \u001B[38;5;129;01mor\u001B[39;00m \u001B[38;5;28mself\u001B[39m\u001B[38;5;241m.\u001B[39m_forward_hooks \u001B[38;5;129;01mor\u001B[39;00m \u001B[38;5;28mself\u001B[39m\u001B[38;5;241m.\u001B[39m_forward_pre_hooks \u001B[38;5;129;01mor\u001B[39;00m _global_backward_hooks\n\u001B[1;32m   1101\u001B[0m         \u001B[38;5;129;01mor\u001B[39;00m _global_forward_hooks \u001B[38;5;129;01mor\u001B[39;00m _global_forward_pre_hooks):\n\u001B[0;32m-> 1102\u001B[0m     \u001B[38;5;28;01mreturn\u001B[39;00m \u001B[43mforward_call\u001B[49m\u001B[43m(\u001B[49m\u001B[38;5;241;43m*\u001B[39;49m\u001B[38;5;28;43minput\u001B[39;49m\u001B[43m,\u001B[49m\u001B[43m \u001B[49m\u001B[38;5;241;43m*\u001B[39;49m\u001B[38;5;241;43m*\u001B[39;49m\u001B[43mkwargs\u001B[49m\u001B[43m)\u001B[49m\n\u001B[1;32m   1103\u001B[0m \u001B[38;5;66;03m# Do not call functions when jit is used\u001B[39;00m\n\u001B[1;32m   1104\u001B[0m full_backward_hooks, non_full_backward_hooks \u001B[38;5;241m=\u001B[39m [], []\n",
      "File \u001B[0;32m~/.pyenv/versions/nexgen/lib/python3.9/site-packages/torch/nn/modules/container.py:141\u001B[0m, in \u001B[0;36mSequential.forward\u001B[0;34m(self, input)\u001B[0m\n\u001B[1;32m    139\u001B[0m \u001B[38;5;28;01mdef\u001B[39;00m \u001B[38;5;21mforward\u001B[39m(\u001B[38;5;28mself\u001B[39m, \u001B[38;5;28minput\u001B[39m):\n\u001B[1;32m    140\u001B[0m     \u001B[38;5;28;01mfor\u001B[39;00m module \u001B[38;5;129;01min\u001B[39;00m \u001B[38;5;28mself\u001B[39m:\n\u001B[0;32m--> 141\u001B[0m         \u001B[38;5;28minput\u001B[39m \u001B[38;5;241m=\u001B[39m \u001B[43mmodule\u001B[49m\u001B[43m(\u001B[49m\u001B[38;5;28;43minput\u001B[39;49m\u001B[43m)\u001B[49m\n\u001B[1;32m    142\u001B[0m     \u001B[38;5;28;01mreturn\u001B[39;00m \u001B[38;5;28minput\u001B[39m\n",
      "File \u001B[0;32m~/.pyenv/versions/nexgen/lib/python3.9/site-packages/torch/nn/modules/module.py:1102\u001B[0m, in \u001B[0;36mModule._call_impl\u001B[0;34m(self, *input, **kwargs)\u001B[0m\n\u001B[1;32m   1098\u001B[0m \u001B[38;5;66;03m# If we don't have any hooks, we want to skip the rest of the logic in\u001B[39;00m\n\u001B[1;32m   1099\u001B[0m \u001B[38;5;66;03m# this function, and just call forward.\u001B[39;00m\n\u001B[1;32m   1100\u001B[0m \u001B[38;5;28;01mif\u001B[39;00m \u001B[38;5;129;01mnot\u001B[39;00m (\u001B[38;5;28mself\u001B[39m\u001B[38;5;241m.\u001B[39m_backward_hooks \u001B[38;5;129;01mor\u001B[39;00m \u001B[38;5;28mself\u001B[39m\u001B[38;5;241m.\u001B[39m_forward_hooks \u001B[38;5;129;01mor\u001B[39;00m \u001B[38;5;28mself\u001B[39m\u001B[38;5;241m.\u001B[39m_forward_pre_hooks \u001B[38;5;129;01mor\u001B[39;00m _global_backward_hooks\n\u001B[1;32m   1101\u001B[0m         \u001B[38;5;129;01mor\u001B[39;00m _global_forward_hooks \u001B[38;5;129;01mor\u001B[39;00m _global_forward_pre_hooks):\n\u001B[0;32m-> 1102\u001B[0m     \u001B[38;5;28;01mreturn\u001B[39;00m \u001B[43mforward_call\u001B[49m\u001B[43m(\u001B[49m\u001B[38;5;241;43m*\u001B[39;49m\u001B[38;5;28;43minput\u001B[39;49m\u001B[43m,\u001B[49m\u001B[43m \u001B[49m\u001B[38;5;241;43m*\u001B[39;49m\u001B[38;5;241;43m*\u001B[39;49m\u001B[43mkwargs\u001B[49m\u001B[43m)\u001B[49m\n\u001B[1;32m   1103\u001B[0m \u001B[38;5;66;03m# Do not call functions when jit is used\u001B[39;00m\n\u001B[1;32m   1104\u001B[0m full_backward_hooks, non_full_backward_hooks \u001B[38;5;241m=\u001B[39m [], []\n",
      "File \u001B[0;32m~/.pyenv/versions/nexgen/lib/python3.9/site-packages/torch/nn/modules/conv.py:446\u001B[0m, in \u001B[0;36mConv2d.forward\u001B[0;34m(self, input)\u001B[0m\n\u001B[1;32m    445\u001B[0m \u001B[38;5;28;01mdef\u001B[39;00m \u001B[38;5;21mforward\u001B[39m(\u001B[38;5;28mself\u001B[39m, \u001B[38;5;28minput\u001B[39m: Tensor) \u001B[38;5;241m-\u001B[39m\u001B[38;5;241m>\u001B[39m Tensor:\n\u001B[0;32m--> 446\u001B[0m     \u001B[38;5;28;01mreturn\u001B[39;00m \u001B[38;5;28;43mself\u001B[39;49m\u001B[38;5;241;43m.\u001B[39;49m\u001B[43m_conv_forward\u001B[49m\u001B[43m(\u001B[49m\u001B[38;5;28;43minput\u001B[39;49m\u001B[43m,\u001B[49m\u001B[43m \u001B[49m\u001B[38;5;28;43mself\u001B[39;49m\u001B[38;5;241;43m.\u001B[39;49m\u001B[43mweight\u001B[49m\u001B[43m,\u001B[49m\u001B[43m \u001B[49m\u001B[38;5;28;43mself\u001B[39;49m\u001B[38;5;241;43m.\u001B[39;49m\u001B[43mbias\u001B[49m\u001B[43m)\u001B[49m\n",
      "File \u001B[0;32m~/.pyenv/versions/nexgen/lib/python3.9/site-packages/torch/nn/modules/conv.py:442\u001B[0m, in \u001B[0;36mConv2d._conv_forward\u001B[0;34m(self, input, weight, bias)\u001B[0m\n\u001B[1;32m    438\u001B[0m \u001B[38;5;28;01mif\u001B[39;00m \u001B[38;5;28mself\u001B[39m\u001B[38;5;241m.\u001B[39mpadding_mode \u001B[38;5;241m!=\u001B[39m \u001B[38;5;124m'\u001B[39m\u001B[38;5;124mzeros\u001B[39m\u001B[38;5;124m'\u001B[39m:\n\u001B[1;32m    439\u001B[0m     \u001B[38;5;28;01mreturn\u001B[39;00m F\u001B[38;5;241m.\u001B[39mconv2d(F\u001B[38;5;241m.\u001B[39mpad(\u001B[38;5;28minput\u001B[39m, \u001B[38;5;28mself\u001B[39m\u001B[38;5;241m.\u001B[39m_reversed_padding_repeated_twice, mode\u001B[38;5;241m=\u001B[39m\u001B[38;5;28mself\u001B[39m\u001B[38;5;241m.\u001B[39mpadding_mode),\n\u001B[1;32m    440\u001B[0m                     weight, bias, \u001B[38;5;28mself\u001B[39m\u001B[38;5;241m.\u001B[39mstride,\n\u001B[1;32m    441\u001B[0m                     _pair(\u001B[38;5;241m0\u001B[39m), \u001B[38;5;28mself\u001B[39m\u001B[38;5;241m.\u001B[39mdilation, \u001B[38;5;28mself\u001B[39m\u001B[38;5;241m.\u001B[39mgroups)\n\u001B[0;32m--> 442\u001B[0m \u001B[38;5;28;01mreturn\u001B[39;00m \u001B[43mF\u001B[49m\u001B[38;5;241;43m.\u001B[39;49m\u001B[43mconv2d\u001B[49m\u001B[43m(\u001B[49m\u001B[38;5;28;43minput\u001B[39;49m\u001B[43m,\u001B[49m\u001B[43m \u001B[49m\u001B[43mweight\u001B[49m\u001B[43m,\u001B[49m\u001B[43m \u001B[49m\u001B[43mbias\u001B[49m\u001B[43m,\u001B[49m\u001B[43m \u001B[49m\u001B[38;5;28;43mself\u001B[39;49m\u001B[38;5;241;43m.\u001B[39;49m\u001B[43mstride\u001B[49m\u001B[43m,\u001B[49m\n\u001B[1;32m    443\u001B[0m \u001B[43m                \u001B[49m\u001B[38;5;28;43mself\u001B[39;49m\u001B[38;5;241;43m.\u001B[39;49m\u001B[43mpadding\u001B[49m\u001B[43m,\u001B[49m\u001B[43m \u001B[49m\u001B[38;5;28;43mself\u001B[39;49m\u001B[38;5;241;43m.\u001B[39;49m\u001B[43mdilation\u001B[49m\u001B[43m,\u001B[49m\u001B[43m \u001B[49m\u001B[38;5;28;43mself\u001B[39;49m\u001B[38;5;241;43m.\u001B[39;49m\u001B[43mgroups\u001B[49m\u001B[43m)\u001B[49m\n",
      "\u001B[0;31mRuntimeError\u001B[0m: Given groups=1, weight of size [64, 3, 7, 7], expected input[32, 1024, 3, 3] to have 3 channels, but got 1024 channels instead"
     ]
    }
   ],
   "source": [
    "mean_embeds = get_class_mean_embeddings(densenet121_pretrained, train_loader)\n",
    "print(mean_embeds)"
   ],
   "metadata": {
    "collapsed": false,
    "pycharm": {
     "name": "#%%\n"
    }
   }
  },
  {
   "cell_type": "code",
   "execution_count": null,
   "outputs": [],
   "source": [],
   "metadata": {
    "collapsed": false,
    "pycharm": {
     "name": "#%%\n"
    }
   }
  }
 ],
 "metadata": {
  "kernelspec": {
   "display_name": "Python 3",
   "language": "python",
   "name": "python3"
  },
  "language_info": {
   "codemirror_mode": {
    "name": "ipython",
    "version": 2
   },
   "file_extension": ".py",
   "mimetype": "text/x-python",
   "name": "python",
   "nbconvert_exporter": "python",
   "pygments_lexer": "ipython2",
   "version": "2.7.6"
  },
  "colab": {
   "name": "generalization_task_camelyon.ipynb",
   "provenance": [],
   "collapsed_sections": []
  },
  "accelerator": "GPU",
  "widgets": {
   "application/vnd.jupyter.widget-state+json": {
    "c3e0847a20454dbbacc5453545c51962": {
     "model_module": "@jupyter-widgets/controls",
     "model_name": "HBoxModel",
     "model_module_version": "1.5.0",
     "state": {
      "_dom_classes": [],
      "_model_module": "@jupyter-widgets/controls",
      "_model_module_version": "1.5.0",
      "_model_name": "HBoxModel",
      "_view_count": null,
      "_view_module": "@jupyter-widgets/controls",
      "_view_module_version": "1.5.0",
      "_view_name": "HBoxView",
      "box_style": "",
      "children": [
       "IPY_MODEL_eb039b20100e4ef29207d8424aebf94a",
       "IPY_MODEL_2ed05db58824409d942251bb07104eed",
       "IPY_MODEL_eb34afade1de4874a4c748c9cf350335"
      ],
      "layout": "IPY_MODEL_cdf1fd0430bb4bc6a6c817e16dae1414"
     }
    },
    "eb039b20100e4ef29207d8424aebf94a": {
     "model_module": "@jupyter-widgets/controls",
     "model_name": "HTMLModel",
     "model_module_version": "1.5.0",
     "state": {
      "_dom_classes": [],
      "_model_module": "@jupyter-widgets/controls",
      "_model_module_version": "1.5.0",
      "_model_name": "HTMLModel",
      "_view_count": null,
      "_view_module": "@jupyter-widgets/controls",
      "_view_module_version": "1.5.0",
      "_view_name": "HTMLView",
      "description": "",
      "description_tooltip": null,
      "layout": "IPY_MODEL_80767a4548ea438dbaa21c1553587d3a",
      "placeholder": "​",
      "style": "IPY_MODEL_8cfdc4b444704d2e87f577af8a60fa2b",
      "value": "100%"
     }
    },
    "2ed05db58824409d942251bb07104eed": {
     "model_module": "@jupyter-widgets/controls",
     "model_name": "FloatProgressModel",
     "model_module_version": "1.5.0",
     "state": {
      "_dom_classes": [],
      "_model_module": "@jupyter-widgets/controls",
      "_model_module_version": "1.5.0",
      "_model_name": "FloatProgressModel",
      "_view_count": null,
      "_view_module": "@jupyter-widgets/controls",
      "_view_module_version": "1.5.0",
      "_view_name": "ProgressView",
      "bar_style": "success",
      "description": "",
      "description_tooltip": null,
      "layout": "IPY_MODEL_cb5f2d83a39545c3ae2fb4eb6b7a8472",
      "max": 32342954,
      "min": 0,
      "orientation": "horizontal",
      "style": "IPY_MODEL_cfd71611327549ff9d90642a72615b71",
      "value": 32342954
     }
    },
    "eb34afade1de4874a4c748c9cf350335": {
     "model_module": "@jupyter-widgets/controls",
     "model_name": "HTMLModel",
     "model_module_version": "1.5.0",
     "state": {
      "_dom_classes": [],
      "_model_module": "@jupyter-widgets/controls",
      "_model_module_version": "1.5.0",
      "_model_name": "HTMLModel",
      "_view_count": null,
      "_view_module": "@jupyter-widgets/controls",
      "_view_module_version": "1.5.0",
      "_view_name": "HTMLView",
      "description": "",
      "description_tooltip": null,
      "layout": "IPY_MODEL_36c0d5fdddab47d1a7000d997228b477",
      "placeholder": "​",
      "style": "IPY_MODEL_8df7a5b9efb4440591bdcd961a081eb6",
      "value": " 30.8M/30.8M [00:01&lt;00:00, 35.3MB/s]"
     }
    },
    "cdf1fd0430bb4bc6a6c817e16dae1414": {
     "model_module": "@jupyter-widgets/base",
     "model_name": "LayoutModel",
     "model_module_version": "1.2.0",
     "state": {
      "_model_module": "@jupyter-widgets/base",
      "_model_module_version": "1.2.0",
      "_model_name": "LayoutModel",
      "_view_count": null,
      "_view_module": "@jupyter-widgets/base",
      "_view_module_version": "1.2.0",
      "_view_name": "LayoutView",
      "align_content": null,
      "align_items": null,
      "align_self": null,
      "border": null,
      "bottom": null,
      "display": null,
      "flex": null,
      "flex_flow": null,
      "grid_area": null,
      "grid_auto_columns": null,
      "grid_auto_flow": null,
      "grid_auto_rows": null,
      "grid_column": null,
      "grid_gap": null,
      "grid_row": null,
      "grid_template_areas": null,
      "grid_template_columns": null,
      "grid_template_rows": null,
      "height": null,
      "justify_content": null,
      "justify_items": null,
      "left": null,
      "margin": null,
      "max_height": null,
      "max_width": null,
      "min_height": null,
      "min_width": null,
      "object_fit": null,
      "object_position": null,
      "order": null,
      "overflow": null,
      "overflow_x": null,
      "overflow_y": null,
      "padding": null,
      "right": null,
      "top": null,
      "visibility": null,
      "width": null
     }
    },
    "80767a4548ea438dbaa21c1553587d3a": {
     "model_module": "@jupyter-widgets/base",
     "model_name": "LayoutModel",
     "model_module_version": "1.2.0",
     "state": {
      "_model_module": "@jupyter-widgets/base",
      "_model_module_version": "1.2.0",
      "_model_name": "LayoutModel",
      "_view_count": null,
      "_view_module": "@jupyter-widgets/base",
      "_view_module_version": "1.2.0",
      "_view_name": "LayoutView",
      "align_content": null,
      "align_items": null,
      "align_self": null,
      "border": null,
      "bottom": null,
      "display": null,
      "flex": null,
      "flex_flow": null,
      "grid_area": null,
      "grid_auto_columns": null,
      "grid_auto_flow": null,
      "grid_auto_rows": null,
      "grid_column": null,
      "grid_gap": null,
      "grid_row": null,
      "grid_template_areas": null,
      "grid_template_columns": null,
      "grid_template_rows": null,
      "height": null,
      "justify_content": null,
      "justify_items": null,
      "left": null,
      "margin": null,
      "max_height": null,
      "max_width": null,
      "min_height": null,
      "min_width": null,
      "object_fit": null,
      "object_position": null,
      "order": null,
      "overflow": null,
      "overflow_x": null,
      "overflow_y": null,
      "padding": null,
      "right": null,
      "top": null,
      "visibility": null,
      "width": null
     }
    },
    "8cfdc4b444704d2e87f577af8a60fa2b": {
     "model_module": "@jupyter-widgets/controls",
     "model_name": "DescriptionStyleModel",
     "model_module_version": "1.5.0",
     "state": {
      "_model_module": "@jupyter-widgets/controls",
      "_model_module_version": "1.5.0",
      "_model_name": "DescriptionStyleModel",
      "_view_count": null,
      "_view_module": "@jupyter-widgets/base",
      "_view_module_version": "1.2.0",
      "_view_name": "StyleView",
      "description_width": ""
     }
    },
    "cb5f2d83a39545c3ae2fb4eb6b7a8472": {
     "model_module": "@jupyter-widgets/base",
     "model_name": "LayoutModel",
     "model_module_version": "1.2.0",
     "state": {
      "_model_module": "@jupyter-widgets/base",
      "_model_module_version": "1.2.0",
      "_model_name": "LayoutModel",
      "_view_count": null,
      "_view_module": "@jupyter-widgets/base",
      "_view_module_version": "1.2.0",
      "_view_name": "LayoutView",
      "align_content": null,
      "align_items": null,
      "align_self": null,
      "border": null,
      "bottom": null,
      "display": null,
      "flex": null,
      "flex_flow": null,
      "grid_area": null,
      "grid_auto_columns": null,
      "grid_auto_flow": null,
      "grid_auto_rows": null,
      "grid_column": null,
      "grid_gap": null,
      "grid_row": null,
      "grid_template_areas": null,
      "grid_template_columns": null,
      "grid_template_rows": null,
      "height": null,
      "justify_content": null,
      "justify_items": null,
      "left": null,
      "margin": null,
      "max_height": null,
      "max_width": null,
      "min_height": null,
      "min_width": null,
      "object_fit": null,
      "object_position": null,
      "order": null,
      "overflow": null,
      "overflow_x": null,
      "overflow_y": null,
      "padding": null,
      "right": null,
      "top": null,
      "visibility": null,
      "width": null
     }
    },
    "cfd71611327549ff9d90642a72615b71": {
     "model_module": "@jupyter-widgets/controls",
     "model_name": "ProgressStyleModel",
     "model_module_version": "1.5.0",
     "state": {
      "_model_module": "@jupyter-widgets/controls",
      "_model_module_version": "1.5.0",
      "_model_name": "ProgressStyleModel",
      "_view_count": null,
      "_view_module": "@jupyter-widgets/base",
      "_view_module_version": "1.2.0",
      "_view_name": "StyleView",
      "bar_color": null,
      "description_width": ""
     }
    },
    "36c0d5fdddab47d1a7000d997228b477": {
     "model_module": "@jupyter-widgets/base",
     "model_name": "LayoutModel",
     "model_module_version": "1.2.0",
     "state": {
      "_model_module": "@jupyter-widgets/base",
      "_model_module_version": "1.2.0",
      "_model_name": "LayoutModel",
      "_view_count": null,
      "_view_module": "@jupyter-widgets/base",
      "_view_module_version": "1.2.0",
      "_view_name": "LayoutView",
      "align_content": null,
      "align_items": null,
      "align_self": null,
      "border": null,
      "bottom": null,
      "display": null,
      "flex": null,
      "flex_flow": null,
      "grid_area": null,
      "grid_auto_columns": null,
      "grid_auto_flow": null,
      "grid_auto_rows": null,
      "grid_column": null,
      "grid_gap": null,
      "grid_row": null,
      "grid_template_areas": null,
      "grid_template_columns": null,
      "grid_template_rows": null,
      "height": null,
      "justify_content": null,
      "justify_items": null,
      "left": null,
      "margin": null,
      "max_height": null,
      "max_width": null,
      "min_height": null,
      "min_width": null,
      "object_fit": null,
      "object_position": null,
      "order": null,
      "overflow": null,
      "overflow_x": null,
      "overflow_y": null,
      "padding": null,
      "right": null,
      "top": null,
      "visibility": null,
      "width": null
     }
    },
    "8df7a5b9efb4440591bdcd961a081eb6": {
     "model_module": "@jupyter-widgets/controls",
     "model_name": "DescriptionStyleModel",
     "model_module_version": "1.5.0",
     "state": {
      "_model_module": "@jupyter-widgets/controls",
      "_model_module_version": "1.5.0",
      "_model_name": "DescriptionStyleModel",
      "_view_count": null,
      "_view_module": "@jupyter-widgets/base",
      "_view_module_version": "1.2.0",
      "_view_name": "StyleView",
      "description_width": ""
     }
    },
    "de74266d3a9448ef92346f7356e686d5": {
     "model_module": "@jupyter-widgets/controls",
     "model_name": "HBoxModel",
     "model_module_version": "1.5.0",
     "state": {
      "_dom_classes": [],
      "_model_module": "@jupyter-widgets/controls",
      "_model_module_version": "1.5.0",
      "_model_name": "HBoxModel",
      "_view_count": null,
      "_view_module": "@jupyter-widgets/controls",
      "_view_module_version": "1.5.0",
      "_view_name": "HBoxView",
      "box_style": "",
      "children": [
       "IPY_MODEL_5bd0c847f5404d1397b3a93a2eb1f239",
       "IPY_MODEL_f1f55693bbfa41caa088acdc7e65a526",
       "IPY_MODEL_732ce57f84c64aada0149836c44cdf7d"
      ],
      "layout": "IPY_MODEL_e8eea1a7d6014cb0aefc5558029a86aa"
     }
    },
    "5bd0c847f5404d1397b3a93a2eb1f239": {
     "model_module": "@jupyter-widgets/controls",
     "model_name": "HTMLModel",
     "model_module_version": "1.5.0",
     "state": {
      "_dom_classes": [],
      "_model_module": "@jupyter-widgets/controls",
      "_model_module_version": "1.5.0",
      "_model_name": "HTMLModel",
      "_view_count": null,
      "_view_module": "@jupyter-widgets/controls",
      "_view_module_version": "1.5.0",
      "_view_name": "HTMLView",
      "description": "",
      "description_tooltip": null,
      "layout": "IPY_MODEL_3b024a857fb84b8dbcab65c61ed23b3d",
      "placeholder": "​",
      "style": "IPY_MODEL_d7bc235338f34f06bdc0e7674d886c23",
      "value": "100%"
     }
    },
    "f1f55693bbfa41caa088acdc7e65a526": {
     "model_module": "@jupyter-widgets/controls",
     "model_name": "FloatProgressModel",
     "model_module_version": "1.5.0",
     "state": {
      "_dom_classes": [],
      "_model_module": "@jupyter-widgets/controls",
      "_model_module_version": "1.5.0",
      "_model_name": "FloatProgressModel",
      "_view_count": null,
      "_view_module": "@jupyter-widgets/controls",
      "_view_module_version": "1.5.0",
      "_view_name": "ProgressView",
      "bar_style": "success",
      "description": "",
      "description_tooltip": null,
      "layout": "IPY_MODEL_bc112e6096fb49fe91c69417f6f87454",
      "max": 100441675,
      "min": 0,
      "orientation": "horizontal",
      "style": "IPY_MODEL_66f12d129ec94068afb595716f70c2cf",
      "value": 100441675
     }
    },
    "732ce57f84c64aada0149836c44cdf7d": {
     "model_module": "@jupyter-widgets/controls",
     "model_name": "HTMLModel",
     "model_module_version": "1.5.0",
     "state": {
      "_dom_classes": [],
      "_model_module": "@jupyter-widgets/controls",
      "_model_module_version": "1.5.0",
      "_model_name": "HTMLModel",
      "_view_count": null,
      "_view_module": "@jupyter-widgets/controls",
      "_view_module_version": "1.5.0",
      "_view_name": "HTMLView",
      "description": "",
      "description_tooltip": null,
      "layout": "IPY_MODEL_4c9692ae12474ac3bce41d2a71c09150",
      "placeholder": "​",
      "style": "IPY_MODEL_578bf27afb384aaebf272d6eb51a294f",
      "value": " 95.8M/95.8M [00:01&lt;00:00, 112MB/s]"
     }
    },
    "e8eea1a7d6014cb0aefc5558029a86aa": {
     "model_module": "@jupyter-widgets/base",
     "model_name": "LayoutModel",
     "model_module_version": "1.2.0",
     "state": {
      "_model_module": "@jupyter-widgets/base",
      "_model_module_version": "1.2.0",
      "_model_name": "LayoutModel",
      "_view_count": null,
      "_view_module": "@jupyter-widgets/base",
      "_view_module_version": "1.2.0",
      "_view_name": "LayoutView",
      "align_content": null,
      "align_items": null,
      "align_self": null,
      "border": null,
      "bottom": null,
      "display": null,
      "flex": null,
      "flex_flow": null,
      "grid_area": null,
      "grid_auto_columns": null,
      "grid_auto_flow": null,
      "grid_auto_rows": null,
      "grid_column": null,
      "grid_gap": null,
      "grid_row": null,
      "grid_template_areas": null,
      "grid_template_columns": null,
      "grid_template_rows": null,
      "height": null,
      "justify_content": null,
      "justify_items": null,
      "left": null,
      "margin": null,
      "max_height": null,
      "max_width": null,
      "min_height": null,
      "min_width": null,
      "object_fit": null,
      "object_position": null,
      "order": null,
      "overflow": null,
      "overflow_x": null,
      "overflow_y": null,
      "padding": null,
      "right": null,
      "top": null,
      "visibility": null,
      "width": null
     }
    },
    "3b024a857fb84b8dbcab65c61ed23b3d": {
     "model_module": "@jupyter-widgets/base",
     "model_name": "LayoutModel",
     "model_module_version": "1.2.0",
     "state": {
      "_model_module": "@jupyter-widgets/base",
      "_model_module_version": "1.2.0",
      "_model_name": "LayoutModel",
      "_view_count": null,
      "_view_module": "@jupyter-widgets/base",
      "_view_module_version": "1.2.0",
      "_view_name": "LayoutView",
      "align_content": null,
      "align_items": null,
      "align_self": null,
      "border": null,
      "bottom": null,
      "display": null,
      "flex": null,
      "flex_flow": null,
      "grid_area": null,
      "grid_auto_columns": null,
      "grid_auto_flow": null,
      "grid_auto_rows": null,
      "grid_column": null,
      "grid_gap": null,
      "grid_row": null,
      "grid_template_areas": null,
      "grid_template_columns": null,
      "grid_template_rows": null,
      "height": null,
      "justify_content": null,
      "justify_items": null,
      "left": null,
      "margin": null,
      "max_height": null,
      "max_width": null,
      "min_height": null,
      "min_width": null,
      "object_fit": null,
      "object_position": null,
      "order": null,
      "overflow": null,
      "overflow_x": null,
      "overflow_y": null,
      "padding": null,
      "right": null,
      "top": null,
      "visibility": null,
      "width": null
     }
    },
    "d7bc235338f34f06bdc0e7674d886c23": {
     "model_module": "@jupyter-widgets/controls",
     "model_name": "DescriptionStyleModel",
     "model_module_version": "1.5.0",
     "state": {
      "_model_module": "@jupyter-widgets/controls",
      "_model_module_version": "1.5.0",
      "_model_name": "DescriptionStyleModel",
      "_view_count": null,
      "_view_module": "@jupyter-widgets/base",
      "_view_module_version": "1.2.0",
      "_view_name": "StyleView",
      "description_width": ""
     }
    },
    "bc112e6096fb49fe91c69417f6f87454": {
     "model_module": "@jupyter-widgets/base",
     "model_name": "LayoutModel",
     "model_module_version": "1.2.0",
     "state": {
      "_model_module": "@jupyter-widgets/base",
      "_model_module_version": "1.2.0",
      "_model_name": "LayoutModel",
      "_view_count": null,
      "_view_module": "@jupyter-widgets/base",
      "_view_module_version": "1.2.0",
      "_view_name": "LayoutView",
      "align_content": null,
      "align_items": null,
      "align_self": null,
      "border": null,
      "bottom": null,
      "display": null,
      "flex": null,
      "flex_flow": null,
      "grid_area": null,
      "grid_auto_columns": null,
      "grid_auto_flow": null,
      "grid_auto_rows": null,
      "grid_column": null,
      "grid_gap": null,
      "grid_row": null,
      "grid_template_areas": null,
      "grid_template_columns": null,
      "grid_template_rows": null,
      "height": null,
      "justify_content": null,
      "justify_items": null,
      "left": null,
      "margin": null,
      "max_height": null,
      "max_width": null,
      "min_height": null,
      "min_width": null,
      "object_fit": null,
      "object_position": null,
      "order": null,
      "overflow": null,
      "overflow_x": null,
      "overflow_y": null,
      "padding": null,
      "right": null,
      "top": null,
      "visibility": null,
      "width": null
     }
    },
    "66f12d129ec94068afb595716f70c2cf": {
     "model_module": "@jupyter-widgets/controls",
     "model_name": "ProgressStyleModel",
     "model_module_version": "1.5.0",
     "state": {
      "_model_module": "@jupyter-widgets/controls",
      "_model_module_version": "1.5.0",
      "_model_name": "ProgressStyleModel",
      "_view_count": null,
      "_view_module": "@jupyter-widgets/base",
      "_view_module_version": "1.2.0",
      "_view_name": "StyleView",
      "bar_color": null,
      "description_width": ""
     }
    },
    "4c9692ae12474ac3bce41d2a71c09150": {
     "model_module": "@jupyter-widgets/base",
     "model_name": "LayoutModel",
     "model_module_version": "1.2.0",
     "state": {
      "_model_module": "@jupyter-widgets/base",
      "_model_module_version": "1.2.0",
      "_model_name": "LayoutModel",
      "_view_count": null,
      "_view_module": "@jupyter-widgets/base",
      "_view_module_version": "1.2.0",
      "_view_name": "LayoutView",
      "align_content": null,
      "align_items": null,
      "align_self": null,
      "border": null,
      "bottom": null,
      "display": null,
      "flex": null,
      "flex_flow": null,
      "grid_area": null,
      "grid_auto_columns": null,
      "grid_auto_flow": null,
      "grid_auto_rows": null,
      "grid_column": null,
      "grid_gap": null,
      "grid_row": null,
      "grid_template_areas": null,
      "grid_template_columns": null,
      "grid_template_rows": null,
      "height": null,
      "justify_content": null,
      "justify_items": null,
      "left": null,
      "margin": null,
      "max_height": null,
      "max_width": null,
      "min_height": null,
      "min_width": null,
      "object_fit": null,
      "object_position": null,
      "order": null,
      "overflow": null,
      "overflow_x": null,
      "overflow_y": null,
      "padding": null,
      "right": null,
      "top": null,
      "visibility": null,
      "width": null
     }
    },
    "578bf27afb384aaebf272d6eb51a294f": {
     "model_module": "@jupyter-widgets/controls",
     "model_name": "DescriptionStyleModel",
     "model_module_version": "1.5.0",
     "state": {
      "_model_module": "@jupyter-widgets/controls",
      "_model_module_version": "1.5.0",
      "_model_name": "DescriptionStyleModel",
      "_view_count": null,
      "_view_module": "@jupyter-widgets/base",
      "_view_module_version": "1.2.0",
      "_view_name": "StyleView",
      "description_width": ""
     }
    },
    "7ddafa89c8b44ed38cd017d5b7baf4e8": {
     "model_module": "@jupyter-widgets/controls",
     "model_name": "HBoxModel",
     "model_module_version": "1.5.0",
     "state": {
      "_dom_classes": [],
      "_model_module": "@jupyter-widgets/controls",
      "_model_module_version": "1.5.0",
      "_model_name": "HBoxModel",
      "_view_count": null,
      "_view_module": "@jupyter-widgets/controls",
      "_view_module_version": "1.5.0",
      "_view_name": "HBoxView",
      "box_style": "",
      "children": [
       "IPY_MODEL_745a561a8fee4286b2d48b2479f44d03",
       "IPY_MODEL_08212a669b3a4b0cac0f3a779ed8c1c2",
       "IPY_MODEL_551ad53ab988476ba210f24040b1088f"
      ],
      "layout": "IPY_MODEL_b52f1e89fd1e4dbd82728c9bb2fc13bc"
     }
    },
    "745a561a8fee4286b2d48b2479f44d03": {
     "model_module": "@jupyter-widgets/controls",
     "model_name": "HTMLModel",
     "model_module_version": "1.5.0",
     "state": {
      "_dom_classes": [],
      "_model_module": "@jupyter-widgets/controls",
      "_model_module_version": "1.5.0",
      "_model_name": "HTMLModel",
      "_view_count": null,
      "_view_module": "@jupyter-widgets/controls",
      "_view_module_version": "1.5.0",
      "_view_name": "HTMLView",
      "description": "",
      "description_tooltip": null,
      "layout": "IPY_MODEL_79c545434c2e4e738b1bf7a8b262b804",
      "placeholder": "​",
      "style": "IPY_MODEL_8cb30849ca1b45718856f16963116e2c",
      "value": ""
     }
    },
    "08212a669b3a4b0cac0f3a779ed8c1c2": {
     "model_module": "@jupyter-widgets/controls",
     "model_name": "FloatProgressModel",
     "model_module_version": "1.5.0",
     "state": {
      "_dom_classes": [],
      "_model_module": "@jupyter-widgets/controls",
      "_model_module_version": "1.5.0",
      "_model_name": "FloatProgressModel",
      "_view_count": null,
      "_view_module": "@jupyter-widgets/controls",
      "_view_module_version": "1.5.0",
      "_view_name": "ProgressView",
      "bar_style": "success",
      "description": "",
      "description_tooltip": null,
      "layout": "IPY_MODEL_3a9725a08b524e37987a0a39c49e5dc4",
      "max": 10658709504,
      "min": 0,
      "orientation": "horizontal",
      "style": "IPY_MODEL_8c855250e4024e68a9efea8e984fe131",
      "value": 10658709504
     }
    },
    "551ad53ab988476ba210f24040b1088f": {
     "model_module": "@jupyter-widgets/controls",
     "model_name": "HTMLModel",
     "model_module_version": "1.5.0",
     "state": {
      "_dom_classes": [],
      "_model_module": "@jupyter-widgets/controls",
      "_model_module_version": "1.5.0",
      "_model_name": "HTMLModel",
      "_view_count": null,
      "_view_module": "@jupyter-widgets/controls",
      "_view_module_version": "1.5.0",
      "_view_name": "HTMLView",
      "description": "",
      "description_tooltip": null,
      "layout": "IPY_MODEL_796143736edb449b8f18433be720b2db",
      "placeholder": "​",
      "style": "IPY_MODEL_91fd989f80464dd389ed3f5d59e43de4",
      "value": " 10658897920/? [50:27&lt;00:00, 3806907.10Byte/s]"
     }
    },
    "b52f1e89fd1e4dbd82728c9bb2fc13bc": {
     "model_module": "@jupyter-widgets/base",
     "model_name": "LayoutModel",
     "model_module_version": "1.2.0",
     "state": {
      "_model_module": "@jupyter-widgets/base",
      "_model_module_version": "1.2.0",
      "_model_name": "LayoutModel",
      "_view_count": null,
      "_view_module": "@jupyter-widgets/base",
      "_view_module_version": "1.2.0",
      "_view_name": "LayoutView",
      "align_content": null,
      "align_items": null,
      "align_self": null,
      "border": null,
      "bottom": null,
      "display": null,
      "flex": null,
      "flex_flow": null,
      "grid_area": null,
      "grid_auto_columns": null,
      "grid_auto_flow": null,
      "grid_auto_rows": null,
      "grid_column": null,
      "grid_gap": null,
      "grid_row": null,
      "grid_template_areas": null,
      "grid_template_columns": null,
      "grid_template_rows": null,
      "height": null,
      "justify_content": null,
      "justify_items": null,
      "left": null,
      "margin": null,
      "max_height": null,
      "max_width": null,
      "min_height": null,
      "min_width": null,
      "object_fit": null,
      "object_position": null,
      "order": null,
      "overflow": null,
      "overflow_x": null,
      "overflow_y": null,
      "padding": null,
      "right": null,
      "top": null,
      "visibility": null,
      "width": null
     }
    },
    "79c545434c2e4e738b1bf7a8b262b804": {
     "model_module": "@jupyter-widgets/base",
     "model_name": "LayoutModel",
     "model_module_version": "1.2.0",
     "state": {
      "_model_module": "@jupyter-widgets/base",
      "_model_module_version": "1.2.0",
      "_model_name": "LayoutModel",
      "_view_count": null,
      "_view_module": "@jupyter-widgets/base",
      "_view_module_version": "1.2.0",
      "_view_name": "LayoutView",
      "align_content": null,
      "align_items": null,
      "align_self": null,
      "border": null,
      "bottom": null,
      "display": null,
      "flex": null,
      "flex_flow": null,
      "grid_area": null,
      "grid_auto_columns": null,
      "grid_auto_flow": null,
      "grid_auto_rows": null,
      "grid_column": null,
      "grid_gap": null,
      "grid_row": null,
      "grid_template_areas": null,
      "grid_template_columns": null,
      "grid_template_rows": null,
      "height": null,
      "justify_content": null,
      "justify_items": null,
      "left": null,
      "margin": null,
      "max_height": null,
      "max_width": null,
      "min_height": null,
      "min_width": null,
      "object_fit": null,
      "object_position": null,
      "order": null,
      "overflow": null,
      "overflow_x": null,
      "overflow_y": null,
      "padding": null,
      "right": null,
      "top": null,
      "visibility": null,
      "width": null
     }
    },
    "8cb30849ca1b45718856f16963116e2c": {
     "model_module": "@jupyter-widgets/controls",
     "model_name": "DescriptionStyleModel",
     "model_module_version": "1.5.0",
     "state": {
      "_model_module": "@jupyter-widgets/controls",
      "_model_module_version": "1.5.0",
      "_model_name": "DescriptionStyleModel",
      "_view_count": null,
      "_view_module": "@jupyter-widgets/base",
      "_view_module_version": "1.2.0",
      "_view_name": "StyleView",
      "description_width": ""
     }
    },
    "3a9725a08b524e37987a0a39c49e5dc4": {
     "model_module": "@jupyter-widgets/base",
     "model_name": "LayoutModel",
     "model_module_version": "1.2.0",
     "state": {
      "_model_module": "@jupyter-widgets/base",
      "_model_module_version": "1.2.0",
      "_model_name": "LayoutModel",
      "_view_count": null,
      "_view_module": "@jupyter-widgets/base",
      "_view_module_version": "1.2.0",
      "_view_name": "LayoutView",
      "align_content": null,
      "align_items": null,
      "align_self": null,
      "border": null,
      "bottom": null,
      "display": null,
      "flex": null,
      "flex_flow": null,
      "grid_area": null,
      "grid_auto_columns": null,
      "grid_auto_flow": null,
      "grid_auto_rows": null,
      "grid_column": null,
      "grid_gap": null,
      "grid_row": null,
      "grid_template_areas": null,
      "grid_template_columns": null,
      "grid_template_rows": null,
      "height": null,
      "justify_content": null,
      "justify_items": null,
      "left": null,
      "margin": null,
      "max_height": null,
      "max_width": null,
      "min_height": null,
      "min_width": null,
      "object_fit": null,
      "object_position": null,
      "order": null,
      "overflow": null,
      "overflow_x": null,
      "overflow_y": null,
      "padding": null,
      "right": null,
      "top": null,
      "visibility": null,
      "width": null
     }
    },
    "8c855250e4024e68a9efea8e984fe131": {
     "model_module": "@jupyter-widgets/controls",
     "model_name": "ProgressStyleModel",
     "model_module_version": "1.5.0",
     "state": {
      "_model_module": "@jupyter-widgets/controls",
      "_model_module_version": "1.5.0",
      "_model_name": "ProgressStyleModel",
      "_view_count": null,
      "_view_module": "@jupyter-widgets/base",
      "_view_module_version": "1.2.0",
      "_view_name": "StyleView",
      "bar_color": null,
      "description_width": ""
     }
    },
    "796143736edb449b8f18433be720b2db": {
     "model_module": "@jupyter-widgets/base",
     "model_name": "LayoutModel",
     "model_module_version": "1.2.0",
     "state": {
      "_model_module": "@jupyter-widgets/base",
      "_model_module_version": "1.2.0",
      "_model_name": "LayoutModel",
      "_view_count": null,
      "_view_module": "@jupyter-widgets/base",
      "_view_module_version": "1.2.0",
      "_view_name": "LayoutView",
      "align_content": null,
      "align_items": null,
      "align_self": null,
      "border": null,
      "bottom": null,
      "display": null,
      "flex": null,
      "flex_flow": null,
      "grid_area": null,
      "grid_auto_columns": null,
      "grid_auto_flow": null,
      "grid_auto_rows": null,
      "grid_column": null,
      "grid_gap": null,
      "grid_row": null,
      "grid_template_areas": null,
      "grid_template_columns": null,
      "grid_template_rows": null,
      "height": null,
      "justify_content": null,
      "justify_items": null,
      "left": null,
      "margin": null,
      "max_height": null,
      "max_width": null,
      "min_height": null,
      "min_width": null,
      "object_fit": null,
      "object_position": null,
      "order": null,
      "overflow": null,
      "overflow_x": null,
      "overflow_y": null,
      "padding": null,
      "right": null,
      "top": null,
      "visibility": null,
      "width": null
     }
    },
    "91fd989f80464dd389ed3f5d59e43de4": {
     "model_module": "@jupyter-widgets/controls",
     "model_name": "DescriptionStyleModel",
     "model_module_version": "1.5.0",
     "state": {
      "_model_module": "@jupyter-widgets/controls",
      "_model_module_version": "1.5.0",
      "_model_name": "DescriptionStyleModel",
      "_view_count": null,
      "_view_module": "@jupyter-widgets/base",
      "_view_module_version": "1.2.0",
      "_view_name": "StyleView",
      "description_width": ""
     }
    },
    "0bf281301bba4b8c8b88e7517db245ef": {
     "model_module": "@jupyter-widgets/controls",
     "model_name": "HBoxModel",
     "model_module_version": "1.5.0",
     "state": {
      "_dom_classes": [],
      "_model_module": "@jupyter-widgets/controls",
      "_model_module_version": "1.5.0",
      "_model_name": "HBoxModel",
      "_view_count": null,
      "_view_module": "@jupyter-widgets/controls",
      "_view_module_version": "1.5.0",
      "_view_name": "HBoxView",
      "box_style": "",
      "children": [
       "IPY_MODEL_255071fa8df64ec8825d27ee82605aa8",
       "IPY_MODEL_3c98a82b2e32445da75f9fd6c119076d",
       "IPY_MODEL_c81ab5bd71074f8690eac67458d1ef9b"
      ],
      "layout": "IPY_MODEL_5096ef1270b94f0abd708f3ecdaf6cf9"
     }
    },
    "255071fa8df64ec8825d27ee82605aa8": {
     "model_module": "@jupyter-widgets/controls",
     "model_name": "HTMLModel",
     "model_module_version": "1.5.0",
     "state": {
      "_dom_classes": [],
      "_model_module": "@jupyter-widgets/controls",
      "_model_module_version": "1.5.0",
      "_model_name": "HTMLModel",
      "_view_count": null,
      "_view_module": "@jupyter-widgets/controls",
      "_view_module_version": "1.5.0",
      "_view_name": "HTMLView",
      "description": "",
      "description_tooltip": null,
      "layout": "IPY_MODEL_7313629a7d8549ed80b21d3fbdfc069f",
      "placeholder": "​",
      "style": "IPY_MODEL_9ddbf1559e8245f396d3eb3f118c6aee",
      "value": "100%"
     }
    },
    "3c98a82b2e32445da75f9fd6c119076d": {
     "model_module": "@jupyter-widgets/controls",
     "model_name": "FloatProgressModel",
     "model_module_version": "1.5.0",
     "state": {
      "_dom_classes": [],
      "_model_module": "@jupyter-widgets/controls",
      "_model_module_version": "1.5.0",
      "_model_name": "FloatProgressModel",
      "_view_count": null,
      "_view_module": "@jupyter-widgets/controls",
      "_view_module_version": "1.5.0",
      "_view_name": "ProgressView",
      "bar_style": "success",
      "description": "",
      "description_tooltip": null,
      "layout": "IPY_MODEL_9e3601371a734830a44379f73375962b",
      "max": 46830571,
      "min": 0,
      "orientation": "horizontal",
      "style": "IPY_MODEL_7571a79b7b60456582cbc3bd66da749d",
      "value": 46830571
     }
    },
    "c81ab5bd71074f8690eac67458d1ef9b": {
     "model_module": "@jupyter-widgets/controls",
     "model_name": "HTMLModel",
     "model_module_version": "1.5.0",
     "state": {
      "_dom_classes": [],
      "_model_module": "@jupyter-widgets/controls",
      "_model_module_version": "1.5.0",
      "_model_name": "HTMLModel",
      "_view_count": null,
      "_view_module": "@jupyter-widgets/controls",
      "_view_module_version": "1.5.0",
      "_view_name": "HTMLView",
      "description": "",
      "description_tooltip": null,
      "layout": "IPY_MODEL_bbdfd5da36734efaaaf0ffdc18bfca62",
      "placeholder": "​",
      "style": "IPY_MODEL_2ad44bf567024e70bdb9c943c7f8c7d4",
      "value": " 44.7M/44.7M [00:00&lt;00:00, 87.5MB/s]"
     }
    },
    "5096ef1270b94f0abd708f3ecdaf6cf9": {
     "model_module": "@jupyter-widgets/base",
     "model_name": "LayoutModel",
     "model_module_version": "1.2.0",
     "state": {
      "_model_module": "@jupyter-widgets/base",
      "_model_module_version": "1.2.0",
      "_model_name": "LayoutModel",
      "_view_count": null,
      "_view_module": "@jupyter-widgets/base",
      "_view_module_version": "1.2.0",
      "_view_name": "LayoutView",
      "align_content": null,
      "align_items": null,
      "align_self": null,
      "border": null,
      "bottom": null,
      "display": null,
      "flex": null,
      "flex_flow": null,
      "grid_area": null,
      "grid_auto_columns": null,
      "grid_auto_flow": null,
      "grid_auto_rows": null,
      "grid_column": null,
      "grid_gap": null,
      "grid_row": null,
      "grid_template_areas": null,
      "grid_template_columns": null,
      "grid_template_rows": null,
      "height": null,
      "justify_content": null,
      "justify_items": null,
      "left": null,
      "margin": null,
      "max_height": null,
      "max_width": null,
      "min_height": null,
      "min_width": null,
      "object_fit": null,
      "object_position": null,
      "order": null,
      "overflow": null,
      "overflow_x": null,
      "overflow_y": null,
      "padding": null,
      "right": null,
      "top": null,
      "visibility": null,
      "width": null
     }
    },
    "7313629a7d8549ed80b21d3fbdfc069f": {
     "model_module": "@jupyter-widgets/base",
     "model_name": "LayoutModel",
     "model_module_version": "1.2.0",
     "state": {
      "_model_module": "@jupyter-widgets/base",
      "_model_module_version": "1.2.0",
      "_model_name": "LayoutModel",
      "_view_count": null,
      "_view_module": "@jupyter-widgets/base",
      "_view_module_version": "1.2.0",
      "_view_name": "LayoutView",
      "align_content": null,
      "align_items": null,
      "align_self": null,
      "border": null,
      "bottom": null,
      "display": null,
      "flex": null,
      "flex_flow": null,
      "grid_area": null,
      "grid_auto_columns": null,
      "grid_auto_flow": null,
      "grid_auto_rows": null,
      "grid_column": null,
      "grid_gap": null,
      "grid_row": null,
      "grid_template_areas": null,
      "grid_template_columns": null,
      "grid_template_rows": null,
      "height": null,
      "justify_content": null,
      "justify_items": null,
      "left": null,
      "margin": null,
      "max_height": null,
      "max_width": null,
      "min_height": null,
      "min_width": null,
      "object_fit": null,
      "object_position": null,
      "order": null,
      "overflow": null,
      "overflow_x": null,
      "overflow_y": null,
      "padding": null,
      "right": null,
      "top": null,
      "visibility": null,
      "width": null
     }
    },
    "9ddbf1559e8245f396d3eb3f118c6aee": {
     "model_module": "@jupyter-widgets/controls",
     "model_name": "DescriptionStyleModel",
     "model_module_version": "1.5.0",
     "state": {
      "_model_module": "@jupyter-widgets/controls",
      "_model_module_version": "1.5.0",
      "_model_name": "DescriptionStyleModel",
      "_view_count": null,
      "_view_module": "@jupyter-widgets/base",
      "_view_module_version": "1.2.0",
      "_view_name": "StyleView",
      "description_width": ""
     }
    },
    "9e3601371a734830a44379f73375962b": {
     "model_module": "@jupyter-widgets/base",
     "model_name": "LayoutModel",
     "model_module_version": "1.2.0",
     "state": {
      "_model_module": "@jupyter-widgets/base",
      "_model_module_version": "1.2.0",
      "_model_name": "LayoutModel",
      "_view_count": null,
      "_view_module": "@jupyter-widgets/base",
      "_view_module_version": "1.2.0",
      "_view_name": "LayoutView",
      "align_content": null,
      "align_items": null,
      "align_self": null,
      "border": null,
      "bottom": null,
      "display": null,
      "flex": null,
      "flex_flow": null,
      "grid_area": null,
      "grid_auto_columns": null,
      "grid_auto_flow": null,
      "grid_auto_rows": null,
      "grid_column": null,
      "grid_gap": null,
      "grid_row": null,
      "grid_template_areas": null,
      "grid_template_columns": null,
      "grid_template_rows": null,
      "height": null,
      "justify_content": null,
      "justify_items": null,
      "left": null,
      "margin": null,
      "max_height": null,
      "max_width": null,
      "min_height": null,
      "min_width": null,
      "object_fit": null,
      "object_position": null,
      "order": null,
      "overflow": null,
      "overflow_x": null,
      "overflow_y": null,
      "padding": null,
      "right": null,
      "top": null,
      "visibility": null,
      "width": null
     }
    },
    "7571a79b7b60456582cbc3bd66da749d": {
     "model_module": "@jupyter-widgets/controls",
     "model_name": "ProgressStyleModel",
     "model_module_version": "1.5.0",
     "state": {
      "_model_module": "@jupyter-widgets/controls",
      "_model_module_version": "1.5.0",
      "_model_name": "ProgressStyleModel",
      "_view_count": null,
      "_view_module": "@jupyter-widgets/base",
      "_view_module_version": "1.2.0",
      "_view_name": "StyleView",
      "bar_color": null,
      "description_width": ""
     }
    },
    "bbdfd5da36734efaaaf0ffdc18bfca62": {
     "model_module": "@jupyter-widgets/base",
     "model_name": "LayoutModel",
     "model_module_version": "1.2.0",
     "state": {
      "_model_module": "@jupyter-widgets/base",
      "_model_module_version": "1.2.0",
      "_model_name": "LayoutModel",
      "_view_count": null,
      "_view_module": "@jupyter-widgets/base",
      "_view_module_version": "1.2.0",
      "_view_name": "LayoutView",
      "align_content": null,
      "align_items": null,
      "align_self": null,
      "border": null,
      "bottom": null,
      "display": null,
      "flex": null,
      "flex_flow": null,
      "grid_area": null,
      "grid_auto_columns": null,
      "grid_auto_flow": null,
      "grid_auto_rows": null,
      "grid_column": null,
      "grid_gap": null,
      "grid_row": null,
      "grid_template_areas": null,
      "grid_template_columns": null,
      "grid_template_rows": null,
      "height": null,
      "justify_content": null,
      "justify_items": null,
      "left": null,
      "margin": null,
      "max_height": null,
      "max_width": null,
      "min_height": null,
      "min_width": null,
      "object_fit": null,
      "object_position": null,
      "order": null,
      "overflow": null,
      "overflow_x": null,
      "overflow_y": null,
      "padding": null,
      "right": null,
      "top": null,
      "visibility": null,
      "width": null
     }
    },
    "2ad44bf567024e70bdb9c943c7f8c7d4": {
     "model_module": "@jupyter-widgets/controls",
     "model_name": "DescriptionStyleModel",
     "model_module_version": "1.5.0",
     "state": {
      "_model_module": "@jupyter-widgets/controls",
      "_model_module_version": "1.5.0",
      "_model_name": "DescriptionStyleModel",
      "_view_count": null,
      "_view_module": "@jupyter-widgets/base",
      "_view_module_version": "1.2.0",
      "_view_name": "StyleView",
      "description_width": ""
     }
    }
   }
  }
 },
 "nbformat": 4,
 "nbformat_minor": 0
}