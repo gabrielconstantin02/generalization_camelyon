{
 "cells": [
  {
   "cell_type": "code",
   "source": [
    "# !pip install wilds"
   ],
   "metadata": {
    "id": "jbSfV818kVDW",
    "colab": {
     "base_uri": "https://localhost:8080/",
     "height": 1000
    },
    "outputId": "73344fa8-dc57-4b25-d29e-e796b0462888"
   },
   "execution_count": 1,
   "outputs": [
    {
     "output_type": "stream",
     "name": "stdout",
     "text": [
      "Collecting wilds\n",
      "  Downloading wilds-2.0.0-py3-none-any.whl (126 kB)\n",
      "\u001B[K     |████████████████████████████████| 126 kB 5.3 MB/s \n",
      "\u001B[?25hCollecting pytz>=2020.4\n",
      "  Downloading pytz-2022.1-py2.py3-none-any.whl (503 kB)\n",
      "\u001B[K     |████████████████████████████████| 503 kB 44.7 MB/s \n",
      "\u001B[?25hCollecting scipy>=1.5.4\n",
      "  Downloading scipy-1.7.3-cp37-cp37m-manylinux_2_12_x86_64.manylinux2010_x86_64.whl (38.1 MB)\n",
      "\u001B[K     |████████████████████████████████| 38.1 MB 1.5 MB/s \n",
      "\u001B[?25hRequirement already satisfied: torch>=1.7.0 in /usr/local/lib/python3.7/dist-packages (from wilds) (1.10.0+cu111)\n",
      "Requirement already satisfied: torchvision>=0.8.2 in /usr/local/lib/python3.7/dist-packages (from wilds) (0.11.1+cu111)\n",
      "Requirement already satisfied: numpy>=1.19.1 in /usr/local/lib/python3.7/dist-packages (from wilds) (1.21.5)\n",
      "Collecting outdated>=0.2.0\n",
      "  Downloading outdated-0.2.1-py3-none-any.whl (7.5 kB)\n",
      "Requirement already satisfied: pandas>=1.1.0 in /usr/local/lib/python3.7/dist-packages (from wilds) (1.3.5)\n",
      "Collecting ogb>=1.2.6\n",
      "  Downloading ogb-1.3.3-py3-none-any.whl (78 kB)\n",
      "\u001B[K     |████████████████████████████████| 78 kB 6.2 MB/s \n",
      "\u001B[?25hRequirement already satisfied: tqdm>=4.53.0 in /usr/local/lib/python3.7/dist-packages (from wilds) (4.63.0)\n",
      "Requirement already satisfied: scikit-learn>=0.20.0 in /usr/local/lib/python3.7/dist-packages (from wilds) (1.0.2)\n",
      "Collecting pillow>=7.2.0\n",
      "  Downloading Pillow-9.0.1-cp37-cp37m-manylinux_2_17_x86_64.manylinux2014_x86_64.whl (4.3 MB)\n",
      "\u001B[K     |████████████████████████████████| 4.3 MB 34.2 MB/s \n",
      "\u001B[?25hRequirement already satisfied: six>=1.12.0 in /usr/local/lib/python3.7/dist-packages (from ogb>=1.2.6->wilds) (1.15.0)\n",
      "Requirement already satisfied: urllib3>=1.24.0 in /usr/local/lib/python3.7/dist-packages (from ogb>=1.2.6->wilds) (1.24.3)\n",
      "Requirement already satisfied: requests in /usr/local/lib/python3.7/dist-packages (from outdated>=0.2.0->wilds) (2.23.0)\n",
      "Collecting littleutils\n",
      "  Downloading littleutils-0.2.2.tar.gz (6.6 kB)\n",
      "Requirement already satisfied: python-dateutil>=2.7.3 in /usr/local/lib/python3.7/dist-packages (from pandas>=1.1.0->wilds) (2.8.2)\n",
      "Requirement already satisfied: joblib>=0.11 in /usr/local/lib/python3.7/dist-packages (from scikit-learn>=0.20.0->wilds) (1.1.0)\n",
      "Requirement already satisfied: threadpoolctl>=2.0.0 in /usr/local/lib/python3.7/dist-packages (from scikit-learn>=0.20.0->wilds) (3.1.0)\n",
      "Requirement already satisfied: typing-extensions in /usr/local/lib/python3.7/dist-packages (from torch>=1.7.0->wilds) (3.10.0.2)\n",
      "Requirement already satisfied: idna<3,>=2.5 in /usr/local/lib/python3.7/dist-packages (from requests->outdated>=0.2.0->wilds) (2.10)\n",
      "Requirement already satisfied: chardet<4,>=3.0.2 in /usr/local/lib/python3.7/dist-packages (from requests->outdated>=0.2.0->wilds) (3.0.4)\n",
      "Requirement already satisfied: certifi>=2017.4.17 in /usr/local/lib/python3.7/dist-packages (from requests->outdated>=0.2.0->wilds) (2021.10.8)\n",
      "Building wheels for collected packages: littleutils\n",
      "  Building wheel for littleutils (setup.py) ... \u001B[?25l\u001B[?25hdone\n",
      "  Created wheel for littleutils: filename=littleutils-0.2.2-py3-none-any.whl size=7048 sha256=0f14ad6f0ce8c83a43047049f8dfca4142c36e3392727ac1563f341c22d9313e\n",
      "  Stored in directory: /root/.cache/pip/wheels/d6/64/cd/32819b511a488e4993f2fab909a95330289c3f4e0f6ef4676d\n",
      "Successfully built littleutils\n",
      "Installing collected packages: scipy, pytz, littleutils, pillow, outdated, ogb, wilds\n",
      "  Attempting uninstall: scipy\n",
      "    Found existing installation: scipy 1.4.1\n",
      "    Uninstalling scipy-1.4.1:\n",
      "      Successfully uninstalled scipy-1.4.1\n",
      "  Attempting uninstall: pytz\n",
      "    Found existing installation: pytz 2018.9\n",
      "    Uninstalling pytz-2018.9:\n",
      "      Successfully uninstalled pytz-2018.9\n",
      "  Attempting uninstall: pillow\n",
      "    Found existing installation: Pillow 7.1.2\n",
      "    Uninstalling Pillow-7.1.2:\n",
      "      Successfully uninstalled Pillow-7.1.2\n",
      "\u001B[31mERROR: pip's dependency resolver does not currently take into account all the packages that are installed. This behaviour is the source of the following dependency conflicts.\n",
      "albumentations 0.1.12 requires imgaug<0.2.7,>=0.2.5, but you have imgaug 0.2.9 which is incompatible.\u001B[0m\n",
      "Successfully installed littleutils-0.2.2 ogb-1.3.3 outdated-0.2.1 pillow-9.0.1 pytz-2022.1 scipy-1.7.3 wilds-2.0.0\n"
     ]
    },
    {
     "output_type": "display_data",
     "data": {
      "application/vnd.colab-display-data+json": {
       "pip_warning": {
        "packages": [
         "PIL"
        ]
       }
      }
     },
     "metadata": {}
    }
   ]
  },
  {
   "cell_type": "code",
   "execution_count": 1,
   "metadata": {
    "collapsed": true,
    "id": "2v8Jq3hYhofR"
   },
   "outputs": [],
   "source": [
    "import numpy as np\n",
    "from wilds import get_dataset\n",
    "from wilds.common.data_loaders import get_train_loader\n",
    "import torchvision.transforms as transforms\n",
    "import torchvision.models as models\n",
    "from wilds.common.data_loaders import get_eval_loader\n",
    "import torch\n",
    "from torch import nn\n",
    "from tqdm import tqdm"
   ]
  },
  {
   "cell_type": "code",
   "execution_count": 2,
   "outputs": [],
   "source": [
    "# Load the full dataset, and download it if necessary\n",
    "dataset = get_dataset(dataset=\"camelyon17\", download=False)\n"
   ],
   "metadata": {
    "pycharm": {
     "name": "#%%\n"
    },
    "id": "9ovJ8k49hofV",
    "colab": {
     "base_uri": "https://localhost:8080/",
     "height": 176,
     "referenced_widgets": [
      "7ddafa89c8b44ed38cd017d5b7baf4e8",
      "745a561a8fee4286b2d48b2479f44d03",
      "08212a669b3a4b0cac0f3a779ed8c1c2",
      "551ad53ab988476ba210f24040b1088f",
      "b52f1e89fd1e4dbd82728c9bb2fc13bc",
      "79c545434c2e4e738b1bf7a8b262b804",
      "8cb30849ca1b45718856f16963116e2c",
      "3a9725a08b524e37987a0a39c49e5dc4",
      "8c855250e4024e68a9efea8e984fe131",
      "796143736edb449b8f18433be720b2db",
      "91fd989f80464dd389ed3f5d59e43de4"
     ]
    },
    "outputId": "e025574e-58e4-4709-f706-ff045e1b3d47"
   }
  },
  {
   "cell_type": "code",
   "execution_count": 3,
   "outputs": [
    {
     "name": "stdout",
     "output_type": "stream",
     "text": [
      "99804\n"
     ]
    },
    {
     "data": {
      "text/plain": "'\\n# Train loop\\nfor labeled_batch, unlabeled_batch in zip(train_loader, unlabeled_loader):\\n    x, y, metadata = labeled_batch\\n    unlabeled_x, unlabeled_metadata = unlabeled_batch\\n    ...\\n'"
     },
     "execution_count": 3,
     "metadata": {},
     "output_type": "execute_result"
    }
   ],
   "source": [
    "BATCH_SIZE = 32\n",
    "FRACTION = 0.33\n",
    "\n",
    "# Get the training set\n",
    "train_data = dataset.get_subset(\n",
    "    \"train\",\n",
    "    frac = FRACTION,\n",
    "    transform=transforms.Compose(\n",
    "        [\n",
    "         transforms.ToTensor(),\n",
    "         transforms.Normalize(mean=[0.485, 0.456, 0.406],\n",
    "                        std=[0.229, 0.224, 0.225])]\n",
    "    ),\n",
    ")\n",
    "\n",
    "print(len(train_data)) #302436 initially\n",
    "# Prepare the standard data loader\n",
    "train_loader = get_train_loader(\"standard\", train_data, batch_size=BATCH_SIZE)\n",
    "\n",
    "\"\"\"\n",
    "# (Optional) Load unlabeled data\n",
    "dataset = get_dataset(dataset=\"camelyon17\", download=True, unlabeled=True)\n",
    "unlabeled_data = dataset.get_subset(\n",
    "    \"test_unlabeled\",\n",
    "    transform=transforms.Compose(\n",
    "        [transforms.Resize((448, 448)), transforms.ToTensor()]\n",
    "    ),\n",
    ")\n",
    "unlabeled_loader = get_train_loader(\"standard\", unlabeled_data, batch_size=16)\n",
    "\"\"\"\n",
    "\"\"\"\n",
    "# Train loop\n",
    "for labeled_batch, unlabeled_batch in zip(train_loader, unlabeled_loader):\n",
    "    x, y, metadata = labeled_batch\n",
    "    unlabeled_x, unlabeled_metadata = unlabeled_batch\n",
    "    ...\n",
    "\"\"\""
   ],
   "metadata": {
    "pycharm": {
     "name": "#%%\n"
    },
    "colab": {
     "base_uri": "https://localhost:8080/",
     "height": 54
    },
    "id": "idPjNiuQhofV",
    "outputId": "f1867264-f59f-48d7-f95d-085c3659e42f"
   }
  },
  {
   "cell_type": "code",
   "execution_count": 4,
   "outputs": [
    {
     "name": "stdout",
     "output_type": "stream",
     "text": [
      "11075\n"
     ]
    }
   ],
   "source": [
    "# Get the test set\n",
    "id_val_data = dataset.get_subset(\n",
    "    \"id_val\",\n",
    "    frac = FRACTION,\n",
    "    transform=transforms.Compose(\n",
    "        [\n",
    "         transforms.ToTensor(),\n",
    "         transforms.Normalize(mean=[0.485, 0.456, 0.406],\n",
    "                        std=[0.229, 0.224, 0.225])]\n",
    "    ),\n",
    ")\n",
    "\n",
    "print(len(id_val_data))\n",
    "\n",
    "# Prepare the evaluation data loader\n",
    "id_val_loader = get_eval_loader(\"standard\", id_val_data, batch_size=BATCH_SIZE)\n"
   ],
   "metadata": {
    "pycharm": {
     "name": "#%%\n"
    },
    "colab": {
     "base_uri": "https://localhost:8080/"
    },
    "id": "-KXocT0mhofX",
    "outputId": "71bf936b-3090-415a-e06e-f677acdd2667"
   }
  },
  {
   "cell_type": "code",
   "execution_count": 5,
   "outputs": [
    {
     "name": "stdout",
     "output_type": "stream",
     "text": [
      "11518\n"
     ]
    }
   ],
   "source": [
    "# Get the test set\n",
    "val_data = dataset.get_subset(\n",
    "    \"val\",\n",
    "    frac = FRACTION,\n",
    "    transform=transforms.Compose(\n",
    "        [\n",
    "         transforms.ToTensor(),\n",
    "         transforms.Normalize(mean=[0.485, 0.456, 0.406],\n",
    "                        std=[0.229, 0.224, 0.225])]\n",
    "    ),\n",
    ")\n",
    "\n",
    "print(len(val_data))\n",
    "\n",
    "# Prepare the evaluation data loader\n",
    "val_loader = get_eval_loader(\"standard\", val_data, batch_size=BATCH_SIZE)"
   ],
   "metadata": {
    "pycharm": {
     "name": "#%%\n"
    },
    "colab": {
     "base_uri": "https://localhost:8080/"
    },
    "id": "7825GiE2hofX",
    "outputId": "388ec711-5b21-406f-eda3-964143fbcea9"
   }
  },
  {
   "cell_type": "code",
   "source": [
    "# Get the test set\n",
    "test_data = dataset.get_subset(\n",
    "    \"test\",\n",
    "    frac = FRACTION,\n",
    "    transform=transforms.Compose(\n",
    "        [\n",
    "         transforms.ToTensor(),\n",
    "         transforms.Normalize(mean=[0.485, 0.456, 0.406],\n",
    "                        std=[0.229, 0.224, 0.225])]\n",
    "    ),\n",
    ")\n",
    "\n",
    "print(len(test_data))\n",
    "\n",
    "# Prepare the evaluation data loader\n",
    "test_loader = get_eval_loader(\"standard\", test_data, batch_size=BATCH_SIZE)"
   ],
   "metadata": {
    "colab": {
     "base_uri": "https://localhost:8080/"
    },
    "id": "NXa_rPBB1mfI",
    "outputId": "ef3e48a1-515f-45a7-e35f-910186a0b888"
   },
   "execution_count": 6,
   "outputs": [
    {
     "name": "stdout",
     "output_type": "stream",
     "text": [
      "28068\n"
     ]
    }
   ]
  },
  {
   "cell_type": "code",
   "execution_count": 7,
   "outputs": [
    {
     "name": "stdout",
     "output_type": "stream",
     "text": [
      "Model's parameters: \n",
      "\t conv1.weight :  torch.Size([64, 3, 7, 7])\n",
      "\t bn1.weight :  torch.Size([64])\n",
      "\t bn1.bias :  torch.Size([64])\n",
      "\t layer1.0.conv1.weight :  torch.Size([64, 64, 3, 3])\n",
      "\t layer1.0.bn1.weight :  torch.Size([64])\n",
      "\t layer1.0.bn1.bias :  torch.Size([64])\n",
      "\t layer1.0.conv2.weight :  torch.Size([64, 64, 3, 3])\n",
      "\t layer1.0.bn2.weight :  torch.Size([64])\n",
      "\t layer1.0.bn2.bias :  torch.Size([64])\n",
      "\t layer1.1.conv1.weight :  torch.Size([64, 64, 3, 3])\n",
      "\t layer1.1.bn1.weight :  torch.Size([64])\n",
      "\t layer1.1.bn1.bias :  torch.Size([64])\n",
      "\t layer1.1.conv2.weight :  torch.Size([64, 64, 3, 3])\n",
      "\t layer1.1.bn2.weight :  torch.Size([64])\n",
      "\t layer1.1.bn2.bias :  torch.Size([64])\n",
      "\t layer2.0.conv1.weight :  torch.Size([128, 64, 3, 3])\n",
      "\t layer2.0.bn1.weight :  torch.Size([128])\n",
      "\t layer2.0.bn1.bias :  torch.Size([128])\n",
      "\t layer2.0.conv2.weight :  torch.Size([128, 128, 3, 3])\n",
      "\t layer2.0.bn2.weight :  torch.Size([128])\n",
      "\t layer2.0.bn2.bias :  torch.Size([128])\n",
      "\t layer2.0.downsample.0.weight :  torch.Size([128, 64, 1, 1])\n",
      "\t layer2.0.downsample.1.weight :  torch.Size([128])\n",
      "\t layer2.0.downsample.1.bias :  torch.Size([128])\n",
      "\t layer2.1.conv1.weight :  torch.Size([128, 128, 3, 3])\n",
      "\t layer2.1.bn1.weight :  torch.Size([128])\n",
      "\t layer2.1.bn1.bias :  torch.Size([128])\n",
      "\t layer2.1.conv2.weight :  torch.Size([128, 128, 3, 3])\n",
      "\t layer2.1.bn2.weight :  torch.Size([128])\n",
      "\t layer2.1.bn2.bias :  torch.Size([128])\n",
      "\t layer3.0.conv1.weight :  torch.Size([256, 128, 3, 3])\n",
      "\t layer3.0.bn1.weight :  torch.Size([256])\n",
      "\t layer3.0.bn1.bias :  torch.Size([256])\n",
      "\t layer3.0.conv2.weight :  torch.Size([256, 256, 3, 3])\n",
      "\t layer3.0.bn2.weight :  torch.Size([256])\n",
      "\t layer3.0.bn2.bias :  torch.Size([256])\n",
      "\t layer3.0.downsample.0.weight :  torch.Size([256, 128, 1, 1])\n",
      "\t layer3.0.downsample.1.weight :  torch.Size([256])\n",
      "\t layer3.0.downsample.1.bias :  torch.Size([256])\n",
      "\t layer3.1.conv1.weight :  torch.Size([256, 256, 3, 3])\n",
      "\t layer3.1.bn1.weight :  torch.Size([256])\n",
      "\t layer3.1.bn1.bias :  torch.Size([256])\n",
      "\t layer3.1.conv2.weight :  torch.Size([256, 256, 3, 3])\n",
      "\t layer3.1.bn2.weight :  torch.Size([256])\n",
      "\t layer3.1.bn2.bias :  torch.Size([256])\n",
      "\t layer4.0.conv1.weight :  torch.Size([512, 256, 3, 3])\n",
      "\t layer4.0.bn1.weight :  torch.Size([512])\n",
      "\t layer4.0.bn1.bias :  torch.Size([512])\n",
      "\t layer4.0.conv2.weight :  torch.Size([512, 512, 3, 3])\n",
      "\t layer4.0.bn2.weight :  torch.Size([512])\n",
      "\t layer4.0.bn2.bias :  torch.Size([512])\n",
      "\t layer4.0.downsample.0.weight :  torch.Size([512, 256, 1, 1])\n",
      "\t layer4.0.downsample.1.weight :  torch.Size([512])\n",
      "\t layer4.0.downsample.1.bias :  torch.Size([512])\n",
      "\t layer4.1.conv1.weight :  torch.Size([512, 512, 3, 3])\n",
      "\t layer4.1.bn1.weight :  torch.Size([512])\n",
      "\t layer4.1.bn1.bias :  torch.Size([512])\n",
      "\t layer4.1.conv2.weight :  torch.Size([512, 512, 3, 3])\n",
      "\t layer4.1.bn2.weight :  torch.Size([512])\n",
      "\t layer4.1.bn2.bias :  torch.Size([512])\n",
      "\t fc.weight :  torch.Size([1000, 512])\n",
      "\t fc.bias :  torch.Size([1000])\n",
      "Number of model parameters:  11689512\n"
     ]
    },
    {
     "data": {
      "text/plain": "'\\nformula [(W−K+2P)/S]+1.\\n\\nW is the input volume\\nK is the Kernel size\\nP is the padding\\nS is the stride\\n\\n'"
     },
     "execution_count": 7,
     "metadata": {},
     "output_type": "execute_result"
    }
   ],
   "source": [
    "\n",
    "# load the ResNet-18 model, with weights pretrained on ImageNet\n",
    "resnet18_pretrained = models.resnet18(pretrained=True)\n",
    "\n",
    "num_params = 0\n",
    "print(\"Model's parameters: \")\n",
    "for n, p in resnet18_pretrained.named_parameters():\n",
    "    print('\\t', n, ': ', p.size())\n",
    "    num_params += p.numel()\n",
    "print(\"Number of model parameters: \", num_params)\n",
    "\n",
    "\"\"\"\n",
    "formula [(W−K+2P)/S]+1.\n",
    "\n",
    "W is the input volume\n",
    "K is the Kernel size\n",
    "P is the padding\n",
    "S is the stride\n",
    "\n",
    "\"\"\""
   ],
   "metadata": {
    "pycharm": {
     "name": "#%%\n"
    },
    "colab": {
     "base_uri": "https://localhost:8080/",
     "height": 1000,
     "referenced_widgets": [
      "0bf281301bba4b8c8b88e7517db245ef",
      "255071fa8df64ec8825d27ee82605aa8",
      "3c98a82b2e32445da75f9fd6c119076d",
      "c81ab5bd71074f8690eac67458d1ef9b",
      "5096ef1270b94f0abd708f3ecdaf6cf9",
      "7313629a7d8549ed80b21d3fbdfc069f",
      "9ddbf1559e8245f396d3eb3f118c6aee",
      "9e3601371a734830a44379f73375962b",
      "7571a79b7b60456582cbc3bd66da749d",
      "bbdfd5da36734efaaaf0ffdc18bfca62",
      "2ad44bf567024e70bdb9c943c7f8c7d4"
     ]
    },
    "id": "RaNKmMPUhofY",
    "outputId": "505a886e-dd8f-4da4-bb6c-703922904621"
   }
  },
  {
   "cell_type": "code",
   "execution_count": 8,
   "outputs": [],
   "source": [
    "# function counting the number of parameters and the number of trainable parameters of a model\n",
    "# optionally, it will also display the layers\n",
    "def check_model_parameters(model, display_layers=False):\n",
    "  num_params = 0\n",
    "  num_trainable_params = 0\n",
    "  if display_layers==True:\n",
    "    print(\"Model's parameters: \")\n",
    "  for n, p in model.named_parameters():\n",
    "      if display_layers == True:\n",
    "        print('\\t', n, ': ', p.size())\n",
    "      num_params += p.numel()\n",
    "      if p.requires_grad:\n",
    "        num_trainable_params += p.numel()\n",
    "  print(\"Number of model parameters: \", num_params)\n",
    "  print(\"Number of trainable parameters: \", num_trainable_params)"
   ],
   "metadata": {
    "pycharm": {
     "name": "#%%\n"
    },
    "id": "X-SlJVZkhofZ"
   }
  },
  {
   "cell_type": "code",
   "execution_count": 9,
   "outputs": [
    {
     "name": "stdout",
     "output_type": "stream",
     "text": [
      "Number of model parameters:  11689512\n",
      "Number of trainable parameters:  11689512\n",
      "Number of model parameters:  11689512\n",
      "Number of trainable parameters:  11689512\n"
     ]
    }
   ],
   "source": [
    "# freeze the model parameters\n",
    "\n",
    "# check the number of parameters and the number of trainable parameters\n",
    "check_model_parameters(resnet18_pretrained, display_layers=False)\n",
    "\n",
    "# freeze all the layers\n",
    "# for param in resnet18_pretrained.parameters():\n",
    "  # param.requires_grad = False\n",
    "\n",
    "# check the number of parameters and the number of trainable parameters\n",
    "check_model_parameters(resnet18_pretrained, display_layers=False)"
   ],
   "metadata": {
    "pycharm": {
     "name": "#%%\n"
    },
    "colab": {
     "base_uri": "https://localhost:8080/"
    },
    "id": "sPIE8Xd3hofa",
    "outputId": "6b69f6f4-0981-4526-ab6b-8430c5383115"
   }
  },
  {
   "cell_type": "code",
   "execution_count": 10,
   "outputs": [],
   "source": [
    "device = torch.device('cuda' if torch.cuda.is_available() else 'cpu')\n",
    "num_epochs = 5"
   ],
   "metadata": {
    "pycharm": {
     "name": "#%%\n"
    },
    "id": "S8TUohu7hofa"
   }
  },
  {
   "cell_type": "code",
   "execution_count": 11,
   "outputs": [
    {
     "name": "stdout",
     "output_type": "stream",
     "text": [
      "Model's parameters: \n",
      "\t conv1.weight :  torch.Size([64, 3, 7, 7])\n",
      "\t bn1.weight :  torch.Size([64])\n",
      "\t bn1.bias :  torch.Size([64])\n",
      "\t layer1.0.conv1.weight :  torch.Size([64, 64, 3, 3])\n",
      "\t layer1.0.bn1.weight :  torch.Size([64])\n",
      "\t layer1.0.bn1.bias :  torch.Size([64])\n",
      "\t layer1.0.conv2.weight :  torch.Size([64, 64, 3, 3])\n",
      "\t layer1.0.bn2.weight :  torch.Size([64])\n",
      "\t layer1.0.bn2.bias :  torch.Size([64])\n",
      "\t layer1.1.conv1.weight :  torch.Size([64, 64, 3, 3])\n",
      "\t layer1.1.bn1.weight :  torch.Size([64])\n",
      "\t layer1.1.bn1.bias :  torch.Size([64])\n",
      "\t layer1.1.conv2.weight :  torch.Size([64, 64, 3, 3])\n",
      "\t layer1.1.bn2.weight :  torch.Size([64])\n",
      "\t layer1.1.bn2.bias :  torch.Size([64])\n",
      "\t layer2.0.conv1.weight :  torch.Size([128, 64, 3, 3])\n",
      "\t layer2.0.bn1.weight :  torch.Size([128])\n",
      "\t layer2.0.bn1.bias :  torch.Size([128])\n",
      "\t layer2.0.conv2.weight :  torch.Size([128, 128, 3, 3])\n",
      "\t layer2.0.bn2.weight :  torch.Size([128])\n",
      "\t layer2.0.bn2.bias :  torch.Size([128])\n",
      "\t layer2.0.downsample.0.weight :  torch.Size([128, 64, 1, 1])\n",
      "\t layer2.0.downsample.1.weight :  torch.Size([128])\n",
      "\t layer2.0.downsample.1.bias :  torch.Size([128])\n",
      "\t layer2.1.conv1.weight :  torch.Size([128, 128, 3, 3])\n",
      "\t layer2.1.bn1.weight :  torch.Size([128])\n",
      "\t layer2.1.bn1.bias :  torch.Size([128])\n",
      "\t layer2.1.conv2.weight :  torch.Size([128, 128, 3, 3])\n",
      "\t layer2.1.bn2.weight :  torch.Size([128])\n",
      "\t layer2.1.bn2.bias :  torch.Size([128])\n",
      "\t layer3.0.conv1.weight :  torch.Size([256, 128, 3, 3])\n",
      "\t layer3.0.bn1.weight :  torch.Size([256])\n",
      "\t layer3.0.bn1.bias :  torch.Size([256])\n",
      "\t layer3.0.conv2.weight :  torch.Size([256, 256, 3, 3])\n",
      "\t layer3.0.bn2.weight :  torch.Size([256])\n",
      "\t layer3.0.bn2.bias :  torch.Size([256])\n",
      "\t layer3.0.downsample.0.weight :  torch.Size([256, 128, 1, 1])\n",
      "\t layer3.0.downsample.1.weight :  torch.Size([256])\n",
      "\t layer3.0.downsample.1.bias :  torch.Size([256])\n",
      "\t layer3.1.conv1.weight :  torch.Size([256, 256, 3, 3])\n",
      "\t layer3.1.bn1.weight :  torch.Size([256])\n",
      "\t layer3.1.bn1.bias :  torch.Size([256])\n",
      "\t layer3.1.conv2.weight :  torch.Size([256, 256, 3, 3])\n",
      "\t layer3.1.bn2.weight :  torch.Size([256])\n",
      "\t layer3.1.bn2.bias :  torch.Size([256])\n",
      "\t layer4.0.conv1.weight :  torch.Size([512, 256, 3, 3])\n",
      "\t layer4.0.bn1.weight :  torch.Size([512])\n",
      "\t layer4.0.bn1.bias :  torch.Size([512])\n",
      "\t layer4.0.conv2.weight :  torch.Size([512, 512, 3, 3])\n",
      "\t layer4.0.bn2.weight :  torch.Size([512])\n",
      "\t layer4.0.bn2.bias :  torch.Size([512])\n",
      "\t layer4.0.downsample.0.weight :  torch.Size([512, 256, 1, 1])\n",
      "\t layer4.0.downsample.1.weight :  torch.Size([512])\n",
      "\t layer4.0.downsample.1.bias :  torch.Size([512])\n",
      "\t layer4.1.conv1.weight :  torch.Size([512, 512, 3, 3])\n",
      "\t layer4.1.bn1.weight :  torch.Size([512])\n",
      "\t layer4.1.bn1.bias :  torch.Size([512])\n",
      "\t layer4.1.conv2.weight :  torch.Size([512, 512, 3, 3])\n",
      "\t layer4.1.bn2.weight :  torch.Size([512])\n",
      "\t layer4.1.bn2.bias :  torch.Size([512])\n",
      "\t fc.weight :  torch.Size([2, 512])\n",
      "\t fc.bias :  torch.Size([2])\n",
      "Number of model parameters:  11177538\n",
      "Number of trainable parameters:  11177538\n"
     ]
    }
   ],
   "source": [
    "\n",
    "resnet18_pretrained.fc = nn.Linear(in_features=512, out_features=2, bias=True)\n",
    "\n",
    "check_model_parameters(resnet18_pretrained, display_layers=True)"
   ],
   "metadata": {
    "pycharm": {
     "name": "#%%\n"
    },
    "colab": {
     "base_uri": "https://localhost:8080/"
    },
    "id": "k1muosu4hofb",
    "outputId": "892bd55d-9543-42d6-d57c-5a6150c52736"
   }
  },
  {
   "cell_type": "code",
   "execution_count": 12,
   "outputs": [],
   "source": [
    "def train_epoch(model, train_dataloader, loss_crt, optimizer, device):\n",
    "    \"\"\"\n",
    "    model: Model object\n",
    "    train_dataloader: DataLoader over the training dataset\n",
    "    loss_crt: loss function object\n",
    "    optimizer: Optimizer object\n",
    "    device: torch.device('cpu) or torch.device('cuda')\n",
    "\n",
    "    The function returns:\n",
    "     - the epoch training loss, which is an average over the individual batch\n",
    "       losses\n",
    "    \"\"\"\n",
    "    model.train()\n",
    "    epoch_loss = 0.0\n",
    "    epoch_accuracy = 0.0\n",
    "    num_batches = len(train_dataloader)\n",
    "    for batch_idx, batch in tqdm(enumerate(train_dataloader)):\n",
    "        # shape: batch_size x 1 x 28 x 28, batch_size x 1\n",
    "        # print(\"Train\")\n",
    "        # print(batch)\n",
    "        batch_img, batch_labels, _ = batch\n",
    "        # move data to GPU\n",
    "        batch_img = batch_img.to(device)\n",
    "        batch_labels = batch_labels.to(device)\n",
    "\n",
    "        # initialize as zeros all the gradients of the model\n",
    "        model.zero_grad()\n",
    "\n",
    "        # get predictions from the FORWARD pass\n",
    "        # shape: batch_size x 10\n",
    "        output = model(batch_img)\n",
    "\n",
    "        loss = loss_crt(output, batch_labels.squeeze())\n",
    "        loss_scalar = loss.item()\n",
    "\n",
    "        # BACKPROPAGATE the gradients\n",
    "        loss.backward()\n",
    "        # use the gradients to OPTIMISE the model\n",
    "        optimizer.step()\n",
    "\n",
    "        epoch_loss += loss_scalar\n",
    "\n",
    "        pred = output.argmax(dim=1, keepdim=True)\n",
    "        epoch_accuracy += pred.eq(batch_labels.view_as(pred)).float().mean().item()\n",
    "\n",
    "    epoch_loss = epoch_loss/num_batches\n",
    "    epoch_accuracy = 100. * epoch_accuracy/num_batches\n",
    "    return epoch_loss, epoch_accuracy\n",
    "\n",
    "def eval_epoch(model, val_dataloader, loss_crt, device):\n",
    "    \"\"\"\n",
    "    model: Model object\n",
    "    val_dataloader: DataLoader over the validation dataset\n",
    "    loss_crt: loss function object\n",
    "    device: torch.device('cpu) or torch.device('cuda')\n",
    "\n",
    "    The function returns:\n",
    "     - the epoch validation loss, which is an average over the individual batch\n",
    "       losses\n",
    "    \"\"\"\n",
    "    model.eval()\n",
    "    epoch_loss = 0.0\n",
    "    epoch_accuracy = 0.0\n",
    "    num_batches = len(val_dataloader)\n",
    "    with torch.no_grad():\n",
    "        for batch_idx, batch in tqdm(enumerate(val_dataloader)):\n",
    "            # print(\"Eval\")\n",
    "            # print(batch)\n",
    "            # shape: batch_size x 3 x 28 x 28, batch_size x 1\n",
    "            batch_img, batch_labels, _ = batch\n",
    "            current_batch_size = batch_img.size(0)\n",
    "\n",
    "            # move data to GPU\n",
    "            batch_img = batch_img.to(device)\n",
    "            batch_labels = batch_labels.to(device)\n",
    "\n",
    "            # batch_size x 10\n",
    "            output = model(batch_img)\n",
    "\n",
    "            loss = loss_crt(output, batch_labels.squeeze())\n",
    "            loss_scalar = loss.item()\n",
    "\n",
    "            epoch_loss += loss_scalar\n",
    "\n",
    "            pred = output.argmax(dim=1, keepdim=True)\n",
    "            epoch_accuracy += pred.eq(batch_labels.view_as(pred)).float().mean().item()\n",
    "\n",
    "    epoch_loss = epoch_loss/num_batches\n",
    "    epoch_accuracy = 100. * epoch_accuracy/num_batches\n",
    "    return epoch_loss, epoch_accuracy"
   ],
   "metadata": {
    "pycharm": {
     "name": "#%%\n"
    },
    "id": "FgkgJVFXhofb"
   }
  },
  {
   "cell_type": "code",
   "execution_count": 13,
   "outputs": [],
   "source": [
    "resnet18_pretrained.to(device)\n",
    "\n",
    "# create a SGD optimizer\n",
    "optimizer = torch.optim.SGD(resnet18_pretrained.parameters(), lr=0.01, momentum=0.9)\n",
    "\n",
    "# set up loss function\n",
    "loss_criterion = nn.CrossEntropyLoss()\n",
    "\n",
    "# evaluate the initial model\n",
    "# val_loss, al_accuracy = eval_epoch(resnet18_pretrained, id_val_loader, loss_criterion, device)\n",
    "# print('Validation performance before finetuning -- loss: %10.8f, accuracy: %10.8f'%(val_loss, val_accuracy))\n"
   ],
   "metadata": {
    "pycharm": {
     "name": "#%%\n"
    },
    "id": "daJBzTCNhofc"
   }
  },
  {
   "cell_type": "code",
   "source": [
    "\n",
    "# finetune the model\n",
    "train_losses = []\n",
    "train_accuracies = []\n",
    "id_val_losses = []\n",
    "id_val_accuracies = []\n",
    "for epoch in range(1, num_epochs+1):\n",
    "  train_loss, train_accuracy = train_epoch(resnet18_pretrained, train_loader, loss_criterion, optimizer, device)\n",
    "  val_loss, val_accuracy = eval_epoch(resnet18_pretrained, id_val_loader, loss_criterion, device)\n",
    "  train_losses.append(train_loss)\n",
    "  id_val_losses.append(val_loss)\n",
    "  train_accuracies.append(train_accuracy)\n",
    "  id_val_accuracies.append(val_accuracy)\n",
    "  print('\\nEpoch %d'%(epoch))\n",
    "  print('train loss: %10.8f, accuracy: %10.8f'%(train_loss, train_accuracy))\n",
    "  print('id_val loss: %10.8f, accuracy: %10.8f'%(val_loss, val_accuracy))"
   ],
   "metadata": {
    "id": "c-T9brnRfoGl"
   },
   "execution_count": null,
   "outputs": []
  },
  {
   "cell_type": "code",
   "source": [
    "def run_eval_ood(model, loader, loss_criterion, device, eval_type):\n",
    "  losses = []\n",
    "  accuracies = []\n",
    "\n",
    "  loss, accuracy = eval_epoch(model, loader, loss_criterion, device)\n",
    "  losses.append(loss)\n",
    "  accuracies.append(accuracy)\n",
    "  print(eval_type + ' loss: %10.8f, accuracy: %10.8f'%(loss, accuracy))"
   ],
   "metadata": {
    "id": "ZoukrP_12g4y"
   },
   "execution_count": null,
   "outputs": []
  },
  {
   "cell_type": "code",
   "execution_count": null,
   "outputs": [
    {
     "output_type": "stream",
     "name": "stderr",
     "text": [
      "360it [00:43,  8.24it/s]"
     ]
    },
    {
     "output_type": "stream",
     "name": "stdout",
     "text": [
      "val loss: 0.46796423, accuracy: 87.63715279\n"
     ]
    },
    {
     "output_type": "stream",
     "name": "stderr",
     "text": [
      "\n"
     ]
    }
   ],
   "source": [
    "run_eval_ood(resnet18_pretrained, val_loader, loss_criterion, device, \"val\")"
   ],
   "metadata": {
    "pycharm": {
     "name": "#%%\n"
    },
    "colab": {
     "base_uri": "https://localhost:8080/"
    },
    "id": "QMkwTCH6hofc",
    "outputId": "3e9b9949-2720-463c-e312-fa8b0d94e47d"
   }
  },
  {
   "cell_type": "code",
   "source": [
    "run_eval_ood(resnet18_pretrained, test_loader, loss_criterion, device, \"test\")"
   ],
   "metadata": {
    "colab": {
     "base_uri": "https://localhost:8080/"
    },
    "id": "o9hGjljH11je",
    "outputId": "352477ef-295b-4a9f-ca84-bbb7dc3f47f1"
   },
   "execution_count": null,
   "outputs": [
    {
     "output_type": "stream",
     "name": "stderr",
     "text": [
      "878it [01:48,  8.10it/s]"
     ]
    },
    {
     "output_type": "stream",
     "name": "stdout",
     "text": [
      "test loss: 1.12270584, accuracy: 77.62314920\n"
     ]
    },
    {
     "output_type": "stream",
     "name": "stderr",
     "text": [
      "\n"
     ]
    }
   ]
  },
  {
   "cell_type": "code",
   "execution_count": null,
   "outputs": [
    {
     "output_type": "stream",
     "name": "stderr",
     "text": [
      "Downloading: \"https://download.pytorch.org/models/densenet121-a639ec97.pth\" to /root/.cache/torch/hub/checkpoints/densenet121-a639ec97.pth\n"
     ]
    },
    {
     "output_type": "display_data",
     "data": {
      "text/plain": [
       "  0%|          | 0.00/30.8M [00:00<?, ?B/s]"
      ],
      "application/vnd.jupyter.widget-view+json": {
       "version_major": 2,
       "version_minor": 0,
       "model_id": "c3e0847a20454dbbacc5453545c51962"
      }
     },
     "metadata": {}
    },
    {
     "output_type": "stream",
     "name": "stdout",
     "text": [
      "Number of model parameters:  7978856\n",
      "Number of trainable parameters:  7978856\n"
     ]
    }
   ],
   "source": [
    "densenet121_pretrained = models.densenet121(pretrained=True)\n",
    "\n",
    "# for param in densenet121_pretrained.parameters():\n",
    "  # param.requires_grad = False\n",
    "\n",
    "check_model_parameters(densenet121_pretrained, display_layers=False)\n"
   ],
   "metadata": {
    "pycharm": {
     "name": "#%%\n"
    },
    "colab": {
     "base_uri": "https://localhost:8080/",
     "height": 104,
     "referenced_widgets": [
      "c3e0847a20454dbbacc5453545c51962",
      "eb039b20100e4ef29207d8424aebf94a",
      "2ed05db58824409d942251bb07104eed",
      "eb34afade1de4874a4c748c9cf350335",
      "cdf1fd0430bb4bc6a6c817e16dae1414",
      "80767a4548ea438dbaa21c1553587d3a",
      "8cfdc4b444704d2e87f577af8a60fa2b",
      "cb5f2d83a39545c3ae2fb4eb6b7a8472",
      "cfd71611327549ff9d90642a72615b71",
      "36c0d5fdddab47d1a7000d997228b477",
      "8df7a5b9efb4440591bdcd961a081eb6"
     ]
    },
    "id": "TNz_hqLIhofc",
    "outputId": "41d50a38-36e6-4b20-b907-8ebd399d0743"
   }
  },
  {
   "cell_type": "code",
   "execution_count": null,
   "outputs": [
    {
     "output_type": "stream",
     "name": "stdout",
     "text": [
      "Number of model parameters:  6955906\n",
      "Number of trainable parameters:  6955906\n"
     ]
    }
   ],
   "source": [
    "\n",
    "densenet121_pretrained.classifier = nn.Linear(in_features=1024, out_features=2, bias=True)\n",
    "check_model_parameters(densenet121_pretrained, display_layers=False)"
   ],
   "metadata": {
    "pycharm": {
     "name": "#%%\n"
    },
    "colab": {
     "base_uri": "https://localhost:8080/"
    },
    "id": "igxeBmx2hofd",
    "outputId": "0fd46759-c0dc-4c2d-b46a-a4ca0f726ef1"
   }
  },
  {
   "cell_type": "code",
   "execution_count": null,
   "outputs": [
    {
     "output_type": "stream",
     "name": "stderr",
     "text": [
      "3119it [15:59,  3.25it/s]\n",
      "347it [00:48,  7.20it/s]\n"
     ]
    },
    {
     "output_type": "stream",
     "name": "stdout",
     "text": [
      "\n",
      "Epoch 1\n",
      "train loss: 0.08947193, accuracy: 96.96717698\n",
      "id_val loss: 0.04903783, accuracy: 98.27089337\n"
     ]
    },
    {
     "output_type": "stream",
     "name": "stderr",
     "text": [
      "3119it [15:52,  3.28it/s]\n",
      "347it [00:47,  7.36it/s]\n"
     ]
    },
    {
     "output_type": "stream",
     "name": "stdout",
     "text": [
      "\n",
      "Epoch 2\n",
      "train loss: 0.04349755, accuracy: 98.54520680\n",
      "id_val loss: 0.03753684, accuracy: 98.72118156\n"
     ]
    },
    {
     "output_type": "stream",
     "name": "stderr",
     "text": [
      "3119it [15:50,  3.28it/s]\n",
      "347it [00:47,  7.33it/s]\n"
     ]
    },
    {
     "output_type": "stream",
     "name": "stdout",
     "text": [
      "\n",
      "Epoch 3\n",
      "train loss: 0.03116413, accuracy: 98.91276966\n",
      "id_val loss: 0.03892054, accuracy: 98.68515850\n"
     ]
    },
    {
     "output_type": "stream",
     "name": "stderr",
     "text": [
      "3119it [15:50,  3.28it/s]\n",
      "347it [00:46,  7.48it/s]\n"
     ]
    },
    {
     "output_type": "stream",
     "name": "stdout",
     "text": [
      "\n",
      "Epoch 4\n",
      "train loss: 0.02413429, accuracy: 99.13834562\n",
      "id_val loss: 0.04475565, accuracy: 98.57708934\n"
     ]
    },
    {
     "output_type": "stream",
     "name": "stderr",
     "text": [
      "3119it [15:48,  3.29it/s]\n",
      "347it [00:47,  7.32it/s]"
     ]
    },
    {
     "output_type": "stream",
     "name": "stdout",
     "text": [
      "\n",
      "Epoch 5\n",
      "train loss: 0.02237113, accuracy: 99.20547451\n",
      "id_val loss: 0.04431844, accuracy: 98.48703170\n"
     ]
    },
    {
     "output_type": "stream",
     "name": "stderr",
     "text": [
      "\n"
     ]
    }
   ],
   "source": [
    "densenet121_pretrained.to(device)\n",
    "\n",
    "# create a SGD optimizer\n",
    "optimizer = torch.optim.SGD(densenet121_pretrained.parameters(), lr=0.01, momentum=0.9)\n",
    "\n",
    "# set up loss function\n",
    "loss_criterion = nn.CrossEntropyLoss()\n",
    "\n",
    "# evaluate the initial model\n",
    "# val_loss, al_accuracy = eval_epoch(resnet18_pretrained, id_val_loader, loss_criterion, device)\n",
    "# print('Validation performance before finetuning -- loss: %10.8f, accuracy: %10.8f'%(val_loss, val_accuracy))\n",
    "\n",
    "# finetune the model\n",
    "train_losses = []\n",
    "train_accuracies = []\n",
    "val_losses = []\n",
    "val_accuracies = []\n",
    "id_val_losses = []\n",
    "id_val_accuracies = []\n",
    "\n",
    "for epoch in range(1, num_epochs+1):\n",
    "  train_loss, train_accuracy = train_epoch(densenet121_pretrained, train_loader, loss_criterion, optimizer, device)\n",
    "  val_loss, val_accuracy = eval_epoch(densenet121_pretrained, id_val_loader, loss_criterion, device)\n",
    "  train_losses.append(train_loss)\n",
    "  id_val_losses.append(val_loss)\n",
    "  train_accuracies.append(train_accuracy)\n",
    "  id_val_accuracies.append(val_accuracy)\n",
    "  print('\\nEpoch %d'%(epoch))\n",
    "  print('train loss: %10.8f, accuracy: %10.8f'%(train_loss, train_accuracy))\n",
    "  print('id_val loss: %10.8f, accuracy: %10.8f'%(val_loss, val_accuracy))\n"
   ],
   "metadata": {
    "pycharm": {
     "name": "#%%\n"
    },
    "colab": {
     "base_uri": "https://localhost:8080/"
    },
    "id": "nU5aLksBhofd",
    "outputId": "56834b6d-27c6-49fa-9196-7cb21ecdceb2"
   }
  },
  {
   "cell_type": "code",
   "execution_count": null,
   "outputs": [
    {
     "output_type": "stream",
     "name": "stderr",
     "text": [
      "360it [00:49,  7.26it/s]"
     ]
    },
    {
     "output_type": "stream",
     "name": "stdout",
     "text": [
      "val loss: 0.61660476, accuracy: 85.78125000\n"
     ]
    },
    {
     "output_type": "stream",
     "name": "stderr",
     "text": [
      "\n"
     ]
    }
   ],
   "source": [
    "run_eval_ood(densenet121_pretrained, val_loader, loss_criterion, device, \"val\")"
   ],
   "metadata": {
    "pycharm": {
     "name": "#%%\n"
    },
    "colab": {
     "base_uri": "https://localhost:8080/"
    },
    "id": "fKONpbBWhofe",
    "outputId": "b87be149-e8b5-4d31-c286-ff65ddbe97d6"
   }
  },
  {
   "cell_type": "code",
   "source": [
    "run_eval_ood(densenet121_pretrained, test_loader, loss_criterion, device, \"test\")"
   ],
   "metadata": {
    "colab": {
     "base_uri": "https://localhost:8080/"
    },
    "id": "BR2vwURB3FRI",
    "outputId": "beb65383-85d8-408a-9c0a-d40bd95c32f5"
   },
   "execution_count": null,
   "outputs": [
    {
     "output_type": "stream",
     "name": "stderr",
     "text": [
      "878it [02:00,  7.29it/s]"
     ]
    },
    {
     "output_type": "stream",
     "name": "stdout",
     "text": [
      "test loss: 0.91136280, accuracy: 79.53445330\n"
     ]
    },
    {
     "output_type": "stream",
     "name": "stderr",
     "text": [
      "\n"
     ]
    }
   ]
  },
  {
   "cell_type": "code",
   "execution_count": null,
   "outputs": [],
   "source": [
    "torch.save(resnet18_pretrained.state_dict(), \"resnet18_pretrained.pt\")"
   ],
   "metadata": {
    "pycharm": {
     "name": "#%%\n"
    },
    "id": "LH3Ra_hnhofe"
   }
  },
  {
   "cell_type": "code",
   "execution_count": null,
   "outputs": [],
   "source": [
    "torch.save(densenet121_pretrained.state_dict(), \"densenet121_pretrained.pt\")"
   ],
   "metadata": {
    "pycharm": {
     "name": "#%%\n"
    },
    "id": "Kfu2kIaZhofe"
   }
  },
  {
   "cell_type": "code",
   "execution_count": null,
   "outputs": [
    {
     "output_type": "stream",
     "name": "stderr",
     "text": [
      "Downloading: \"https://download.pytorch.org/models/resnext50_32x4d-7cdf4587.pth\" to /root/.cache/torch/hub/checkpoints/resnext50_32x4d-7cdf4587.pth\n"
     ]
    },
    {
     "output_type": "display_data",
     "data": {
      "text/plain": [
       "  0%|          | 0.00/95.8M [00:00<?, ?B/s]"
      ],
      "application/vnd.jupyter.widget-view+json": {
       "version_major": 2,
       "version_minor": 0,
       "model_id": "de74266d3a9448ef92346f7356e686d5"
      }
     },
     "metadata": {}
    },
    {
     "output_type": "stream",
     "name": "stderr",
     "text": [
      "3119it [17:44,  2.93it/s]\n",
      "347it [00:43,  7.91it/s]\n"
     ]
    },
    {
     "output_type": "stream",
     "name": "stdout",
     "text": [
      "\n",
      "Epoch 1\n",
      "train loss: 0.08606202, accuracy: 97.03115696\n",
      "id_val loss: 0.05096113, accuracy: 98.17182997\n"
     ]
    },
    {
     "output_type": "stream",
     "name": "stderr",
     "text": [
      "3119it [17:43,  2.93it/s]\n",
      "347it [00:43,  7.97it/s]\n"
     ]
    },
    {
     "output_type": "stream",
     "name": "stdout",
     "text": [
      "\n",
      "Epoch 2\n",
      "train loss: 0.04139754, accuracy: 98.60331837\n",
      "id_val loss: 0.04422498, accuracy: 98.54106628\n"
     ]
    },
    {
     "output_type": "stream",
     "name": "stderr",
     "text": [
      "3119it [17:42,  2.94it/s]\n",
      "347it [00:43,  7.94it/s]\n"
     ]
    },
    {
     "output_type": "stream",
     "name": "stdout",
     "text": [
      "\n",
      "Epoch 3\n",
      "train loss: 0.02918555, accuracy: 98.98104360\n",
      "id_val loss: 0.03763097, accuracy: 98.68515850\n"
     ]
    },
    {
     "output_type": "stream",
     "name": "stderr",
     "text": [
      "3119it [17:42,  2.93it/s]\n",
      "347it [00:44,  7.88it/s]\n"
     ]
    },
    {
     "output_type": "stream",
     "name": "stdout",
     "text": [
      "\n",
      "Epoch 4\n",
      "train loss: 0.02205006, accuracy: 99.21048413\n",
      "id_val loss: 0.03875422, accuracy: 98.63112392\n"
     ]
    },
    {
     "output_type": "stream",
     "name": "stderr",
     "text": [
      "3119it [17:44,  2.93it/s]\n",
      "347it [00:43,  7.97it/s]"
     ]
    },
    {
     "output_type": "stream",
     "name": "stdout",
     "text": [
      "\n",
      "Epoch 5\n",
      "train loss: 0.01629151, accuracy: 99.41788233\n",
      "id_val loss: 0.04178602, accuracy: 98.77521614\n"
     ]
    },
    {
     "output_type": "stream",
     "name": "stderr",
     "text": [
      "\n"
     ]
    }
   ],
   "source": [
    "resnetxt50_pretrained = models.resnext50_32x4d(pretrained=True)\n",
    "\n",
    "# freeze all the layers\n",
    "# for param in resnetxt50_pretrained.parameters():\n",
    "  # param.requires_grad = False\n",
    "\n",
    "resnetxt50_pretrained.fc = nn.Linear(in_features=2048, out_features=2, bias=True)\n",
    "\n",
    "resnetxt50_pretrained.to(device)\n",
    "\n",
    "# create a SGD optimizer\n",
    "optimizer = torch.optim.SGD(resnetxt50_pretrained.parameters(), lr=0.01, momentum=0.9)\n",
    "\n",
    "# set up loss function\n",
    "loss_criterion = nn.CrossEntropyLoss()\n",
    "\n",
    "\n",
    "# finetune the model\n",
    "train_losses = []\n",
    "train_accuracies = []\n",
    "id_val_losses = []\n",
    "id_val_accuracies = []\n",
    "for epoch in range(1, num_epochs+1):\n",
    "  train_loss, train_accuracy = train_epoch(resnetxt50_pretrained, train_loader, loss_criterion, optimizer, device)\n",
    "  val_loss, val_accuracy = eval_epoch(resnetxt50_pretrained, id_val_loader, loss_criterion, device)\n",
    "  train_losses.append(train_loss)\n",
    "  id_val_losses.append(val_loss)\n",
    "  train_accuracies.append(train_accuracy)\n",
    "  id_val_accuracies.append(val_accuracy)\n",
    "  print('\\nEpoch %d'%(epoch))\n",
    "  print('train loss: %10.8f, accuracy: %10.8f'%(train_loss, train_accuracy))\n",
    "  print('id_val loss: %10.8f, accuracy: %10.8f'%(val_loss, val_accuracy))\n"
   ],
   "metadata": {
    "pycharm": {
     "name": "#%%\n"
    },
    "colab": {
     "base_uri": "https://localhost:8080/",
     "height": 618,
     "referenced_widgets": [
      "de74266d3a9448ef92346f7356e686d5",
      "5bd0c847f5404d1397b3a93a2eb1f239",
      "f1f55693bbfa41caa088acdc7e65a526",
      "732ce57f84c64aada0149836c44cdf7d",
      "e8eea1a7d6014cb0aefc5558029a86aa",
      "3b024a857fb84b8dbcab65c61ed23b3d",
      "d7bc235338f34f06bdc0e7674d886c23",
      "bc112e6096fb49fe91c69417f6f87454",
      "66f12d129ec94068afb595716f70c2cf",
      "4c9692ae12474ac3bce41d2a71c09150",
      "578bf27afb384aaebf272d6eb51a294f"
     ]
    },
    "id": "N-spuoIyhofe",
    "outputId": "c01af7f8-3e4c-49b0-ecb4-54517b1f9dd4"
   }
  },
  {
   "cell_type": "code",
   "source": [
    "run_eval_ood(resnetxt50_pretrained, val_loader, loss_criterion, device, \"val\")"
   ],
   "metadata": {
    "colab": {
     "base_uri": "https://localhost:8080/"
    },
    "id": "WqrwywFa_AbA",
    "outputId": "e0027e04-ca22-46ff-f3ff-cca32bfbb08d"
   },
   "execution_count": null,
   "outputs": [
    {
     "output_type": "stream",
     "name": "stderr",
     "text": [
      "360it [00:45,  7.89it/s]"
     ]
    },
    {
     "output_type": "stream",
     "name": "stdout",
     "text": [
      "val loss: 0.40985703, accuracy: 87.87210650\n"
     ]
    },
    {
     "output_type": "stream",
     "name": "stderr",
     "text": [
      "\n"
     ]
    }
   ]
  },
  {
   "cell_type": "code",
   "source": [
    "run_eval_ood(resnetxt50_pretrained, test_loader, loss_criterion, device, \"test\")"
   ],
   "metadata": {
    "colab": {
     "base_uri": "https://localhost:8080/"
    },
    "id": "c9GAxnmI_BMv",
    "outputId": "4e08b416-1790-4e8e-e89e-a57eb77c2d5b"
   },
   "execution_count": null,
   "outputs": [
    {
     "output_type": "stream",
     "name": "stderr",
     "text": [
      "878it [01:51,  7.87it/s]"
     ]
    },
    {
     "output_type": "stream",
     "name": "stdout",
     "text": [
      "test loss: 1.72625949, accuracy: 72.21668565\n"
     ]
    },
    {
     "output_type": "stream",
     "name": "stderr",
     "text": [
      "\n"
     ]
    }
   ]
  },
  {
   "cell_type": "code",
   "source": [
    "torch.save(densenet121_pretrained.state_dict(), \"resnetxt50_pretrained.pt\")"
   ],
   "metadata": {
    "id": "5zmE54z4_GfQ"
   },
   "execution_count": null,
   "outputs": []
  },
  {
   "cell_type": "code",
   "source": [
    "resnet18_pretrained.load_state_dict(torch.load(\"resnet18_pretrained_all_grad.pt\"))"
   ],
   "metadata": {
    "colab": {
     "base_uri": "https://localhost:8080/"
    },
    "id": "rOnr94Jds63B",
    "outputId": "1041fc3e-c93f-4826-d1cd-5be812a1616c"
   },
   "execution_count": 25,
   "outputs": [
    {
     "data": {
      "text/plain": "<All keys matched successfully>"
     },
     "execution_count": 25,
     "metadata": {},
     "output_type": "execute_result"
    }
   ]
  },
  {
   "cell_type": "code",
   "source": [
    "\"\"\"\n",
    "Rupere cap de clasificare si calculare distanta l2 si cos medie intre ood si iid\n",
    "\"\"\"\n",
    "\n",
    "# putem sa folosim labels atunci cand facem distanta? (i.e. distanta intra-clasa sau inter-clasa)\n",
    "\n",
    "def calc_dist_iid(model, dataloader, metric=\"l2\"):\n",
    "    modules = list(model.children())[:-1]\n",
    "    # print(modules)\n",
    "    model = nn.Sequential(*modules)\n",
    "    average_dist_iid = [[], []]\n",
    "    model.eval()\n",
    "\n",
    "    with torch.no_grad():\n",
    "        for batch_idx, batch in tqdm(enumerate(dataloader)):\n",
    "            batch_img, batch_labels, _ = batch\n",
    "\n",
    "            batch_img = batch_img.to(device)\n",
    "            batch_labels = batch_labels.to(device)\n",
    "\n",
    "            output = model(batch_img)\n",
    "            output = output.reshape(batch_img.shape[0], -1)\n",
    "             #if batch_idx == 0:\n",
    "                # print(output.shape)\n",
    "\n",
    "            for idx_img_1 in range(batch_img.shape[0] - 1):\n",
    "                for idx_img_2 in range(idx_img_1 + 1, batch_img.shape[0]):\n",
    "\n",
    "                    if batch_labels[idx_img_1] == batch_labels[idx_img_2]:\n",
    "                        if metric == \"l2\":\n",
    "                            dist = torch.nn.functional.pairwise_distance(output[idx_img_1], output[idx_img_2])\n",
    "                        elif metric == \"cos\":\n",
    "                            cos = nn.CosineSimilarity(dim=1, eps=1e-6)\n",
    "                            dist = cos(output[idx_img_1].reshape(1, -1), output[idx_img_2].reshape(1, -1))\n",
    "                        elif metric == \"mink\":\n",
    "                            dist = torch.cdist(output[idx_img_1].reshape(1, -1), output[idx_img_2].reshape(1, -1), p=3)\n",
    "                        # dist = (output[idx_img_1] - output[idx_img_2]).pow(2).sum(0).sqrt()\n",
    "                        average_dist_iid[batch_labels[idx_img_1]].append(dist.item())\n",
    "\n",
    "    return average_dist_iid\n",
    "\n",
    "def calc_dist(model, dataloader, x, y, metric=\"l2\"): # x-> image to be decided if iid or ood, y-> label\n",
    "    modules = list(model.children())[:-1]\n",
    "    model = nn.Sequential(*modules)\n",
    "    average_dist = 0\n",
    "    count_labels = 0\n",
    "    model.eval()\n",
    "    num_batches = len(dataloader)\n",
    "    # x, y, _ = img\n",
    "    print(y)\n",
    "    x = x.to(device)\n",
    "    y = y.to(device)\n",
    "    with torch.no_grad():\n",
    "        x_shape = list(x.shape)\n",
    "        x = x.reshape(1, x_shape[0], x_shape[1], x_shape[2])\n",
    "\n",
    "        output_x = model(x)\n",
    "        output_x = output_x.reshape(1, -1)\n",
    "        for batch_idx, batch in tqdm(enumerate(dataloader)):\n",
    "            batch_img, batch_labels, _ = batch\n",
    "\n",
    "            batch_img = batch_img.to(device)\n",
    "            batch_labels = batch_labels.to(device)\n",
    "\n",
    "            output = model(batch_img)\n",
    "            output = output.reshape(batch_img.shape[0], -1)\n",
    "            # if batch_idx == 0:\n",
    "                # print(output.shape)\n",
    "\n",
    "            for idx_img_1 in range(batch_img.shape[0]):\n",
    "\n",
    "                if batch_labels[idx_img_1] == y:\n",
    "\n",
    "                    if metric == \"l2\":\n",
    "                        dist = torch.nn.functional.pairwise_distance(output[idx_img_1], output_x)\n",
    "                    elif metric == \"cos\":\n",
    "                        cos = nn.CosineSimilarity(dim=1, eps=1e-6)\n",
    "                        dist = cos(output[idx_img_1].reshape(1, -1), output_x.reshape(1, -1))\n",
    "                    elif metric == \"mink\":\n",
    "                        dist = torch.cdist(output[idx_img_1].reshape(1, -1), output_x.reshape(1, -1), p=3)\n",
    "                    average_dist += dist.item()\n",
    "                    count_labels += 1\n",
    "\n",
    "    return average_dist / count_labels\n"
   ],
   "metadata": {
    "id": "BnhSFP03vCeP"
   },
   "execution_count": 53,
   "outputs": []
  },
  {
   "cell_type": "code",
   "execution_count": 32,
   "outputs": [],
   "source": [
    "import numpy as np\n",
    "def calc_mean_std(arr):\n",
    "    arr = np.asarray(arr)\n",
    "    return arr.mean(), arr.std()\n"
   ],
   "metadata": {
    "collapsed": false,
    "pycharm": {
     "name": "#%%\n"
    }
   }
  },
  {
   "cell_type": "code",
   "source": [
    "dist_iid = calc_dist_iid(resnet18_pretrained, id_val_loader)\n",
    "print(calc_mean_std(dist_iid[0]))\n",
    "print(calc_mean_std(dist_iid[1]))"
   ],
   "metadata": {
    "colab": {
     "base_uri": "https://localhost:8080/"
    },
    "id": "jjRsiDDGtY7r",
    "outputId": "267dea7d-8995-41d4-9d72-e759dc33801d"
   },
   "execution_count": 41,
   "outputs": [
    {
     "name": "stderr",
     "output_type": "stream",
     "text": [
      "347it [00:36,  9.55it/s]"
     ]
    },
    {
     "name": "stdout",
     "output_type": "stream",
     "text": [
      "(7.966576247082313, 4.114453328341953)\n",
      "(49.825562248387, 43.42303952766147)\n"
     ]
    },
    {
     "name": "stderr",
     "output_type": "stream",
     "text": [
      "\n"
     ]
    }
   ]
  },
  {
   "cell_type": "code",
   "source": [
    "dist_iid_cos = calc_dist_iid(resnet18_pretrained, id_val_loader, \"cos\")\n",
    "print(calc_mean_std(dist_iid_cos[0]))\n",
    "print(calc_mean_std(dist_iid_cos[1]))"
   ],
   "metadata": {
    "colab": {
     "base_uri": "https://localhost:8080/"
    },
    "id": "PzZ3ikWi8jrW",
    "outputId": "256a233c-f5d5-4911-8363-09f13121b156"
   },
   "execution_count": 42,
   "outputs": [
    {
     "name": "stderr",
     "output_type": "stream",
     "text": [
      "347it [00:51,  6.73it/s]"
     ]
    },
    {
     "name": "stdout",
     "output_type": "stream",
     "text": [
      "(0.7919799049652289, 0.1680152192808706)\n",
      "(0.7590619617230417, 0.17710607193633654)\n"
     ]
    },
    {
     "name": "stderr",
     "output_type": "stream",
     "text": [
      "\n"
     ]
    }
   ]
  },
  {
   "cell_type": "code",
   "source": [
    "dist_l2_1_ood=[]\n",
    "batch_data, batch_labels, _ = next(iter(val_loader))\n",
    "for idx in range(len(batch_labels)):\n",
    "    dist_l2_1_ood.append(calc_dist(resnet18_pretrained, id_val_loader, batch_data[idx], batch_labels[idx]))\n",
    "print(dist_l2_1_ood)"
   ],
   "metadata": {
    "colab": {
     "base_uri": "https://localhost:8080/"
    },
    "id": "d12q3KQgwkwk",
    "outputId": "3fc040d3-8338-4600-a669-6a0f25f9ab52"
   },
   "execution_count": 29,
   "outputs": [
    {
     "name": "stdout",
     "output_type": "stream",
     "text": [
      "tensor(1)\n"
     ]
    },
    {
     "name": "stderr",
     "output_type": "stream",
     "text": [
      "347it [02:26,  2.36it/s]\n"
     ]
    },
    {
     "name": "stdout",
     "output_type": "stream",
     "text": [
      "tensor(1)\n"
     ]
    },
    {
     "name": "stderr",
     "output_type": "stream",
     "text": [
      "347it [00:19, 17.44it/s]\n"
     ]
    },
    {
     "name": "stdout",
     "output_type": "stream",
     "text": [
      "tensor(1)\n"
     ]
    },
    {
     "name": "stderr",
     "output_type": "stream",
     "text": [
      "347it [00:20, 16.61it/s]\n"
     ]
    },
    {
     "name": "stdout",
     "output_type": "stream",
     "text": [
      "tensor(1)\n"
     ]
    },
    {
     "name": "stderr",
     "output_type": "stream",
     "text": [
      "347it [00:19, 17.43it/s]\n"
     ]
    },
    {
     "name": "stdout",
     "output_type": "stream",
     "text": [
      "tensor(1)\n"
     ]
    },
    {
     "name": "stderr",
     "output_type": "stream",
     "text": [
      "347it [00:19, 17.98it/s]\n"
     ]
    },
    {
     "name": "stdout",
     "output_type": "stream",
     "text": [
      "tensor(1)\n"
     ]
    },
    {
     "name": "stderr",
     "output_type": "stream",
     "text": [
      "347it [00:19, 17.84it/s]\n"
     ]
    },
    {
     "name": "stdout",
     "output_type": "stream",
     "text": [
      "tensor(1)\n"
     ]
    },
    {
     "name": "stderr",
     "output_type": "stream",
     "text": [
      "347it [00:19, 17.63it/s]\n"
     ]
    },
    {
     "name": "stdout",
     "output_type": "stream",
     "text": [
      "tensor(1)\n"
     ]
    },
    {
     "name": "stderr",
     "output_type": "stream",
     "text": [
      "347it [00:19, 17.89it/s]\n"
     ]
    },
    {
     "name": "stdout",
     "output_type": "stream",
     "text": [
      "tensor(1)\n"
     ]
    },
    {
     "name": "stderr",
     "output_type": "stream",
     "text": [
      "347it [00:19, 17.67it/s]\n"
     ]
    },
    {
     "name": "stdout",
     "output_type": "stream",
     "text": [
      "tensor(1)\n"
     ]
    },
    {
     "name": "stderr",
     "output_type": "stream",
     "text": [
      "347it [00:20, 17.10it/s]\n"
     ]
    },
    {
     "name": "stdout",
     "output_type": "stream",
     "text": [
      "tensor(1)\n"
     ]
    },
    {
     "name": "stderr",
     "output_type": "stream",
     "text": [
      "347it [00:21, 16.32it/s]\n"
     ]
    },
    {
     "name": "stdout",
     "output_type": "stream",
     "text": [
      "tensor(1)\n"
     ]
    },
    {
     "name": "stderr",
     "output_type": "stream",
     "text": [
      "347it [00:19, 17.70it/s]\n"
     ]
    },
    {
     "name": "stdout",
     "output_type": "stream",
     "text": [
      "tensor(1)\n"
     ]
    },
    {
     "name": "stderr",
     "output_type": "stream",
     "text": [
      "347it [00:19, 17.75it/s]\n"
     ]
    },
    {
     "name": "stdout",
     "output_type": "stream",
     "text": [
      "tensor(1)\n"
     ]
    },
    {
     "name": "stderr",
     "output_type": "stream",
     "text": [
      "347it [00:20, 16.93it/s]\n"
     ]
    },
    {
     "name": "stdout",
     "output_type": "stream",
     "text": [
      "tensor(1)\n"
     ]
    },
    {
     "name": "stderr",
     "output_type": "stream",
     "text": [
      "347it [00:20, 16.93it/s]\n"
     ]
    },
    {
     "name": "stdout",
     "output_type": "stream",
     "text": [
      "tensor(1)\n"
     ]
    },
    {
     "name": "stderr",
     "output_type": "stream",
     "text": [
      "347it [00:20, 17.06it/s]\n"
     ]
    },
    {
     "name": "stdout",
     "output_type": "stream",
     "text": [
      "tensor(1)\n"
     ]
    },
    {
     "name": "stderr",
     "output_type": "stream",
     "text": [
      "347it [00:20, 16.60it/s]\n"
     ]
    },
    {
     "name": "stdout",
     "output_type": "stream",
     "text": [
      "tensor(1)\n"
     ]
    },
    {
     "name": "stderr",
     "output_type": "stream",
     "text": [
      "347it [00:20, 16.82it/s]\n"
     ]
    },
    {
     "name": "stdout",
     "output_type": "stream",
     "text": [
      "tensor(1)\n"
     ]
    },
    {
     "name": "stderr",
     "output_type": "stream",
     "text": [
      "347it [00:20, 17.10it/s]\n"
     ]
    },
    {
     "name": "stdout",
     "output_type": "stream",
     "text": [
      "tensor(1)\n"
     ]
    },
    {
     "name": "stderr",
     "output_type": "stream",
     "text": [
      "347it [00:20, 16.81it/s]\n"
     ]
    },
    {
     "name": "stdout",
     "output_type": "stream",
     "text": [
      "tensor(1)\n"
     ]
    },
    {
     "name": "stderr",
     "output_type": "stream",
     "text": [
      "347it [00:20, 17.22it/s]\n"
     ]
    },
    {
     "name": "stdout",
     "output_type": "stream",
     "text": [
      "tensor(1)\n"
     ]
    },
    {
     "name": "stderr",
     "output_type": "stream",
     "text": [
      "347it [00:20, 16.87it/s]\n"
     ]
    },
    {
     "name": "stdout",
     "output_type": "stream",
     "text": [
      "tensor(1)\n"
     ]
    },
    {
     "name": "stderr",
     "output_type": "stream",
     "text": [
      "347it [00:21, 16.45it/s]\n"
     ]
    },
    {
     "name": "stdout",
     "output_type": "stream",
     "text": [
      "tensor(1)\n"
     ]
    },
    {
     "name": "stderr",
     "output_type": "stream",
     "text": [
      "347it [00:20, 16.95it/s]\n"
     ]
    },
    {
     "name": "stdout",
     "output_type": "stream",
     "text": [
      "tensor(1)\n"
     ]
    },
    {
     "name": "stderr",
     "output_type": "stream",
     "text": [
      "347it [00:20, 17.04it/s]\n"
     ]
    },
    {
     "name": "stdout",
     "output_type": "stream",
     "text": [
      "tensor(1)\n"
     ]
    },
    {
     "name": "stderr",
     "output_type": "stream",
     "text": [
      "347it [00:20, 16.59it/s]\n"
     ]
    },
    {
     "name": "stdout",
     "output_type": "stream",
     "text": [
      "tensor(1)\n"
     ]
    },
    {
     "name": "stderr",
     "output_type": "stream",
     "text": [
      "347it [00:20, 16.94it/s]\n"
     ]
    },
    {
     "name": "stdout",
     "output_type": "stream",
     "text": [
      "tensor(1)\n"
     ]
    },
    {
     "name": "stderr",
     "output_type": "stream",
     "text": [
      "347it [00:20, 16.85it/s]\n"
     ]
    },
    {
     "name": "stdout",
     "output_type": "stream",
     "text": [
      "tensor(1)\n"
     ]
    },
    {
     "name": "stderr",
     "output_type": "stream",
     "text": [
      "347it [00:20, 16.82it/s]\n"
     ]
    },
    {
     "name": "stdout",
     "output_type": "stream",
     "text": [
      "tensor(1)\n"
     ]
    },
    {
     "name": "stderr",
     "output_type": "stream",
     "text": [
      "347it [00:21, 16.51it/s]\n"
     ]
    },
    {
     "name": "stdout",
     "output_type": "stream",
     "text": [
      "tensor(1)\n"
     ]
    },
    {
     "name": "stderr",
     "output_type": "stream",
     "text": [
      "347it [00:20, 17.24it/s]\n"
     ]
    },
    {
     "name": "stdout",
     "output_type": "stream",
     "text": [
      "tensor(1)\n"
     ]
    },
    {
     "name": "stderr",
     "output_type": "stream",
     "text": [
      "347it [00:20, 17.09it/s]"
     ]
    },
    {
     "name": "stdout",
     "output_type": "stream",
     "text": [
      "[48.12580185434881, 47.122555061491404, 48.19732158671518, 48.86843590476756, 48.42316879562676, 47.934727400982375, 48.40140213387857, 48.42589491071027, 48.27477378906638, 48.52999814776862, 48.29174712005708, 47.49868544503276, 48.155919726056545, 47.84677312140183, 47.84191508635555, 47.56111748240753, 48.35410220488408, 48.08161313120373, 48.19475751959513, 48.26106034572395, 48.26563705590794, 47.97635042360272, 48.096771982324725, 48.392889665507454, 48.68382668782692, 48.70096763753377, 48.47466665370229, 48.63761319091284, 46.8111308097578, 48.53838990197721, 48.394299754054416, 48.298474198522065]\n"
     ]
    },
    {
     "name": "stderr",
     "output_type": "stream",
     "text": [
      "\n"
     ]
    },
    {
     "ename": "NameError",
     "evalue": "name 'calc_mean_std' is not defined",
     "output_type": "error",
     "traceback": [
      "\u001B[0;31m---------------------------------------------------------------------------\u001B[0m",
      "\u001B[0;31mNameError\u001B[0m                                 Traceback (most recent call last)",
      "Input \u001B[0;32mIn [29]\u001B[0m, in \u001B[0;36m<module>\u001B[0;34m\u001B[0m\n\u001B[1;32m      4\u001B[0m     dist_l2_1_ood\u001B[38;5;241m.\u001B[39mappend(calc_dist(resnet18_pretrained, id_val_loader, batch_data[idx], batch_labels[idx]))\n\u001B[1;32m      5\u001B[0m \u001B[38;5;28mprint\u001B[39m(dist_l2_1_ood)\n\u001B[0;32m----> 6\u001B[0m \u001B[38;5;28mprint\u001B[39m(\u001B[43mcalc_mean_std\u001B[49m(dist_l2_1_ood))\n",
      "\u001B[0;31mNameError\u001B[0m: name 'calc_mean_std' is not defined"
     ]
    }
   ]
  },
  {
   "cell_type": "code",
   "execution_count": 33,
   "outputs": [
    {
     "name": "stdout",
     "output_type": "stream",
     "text": [
      "(48.176962147803266, 0.435619998337812)\n"
     ]
    }
   ],
   "source": [
    "print(calc_mean_std(dist_l2_1_ood))\n"
   ],
   "metadata": {
    "collapsed": false,
    "pycharm": {
     "name": "#%%\n"
    }
   }
  },
  {
   "cell_type": "code",
   "execution_count": 34,
   "outputs": [
    {
     "name": "stderr",
     "output_type": "stream",
     "text": [
      "201it [01:41,  1.99it/s]\n"
     ]
    }
   ],
   "source": [
    "\n",
    "for batch_idx, batch in tqdm(enumerate(val_loader)):\n",
    "    if batch_idx > 200:\n",
    "        batch_data, batch_labels, _ = batch\n",
    "        break\n"
   ],
   "metadata": {
    "collapsed": false,
    "pycharm": {
     "name": "#%%\n"
    }
   }
  },
  {
   "cell_type": "code",
   "execution_count": 35,
   "outputs": [
    {
     "name": "stdout",
     "output_type": "stream",
     "text": [
      "tensor(0)\n"
     ]
    },
    {
     "name": "stderr",
     "output_type": "stream",
     "text": [
      "347it [01:38,  3.53it/s]\n"
     ]
    },
    {
     "name": "stdout",
     "output_type": "stream",
     "text": [
      "tensor(0)\n"
     ]
    },
    {
     "name": "stderr",
     "output_type": "stream",
     "text": [
      "347it [00:19, 17.87it/s]\n"
     ]
    },
    {
     "name": "stdout",
     "output_type": "stream",
     "text": [
      "tensor(0)\n"
     ]
    },
    {
     "name": "stderr",
     "output_type": "stream",
     "text": [
      "347it [00:19, 17.80it/s]\n"
     ]
    },
    {
     "name": "stdout",
     "output_type": "stream",
     "text": [
      "tensor(0)\n"
     ]
    },
    {
     "name": "stderr",
     "output_type": "stream",
     "text": [
      "347it [00:19, 17.83it/s]\n"
     ]
    },
    {
     "name": "stdout",
     "output_type": "stream",
     "text": [
      "tensor(0)\n"
     ]
    },
    {
     "name": "stderr",
     "output_type": "stream",
     "text": [
      "347it [00:19, 17.97it/s]\n"
     ]
    },
    {
     "name": "stdout",
     "output_type": "stream",
     "text": [
      "tensor(0)\n"
     ]
    },
    {
     "name": "stderr",
     "output_type": "stream",
     "text": [
      "347it [00:19, 17.39it/s]\n"
     ]
    },
    {
     "name": "stdout",
     "output_type": "stream",
     "text": [
      "tensor(0)\n"
     ]
    },
    {
     "name": "stderr",
     "output_type": "stream",
     "text": [
      "347it [00:19, 17.76it/s]\n"
     ]
    },
    {
     "name": "stdout",
     "output_type": "stream",
     "text": [
      "tensor(0)\n"
     ]
    },
    {
     "name": "stderr",
     "output_type": "stream",
     "text": [
      "347it [00:19, 17.59it/s]\n"
     ]
    },
    {
     "name": "stdout",
     "output_type": "stream",
     "text": [
      "tensor(0)\n"
     ]
    },
    {
     "name": "stderr",
     "output_type": "stream",
     "text": [
      "347it [00:20, 16.90it/s]\n"
     ]
    },
    {
     "name": "stdout",
     "output_type": "stream",
     "text": [
      "tensor(0)\n"
     ]
    },
    {
     "name": "stderr",
     "output_type": "stream",
     "text": [
      "347it [00:20, 16.88it/s]\n"
     ]
    },
    {
     "name": "stdout",
     "output_type": "stream",
     "text": [
      "tensor(0)\n"
     ]
    },
    {
     "name": "stderr",
     "output_type": "stream",
     "text": [
      "347it [00:20, 16.87it/s]\n"
     ]
    },
    {
     "name": "stdout",
     "output_type": "stream",
     "text": [
      "tensor(0)\n"
     ]
    },
    {
     "name": "stderr",
     "output_type": "stream",
     "text": [
      "347it [00:21, 16.44it/s]\n"
     ]
    },
    {
     "name": "stdout",
     "output_type": "stream",
     "text": [
      "tensor(0)\n"
     ]
    },
    {
     "name": "stderr",
     "output_type": "stream",
     "text": [
      "347it [00:21, 15.84it/s]\n"
     ]
    },
    {
     "name": "stdout",
     "output_type": "stream",
     "text": [
      "tensor(0)\n"
     ]
    },
    {
     "name": "stderr",
     "output_type": "stream",
     "text": [
      "347it [00:19, 17.57it/s]\n"
     ]
    },
    {
     "name": "stdout",
     "output_type": "stream",
     "text": [
      "tensor(0)\n"
     ]
    },
    {
     "name": "stderr",
     "output_type": "stream",
     "text": [
      "347it [00:20, 16.95it/s]\n"
     ]
    },
    {
     "name": "stdout",
     "output_type": "stream",
     "text": [
      "tensor(0)\n"
     ]
    },
    {
     "name": "stderr",
     "output_type": "stream",
     "text": [
      "347it [00:22, 15.48it/s]\n"
     ]
    },
    {
     "name": "stdout",
     "output_type": "stream",
     "text": [
      "tensor(0)\n"
     ]
    },
    {
     "name": "stderr",
     "output_type": "stream",
     "text": [
      "347it [00:20, 16.62it/s]\n"
     ]
    },
    {
     "name": "stdout",
     "output_type": "stream",
     "text": [
      "tensor(0)\n"
     ]
    },
    {
     "name": "stderr",
     "output_type": "stream",
     "text": [
      "347it [00:21, 16.25it/s]\n"
     ]
    },
    {
     "name": "stdout",
     "output_type": "stream",
     "text": [
      "tensor(0)\n"
     ]
    },
    {
     "name": "stderr",
     "output_type": "stream",
     "text": [
      "347it [00:20, 16.82it/s]\n"
     ]
    },
    {
     "name": "stdout",
     "output_type": "stream",
     "text": [
      "tensor(0)\n"
     ]
    },
    {
     "name": "stderr",
     "output_type": "stream",
     "text": [
      "347it [00:20, 16.89it/s]\n"
     ]
    },
    {
     "name": "stdout",
     "output_type": "stream",
     "text": [
      "tensor(0)\n"
     ]
    },
    {
     "name": "stderr",
     "output_type": "stream",
     "text": [
      "347it [00:19, 17.88it/s]\n"
     ]
    },
    {
     "name": "stdout",
     "output_type": "stream",
     "text": [
      "tensor(0)\n"
     ]
    },
    {
     "name": "stderr",
     "output_type": "stream",
     "text": [
      "347it [00:20, 16.91it/s]\n"
     ]
    },
    {
     "name": "stdout",
     "output_type": "stream",
     "text": [
      "tensor(0)\n"
     ]
    },
    {
     "name": "stderr",
     "output_type": "stream",
     "text": [
      "347it [00:19, 17.54it/s]\n"
     ]
    },
    {
     "name": "stdout",
     "output_type": "stream",
     "text": [
      "tensor(0)\n"
     ]
    },
    {
     "name": "stderr",
     "output_type": "stream",
     "text": [
      "347it [00:19, 17.45it/s]\n"
     ]
    },
    {
     "name": "stdout",
     "output_type": "stream",
     "text": [
      "tensor(0)\n"
     ]
    },
    {
     "name": "stderr",
     "output_type": "stream",
     "text": [
      "347it [00:19, 17.93it/s]\n"
     ]
    },
    {
     "name": "stdout",
     "output_type": "stream",
     "text": [
      "tensor(0)\n"
     ]
    },
    {
     "name": "stderr",
     "output_type": "stream",
     "text": [
      "347it [00:20, 16.64it/s]\n"
     ]
    },
    {
     "name": "stdout",
     "output_type": "stream",
     "text": [
      "tensor(0)\n"
     ]
    },
    {
     "name": "stderr",
     "output_type": "stream",
     "text": [
      "347it [00:20, 16.55it/s]\n"
     ]
    },
    {
     "name": "stdout",
     "output_type": "stream",
     "text": [
      "tensor(0)\n"
     ]
    },
    {
     "name": "stderr",
     "output_type": "stream",
     "text": [
      "347it [00:20, 17.10it/s]\n"
     ]
    },
    {
     "name": "stdout",
     "output_type": "stream",
     "text": [
      "tensor(0)\n"
     ]
    },
    {
     "name": "stderr",
     "output_type": "stream",
     "text": [
      "347it [00:20, 17.17it/s]\n"
     ]
    },
    {
     "name": "stdout",
     "output_type": "stream",
     "text": [
      "tensor(0)\n"
     ]
    },
    {
     "name": "stderr",
     "output_type": "stream",
     "text": [
      "347it [00:20, 17.29it/s]\n"
     ]
    },
    {
     "name": "stdout",
     "output_type": "stream",
     "text": [
      "tensor(0)\n"
     ]
    },
    {
     "name": "stderr",
     "output_type": "stream",
     "text": [
      "347it [00:20, 17.02it/s]\n"
     ]
    },
    {
     "name": "stdout",
     "output_type": "stream",
     "text": [
      "tensor(0)\n"
     ]
    },
    {
     "name": "stderr",
     "output_type": "stream",
     "text": [
      "347it [00:21, 16.45it/s]"
     ]
    },
    {
     "name": "stdout",
     "output_type": "stream",
     "text": [
      "[6.447804433305278, 7.410187580465462, 9.312605382544106, 9.999398875687643, 7.107455103621232, 6.62457378703924, 8.163959386986267, 9.453281946286097, 10.92258991177105, 6.886451105716525, 6.65852417166171, 7.121108471517348, 7.596846452209618, 10.719539246147166, 8.061968111302418, 7.656580279540352, 7.612348923062648, 6.898071432828647, 10.099604326586602, 6.972398030911118, 7.802922748255329, 6.866422055513252, 6.751424783661893, 7.658601330204207, 9.276851113886972, 8.483976501528598, 8.22611745022655, 8.345342162569604, 10.057817286399805, 11.670284460715335, 8.98549822165429, 8.240271701318202]\n",
      "(8.252838336722643, 1.3907146492780709)\n"
     ]
    },
    {
     "name": "stderr",
     "output_type": "stream",
     "text": [
      "\n"
     ]
    }
   ],
   "source": [
    "dist_l2_0_ood=[]\n",
    "for idx in range(len(batch_labels)):\n",
    "    dist_l2_0_ood.append(calc_dist(resnet18_pretrained, id_val_loader, batch_data[idx], batch_labels[idx]))\n",
    "print(dist_l2_0_ood)\n",
    "print(calc_mean_std(dist_l2_0_ood))"
   ],
   "metadata": {
    "collapsed": false,
    "pycharm": {
     "name": "#%%\n"
    }
   }
  },
  {
   "cell_type": "code",
   "source": [
    "dist_cos_1_ood=[]\n",
    "batch_data, batch_labels, _ = next(iter(val_loader))\n",
    "for idx in range(len(batch_labels)):\n",
    "    dist_cos_1_ood.append(calc_dist(resnet18_pretrained, id_val_loader, batch_data[idx], batch_labels[idx], \"cos\"))\n",
    "\n",
    "print(dist_cos_1_ood)\n",
    "print(calc_mean_std(dist_cos_1_ood))"
   ],
   "metadata": {
    "colab": {
     "base_uri": "https://localhost:8080/"
    },
    "id": "-39v3Okk8qfH",
    "outputId": "f5040cd0-fdd9-41be-80e2-968cc923aa81"
   },
   "execution_count": 36,
   "outputs": [
    {
     "name": "stdout",
     "output_type": "stream",
     "text": [
      "tensor(1)\n"
     ]
    },
    {
     "name": "stderr",
     "output_type": "stream",
     "text": [
      "347it [00:21, 16.17it/s]\n"
     ]
    },
    {
     "name": "stdout",
     "output_type": "stream",
     "text": [
      "tensor(1)\n"
     ]
    },
    {
     "name": "stderr",
     "output_type": "stream",
     "text": [
      "347it [00:21, 16.16it/s]\n"
     ]
    },
    {
     "name": "stdout",
     "output_type": "stream",
     "text": [
      "tensor(1)\n"
     ]
    },
    {
     "name": "stderr",
     "output_type": "stream",
     "text": [
      "347it [00:21, 16.44it/s]\n"
     ]
    },
    {
     "name": "stdout",
     "output_type": "stream",
     "text": [
      "tensor(1)\n"
     ]
    },
    {
     "name": "stderr",
     "output_type": "stream",
     "text": [
      "347it [00:21, 16.43it/s]\n"
     ]
    },
    {
     "name": "stdout",
     "output_type": "stream",
     "text": [
      "tensor(1)\n"
     ]
    },
    {
     "name": "stderr",
     "output_type": "stream",
     "text": [
      "347it [00:21, 16.44it/s]\n"
     ]
    },
    {
     "name": "stdout",
     "output_type": "stream",
     "text": [
      "tensor(1)\n"
     ]
    },
    {
     "name": "stderr",
     "output_type": "stream",
     "text": [
      "347it [00:21, 16.47it/s]\n"
     ]
    },
    {
     "name": "stdout",
     "output_type": "stream",
     "text": [
      "tensor(1)\n"
     ]
    },
    {
     "name": "stderr",
     "output_type": "stream",
     "text": [
      "347it [00:20, 17.21it/s]\n"
     ]
    },
    {
     "name": "stdout",
     "output_type": "stream",
     "text": [
      "tensor(1)\n"
     ]
    },
    {
     "name": "stderr",
     "output_type": "stream",
     "text": [
      "347it [00:20, 17.17it/s]\n"
     ]
    },
    {
     "name": "stdout",
     "output_type": "stream",
     "text": [
      "tensor(1)\n"
     ]
    },
    {
     "name": "stderr",
     "output_type": "stream",
     "text": [
      "347it [00:20, 17.05it/s]\n"
     ]
    },
    {
     "name": "stdout",
     "output_type": "stream",
     "text": [
      "tensor(1)\n"
     ]
    },
    {
     "name": "stderr",
     "output_type": "stream",
     "text": [
      "347it [00:21, 15.93it/s]\n"
     ]
    },
    {
     "name": "stdout",
     "output_type": "stream",
     "text": [
      "tensor(1)\n"
     ]
    },
    {
     "name": "stderr",
     "output_type": "stream",
     "text": [
      "347it [00:21, 16.12it/s]\n"
     ]
    },
    {
     "name": "stdout",
     "output_type": "stream",
     "text": [
      "tensor(1)\n"
     ]
    },
    {
     "name": "stderr",
     "output_type": "stream",
     "text": [
      "347it [00:22, 15.72it/s]\n"
     ]
    },
    {
     "name": "stdout",
     "output_type": "stream",
     "text": [
      "tensor(1)\n"
     ]
    },
    {
     "name": "stderr",
     "output_type": "stream",
     "text": [
      "347it [00:20, 16.95it/s]\n"
     ]
    },
    {
     "name": "stdout",
     "output_type": "stream",
     "text": [
      "tensor(1)\n"
     ]
    },
    {
     "name": "stderr",
     "output_type": "stream",
     "text": [
      "347it [00:20, 17.17it/s]\n"
     ]
    },
    {
     "name": "stdout",
     "output_type": "stream",
     "text": [
      "tensor(1)\n"
     ]
    },
    {
     "name": "stderr",
     "output_type": "stream",
     "text": [
      "347it [00:20, 17.05it/s]\n"
     ]
    },
    {
     "name": "stdout",
     "output_type": "stream",
     "text": [
      "tensor(1)\n"
     ]
    },
    {
     "name": "stderr",
     "output_type": "stream",
     "text": [
      "347it [00:20, 17.31it/s]\n"
     ]
    },
    {
     "name": "stdout",
     "output_type": "stream",
     "text": [
      "tensor(1)\n"
     ]
    },
    {
     "name": "stderr",
     "output_type": "stream",
     "text": [
      "347it [00:21, 16.43it/s]\n"
     ]
    },
    {
     "name": "stdout",
     "output_type": "stream",
     "text": [
      "tensor(1)\n"
     ]
    },
    {
     "name": "stderr",
     "output_type": "stream",
     "text": [
      "347it [00:20, 16.98it/s]\n"
     ]
    },
    {
     "name": "stdout",
     "output_type": "stream",
     "text": [
      "tensor(1)\n"
     ]
    },
    {
     "name": "stderr",
     "output_type": "stream",
     "text": [
      "347it [00:21, 16.39it/s]\n"
     ]
    },
    {
     "name": "stdout",
     "output_type": "stream",
     "text": [
      "tensor(1)\n"
     ]
    },
    {
     "name": "stderr",
     "output_type": "stream",
     "text": [
      "347it [00:21, 16.49it/s]\n"
     ]
    },
    {
     "name": "stdout",
     "output_type": "stream",
     "text": [
      "tensor(1)\n"
     ]
    },
    {
     "name": "stderr",
     "output_type": "stream",
     "text": [
      "347it [00:21, 16.40it/s]\n"
     ]
    },
    {
     "name": "stdout",
     "output_type": "stream",
     "text": [
      "tensor(1)\n"
     ]
    },
    {
     "name": "stderr",
     "output_type": "stream",
     "text": [
      "347it [00:21, 16.38it/s]\n"
     ]
    },
    {
     "name": "stdout",
     "output_type": "stream",
     "text": [
      "tensor(1)\n"
     ]
    },
    {
     "name": "stderr",
     "output_type": "stream",
     "text": [
      "347it [00:20, 16.56it/s]\n"
     ]
    },
    {
     "name": "stdout",
     "output_type": "stream",
     "text": [
      "tensor(1)\n"
     ]
    },
    {
     "name": "stderr",
     "output_type": "stream",
     "text": [
      "347it [00:21, 15.90it/s]\n"
     ]
    },
    {
     "name": "stdout",
     "output_type": "stream",
     "text": [
      "tensor(1)\n"
     ]
    },
    {
     "name": "stderr",
     "output_type": "stream",
     "text": [
      "347it [00:23, 14.82it/s]\n"
     ]
    },
    {
     "name": "stdout",
     "output_type": "stream",
     "text": [
      "tensor(1)\n"
     ]
    },
    {
     "name": "stderr",
     "output_type": "stream",
     "text": [
      "347it [00:20, 16.62it/s]\n"
     ]
    },
    {
     "name": "stdout",
     "output_type": "stream",
     "text": [
      "tensor(1)\n"
     ]
    },
    {
     "name": "stderr",
     "output_type": "stream",
     "text": [
      "347it [00:21, 15.86it/s]\n"
     ]
    },
    {
     "name": "stdout",
     "output_type": "stream",
     "text": [
      "tensor(1)\n"
     ]
    },
    {
     "name": "stderr",
     "output_type": "stream",
     "text": [
      "347it [00:21, 15.98it/s]\n"
     ]
    },
    {
     "name": "stdout",
     "output_type": "stream",
     "text": [
      "tensor(1)\n"
     ]
    },
    {
     "name": "stderr",
     "output_type": "stream",
     "text": [
      "347it [00:21, 15.82it/s]\n"
     ]
    },
    {
     "name": "stdout",
     "output_type": "stream",
     "text": [
      "tensor(1)\n"
     ]
    },
    {
     "name": "stderr",
     "output_type": "stream",
     "text": [
      "347it [00:21, 15.88it/s]\n"
     ]
    },
    {
     "name": "stdout",
     "output_type": "stream",
     "text": [
      "tensor(1)\n"
     ]
    },
    {
     "name": "stderr",
     "output_type": "stream",
     "text": [
      "347it [00:22, 15.47it/s]\n"
     ]
    },
    {
     "name": "stdout",
     "output_type": "stream",
     "text": [
      "tensor(1)\n"
     ]
    },
    {
     "name": "stderr",
     "output_type": "stream",
     "text": [
      "347it [00:21, 16.02it/s]"
     ]
    },
    {
     "name": "stdout",
     "output_type": "stream",
     "text": [
      "[0.175232209817253, 0.4630427185848298, 0.170388258306152, 0.10917338993182181, 0.12266235429505674, 0.22345834297703016, 0.12188075855748703, 0.11155844406321272, 0.12773705047000353, 0.12533079190072502, 0.13358671296433516, 0.3935696503296209, 0.1600833570677566, 0.2524557155848813, 0.2446404269971491, 0.32720591324721354, 0.14727172043930725, 0.1804494578660177, 0.16489989133869928, 0.14942211344689757, 0.12534383641582791, 0.21077857022635704, 0.1809078685274981, 0.12980015278059942, 0.11318587095652129, 0.12595113761969443, 0.10525240928306291, 0.1376744835699961, 0.5055735935551493, 0.11792662925456687, 0.14499225003398764, 0.1414911873307145]\n",
      "(0.18571647711685704, 0.09975466088155133)\n"
     ]
    },
    {
     "name": "stderr",
     "output_type": "stream",
     "text": [
      "\n"
     ]
    }
   ]
  },
  {
   "cell_type": "code",
   "execution_count": 37,
   "outputs": [
    {
     "name": "stderr",
     "output_type": "stream",
     "text": [
      "201it [00:09, 22.10it/s]\n"
     ]
    }
   ],
   "source": [
    "for batch_idx, batch in tqdm(enumerate(val_loader)):\n",
    "    if batch_idx > 200:\n",
    "        batch_data, batch_labels, _ = batch\n",
    "        break\n",
    "\n"
   ],
   "metadata": {
    "collapsed": false,
    "pycharm": {
     "name": "#%%\n"
    }
   }
  },
  {
   "cell_type": "code",
   "execution_count": 38,
   "outputs": [
    {
     "name": "stdout",
     "output_type": "stream",
     "text": [
      "tensor(0)\n"
     ]
    },
    {
     "name": "stderr",
     "output_type": "stream",
     "text": [
      "347it [00:21, 16.37it/s]\n"
     ]
    },
    {
     "name": "stdout",
     "output_type": "stream",
     "text": [
      "tensor(0)\n"
     ]
    },
    {
     "name": "stderr",
     "output_type": "stream",
     "text": [
      "347it [00:20, 16.68it/s]\n"
     ]
    },
    {
     "name": "stdout",
     "output_type": "stream",
     "text": [
      "tensor(0)\n"
     ]
    },
    {
     "name": "stderr",
     "output_type": "stream",
     "text": [
      "347it [00:20, 17.08it/s]\n"
     ]
    },
    {
     "name": "stdout",
     "output_type": "stream",
     "text": [
      "tensor(0)\n"
     ]
    },
    {
     "name": "stderr",
     "output_type": "stream",
     "text": [
      "347it [00:21, 16.35it/s]\n"
     ]
    },
    {
     "name": "stdout",
     "output_type": "stream",
     "text": [
      "tensor(0)\n"
     ]
    },
    {
     "name": "stderr",
     "output_type": "stream",
     "text": [
      "347it [00:21, 15.88it/s]\n"
     ]
    },
    {
     "name": "stdout",
     "output_type": "stream",
     "text": [
      "tensor(0)\n"
     ]
    },
    {
     "name": "stderr",
     "output_type": "stream",
     "text": [
      "347it [00:20, 16.58it/s]\n"
     ]
    },
    {
     "name": "stdout",
     "output_type": "stream",
     "text": [
      "tensor(0)\n"
     ]
    },
    {
     "name": "stderr",
     "output_type": "stream",
     "text": [
      "347it [00:22, 15.52it/s]\n"
     ]
    },
    {
     "name": "stdout",
     "output_type": "stream",
     "text": [
      "tensor(0)\n"
     ]
    },
    {
     "name": "stderr",
     "output_type": "stream",
     "text": [
      "347it [00:22, 15.75it/s]\n"
     ]
    },
    {
     "name": "stdout",
     "output_type": "stream",
     "text": [
      "tensor(0)\n"
     ]
    },
    {
     "name": "stderr",
     "output_type": "stream",
     "text": [
      "347it [00:21, 16.24it/s]\n"
     ]
    },
    {
     "name": "stdout",
     "output_type": "stream",
     "text": [
      "tensor(0)\n"
     ]
    },
    {
     "name": "stderr",
     "output_type": "stream",
     "text": [
      "347it [00:20, 16.94it/s]\n"
     ]
    },
    {
     "name": "stdout",
     "output_type": "stream",
     "text": [
      "tensor(0)\n"
     ]
    },
    {
     "name": "stderr",
     "output_type": "stream",
     "text": [
      "347it [00:20, 16.71it/s]\n"
     ]
    },
    {
     "name": "stdout",
     "output_type": "stream",
     "text": [
      "tensor(0)\n"
     ]
    },
    {
     "name": "stderr",
     "output_type": "stream",
     "text": [
      "347it [00:20, 16.54it/s]\n"
     ]
    },
    {
     "name": "stdout",
     "output_type": "stream",
     "text": [
      "tensor(0)\n"
     ]
    },
    {
     "name": "stderr",
     "output_type": "stream",
     "text": [
      "347it [00:21, 16.23it/s]\n"
     ]
    },
    {
     "name": "stdout",
     "output_type": "stream",
     "text": [
      "tensor(0)\n"
     ]
    },
    {
     "name": "stderr",
     "output_type": "stream",
     "text": [
      "347it [00:21, 15.82it/s]\n"
     ]
    },
    {
     "name": "stdout",
     "output_type": "stream",
     "text": [
      "tensor(0)\n"
     ]
    },
    {
     "name": "stderr",
     "output_type": "stream",
     "text": [
      "347it [00:20, 16.62it/s]\n"
     ]
    },
    {
     "name": "stdout",
     "output_type": "stream",
     "text": [
      "tensor(0)\n"
     ]
    },
    {
     "name": "stderr",
     "output_type": "stream",
     "text": [
      "347it [00:21, 15.98it/s]\n"
     ]
    },
    {
     "name": "stdout",
     "output_type": "stream",
     "text": [
      "tensor(0)\n"
     ]
    },
    {
     "name": "stderr",
     "output_type": "stream",
     "text": [
      "347it [00:20, 17.11it/s]\n"
     ]
    },
    {
     "name": "stdout",
     "output_type": "stream",
     "text": [
      "tensor(0)\n"
     ]
    },
    {
     "name": "stderr",
     "output_type": "stream",
     "text": [
      "347it [00:20, 17.04it/s]\n"
     ]
    },
    {
     "name": "stdout",
     "output_type": "stream",
     "text": [
      "tensor(0)\n"
     ]
    },
    {
     "name": "stderr",
     "output_type": "stream",
     "text": [
      "347it [00:21, 16.30it/s]\n"
     ]
    },
    {
     "name": "stdout",
     "output_type": "stream",
     "text": [
      "tensor(0)\n"
     ]
    },
    {
     "name": "stderr",
     "output_type": "stream",
     "text": [
      "347it [00:19, 17.70it/s]\n"
     ]
    },
    {
     "name": "stdout",
     "output_type": "stream",
     "text": [
      "tensor(0)\n"
     ]
    },
    {
     "name": "stderr",
     "output_type": "stream",
     "text": [
      "347it [00:21, 16.04it/s]\n"
     ]
    },
    {
     "name": "stdout",
     "output_type": "stream",
     "text": [
      "tensor(0)\n"
     ]
    },
    {
     "name": "stderr",
     "output_type": "stream",
     "text": [
      "347it [00:21, 16.19it/s]\n"
     ]
    },
    {
     "name": "stdout",
     "output_type": "stream",
     "text": [
      "tensor(0)\n"
     ]
    },
    {
     "name": "stderr",
     "output_type": "stream",
     "text": [
      "347it [00:20, 17.05it/s]\n"
     ]
    },
    {
     "name": "stdout",
     "output_type": "stream",
     "text": [
      "tensor(0)\n"
     ]
    },
    {
     "name": "stderr",
     "output_type": "stream",
     "text": [
      "347it [00:20, 16.85it/s]\n"
     ]
    },
    {
     "name": "stdout",
     "output_type": "stream",
     "text": [
      "tensor(0)\n"
     ]
    },
    {
     "name": "stderr",
     "output_type": "stream",
     "text": [
      "347it [00:21, 16.18it/s]\n"
     ]
    },
    {
     "name": "stdout",
     "output_type": "stream",
     "text": [
      "tensor(0)\n"
     ]
    },
    {
     "name": "stderr",
     "output_type": "stream",
     "text": [
      "347it [00:20, 16.56it/s]\n"
     ]
    },
    {
     "name": "stdout",
     "output_type": "stream",
     "text": [
      "tensor(0)\n"
     ]
    },
    {
     "name": "stderr",
     "output_type": "stream",
     "text": [
      "347it [00:20, 16.83it/s]\n"
     ]
    },
    {
     "name": "stdout",
     "output_type": "stream",
     "text": [
      "tensor(0)\n"
     ]
    },
    {
     "name": "stderr",
     "output_type": "stream",
     "text": [
      "347it [00:22, 15.55it/s]\n"
     ]
    },
    {
     "name": "stdout",
     "output_type": "stream",
     "text": [
      "tensor(0)\n"
     ]
    },
    {
     "name": "stderr",
     "output_type": "stream",
     "text": [
      "347it [00:20, 16.97it/s]\n"
     ]
    },
    {
     "name": "stdout",
     "output_type": "stream",
     "text": [
      "tensor(0)\n"
     ]
    },
    {
     "name": "stderr",
     "output_type": "stream",
     "text": [
      "347it [00:21, 16.41it/s]\n"
     ]
    },
    {
     "name": "stdout",
     "output_type": "stream",
     "text": [
      "tensor(0)\n"
     ]
    },
    {
     "name": "stderr",
     "output_type": "stream",
     "text": [
      "347it [00:22, 15.70it/s]\n"
     ]
    },
    {
     "name": "stdout",
     "output_type": "stream",
     "text": [
      "tensor(0)\n"
     ]
    },
    {
     "name": "stderr",
     "output_type": "stream",
     "text": [
      "347it [00:21, 15.86it/s]"
     ]
    },
    {
     "name": "stdout",
     "output_type": "stream",
     "text": [
      "[0.8398456293836027, 0.7464824036629562, 0.40257430049999404, 0.1786766498376539, 0.78359088537249, 0.8219335027535635, 0.8216371987043604, 0.36232815443091587, 0.27823858871997487, 0.8073127665302607, 0.8205473658002671, 0.7756444591836341, 0.7582207652783405, 0.8251768045367371, 0.7733613531406462, 0.7510258162328332, 0.7300574589508723, 0.7989621979373307, 0.18834901913755794, 0.8041467814542013, 0.7413368845991564, 0.8020367983521502, 0.8432519218317668, 0.8200783369959136, 0.4127714201589858, 0.6728487402321728, 0.6402545589860562, 0.6403657719226915, 0.263097822405491, 0.7834267529642515, 0.4978268022985809, 0.6911456807696396]\n",
      "(0.6586422997832828, 0.2072243901638426)\n"
     ]
    },
    {
     "name": "stderr",
     "output_type": "stream",
     "text": [
      "\n"
     ]
    }
   ],
   "source": [
    "dist_cos_0_ood=[]\n",
    "for idx in range(len(batch_labels)):\n",
    "    dist_cos_0_ood.append(calc_dist(resnet18_pretrained, id_val_loader, batch_data[idx], batch_labels[idx], \"cos\"))\n",
    "print(dist_cos_0_ood)\n",
    "print(calc_mean_std(dist_cos_0_ood))"
   ],
   "metadata": {
    "collapsed": false,
    "pycharm": {
     "name": "#%%\n"
    }
   }
  },
  {
   "cell_type": "code",
   "execution_count": 54,
   "outputs": [
    {
     "name": "stderr",
     "output_type": "stream",
     "text": [
      "347it [00:33, 10.28it/s]"
     ]
    },
    {
     "name": "stdout",
     "output_type": "stream",
     "text": [
      "(4.242545318183882, 2.0646314975394597)\n",
      "(19.471529235606923, 15.98058256400135)\n"
     ]
    },
    {
     "name": "stderr",
     "output_type": "stream",
     "text": [
      "\n"
     ]
    },
    {
     "data": {
      "text/plain": "'\\n(7.966576247082313, 4.114453328341953)\\n(49.825562248387, 43.42303952766147)\\n'"
     },
     "execution_count": 54,
     "metadata": {},
     "output_type": "execute_result"
    }
   ],
   "source": [
    "dist_iid_mink = calc_dist_iid(resnet18_pretrained, id_val_loader, \"mink\")\n",
    "print(calc_mean_std(dist_iid_mink[0]))\n",
    "print(calc_mean_std(dist_iid_mink[1]))\n",
    "\n",
    "\"\"\"\n",
    "(7.966576247082313, 4.114453328341953)\n",
    "(49.825562248387, 43.42303952766147)\n",
    "\"\"\"\n"
   ],
   "metadata": {
    "collapsed": false,
    "pycharm": {
     "name": "#%%\n"
    }
   }
  },
  {
   "cell_type": "code",
   "execution_count": 55,
   "outputs": [
    {
     "name": "stdout",
     "output_type": "stream",
     "text": [
      "tensor(1)\n"
     ]
    },
    {
     "name": "stderr",
     "output_type": "stream",
     "text": [
      "347it [00:20, 16.75it/s]\n"
     ]
    },
    {
     "name": "stdout",
     "output_type": "stream",
     "text": [
      "tensor(1)\n"
     ]
    },
    {
     "name": "stderr",
     "output_type": "stream",
     "text": [
      "347it [00:19, 17.55it/s]\n"
     ]
    },
    {
     "name": "stdout",
     "output_type": "stream",
     "text": [
      "tensor(1)\n"
     ]
    },
    {
     "name": "stderr",
     "output_type": "stream",
     "text": [
      "347it [00:21, 16.31it/s]\n"
     ]
    },
    {
     "name": "stdout",
     "output_type": "stream",
     "text": [
      "tensor(1)\n"
     ]
    },
    {
     "name": "stderr",
     "output_type": "stream",
     "text": [
      "347it [00:21, 16.27it/s]\n"
     ]
    },
    {
     "name": "stdout",
     "output_type": "stream",
     "text": [
      "tensor(1)\n"
     ]
    },
    {
     "name": "stderr",
     "output_type": "stream",
     "text": [
      "347it [00:21, 16.09it/s]\n"
     ]
    },
    {
     "name": "stdout",
     "output_type": "stream",
     "text": [
      "tensor(1)\n"
     ]
    },
    {
     "name": "stderr",
     "output_type": "stream",
     "text": [
      "347it [00:20, 16.94it/s]\n"
     ]
    },
    {
     "name": "stdout",
     "output_type": "stream",
     "text": [
      "tensor(1)\n"
     ]
    },
    {
     "name": "stderr",
     "output_type": "stream",
     "text": [
      "347it [00:20, 17.24it/s]\n"
     ]
    },
    {
     "name": "stdout",
     "output_type": "stream",
     "text": [
      "tensor(1)\n"
     ]
    },
    {
     "name": "stderr",
     "output_type": "stream",
     "text": [
      "347it [00:20, 17.25it/s]\n"
     ]
    },
    {
     "name": "stdout",
     "output_type": "stream",
     "text": [
      "tensor(1)\n"
     ]
    },
    {
     "name": "stderr",
     "output_type": "stream",
     "text": [
      "347it [00:22, 15.46it/s]\n"
     ]
    },
    {
     "name": "stdout",
     "output_type": "stream",
     "text": [
      "tensor(1)\n"
     ]
    },
    {
     "name": "stderr",
     "output_type": "stream",
     "text": [
      "347it [00:26, 13.27it/s]\n"
     ]
    },
    {
     "name": "stdout",
     "output_type": "stream",
     "text": [
      "tensor(1)\n"
     ]
    },
    {
     "name": "stderr",
     "output_type": "stream",
     "text": [
      "347it [00:19, 17.54it/s]\n"
     ]
    },
    {
     "name": "stdout",
     "output_type": "stream",
     "text": [
      "tensor(1)\n"
     ]
    },
    {
     "name": "stderr",
     "output_type": "stream",
     "text": [
      "347it [00:25, 13.80it/s]\n"
     ]
    },
    {
     "name": "stdout",
     "output_type": "stream",
     "text": [
      "tensor(1)\n"
     ]
    },
    {
     "name": "stderr",
     "output_type": "stream",
     "text": [
      "347it [00:34, 10.07it/s]\n"
     ]
    },
    {
     "name": "stdout",
     "output_type": "stream",
     "text": [
      "tensor(1)\n"
     ]
    },
    {
     "name": "stderr",
     "output_type": "stream",
     "text": [
      "347it [01:13,  4.70it/s]\n"
     ]
    },
    {
     "name": "stdout",
     "output_type": "stream",
     "text": [
      "tensor(1)\n"
     ]
    },
    {
     "name": "stderr",
     "output_type": "stream",
     "text": [
      "347it [00:21, 16.27it/s]\n"
     ]
    },
    {
     "name": "stdout",
     "output_type": "stream",
     "text": [
      "tensor(1)\n"
     ]
    },
    {
     "name": "stderr",
     "output_type": "stream",
     "text": [
      "347it [00:19, 17.54it/s]\n"
     ]
    },
    {
     "name": "stdout",
     "output_type": "stream",
     "text": [
      "tensor(1)\n"
     ]
    },
    {
     "name": "stderr",
     "output_type": "stream",
     "text": [
      "347it [00:19, 17.57it/s]\n"
     ]
    },
    {
     "name": "stdout",
     "output_type": "stream",
     "text": [
      "tensor(1)\n"
     ]
    },
    {
     "name": "stderr",
     "output_type": "stream",
     "text": [
      "347it [00:19, 17.44it/s]\n"
     ]
    },
    {
     "name": "stdout",
     "output_type": "stream",
     "text": [
      "tensor(1)\n"
     ]
    },
    {
     "name": "stderr",
     "output_type": "stream",
     "text": [
      "347it [00:20, 16.73it/s]\n"
     ]
    },
    {
     "name": "stdout",
     "output_type": "stream",
     "text": [
      "tensor(1)\n"
     ]
    },
    {
     "name": "stderr",
     "output_type": "stream",
     "text": [
      "347it [00:19, 17.41it/s]\n"
     ]
    },
    {
     "name": "stdout",
     "output_type": "stream",
     "text": [
      "tensor(1)\n"
     ]
    },
    {
     "name": "stderr",
     "output_type": "stream",
     "text": [
      "347it [00:20, 16.74it/s]\n"
     ]
    },
    {
     "name": "stdout",
     "output_type": "stream",
     "text": [
      "tensor(1)\n"
     ]
    },
    {
     "name": "stderr",
     "output_type": "stream",
     "text": [
      "347it [00:20, 16.81it/s]\n"
     ]
    },
    {
     "name": "stdout",
     "output_type": "stream",
     "text": [
      "tensor(1)\n"
     ]
    },
    {
     "name": "stderr",
     "output_type": "stream",
     "text": [
      "347it [00:20, 16.65it/s]\n"
     ]
    },
    {
     "name": "stdout",
     "output_type": "stream",
     "text": [
      "tensor(1)\n"
     ]
    },
    {
     "name": "stderr",
     "output_type": "stream",
     "text": [
      "347it [00:20, 16.73it/s]\n"
     ]
    },
    {
     "name": "stdout",
     "output_type": "stream",
     "text": [
      "tensor(1)\n"
     ]
    },
    {
     "name": "stderr",
     "output_type": "stream",
     "text": [
      "347it [00:20, 17.06it/s]\n"
     ]
    },
    {
     "name": "stdout",
     "output_type": "stream",
     "text": [
      "tensor(1)\n"
     ]
    },
    {
     "name": "stderr",
     "output_type": "stream",
     "text": [
      "347it [00:20, 16.94it/s]\n"
     ]
    },
    {
     "name": "stdout",
     "output_type": "stream",
     "text": [
      "tensor(1)\n"
     ]
    },
    {
     "name": "stderr",
     "output_type": "stream",
     "text": [
      "347it [00:20, 16.88it/s]\n"
     ]
    },
    {
     "name": "stdout",
     "output_type": "stream",
     "text": [
      "tensor(1)\n"
     ]
    },
    {
     "name": "stderr",
     "output_type": "stream",
     "text": [
      "347it [00:20, 17.08it/s]\n"
     ]
    },
    {
     "name": "stdout",
     "output_type": "stream",
     "text": [
      "tensor(1)\n"
     ]
    },
    {
     "name": "stderr",
     "output_type": "stream",
     "text": [
      "347it [00:20, 16.63it/s]\n"
     ]
    },
    {
     "name": "stdout",
     "output_type": "stream",
     "text": [
      "tensor(1)\n"
     ]
    },
    {
     "name": "stderr",
     "output_type": "stream",
     "text": [
      "347it [00:20, 16.69it/s]\n"
     ]
    },
    {
     "name": "stdout",
     "output_type": "stream",
     "text": [
      "tensor(1)\n"
     ]
    },
    {
     "name": "stderr",
     "output_type": "stream",
     "text": [
      "347it [00:20, 16.72it/s]\n"
     ]
    },
    {
     "name": "stdout",
     "output_type": "stream",
     "text": [
      "tensor(1)\n"
     ]
    },
    {
     "name": "stderr",
     "output_type": "stream",
     "text": [
      "347it [00:20, 16.69it/s]"
     ]
    },
    {
     "name": "stdout",
     "output_type": "stream",
     "text": [
      "[18.806861381425776, 18.428017747809502, 18.84163966417182, 19.13327356422054, 18.931674773571544, 18.72822936117464, 18.924689274611385, 18.92445374192953, 18.864682724112985, 18.975605630730875, 18.870566339177405, 18.56826925163358, 18.818919786833202, 18.70165938285986, 18.697113210815584, 18.586759681133604, 18.904315509091298, 18.789364965038676, 18.834630281620697, 18.86168492073423, 18.860953370570353, 18.750304582305002, 18.795131448590297, 18.919097869308647, 19.04862352648623, 19.062619922998813, 18.942149502691308, 19.042837906859592, 18.314613651035692, 18.980897942213172, 18.91981276443404, 18.881195099049286]\n",
      "(18.834707774351223, 0.17335022120509108)\n"
     ]
    },
    {
     "name": "stderr",
     "output_type": "stream",
     "text": [
      "\n"
     ]
    }
   ],
   "source": [
    "\"\"\"Distanta minkowski\"\"\"\n",
    "dist_mink_1_ood=[]\n",
    "batch_data, batch_labels, _ = next(iter(val_loader))\n",
    "for idx in range(len(batch_labels)):\n",
    "    dist_mink_1_ood.append(calc_dist(resnet18_pretrained, id_val_loader, batch_data[idx], batch_labels[idx], \"mink\"))\n",
    "\n",
    "print(dist_mink_1_ood)\n",
    "print(calc_mean_std(dist_mink_1_ood))\n"
   ],
   "metadata": {
    "collapsed": false,
    "pycharm": {
     "name": "#%%\n"
    }
   }
  },
  {
   "cell_type": "code",
   "execution_count": 56,
   "outputs": [
    {
     "name": "stderr",
     "output_type": "stream",
     "text": [
      "201it [00:13, 15.29it/s]\n"
     ]
    }
   ],
   "source": [
    "for batch_idx, batch in tqdm(enumerate(val_loader)):\n",
    "    if batch_idx > 200:\n",
    "        batch_data, batch_labels, _ = batch\n",
    "        break"
   ],
   "metadata": {
    "collapsed": false,
    "pycharm": {
     "name": "#%%\n"
    }
   }
  },
  {
   "cell_type": "code",
   "execution_count": 57,
   "outputs": [
    {
     "name": "stdout",
     "output_type": "stream",
     "text": [
      "tensor(0)\n"
     ]
    },
    {
     "name": "stderr",
     "output_type": "stream",
     "text": [
      "347it [00:19, 17.46it/s]\n"
     ]
    },
    {
     "name": "stdout",
     "output_type": "stream",
     "text": [
      "tensor(0)\n"
     ]
    },
    {
     "name": "stderr",
     "output_type": "stream",
     "text": [
      "347it [00:20, 16.99it/s]\n"
     ]
    },
    {
     "name": "stdout",
     "output_type": "stream",
     "text": [
      "tensor(0)\n"
     ]
    },
    {
     "name": "stderr",
     "output_type": "stream",
     "text": [
      "347it [00:20, 16.71it/s]\n"
     ]
    },
    {
     "name": "stdout",
     "output_type": "stream",
     "text": [
      "tensor(0)\n"
     ]
    },
    {
     "name": "stderr",
     "output_type": "stream",
     "text": [
      "347it [00:22, 15.65it/s]\n"
     ]
    },
    {
     "name": "stdout",
     "output_type": "stream",
     "text": [
      "tensor(0)\n"
     ]
    },
    {
     "name": "stderr",
     "output_type": "stream",
     "text": [
      "347it [00:19, 17.60it/s]\n"
     ]
    },
    {
     "name": "stdout",
     "output_type": "stream",
     "text": [
      "tensor(0)\n"
     ]
    },
    {
     "name": "stderr",
     "output_type": "stream",
     "text": [
      "347it [00:19, 17.72it/s]\n"
     ]
    },
    {
     "name": "stdout",
     "output_type": "stream",
     "text": [
      "tensor(0)\n"
     ]
    },
    {
     "name": "stderr",
     "output_type": "stream",
     "text": [
      "347it [00:19, 17.79it/s]\n"
     ]
    },
    {
     "name": "stdout",
     "output_type": "stream",
     "text": [
      "tensor(0)\n"
     ]
    },
    {
     "name": "stderr",
     "output_type": "stream",
     "text": [
      "347it [00:19, 17.42it/s]\n"
     ]
    },
    {
     "name": "stdout",
     "output_type": "stream",
     "text": [
      "tensor(0)\n"
     ]
    },
    {
     "name": "stderr",
     "output_type": "stream",
     "text": [
      "347it [00:20, 17.28it/s]\n"
     ]
    },
    {
     "name": "stdout",
     "output_type": "stream",
     "text": [
      "tensor(0)\n"
     ]
    },
    {
     "name": "stderr",
     "output_type": "stream",
     "text": [
      "347it [00:20, 17.31it/s]\n"
     ]
    },
    {
     "name": "stdout",
     "output_type": "stream",
     "text": [
      "tensor(0)\n"
     ]
    },
    {
     "name": "stderr",
     "output_type": "stream",
     "text": [
      "347it [00:20, 17.32it/s]\n"
     ]
    },
    {
     "name": "stdout",
     "output_type": "stream",
     "text": [
      "tensor(0)\n"
     ]
    },
    {
     "name": "stderr",
     "output_type": "stream",
     "text": [
      "347it [00:20, 17.25it/s]\n"
     ]
    },
    {
     "name": "stdout",
     "output_type": "stream",
     "text": [
      "tensor(0)\n"
     ]
    },
    {
     "name": "stderr",
     "output_type": "stream",
     "text": [
      "347it [00:20, 17.18it/s]\n"
     ]
    },
    {
     "name": "stdout",
     "output_type": "stream",
     "text": [
      "tensor(0)\n"
     ]
    },
    {
     "name": "stderr",
     "output_type": "stream",
     "text": [
      "347it [00:19, 17.55it/s]\n"
     ]
    },
    {
     "name": "stdout",
     "output_type": "stream",
     "text": [
      "tensor(0)\n"
     ]
    },
    {
     "name": "stderr",
     "output_type": "stream",
     "text": [
      "347it [00:20, 16.87it/s]\n"
     ]
    },
    {
     "name": "stdout",
     "output_type": "stream",
     "text": [
      "tensor(0)\n"
     ]
    },
    {
     "name": "stderr",
     "output_type": "stream",
     "text": [
      "347it [00:20, 17.04it/s]\n"
     ]
    },
    {
     "name": "stdout",
     "output_type": "stream",
     "text": [
      "tensor(0)\n"
     ]
    },
    {
     "name": "stderr",
     "output_type": "stream",
     "text": [
      "347it [00:20, 16.83it/s]\n"
     ]
    },
    {
     "name": "stdout",
     "output_type": "stream",
     "text": [
      "tensor(0)\n"
     ]
    },
    {
     "name": "stderr",
     "output_type": "stream",
     "text": [
      "347it [00:20, 16.66it/s]\n"
     ]
    },
    {
     "name": "stdout",
     "output_type": "stream",
     "text": [
      "tensor(0)\n"
     ]
    },
    {
     "name": "stderr",
     "output_type": "stream",
     "text": [
      "347it [00:20, 16.89it/s]\n"
     ]
    },
    {
     "name": "stdout",
     "output_type": "stream",
     "text": [
      "tensor(0)\n"
     ]
    },
    {
     "name": "stderr",
     "output_type": "stream",
     "text": [
      "347it [00:20, 16.61it/s]\n"
     ]
    },
    {
     "name": "stdout",
     "output_type": "stream",
     "text": [
      "tensor(0)\n"
     ]
    },
    {
     "name": "stderr",
     "output_type": "stream",
     "text": [
      "347it [00:21, 15.81it/s]\n"
     ]
    },
    {
     "name": "stdout",
     "output_type": "stream",
     "text": [
      "tensor(0)\n"
     ]
    },
    {
     "name": "stderr",
     "output_type": "stream",
     "text": [
      "347it [00:21, 16.44it/s]\n"
     ]
    },
    {
     "name": "stdout",
     "output_type": "stream",
     "text": [
      "tensor(0)\n"
     ]
    },
    {
     "name": "stderr",
     "output_type": "stream",
     "text": [
      "347it [00:20, 17.03it/s]\n"
     ]
    },
    {
     "name": "stdout",
     "output_type": "stream",
     "text": [
      "tensor(0)\n"
     ]
    },
    {
     "name": "stderr",
     "output_type": "stream",
     "text": [
      "347it [00:20, 16.70it/s]\n"
     ]
    },
    {
     "name": "stdout",
     "output_type": "stream",
     "text": [
      "tensor(0)\n"
     ]
    },
    {
     "name": "stderr",
     "output_type": "stream",
     "text": [
      "347it [00:20, 16.56it/s]\n"
     ]
    },
    {
     "name": "stdout",
     "output_type": "stream",
     "text": [
      "tensor(0)\n"
     ]
    },
    {
     "name": "stderr",
     "output_type": "stream",
     "text": [
      "347it [00:21, 16.40it/s]\n"
     ]
    },
    {
     "name": "stdout",
     "output_type": "stream",
     "text": [
      "tensor(0)\n"
     ]
    },
    {
     "name": "stderr",
     "output_type": "stream",
     "text": [
      "347it [00:21, 16.49it/s]\n"
     ]
    },
    {
     "name": "stdout",
     "output_type": "stream",
     "text": [
      "tensor(0)\n"
     ]
    },
    {
     "name": "stderr",
     "output_type": "stream",
     "text": [
      "347it [00:20, 16.56it/s]\n"
     ]
    },
    {
     "name": "stdout",
     "output_type": "stream",
     "text": [
      "tensor(0)\n"
     ]
    },
    {
     "name": "stderr",
     "output_type": "stream",
     "text": [
      "347it [00:22, 15.26it/s]\n"
     ]
    },
    {
     "name": "stdout",
     "output_type": "stream",
     "text": [
      "tensor(0)\n"
     ]
    },
    {
     "name": "stderr",
     "output_type": "stream",
     "text": [
      "347it [00:21, 16.38it/s]\n"
     ]
    },
    {
     "name": "stdout",
     "output_type": "stream",
     "text": [
      "tensor(0)\n"
     ]
    },
    {
     "name": "stderr",
     "output_type": "stream",
     "text": [
      "347it [00:20, 16.65it/s]\n"
     ]
    },
    {
     "name": "stdout",
     "output_type": "stream",
     "text": [
      "tensor(0)\n"
     ]
    },
    {
     "name": "stderr",
     "output_type": "stream",
     "text": [
      "347it [00:20, 16.63it/s]"
     ]
    },
    {
     "name": "stdout",
     "output_type": "stream",
     "text": [
      "[3.4879563477093813, 3.9105290172994667, 4.952353565023015, 5.347901423321754, 3.8520147737457426, 3.6143249717515435, 4.319662275845475, 5.033975590386165, 5.222534278085171, 3.6938475488190647, 3.5639323552180002, 3.878303143508687, 4.128077111906854, 5.6040494969086065, 4.36397144165434, 4.172438359907464, 4.013442903001663, 3.7287927980573636, 5.346719126984802, 3.7637027302136468, 4.20871607063924, 3.765812632485144, 3.662454636745562, 4.0730222112065935, 4.972207514846465, 4.608387525147176, 4.348424479455788, 4.445709322093427, 5.1629670382354655, 6.187736644867445, 4.772453488845223, 4.4486147095607205]\n",
      "(4.395469860421139, 0.6756717172554383)\n"
     ]
    },
    {
     "name": "stderr",
     "output_type": "stream",
     "text": [
      "\n"
     ]
    }
   ],
   "source": [
    "dist_mink_0_ood=[]\n",
    "for idx in range(len(batch_labels)):\n",
    "    dist_mink_0_ood.append(calc_dist(resnet18_pretrained, id_val_loader, batch_data[idx], batch_labels[idx], \"mink\"))\n",
    "print(dist_mink_0_ood)\n",
    "print(calc_mean_std(dist_mink_0_ood))"
   ],
   "metadata": {
    "collapsed": false,
    "pycharm": {
     "name": "#%%\n"
    }
   }
  },
  {
   "cell_type": "code",
   "execution_count": 17,
   "outputs": [
    {
     "name": "stderr",
     "output_type": "stream",
     "text": [
      "100%|██████████| 360/360 [03:09<00:00,  1.90it/s]"
     ]
    },
    {
     "name": "stdout",
     "output_type": "stream",
     "text": [
      "[[2.50774676 0.10202442 0.39871855 ... 1.77666103 0.95930418 0.37828396]\n",
      " [3.07073746 0.07881023 1.8179316  ... 2.53730866 1.39863392 0.2981597 ]]\n"
     ]
    },
    {
     "name": "stderr",
     "output_type": "stream",
     "text": [
      "\n"
     ]
    }
   ],
   "source": [
    "def get_class_mean_embeddings(model, train_loader):\n",
    "    mean_embeds = np.zeros(shape=(2, 512)) # 2 classes, 512 embedding dim\n",
    "    class_numbers = np.zeros(shape=(2, 1))\n",
    "    modules = list(model.children())[:-1]\n",
    "    model = nn.Sequential(*modules)\n",
    "    model.eval()\n",
    "    with torch.no_grad():\n",
    "        for data in tqdm(train_loader):\n",
    "            inputs, labels, _ = data\n",
    "            inputs = inputs.to(device)\n",
    "            labels = labels.numpy()\n",
    "\n",
    "            # Extract features\n",
    "            features = torch.flatten(model(inputs), start_dim=1)\n",
    "            features = features.cpu().numpy()\n",
    "\n",
    "            for idx in range(len(labels)):\n",
    "                mean_embeds[labels[idx]] += features[idx]\n",
    "                class_numbers[labels[idx]] += 1\n",
    "\n",
    "    mean_embeds /= class_numbers\n",
    "\n",
    "    return mean_embeds\n",
    "\n",
    "\n",
    "mean_embeds = get_class_mean_embeddings(resnet18_pretrained, val_loader)\n",
    "print(mean_embeds)"
   ],
   "metadata": {
    "collapsed": false,
    "pycharm": {
     "name": "#%%\n"
    }
   }
  },
  {
   "cell_type": "code",
   "execution_count": null,
   "outputs": [],
   "source": [],
   "metadata": {
    "collapsed": false,
    "pycharm": {
     "name": "#%%\n"
    }
   }
  }
 ],
 "metadata": {
  "kernelspec": {
   "display_name": "Python 3",
   "language": "python",
   "name": "python3"
  },
  "language_info": {
   "codemirror_mode": {
    "name": "ipython",
    "version": 2
   },
   "file_extension": ".py",
   "mimetype": "text/x-python",
   "name": "python",
   "nbconvert_exporter": "python",
   "pygments_lexer": "ipython2",
   "version": "2.7.6"
  },
  "colab": {
   "name": "generalization_task_camelyon.ipynb",
   "provenance": [],
   "collapsed_sections": []
  },
  "accelerator": "GPU",
  "widgets": {
   "application/vnd.jupyter.widget-state+json": {
    "c3e0847a20454dbbacc5453545c51962": {
     "model_module": "@jupyter-widgets/controls",
     "model_name": "HBoxModel",
     "model_module_version": "1.5.0",
     "state": {
      "_dom_classes": [],
      "_model_module": "@jupyter-widgets/controls",
      "_model_module_version": "1.5.0",
      "_model_name": "HBoxModel",
      "_view_count": null,
      "_view_module": "@jupyter-widgets/controls",
      "_view_module_version": "1.5.0",
      "_view_name": "HBoxView",
      "box_style": "",
      "children": [
       "IPY_MODEL_eb039b20100e4ef29207d8424aebf94a",
       "IPY_MODEL_2ed05db58824409d942251bb07104eed",
       "IPY_MODEL_eb34afade1de4874a4c748c9cf350335"
      ],
      "layout": "IPY_MODEL_cdf1fd0430bb4bc6a6c817e16dae1414"
     }
    },
    "eb039b20100e4ef29207d8424aebf94a": {
     "model_module": "@jupyter-widgets/controls",
     "model_name": "HTMLModel",
     "model_module_version": "1.5.0",
     "state": {
      "_dom_classes": [],
      "_model_module": "@jupyter-widgets/controls",
      "_model_module_version": "1.5.0",
      "_model_name": "HTMLModel",
      "_view_count": null,
      "_view_module": "@jupyter-widgets/controls",
      "_view_module_version": "1.5.0",
      "_view_name": "HTMLView",
      "description": "",
      "description_tooltip": null,
      "layout": "IPY_MODEL_80767a4548ea438dbaa21c1553587d3a",
      "placeholder": "​",
      "style": "IPY_MODEL_8cfdc4b444704d2e87f577af8a60fa2b",
      "value": "100%"
     }
    },
    "2ed05db58824409d942251bb07104eed": {
     "model_module": "@jupyter-widgets/controls",
     "model_name": "FloatProgressModel",
     "model_module_version": "1.5.0",
     "state": {
      "_dom_classes": [],
      "_model_module": "@jupyter-widgets/controls",
      "_model_module_version": "1.5.0",
      "_model_name": "FloatProgressModel",
      "_view_count": null,
      "_view_module": "@jupyter-widgets/controls",
      "_view_module_version": "1.5.0",
      "_view_name": "ProgressView",
      "bar_style": "success",
      "description": "",
      "description_tooltip": null,
      "layout": "IPY_MODEL_cb5f2d83a39545c3ae2fb4eb6b7a8472",
      "max": 32342954,
      "min": 0,
      "orientation": "horizontal",
      "style": "IPY_MODEL_cfd71611327549ff9d90642a72615b71",
      "value": 32342954
     }
    },
    "eb34afade1de4874a4c748c9cf350335": {
     "model_module": "@jupyter-widgets/controls",
     "model_name": "HTMLModel",
     "model_module_version": "1.5.0",
     "state": {
      "_dom_classes": [],
      "_model_module": "@jupyter-widgets/controls",
      "_model_module_version": "1.5.0",
      "_model_name": "HTMLModel",
      "_view_count": null,
      "_view_module": "@jupyter-widgets/controls",
      "_view_module_version": "1.5.0",
      "_view_name": "HTMLView",
      "description": "",
      "description_tooltip": null,
      "layout": "IPY_MODEL_36c0d5fdddab47d1a7000d997228b477",
      "placeholder": "​",
      "style": "IPY_MODEL_8df7a5b9efb4440591bdcd961a081eb6",
      "value": " 30.8M/30.8M [00:01&lt;00:00, 35.3MB/s]"
     }
    },
    "cdf1fd0430bb4bc6a6c817e16dae1414": {
     "model_module": "@jupyter-widgets/base",
     "model_name": "LayoutModel",
     "model_module_version": "1.2.0",
     "state": {
      "_model_module": "@jupyter-widgets/base",
      "_model_module_version": "1.2.0",
      "_model_name": "LayoutModel",
      "_view_count": null,
      "_view_module": "@jupyter-widgets/base",
      "_view_module_version": "1.2.0",
      "_view_name": "LayoutView",
      "align_content": null,
      "align_items": null,
      "align_self": null,
      "border": null,
      "bottom": null,
      "display": null,
      "flex": null,
      "flex_flow": null,
      "grid_area": null,
      "grid_auto_columns": null,
      "grid_auto_flow": null,
      "grid_auto_rows": null,
      "grid_column": null,
      "grid_gap": null,
      "grid_row": null,
      "grid_template_areas": null,
      "grid_template_columns": null,
      "grid_template_rows": null,
      "height": null,
      "justify_content": null,
      "justify_items": null,
      "left": null,
      "margin": null,
      "max_height": null,
      "max_width": null,
      "min_height": null,
      "min_width": null,
      "object_fit": null,
      "object_position": null,
      "order": null,
      "overflow": null,
      "overflow_x": null,
      "overflow_y": null,
      "padding": null,
      "right": null,
      "top": null,
      "visibility": null,
      "width": null
     }
    },
    "80767a4548ea438dbaa21c1553587d3a": {
     "model_module": "@jupyter-widgets/base",
     "model_name": "LayoutModel",
     "model_module_version": "1.2.0",
     "state": {
      "_model_module": "@jupyter-widgets/base",
      "_model_module_version": "1.2.0",
      "_model_name": "LayoutModel",
      "_view_count": null,
      "_view_module": "@jupyter-widgets/base",
      "_view_module_version": "1.2.0",
      "_view_name": "LayoutView",
      "align_content": null,
      "align_items": null,
      "align_self": null,
      "border": null,
      "bottom": null,
      "display": null,
      "flex": null,
      "flex_flow": null,
      "grid_area": null,
      "grid_auto_columns": null,
      "grid_auto_flow": null,
      "grid_auto_rows": null,
      "grid_column": null,
      "grid_gap": null,
      "grid_row": null,
      "grid_template_areas": null,
      "grid_template_columns": null,
      "grid_template_rows": null,
      "height": null,
      "justify_content": null,
      "justify_items": null,
      "left": null,
      "margin": null,
      "max_height": null,
      "max_width": null,
      "min_height": null,
      "min_width": null,
      "object_fit": null,
      "object_position": null,
      "order": null,
      "overflow": null,
      "overflow_x": null,
      "overflow_y": null,
      "padding": null,
      "right": null,
      "top": null,
      "visibility": null,
      "width": null
     }
    },
    "8cfdc4b444704d2e87f577af8a60fa2b": {
     "model_module": "@jupyter-widgets/controls",
     "model_name": "DescriptionStyleModel",
     "model_module_version": "1.5.0",
     "state": {
      "_model_module": "@jupyter-widgets/controls",
      "_model_module_version": "1.5.0",
      "_model_name": "DescriptionStyleModel",
      "_view_count": null,
      "_view_module": "@jupyter-widgets/base",
      "_view_module_version": "1.2.0",
      "_view_name": "StyleView",
      "description_width": ""
     }
    },
    "cb5f2d83a39545c3ae2fb4eb6b7a8472": {
     "model_module": "@jupyter-widgets/base",
     "model_name": "LayoutModel",
     "model_module_version": "1.2.0",
     "state": {
      "_model_module": "@jupyter-widgets/base",
      "_model_module_version": "1.2.0",
      "_model_name": "LayoutModel",
      "_view_count": null,
      "_view_module": "@jupyter-widgets/base",
      "_view_module_version": "1.2.0",
      "_view_name": "LayoutView",
      "align_content": null,
      "align_items": null,
      "align_self": null,
      "border": null,
      "bottom": null,
      "display": null,
      "flex": null,
      "flex_flow": null,
      "grid_area": null,
      "grid_auto_columns": null,
      "grid_auto_flow": null,
      "grid_auto_rows": null,
      "grid_column": null,
      "grid_gap": null,
      "grid_row": null,
      "grid_template_areas": null,
      "grid_template_columns": null,
      "grid_template_rows": null,
      "height": null,
      "justify_content": null,
      "justify_items": null,
      "left": null,
      "margin": null,
      "max_height": null,
      "max_width": null,
      "min_height": null,
      "min_width": null,
      "object_fit": null,
      "object_position": null,
      "order": null,
      "overflow": null,
      "overflow_x": null,
      "overflow_y": null,
      "padding": null,
      "right": null,
      "top": null,
      "visibility": null,
      "width": null
     }
    },
    "cfd71611327549ff9d90642a72615b71": {
     "model_module": "@jupyter-widgets/controls",
     "model_name": "ProgressStyleModel",
     "model_module_version": "1.5.0",
     "state": {
      "_model_module": "@jupyter-widgets/controls",
      "_model_module_version": "1.5.0",
      "_model_name": "ProgressStyleModel",
      "_view_count": null,
      "_view_module": "@jupyter-widgets/base",
      "_view_module_version": "1.2.0",
      "_view_name": "StyleView",
      "bar_color": null,
      "description_width": ""
     }
    },
    "36c0d5fdddab47d1a7000d997228b477": {
     "model_module": "@jupyter-widgets/base",
     "model_name": "LayoutModel",
     "model_module_version": "1.2.0",
     "state": {
      "_model_module": "@jupyter-widgets/base",
      "_model_module_version": "1.2.0",
      "_model_name": "LayoutModel",
      "_view_count": null,
      "_view_module": "@jupyter-widgets/base",
      "_view_module_version": "1.2.0",
      "_view_name": "LayoutView",
      "align_content": null,
      "align_items": null,
      "align_self": null,
      "border": null,
      "bottom": null,
      "display": null,
      "flex": null,
      "flex_flow": null,
      "grid_area": null,
      "grid_auto_columns": null,
      "grid_auto_flow": null,
      "grid_auto_rows": null,
      "grid_column": null,
      "grid_gap": null,
      "grid_row": null,
      "grid_template_areas": null,
      "grid_template_columns": null,
      "grid_template_rows": null,
      "height": null,
      "justify_content": null,
      "justify_items": null,
      "left": null,
      "margin": null,
      "max_height": null,
      "max_width": null,
      "min_height": null,
      "min_width": null,
      "object_fit": null,
      "object_position": null,
      "order": null,
      "overflow": null,
      "overflow_x": null,
      "overflow_y": null,
      "padding": null,
      "right": null,
      "top": null,
      "visibility": null,
      "width": null
     }
    },
    "8df7a5b9efb4440591bdcd961a081eb6": {
     "model_module": "@jupyter-widgets/controls",
     "model_name": "DescriptionStyleModel",
     "model_module_version": "1.5.0",
     "state": {
      "_model_module": "@jupyter-widgets/controls",
      "_model_module_version": "1.5.0",
      "_model_name": "DescriptionStyleModel",
      "_view_count": null,
      "_view_module": "@jupyter-widgets/base",
      "_view_module_version": "1.2.0",
      "_view_name": "StyleView",
      "description_width": ""
     }
    },
    "de74266d3a9448ef92346f7356e686d5": {
     "model_module": "@jupyter-widgets/controls",
     "model_name": "HBoxModel",
     "model_module_version": "1.5.0",
     "state": {
      "_dom_classes": [],
      "_model_module": "@jupyter-widgets/controls",
      "_model_module_version": "1.5.0",
      "_model_name": "HBoxModel",
      "_view_count": null,
      "_view_module": "@jupyter-widgets/controls",
      "_view_module_version": "1.5.0",
      "_view_name": "HBoxView",
      "box_style": "",
      "children": [
       "IPY_MODEL_5bd0c847f5404d1397b3a93a2eb1f239",
       "IPY_MODEL_f1f55693bbfa41caa088acdc7e65a526",
       "IPY_MODEL_732ce57f84c64aada0149836c44cdf7d"
      ],
      "layout": "IPY_MODEL_e8eea1a7d6014cb0aefc5558029a86aa"
     }
    },
    "5bd0c847f5404d1397b3a93a2eb1f239": {
     "model_module": "@jupyter-widgets/controls",
     "model_name": "HTMLModel",
     "model_module_version": "1.5.0",
     "state": {
      "_dom_classes": [],
      "_model_module": "@jupyter-widgets/controls",
      "_model_module_version": "1.5.0",
      "_model_name": "HTMLModel",
      "_view_count": null,
      "_view_module": "@jupyter-widgets/controls",
      "_view_module_version": "1.5.0",
      "_view_name": "HTMLView",
      "description": "",
      "description_tooltip": null,
      "layout": "IPY_MODEL_3b024a857fb84b8dbcab65c61ed23b3d",
      "placeholder": "​",
      "style": "IPY_MODEL_d7bc235338f34f06bdc0e7674d886c23",
      "value": "100%"
     }
    },
    "f1f55693bbfa41caa088acdc7e65a526": {
     "model_module": "@jupyter-widgets/controls",
     "model_name": "FloatProgressModel",
     "model_module_version": "1.5.0",
     "state": {
      "_dom_classes": [],
      "_model_module": "@jupyter-widgets/controls",
      "_model_module_version": "1.5.0",
      "_model_name": "FloatProgressModel",
      "_view_count": null,
      "_view_module": "@jupyter-widgets/controls",
      "_view_module_version": "1.5.0",
      "_view_name": "ProgressView",
      "bar_style": "success",
      "description": "",
      "description_tooltip": null,
      "layout": "IPY_MODEL_bc112e6096fb49fe91c69417f6f87454",
      "max": 100441675,
      "min": 0,
      "orientation": "horizontal",
      "style": "IPY_MODEL_66f12d129ec94068afb595716f70c2cf",
      "value": 100441675
     }
    },
    "732ce57f84c64aada0149836c44cdf7d": {
     "model_module": "@jupyter-widgets/controls",
     "model_name": "HTMLModel",
     "model_module_version": "1.5.0",
     "state": {
      "_dom_classes": [],
      "_model_module": "@jupyter-widgets/controls",
      "_model_module_version": "1.5.0",
      "_model_name": "HTMLModel",
      "_view_count": null,
      "_view_module": "@jupyter-widgets/controls",
      "_view_module_version": "1.5.0",
      "_view_name": "HTMLView",
      "description": "",
      "description_tooltip": null,
      "layout": "IPY_MODEL_4c9692ae12474ac3bce41d2a71c09150",
      "placeholder": "​",
      "style": "IPY_MODEL_578bf27afb384aaebf272d6eb51a294f",
      "value": " 95.8M/95.8M [00:01&lt;00:00, 112MB/s]"
     }
    },
    "e8eea1a7d6014cb0aefc5558029a86aa": {
     "model_module": "@jupyter-widgets/base",
     "model_name": "LayoutModel",
     "model_module_version": "1.2.0",
     "state": {
      "_model_module": "@jupyter-widgets/base",
      "_model_module_version": "1.2.0",
      "_model_name": "LayoutModel",
      "_view_count": null,
      "_view_module": "@jupyter-widgets/base",
      "_view_module_version": "1.2.0",
      "_view_name": "LayoutView",
      "align_content": null,
      "align_items": null,
      "align_self": null,
      "border": null,
      "bottom": null,
      "display": null,
      "flex": null,
      "flex_flow": null,
      "grid_area": null,
      "grid_auto_columns": null,
      "grid_auto_flow": null,
      "grid_auto_rows": null,
      "grid_column": null,
      "grid_gap": null,
      "grid_row": null,
      "grid_template_areas": null,
      "grid_template_columns": null,
      "grid_template_rows": null,
      "height": null,
      "justify_content": null,
      "justify_items": null,
      "left": null,
      "margin": null,
      "max_height": null,
      "max_width": null,
      "min_height": null,
      "min_width": null,
      "object_fit": null,
      "object_position": null,
      "order": null,
      "overflow": null,
      "overflow_x": null,
      "overflow_y": null,
      "padding": null,
      "right": null,
      "top": null,
      "visibility": null,
      "width": null
     }
    },
    "3b024a857fb84b8dbcab65c61ed23b3d": {
     "model_module": "@jupyter-widgets/base",
     "model_name": "LayoutModel",
     "model_module_version": "1.2.0",
     "state": {
      "_model_module": "@jupyter-widgets/base",
      "_model_module_version": "1.2.0",
      "_model_name": "LayoutModel",
      "_view_count": null,
      "_view_module": "@jupyter-widgets/base",
      "_view_module_version": "1.2.0",
      "_view_name": "LayoutView",
      "align_content": null,
      "align_items": null,
      "align_self": null,
      "border": null,
      "bottom": null,
      "display": null,
      "flex": null,
      "flex_flow": null,
      "grid_area": null,
      "grid_auto_columns": null,
      "grid_auto_flow": null,
      "grid_auto_rows": null,
      "grid_column": null,
      "grid_gap": null,
      "grid_row": null,
      "grid_template_areas": null,
      "grid_template_columns": null,
      "grid_template_rows": null,
      "height": null,
      "justify_content": null,
      "justify_items": null,
      "left": null,
      "margin": null,
      "max_height": null,
      "max_width": null,
      "min_height": null,
      "min_width": null,
      "object_fit": null,
      "object_position": null,
      "order": null,
      "overflow": null,
      "overflow_x": null,
      "overflow_y": null,
      "padding": null,
      "right": null,
      "top": null,
      "visibility": null,
      "width": null
     }
    },
    "d7bc235338f34f06bdc0e7674d886c23": {
     "model_module": "@jupyter-widgets/controls",
     "model_name": "DescriptionStyleModel",
     "model_module_version": "1.5.0",
     "state": {
      "_model_module": "@jupyter-widgets/controls",
      "_model_module_version": "1.5.0",
      "_model_name": "DescriptionStyleModel",
      "_view_count": null,
      "_view_module": "@jupyter-widgets/base",
      "_view_module_version": "1.2.0",
      "_view_name": "StyleView",
      "description_width": ""
     }
    },
    "bc112e6096fb49fe91c69417f6f87454": {
     "model_module": "@jupyter-widgets/base",
     "model_name": "LayoutModel",
     "model_module_version": "1.2.0",
     "state": {
      "_model_module": "@jupyter-widgets/base",
      "_model_module_version": "1.2.0",
      "_model_name": "LayoutModel",
      "_view_count": null,
      "_view_module": "@jupyter-widgets/base",
      "_view_module_version": "1.2.0",
      "_view_name": "LayoutView",
      "align_content": null,
      "align_items": null,
      "align_self": null,
      "border": null,
      "bottom": null,
      "display": null,
      "flex": null,
      "flex_flow": null,
      "grid_area": null,
      "grid_auto_columns": null,
      "grid_auto_flow": null,
      "grid_auto_rows": null,
      "grid_column": null,
      "grid_gap": null,
      "grid_row": null,
      "grid_template_areas": null,
      "grid_template_columns": null,
      "grid_template_rows": null,
      "height": null,
      "justify_content": null,
      "justify_items": null,
      "left": null,
      "margin": null,
      "max_height": null,
      "max_width": null,
      "min_height": null,
      "min_width": null,
      "object_fit": null,
      "object_position": null,
      "order": null,
      "overflow": null,
      "overflow_x": null,
      "overflow_y": null,
      "padding": null,
      "right": null,
      "top": null,
      "visibility": null,
      "width": null
     }
    },
    "66f12d129ec94068afb595716f70c2cf": {
     "model_module": "@jupyter-widgets/controls",
     "model_name": "ProgressStyleModel",
     "model_module_version": "1.5.0",
     "state": {
      "_model_module": "@jupyter-widgets/controls",
      "_model_module_version": "1.5.0",
      "_model_name": "ProgressStyleModel",
      "_view_count": null,
      "_view_module": "@jupyter-widgets/base",
      "_view_module_version": "1.2.0",
      "_view_name": "StyleView",
      "bar_color": null,
      "description_width": ""
     }
    },
    "4c9692ae12474ac3bce41d2a71c09150": {
     "model_module": "@jupyter-widgets/base",
     "model_name": "LayoutModel",
     "model_module_version": "1.2.0",
     "state": {
      "_model_module": "@jupyter-widgets/base",
      "_model_module_version": "1.2.0",
      "_model_name": "LayoutModel",
      "_view_count": null,
      "_view_module": "@jupyter-widgets/base",
      "_view_module_version": "1.2.0",
      "_view_name": "LayoutView",
      "align_content": null,
      "align_items": null,
      "align_self": null,
      "border": null,
      "bottom": null,
      "display": null,
      "flex": null,
      "flex_flow": null,
      "grid_area": null,
      "grid_auto_columns": null,
      "grid_auto_flow": null,
      "grid_auto_rows": null,
      "grid_column": null,
      "grid_gap": null,
      "grid_row": null,
      "grid_template_areas": null,
      "grid_template_columns": null,
      "grid_template_rows": null,
      "height": null,
      "justify_content": null,
      "justify_items": null,
      "left": null,
      "margin": null,
      "max_height": null,
      "max_width": null,
      "min_height": null,
      "min_width": null,
      "object_fit": null,
      "object_position": null,
      "order": null,
      "overflow": null,
      "overflow_x": null,
      "overflow_y": null,
      "padding": null,
      "right": null,
      "top": null,
      "visibility": null,
      "width": null
     }
    },
    "578bf27afb384aaebf272d6eb51a294f": {
     "model_module": "@jupyter-widgets/controls",
     "model_name": "DescriptionStyleModel",
     "model_module_version": "1.5.0",
     "state": {
      "_model_module": "@jupyter-widgets/controls",
      "_model_module_version": "1.5.0",
      "_model_name": "DescriptionStyleModel",
      "_view_count": null,
      "_view_module": "@jupyter-widgets/base",
      "_view_module_version": "1.2.0",
      "_view_name": "StyleView",
      "description_width": ""
     }
    },
    "7ddafa89c8b44ed38cd017d5b7baf4e8": {
     "model_module": "@jupyter-widgets/controls",
     "model_name": "HBoxModel",
     "model_module_version": "1.5.0",
     "state": {
      "_dom_classes": [],
      "_model_module": "@jupyter-widgets/controls",
      "_model_module_version": "1.5.0",
      "_model_name": "HBoxModel",
      "_view_count": null,
      "_view_module": "@jupyter-widgets/controls",
      "_view_module_version": "1.5.0",
      "_view_name": "HBoxView",
      "box_style": "",
      "children": [
       "IPY_MODEL_745a561a8fee4286b2d48b2479f44d03",
       "IPY_MODEL_08212a669b3a4b0cac0f3a779ed8c1c2",
       "IPY_MODEL_551ad53ab988476ba210f24040b1088f"
      ],
      "layout": "IPY_MODEL_b52f1e89fd1e4dbd82728c9bb2fc13bc"
     }
    },
    "745a561a8fee4286b2d48b2479f44d03": {
     "model_module": "@jupyter-widgets/controls",
     "model_name": "HTMLModel",
     "model_module_version": "1.5.0",
     "state": {
      "_dom_classes": [],
      "_model_module": "@jupyter-widgets/controls",
      "_model_module_version": "1.5.0",
      "_model_name": "HTMLModel",
      "_view_count": null,
      "_view_module": "@jupyter-widgets/controls",
      "_view_module_version": "1.5.0",
      "_view_name": "HTMLView",
      "description": "",
      "description_tooltip": null,
      "layout": "IPY_MODEL_79c545434c2e4e738b1bf7a8b262b804",
      "placeholder": "​",
      "style": "IPY_MODEL_8cb30849ca1b45718856f16963116e2c",
      "value": ""
     }
    },
    "08212a669b3a4b0cac0f3a779ed8c1c2": {
     "model_module": "@jupyter-widgets/controls",
     "model_name": "FloatProgressModel",
     "model_module_version": "1.5.0",
     "state": {
      "_dom_classes": [],
      "_model_module": "@jupyter-widgets/controls",
      "_model_module_version": "1.5.0",
      "_model_name": "FloatProgressModel",
      "_view_count": null,
      "_view_module": "@jupyter-widgets/controls",
      "_view_module_version": "1.5.0",
      "_view_name": "ProgressView",
      "bar_style": "success",
      "description": "",
      "description_tooltip": null,
      "layout": "IPY_MODEL_3a9725a08b524e37987a0a39c49e5dc4",
      "max": 10658709504,
      "min": 0,
      "orientation": "horizontal",
      "style": "IPY_MODEL_8c855250e4024e68a9efea8e984fe131",
      "value": 10658709504
     }
    },
    "551ad53ab988476ba210f24040b1088f": {
     "model_module": "@jupyter-widgets/controls",
     "model_name": "HTMLModel",
     "model_module_version": "1.5.0",
     "state": {
      "_dom_classes": [],
      "_model_module": "@jupyter-widgets/controls",
      "_model_module_version": "1.5.0",
      "_model_name": "HTMLModel",
      "_view_count": null,
      "_view_module": "@jupyter-widgets/controls",
      "_view_module_version": "1.5.0",
      "_view_name": "HTMLView",
      "description": "",
      "description_tooltip": null,
      "layout": "IPY_MODEL_796143736edb449b8f18433be720b2db",
      "placeholder": "​",
      "style": "IPY_MODEL_91fd989f80464dd389ed3f5d59e43de4",
      "value": " 10658897920/? [50:27&lt;00:00, 3806907.10Byte/s]"
     }
    },
    "b52f1e89fd1e4dbd82728c9bb2fc13bc": {
     "model_module": "@jupyter-widgets/base",
     "model_name": "LayoutModel",
     "model_module_version": "1.2.0",
     "state": {
      "_model_module": "@jupyter-widgets/base",
      "_model_module_version": "1.2.0",
      "_model_name": "LayoutModel",
      "_view_count": null,
      "_view_module": "@jupyter-widgets/base",
      "_view_module_version": "1.2.0",
      "_view_name": "LayoutView",
      "align_content": null,
      "align_items": null,
      "align_self": null,
      "border": null,
      "bottom": null,
      "display": null,
      "flex": null,
      "flex_flow": null,
      "grid_area": null,
      "grid_auto_columns": null,
      "grid_auto_flow": null,
      "grid_auto_rows": null,
      "grid_column": null,
      "grid_gap": null,
      "grid_row": null,
      "grid_template_areas": null,
      "grid_template_columns": null,
      "grid_template_rows": null,
      "height": null,
      "justify_content": null,
      "justify_items": null,
      "left": null,
      "margin": null,
      "max_height": null,
      "max_width": null,
      "min_height": null,
      "min_width": null,
      "object_fit": null,
      "object_position": null,
      "order": null,
      "overflow": null,
      "overflow_x": null,
      "overflow_y": null,
      "padding": null,
      "right": null,
      "top": null,
      "visibility": null,
      "width": null
     }
    },
    "79c545434c2e4e738b1bf7a8b262b804": {
     "model_module": "@jupyter-widgets/base",
     "model_name": "LayoutModel",
     "model_module_version": "1.2.0",
     "state": {
      "_model_module": "@jupyter-widgets/base",
      "_model_module_version": "1.2.0",
      "_model_name": "LayoutModel",
      "_view_count": null,
      "_view_module": "@jupyter-widgets/base",
      "_view_module_version": "1.2.0",
      "_view_name": "LayoutView",
      "align_content": null,
      "align_items": null,
      "align_self": null,
      "border": null,
      "bottom": null,
      "display": null,
      "flex": null,
      "flex_flow": null,
      "grid_area": null,
      "grid_auto_columns": null,
      "grid_auto_flow": null,
      "grid_auto_rows": null,
      "grid_column": null,
      "grid_gap": null,
      "grid_row": null,
      "grid_template_areas": null,
      "grid_template_columns": null,
      "grid_template_rows": null,
      "height": null,
      "justify_content": null,
      "justify_items": null,
      "left": null,
      "margin": null,
      "max_height": null,
      "max_width": null,
      "min_height": null,
      "min_width": null,
      "object_fit": null,
      "object_position": null,
      "order": null,
      "overflow": null,
      "overflow_x": null,
      "overflow_y": null,
      "padding": null,
      "right": null,
      "top": null,
      "visibility": null,
      "width": null
     }
    },
    "8cb30849ca1b45718856f16963116e2c": {
     "model_module": "@jupyter-widgets/controls",
     "model_name": "DescriptionStyleModel",
     "model_module_version": "1.5.0",
     "state": {
      "_model_module": "@jupyter-widgets/controls",
      "_model_module_version": "1.5.0",
      "_model_name": "DescriptionStyleModel",
      "_view_count": null,
      "_view_module": "@jupyter-widgets/base",
      "_view_module_version": "1.2.0",
      "_view_name": "StyleView",
      "description_width": ""
     }
    },
    "3a9725a08b524e37987a0a39c49e5dc4": {
     "model_module": "@jupyter-widgets/base",
     "model_name": "LayoutModel",
     "model_module_version": "1.2.0",
     "state": {
      "_model_module": "@jupyter-widgets/base",
      "_model_module_version": "1.2.0",
      "_model_name": "LayoutModel",
      "_view_count": null,
      "_view_module": "@jupyter-widgets/base",
      "_view_module_version": "1.2.0",
      "_view_name": "LayoutView",
      "align_content": null,
      "align_items": null,
      "align_self": null,
      "border": null,
      "bottom": null,
      "display": null,
      "flex": null,
      "flex_flow": null,
      "grid_area": null,
      "grid_auto_columns": null,
      "grid_auto_flow": null,
      "grid_auto_rows": null,
      "grid_column": null,
      "grid_gap": null,
      "grid_row": null,
      "grid_template_areas": null,
      "grid_template_columns": null,
      "grid_template_rows": null,
      "height": null,
      "justify_content": null,
      "justify_items": null,
      "left": null,
      "margin": null,
      "max_height": null,
      "max_width": null,
      "min_height": null,
      "min_width": null,
      "object_fit": null,
      "object_position": null,
      "order": null,
      "overflow": null,
      "overflow_x": null,
      "overflow_y": null,
      "padding": null,
      "right": null,
      "top": null,
      "visibility": null,
      "width": null
     }
    },
    "8c855250e4024e68a9efea8e984fe131": {
     "model_module": "@jupyter-widgets/controls",
     "model_name": "ProgressStyleModel",
     "model_module_version": "1.5.0",
     "state": {
      "_model_module": "@jupyter-widgets/controls",
      "_model_module_version": "1.5.0",
      "_model_name": "ProgressStyleModel",
      "_view_count": null,
      "_view_module": "@jupyter-widgets/base",
      "_view_module_version": "1.2.0",
      "_view_name": "StyleView",
      "bar_color": null,
      "description_width": ""
     }
    },
    "796143736edb449b8f18433be720b2db": {
     "model_module": "@jupyter-widgets/base",
     "model_name": "LayoutModel",
     "model_module_version": "1.2.0",
     "state": {
      "_model_module": "@jupyter-widgets/base",
      "_model_module_version": "1.2.0",
      "_model_name": "LayoutModel",
      "_view_count": null,
      "_view_module": "@jupyter-widgets/base",
      "_view_module_version": "1.2.0",
      "_view_name": "LayoutView",
      "align_content": null,
      "align_items": null,
      "align_self": null,
      "border": null,
      "bottom": null,
      "display": null,
      "flex": null,
      "flex_flow": null,
      "grid_area": null,
      "grid_auto_columns": null,
      "grid_auto_flow": null,
      "grid_auto_rows": null,
      "grid_column": null,
      "grid_gap": null,
      "grid_row": null,
      "grid_template_areas": null,
      "grid_template_columns": null,
      "grid_template_rows": null,
      "height": null,
      "justify_content": null,
      "justify_items": null,
      "left": null,
      "margin": null,
      "max_height": null,
      "max_width": null,
      "min_height": null,
      "min_width": null,
      "object_fit": null,
      "object_position": null,
      "order": null,
      "overflow": null,
      "overflow_x": null,
      "overflow_y": null,
      "padding": null,
      "right": null,
      "top": null,
      "visibility": null,
      "width": null
     }
    },
    "91fd989f80464dd389ed3f5d59e43de4": {
     "model_module": "@jupyter-widgets/controls",
     "model_name": "DescriptionStyleModel",
     "model_module_version": "1.5.0",
     "state": {
      "_model_module": "@jupyter-widgets/controls",
      "_model_module_version": "1.5.0",
      "_model_name": "DescriptionStyleModel",
      "_view_count": null,
      "_view_module": "@jupyter-widgets/base",
      "_view_module_version": "1.2.0",
      "_view_name": "StyleView",
      "description_width": ""
     }
    },
    "0bf281301bba4b8c8b88e7517db245ef": {
     "model_module": "@jupyter-widgets/controls",
     "model_name": "HBoxModel",
     "model_module_version": "1.5.0",
     "state": {
      "_dom_classes": [],
      "_model_module": "@jupyter-widgets/controls",
      "_model_module_version": "1.5.0",
      "_model_name": "HBoxModel",
      "_view_count": null,
      "_view_module": "@jupyter-widgets/controls",
      "_view_module_version": "1.5.0",
      "_view_name": "HBoxView",
      "box_style": "",
      "children": [
       "IPY_MODEL_255071fa8df64ec8825d27ee82605aa8",
       "IPY_MODEL_3c98a82b2e32445da75f9fd6c119076d",
       "IPY_MODEL_c81ab5bd71074f8690eac67458d1ef9b"
      ],
      "layout": "IPY_MODEL_5096ef1270b94f0abd708f3ecdaf6cf9"
     }
    },
    "255071fa8df64ec8825d27ee82605aa8": {
     "model_module": "@jupyter-widgets/controls",
     "model_name": "HTMLModel",
     "model_module_version": "1.5.0",
     "state": {
      "_dom_classes": [],
      "_model_module": "@jupyter-widgets/controls",
      "_model_module_version": "1.5.0",
      "_model_name": "HTMLModel",
      "_view_count": null,
      "_view_module": "@jupyter-widgets/controls",
      "_view_module_version": "1.5.0",
      "_view_name": "HTMLView",
      "description": "",
      "description_tooltip": null,
      "layout": "IPY_MODEL_7313629a7d8549ed80b21d3fbdfc069f",
      "placeholder": "​",
      "style": "IPY_MODEL_9ddbf1559e8245f396d3eb3f118c6aee",
      "value": "100%"
     }
    },
    "3c98a82b2e32445da75f9fd6c119076d": {
     "model_module": "@jupyter-widgets/controls",
     "model_name": "FloatProgressModel",
     "model_module_version": "1.5.0",
     "state": {
      "_dom_classes": [],
      "_model_module": "@jupyter-widgets/controls",
      "_model_module_version": "1.5.0",
      "_model_name": "FloatProgressModel",
      "_view_count": null,
      "_view_module": "@jupyter-widgets/controls",
      "_view_module_version": "1.5.0",
      "_view_name": "ProgressView",
      "bar_style": "success",
      "description": "",
      "description_tooltip": null,
      "layout": "IPY_MODEL_9e3601371a734830a44379f73375962b",
      "max": 46830571,
      "min": 0,
      "orientation": "horizontal",
      "style": "IPY_MODEL_7571a79b7b60456582cbc3bd66da749d",
      "value": 46830571
     }
    },
    "c81ab5bd71074f8690eac67458d1ef9b": {
     "model_module": "@jupyter-widgets/controls",
     "model_name": "HTMLModel",
     "model_module_version": "1.5.0",
     "state": {
      "_dom_classes": [],
      "_model_module": "@jupyter-widgets/controls",
      "_model_module_version": "1.5.0",
      "_model_name": "HTMLModel",
      "_view_count": null,
      "_view_module": "@jupyter-widgets/controls",
      "_view_module_version": "1.5.0",
      "_view_name": "HTMLView",
      "description": "",
      "description_tooltip": null,
      "layout": "IPY_MODEL_bbdfd5da36734efaaaf0ffdc18bfca62",
      "placeholder": "​",
      "style": "IPY_MODEL_2ad44bf567024e70bdb9c943c7f8c7d4",
      "value": " 44.7M/44.7M [00:00&lt;00:00, 87.5MB/s]"
     }
    },
    "5096ef1270b94f0abd708f3ecdaf6cf9": {
     "model_module": "@jupyter-widgets/base",
     "model_name": "LayoutModel",
     "model_module_version": "1.2.0",
     "state": {
      "_model_module": "@jupyter-widgets/base",
      "_model_module_version": "1.2.0",
      "_model_name": "LayoutModel",
      "_view_count": null,
      "_view_module": "@jupyter-widgets/base",
      "_view_module_version": "1.2.0",
      "_view_name": "LayoutView",
      "align_content": null,
      "align_items": null,
      "align_self": null,
      "border": null,
      "bottom": null,
      "display": null,
      "flex": null,
      "flex_flow": null,
      "grid_area": null,
      "grid_auto_columns": null,
      "grid_auto_flow": null,
      "grid_auto_rows": null,
      "grid_column": null,
      "grid_gap": null,
      "grid_row": null,
      "grid_template_areas": null,
      "grid_template_columns": null,
      "grid_template_rows": null,
      "height": null,
      "justify_content": null,
      "justify_items": null,
      "left": null,
      "margin": null,
      "max_height": null,
      "max_width": null,
      "min_height": null,
      "min_width": null,
      "object_fit": null,
      "object_position": null,
      "order": null,
      "overflow": null,
      "overflow_x": null,
      "overflow_y": null,
      "padding": null,
      "right": null,
      "top": null,
      "visibility": null,
      "width": null
     }
    },
    "7313629a7d8549ed80b21d3fbdfc069f": {
     "model_module": "@jupyter-widgets/base",
     "model_name": "LayoutModel",
     "model_module_version": "1.2.0",
     "state": {
      "_model_module": "@jupyter-widgets/base",
      "_model_module_version": "1.2.0",
      "_model_name": "LayoutModel",
      "_view_count": null,
      "_view_module": "@jupyter-widgets/base",
      "_view_module_version": "1.2.0",
      "_view_name": "LayoutView",
      "align_content": null,
      "align_items": null,
      "align_self": null,
      "border": null,
      "bottom": null,
      "display": null,
      "flex": null,
      "flex_flow": null,
      "grid_area": null,
      "grid_auto_columns": null,
      "grid_auto_flow": null,
      "grid_auto_rows": null,
      "grid_column": null,
      "grid_gap": null,
      "grid_row": null,
      "grid_template_areas": null,
      "grid_template_columns": null,
      "grid_template_rows": null,
      "height": null,
      "justify_content": null,
      "justify_items": null,
      "left": null,
      "margin": null,
      "max_height": null,
      "max_width": null,
      "min_height": null,
      "min_width": null,
      "object_fit": null,
      "object_position": null,
      "order": null,
      "overflow": null,
      "overflow_x": null,
      "overflow_y": null,
      "padding": null,
      "right": null,
      "top": null,
      "visibility": null,
      "width": null
     }
    },
    "9ddbf1559e8245f396d3eb3f118c6aee": {
     "model_module": "@jupyter-widgets/controls",
     "model_name": "DescriptionStyleModel",
     "model_module_version": "1.5.0",
     "state": {
      "_model_module": "@jupyter-widgets/controls",
      "_model_module_version": "1.5.0",
      "_model_name": "DescriptionStyleModel",
      "_view_count": null,
      "_view_module": "@jupyter-widgets/base",
      "_view_module_version": "1.2.0",
      "_view_name": "StyleView",
      "description_width": ""
     }
    },
    "9e3601371a734830a44379f73375962b": {
     "model_module": "@jupyter-widgets/base",
     "model_name": "LayoutModel",
     "model_module_version": "1.2.0",
     "state": {
      "_model_module": "@jupyter-widgets/base",
      "_model_module_version": "1.2.0",
      "_model_name": "LayoutModel",
      "_view_count": null,
      "_view_module": "@jupyter-widgets/base",
      "_view_module_version": "1.2.0",
      "_view_name": "LayoutView",
      "align_content": null,
      "align_items": null,
      "align_self": null,
      "border": null,
      "bottom": null,
      "display": null,
      "flex": null,
      "flex_flow": null,
      "grid_area": null,
      "grid_auto_columns": null,
      "grid_auto_flow": null,
      "grid_auto_rows": null,
      "grid_column": null,
      "grid_gap": null,
      "grid_row": null,
      "grid_template_areas": null,
      "grid_template_columns": null,
      "grid_template_rows": null,
      "height": null,
      "justify_content": null,
      "justify_items": null,
      "left": null,
      "margin": null,
      "max_height": null,
      "max_width": null,
      "min_height": null,
      "min_width": null,
      "object_fit": null,
      "object_position": null,
      "order": null,
      "overflow": null,
      "overflow_x": null,
      "overflow_y": null,
      "padding": null,
      "right": null,
      "top": null,
      "visibility": null,
      "width": null
     }
    },
    "7571a79b7b60456582cbc3bd66da749d": {
     "model_module": "@jupyter-widgets/controls",
     "model_name": "ProgressStyleModel",
     "model_module_version": "1.5.0",
     "state": {
      "_model_module": "@jupyter-widgets/controls",
      "_model_module_version": "1.5.0",
      "_model_name": "ProgressStyleModel",
      "_view_count": null,
      "_view_module": "@jupyter-widgets/base",
      "_view_module_version": "1.2.0",
      "_view_name": "StyleView",
      "bar_color": null,
      "description_width": ""
     }
    },
    "bbdfd5da36734efaaaf0ffdc18bfca62": {
     "model_module": "@jupyter-widgets/base",
     "model_name": "LayoutModel",
     "model_module_version": "1.2.0",
     "state": {
      "_model_module": "@jupyter-widgets/base",
      "_model_module_version": "1.2.0",
      "_model_name": "LayoutModel",
      "_view_count": null,
      "_view_module": "@jupyter-widgets/base",
      "_view_module_version": "1.2.0",
      "_view_name": "LayoutView",
      "align_content": null,
      "align_items": null,
      "align_self": null,
      "border": null,
      "bottom": null,
      "display": null,
      "flex": null,
      "flex_flow": null,
      "grid_area": null,
      "grid_auto_columns": null,
      "grid_auto_flow": null,
      "grid_auto_rows": null,
      "grid_column": null,
      "grid_gap": null,
      "grid_row": null,
      "grid_template_areas": null,
      "grid_template_columns": null,
      "grid_template_rows": null,
      "height": null,
      "justify_content": null,
      "justify_items": null,
      "left": null,
      "margin": null,
      "max_height": null,
      "max_width": null,
      "min_height": null,
      "min_width": null,
      "object_fit": null,
      "object_position": null,
      "order": null,
      "overflow": null,
      "overflow_x": null,
      "overflow_y": null,
      "padding": null,
      "right": null,
      "top": null,
      "visibility": null,
      "width": null
     }
    },
    "2ad44bf567024e70bdb9c943c7f8c7d4": {
     "model_module": "@jupyter-widgets/controls",
     "model_name": "DescriptionStyleModel",
     "model_module_version": "1.5.0",
     "state": {
      "_model_module": "@jupyter-widgets/controls",
      "_model_module_version": "1.5.0",
      "_model_name": "DescriptionStyleModel",
      "_view_count": null,
      "_view_module": "@jupyter-widgets/base",
      "_view_module_version": "1.2.0",
      "_view_name": "StyleView",
      "description_width": ""
     }
    }
   }
  }
 },
 "nbformat": 4,
 "nbformat_minor": 0
}